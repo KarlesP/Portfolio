{
 "cells": [
  {
   "cell_type": "code",
   "execution_count": 141,
   "metadata": {},
   "outputs": [],
   "source": [
    "import os\n",
    "import pandas as pd\n",
    "import numpy as np"
   ]
  },
  {
   "cell_type": "code",
   "execution_count": 142,
   "metadata": {},
   "outputs": [],
   "source": [
    "data_df = pd.read_csv(\"forest_surfaces_romania.csv\")"
   ]
  },
  {
   "cell_type": "code",
   "execution_count": 143,
   "metadata": {},
   "outputs": [
    {
     "data": {
      "text/html": [
       "<div>\n",
       "<style scoped>\n",
       "    .dataframe tbody tr th:only-of-type {\n",
       "        vertical-align: middle;\n",
       "    }\n",
       "\n",
       "    .dataframe tbody tr th {\n",
       "        vertical-align: top;\n",
       "    }\n",
       "\n",
       "    .dataframe thead th {\n",
       "        text-align: right;\n",
       "    }\n",
       "</style>\n",
       "<table border=\"1\" class=\"dataframe\">\n",
       "  <thead>\n",
       "    <tr style=\"text-align: right;\">\n",
       "      <th></th>\n",
       "      <th>Categorii de terenuri si specii de paduri</th>\n",
       "      <th>Macroregiuni  regiuni de dezvoltare si judete</th>\n",
       "      <th>Ani</th>\n",
       "      <th>UM: Mii hectare</th>\n",
       "      <th>Valoare</th>\n",
       "    </tr>\n",
       "  </thead>\n",
       "  <tbody>\n",
       "    <tr>\n",
       "      <td>0</td>\n",
       "      <td>Total</td>\n",
       "      <td>TOTAL</td>\n",
       "      <td>Anul 1990</td>\n",
       "      <td>Mii hectare</td>\n",
       "      <td>6371.0</td>\n",
       "    </tr>\n",
       "    <tr>\n",
       "      <td>1</td>\n",
       "      <td>Total</td>\n",
       "      <td>TOTAL</td>\n",
       "      <td>Anul 1991</td>\n",
       "      <td>Mii hectare</td>\n",
       "      <td>6367.6</td>\n",
       "    </tr>\n",
       "    <tr>\n",
       "      <td>2</td>\n",
       "      <td>Total</td>\n",
       "      <td>TOTAL</td>\n",
       "      <td>Anul 1992</td>\n",
       "      <td>Mii hectare</td>\n",
       "      <td>6368.2</td>\n",
       "    </tr>\n",
       "    <tr>\n",
       "      <td>3</td>\n",
       "      <td>Total</td>\n",
       "      <td>TOTAL</td>\n",
       "      <td>Anul 1993</td>\n",
       "      <td>Mii hectare</td>\n",
       "      <td>6366.9</td>\n",
       "    </tr>\n",
       "    <tr>\n",
       "      <td>4</td>\n",
       "      <td>Total</td>\n",
       "      <td>TOTAL</td>\n",
       "      <td>Anul 1994</td>\n",
       "      <td>Mii hectare</td>\n",
       "      <td>6369.0</td>\n",
       "    </tr>\n",
       "  </tbody>\n",
       "</table>\n",
       "</div>"
      ],
      "text/plain": [
       "  Categorii de terenuri si specii de paduri  \\\n",
       "0                                     Total   \n",
       "1                                     Total   \n",
       "2                                     Total   \n",
       "3                                     Total   \n",
       "4                                     Total   \n",
       "\n",
       "   Macroregiuni  regiuni de dezvoltare si judete         Ani  UM: Mii hectare  \\\n",
       "0                                          TOTAL   Anul 1990      Mii hectare   \n",
       "1                                          TOTAL   Anul 1991      Mii hectare   \n",
       "2                                          TOTAL   Anul 1992      Mii hectare   \n",
       "3                                          TOTAL   Anul 1993      Mii hectare   \n",
       "4                                          TOTAL   Anul 1994      Mii hectare   \n",
       "\n",
       "    Valoare  \n",
       "0    6371.0  \n",
       "1    6367.6  \n",
       "2    6368.2  \n",
       "3    6366.9  \n",
       "4    6369.0  "
      ]
     },
     "execution_count": 143,
     "metadata": {},
     "output_type": "execute_result"
    }
   ],
   "source": [
    "data_df.head()"
   ]
  },
  {
   "cell_type": "code",
   "execution_count": 144,
   "metadata": {},
   "outputs": [
    {
     "data": {
      "text/plain": [
       "(8111, 5)"
      ]
     },
     "execution_count": 144,
     "metadata": {},
     "output_type": "execute_result"
    }
   ],
   "source": [
    "data_df.shape"
   ]
  },
  {
   "cell_type": "code",
   "execution_count": 145,
   "metadata": {},
   "outputs": [],
   "source": [
    "data_df.columns = [\"Category\", \"Region\", \"Year\", \"Unit\", \"Value\"]"
   ]
  },
  {
   "cell_type": "code",
   "execution_count": 146,
   "metadata": {},
   "outputs": [
    {
     "data": {
      "text/html": [
       "<div>\n",
       "<style scoped>\n",
       "    .dataframe tbody tr th:only-of-type {\n",
       "        vertical-align: middle;\n",
       "    }\n",
       "\n",
       "    .dataframe tbody tr th {\n",
       "        vertical-align: top;\n",
       "    }\n",
       "\n",
       "    .dataframe thead th {\n",
       "        text-align: right;\n",
       "    }\n",
       "</style>\n",
       "<table border=\"1\" class=\"dataframe\">\n",
       "  <thead>\n",
       "    <tr style=\"text-align: right;\">\n",
       "      <th></th>\n",
       "      <th>Category</th>\n",
       "      <th>Region</th>\n",
       "      <th>Year</th>\n",
       "      <th>Unit</th>\n",
       "      <th>Value</th>\n",
       "    </tr>\n",
       "  </thead>\n",
       "  <tbody>\n",
       "    <tr>\n",
       "      <td>0</td>\n",
       "      <td>Total</td>\n",
       "      <td>TOTAL</td>\n",
       "      <td>Anul 1990</td>\n",
       "      <td>Mii hectare</td>\n",
       "      <td>6371.0</td>\n",
       "    </tr>\n",
       "    <tr>\n",
       "      <td>1</td>\n",
       "      <td>Total</td>\n",
       "      <td>TOTAL</td>\n",
       "      <td>Anul 1991</td>\n",
       "      <td>Mii hectare</td>\n",
       "      <td>6367.6</td>\n",
       "    </tr>\n",
       "    <tr>\n",
       "      <td>2</td>\n",
       "      <td>Total</td>\n",
       "      <td>TOTAL</td>\n",
       "      <td>Anul 1992</td>\n",
       "      <td>Mii hectare</td>\n",
       "      <td>6368.2</td>\n",
       "    </tr>\n",
       "    <tr>\n",
       "      <td>3</td>\n",
       "      <td>Total</td>\n",
       "      <td>TOTAL</td>\n",
       "      <td>Anul 1993</td>\n",
       "      <td>Mii hectare</td>\n",
       "      <td>6366.9</td>\n",
       "    </tr>\n",
       "    <tr>\n",
       "      <td>4</td>\n",
       "      <td>Total</td>\n",
       "      <td>TOTAL</td>\n",
       "      <td>Anul 1994</td>\n",
       "      <td>Mii hectare</td>\n",
       "      <td>6369.0</td>\n",
       "    </tr>\n",
       "  </tbody>\n",
       "</table>\n",
       "</div>"
      ],
      "text/plain": [
       "  Category  Region        Year          Unit   Value\n",
       "0    Total   TOTAL   Anul 1990   Mii hectare  6371.0\n",
       "1    Total   TOTAL   Anul 1991   Mii hectare  6367.6\n",
       "2    Total   TOTAL   Anul 1992   Mii hectare  6368.2\n",
       "3    Total   TOTAL   Anul 1993   Mii hectare  6366.9\n",
       "4    Total   TOTAL   Anul 1994   Mii hectare  6369.0"
      ]
     },
     "execution_count": 146,
     "metadata": {},
     "output_type": "execute_result"
    }
   ],
   "source": [
    "data_df.head()"
   ]
  },
  {
   "cell_type": "code",
   "execution_count": 147,
   "metadata": {},
   "outputs": [
    {
     "data": {
      "text/plain": [
       "array(['Total', 'Suprafata padurilor', 'Rasinoase', 'Foioase',\n",
       "       'Alte terenuri'], dtype=object)"
      ]
     },
     "execution_count": 147,
     "metadata": {},
     "output_type": "execute_result"
    }
   ],
   "source": [
    "data_df.Category.unique()"
   ]
  },
  {
   "cell_type": "code",
   "execution_count": 148,
   "metadata": {},
   "outputs": [
    {
     "data": {
      "text/plain": [
       "array([' TOTAL', ' MACROREGIUNEA UNU', ' Regiunea NORD-VEST', ' Bihor',\n",
       "       ' Bistrita-Nasaud', ' Cluj', ' Maramures', ' Satu Mare', ' Salaj',\n",
       "       ' Regiunea CENTRU', ' Alba', ' Brasov', ' Covasna', ' Harghita',\n",
       "       ' Mures', ' Sibiu', ' MACROREGIUNEA DOI', ' Regiunea NORD-EST',\n",
       "       ' Bacau', ' Botosani', ' Iasi', ' Neamt', ' Suceava', ' Vaslui',\n",
       "       ' Regiunea SUD-EST', ' Braila', ' Buzau', ' Constanta', ' Galati',\n",
       "       ' Tulcea', ' Vrancea', ' MACROREGIUNEA TREI',\n",
       "       ' Regiunea SUD-MUNTENIA', ' Arges', ' Calarasi', ' Dambovita',\n",
       "       ' Giurgiu', ' Ialomita', ' Prahova', ' Teleorman',\n",
       "       ' Regiunea BUCURESTI - ILFOV', ' Ilfov', ' Municipiul Bucuresti',\n",
       "       ' MACROREGIUNEA PATRU', ' Regiunea SUD-VEST OLTENIA', ' Dolj',\n",
       "       ' Gorj', ' Mehedinti', ' Olt', ' Valcea', ' Regiunea VEST',\n",
       "       ' Arad', ' Caras-Severin', ' Hunedoara', ' Timis'], dtype=object)"
      ]
     },
     "execution_count": 148,
     "metadata": {},
     "output_type": "execute_result"
    }
   ],
   "source": [
    "data_df.Region.unique()"
   ]
  },
  {
   "cell_type": "code",
   "execution_count": 149,
   "metadata": {},
   "outputs": [
    {
     "data": {
      "text/plain": [
       "array([' Anul 1990', ' Anul 1991', ' Anul 1992', ' Anul 1993',\n",
       "       ' Anul 1994', ' Anul 1995', ' Anul 1996', ' Anul 1997',\n",
       "       ' Anul 1998', ' Anul 1999', ' Anul 2000', ' Anul 2001',\n",
       "       ' Anul 2002', ' Anul 2003', ' Anul 2004', ' Anul 2005',\n",
       "       ' Anul 2006', ' Anul 2007', ' Anul 2008', ' Anul 2009',\n",
       "       ' Anul 2010', ' Anul 2011', ' Anul 2012', ' Anul 2013',\n",
       "       ' Anul 2014', ' Anul 2015', ' Anul 2016', ' Anul 2017',\n",
       "       ' Anul 2018', ' Anul 2019'], dtype=object)"
      ]
     },
     "execution_count": 149,
     "metadata": {},
     "output_type": "execute_result"
    }
   ],
   "source": [
    "data_df.Year.unique()"
   ]
  },
  {
   "cell_type": "code",
   "execution_count": 150,
   "metadata": {},
   "outputs": [],
   "source": [
    "data_df[\"Year\"] = data_df[\"Year\"].apply(lambda x: x.replace(\"Anul \", \"\"))\n",
    "data_df[\"Year\"] = data_df[\"Year\"].apply(lambda x: x.replace(\" \", \"\"))\n",
    "data_df[\"Year\"] = data_df[\"Year\"].apply(lambda x: int(x))"
   ]
  },
  {
   "cell_type": "code",
   "execution_count": 151,
   "metadata": {},
   "outputs": [
    {
     "data": {
      "text/plain": [
       "array([1990, 1991, 1992, 1993, 1994, 1995, 1996, 1997, 1998, 1999, 2000,\n",
       "       2001, 2002, 2003, 2004, 2005, 2006, 2007, 2008, 2009, 2010, 2011,\n",
       "       2012, 2013, 2014, 2015, 2016, 2017, 2018, 2019], dtype=int64)"
      ]
     },
     "execution_count": 151,
     "metadata": {},
     "output_type": "execute_result"
    }
   ],
   "source": [
    "data_df.Year.unique()"
   ]
  },
  {
   "cell_type": "code",
   "execution_count": 152,
   "metadata": {},
   "outputs": [],
   "source": [
    "data_df[\"Unit\"] = data_df[\"Unit\"].apply(lambda x: x.replace(\"Mii hectare\", \"Thousands hectares\"))"
   ]
  },
  {
   "cell_type": "code",
   "execution_count": 153,
   "metadata": {},
   "outputs": [
    {
     "data": {
      "text/plain": [
       "array([' Thousands hectares'], dtype=object)"
      ]
     },
     "execution_count": 153,
     "metadata": {},
     "output_type": "execute_result"
    }
   ],
   "source": [
    "data_df.Unit.unique()"
   ]
  },
  {
   "cell_type": "code",
   "execution_count": 154,
   "metadata": {},
   "outputs": [],
   "source": [
    "region_list = [\n",
    "    [' MACROREGIUNEA UNU', 'Macroregion One'],\n",
    "    [' Regiunea NORD-VEST', 'Region North-West'],\n",
    "    [' Regiunea CENTRU', 'Region Center'],\n",
    "    [' Regiunea NORD-EST', 'Region North-East'],\n",
    "    [' Regiunea SUD-EST', 'Region South-East'],\n",
    "    [' MACROREGIUNEA TREI', 'Macroregion Three'],\n",
    "    [' Regiunea SUD-MUNTENIA', 'Region South-Muntenia'],\n",
    "    [' Regiunea BUCURESTI - ILFOV', 'Region Bucuresti-Ilfov'],\n",
    "    [' Municipiul Bucuresti', 'Bucuresti'],\n",
    "    [' MACROREGIUNEA PATRU', 'Macroregion Four'],\n",
    "    [' Regiunea SUD-VEST OLTENIA', 'Region South-West Oltenia'],\n",
    "    [' Regiunea VEST', 'Region West']\n",
    "]"
   ]
  },
  {
   "cell_type": "code",
   "execution_count": 155,
   "metadata": {},
   "outputs": [],
   "source": [
    "data_df[\"Region\"] = data_df[\"Region\"].apply(lambda x: x.lstrip(\" \"))\n",
    "data_df[\"Region\"] = data_df[\"Region\"].apply(lambda x: x.replace(\"Municipiul Bucuresti\", \"Bucuresti\"))"
   ]
  },
  {
   "cell_type": "code",
   "execution_count": 156,
   "metadata": {},
   "outputs": [
    {
     "data": {
      "text/plain": [
       "array(['TOTAL', 'MACROREGIUNEA UNU', 'Regiunea NORD-VEST', 'Bihor',\n",
       "       'Bistrita-Nasaud', 'Cluj', 'Maramures', 'Satu Mare', 'Salaj',\n",
       "       'Regiunea CENTRU', 'Alba', 'Brasov', 'Covasna', 'Harghita',\n",
       "       'Mures', 'Sibiu', 'MACROREGIUNEA DOI', 'Regiunea NORD-EST',\n",
       "       'Bacau', 'Botosani', 'Iasi', 'Neamt', 'Suceava', 'Vaslui',\n",
       "       'Regiunea SUD-EST', 'Braila', 'Buzau', 'Constanta', 'Galati',\n",
       "       'Tulcea', 'Vrancea', 'MACROREGIUNEA TREI', 'Regiunea SUD-MUNTENIA',\n",
       "       'Arges', 'Calarasi', 'Dambovita', 'Giurgiu', 'Ialomita', 'Prahova',\n",
       "       'Teleorman', 'Regiunea BUCURESTI - ILFOV', 'Ilfov', 'Bucuresti',\n",
       "       'MACROREGIUNEA PATRU', 'Regiunea SUD-VEST OLTENIA', 'Dolj', 'Gorj',\n",
       "       'Mehedinti', 'Olt', 'Valcea', 'Regiunea VEST', 'Arad',\n",
       "       'Caras-Severin', 'Hunedoara', 'Timis'], dtype=object)"
      ]
     },
     "execution_count": 156,
     "metadata": {},
     "output_type": "execute_result"
    }
   ],
   "source": [
    "data_df.Region.unique()"
   ]
  },
  {
   "cell_type": "code",
   "execution_count": 157,
   "metadata": {},
   "outputs": [],
   "source": [
    "data_df[\"Category\"] = data_df[\"Category\"].apply(lambda x: x.replace(\"Suprafata padurilor\", \"Wood\"))\n",
    "data_df[\"Category\"] = data_df[\"Category\"].apply(lambda x: x.replace(\"Rasinoase\", \"Softwood\"))\n",
    "data_df[\"Category\"] = data_df[\"Category\"].apply(lambda x: x.replace(\"Foioase\", \"Hardwood\"))\n",
    "data_df[\"Category\"] = data_df[\"Category\"].apply(lambda x: x.replace(\"Alte terenuri\", \"Others\"))"
   ]
  },
  {
   "cell_type": "code",
   "execution_count": 158,
   "metadata": {},
   "outputs": [
    {
     "data": {
      "text/plain": [
       "array(['Total', 'Wood', 'Softwood', 'Hardwood', 'Others'], dtype=object)"
      ]
     },
     "execution_count": 158,
     "metadata": {},
     "output_type": "execute_result"
    }
   ],
   "source": [
    "data_df.Category.unique()"
   ]
  },
  {
   "cell_type": "code",
   "execution_count": 159,
   "metadata": {},
   "outputs": [
    {
     "data": {
      "text/html": [
       "<div>\n",
       "<style scoped>\n",
       "    .dataframe tbody tr th:only-of-type {\n",
       "        vertical-align: middle;\n",
       "    }\n",
       "\n",
       "    .dataframe tbody tr th {\n",
       "        vertical-align: top;\n",
       "    }\n",
       "\n",
       "    .dataframe thead th {\n",
       "        text-align: right;\n",
       "    }\n",
       "</style>\n",
       "<table border=\"1\" class=\"dataframe\">\n",
       "  <thead>\n",
       "    <tr style=\"text-align: right;\">\n",
       "      <th></th>\n",
       "      <th>Category</th>\n",
       "      <th>Region</th>\n",
       "      <th>Year</th>\n",
       "      <th>Unit</th>\n",
       "      <th>Value</th>\n",
       "    </tr>\n",
       "  </thead>\n",
       "  <tbody>\n",
       "    <tr>\n",
       "      <td>0</td>\n",
       "      <td>Total</td>\n",
       "      <td>TOTAL</td>\n",
       "      <td>1990</td>\n",
       "      <td>Thousands hectares</td>\n",
       "      <td>6371.0</td>\n",
       "    </tr>\n",
       "    <tr>\n",
       "      <td>1</td>\n",
       "      <td>Total</td>\n",
       "      <td>TOTAL</td>\n",
       "      <td>1991</td>\n",
       "      <td>Thousands hectares</td>\n",
       "      <td>6367.6</td>\n",
       "    </tr>\n",
       "    <tr>\n",
       "      <td>2</td>\n",
       "      <td>Total</td>\n",
       "      <td>TOTAL</td>\n",
       "      <td>1992</td>\n",
       "      <td>Thousands hectares</td>\n",
       "      <td>6368.2</td>\n",
       "    </tr>\n",
       "    <tr>\n",
       "      <td>3</td>\n",
       "      <td>Total</td>\n",
       "      <td>TOTAL</td>\n",
       "      <td>1993</td>\n",
       "      <td>Thousands hectares</td>\n",
       "      <td>6366.9</td>\n",
       "    </tr>\n",
       "    <tr>\n",
       "      <td>4</td>\n",
       "      <td>Total</td>\n",
       "      <td>TOTAL</td>\n",
       "      <td>1994</td>\n",
       "      <td>Thousands hectares</td>\n",
       "      <td>6369.0</td>\n",
       "    </tr>\n",
       "    <tr>\n",
       "      <td>5</td>\n",
       "      <td>Total</td>\n",
       "      <td>TOTAL</td>\n",
       "      <td>1995</td>\n",
       "      <td>Thousands hectares</td>\n",
       "      <td>6368.8</td>\n",
       "    </tr>\n",
       "    <tr>\n",
       "      <td>6</td>\n",
       "      <td>Total</td>\n",
       "      <td>TOTAL</td>\n",
       "      <td>1996</td>\n",
       "      <td>Thousands hectares</td>\n",
       "      <td>6365.7</td>\n",
       "    </tr>\n",
       "    <tr>\n",
       "      <td>7</td>\n",
       "      <td>Total</td>\n",
       "      <td>TOTAL</td>\n",
       "      <td>1997</td>\n",
       "      <td>Thousands hectares</td>\n",
       "      <td>6367.3</td>\n",
       "    </tr>\n",
       "    <tr>\n",
       "      <td>8</td>\n",
       "      <td>Total</td>\n",
       "      <td>TOTAL</td>\n",
       "      <td>1998</td>\n",
       "      <td>Thousands hectares</td>\n",
       "      <td>6367.1</td>\n",
       "    </tr>\n",
       "    <tr>\n",
       "      <td>9</td>\n",
       "      <td>Total</td>\n",
       "      <td>TOTAL</td>\n",
       "      <td>1999</td>\n",
       "      <td>Thousands hectares</td>\n",
       "      <td>6367.3</td>\n",
       "    </tr>\n",
       "  </tbody>\n",
       "</table>\n",
       "</div>"
      ],
      "text/plain": [
       "  Category Region  Year                 Unit   Value\n",
       "0    Total  TOTAL  1990   Thousands hectares  6371.0\n",
       "1    Total  TOTAL  1991   Thousands hectares  6367.6\n",
       "2    Total  TOTAL  1992   Thousands hectares  6368.2\n",
       "3    Total  TOTAL  1993   Thousands hectares  6366.9\n",
       "4    Total  TOTAL  1994   Thousands hectares  6369.0\n",
       "5    Total  TOTAL  1995   Thousands hectares  6368.8\n",
       "6    Total  TOTAL  1996   Thousands hectares  6365.7\n",
       "7    Total  TOTAL  1997   Thousands hectares  6367.3\n",
       "8    Total  TOTAL  1998   Thousands hectares  6367.1\n",
       "9    Total  TOTAL  1999   Thousands hectares  6367.3"
      ]
     },
     "execution_count": 159,
     "metadata": {},
     "output_type": "execute_result"
    }
   ],
   "source": [
    "data_df.head(10)"
   ]
  },
  {
   "cell_type": "code",
   "execution_count": 160,
   "metadata": {},
   "outputs": [
    {
     "data": {
      "text/html": [
       "<div>\n",
       "<style scoped>\n",
       "    .dataframe tbody tr th:only-of-type {\n",
       "        vertical-align: middle;\n",
       "    }\n",
       "\n",
       "    .dataframe tbody tr th {\n",
       "        vertical-align: top;\n",
       "    }\n",
       "\n",
       "    .dataframe thead th {\n",
       "        text-align: right;\n",
       "    }\n",
       "</style>\n",
       "<table border=\"1\" class=\"dataframe\">\n",
       "  <thead>\n",
       "    <tr style=\"text-align: right;\">\n",
       "      <th></th>\n",
       "      <th>Category</th>\n",
       "      <th>Region</th>\n",
       "      <th>Year</th>\n",
       "      <th>Unit</th>\n",
       "      <th>Value</th>\n",
       "    </tr>\n",
       "  </thead>\n",
       "  <tbody>\n",
       "    <tr>\n",
       "      <td>8101</td>\n",
       "      <td>Others</td>\n",
       "      <td>Timis</td>\n",
       "      <td>2010</td>\n",
       "      <td>Thousands hectares</td>\n",
       "      <td>2.1</td>\n",
       "    </tr>\n",
       "    <tr>\n",
       "      <td>8102</td>\n",
       "      <td>Others</td>\n",
       "      <td>Timis</td>\n",
       "      <td>2011</td>\n",
       "      <td>Thousands hectares</td>\n",
       "      <td>2.0</td>\n",
       "    </tr>\n",
       "    <tr>\n",
       "      <td>8103</td>\n",
       "      <td>Others</td>\n",
       "      <td>Timis</td>\n",
       "      <td>2012</td>\n",
       "      <td>Thousands hectares</td>\n",
       "      <td>1.9</td>\n",
       "    </tr>\n",
       "    <tr>\n",
       "      <td>8104</td>\n",
       "      <td>Others</td>\n",
       "      <td>Timis</td>\n",
       "      <td>2013</td>\n",
       "      <td>Thousands hectares</td>\n",
       "      <td>2.0</td>\n",
       "    </tr>\n",
       "    <tr>\n",
       "      <td>8105</td>\n",
       "      <td>Others</td>\n",
       "      <td>Timis</td>\n",
       "      <td>2014</td>\n",
       "      <td>Thousands hectares</td>\n",
       "      <td>1.9</td>\n",
       "    </tr>\n",
       "    <tr>\n",
       "      <td>8106</td>\n",
       "      <td>Others</td>\n",
       "      <td>Timis</td>\n",
       "      <td>2015</td>\n",
       "      <td>Thousands hectares</td>\n",
       "      <td>1.9</td>\n",
       "    </tr>\n",
       "    <tr>\n",
       "      <td>8107</td>\n",
       "      <td>Others</td>\n",
       "      <td>Timis</td>\n",
       "      <td>2016</td>\n",
       "      <td>Thousands hectares</td>\n",
       "      <td>1.9</td>\n",
       "    </tr>\n",
       "    <tr>\n",
       "      <td>8108</td>\n",
       "      <td>Others</td>\n",
       "      <td>Timis</td>\n",
       "      <td>2017</td>\n",
       "      <td>Thousands hectares</td>\n",
       "      <td>1.9</td>\n",
       "    </tr>\n",
       "    <tr>\n",
       "      <td>8109</td>\n",
       "      <td>Others</td>\n",
       "      <td>Timis</td>\n",
       "      <td>2018</td>\n",
       "      <td>Thousands hectares</td>\n",
       "      <td>1.9</td>\n",
       "    </tr>\n",
       "    <tr>\n",
       "      <td>8110</td>\n",
       "      <td>Others</td>\n",
       "      <td>Timis</td>\n",
       "      <td>2019</td>\n",
       "      <td>Thousands hectares</td>\n",
       "      <td>2.0</td>\n",
       "    </tr>\n",
       "  </tbody>\n",
       "</table>\n",
       "</div>"
      ],
      "text/plain": [
       "     Category Region  Year                 Unit  Value\n",
       "8101   Others  Timis  2010   Thousands hectares    2.1\n",
       "8102   Others  Timis  2011   Thousands hectares    2.0\n",
       "8103   Others  Timis  2012   Thousands hectares    1.9\n",
       "8104   Others  Timis  2013   Thousands hectares    2.0\n",
       "8105   Others  Timis  2014   Thousands hectares    1.9\n",
       "8106   Others  Timis  2015   Thousands hectares    1.9\n",
       "8107   Others  Timis  2016   Thousands hectares    1.9\n",
       "8108   Others  Timis  2017   Thousands hectares    1.9\n",
       "8109   Others  Timis  2018   Thousands hectares    1.9\n",
       "8110   Others  Timis  2019   Thousands hectares    2.0"
      ]
     },
     "execution_count": 160,
     "metadata": {},
     "output_type": "execute_result"
    }
   ],
   "source": [
    "data_df.tail(10)"
   ]
  },
  {
   "cell_type": "code",
   "execution_count": 161,
   "metadata": {},
   "outputs": [],
   "source": [
    "data_df.to_csv(\"forest_surfaces_romania_en_1990_2019.csv\", index=False)"
   ]
  },
  {
   "cell_type": "code",
   "execution_count": null,
   "metadata": {},
   "outputs": [],
   "source": []
  }
 ],
 "metadata": {
  "kernelspec": {
   "display_name": "Python 3",
   "language": "python",
   "name": "python3"
  },
  "language_info": {
   "codemirror_mode": {
    "name": "ipython",
    "version": 3
   },
   "file_extension": ".py",
   "mimetype": "text/x-python",
   "name": "python",
   "nbconvert_exporter": "python",
   "pygments_lexer": "ipython3",
   "version": "3.7.4"
  }
 },
 "nbformat": 4,
 "nbformat_minor": 2
}
