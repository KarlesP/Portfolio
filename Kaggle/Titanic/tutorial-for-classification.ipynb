{
 "cells": [
  {
   "cell_type": "markdown",
   "metadata": {},
   "source": [
    "<h1><center><font size=\"6\">Tutorial for Classification</font></center></h1>\n",
    "\n",
    "<h2><center><font size=\"4\">Dataset used: Titanic - Machine Learning from Disaster</font></center></h2>\n",
    "\n",
    "<br>\n",
    "\n",
    "<img src=\"https://upload.wikimedia.org/wikipedia/commons/thumb/f/fd/RMS_Titanic_3.jpg/640px-RMS_Titanic_3.jpg\" width=\"450\"></img>"
   ]
  },
  {
   "cell_type": "code",
   "execution_count": 1,
   "metadata": {
    "_kg_hide-input": true
   },
   "outputs": [
    {
     "name": "stdout",
     "output_type": "stream",
     "text": [
      "Last updated:\n",
      "2020-02-09 09:20\n"
     ]
    }
   ],
   "source": [
    "import datetime\n",
    "print(\"Last updated:\")\n",
    "print(datetime.datetime.now().strftime(\"%Y-%m-%d %H:%M\"))"
   ]
  },
  {
   "cell_type": "markdown",
   "metadata": {
    "_uuid": "7f8c8e161894460c1b704a60c0d5e1d215dab648"
   },
   "source": [
    "\n",
    "\n",
    "# <a id='0'>Content</a>\n",
    "\n",
    "- <a href='#1'>Introduction</a>  \n",
    "- <a href='#2'>Prepare the data analysis</a>  \n",
    " - <a href='#21'>Load packages</a>  \n",
    " - <a href='#22'>Load the data</a>   \n",
    "- <a href='#3'>Data exploration</a>   \n",
    " - <a href='#31'>Check for missing data</a>  \n",
    " - <a href='#32'>Sex, Age, SibSp, Parch</a>   \n",
    " - <a href='#33'>Fare, Embarked, Pclass</a>  \n",
    " - <a href='#34'>Ticket, Cabin, Name</a>   \n",
    " - <a href='#35'>Multiple features visualization</a>   \n",
    " - <a href='#36'>Imputation of missing data</a>   \n",
    "- <a href='#4'>Feature engineering</a>\n",
    " - <a href='#41'>Extract Title from Name</a>\n",
    " - <a href='#42'>Build families</a>\n",
    " - <a href='#43'>Extract Deck from Ticket</a>  \n",
    " - <a href='#44'>Estimate age</a>  \n",
    " - <a href='#45'>More features engineering</a>  \n",
    "- <a href='#5'>Predictive model for survival</a>\n",
    " - <a href='#50'>Split the data</a>  \n",
    " - <a href='#51'>Build a baseline model</a>  \n",
    " - <a href='#52'>Model evaluation</a>    \n",
    " - <a href='#53'>Model refinement</a> \n",
    " - <a href='#54'>Submission</a>  \n",
    " - <a href='#55'>Hyperparameters optimization</a>\n",
    " - <a href='#56'>Submission (model with hyperparameters optimization)</a>  \n",
    "- <a href='#6'>Model ensambling</a>\n",
    " - <a href='#61'>Create the ensamble framework</a>\n",
    " - <a href='#62'>Create the Out-Of-Fold Predictions</a>\n",
    " - <a href='#63'>Train the first level models</a>\n",
    " - <a href='#64'>Correlation of the results</a>\n",
    " - <a href='#65'>Build the second level (ensamble) model</a>\n",
    " - <a href='#66'>Submission (ensamble)</a>\n",
    "- <a href='#7'>References</a>    "
   ]
  },
  {
   "cell_type": "markdown",
   "metadata": {
    "_uuid": "6594845937ca7b3a74dc9c31b0effcf8086f673c"
   },
   "source": [
    "# <a id='1'>Introduction</a>  \n",
    "\n",
    "This Kernel will take you through the process of **analyzing the data** to understand the **predictive values** of various **features** and the possible correlation between different features, **selection of features** with predictive value, **features engineering** to create features with higher predictive value, creation of a **baseline model**, succesive **refinement** of the model (we are using **RandomForest**) through selection of features and, at the end, **submission** of the best solution found. \n",
    "\n",
    "Next, we take the model and define a multi-dimmensional matrix of **hyperparameters** we would like to test. We use Gradient Search and cross-validation to select the best set of hyperparameters. The best model is then used for the **second submission**.\n",
    "\n",
    "Next, we will use **ensambling** (second level model trained with the output of first level models). We create several models (with the same set of parameters used with the previous model). We use **AdaBoost**, **CatBoost**, **ExtraTrees**, **GradientBoosting**, **RandomForest** and **SupportVectorMachines**. We are using **Out-Of-Folds** to avoid the risk that the base model predictions already having \"seen\" the test set and therefore overfitting when feeding these predictions. The Out-Of-Folds are concatenated and feed to the second level model (XGBoost Classifier) and the prediction using the second level model is submitted (**third submission**) as the solution.\n",
    "\n",
    "The dataset used for this tutorial is the famous now **Titanic** dataset.\n",
    "\n",
    "\n",
    "<a href=\"#0\"><font size=\"1\">Go to top</font></a>  "
   ]
  },
  {
   "cell_type": "markdown",
   "metadata": {
    "_uuid": "49a4847daa9eea7afc1f005412a574ef86d4f207"
   },
   "source": [
    "# <a id='2'>Prepare the data analysis</a>   \n",
    "\n",
    "\n",
    "Before starting the analysis, we need to make few preparation: load the packages, load and inspect the data.\n"
   ]
  },
  {
   "cell_type": "markdown",
   "metadata": {
    "_uuid": "68cfa776b89a8027e06887ce2993894d75d56f08"
   },
   "source": [
    "## <a id='21'>Load packages</a>\n",
    "\n",
    "We load the packages used for the analysis. There are packages for data manipulation, visualization, models, hyperparameter optimization and model metrics.."
   ]
  },
  {
   "cell_type": "code",
   "execution_count": 2,
   "metadata": {
    "_cell_guid": "b1076dfc-b9ad-4769-8c92-a6c4dae69d19",
    "_kg_hide-input": true,
    "_uuid": "8f2839f25d086af736a60e9eeb907d3b93b6e0e5"
   },
   "outputs": [
    {
     "data": {
      "text/html": [
       "<script type=\"text/javascript\">window.PlotlyConfig = {MathJaxConfig: 'local'};</script><script type=\"text/javascript\">if (window.MathJax) {MathJax.Hub.Config({SVG: {font: \"STIX-Web\"}});}</script><script>requirejs.config({paths: { 'plotly': ['https://cdn.plot.ly/plotly-latest.min']},});if(!window._Plotly) {require(['plotly'],function(plotly) {window._Plotly=plotly;});}</script>"
      ],
      "text/vnd.plotly.v1+html": [
       "<script type=\"text/javascript\">window.PlotlyConfig = {MathJaxConfig: 'local'};</script><script type=\"text/javascript\">if (window.MathJax) {MathJax.Hub.Config({SVG: {font: \"STIX-Web\"}});}</script><script>requirejs.config({paths: { 'plotly': ['https://cdn.plot.ly/plotly-latest.min']},});if(!window._Plotly) {require(['plotly'],function(plotly) {window._Plotly=plotly;});}</script>"
      ]
     },
     "metadata": {},
     "output_type": "display_data"
    }
   ],
   "source": [
    "import pandas as pd\n",
    "import numpy as np\n",
    "import sys\n",
    "import os\n",
    "import random\n",
    "from pathlib import Path\n",
    "import matplotlib.pyplot as plt\n",
    "import seaborn as sns\n",
    "import plotly.graph_objs as go\n",
    "import plotly.figure_factory as ff\n",
    "from plotly import tools\n",
    "from plotly.offline import download_plotlyjs, init_notebook_mode, plot, iplot\n",
    "init_notebook_mode(connected=True)\n",
    "import scipy\n",
    "from sklearn.model_selection import train_test_split, KFold, GridSearchCV\n",
    "from sklearn import metrics\n",
    "from sklearn.metrics import roc_auc_score\n",
    "from sklearn.ensemble import RandomForestClassifier, AdaBoostClassifier, GradientBoostingClassifier, ExtraTreesClassifier\n",
    "from catboost import CatBoostClassifier\n",
    "from sklearn.svm import SVC\n",
    "import xgboost as xgb"
   ]
  },
  {
   "cell_type": "markdown",
   "metadata": {
    "_uuid": "a77dd46df07463a57632c7401f34f7ceaea7fa21"
   },
   "source": [
    "<a href=\"#0\"><font size=\"1\">Go to top</font></a>  \n",
    "\n",
    "\n",
    "## <a id='22'>Load the data</a>  \n",
    "\n",
    "Let's see first what data files do we have in the root directory. "
   ]
  },
  {
   "cell_type": "code",
   "execution_count": 3,
   "metadata": {
    "_uuid": "9e9c5345f22b50981187f45c219bcb6bbbe6458c"
   },
   "outputs": [
    {
     "data": {
      "text/plain": [
       "['train.csv', 'gender_submission.csv', 'test.csv']"
      ]
     },
     "execution_count": 3,
     "metadata": {},
     "output_type": "execute_result"
    }
   ],
   "source": [
    "IS_LOCAL = False\n",
    "if(IS_LOCAL):\n",
    "    PATH=\"../input/titanic/\"\n",
    "else:\n",
    "    PATH=\"../input/\"\n",
    "os.listdir(PATH)"
   ]
  },
  {
   "cell_type": "markdown",
   "metadata": {
    "_uuid": "18e369d32c82d3580db42faee68f44402f412d34"
   },
   "source": [
    "There are **train** and **test** data as well as an example **submission** file.  \n",
    "\n",
    "Let's load the **train** and **test** data."
   ]
  },
  {
   "cell_type": "code",
   "execution_count": 4,
   "metadata": {
    "_cell_guid": "79c7e3d0-c299-4dcb-8224-4455121ee9b0",
    "_kg_hide-input": true,
    "_uuid": "d629ff2d2480ee46fbb7e2d37f6b5fab8052498a"
   },
   "outputs": [],
   "source": [
    "train_df=pd.read_csv(PATH+'train.csv')\n",
    "test_df=pd.read_csv(PATH+'test.csv')"
   ]
  },
  {
   "cell_type": "markdown",
   "metadata": {
    "_uuid": "55b41e17833da924475d38f9a8c22a1731efb8ab"
   },
   "source": [
    "<a href=\"#0\"><font size=\"1\">Go to top</font></a>  \n",
    "\n",
    "# <a id='3'>Data exploration</a>  \n",
    "\n",
    "We check the shape of train and test dataframes and also show a selection of rows, to have an initial image of the data.\n",
    "\n"
   ]
  },
  {
   "cell_type": "code",
   "execution_count": 5,
   "metadata": {
    "_kg_hide-input": true,
    "_uuid": "469fd9a6bba1521569b762a5030a1e1a50bff313"
   },
   "outputs": [
    {
     "data": {
      "text/html": [
       "<div>\n",
       "<style scoped>\n",
       "    .dataframe tbody tr th:only-of-type {\n",
       "        vertical-align: middle;\n",
       "    }\n",
       "\n",
       "    .dataframe tbody tr th {\n",
       "        vertical-align: top;\n",
       "    }\n",
       "\n",
       "    .dataframe thead th {\n",
       "        text-align: right;\n",
       "    }\n",
       "</style>\n",
       "<table border=\"1\" class=\"dataframe\">\n",
       "  <thead>\n",
       "    <tr style=\"text-align: right;\">\n",
       "      <th></th>\n",
       "      <th>PassengerId</th>\n",
       "      <th>Survived</th>\n",
       "      <th>Pclass</th>\n",
       "      <th>Name</th>\n",
       "      <th>Sex</th>\n",
       "      <th>Age</th>\n",
       "      <th>SibSp</th>\n",
       "      <th>Parch</th>\n",
       "      <th>Ticket</th>\n",
       "      <th>Fare</th>\n",
       "      <th>Cabin</th>\n",
       "      <th>Embarked</th>\n",
       "    </tr>\n",
       "  </thead>\n",
       "  <tbody>\n",
       "    <tr>\n",
       "      <th>187</th>\n",
       "      <td>188</td>\n",
       "      <td>1</td>\n",
       "      <td>1</td>\n",
       "      <td>Romaine, Mr. Charles Hallace (\"Mr C Rolmane\")</td>\n",
       "      <td>male</td>\n",
       "      <td>45.0</td>\n",
       "      <td>0</td>\n",
       "      <td>0</td>\n",
       "      <td>111428</td>\n",
       "      <td>26.55</td>\n",
       "      <td>NaN</td>\n",
       "      <td>S</td>\n",
       "    </tr>\n",
       "    <tr>\n",
       "      <th>120</th>\n",
       "      <td>121</td>\n",
       "      <td>0</td>\n",
       "      <td>2</td>\n",
       "      <td>Hickman, Mr. Stanley George</td>\n",
       "      <td>male</td>\n",
       "      <td>21.0</td>\n",
       "      <td>2</td>\n",
       "      <td>0</td>\n",
       "      <td>S.O.C. 14879</td>\n",
       "      <td>73.50</td>\n",
       "      <td>NaN</td>\n",
       "      <td>S</td>\n",
       "    </tr>\n",
       "    <tr>\n",
       "      <th>546</th>\n",
       "      <td>547</td>\n",
       "      <td>1</td>\n",
       "      <td>2</td>\n",
       "      <td>Beane, Mrs. Edward (Ethel Clarke)</td>\n",
       "      <td>female</td>\n",
       "      <td>19.0</td>\n",
       "      <td>1</td>\n",
       "      <td>0</td>\n",
       "      <td>2908</td>\n",
       "      <td>26.00</td>\n",
       "      <td>NaN</td>\n",
       "      <td>S</td>\n",
       "    </tr>\n",
       "    <tr>\n",
       "      <th>308</th>\n",
       "      <td>309</td>\n",
       "      <td>0</td>\n",
       "      <td>2</td>\n",
       "      <td>Abelson, Mr. Samuel</td>\n",
       "      <td>male</td>\n",
       "      <td>30.0</td>\n",
       "      <td>1</td>\n",
       "      <td>0</td>\n",
       "      <td>P/PP 3381</td>\n",
       "      <td>24.00</td>\n",
       "      <td>NaN</td>\n",
       "      <td>C</td>\n",
       "    </tr>\n",
       "    <tr>\n",
       "      <th>286</th>\n",
       "      <td>287</td>\n",
       "      <td>1</td>\n",
       "      <td>3</td>\n",
       "      <td>de Mulder, Mr. Theodore</td>\n",
       "      <td>male</td>\n",
       "      <td>30.0</td>\n",
       "      <td>0</td>\n",
       "      <td>0</td>\n",
       "      <td>345774</td>\n",
       "      <td>9.50</td>\n",
       "      <td>NaN</td>\n",
       "      <td>S</td>\n",
       "    </tr>\n",
       "  </tbody>\n",
       "</table>\n",
       "</div>"
      ],
      "text/plain": [
       "     PassengerId  Survived  Pclass    ...      Fare Cabin  Embarked\n",
       "187          188         1       1    ...     26.55   NaN         S\n",
       "120          121         0       2    ...     73.50   NaN         S\n",
       "546          547         1       2    ...     26.00   NaN         S\n",
       "308          309         0       2    ...     24.00   NaN         C\n",
       "286          287         1       3    ...      9.50   NaN         S\n",
       "\n",
       "[5 rows x 12 columns]"
      ]
     },
     "execution_count": 5,
     "metadata": {},
     "output_type": "execute_result"
    }
   ],
   "source": [
    "train_df.sample(5).head()"
   ]
  },
  {
   "cell_type": "code",
   "execution_count": 6,
   "metadata": {
    "_kg_hide-input": true,
    "_uuid": "ec12616d56dfbf5a6d40d5c1f692321e7260e461"
   },
   "outputs": [
    {
     "data": {
      "text/html": [
       "<div>\n",
       "<style scoped>\n",
       "    .dataframe tbody tr th:only-of-type {\n",
       "        vertical-align: middle;\n",
       "    }\n",
       "\n",
       "    .dataframe tbody tr th {\n",
       "        vertical-align: top;\n",
       "    }\n",
       "\n",
       "    .dataframe thead th {\n",
       "        text-align: right;\n",
       "    }\n",
       "</style>\n",
       "<table border=\"1\" class=\"dataframe\">\n",
       "  <thead>\n",
       "    <tr style=\"text-align: right;\">\n",
       "      <th></th>\n",
       "      <th>PassengerId</th>\n",
       "      <th>Pclass</th>\n",
       "      <th>Name</th>\n",
       "      <th>Sex</th>\n",
       "      <th>Age</th>\n",
       "      <th>SibSp</th>\n",
       "      <th>Parch</th>\n",
       "      <th>Ticket</th>\n",
       "      <th>Fare</th>\n",
       "      <th>Cabin</th>\n",
       "      <th>Embarked</th>\n",
       "    </tr>\n",
       "  </thead>\n",
       "  <tbody>\n",
       "    <tr>\n",
       "      <th>19</th>\n",
       "      <td>911</td>\n",
       "      <td>3</td>\n",
       "      <td>Assaf Khalil, Mrs. Mariana (Miriam\")\"</td>\n",
       "      <td>female</td>\n",
       "      <td>45.0</td>\n",
       "      <td>0</td>\n",
       "      <td>0</td>\n",
       "      <td>2696</td>\n",
       "      <td>7.2250</td>\n",
       "      <td>NaN</td>\n",
       "      <td>C</td>\n",
       "    </tr>\n",
       "    <tr>\n",
       "      <th>69</th>\n",
       "      <td>961</td>\n",
       "      <td>1</td>\n",
       "      <td>Fortune, Mrs. Mark (Mary McDougald)</td>\n",
       "      <td>female</td>\n",
       "      <td>60.0</td>\n",
       "      <td>1</td>\n",
       "      <td>4</td>\n",
       "      <td>19950</td>\n",
       "      <td>263.0000</td>\n",
       "      <td>C23 C25 C27</td>\n",
       "      <td>S</td>\n",
       "    </tr>\n",
       "    <tr>\n",
       "      <th>350</th>\n",
       "      <td>1242</td>\n",
       "      <td>1</td>\n",
       "      <td>Greenfield, Mrs. Leo David (Blanche Strouse)</td>\n",
       "      <td>female</td>\n",
       "      <td>45.0</td>\n",
       "      <td>0</td>\n",
       "      <td>1</td>\n",
       "      <td>PC 17759</td>\n",
       "      <td>63.3583</td>\n",
       "      <td>D10 D12</td>\n",
       "      <td>C</td>\n",
       "    </tr>\n",
       "    <tr>\n",
       "      <th>196</th>\n",
       "      <td>1088</td>\n",
       "      <td>1</td>\n",
       "      <td>Spedden, Master. Robert Douglas</td>\n",
       "      <td>male</td>\n",
       "      <td>6.0</td>\n",
       "      <td>0</td>\n",
       "      <td>2</td>\n",
       "      <td>16966</td>\n",
       "      <td>134.5000</td>\n",
       "      <td>E34</td>\n",
       "      <td>C</td>\n",
       "    </tr>\n",
       "    <tr>\n",
       "      <th>322</th>\n",
       "      <td>1214</td>\n",
       "      <td>2</td>\n",
       "      <td>Nesson, Mr. Israel</td>\n",
       "      <td>male</td>\n",
       "      <td>26.0</td>\n",
       "      <td>0</td>\n",
       "      <td>0</td>\n",
       "      <td>244368</td>\n",
       "      <td>13.0000</td>\n",
       "      <td>F2</td>\n",
       "      <td>S</td>\n",
       "    </tr>\n",
       "  </tbody>\n",
       "</table>\n",
       "</div>"
      ],
      "text/plain": [
       "     PassengerId  Pclass   ...           Cabin Embarked\n",
       "19           911       3   ...             NaN        C\n",
       "69           961       1   ...     C23 C25 C27        S\n",
       "350         1242       1   ...         D10 D12        C\n",
       "196         1088       1   ...             E34        C\n",
       "322         1214       2   ...              F2        S\n",
       "\n",
       "[5 rows x 11 columns]"
      ]
     },
     "execution_count": 6,
     "metadata": {},
     "output_type": "execute_result"
    }
   ],
   "source": [
    "test_df.sample(5).head()"
   ]
  },
  {
   "cell_type": "code",
   "execution_count": 7,
   "metadata": {
    "_kg_hide-input": true,
    "_uuid": "0f3a03fce399eaeb0226728af285486d6f22abcd"
   },
   "outputs": [
    {
     "name": "stdout",
     "output_type": "stream",
     "text": [
      "Train: rows:891 cols:12\n",
      "Test:  rows:418 cols:11\n"
     ]
    }
   ],
   "source": [
    "print(\"Train: rows:{} cols:{}\".format(train_df.shape[0], train_df.shape[1]))\n",
    "print(\"Test:  rows:{} cols:{}\".format(test_df.shape[0], test_df.shape[1]))"
   ]
  },
  {
   "cell_type": "markdown",
   "metadata": {
    "_uuid": "ccf999716af89faf72b86be24e800f41e38e48ec"
   },
   "source": [
    "Both **train** and **test** files contains the following values:  \n",
    "\n",
    "* **PassengerID** - the index of the passenger (in the dataset);  \n",
    "* **PClass** - the class of the passenger (from 1 to 3);\n",
    "* **Name** - the name of the passenger;\n",
    "* **Sex** - the sex of the passenger (female or male);  \n",
    "* **Age** - the age (where available) of the passenger;  \n",
    "* **SibSp** - the number of sibilings / spouses aboard of Titanic;  \n",
    "* **Parch** - the number of parents / children aboard of Titanic;  \n",
    "* **Ticket** - the ticket number;  \n",
    "* **Fare** - the passenger fare (ticket cost);  \n",
    "* **Cabin** - the cabin number;  \n",
    "* **Embarked** - the place of embarcation of the passenger (C = Cherbourg, Q = Queenstown, S = Southampton).  \n",
    "\n",
    "The **train** data has as well the target value, **Survived**.\n",
    "\n",
    "It is important, before going to create a model, to have a good understanding of the data. We will therefore explore the various features."
   ]
  },
  {
   "cell_type": "markdown",
   "metadata": {
    "_uuid": "0b743ae9ca2a88bce058759520878a2a0a76688a"
   },
   "source": [
    "\n",
    "Let's start by checking if there are missing data, unlabeled data or data that is inconsistently labeled. "
   ]
  },
  {
   "cell_type": "markdown",
   "metadata": {
    "_uuid": "1acb5da96b0721ab020f34e8ee03862d7d36047d"
   },
   "source": [
    "## <a id='31'>Check for missing data</a>  \n",
    "\n",
    "Let's create a function that check for missing data in the two datasets (train and test)."
   ]
  },
  {
   "cell_type": "code",
   "execution_count": 8,
   "metadata": {
    "_kg_hide-input": true,
    "_uuid": "0615b432baf1b9f3e98986861ae1c4fb966ba6f9"
   },
   "outputs": [
    {
     "data": {
      "text/html": [
       "<div>\n",
       "<style scoped>\n",
       "    .dataframe tbody tr th:only-of-type {\n",
       "        vertical-align: middle;\n",
       "    }\n",
       "\n",
       "    .dataframe tbody tr th {\n",
       "        vertical-align: top;\n",
       "    }\n",
       "\n",
       "    .dataframe thead th {\n",
       "        text-align: right;\n",
       "    }\n",
       "</style>\n",
       "<table border=\"1\" class=\"dataframe\">\n",
       "  <thead>\n",
       "    <tr style=\"text-align: right;\">\n",
       "      <th></th>\n",
       "      <th>Total</th>\n",
       "      <th>Percent</th>\n",
       "    </tr>\n",
       "  </thead>\n",
       "  <tbody>\n",
       "    <tr>\n",
       "      <th>Cabin</th>\n",
       "      <td>687</td>\n",
       "      <td>77.104377</td>\n",
       "    </tr>\n",
       "    <tr>\n",
       "      <th>Age</th>\n",
       "      <td>177</td>\n",
       "      <td>19.865320</td>\n",
       "    </tr>\n",
       "    <tr>\n",
       "      <th>Embarked</th>\n",
       "      <td>2</td>\n",
       "      <td>0.224467</td>\n",
       "    </tr>\n",
       "    <tr>\n",
       "      <th>Fare</th>\n",
       "      <td>0</td>\n",
       "      <td>0.000000</td>\n",
       "    </tr>\n",
       "    <tr>\n",
       "      <th>Ticket</th>\n",
       "      <td>0</td>\n",
       "      <td>0.000000</td>\n",
       "    </tr>\n",
       "    <tr>\n",
       "      <th>Parch</th>\n",
       "      <td>0</td>\n",
       "      <td>0.000000</td>\n",
       "    </tr>\n",
       "    <tr>\n",
       "      <th>SibSp</th>\n",
       "      <td>0</td>\n",
       "      <td>0.000000</td>\n",
       "    </tr>\n",
       "    <tr>\n",
       "      <th>Sex</th>\n",
       "      <td>0</td>\n",
       "      <td>0.000000</td>\n",
       "    </tr>\n",
       "    <tr>\n",
       "      <th>Name</th>\n",
       "      <td>0</td>\n",
       "      <td>0.000000</td>\n",
       "    </tr>\n",
       "    <tr>\n",
       "      <th>Pclass</th>\n",
       "      <td>0</td>\n",
       "      <td>0.000000</td>\n",
       "    </tr>\n",
       "    <tr>\n",
       "      <th>Survived</th>\n",
       "      <td>0</td>\n",
       "      <td>0.000000</td>\n",
       "    </tr>\n",
       "    <tr>\n",
       "      <th>PassengerId</th>\n",
       "      <td>0</td>\n",
       "      <td>0.000000</td>\n",
       "    </tr>\n",
       "  </tbody>\n",
       "</table>\n",
       "</div>"
      ],
      "text/plain": [
       "             Total    Percent\n",
       "Cabin          687  77.104377\n",
       "Age            177  19.865320\n",
       "Embarked         2   0.224467\n",
       "Fare             0   0.000000\n",
       "Ticket           0   0.000000\n",
       "Parch            0   0.000000\n",
       "SibSp            0   0.000000\n",
       "Sex              0   0.000000\n",
       "Name             0   0.000000\n",
       "Pclass           0   0.000000\n",
       "Survived         0   0.000000\n",
       "PassengerId      0   0.000000"
      ]
     },
     "execution_count": 8,
     "metadata": {},
     "output_type": "execute_result"
    }
   ],
   "source": [
    "def missing_data(data):\n",
    "    total = data.isnull().sum().sort_values(ascending = False)\n",
    "    percent = (data.isnull().sum()/data.isnull().count()*100).sort_values(ascending = False)\n",
    "    return pd.concat([total, percent], axis=1, keys=['Total', 'Percent'])\n",
    "missing_data(train_df)"
   ]
  },
  {
   "cell_type": "code",
   "execution_count": 9,
   "metadata": {
    "_kg_hide-input": true,
    "_uuid": "d1f198f06d50726a247df1056fe38b0f50f64605"
   },
   "outputs": [
    {
     "data": {
      "text/html": [
       "<div>\n",
       "<style scoped>\n",
       "    .dataframe tbody tr th:only-of-type {\n",
       "        vertical-align: middle;\n",
       "    }\n",
       "\n",
       "    .dataframe tbody tr th {\n",
       "        vertical-align: top;\n",
       "    }\n",
       "\n",
       "    .dataframe thead th {\n",
       "        text-align: right;\n",
       "    }\n",
       "</style>\n",
       "<table border=\"1\" class=\"dataframe\">\n",
       "  <thead>\n",
       "    <tr style=\"text-align: right;\">\n",
       "      <th></th>\n",
       "      <th>Total</th>\n",
       "      <th>Percent</th>\n",
       "    </tr>\n",
       "  </thead>\n",
       "  <tbody>\n",
       "    <tr>\n",
       "      <th>Cabin</th>\n",
       "      <td>327</td>\n",
       "      <td>78.229665</td>\n",
       "    </tr>\n",
       "    <tr>\n",
       "      <th>Age</th>\n",
       "      <td>86</td>\n",
       "      <td>20.574163</td>\n",
       "    </tr>\n",
       "    <tr>\n",
       "      <th>Fare</th>\n",
       "      <td>1</td>\n",
       "      <td>0.239234</td>\n",
       "    </tr>\n",
       "    <tr>\n",
       "      <th>Embarked</th>\n",
       "      <td>0</td>\n",
       "      <td>0.000000</td>\n",
       "    </tr>\n",
       "    <tr>\n",
       "      <th>Ticket</th>\n",
       "      <td>0</td>\n",
       "      <td>0.000000</td>\n",
       "    </tr>\n",
       "    <tr>\n",
       "      <th>Parch</th>\n",
       "      <td>0</td>\n",
       "      <td>0.000000</td>\n",
       "    </tr>\n",
       "    <tr>\n",
       "      <th>SibSp</th>\n",
       "      <td>0</td>\n",
       "      <td>0.000000</td>\n",
       "    </tr>\n",
       "    <tr>\n",
       "      <th>Sex</th>\n",
       "      <td>0</td>\n",
       "      <td>0.000000</td>\n",
       "    </tr>\n",
       "    <tr>\n",
       "      <th>Name</th>\n",
       "      <td>0</td>\n",
       "      <td>0.000000</td>\n",
       "    </tr>\n",
       "    <tr>\n",
       "      <th>Pclass</th>\n",
       "      <td>0</td>\n",
       "      <td>0.000000</td>\n",
       "    </tr>\n",
       "    <tr>\n",
       "      <th>PassengerId</th>\n",
       "      <td>0</td>\n",
       "      <td>0.000000</td>\n",
       "    </tr>\n",
       "  </tbody>\n",
       "</table>\n",
       "</div>"
      ],
      "text/plain": [
       "             Total    Percent\n",
       "Cabin          327  78.229665\n",
       "Age             86  20.574163\n",
       "Fare             1   0.239234\n",
       "Embarked         0   0.000000\n",
       "Ticket           0   0.000000\n",
       "Parch            0   0.000000\n",
       "SibSp            0   0.000000\n",
       "Sex              0   0.000000\n",
       "Name             0   0.000000\n",
       "Pclass           0   0.000000\n",
       "PassengerId      0   0.000000"
      ]
     },
     "execution_count": 9,
     "metadata": {},
     "output_type": "execute_result"
    }
   ],
   "source": [
    "missing_data(test_df)"
   ]
  },
  {
   "cell_type": "markdown",
   "metadata": {
    "_kg_hide-input": true,
    "_uuid": "27520c91b12f01e61c1adc4b682ba97b5b20a464"
   },
   "source": [
    "Both in **train** and **test** datasets, `Cabin` has more than 77% missing, `Age` more than 19%. `Embarked` is missing in 2 cases for **train** and `Fare` misses in  1 case for **test**.   \n",
    "\n",
    "We will discuss, through this tutorial, the various possible methods to deal with missing data."
   ]
  },
  {
   "cell_type": "markdown",
   "metadata": {
    "_uuid": "08afb0eb7021f23df57da4f514e2674b8a8e7167"
   },
   "source": [
    "## <a id='32'>Sex, Age, SibSp, Parch</a>  \n",
    "\n",
    "Let's check now the data (in **train** and **test**) for `Sex`, `Age`, `SibSp` and `Parch`."
   ]
  },
  {
   "cell_type": "code",
   "execution_count": 10,
   "metadata": {
    "_kg_hide-input": true,
    "_uuid": "baf67bed4b863387ebc45668dba34f08bec2bb57"
   },
   "outputs": [],
   "source": [
    "def get_categories(data, val):\n",
    "    tmp = data[val].value_counts()\n",
    "    return pd.DataFrame(data={'Number': tmp.values}, index=tmp.index).reset_index()"
   ]
  },
  {
   "cell_type": "code",
   "execution_count": 11,
   "metadata": {
    "_kg_hide-input": true,
    "_uuid": "291d9d7313de6666745e45a87121fee640f32565"
   },
   "outputs": [],
   "source": [
    "def get_survived_categories(data, val):\n",
    "    tmp = data.groupby('Survived')[val].value_counts()\n",
    "    return pd.DataFrame(data={'Number': tmp.values}, index=tmp.index).reset_index()"
   ]
  },
  {
   "cell_type": "code",
   "execution_count": 12,
   "metadata": {
    "_kg_hide-input": true,
    "_uuid": "e0cd0060d230e89f7eab373e67285a49b0202ee0"
   },
   "outputs": [],
   "source": [
    "def draw_trace_bar(data_df,color='Blue'):\n",
    "    trace = go.Bar(\n",
    "            x = data_df['index'],\n",
    "            y = data_df['Number'],\n",
    "            marker=dict(color=color),\n",
    "            text=data_df['index']\n",
    "        )\n",
    "    return trace\n",
    "\n",
    "\n",
    "def plot_bar(data_df, title, xlab, ylab,color='Blue'):\n",
    "    trace = draw_trace_bar(data_df, color)\n",
    "    data = [trace]\n",
    "    layout = dict(title = title,\n",
    "              xaxis = dict(title = xlab, showticklabels=True, tickangle=0,\n",
    "                          tickfont=dict(\n",
    "                            size=10,\n",
    "                            color='black'),), \n",
    "              yaxis = dict(title = ylab),\n",
    "              hovermode = 'closest'\n",
    "             )\n",
    "    fig = dict(data = data, layout = layout)\n",
    "    iplot(fig, filename='draw_trace')\n"
   ]
  },
  {
   "cell_type": "code",
   "execution_count": 13,
   "metadata": {
    "_kg_hide-input": true,
    "_uuid": "6d1c9260105211670fe096654053aeac0a18b94b"
   },
   "outputs": [],
   "source": [
    "def plot_two_bar(data_df1, data_df2, title1, title2, xlab, ylab):\n",
    "    trace1 = draw_trace_bar(data_df1, color='Blue')\n",
    "    trace2 = draw_trace_bar(data_df2, color='Lightblue')\n",
    "    \n",
    "    fig = tools.make_subplots(rows=1,cols=2, subplot_titles=(title1,title2))\n",
    "    fig.append_trace(trace1,1,1)\n",
    "    fig.append_trace(trace2,1,2)\n",
    "    \n",
    "    fig['layout']['xaxis'].update(title = xlab)\n",
    "    fig['layout']['xaxis2'].update(title = xlab)\n",
    "    fig['layout']['yaxis'].update(title = ylab)\n",
    "    fig['layout']['yaxis2'].update(title = ylab)\n",
    "    fig['layout'].update(showlegend=False)\n",
    "    \n",
    "\n",
    "    iplot(fig, filename='draw_trace')"
   ]
  },
  {
   "cell_type": "code",
   "execution_count": 14,
   "metadata": {
    "_kg_hide-input": true,
    "_uuid": "3e5656ce09c835adb51b7cc989bd80fddce089d8"
   },
   "outputs": [],
   "source": [
    "def plot_survived_bar(data_df, var, ytitle= 'Number of passengers',title= 'Number of survived and not survived passengers by {}'):\n",
    "    dfS = data_df[data_df['Survived']==1]\n",
    "    dfN = data_df[data_df['Survived']==0]\n",
    "\n",
    "    traceS = go.Bar(\n",
    "        x = dfS[var],y = dfS['Number'],\n",
    "        name='Survived',\n",
    "        marker=dict(color=\"Blue\"),\n",
    "        text=dfS['Number']\n",
    "    )\n",
    "    traceN = go.Bar(\n",
    "        x = dfN[var],y = dfN['Number'],\n",
    "        name='Not survived',\n",
    "        marker=dict(color=\"Red\"),\n",
    "        text=dfS['Number']\n",
    "    )\n",
    "    \n",
    "    data = [traceS, traceN]\n",
    "    layout = dict(title = title.format(var),\n",
    "          xaxis = dict(title = var, showticklabels=True), \n",
    "          yaxis = dict(title = ytitle),\n",
    "          hovermode = 'closest'\n",
    "    )\n",
    "    fig = dict(data=data, layout=layout)\n",
    "   \n",
    "    iplot(fig, filename='draw_trace')\n"
   ]
  },
  {
   "cell_type": "code",
   "execution_count": 15,
   "metadata": {
    "_kg_hide-input": true,
    "_uuid": "ef956653735c6393f7cc00f21fd88181614b14e3",
    "scrolled": true
   },
   "outputs": [
    {
     "name": "stdout",
     "output_type": "stream",
     "text": [
      "This is the format of your plot grid:\n",
      "[ (1,1) x1,y1 ]  [ (1,2) x2,y2 ]\n",
      "\n"
     ]
    },
    {
     "data": {
      "application/vnd.plotly.v1+json": {
       "config": {
        "linkText": "Export to plot.ly",
        "plotlyServerURL": "https://plot.ly",
        "showLink": false
       },
       "data": [
        {
         "marker": {
          "color": "Blue"
         },
         "text": [
          "male",
          "female"
         ],
         "type": "bar",
         "uid": "538769f1-d20a-416e-b0e6-2d9b30837fb5",
         "x": [
          "male",
          "female"
         ],
         "xaxis": "x",
         "y": [
          577,
          314
         ],
         "yaxis": "y"
        },
        {
         "marker": {
          "color": "Lightblue"
         },
         "text": [
          "male",
          "female"
         ],
         "type": "bar",
         "uid": "6c4f7b16-56a5-4bd4-971a-fedca8158d27",
         "x": [
          "male",
          "female"
         ],
         "xaxis": "x2",
         "y": [
          266,
          152
         ],
         "yaxis": "y2"
        }
       ],
       "layout": {
        "annotations": [
         {
          "font": {
           "size": 16
          },
          "showarrow": false,
          "text": "Train data",
          "x": 0.225,
          "xanchor": "center",
          "xref": "paper",
          "y": 1.0,
          "yanchor": "bottom",
          "yref": "paper"
         },
         {
          "font": {
           "size": 16
          },
          "showarrow": false,
          "text": "Test data",
          "x": 0.775,
          "xanchor": "center",
          "xref": "paper",
          "y": 1.0,
          "yanchor": "bottom",
          "yref": "paper"
         }
        ],
        "showlegend": false,
        "xaxis": {
         "anchor": "y",
         "domain": [
          0.0,
          0.45
         ],
         "title": {
          "text": "Sex"
         }
        },
        "xaxis2": {
         "anchor": "y2",
         "domain": [
          0.55,
          1.0
         ],
         "title": {
          "text": "Sex"
         }
        },
        "yaxis": {
         "anchor": "x",
         "domain": [
          0.0,
          1.0
         ],
         "title": {
          "text": "Number of passengers"
         }
        },
        "yaxis2": {
         "anchor": "x2",
         "domain": [
          0.0,
          1.0
         ],
         "title": {
          "text": "Number of passengers"
         }
        }
       }
      },
      "text/html": [
       "<div id=\"92c5abbc-c24d-41b8-b83a-35b421563e54\" style=\"height: 525px; width: 100%;\" class=\"plotly-graph-div\"></div><script type=\"text/javascript\">require([\"plotly\"], function(Plotly) { window.PLOTLYENV=window.PLOTLYENV || {};window.PLOTLYENV.BASE_URL=\"https://plot.ly\";Plotly.newPlot(\"92c5abbc-c24d-41b8-b83a-35b421563e54\", [{\"marker\": {\"color\": \"Blue\"}, \"text\": [\"male\", \"female\"], \"x\": [\"male\", \"female\"], \"y\": [577, 314], \"type\": \"bar\", \"uid\": \"538769f1-d20a-416e-b0e6-2d9b30837fb5\", \"xaxis\": \"x\", \"yaxis\": \"y\"}, {\"marker\": {\"color\": \"Lightblue\"}, \"text\": [\"male\", \"female\"], \"x\": [\"male\", \"female\"], \"y\": [266, 152], \"type\": \"bar\", \"uid\": \"6c4f7b16-56a5-4bd4-971a-fedca8158d27\", \"xaxis\": \"x2\", \"yaxis\": \"y2\"}], {\"annotations\": [{\"font\": {\"size\": 16}, \"showarrow\": false, \"text\": \"Train data\", \"x\": 0.225, \"xanchor\": \"center\", \"xref\": \"paper\", \"y\": 1.0, \"yanchor\": \"bottom\", \"yref\": \"paper\"}, {\"font\": {\"size\": 16}, \"showarrow\": false, \"text\": \"Test data\", \"x\": 0.775, \"xanchor\": \"center\", \"xref\": \"paper\", \"y\": 1.0, \"yanchor\": \"bottom\", \"yref\": \"paper\"}], \"xaxis\": {\"anchor\": \"y\", \"domain\": [0.0, 0.45], \"title\": {\"text\": \"Sex\"}}, \"yaxis\": {\"anchor\": \"x\", \"domain\": [0.0, 1.0], \"title\": {\"text\": \"Number of passengers\"}}, \"xaxis2\": {\"anchor\": \"y2\", \"domain\": [0.55, 1.0], \"title\": {\"text\": \"Sex\"}}, \"yaxis2\": {\"anchor\": \"x2\", \"domain\": [0.0, 1.0], \"title\": {\"text\": \"Number of passengers\"}}, \"showlegend\": false}, {\"showLink\": false, \"linkText\": \"Export to plot.ly\", \"plotlyServerURL\": \"https://plot.ly\"})});</script><script type=\"text/javascript\">window.addEventListener(\"resize\", function(){window._Plotly.Plots.resize(document.getElementById(\"92c5abbc-c24d-41b8-b83a-35b421563e54\"));});</script>"
      ],
      "text/vnd.plotly.v1+html": [
       "<div id=\"92c5abbc-c24d-41b8-b83a-35b421563e54\" style=\"height: 525px; width: 100%;\" class=\"plotly-graph-div\"></div><script type=\"text/javascript\">require([\"plotly\"], function(Plotly) { window.PLOTLYENV=window.PLOTLYENV || {};window.PLOTLYENV.BASE_URL=\"https://plot.ly\";Plotly.newPlot(\"92c5abbc-c24d-41b8-b83a-35b421563e54\", [{\"marker\": {\"color\": \"Blue\"}, \"text\": [\"male\", \"female\"], \"x\": [\"male\", \"female\"], \"y\": [577, 314], \"type\": \"bar\", \"uid\": \"538769f1-d20a-416e-b0e6-2d9b30837fb5\", \"xaxis\": \"x\", \"yaxis\": \"y\"}, {\"marker\": {\"color\": \"Lightblue\"}, \"text\": [\"male\", \"female\"], \"x\": [\"male\", \"female\"], \"y\": [266, 152], \"type\": \"bar\", \"uid\": \"6c4f7b16-56a5-4bd4-971a-fedca8158d27\", \"xaxis\": \"x2\", \"yaxis\": \"y2\"}], {\"annotations\": [{\"font\": {\"size\": 16}, \"showarrow\": false, \"text\": \"Train data\", \"x\": 0.225, \"xanchor\": \"center\", \"xref\": \"paper\", \"y\": 1.0, \"yanchor\": \"bottom\", \"yref\": \"paper\"}, {\"font\": {\"size\": 16}, \"showarrow\": false, \"text\": \"Test data\", \"x\": 0.775, \"xanchor\": \"center\", \"xref\": \"paper\", \"y\": 1.0, \"yanchor\": \"bottom\", \"yref\": \"paper\"}], \"xaxis\": {\"anchor\": \"y\", \"domain\": [0.0, 0.45], \"title\": {\"text\": \"Sex\"}}, \"yaxis\": {\"anchor\": \"x\", \"domain\": [0.0, 1.0], \"title\": {\"text\": \"Number of passengers\"}}, \"xaxis2\": {\"anchor\": \"y2\", \"domain\": [0.55, 1.0], \"title\": {\"text\": \"Sex\"}}, \"yaxis2\": {\"anchor\": \"x2\", \"domain\": [0.0, 1.0], \"title\": {\"text\": \"Number of passengers\"}}, \"showlegend\": false}, {\"showLink\": false, \"linkText\": \"Export to plot.ly\", \"plotlyServerURL\": \"https://plot.ly\"})});</script><script type=\"text/javascript\">window.addEventListener(\"resize\", function(){window._Plotly.Plots.resize(document.getElementById(\"92c5abbc-c24d-41b8-b83a-35b421563e54\"));});</script>"
      ]
     },
     "metadata": {},
     "output_type": "display_data"
    }
   ],
   "source": [
    "plot_two_bar(get_categories(train_df,'Sex'), get_categories(test_df,'Sex'), \n",
    "             'Train data', 'Test data',\n",
    "             'Sex', 'Number of passengers')"
   ]
  },
  {
   "cell_type": "code",
   "execution_count": 16,
   "metadata": {
    "_kg_hide-input": true,
    "_uuid": "12ad593826f751138414efb85bd49b26afdd0523"
   },
   "outputs": [
    {
     "data": {
      "application/vnd.plotly.v1+json": {
       "config": {
        "linkText": "Export to plot.ly",
        "plotlyServerURL": "https://plot.ly",
        "showLink": false
       },
       "data": [
        {
         "marker": {
          "color": "Blue"
         },
         "name": "Survived",
         "text": [
          233.0,
          109.0
         ],
         "type": "bar",
         "uid": "b548cd8f-181b-41b6-a90f-170ec4df15a1",
         "x": [
          "female",
          "male"
         ],
         "y": [
          233,
          109
         ]
        },
        {
         "marker": {
          "color": "Red"
         },
         "name": "Not survived",
         "text": [
          233.0,
          109.0
         ],
         "type": "bar",
         "uid": "109603e0-6eb9-4eb7-b0fe-3926a3319612",
         "x": [
          "male",
          "female"
         ],
         "y": [
          468,
          81
         ]
        }
       ],
       "layout": {
        "hovermode": "closest",
        "title": {
         "text": "Number of survived and not survived passengers by Sex"
        },
        "xaxis": {
         "showticklabels": true,
         "title": {
          "text": "Sex"
         }
        },
        "yaxis": {
         "title": {
          "text": "Number of passengers"
         }
        }
       }
      },
      "text/html": [
       "<div id=\"ebb1a4a1-5af3-42dd-8029-4482a4cd8733\" style=\"height: 525px; width: 100%;\" class=\"plotly-graph-div\"></div><script type=\"text/javascript\">require([\"plotly\"], function(Plotly) { window.PLOTLYENV=window.PLOTLYENV || {};window.PLOTLYENV.BASE_URL=\"https://plot.ly\";Plotly.newPlot(\"ebb1a4a1-5af3-42dd-8029-4482a4cd8733\", [{\"marker\": {\"color\": \"Blue\"}, \"name\": \"Survived\", \"text\": [233.0, 109.0], \"x\": [\"female\", \"male\"], \"y\": [233, 109], \"type\": \"bar\", \"uid\": \"e953239b-33f1-4310-940c-48c416db74c3\"}, {\"marker\": {\"color\": \"Red\"}, \"name\": \"Not survived\", \"text\": [233.0, 109.0], \"x\": [\"male\", \"female\"], \"y\": [468, 81], \"type\": \"bar\", \"uid\": \"d7266e29-a823-49e8-8347-dd3969d138e9\"}], {\"hovermode\": \"closest\", \"title\": {\"text\": \"Number of survived and not survived passengers by Sex\"}, \"xaxis\": {\"showticklabels\": true, \"title\": {\"text\": \"Sex\"}}, \"yaxis\": {\"title\": {\"text\": \"Number of passengers\"}}}, {\"showLink\": false, \"linkText\": \"Export to plot.ly\", \"plotlyServerURL\": \"https://plot.ly\"})});</script><script type=\"text/javascript\">window.addEventListener(\"resize\", function(){window._Plotly.Plots.resize(document.getElementById(\"ebb1a4a1-5af3-42dd-8029-4482a4cd8733\"));});</script>"
      ],
      "text/vnd.plotly.v1+html": [
       "<div id=\"ebb1a4a1-5af3-42dd-8029-4482a4cd8733\" style=\"height: 525px; width: 100%;\" class=\"plotly-graph-div\"></div><script type=\"text/javascript\">require([\"plotly\"], function(Plotly) { window.PLOTLYENV=window.PLOTLYENV || {};window.PLOTLYENV.BASE_URL=\"https://plot.ly\";Plotly.newPlot(\"ebb1a4a1-5af3-42dd-8029-4482a4cd8733\", [{\"marker\": {\"color\": \"Blue\"}, \"name\": \"Survived\", \"text\": [233.0, 109.0], \"x\": [\"female\", \"male\"], \"y\": [233, 109], \"type\": \"bar\", \"uid\": \"e953239b-33f1-4310-940c-48c416db74c3\"}, {\"marker\": {\"color\": \"Red\"}, \"name\": \"Not survived\", \"text\": [233.0, 109.0], \"x\": [\"male\", \"female\"], \"y\": [468, 81], \"type\": \"bar\", \"uid\": \"d7266e29-a823-49e8-8347-dd3969d138e9\"}], {\"hovermode\": \"closest\", \"title\": {\"text\": \"Number of survived and not survived passengers by Sex\"}, \"xaxis\": {\"showticklabels\": true, \"title\": {\"text\": \"Sex\"}}, \"yaxis\": {\"title\": {\"text\": \"Number of passengers\"}}}, {\"showLink\": false, \"linkText\": \"Export to plot.ly\", \"plotlyServerURL\": \"https://plot.ly\"})});</script><script type=\"text/javascript\">window.addEventListener(\"resize\", function(){window._Plotly.Plots.resize(document.getElementById(\"ebb1a4a1-5af3-42dd-8029-4482a4cd8733\"));});</script>"
      ]
     },
     "metadata": {},
     "output_type": "display_data"
    }
   ],
   "source": [
    "plot_survived_bar(get_survived_categories(train_df,'Sex'), 'Sex')"
   ]
  },
  {
   "cell_type": "markdown",
   "metadata": {
    "_uuid": "410a8017f065abc6ca809debe6d6314e29d9ec46"
   },
   "source": [
    "From the total female passengers, 74% survived.  \n",
    "In the same time, from the total male passengers, only 18% survived."
   ]
  },
  {
   "cell_type": "code",
   "execution_count": 17,
   "metadata": {
    "_kg_hide-input": true,
    "_uuid": "a9234e51a8ae3a0fa25a1441c752fe32e598d27e"
   },
   "outputs": [
    {
     "name": "stdout",
     "output_type": "stream",
     "text": [
      "This is the format of your plot grid:\n",
      "[ (1,1) x1,y1 ]  [ (1,2) x2,y2 ]\n",
      "\n"
     ]
    },
    {
     "data": {
      "application/vnd.plotly.v1+json": {
       "config": {
        "linkText": "Export to plot.ly",
        "plotlyServerURL": "https://plot.ly",
        "showLink": false
       },
       "data": [
        {
         "marker": {
          "color": "Blue"
         },
         "text": [
          24.0,
          22.0,
          18.0,
          19.0,
          30.0,
          28.0,
          21.0,
          25.0,
          36.0,
          29.0,
          32.0,
          27.0,
          35.0,
          26.0,
          16.0,
          31.0,
          20.0,
          33.0,
          23.0,
          34.0,
          39.0,
          17.0,
          42.0,
          40.0,
          45.0,
          38.0,
          50.0,
          2.0,
          4.0,
          47.0,
          44.0,
          48.0,
          54.0,
          9.0,
          1.0,
          51.0,
          52.0,
          14.0,
          3.0,
          49.0,
          41.0,
          37.0,
          15.0,
          43.0,
          58.0,
          11.0,
          62.0,
          60.0,
          8.0,
          56.0,
          5.0,
          46.0,
          65.0,
          7.0,
          6.0,
          61.0,
          55.0,
          28.5,
          71.0,
          59.0,
          63.0,
          0.83,
          30.5,
          70.0,
          57.0,
          0.75,
          13.0,
          10.0,
          64.0,
          40.5,
          32.5,
          45.5,
          20.5,
          24.5,
          0.67,
          14.5,
          0.92,
          74.0,
          34.5,
          80.0,
          12.0,
          36.5,
          53.0,
          55.5,
          70.5,
          66.0,
          23.5,
          0.42
         ],
         "type": "bar",
         "uid": "0b80ee5c-6e91-4b4a-bb21-7431596e7b36",
         "x": [
          24.0,
          22.0,
          18.0,
          19.0,
          30.0,
          28.0,
          21.0,
          25.0,
          36.0,
          29.0,
          32.0,
          27.0,
          35.0,
          26.0,
          16.0,
          31.0,
          20.0,
          33.0,
          23.0,
          34.0,
          39.0,
          17.0,
          42.0,
          40.0,
          45.0,
          38.0,
          50.0,
          2.0,
          4.0,
          47.0,
          44.0,
          48.0,
          54.0,
          9.0,
          1.0,
          51.0,
          52.0,
          14.0,
          3.0,
          49.0,
          41.0,
          37.0,
          15.0,
          43.0,
          58.0,
          11.0,
          62.0,
          60.0,
          8.0,
          56.0,
          5.0,
          46.0,
          65.0,
          7.0,
          6.0,
          61.0,
          55.0,
          28.5,
          71.0,
          59.0,
          63.0,
          0.83,
          30.5,
          70.0,
          57.0,
          0.75,
          13.0,
          10.0,
          64.0,
          40.5,
          32.5,
          45.5,
          20.5,
          24.5,
          0.67,
          14.5,
          0.92,
          74.0,
          34.5,
          80.0,
          12.0,
          36.5,
          53.0,
          55.5,
          70.5,
          66.0,
          23.5,
          0.42
         ],
         "xaxis": "x",
         "y": [
          30,
          27,
          26,
          25,
          25,
          25,
          24,
          23,
          22,
          20,
          18,
          18,
          18,
          18,
          17,
          17,
          15,
          15,
          15,
          15,
          14,
          13,
          13,
          13,
          12,
          11,
          10,
          10,
          10,
          9,
          9,
          9,
          8,
          8,
          7,
          7,
          6,
          6,
          6,
          6,
          6,
          6,
          5,
          5,
          5,
          4,
          4,
          4,
          4,
          4,
          4,
          3,
          3,
          3,
          3,
          3,
          2,
          2,
          2,
          2,
          2,
          2,
          2,
          2,
          2,
          2,
          2,
          2,
          2,
          2,
          2,
          2,
          1,
          1,
          1,
          1,
          1,
          1,
          1,
          1,
          1,
          1,
          1,
          1,
          1,
          1,
          1,
          1
         ],
         "yaxis": "y"
        },
        {
         "marker": {
          "color": "Lightblue"
         },
         "text": [
          24.0,
          21.0,
          22.0,
          30.0,
          18.0,
          27.0,
          26.0,
          25.0,
          23.0,
          29.0,
          36.0,
          45.0,
          20.0,
          17.0,
          28.0,
          32.0,
          31.0,
          55.0,
          33.0,
          39.0,
          35.0,
          41.0,
          47.0,
          40.0,
          50.0,
          42.0,
          48.0,
          19.0,
          43.0,
          1.0,
          49.0,
          6.0,
          13.0,
          60.0,
          53.0,
          18.5,
          46.0,
          64.0,
          38.0,
          57.0,
          37.0,
          10.0,
          61.0,
          32.5,
          2.0,
          16.0,
          12.0,
          9.0,
          54.0,
          8.0,
          63.0,
          14.0,
          22.5,
          62.0,
          0.83,
          67.0,
          28.5,
          0.33,
          0.17,
          38.5,
          3.0,
          51.0,
          5.0,
          44.0,
          14.5,
          59.0,
          58.0,
          0.75,
          0.92,
          36.5,
          40.5,
          11.5,
          34.0,
          15.0,
          7.0,
          60.5,
          26.5,
          76.0,
          34.5
         ],
         "type": "bar",
         "uid": "2bd7c9cf-b69d-459b-a10b-181cba6bc0d0",
         "x": [
          24.0,
          21.0,
          22.0,
          30.0,
          18.0,
          27.0,
          26.0,
          25.0,
          23.0,
          29.0,
          36.0,
          45.0,
          20.0,
          17.0,
          28.0,
          32.0,
          31.0,
          55.0,
          33.0,
          39.0,
          35.0,
          41.0,
          47.0,
          40.0,
          50.0,
          42.0,
          48.0,
          19.0,
          43.0,
          1.0,
          49.0,
          6.0,
          13.0,
          60.0,
          53.0,
          18.5,
          46.0,
          64.0,
          38.0,
          57.0,
          37.0,
          10.0,
          61.0,
          32.5,
          2.0,
          16.0,
          12.0,
          9.0,
          54.0,
          8.0,
          63.0,
          14.0,
          22.5,
          62.0,
          0.83,
          67.0,
          28.5,
          0.33,
          0.17,
          38.5,
          3.0,
          51.0,
          5.0,
          44.0,
          14.5,
          59.0,
          58.0,
          0.75,
          0.92,
          36.5,
          40.5,
          11.5,
          34.0,
          15.0,
          7.0,
          60.5,
          26.5,
          76.0,
          34.5
         ],
         "xaxis": "x2",
         "y": [
          17,
          17,
          16,
          15,
          13,
          12,
          12,
          11,
          11,
          10,
          9,
          9,
          8,
          7,
          7,
          6,
          6,
          6,
          6,
          6,
          5,
          5,
          5,
          5,
          5,
          5,
          5,
          4,
          4,
          3,
          3,
          3,
          3,
          3,
          3,
          3,
          3,
          3,
          3,
          3,
          3,
          2,
          2,
          2,
          2,
          2,
          2,
          2,
          2,
          2,
          2,
          2,
          1,
          1,
          1,
          1,
          1,
          1,
          1,
          1,
          1,
          1,
          1,
          1,
          1,
          1,
          1,
          1,
          1,
          1,
          1,
          1,
          1,
          1,
          1,
          1,
          1,
          1,
          1
         ],
         "yaxis": "y2"
        }
       ],
       "layout": {
        "annotations": [
         {
          "font": {
           "size": 16
          },
          "showarrow": false,
          "text": "Train data",
          "x": 0.225,
          "xanchor": "center",
          "xref": "paper",
          "y": 1.0,
          "yanchor": "bottom",
          "yref": "paper"
         },
         {
          "font": {
           "size": 16
          },
          "showarrow": false,
          "text": "Test data",
          "x": 0.775,
          "xanchor": "center",
          "xref": "paper",
          "y": 1.0,
          "yanchor": "bottom",
          "yref": "paper"
         }
        ],
        "showlegend": false,
        "xaxis": {
         "anchor": "y",
         "domain": [
          0.0,
          0.45
         ],
         "title": {
          "text": "Age"
         }
        },
        "xaxis2": {
         "anchor": "y2",
         "domain": [
          0.55,
          1.0
         ],
         "title": {
          "text": "Age"
         }
        },
        "yaxis": {
         "anchor": "x",
         "domain": [
          0.0,
          1.0
         ],
         "title": {
          "text": "Number of passengers"
         }
        },
        "yaxis2": {
         "anchor": "x2",
         "domain": [
          0.0,
          1.0
         ],
         "title": {
          "text": "Number of passengers"
         }
        }
       }
      },
      "text/html": [
       "<div id=\"9312a546-b4a2-4a6f-b584-55ecd5daf894\" style=\"height: 525px; width: 100%;\" class=\"plotly-graph-div\"></div><script type=\"text/javascript\">require([\"plotly\"], function(Plotly) { window.PLOTLYENV=window.PLOTLYENV || {};window.PLOTLYENV.BASE_URL=\"https://plot.ly\";Plotly.newPlot(\"9312a546-b4a2-4a6f-b584-55ecd5daf894\", [{\"marker\": {\"color\": \"Blue\"}, \"text\": [24.0, 22.0, 18.0, 19.0, 30.0, 28.0, 21.0, 25.0, 36.0, 29.0, 32.0, 27.0, 35.0, 26.0, 16.0, 31.0, 20.0, 33.0, 23.0, 34.0, 39.0, 17.0, 42.0, 40.0, 45.0, 38.0, 50.0, 2.0, 4.0, 47.0, 44.0, 48.0, 54.0, 9.0, 1.0, 51.0, 52.0, 14.0, 3.0, 49.0, 41.0, 37.0, 15.0, 43.0, 58.0, 11.0, 62.0, 60.0, 8.0, 56.0, 5.0, 46.0, 65.0, 7.0, 6.0, 61.0, 55.0, 28.5, 71.0, 59.0, 63.0, 0.83, 30.5, 70.0, 57.0, 0.75, 13.0, 10.0, 64.0, 40.5, 32.5, 45.5, 20.5, 24.5, 0.67, 14.5, 0.92, 74.0, 34.5, 80.0, 12.0, 36.5, 53.0, 55.5, 70.5, 66.0, 23.5, 0.42], \"x\": [24.0, 22.0, 18.0, 19.0, 30.0, 28.0, 21.0, 25.0, 36.0, 29.0, 32.0, 27.0, 35.0, 26.0, 16.0, 31.0, 20.0, 33.0, 23.0, 34.0, 39.0, 17.0, 42.0, 40.0, 45.0, 38.0, 50.0, 2.0, 4.0, 47.0, 44.0, 48.0, 54.0, 9.0, 1.0, 51.0, 52.0, 14.0, 3.0, 49.0, 41.0, 37.0, 15.0, 43.0, 58.0, 11.0, 62.0, 60.0, 8.0, 56.0, 5.0, 46.0, 65.0, 7.0, 6.0, 61.0, 55.0, 28.5, 71.0, 59.0, 63.0, 0.83, 30.5, 70.0, 57.0, 0.75, 13.0, 10.0, 64.0, 40.5, 32.5, 45.5, 20.5, 24.5, 0.67, 14.5, 0.92, 74.0, 34.5, 80.0, 12.0, 36.5, 53.0, 55.5, 70.5, 66.0, 23.5, 0.42], \"y\": [30, 27, 26, 25, 25, 25, 24, 23, 22, 20, 18, 18, 18, 18, 17, 17, 15, 15, 15, 15, 14, 13, 13, 13, 12, 11, 10, 10, 10, 9, 9, 9, 8, 8, 7, 7, 6, 6, 6, 6, 6, 6, 5, 5, 5, 4, 4, 4, 4, 4, 4, 3, 3, 3, 3, 3, 2, 2, 2, 2, 2, 2, 2, 2, 2, 2, 2, 2, 2, 2, 2, 2, 1, 1, 1, 1, 1, 1, 1, 1, 1, 1, 1, 1, 1, 1, 1, 1], \"type\": \"bar\", \"uid\": \"0b80ee5c-6e91-4b4a-bb21-7431596e7b36\", \"xaxis\": \"x\", \"yaxis\": \"y\"}, {\"marker\": {\"color\": \"Lightblue\"}, \"text\": [24.0, 21.0, 22.0, 30.0, 18.0, 27.0, 26.0, 25.0, 23.0, 29.0, 36.0, 45.0, 20.0, 17.0, 28.0, 32.0, 31.0, 55.0, 33.0, 39.0, 35.0, 41.0, 47.0, 40.0, 50.0, 42.0, 48.0, 19.0, 43.0, 1.0, 49.0, 6.0, 13.0, 60.0, 53.0, 18.5, 46.0, 64.0, 38.0, 57.0, 37.0, 10.0, 61.0, 32.5, 2.0, 16.0, 12.0, 9.0, 54.0, 8.0, 63.0, 14.0, 22.5, 62.0, 0.83, 67.0, 28.5, 0.33, 0.17, 38.5, 3.0, 51.0, 5.0, 44.0, 14.5, 59.0, 58.0, 0.75, 0.92, 36.5, 40.5, 11.5, 34.0, 15.0, 7.0, 60.5, 26.5, 76.0, 34.5], \"x\": [24.0, 21.0, 22.0, 30.0, 18.0, 27.0, 26.0, 25.0, 23.0, 29.0, 36.0, 45.0, 20.0, 17.0, 28.0, 32.0, 31.0, 55.0, 33.0, 39.0, 35.0, 41.0, 47.0, 40.0, 50.0, 42.0, 48.0, 19.0, 43.0, 1.0, 49.0, 6.0, 13.0, 60.0, 53.0, 18.5, 46.0, 64.0, 38.0, 57.0, 37.0, 10.0, 61.0, 32.5, 2.0, 16.0, 12.0, 9.0, 54.0, 8.0, 63.0, 14.0, 22.5, 62.0, 0.83, 67.0, 28.5, 0.33, 0.17, 38.5, 3.0, 51.0, 5.0, 44.0, 14.5, 59.0, 58.0, 0.75, 0.92, 36.5, 40.5, 11.5, 34.0, 15.0, 7.0, 60.5, 26.5, 76.0, 34.5], \"y\": [17, 17, 16, 15, 13, 12, 12, 11, 11, 10, 9, 9, 8, 7, 7, 6, 6, 6, 6, 6, 5, 5, 5, 5, 5, 5, 5, 4, 4, 3, 3, 3, 3, 3, 3, 3, 3, 3, 3, 3, 3, 2, 2, 2, 2, 2, 2, 2, 2, 2, 2, 2, 1, 1, 1, 1, 1, 1, 1, 1, 1, 1, 1, 1, 1, 1, 1, 1, 1, 1, 1, 1, 1, 1, 1, 1, 1, 1, 1], \"type\": \"bar\", \"uid\": \"2bd7c9cf-b69d-459b-a10b-181cba6bc0d0\", \"xaxis\": \"x2\", \"yaxis\": \"y2\"}], {\"annotations\": [{\"font\": {\"size\": 16}, \"showarrow\": false, \"text\": \"Train data\", \"x\": 0.225, \"xanchor\": \"center\", \"xref\": \"paper\", \"y\": 1.0, \"yanchor\": \"bottom\", \"yref\": \"paper\"}, {\"font\": {\"size\": 16}, \"showarrow\": false, \"text\": \"Test data\", \"x\": 0.775, \"xanchor\": \"center\", \"xref\": \"paper\", \"y\": 1.0, \"yanchor\": \"bottom\", \"yref\": \"paper\"}], \"xaxis\": {\"anchor\": \"y\", \"domain\": [0.0, 0.45], \"title\": {\"text\": \"Age\"}}, \"yaxis\": {\"anchor\": \"x\", \"domain\": [0.0, 1.0], \"title\": {\"text\": \"Number of passengers\"}}, \"xaxis2\": {\"anchor\": \"y2\", \"domain\": [0.55, 1.0], \"title\": {\"text\": \"Age\"}}, \"yaxis2\": {\"anchor\": \"x2\", \"domain\": [0.0, 1.0], \"title\": {\"text\": \"Number of passengers\"}}, \"showlegend\": false}, {\"showLink\": false, \"linkText\": \"Export to plot.ly\", \"plotlyServerURL\": \"https://plot.ly\"})});</script><script type=\"text/javascript\">window.addEventListener(\"resize\", function(){window._Plotly.Plots.resize(document.getElementById(\"9312a546-b4a2-4a6f-b584-55ecd5daf894\"));});</script>"
      ],
      "text/vnd.plotly.v1+html": [
       "<div id=\"9312a546-b4a2-4a6f-b584-55ecd5daf894\" style=\"height: 525px; width: 100%;\" class=\"plotly-graph-div\"></div><script type=\"text/javascript\">require([\"plotly\"], function(Plotly) { window.PLOTLYENV=window.PLOTLYENV || {};window.PLOTLYENV.BASE_URL=\"https://plot.ly\";Plotly.newPlot(\"9312a546-b4a2-4a6f-b584-55ecd5daf894\", [{\"marker\": {\"color\": \"Blue\"}, \"text\": [24.0, 22.0, 18.0, 19.0, 30.0, 28.0, 21.0, 25.0, 36.0, 29.0, 32.0, 27.0, 35.0, 26.0, 16.0, 31.0, 20.0, 33.0, 23.0, 34.0, 39.0, 17.0, 42.0, 40.0, 45.0, 38.0, 50.0, 2.0, 4.0, 47.0, 44.0, 48.0, 54.0, 9.0, 1.0, 51.0, 52.0, 14.0, 3.0, 49.0, 41.0, 37.0, 15.0, 43.0, 58.0, 11.0, 62.0, 60.0, 8.0, 56.0, 5.0, 46.0, 65.0, 7.0, 6.0, 61.0, 55.0, 28.5, 71.0, 59.0, 63.0, 0.83, 30.5, 70.0, 57.0, 0.75, 13.0, 10.0, 64.0, 40.5, 32.5, 45.5, 20.5, 24.5, 0.67, 14.5, 0.92, 74.0, 34.5, 80.0, 12.0, 36.5, 53.0, 55.5, 70.5, 66.0, 23.5, 0.42], \"x\": [24.0, 22.0, 18.0, 19.0, 30.0, 28.0, 21.0, 25.0, 36.0, 29.0, 32.0, 27.0, 35.0, 26.0, 16.0, 31.0, 20.0, 33.0, 23.0, 34.0, 39.0, 17.0, 42.0, 40.0, 45.0, 38.0, 50.0, 2.0, 4.0, 47.0, 44.0, 48.0, 54.0, 9.0, 1.0, 51.0, 52.0, 14.0, 3.0, 49.0, 41.0, 37.0, 15.0, 43.0, 58.0, 11.0, 62.0, 60.0, 8.0, 56.0, 5.0, 46.0, 65.0, 7.0, 6.0, 61.0, 55.0, 28.5, 71.0, 59.0, 63.0, 0.83, 30.5, 70.0, 57.0, 0.75, 13.0, 10.0, 64.0, 40.5, 32.5, 45.5, 20.5, 24.5, 0.67, 14.5, 0.92, 74.0, 34.5, 80.0, 12.0, 36.5, 53.0, 55.5, 70.5, 66.0, 23.5, 0.42], \"y\": [30, 27, 26, 25, 25, 25, 24, 23, 22, 20, 18, 18, 18, 18, 17, 17, 15, 15, 15, 15, 14, 13, 13, 13, 12, 11, 10, 10, 10, 9, 9, 9, 8, 8, 7, 7, 6, 6, 6, 6, 6, 6, 5, 5, 5, 4, 4, 4, 4, 4, 4, 3, 3, 3, 3, 3, 2, 2, 2, 2, 2, 2, 2, 2, 2, 2, 2, 2, 2, 2, 2, 2, 1, 1, 1, 1, 1, 1, 1, 1, 1, 1, 1, 1, 1, 1, 1, 1], \"type\": \"bar\", \"uid\": \"0b80ee5c-6e91-4b4a-bb21-7431596e7b36\", \"xaxis\": \"x\", \"yaxis\": \"y\"}, {\"marker\": {\"color\": \"Lightblue\"}, \"text\": [24.0, 21.0, 22.0, 30.0, 18.0, 27.0, 26.0, 25.0, 23.0, 29.0, 36.0, 45.0, 20.0, 17.0, 28.0, 32.0, 31.0, 55.0, 33.0, 39.0, 35.0, 41.0, 47.0, 40.0, 50.0, 42.0, 48.0, 19.0, 43.0, 1.0, 49.0, 6.0, 13.0, 60.0, 53.0, 18.5, 46.0, 64.0, 38.0, 57.0, 37.0, 10.0, 61.0, 32.5, 2.0, 16.0, 12.0, 9.0, 54.0, 8.0, 63.0, 14.0, 22.5, 62.0, 0.83, 67.0, 28.5, 0.33, 0.17, 38.5, 3.0, 51.0, 5.0, 44.0, 14.5, 59.0, 58.0, 0.75, 0.92, 36.5, 40.5, 11.5, 34.0, 15.0, 7.0, 60.5, 26.5, 76.0, 34.5], \"x\": [24.0, 21.0, 22.0, 30.0, 18.0, 27.0, 26.0, 25.0, 23.0, 29.0, 36.0, 45.0, 20.0, 17.0, 28.0, 32.0, 31.0, 55.0, 33.0, 39.0, 35.0, 41.0, 47.0, 40.0, 50.0, 42.0, 48.0, 19.0, 43.0, 1.0, 49.0, 6.0, 13.0, 60.0, 53.0, 18.5, 46.0, 64.0, 38.0, 57.0, 37.0, 10.0, 61.0, 32.5, 2.0, 16.0, 12.0, 9.0, 54.0, 8.0, 63.0, 14.0, 22.5, 62.0, 0.83, 67.0, 28.5, 0.33, 0.17, 38.5, 3.0, 51.0, 5.0, 44.0, 14.5, 59.0, 58.0, 0.75, 0.92, 36.5, 40.5, 11.5, 34.0, 15.0, 7.0, 60.5, 26.5, 76.0, 34.5], \"y\": [17, 17, 16, 15, 13, 12, 12, 11, 11, 10, 9, 9, 8, 7, 7, 6, 6, 6, 6, 6, 5, 5, 5, 5, 5, 5, 5, 4, 4, 3, 3, 3, 3, 3, 3, 3, 3, 3, 3, 3, 3, 2, 2, 2, 2, 2, 2, 2, 2, 2, 2, 2, 1, 1, 1, 1, 1, 1, 1, 1, 1, 1, 1, 1, 1, 1, 1, 1, 1, 1, 1, 1, 1, 1, 1, 1, 1, 1, 1], \"type\": \"bar\", \"uid\": \"2bd7c9cf-b69d-459b-a10b-181cba6bc0d0\", \"xaxis\": \"x2\", \"yaxis\": \"y2\"}], {\"annotations\": [{\"font\": {\"size\": 16}, \"showarrow\": false, \"text\": \"Train data\", \"x\": 0.225, \"xanchor\": \"center\", \"xref\": \"paper\", \"y\": 1.0, \"yanchor\": \"bottom\", \"yref\": \"paper\"}, {\"font\": {\"size\": 16}, \"showarrow\": false, \"text\": \"Test data\", \"x\": 0.775, \"xanchor\": \"center\", \"xref\": \"paper\", \"y\": 1.0, \"yanchor\": \"bottom\", \"yref\": \"paper\"}], \"xaxis\": {\"anchor\": \"y\", \"domain\": [0.0, 0.45], \"title\": {\"text\": \"Age\"}}, \"yaxis\": {\"anchor\": \"x\", \"domain\": [0.0, 1.0], \"title\": {\"text\": \"Number of passengers\"}}, \"xaxis2\": {\"anchor\": \"y2\", \"domain\": [0.55, 1.0], \"title\": {\"text\": \"Age\"}}, \"yaxis2\": {\"anchor\": \"x2\", \"domain\": [0.0, 1.0], \"title\": {\"text\": \"Number of passengers\"}}, \"showlegend\": false}, {\"showLink\": false, \"linkText\": \"Export to plot.ly\", \"plotlyServerURL\": \"https://plot.ly\"})});</script><script type=\"text/javascript\">window.addEventListener(\"resize\", function(){window._Plotly.Plots.resize(document.getElementById(\"9312a546-b4a2-4a6f-b584-55ecd5daf894\"));});</script>"
      ]
     },
     "metadata": {},
     "output_type": "display_data"
    }
   ],
   "source": [
    "plot_two_bar(get_categories(train_df,'Age'), get_categories(test_df,'Age'), \n",
    "             'Train data', 'Test data',\n",
    "             'Age', 'Number of passengers')"
   ]
  },
  {
   "cell_type": "code",
   "execution_count": 18,
   "metadata": {
    "_kg_hide-input": true,
    "_uuid": "43eda2b0a24c47b49e32d93c718c20a46b68741e"
   },
   "outputs": [
    {
     "data": {
      "application/vnd.plotly.v1+json": {
       "config": {
        "linkText": "Export to plot.ly",
        "plotlyServerURL": "https://plot.ly",
        "showLink": false
       },
       "data": [
        {
         "marker": {
          "color": "Blue"
         },
         "name": "Survived",
         "text": [
          15.0,
          11.0,
          11.0,
          11.0,
          11.0,
          10.0,
          9.0,
          9.0,
          9.0,
          8.0,
          8.0,
          7.0,
          7.0,
          6.0,
          6.0,
          6.0,
          6.0,
          6.0,
          6.0,
          6.0,
          6.0,
          6.0,
          5.0,
          5.0,
          5.0,
          5.0,
          5.0,
          5.0,
          5.0,
          5.0,
          4.0,
          4.0,
          4.0,
          3.0,
          3.0,
          3.0,
          3.0,
          3.0,
          3.0,
          3.0,
          2.0,
          2.0,
          2.0,
          2.0,
          2.0,
          2.0,
          2.0,
          2.0,
          2.0,
          2.0,
          2.0,
          2.0,
          1.0,
          1.0,
          1.0,
          1.0,
          1.0,
          1.0,
          1.0,
          1.0,
          1.0,
          1.0,
          1.0,
          1.0,
          1.0
         ],
         "type": "bar",
         "uid": "08ec1b97-120b-43ed-9bd1-2cc078f8af53",
         "x": [
          24.0,
          22.0,
          27.0,
          35.0,
          36.0,
          30.0,
          18.0,
          19.0,
          32.0,
          29.0,
          31.0,
          4.0,
          28.0,
          16.0,
          17.0,
          25.0,
          26.0,
          33.0,
          34.0,
          40.0,
          42.0,
          48.0,
          1.0,
          3.0,
          21.0,
          23.0,
          38.0,
          39.0,
          45.0,
          50.0,
          5.0,
          15.0,
          49.0,
          2.0,
          14.0,
          20.0,
          44.0,
          52.0,
          54.0,
          58.0,
          0.75,
          0.83,
          6.0,
          8.0,
          9.0,
          13.0,
          41.0,
          51.0,
          56.0,
          60.0,
          62.0,
          63.0,
          0.42,
          0.67,
          0.92,
          7.0,
          11.0,
          12.0,
          32.5,
          37.0,
          43.0,
          47.0,
          53.0,
          55.0,
          80.0
         ],
         "y": [
          15,
          11,
          11,
          11,
          11,
          10,
          9,
          9,
          9,
          8,
          8,
          7,
          7,
          6,
          6,
          6,
          6,
          6,
          6,
          6,
          6,
          6,
          5,
          5,
          5,
          5,
          5,
          5,
          5,
          5,
          4,
          4,
          4,
          3,
          3,
          3,
          3,
          3,
          3,
          3,
          2,
          2,
          2,
          2,
          2,
          2,
          2,
          2,
          2,
          2,
          2,
          2,
          1,
          1,
          1,
          1,
          1,
          1,
          1,
          1,
          1,
          1,
          1,
          1,
          1
         ]
        },
        {
         "marker": {
          "color": "Red"
         },
         "name": "Not survived",
         "text": [
          15.0,
          11.0,
          11.0,
          11.0,
          11.0,
          10.0,
          9.0,
          9.0,
          9.0,
          8.0,
          8.0,
          7.0,
          7.0,
          6.0,
          6.0,
          6.0,
          6.0,
          6.0,
          6.0,
          6.0,
          6.0,
          6.0,
          5.0,
          5.0,
          5.0,
          5.0,
          5.0,
          5.0,
          5.0,
          5.0,
          4.0,
          4.0,
          4.0,
          3.0,
          3.0,
          3.0,
          3.0,
          3.0,
          3.0,
          3.0,
          2.0,
          2.0,
          2.0,
          2.0,
          2.0,
          2.0,
          2.0,
          2.0,
          2.0,
          2.0,
          2.0,
          2.0,
          1.0,
          1.0,
          1.0,
          1.0,
          1.0,
          1.0,
          1.0,
          1.0,
          1.0,
          1.0,
          1.0,
          1.0,
          1.0
         ],
         "type": "bar",
         "uid": "c0320f23-560b-4142-a0fb-9c04d57b37df",
         "x": [
          21.0,
          28.0,
          18.0,
          25.0,
          19.0,
          22.0,
          24.0,
          30.0,
          20.0,
          26.0,
          29.0,
          16.0,
          36.0,
          23.0,
          31.0,
          32.0,
          33.0,
          34.0,
          39.0,
          47.0,
          2.0,
          17.0,
          27.0,
          35.0,
          40.0,
          42.0,
          45.0,
          9.0,
          38.0,
          44.0,
          37.0,
          50.0,
          51.0,
          54.0,
          41.0,
          43.0,
          4.0,
          11.0,
          14.0,
          46.0,
          48.0,
          52.0,
          61.0,
          65.0,
          1.0,
          7.0,
          8.0,
          10.0,
          28.5,
          30.5,
          40.5,
          45.5,
          49.0,
          56.0,
          57.0,
          58.0,
          59.0,
          60.0,
          62.0,
          64.0,
          70.0,
          71.0,
          3.0,
          6.0,
          14.5,
          15.0,
          20.5,
          23.5,
          24.5,
          32.5,
          34.5,
          36.5,
          55.0,
          55.5,
          66.0,
          70.5,
          74.0
         ],
         "y": [
          19,
          18,
          17,
          17,
          16,
          16,
          15,
          15,
          12,
          12,
          12,
          11,
          11,
          10,
          9,
          9,
          9,
          9,
          9,
          8,
          7,
          7,
          7,
          7,
          7,
          7,
          7,
          6,
          6,
          6,
          5,
          5,
          5,
          5,
          4,
          4,
          3,
          3,
          3,
          3,
          3,
          3,
          3,
          3,
          2,
          2,
          2,
          2,
          2,
          2,
          2,
          2,
          2,
          2,
          2,
          2,
          2,
          2,
          2,
          2,
          2,
          2,
          1,
          1,
          1,
          1,
          1,
          1,
          1,
          1,
          1,
          1,
          1,
          1,
          1,
          1,
          1
         ]
        }
       ],
       "layout": {
        "hovermode": "closest",
        "title": {
         "text": "Number of survived and not survived passengers by Age"
        },
        "xaxis": {
         "showticklabels": true,
         "title": {
          "text": "Age"
         }
        },
        "yaxis": {
         "title": {
          "text": "Number of passengers"
         }
        }
       }
      },
      "text/html": [
       "<div id=\"6fb39cfc-39ae-4a41-b098-5a8282db447a\" style=\"height: 525px; width: 100%;\" class=\"plotly-graph-div\"></div><script type=\"text/javascript\">require([\"plotly\"], function(Plotly) { window.PLOTLYENV=window.PLOTLYENV || {};window.PLOTLYENV.BASE_URL=\"https://plot.ly\";Plotly.newPlot(\"6fb39cfc-39ae-4a41-b098-5a8282db447a\", [{\"marker\": {\"color\": \"Blue\"}, \"name\": \"Survived\", \"text\": [15.0, 11.0, 11.0, 11.0, 11.0, 10.0, 9.0, 9.0, 9.0, 8.0, 8.0, 7.0, 7.0, 6.0, 6.0, 6.0, 6.0, 6.0, 6.0, 6.0, 6.0, 6.0, 5.0, 5.0, 5.0, 5.0, 5.0, 5.0, 5.0, 5.0, 4.0, 4.0, 4.0, 3.0, 3.0, 3.0, 3.0, 3.0, 3.0, 3.0, 2.0, 2.0, 2.0, 2.0, 2.0, 2.0, 2.0, 2.0, 2.0, 2.0, 2.0, 2.0, 1.0, 1.0, 1.0, 1.0, 1.0, 1.0, 1.0, 1.0, 1.0, 1.0, 1.0, 1.0, 1.0], \"x\": [24.0, 22.0, 27.0, 35.0, 36.0, 30.0, 18.0, 19.0, 32.0, 29.0, 31.0, 4.0, 28.0, 16.0, 17.0, 25.0, 26.0, 33.0, 34.0, 40.0, 42.0, 48.0, 1.0, 3.0, 21.0, 23.0, 38.0, 39.0, 45.0, 50.0, 5.0, 15.0, 49.0, 2.0, 14.0, 20.0, 44.0, 52.0, 54.0, 58.0, 0.75, 0.83, 6.0, 8.0, 9.0, 13.0, 41.0, 51.0, 56.0, 60.0, 62.0, 63.0, 0.42, 0.67, 0.92, 7.0, 11.0, 12.0, 32.5, 37.0, 43.0, 47.0, 53.0, 55.0, 80.0], \"y\": [15, 11, 11, 11, 11, 10, 9, 9, 9, 8, 8, 7, 7, 6, 6, 6, 6, 6, 6, 6, 6, 6, 5, 5, 5, 5, 5, 5, 5, 5, 4, 4, 4, 3, 3, 3, 3, 3, 3, 3, 2, 2, 2, 2, 2, 2, 2, 2, 2, 2, 2, 2, 1, 1, 1, 1, 1, 1, 1, 1, 1, 1, 1, 1, 1], \"type\": \"bar\", \"uid\": \"42bab7a5-2f13-4851-b8ee-103abc70ac4c\"}, {\"marker\": {\"color\": \"Red\"}, \"name\": \"Not survived\", \"text\": [15.0, 11.0, 11.0, 11.0, 11.0, 10.0, 9.0, 9.0, 9.0, 8.0, 8.0, 7.0, 7.0, 6.0, 6.0, 6.0, 6.0, 6.0, 6.0, 6.0, 6.0, 6.0, 5.0, 5.0, 5.0, 5.0, 5.0, 5.0, 5.0, 5.0, 4.0, 4.0, 4.0, 3.0, 3.0, 3.0, 3.0, 3.0, 3.0, 3.0, 2.0, 2.0, 2.0, 2.0, 2.0, 2.0, 2.0, 2.0, 2.0, 2.0, 2.0, 2.0, 1.0, 1.0, 1.0, 1.0, 1.0, 1.0, 1.0, 1.0, 1.0, 1.0, 1.0, 1.0, 1.0], \"x\": [21.0, 28.0, 18.0, 25.0, 19.0, 22.0, 24.0, 30.0, 20.0, 26.0, 29.0, 16.0, 36.0, 23.0, 31.0, 32.0, 33.0, 34.0, 39.0, 47.0, 2.0, 17.0, 27.0, 35.0, 40.0, 42.0, 45.0, 9.0, 38.0, 44.0, 37.0, 50.0, 51.0, 54.0, 41.0, 43.0, 4.0, 11.0, 14.0, 46.0, 48.0, 52.0, 61.0, 65.0, 1.0, 7.0, 8.0, 10.0, 28.5, 30.5, 40.5, 45.5, 49.0, 56.0, 57.0, 58.0, 59.0, 60.0, 62.0, 64.0, 70.0, 71.0, 3.0, 6.0, 14.5, 15.0, 20.5, 23.5, 24.5, 32.5, 34.5, 36.5, 55.0, 55.5, 66.0, 70.5, 74.0], \"y\": [19, 18, 17, 17, 16, 16, 15, 15, 12, 12, 12, 11, 11, 10, 9, 9, 9, 9, 9, 8, 7, 7, 7, 7, 7, 7, 7, 6, 6, 6, 5, 5, 5, 5, 4, 4, 3, 3, 3, 3, 3, 3, 3, 3, 2, 2, 2, 2, 2, 2, 2, 2, 2, 2, 2, 2, 2, 2, 2, 2, 2, 2, 1, 1, 1, 1, 1, 1, 1, 1, 1, 1, 1, 1, 1, 1, 1], \"type\": \"bar\", \"uid\": \"9ee1bfd6-5e82-444b-8ab0-97ceb345aea4\"}], {\"hovermode\": \"closest\", \"title\": {\"text\": \"Number of survived and not survived passengers by Age\"}, \"xaxis\": {\"showticklabels\": true, \"title\": {\"text\": \"Age\"}}, \"yaxis\": {\"title\": {\"text\": \"Number of passengers\"}}}, {\"showLink\": false, \"linkText\": \"Export to plot.ly\", \"plotlyServerURL\": \"https://plot.ly\"})});</script><script type=\"text/javascript\">window.addEventListener(\"resize\", function(){window._Plotly.Plots.resize(document.getElementById(\"6fb39cfc-39ae-4a41-b098-5a8282db447a\"));});</script>"
      ],
      "text/vnd.plotly.v1+html": [
       "<div id=\"6fb39cfc-39ae-4a41-b098-5a8282db447a\" style=\"height: 525px; width: 100%;\" class=\"plotly-graph-div\"></div><script type=\"text/javascript\">require([\"plotly\"], function(Plotly) { window.PLOTLYENV=window.PLOTLYENV || {};window.PLOTLYENV.BASE_URL=\"https://plot.ly\";Plotly.newPlot(\"6fb39cfc-39ae-4a41-b098-5a8282db447a\", [{\"marker\": {\"color\": \"Blue\"}, \"name\": \"Survived\", \"text\": [15.0, 11.0, 11.0, 11.0, 11.0, 10.0, 9.0, 9.0, 9.0, 8.0, 8.0, 7.0, 7.0, 6.0, 6.0, 6.0, 6.0, 6.0, 6.0, 6.0, 6.0, 6.0, 5.0, 5.0, 5.0, 5.0, 5.0, 5.0, 5.0, 5.0, 4.0, 4.0, 4.0, 3.0, 3.0, 3.0, 3.0, 3.0, 3.0, 3.0, 2.0, 2.0, 2.0, 2.0, 2.0, 2.0, 2.0, 2.0, 2.0, 2.0, 2.0, 2.0, 1.0, 1.0, 1.0, 1.0, 1.0, 1.0, 1.0, 1.0, 1.0, 1.0, 1.0, 1.0, 1.0], \"x\": [24.0, 22.0, 27.0, 35.0, 36.0, 30.0, 18.0, 19.0, 32.0, 29.0, 31.0, 4.0, 28.0, 16.0, 17.0, 25.0, 26.0, 33.0, 34.0, 40.0, 42.0, 48.0, 1.0, 3.0, 21.0, 23.0, 38.0, 39.0, 45.0, 50.0, 5.0, 15.0, 49.0, 2.0, 14.0, 20.0, 44.0, 52.0, 54.0, 58.0, 0.75, 0.83, 6.0, 8.0, 9.0, 13.0, 41.0, 51.0, 56.0, 60.0, 62.0, 63.0, 0.42, 0.67, 0.92, 7.0, 11.0, 12.0, 32.5, 37.0, 43.0, 47.0, 53.0, 55.0, 80.0], \"y\": [15, 11, 11, 11, 11, 10, 9, 9, 9, 8, 8, 7, 7, 6, 6, 6, 6, 6, 6, 6, 6, 6, 5, 5, 5, 5, 5, 5, 5, 5, 4, 4, 4, 3, 3, 3, 3, 3, 3, 3, 2, 2, 2, 2, 2, 2, 2, 2, 2, 2, 2, 2, 1, 1, 1, 1, 1, 1, 1, 1, 1, 1, 1, 1, 1], \"type\": \"bar\", \"uid\": \"42bab7a5-2f13-4851-b8ee-103abc70ac4c\"}, {\"marker\": {\"color\": \"Red\"}, \"name\": \"Not survived\", \"text\": [15.0, 11.0, 11.0, 11.0, 11.0, 10.0, 9.0, 9.0, 9.0, 8.0, 8.0, 7.0, 7.0, 6.0, 6.0, 6.0, 6.0, 6.0, 6.0, 6.0, 6.0, 6.0, 5.0, 5.0, 5.0, 5.0, 5.0, 5.0, 5.0, 5.0, 4.0, 4.0, 4.0, 3.0, 3.0, 3.0, 3.0, 3.0, 3.0, 3.0, 2.0, 2.0, 2.0, 2.0, 2.0, 2.0, 2.0, 2.0, 2.0, 2.0, 2.0, 2.0, 1.0, 1.0, 1.0, 1.0, 1.0, 1.0, 1.0, 1.0, 1.0, 1.0, 1.0, 1.0, 1.0], \"x\": [21.0, 28.0, 18.0, 25.0, 19.0, 22.0, 24.0, 30.0, 20.0, 26.0, 29.0, 16.0, 36.0, 23.0, 31.0, 32.0, 33.0, 34.0, 39.0, 47.0, 2.0, 17.0, 27.0, 35.0, 40.0, 42.0, 45.0, 9.0, 38.0, 44.0, 37.0, 50.0, 51.0, 54.0, 41.0, 43.0, 4.0, 11.0, 14.0, 46.0, 48.0, 52.0, 61.0, 65.0, 1.0, 7.0, 8.0, 10.0, 28.5, 30.5, 40.5, 45.5, 49.0, 56.0, 57.0, 58.0, 59.0, 60.0, 62.0, 64.0, 70.0, 71.0, 3.0, 6.0, 14.5, 15.0, 20.5, 23.5, 24.5, 32.5, 34.5, 36.5, 55.0, 55.5, 66.0, 70.5, 74.0], \"y\": [19, 18, 17, 17, 16, 16, 15, 15, 12, 12, 12, 11, 11, 10, 9, 9, 9, 9, 9, 8, 7, 7, 7, 7, 7, 7, 7, 6, 6, 6, 5, 5, 5, 5, 4, 4, 3, 3, 3, 3, 3, 3, 3, 3, 2, 2, 2, 2, 2, 2, 2, 2, 2, 2, 2, 2, 2, 2, 2, 2, 2, 2, 1, 1, 1, 1, 1, 1, 1, 1, 1, 1, 1, 1, 1, 1, 1], \"type\": \"bar\", \"uid\": \"9ee1bfd6-5e82-444b-8ab0-97ceb345aea4\"}], {\"hovermode\": \"closest\", \"title\": {\"text\": \"Number of survived and not survived passengers by Age\"}, \"xaxis\": {\"showticklabels\": true, \"title\": {\"text\": \"Age\"}}, \"yaxis\": {\"title\": {\"text\": \"Number of passengers\"}}}, {\"showLink\": false, \"linkText\": \"Export to plot.ly\", \"plotlyServerURL\": \"https://plot.ly\"})});</script><script type=\"text/javascript\">window.addEventListener(\"resize\", function(){window._Plotly.Plots.resize(document.getElementById(\"6fb39cfc-39ae-4a41-b098-5a8282db447a\"));});</script>"
      ]
     },
     "metadata": {},
     "output_type": "display_data"
    }
   ],
   "source": [
    "plot_survived_bar(get_survived_categories(train_df,'Age'), 'Age')"
   ]
  },
  {
   "cell_type": "markdown",
   "metadata": {
    "_uuid": "c96432c1179308eb55ace58d41c8df2722664655"
   },
   "source": [
    "Majority of the passengers were between 20 and 35 years old.\n",
    "\n",
    "The survival rate for the age interval 15-35 years was quite small.\n"
   ]
  },
  {
   "cell_type": "code",
   "execution_count": 19,
   "metadata": {
    "_kg_hide-input": true,
    "_uuid": "fa595dad9118aa5607301e030c997c2eca911870"
   },
   "outputs": [
    {
     "name": "stdout",
     "output_type": "stream",
     "text": [
      "This is the format of your plot grid:\n",
      "[ (1,1) x1,y1 ]  [ (1,2) x2,y2 ]\n",
      "\n"
     ]
    },
    {
     "data": {
      "application/vnd.plotly.v1+json": {
       "config": {
        "linkText": "Export to plot.ly",
        "plotlyServerURL": "https://plot.ly",
        "showLink": false
       },
       "data": [
        {
         "marker": {
          "color": "Blue"
         },
         "text": [
          0.0,
          1.0,
          2.0,
          4.0,
          3.0,
          8.0,
          5.0
         ],
         "type": "bar",
         "uid": "b5cb4606-6edf-41af-a4b5-1a4bbf5ff292",
         "x": [
          0,
          1,
          2,
          4,
          3,
          8,
          5
         ],
         "xaxis": "x",
         "y": [
          608,
          209,
          28,
          18,
          16,
          7,
          5
         ],
         "yaxis": "y"
        },
        {
         "marker": {
          "color": "Lightblue"
         },
         "text": [
          0.0,
          1.0,
          2.0,
          4.0,
          3.0,
          8.0,
          5.0
         ],
         "type": "bar",
         "uid": "930f0310-4ecc-4593-8df8-e34519bce09e",
         "x": [
          0,
          1,
          2,
          4,
          3,
          8,
          5
         ],
         "xaxis": "x2",
         "y": [
          283,
          110,
          14,
          4,
          4,
          2,
          1
         ],
         "yaxis": "y2"
        }
       ],
       "layout": {
        "annotations": [
         {
          "font": {
           "size": 16
          },
          "showarrow": false,
          "text": "Train data",
          "x": 0.225,
          "xanchor": "center",
          "xref": "paper",
          "y": 1.0,
          "yanchor": "bottom",
          "yref": "paper"
         },
         {
          "font": {
           "size": 16
          },
          "showarrow": false,
          "text": "Test data",
          "x": 0.775,
          "xanchor": "center",
          "xref": "paper",
          "y": 1.0,
          "yanchor": "bottom",
          "yref": "paper"
         }
        ],
        "showlegend": false,
        "xaxis": {
         "anchor": "y",
         "domain": [
          0.0,
          0.45
         ],
         "title": {
          "text": "SibSp"
         }
        },
        "xaxis2": {
         "anchor": "y2",
         "domain": [
          0.55,
          1.0
         ],
         "title": {
          "text": "SibSp"
         }
        },
        "yaxis": {
         "anchor": "x",
         "domain": [
          0.0,
          1.0
         ],
         "title": {
          "text": "Number of passengers"
         }
        },
        "yaxis2": {
         "anchor": "x2",
         "domain": [
          0.0,
          1.0
         ],
         "title": {
          "text": "Number of passengers"
         }
        }
       }
      },
      "text/html": [
       "<div id=\"05fd2f90-9072-4ba4-b0a0-e6b4c770a062\" style=\"height: 525px; width: 100%;\" class=\"plotly-graph-div\"></div><script type=\"text/javascript\">require([\"plotly\"], function(Plotly) { window.PLOTLYENV=window.PLOTLYENV || {};window.PLOTLYENV.BASE_URL=\"https://plot.ly\";Plotly.newPlot(\"05fd2f90-9072-4ba4-b0a0-e6b4c770a062\", [{\"marker\": {\"color\": \"Blue\"}, \"text\": [0.0, 1.0, 2.0, 4.0, 3.0, 8.0, 5.0], \"x\": [0, 1, 2, 4, 3, 8, 5], \"y\": [608, 209, 28, 18, 16, 7, 5], \"type\": \"bar\", \"uid\": \"b5cb4606-6edf-41af-a4b5-1a4bbf5ff292\", \"xaxis\": \"x\", \"yaxis\": \"y\"}, {\"marker\": {\"color\": \"Lightblue\"}, \"text\": [0.0, 1.0, 2.0, 4.0, 3.0, 8.0, 5.0], \"x\": [0, 1, 2, 4, 3, 8, 5], \"y\": [283, 110, 14, 4, 4, 2, 1], \"type\": \"bar\", \"uid\": \"930f0310-4ecc-4593-8df8-e34519bce09e\", \"xaxis\": \"x2\", \"yaxis\": \"y2\"}], {\"annotations\": [{\"font\": {\"size\": 16}, \"showarrow\": false, \"text\": \"Train data\", \"x\": 0.225, \"xanchor\": \"center\", \"xref\": \"paper\", \"y\": 1.0, \"yanchor\": \"bottom\", \"yref\": \"paper\"}, {\"font\": {\"size\": 16}, \"showarrow\": false, \"text\": \"Test data\", \"x\": 0.775, \"xanchor\": \"center\", \"xref\": \"paper\", \"y\": 1.0, \"yanchor\": \"bottom\", \"yref\": \"paper\"}], \"xaxis\": {\"anchor\": \"y\", \"domain\": [0.0, 0.45], \"title\": {\"text\": \"SibSp\"}}, \"yaxis\": {\"anchor\": \"x\", \"domain\": [0.0, 1.0], \"title\": {\"text\": \"Number of passengers\"}}, \"xaxis2\": {\"anchor\": \"y2\", \"domain\": [0.55, 1.0], \"title\": {\"text\": \"SibSp\"}}, \"yaxis2\": {\"anchor\": \"x2\", \"domain\": [0.0, 1.0], \"title\": {\"text\": \"Number of passengers\"}}, \"showlegend\": false}, {\"showLink\": false, \"linkText\": \"Export to plot.ly\", \"plotlyServerURL\": \"https://plot.ly\"})});</script><script type=\"text/javascript\">window.addEventListener(\"resize\", function(){window._Plotly.Plots.resize(document.getElementById(\"05fd2f90-9072-4ba4-b0a0-e6b4c770a062\"));});</script>"
      ],
      "text/vnd.plotly.v1+html": [
       "<div id=\"05fd2f90-9072-4ba4-b0a0-e6b4c770a062\" style=\"height: 525px; width: 100%;\" class=\"plotly-graph-div\"></div><script type=\"text/javascript\">require([\"plotly\"], function(Plotly) { window.PLOTLYENV=window.PLOTLYENV || {};window.PLOTLYENV.BASE_URL=\"https://plot.ly\";Plotly.newPlot(\"05fd2f90-9072-4ba4-b0a0-e6b4c770a062\", [{\"marker\": {\"color\": \"Blue\"}, \"text\": [0.0, 1.0, 2.0, 4.0, 3.0, 8.0, 5.0], \"x\": [0, 1, 2, 4, 3, 8, 5], \"y\": [608, 209, 28, 18, 16, 7, 5], \"type\": \"bar\", \"uid\": \"b5cb4606-6edf-41af-a4b5-1a4bbf5ff292\", \"xaxis\": \"x\", \"yaxis\": \"y\"}, {\"marker\": {\"color\": \"Lightblue\"}, \"text\": [0.0, 1.0, 2.0, 4.0, 3.0, 8.0, 5.0], \"x\": [0, 1, 2, 4, 3, 8, 5], \"y\": [283, 110, 14, 4, 4, 2, 1], \"type\": \"bar\", \"uid\": \"930f0310-4ecc-4593-8df8-e34519bce09e\", \"xaxis\": \"x2\", \"yaxis\": \"y2\"}], {\"annotations\": [{\"font\": {\"size\": 16}, \"showarrow\": false, \"text\": \"Train data\", \"x\": 0.225, \"xanchor\": \"center\", \"xref\": \"paper\", \"y\": 1.0, \"yanchor\": \"bottom\", \"yref\": \"paper\"}, {\"font\": {\"size\": 16}, \"showarrow\": false, \"text\": \"Test data\", \"x\": 0.775, \"xanchor\": \"center\", \"xref\": \"paper\", \"y\": 1.0, \"yanchor\": \"bottom\", \"yref\": \"paper\"}], \"xaxis\": {\"anchor\": \"y\", \"domain\": [0.0, 0.45], \"title\": {\"text\": \"SibSp\"}}, \"yaxis\": {\"anchor\": \"x\", \"domain\": [0.0, 1.0], \"title\": {\"text\": \"Number of passengers\"}}, \"xaxis2\": {\"anchor\": \"y2\", \"domain\": [0.55, 1.0], \"title\": {\"text\": \"SibSp\"}}, \"yaxis2\": {\"anchor\": \"x2\", \"domain\": [0.0, 1.0], \"title\": {\"text\": \"Number of passengers\"}}, \"showlegend\": false}, {\"showLink\": false, \"linkText\": \"Export to plot.ly\", \"plotlyServerURL\": \"https://plot.ly\"})});</script><script type=\"text/javascript\">window.addEventListener(\"resize\", function(){window._Plotly.Plots.resize(document.getElementById(\"05fd2f90-9072-4ba4-b0a0-e6b4c770a062\"));});</script>"
      ]
     },
     "metadata": {},
     "output_type": "display_data"
    }
   ],
   "source": [
    "plot_two_bar(get_categories(train_df,'SibSp'), get_categories(test_df,'SibSp'), \n",
    "             'Train data', 'Test data',\n",
    "             'SibSp', 'Number of passengers')"
   ]
  },
  {
   "cell_type": "code",
   "execution_count": 20,
   "metadata": {
    "_kg_hide-input": true,
    "_uuid": "56bafb5900498cd0a6976a6b654908f71654b7ff"
   },
   "outputs": [
    {
     "data": {
      "application/vnd.plotly.v1+json": {
       "config": {
        "linkText": "Export to plot.ly",
        "plotlyServerURL": "https://plot.ly",
        "showLink": false
       },
       "data": [
        {
         "marker": {
          "color": "Blue"
         },
         "name": "Survived",
         "text": [
          210.0,
          112.0,
          13.0,
          4.0,
          3.0
         ],
         "type": "bar",
         "uid": "4a2a2e72-c3bd-40ca-ad7e-333c99f37680",
         "x": [
          0,
          1,
          2,
          3,
          4
         ],
         "y": [
          210,
          112,
          13,
          4,
          3
         ]
        },
        {
         "marker": {
          "color": "Red"
         },
         "name": "Not survived",
         "text": [
          210.0,
          112.0,
          13.0,
          4.0,
          3.0
         ],
         "type": "bar",
         "uid": "de382762-6c40-4be9-975f-885986ba3a9c",
         "x": [
          0,
          1,
          2,
          4,
          3,
          8,
          5
         ],
         "y": [
          398,
          97,
          15,
          15,
          12,
          7,
          5
         ]
        }
       ],
       "layout": {
        "hovermode": "closest",
        "title": {
         "text": "Number of survived and not survived passengers by SibSp"
        },
        "xaxis": {
         "showticklabels": true,
         "title": {
          "text": "SibSp"
         }
        },
        "yaxis": {
         "title": {
          "text": "Number of passengers"
         }
        }
       }
      },
      "text/html": [
       "<div id=\"7e919d9b-7785-4245-ab76-9fb52517c794\" style=\"height: 525px; width: 100%;\" class=\"plotly-graph-div\"></div><script type=\"text/javascript\">require([\"plotly\"], function(Plotly) { window.PLOTLYENV=window.PLOTLYENV || {};window.PLOTLYENV.BASE_URL=\"https://plot.ly\";Plotly.newPlot(\"7e919d9b-7785-4245-ab76-9fb52517c794\", [{\"marker\": {\"color\": \"Blue\"}, \"name\": \"Survived\", \"text\": [210.0, 112.0, 13.0, 4.0, 3.0], \"x\": [0, 1, 2, 3, 4], \"y\": [210, 112, 13, 4, 3], \"type\": \"bar\", \"uid\": \"c3db8b19-7139-4531-92dd-608d89eb356e\"}, {\"marker\": {\"color\": \"Red\"}, \"name\": \"Not survived\", \"text\": [210.0, 112.0, 13.0, 4.0, 3.0], \"x\": [0, 1, 2, 4, 3, 8, 5], \"y\": [398, 97, 15, 15, 12, 7, 5], \"type\": \"bar\", \"uid\": \"ee7e2104-3a54-4612-82f6-8d4613b0c9a0\"}], {\"hovermode\": \"closest\", \"title\": {\"text\": \"Number of survived and not survived passengers by SibSp\"}, \"xaxis\": {\"showticklabels\": true, \"title\": {\"text\": \"SibSp\"}}, \"yaxis\": {\"title\": {\"text\": \"Number of passengers\"}}}, {\"showLink\": false, \"linkText\": \"Export to plot.ly\", \"plotlyServerURL\": \"https://plot.ly\"})});</script><script type=\"text/javascript\">window.addEventListener(\"resize\", function(){window._Plotly.Plots.resize(document.getElementById(\"7e919d9b-7785-4245-ab76-9fb52517c794\"));});</script>"
      ],
      "text/vnd.plotly.v1+html": [
       "<div id=\"7e919d9b-7785-4245-ab76-9fb52517c794\" style=\"height: 525px; width: 100%;\" class=\"plotly-graph-div\"></div><script type=\"text/javascript\">require([\"plotly\"], function(Plotly) { window.PLOTLYENV=window.PLOTLYENV || {};window.PLOTLYENV.BASE_URL=\"https://plot.ly\";Plotly.newPlot(\"7e919d9b-7785-4245-ab76-9fb52517c794\", [{\"marker\": {\"color\": \"Blue\"}, \"name\": \"Survived\", \"text\": [210.0, 112.0, 13.0, 4.0, 3.0], \"x\": [0, 1, 2, 3, 4], \"y\": [210, 112, 13, 4, 3], \"type\": \"bar\", \"uid\": \"c3db8b19-7139-4531-92dd-608d89eb356e\"}, {\"marker\": {\"color\": \"Red\"}, \"name\": \"Not survived\", \"text\": [210.0, 112.0, 13.0, 4.0, 3.0], \"x\": [0, 1, 2, 4, 3, 8, 5], \"y\": [398, 97, 15, 15, 12, 7, 5], \"type\": \"bar\", \"uid\": \"ee7e2104-3a54-4612-82f6-8d4613b0c9a0\"}], {\"hovermode\": \"closest\", \"title\": {\"text\": \"Number of survived and not survived passengers by SibSp\"}, \"xaxis\": {\"showticklabels\": true, \"title\": {\"text\": \"SibSp\"}}, \"yaxis\": {\"title\": {\"text\": \"Number of passengers\"}}}, {\"showLink\": false, \"linkText\": \"Export to plot.ly\", \"plotlyServerURL\": \"https://plot.ly\"})});</script><script type=\"text/javascript\">window.addEventListener(\"resize\", function(){window._Plotly.Plots.resize(document.getElementById(\"7e919d9b-7785-4245-ab76-9fb52517c794\"));});</script>"
      ]
     },
     "metadata": {},
     "output_type": "display_data"
    }
   ],
   "source": [
    "plot_survived_bar(get_survived_categories(train_df,'SibSp'), 'SibSp')"
   ]
  },
  {
   "cell_type": "markdown",
   "metadata": {
    "_uuid": "65649a08cf438eb245f38deea5336ee8dc4372b5"
   },
   "source": [
    "Most of the passengers traveled alone. From the passengers travelling alone, only 34% survived.\n",
    "The passengers with only one or two sibbilings survived in around 50% of the cases. \n",
    "Survival rates decrease considerably for number of sibilings or spouses of 3, 4, 5 and is practically 0 for 8."
   ]
  },
  {
   "cell_type": "code",
   "execution_count": 21,
   "metadata": {
    "_kg_hide-input": true,
    "_uuid": "a88f2322adf59b09c78bc5c09d6fab21aa38157f"
   },
   "outputs": [
    {
     "name": "stdout",
     "output_type": "stream",
     "text": [
      "This is the format of your plot grid:\n",
      "[ (1,1) x1,y1 ]  [ (1,2) x2,y2 ]\n",
      "\n"
     ]
    },
    {
     "data": {
      "application/vnd.plotly.v1+json": {
       "config": {
        "linkText": "Export to plot.ly",
        "plotlyServerURL": "https://plot.ly",
        "showLink": false
       },
       "data": [
        {
         "marker": {
          "color": "Blue"
         },
         "text": [
          0.0,
          1.0,
          2.0,
          5.0,
          3.0,
          4.0,
          6.0
         ],
         "type": "bar",
         "uid": "8f6ff303-8b4f-412f-b7a2-5e7cb003a0c2",
         "x": [
          0,
          1,
          2,
          5,
          3,
          4,
          6
         ],
         "xaxis": "x",
         "y": [
          678,
          118,
          80,
          5,
          5,
          4,
          1
         ],
         "yaxis": "y"
        },
        {
         "marker": {
          "color": "Lightblue"
         },
         "text": [
          0.0,
          1.0,
          2.0,
          3.0,
          9.0,
          4.0,
          6.0,
          5.0
         ],
         "type": "bar",
         "uid": "71788bf8-c0e6-42a4-ab51-9a2a566620ac",
         "x": [
          0,
          1,
          2,
          3,
          9,
          4,
          6,
          5
         ],
         "xaxis": "x2",
         "y": [
          324,
          52,
          33,
          3,
          2,
          2,
          1,
          1
         ],
         "yaxis": "y2"
        }
       ],
       "layout": {
        "annotations": [
         {
          "font": {
           "size": 16
          },
          "showarrow": false,
          "text": "Train data",
          "x": 0.225,
          "xanchor": "center",
          "xref": "paper",
          "y": 1.0,
          "yanchor": "bottom",
          "yref": "paper"
         },
         {
          "font": {
           "size": 16
          },
          "showarrow": false,
          "text": "Test data",
          "x": 0.775,
          "xanchor": "center",
          "xref": "paper",
          "y": 1.0,
          "yanchor": "bottom",
          "yref": "paper"
         }
        ],
        "showlegend": false,
        "xaxis": {
         "anchor": "y",
         "domain": [
          0.0,
          0.45
         ],
         "title": {
          "text": "Parch"
         }
        },
        "xaxis2": {
         "anchor": "y2",
         "domain": [
          0.55,
          1.0
         ],
         "title": {
          "text": "Parch"
         }
        },
        "yaxis": {
         "anchor": "x",
         "domain": [
          0.0,
          1.0
         ],
         "title": {
          "text": "Number of passengers"
         }
        },
        "yaxis2": {
         "anchor": "x2",
         "domain": [
          0.0,
          1.0
         ],
         "title": {
          "text": "Number of passengers"
         }
        }
       }
      },
      "text/html": [
       "<div id=\"e7f8419e-3a9b-4dd8-8088-9a87e91d9291\" style=\"height: 525px; width: 100%;\" class=\"plotly-graph-div\"></div><script type=\"text/javascript\">require([\"plotly\"], function(Plotly) { window.PLOTLYENV=window.PLOTLYENV || {};window.PLOTLYENV.BASE_URL=\"https://plot.ly\";Plotly.newPlot(\"e7f8419e-3a9b-4dd8-8088-9a87e91d9291\", [{\"marker\": {\"color\": \"Blue\"}, \"text\": [0.0, 1.0, 2.0, 5.0, 3.0, 4.0, 6.0], \"x\": [0, 1, 2, 5, 3, 4, 6], \"y\": [678, 118, 80, 5, 5, 4, 1], \"type\": \"bar\", \"uid\": \"8f6ff303-8b4f-412f-b7a2-5e7cb003a0c2\", \"xaxis\": \"x\", \"yaxis\": \"y\"}, {\"marker\": {\"color\": \"Lightblue\"}, \"text\": [0.0, 1.0, 2.0, 3.0, 9.0, 4.0, 6.0, 5.0], \"x\": [0, 1, 2, 3, 9, 4, 6, 5], \"y\": [324, 52, 33, 3, 2, 2, 1, 1], \"type\": \"bar\", \"uid\": \"71788bf8-c0e6-42a4-ab51-9a2a566620ac\", \"xaxis\": \"x2\", \"yaxis\": \"y2\"}], {\"annotations\": [{\"font\": {\"size\": 16}, \"showarrow\": false, \"text\": \"Train data\", \"x\": 0.225, \"xanchor\": \"center\", \"xref\": \"paper\", \"y\": 1.0, \"yanchor\": \"bottom\", \"yref\": \"paper\"}, {\"font\": {\"size\": 16}, \"showarrow\": false, \"text\": \"Test data\", \"x\": 0.775, \"xanchor\": \"center\", \"xref\": \"paper\", \"y\": 1.0, \"yanchor\": \"bottom\", \"yref\": \"paper\"}], \"xaxis\": {\"anchor\": \"y\", \"domain\": [0.0, 0.45], \"title\": {\"text\": \"Parch\"}}, \"yaxis\": {\"anchor\": \"x\", \"domain\": [0.0, 1.0], \"title\": {\"text\": \"Number of passengers\"}}, \"xaxis2\": {\"anchor\": \"y2\", \"domain\": [0.55, 1.0], \"title\": {\"text\": \"Parch\"}}, \"yaxis2\": {\"anchor\": \"x2\", \"domain\": [0.0, 1.0], \"title\": {\"text\": \"Number of passengers\"}}, \"showlegend\": false}, {\"showLink\": false, \"linkText\": \"Export to plot.ly\", \"plotlyServerURL\": \"https://plot.ly\"})});</script><script type=\"text/javascript\">window.addEventListener(\"resize\", function(){window._Plotly.Plots.resize(document.getElementById(\"e7f8419e-3a9b-4dd8-8088-9a87e91d9291\"));});</script>"
      ],
      "text/vnd.plotly.v1+html": [
       "<div id=\"e7f8419e-3a9b-4dd8-8088-9a87e91d9291\" style=\"height: 525px; width: 100%;\" class=\"plotly-graph-div\"></div><script type=\"text/javascript\">require([\"plotly\"], function(Plotly) { window.PLOTLYENV=window.PLOTLYENV || {};window.PLOTLYENV.BASE_URL=\"https://plot.ly\";Plotly.newPlot(\"e7f8419e-3a9b-4dd8-8088-9a87e91d9291\", [{\"marker\": {\"color\": \"Blue\"}, \"text\": [0.0, 1.0, 2.0, 5.0, 3.0, 4.0, 6.0], \"x\": [0, 1, 2, 5, 3, 4, 6], \"y\": [678, 118, 80, 5, 5, 4, 1], \"type\": \"bar\", \"uid\": \"8f6ff303-8b4f-412f-b7a2-5e7cb003a0c2\", \"xaxis\": \"x\", \"yaxis\": \"y\"}, {\"marker\": {\"color\": \"Lightblue\"}, \"text\": [0.0, 1.0, 2.0, 3.0, 9.0, 4.0, 6.0, 5.0], \"x\": [0, 1, 2, 3, 9, 4, 6, 5], \"y\": [324, 52, 33, 3, 2, 2, 1, 1], \"type\": \"bar\", \"uid\": \"71788bf8-c0e6-42a4-ab51-9a2a566620ac\", \"xaxis\": \"x2\", \"yaxis\": \"y2\"}], {\"annotations\": [{\"font\": {\"size\": 16}, \"showarrow\": false, \"text\": \"Train data\", \"x\": 0.225, \"xanchor\": \"center\", \"xref\": \"paper\", \"y\": 1.0, \"yanchor\": \"bottom\", \"yref\": \"paper\"}, {\"font\": {\"size\": 16}, \"showarrow\": false, \"text\": \"Test data\", \"x\": 0.775, \"xanchor\": \"center\", \"xref\": \"paper\", \"y\": 1.0, \"yanchor\": \"bottom\", \"yref\": \"paper\"}], \"xaxis\": {\"anchor\": \"y\", \"domain\": [0.0, 0.45], \"title\": {\"text\": \"Parch\"}}, \"yaxis\": {\"anchor\": \"x\", \"domain\": [0.0, 1.0], \"title\": {\"text\": \"Number of passengers\"}}, \"xaxis2\": {\"anchor\": \"y2\", \"domain\": [0.55, 1.0], \"title\": {\"text\": \"Parch\"}}, \"yaxis2\": {\"anchor\": \"x2\", \"domain\": [0.0, 1.0], \"title\": {\"text\": \"Number of passengers\"}}, \"showlegend\": false}, {\"showLink\": false, \"linkText\": \"Export to plot.ly\", \"plotlyServerURL\": \"https://plot.ly\"})});</script><script type=\"text/javascript\">window.addEventListener(\"resize\", function(){window._Plotly.Plots.resize(document.getElementById(\"e7f8419e-3a9b-4dd8-8088-9a87e91d9291\"));});</script>"
      ]
     },
     "metadata": {},
     "output_type": "display_data"
    }
   ],
   "source": [
    "plot_two_bar(get_categories(train_df,'Parch'), get_categories(test_df,'Parch'), \n",
    "             'Train data', 'Test data',\n",
    "             'Parch', 'Number of passengers')"
   ]
  },
  {
   "cell_type": "code",
   "execution_count": 22,
   "metadata": {
    "_kg_hide-input": true,
    "_uuid": "f62d0ebd81297ec413df821761398bf149db7490"
   },
   "outputs": [
    {
     "data": {
      "application/vnd.plotly.v1+json": {
       "config": {
        "linkText": "Export to plot.ly",
        "plotlyServerURL": "https://plot.ly",
        "showLink": false
       },
       "data": [
        {
         "marker": {
          "color": "Blue"
         },
         "name": "Survived",
         "text": [
          233.0,
          65.0,
          40.0,
          3.0,
          1.0
         ],
         "type": "bar",
         "uid": "a54e1032-bcdc-4293-b70d-608eceff5298",
         "x": [
          0,
          1,
          2,
          3,
          5
         ],
         "y": [
          233,
          65,
          40,
          3,
          1
         ]
        },
        {
         "marker": {
          "color": "Red"
         },
         "name": "Not survived",
         "text": [
          233.0,
          65.0,
          40.0,
          3.0,
          1.0
         ],
         "type": "bar",
         "uid": "6292e111-bc56-493a-b09e-25b260499045",
         "x": [
          0,
          1,
          2,
          4,
          5,
          3,
          6
         ],
         "y": [
          445,
          53,
          40,
          4,
          4,
          2,
          1
         ]
        }
       ],
       "layout": {
        "hovermode": "closest",
        "title": {
         "text": "Number of survived and not survived passengers by Parch"
        },
        "xaxis": {
         "showticklabels": true,
         "title": {
          "text": "Parch"
         }
        },
        "yaxis": {
         "title": {
          "text": "Number of passengers"
         }
        }
       }
      },
      "text/html": [
       "<div id=\"77fc4e37-8bcc-45be-9058-896f535cf66f\" style=\"height: 525px; width: 100%;\" class=\"plotly-graph-div\"></div><script type=\"text/javascript\">require([\"plotly\"], function(Plotly) { window.PLOTLYENV=window.PLOTLYENV || {};window.PLOTLYENV.BASE_URL=\"https://plot.ly\";Plotly.newPlot(\"77fc4e37-8bcc-45be-9058-896f535cf66f\", [{\"marker\": {\"color\": \"Blue\"}, \"name\": \"Survived\", \"text\": [233.0, 65.0, 40.0, 3.0, 1.0], \"x\": [0, 1, 2, 3, 5], \"y\": [233, 65, 40, 3, 1], \"type\": \"bar\", \"uid\": \"b67a4c6d-e97a-4660-8aaf-735c392bb454\"}, {\"marker\": {\"color\": \"Red\"}, \"name\": \"Not survived\", \"text\": [233.0, 65.0, 40.0, 3.0, 1.0], \"x\": [0, 1, 2, 4, 5, 3, 6], \"y\": [445, 53, 40, 4, 4, 2, 1], \"type\": \"bar\", \"uid\": \"6fd688d1-6179-48f2-962b-dfb221e2a8e7\"}], {\"hovermode\": \"closest\", \"title\": {\"text\": \"Number of survived and not survived passengers by Parch\"}, \"xaxis\": {\"showticklabels\": true, \"title\": {\"text\": \"Parch\"}}, \"yaxis\": {\"title\": {\"text\": \"Number of passengers\"}}}, {\"showLink\": false, \"linkText\": \"Export to plot.ly\", \"plotlyServerURL\": \"https://plot.ly\"})});</script><script type=\"text/javascript\">window.addEventListener(\"resize\", function(){window._Plotly.Plots.resize(document.getElementById(\"77fc4e37-8bcc-45be-9058-896f535cf66f\"));});</script>"
      ],
      "text/vnd.plotly.v1+html": [
       "<div id=\"77fc4e37-8bcc-45be-9058-896f535cf66f\" style=\"height: 525px; width: 100%;\" class=\"plotly-graph-div\"></div><script type=\"text/javascript\">require([\"plotly\"], function(Plotly) { window.PLOTLYENV=window.PLOTLYENV || {};window.PLOTLYENV.BASE_URL=\"https://plot.ly\";Plotly.newPlot(\"77fc4e37-8bcc-45be-9058-896f535cf66f\", [{\"marker\": {\"color\": \"Blue\"}, \"name\": \"Survived\", \"text\": [233.0, 65.0, 40.0, 3.0, 1.0], \"x\": [0, 1, 2, 3, 5], \"y\": [233, 65, 40, 3, 1], \"type\": \"bar\", \"uid\": \"b67a4c6d-e97a-4660-8aaf-735c392bb454\"}, {\"marker\": {\"color\": \"Red\"}, \"name\": \"Not survived\", \"text\": [233.0, 65.0, 40.0, 3.0, 1.0], \"x\": [0, 1, 2, 4, 5, 3, 6], \"y\": [445, 53, 40, 4, 4, 2, 1], \"type\": \"bar\", \"uid\": \"6fd688d1-6179-48f2-962b-dfb221e2a8e7\"}], {\"hovermode\": \"closest\", \"title\": {\"text\": \"Number of survived and not survived passengers by Parch\"}, \"xaxis\": {\"showticklabels\": true, \"title\": {\"text\": \"Parch\"}}, \"yaxis\": {\"title\": {\"text\": \"Number of passengers\"}}}, {\"showLink\": false, \"linkText\": \"Export to plot.ly\", \"plotlyServerURL\": \"https://plot.ly\"})});</script><script type=\"text/javascript\">window.addEventListener(\"resize\", function(){window._Plotly.Plots.resize(document.getElementById(\"77fc4e37-8bcc-45be-9058-896f535cf66f\"));});</script>"
      ]
     },
     "metadata": {},
     "output_type": "display_data"
    }
   ],
   "source": [
    "plot_survived_bar(get_survived_categories(train_df,'Parch'), 'Parch')"
   ]
  },
  {
   "cell_type": "markdown",
   "metadata": {
    "_uuid": "7063a42d6a32b91c2513473b30356a2f85ae2632"
   },
   "source": [
    "For the number of children or parents equal to 0, the survival rate is only 34%. \n",
    "For values of 1,2 and 3, the survival rate is 50%, decreasing for larger numbers."
   ]
  },
  {
   "cell_type": "markdown",
   "metadata": {
    "_uuid": "beadc271afdbc97fc2d6256a1b33227c72a8d220"
   },
   "source": [
    "<a href=\"#0\"><font size=\"1\">Go to top</font></a>  \n",
    "\n",
    "\n",
    "## <a id='33'>Fare, Embarked, Pclass</a>  \n",
    "\n",
    "Let's check now the data (in **train** and **test**) for  `Fare`,  `Embarked` and`Pclass`.  \n"
   ]
  },
  {
   "cell_type": "code",
   "execution_count": 23,
   "metadata": {
    "_kg_hide-input": true,
    "_uuid": "a5f2d4023df0f25f83919c529b6c9f31ae14696c"
   },
   "outputs": [],
   "source": [
    "def draw_trace_histogram(data_df,color='Blue'):\n",
    "    trace = go.Histogram(\n",
    "            x = data_df['index'],\n",
    "            y = data_df['Number'],\n",
    "            marker=dict(color=color),\n",
    "            text=data_df['index']\n",
    "        )\n",
    "    return trace\n",
    "\n",
    "def plot_two_histogram(data_df1, data_df2, title1, title2, xlab, ylab):\n",
    "    trace1 = draw_trace_histogram(data_df1, color='Blue')\n",
    "    trace2 = draw_trace_histogram(data_df2, color='Lightblue')\n",
    "    \n",
    "    fig = tools.make_subplots(rows=1,cols=2, subplot_titles=(title1,title2))\n",
    "    fig.append_trace(trace1,1,1)\n",
    "    fig.append_trace(trace2,1,2)\n",
    "    \n",
    "    fig['layout']['xaxis'].update(title = xlab)\n",
    "    fig['layout']['xaxis2'].update(title = xlab)\n",
    "    fig['layout']['yaxis'].update(title = ylab)\n",
    "    fig['layout']['yaxis2'].update(title = ylab)\n",
    "    fig['layout'].update(showlegend=False)\n",
    "    \n",
    "\n",
    "    iplot(fig, filename='draw_trace')"
   ]
  },
  {
   "cell_type": "code",
   "execution_count": 24,
   "metadata": {
    "_kg_hide-input": true,
    "_uuid": "f809c3efea796f0f812d941e56c0b6979cadddf4"
   },
   "outputs": [],
   "source": [
    "def plot_survived_histogram(data_df, var):\n",
    "    dfS = data_df[data_df['Survived']==1]\n",
    "    dfN = data_df[data_df['Survived']==0]\n",
    "\n",
    "    traceS = go.Histogram(\n",
    "        x = dfS[var],y = dfS['Number'],\n",
    "        name='Survived',\n",
    "        marker=dict(color=\"Blue\"),\n",
    "        text=dfS['Number']\n",
    "    )\n",
    "    traceN = go.Histogram(\n",
    "        x = dfN[var],y = dfN['Number'],\n",
    "        name='Not survived',\n",
    "        marker=dict(color=\"Red\"),\n",
    "        text=dfS['Number']\n",
    "    )\n",
    "    \n",
    "    data = [traceS, traceN]\n",
    "    layout = dict(title = 'Number of survived and not survived passengers by {}'.format(var),\n",
    "          xaxis = dict(title = var, showticklabels=True), \n",
    "          yaxis = dict(title = 'Number of passengers'),\n",
    "          hovermode = 'closest'\n",
    "    )\n",
    "    fig = dict(data=data, layout=layout)\n",
    "   \n",
    "    iplot(fig, filename='draw_trace')"
   ]
  },
  {
   "cell_type": "code",
   "execution_count": 25,
   "metadata": {
    "_kg_hide-input": true,
    "_uuid": "969931c0d90f219ff6b2dd655ee7d158524a6f8c"
   },
   "outputs": [
    {
     "name": "stdout",
     "output_type": "stream",
     "text": [
      "This is the format of your plot grid:\n",
      "[ (1,1) x1,y1 ]  [ (1,2) x2,y2 ]\n",
      "\n"
     ]
    },
    {
     "data": {
      "application/vnd.plotly.v1+json": {
       "config": {
        "linkText": "Export to plot.ly",
        "plotlyServerURL": "https://plot.ly",
        "showLink": false
       },
       "data": [
        {
         "marker": {
          "color": "Blue"
         },
         "text": [
          8.05,
          13.0,
          7.8958,
          7.75,
          26.0,
          10.5,
          7.925,
          7.775,
          26.55,
          0.0,
          7.2292,
          7.8542,
          8.6625,
          7.25,
          7.225,
          16.1,
          9.5,
          24.15,
          15.5,
          56.4958,
          52.0,
          14.5,
          14.4542,
          69.55,
          7.05,
          31.275,
          46.9,
          30.0,
          7.7958,
          39.6875,
          21.0,
          27.9,
          26.25,
          27.7208,
          30.5,
          73.5,
          53.1,
          15.2458,
          29.125,
          34.375,
          11.5,
          21.075,
          35.5,
          12.475,
          7.7333,
          110.8833,
          7.8792,
          227.525,
          79.2,
          31.3875,
          120.0,
          27.75,
          25.4667,
          7.55,
          39.0,
          263.0,
          151.55,
          15.85,
          7.125,
          13.5,
          90.0,
          19.2583,
          7.65,
          23.0,
          52.5542,
          29.7,
          86.5,
          113.275,
          20.525,
          79.65,
          76.7292,
          14.4583,
          211.3375,
          18.75,
          31.0,
          11.1333,
          26.2875,
          512.3292,
          135.6333,
          41.5792,
          7.4958,
          12.35,
          153.4625,
          18.0,
          77.9583,
          33.0,
          83.1583,
          108.9,
          20.575,
          23.45,
          66.6,
          55.9,
          80.0,
          51.8625,
          19.9667,
          78.2667,
          133.65,
          56.9292,
          29.0,
          7.8292,
          65.0,
          9.0,
          6.75,
          9.5875,
          30.6958,
          146.5208,
          18.7875,
          6.4958,
          71.0,
          24.0,
          23.25,
          20.25,
          17.8,
          19.5,
          49.5042,
          27.0,
          164.8667,
          57.0,
          134.5,
          55.0,
          9.225,
          15.7417,
          36.75,
          83.475,
          6.975,
          9.825,
          20.2125,
          10.4625,
          22.3583,
          77.2875,
          39.6,
          25.9292,
          14.4,
          15.9,
          93.5,
          57.9792,
          7.7375,
          7.0542,
          11.2417,
          69.3,
          78.85,
          262.375,
          106.425,
          82.1708,
          91.0792,
          30.0708,
          247.5208,
          16.7,
          9.35,
          89.1042,
          37.0042,
          63.3583,
          8.5167,
          15.0,
          15.1,
          76.2917,
          32.5,
          49.5,
          28.5,
          35.0,
          12.0,
          38.5,
          7.875,
          9.4833,
          71.2833,
          12.875,
          14.0,
          7.0458,
          75.25,
          7.725,
          16.0,
          32.3208,
          7.8,
          15.0458,
          6.8583,
          8.4042,
          7.7417,
          21.6792,
          6.45,
          7.7875,
          4.0125,
          7.3125,
          15.75,
          33.5,
          12.525,
          55.4417,
          50.0,
          6.4375,
          26.2833,
          39.4,
          9.8458,
          8.85,
          5.0,
          9.2167,
          40.125,
          50.4958,
          221.7792,
          59.4,
          10.5167,
          12.65,
          6.2375,
          10.1708,
          13.8625,
          47.1,
          15.05,
          7.6292,
          13.8583,
          8.1583,
          8.0292,
          22.025,
          15.55,
          22.525,
          25.925,
          8.1375,
          81.8583,
          8.1125,
          61.9792,
          34.0208,
          7.1417,
          42.4,
          211.5,
          12.275,
          61.175,
          8.4333,
          51.4792,
          7.8875,
          8.6833,
          7.5208,
          34.6542,
          28.7125,
          25.5875,
          7.7292,
          12.2875,
          8.6542,
          8.7125,
          61.3792,
          6.95,
          9.8417,
          8.3,
          13.7917,
          9.475,
          13.4167,
          26.3875,
          8.4583,
          9.8375,
          8.3625,
          14.1083,
          17.4
         ],
         "type": "histogram",
         "uid": "2f56ebe8-7884-4ea2-9341-3d8e1bedfe75",
         "x": [
          8.05,
          13.0,
          7.8958,
          7.75,
          26.0,
          10.5,
          7.925,
          7.775,
          26.55,
          0.0,
          7.2292,
          7.8542,
          8.6625,
          7.25,
          7.225,
          16.1,
          9.5,
          24.15,
          15.5,
          56.4958,
          52.0,
          14.5,
          14.4542,
          69.55,
          7.05,
          31.275,
          46.9,
          30.0,
          7.7958,
          39.6875,
          21.0,
          27.9,
          26.25,
          27.7208,
          30.5,
          73.5,
          53.1,
          15.2458,
          29.125,
          34.375,
          11.5,
          21.075,
          35.5,
          12.475,
          7.7333,
          110.8833,
          7.8792,
          227.525,
          79.2,
          31.3875,
          120.0,
          27.75,
          25.4667,
          7.55,
          39.0,
          263.0,
          151.55,
          15.85,
          7.125,
          13.5,
          90.0,
          19.2583,
          7.65,
          23.0,
          52.5542,
          29.7,
          86.5,
          113.275,
          20.525,
          79.65,
          76.7292,
          14.4583,
          211.3375,
          18.75,
          31.0,
          11.1333,
          26.2875,
          512.3292,
          135.6333,
          41.5792,
          7.4958,
          12.35,
          153.4625,
          18.0,
          77.9583,
          33.0,
          83.1583,
          108.9,
          20.575,
          23.45,
          66.6,
          55.9,
          80.0,
          51.8625,
          19.9667,
          78.2667,
          133.65,
          56.9292,
          29.0,
          7.8292,
          65.0,
          9.0,
          6.75,
          9.5875,
          30.6958,
          146.5208,
          18.7875,
          6.4958,
          71.0,
          24.0,
          23.25,
          20.25,
          17.8,
          19.5,
          49.5042,
          27.0,
          164.8667,
          57.0,
          134.5,
          55.0,
          9.225,
          15.7417,
          36.75,
          83.475,
          6.975,
          9.825,
          20.2125,
          10.4625,
          22.3583,
          77.2875,
          39.6,
          25.9292,
          14.4,
          15.9,
          93.5,
          57.9792,
          7.7375,
          7.0542,
          11.2417,
          69.3,
          78.85,
          262.375,
          106.425,
          82.1708,
          91.0792,
          30.0708,
          247.5208,
          16.7,
          9.35,
          89.1042,
          37.0042,
          63.3583,
          8.5167,
          15.0,
          15.1,
          76.2917,
          32.5,
          49.5,
          28.5,
          35.0,
          12.0,
          38.5,
          7.875,
          9.4833,
          71.2833,
          12.875,
          14.0,
          7.0458,
          75.25,
          7.725,
          16.0,
          32.3208,
          7.8,
          15.0458,
          6.8583,
          8.4042,
          7.7417,
          21.6792,
          6.45,
          7.7875,
          4.0125,
          7.3125,
          15.75,
          33.5,
          12.525,
          55.4417,
          50.0,
          6.4375,
          26.2833,
          39.4,
          9.8458,
          8.85,
          5.0,
          9.2167,
          40.125,
          50.4958,
          221.7792,
          59.4,
          10.5167,
          12.65,
          6.2375,
          10.1708,
          13.8625,
          47.1,
          15.05,
          7.6292,
          13.8583,
          8.1583,
          8.0292,
          22.025,
          15.55,
          22.525,
          25.925,
          8.1375,
          81.8583,
          8.1125,
          61.9792,
          34.0208,
          7.1417,
          42.4,
          211.5,
          12.275,
          61.175,
          8.4333,
          51.4792,
          7.8875,
          8.6833,
          7.5208,
          34.6542,
          28.7125,
          25.5875,
          7.7292,
          12.2875,
          8.6542,
          8.7125,
          61.3792,
          6.95,
          9.8417,
          8.3,
          13.7917,
          9.475,
          13.4167,
          26.3875,
          8.4583,
          9.8375,
          8.3625,
          14.1083,
          17.4
         ],
         "xaxis": "x",
         "y": [
          43,
          42,
          38,
          34,
          31,
          24,
          18,
          16,
          15,
          15,
          15,
          13,
          13,
          13,
          12,
          9,
          9,
          8,
          8,
          7,
          7,
          7,
          7,
          7,
          7,
          7,
          6,
          6,
          6,
          6,
          6,
          6,
          6,
          5,
          5,
          5,
          5,
          5,
          5,
          4,
          4,
          4,
          4,
          4,
          4,
          4,
          4,
          4,
          4,
          4,
          4,
          4,
          4,
          4,
          4,
          4,
          4,
          4,
          4,
          4,
          4,
          4,
          4,
          4,
          3,
          3,
          3,
          3,
          3,
          3,
          3,
          3,
          3,
          3,
          3,
          3,
          3,
          3,
          3,
          3,
          3,
          3,
          3,
          3,
          3,
          3,
          3,
          2,
          2,
          2,
          2,
          2,
          2,
          2,
          2,
          2,
          2,
          2,
          2,
          2,
          2,
          2,
          2,
          2,
          2,
          2,
          2,
          2,
          2,
          2,
          2,
          2,
          2,
          2,
          2,
          2,
          2,
          2,
          2,
          2,
          2,
          2,
          2,
          2,
          2,
          2,
          2,
          2,
          2,
          2,
          2,
          2,
          2,
          2,
          2,
          2,
          2,
          2,
          2,
          2,
          2,
          2,
          2,
          2,
          2,
          2,
          2,
          2,
          2,
          2,
          2,
          1,
          1,
          1,
          1,
          1,
          1,
          1,
          1,
          1,
          1,
          1,
          1,
          1,
          1,
          1,
          1,
          1,
          1,
          1,
          1,
          1,
          1,
          1,
          1,
          1,
          1,
          1,
          1,
          1,
          1,
          1,
          1,
          1,
          1,
          1,
          1,
          1,
          1,
          1,
          1,
          1,
          1,
          1,
          1,
          1,
          1,
          1,
          1,
          1,
          1,
          1,
          1,
          1,
          1,
          1,
          1,
          1,
          1,
          1,
          1,
          1,
          1,
          1,
          1,
          1,
          1,
          1,
          1,
          1,
          1,
          1,
          1,
          1,
          1,
          1,
          1,
          1,
          1,
          1,
          1,
          1,
          1,
          1,
          1,
          1,
          1,
          1,
          1,
          1,
          1,
          1,
          1,
          1,
          1,
          1,
          1,
          1
         ],
         "yaxis": "y"
        },
        {
         "marker": {
          "color": "Lightblue"
         },
         "text": [
          7.75,
          26.0,
          8.05,
          13.0,
          7.8958,
          10.5,
          7.775,
          7.2292,
          7.225,
          8.6625,
          7.8542,
          21.0,
          26.55,
          7.8792,
          27.7208,
          7.25,
          7.925,
          262.375,
          211.5,
          69.55,
          14.5,
          7.55,
          7.7958,
          15.2458,
          55.4417,
          31.3875,
          31.5,
          14.4542,
          9.5,
          221.7792,
          39.0,
          134.5,
          16.1,
          23.0,
          65.0,
          13.775,
          13.5,
          59.4,
          7.7333,
          83.1583,
          7.05,
          29.7,
          20.575,
          46.9,
          263.0,
          164.8667,
          75.2417,
          13.9,
          151.55,
          12.1833,
          11.5,
          0.0,
          73.5,
          15.5,
          32.5,
          36.75,
          6.4375,
          60.0,
          57.75,
          93.5,
          7.0,
          22.525,
          15.0458,
          22.025,
          12.35,
          7.65,
          51.8625,
          13.8583,
          136.7792,
          79.2,
          23.45,
          82.2667,
          21.6792,
          81.8583,
          42.5,
          106.425,
          3.1708,
          8.1125,
          50.0,
          27.4458,
          15.9,
          31.6833,
          61.9792,
          12.2875,
          45.5,
          52.5542,
          30.0,
          27.75,
          16.0,
          10.7083,
          13.4167,
          211.3375,
          15.7417,
          8.7125,
          16.7,
          9.6875,
          29.0,
          7.8292,
          15.55,
          30.5,
          71.2833,
          15.1,
          135.6333,
          512.3292,
          8.9625,
          29.125,
          20.25,
          12.7375,
          61.3792,
          52.0,
          15.75,
          42.4,
          7.8208,
          23.25,
          56.4958,
          28.5,
          18.0,
          12.875,
          31.6792,
          90.0,
          51.4792,
          24.15,
          15.5792,
          7.7792,
          7.2833,
          25.7417,
          37.0042,
          14.1083,
          25.7,
          146.5208,
          7.8875,
          8.5167,
          39.6,
          53.1,
          9.35,
          63.3583,
          41.5792,
          7.5792,
          14.4,
          50.4958,
          39.4,
          34.375,
          7.7208,
          7.85,
          76.2917,
          7.725,
          9.225,
          39.6875,
          75.25,
          13.8625,
          6.95,
          61.175,
          78.85,
          20.2125,
          247.5208,
          7.575,
          28.5375,
          227.525,
          108.9,
          6.4958,
          7.6292,
          47.1,
          22.3583,
          17.4,
          9.325,
          14.4583,
          15.0333,
          25.4667,
          21.075
         ],
         "type": "histogram",
         "uid": "396029e0-1c6e-4750-8040-21be79cb4615",
         "x": [
          7.75,
          26.0,
          8.05,
          13.0,
          7.8958,
          10.5,
          7.775,
          7.2292,
          7.225,
          8.6625,
          7.8542,
          21.0,
          26.55,
          7.8792,
          27.7208,
          7.25,
          7.925,
          262.375,
          211.5,
          69.55,
          14.5,
          7.55,
          7.7958,
          15.2458,
          55.4417,
          31.3875,
          31.5,
          14.4542,
          9.5,
          221.7792,
          39.0,
          134.5,
          16.1,
          23.0,
          65.0,
          13.775,
          13.5,
          59.4,
          7.7333,
          83.1583,
          7.05,
          29.7,
          20.575,
          46.9,
          263.0,
          164.8667,
          75.2417,
          13.9,
          151.55,
          12.1833,
          11.5,
          0.0,
          73.5,
          15.5,
          32.5,
          36.75,
          6.4375,
          60.0,
          57.75,
          93.5,
          7.0,
          22.525,
          15.0458,
          22.025,
          12.35,
          7.65,
          51.8625,
          13.8583,
          136.7792,
          79.2,
          23.45,
          82.2667,
          21.6792,
          81.8583,
          42.5,
          106.425,
          3.1708,
          8.1125,
          50.0,
          27.4458,
          15.9,
          31.6833,
          61.9792,
          12.2875,
          45.5,
          52.5542,
          30.0,
          27.75,
          16.0,
          10.7083,
          13.4167,
          211.3375,
          15.7417,
          8.7125,
          16.7,
          9.6875,
          29.0,
          7.8292,
          15.55,
          30.5,
          71.2833,
          15.1,
          135.6333,
          512.3292,
          8.9625,
          29.125,
          20.25,
          12.7375,
          61.3792,
          52.0,
          15.75,
          42.4,
          7.8208,
          23.25,
          56.4958,
          28.5,
          18.0,
          12.875,
          31.6792,
          90.0,
          51.4792,
          24.15,
          15.5792,
          7.7792,
          7.2833,
          25.7417,
          37.0042,
          14.1083,
          25.7,
          146.5208,
          7.8875,
          8.5167,
          39.6,
          53.1,
          9.35,
          63.3583,
          41.5792,
          7.5792,
          14.4,
          50.4958,
          39.4,
          34.375,
          7.7208,
          7.85,
          76.2917,
          7.725,
          9.225,
          39.6875,
          75.25,
          13.8625,
          6.95,
          61.175,
          78.85,
          20.2125,
          247.5208,
          7.575,
          28.5375,
          227.525,
          108.9,
          6.4958,
          7.6292,
          47.1,
          22.3583,
          17.4,
          9.325,
          14.4583,
          15.0333,
          25.4667,
          21.075
         ],
         "xaxis": "x2",
         "y": [
          21,
          19,
          17,
          17,
          11,
          11,
          10,
          9,
          9,
          8,
          8,
          8,
          7,
          6,
          6,
          5,
          5,
          5,
          4,
          4,
          4,
          4,
          4,
          4,
          3,
          3,
          3,
          3,
          3,
          3,
          3,
          3,
          3,
          3,
          3,
          3,
          3,
          3,
          3,
          3,
          2,
          2,
          2,
          2,
          2,
          2,
          2,
          2,
          2,
          2,
          2,
          2,
          2,
          2,
          2,
          2,
          2,
          2,
          2,
          2,
          2,
          2,
          2,
          2,
          2,
          2,
          2,
          2,
          2,
          2,
          2,
          2,
          2,
          2,
          1,
          1,
          1,
          1,
          1,
          1,
          1,
          1,
          1,
          1,
          1,
          1,
          1,
          1,
          1,
          1,
          1,
          1,
          1,
          1,
          1,
          1,
          1,
          1,
          1,
          1,
          1,
          1,
          1,
          1,
          1,
          1,
          1,
          1,
          1,
          1,
          1,
          1,
          1,
          1,
          1,
          1,
          1,
          1,
          1,
          1,
          1,
          1,
          1,
          1,
          1,
          1,
          1,
          1,
          1,
          1,
          1,
          1,
          1,
          1,
          1,
          1,
          1,
          1,
          1,
          1,
          1,
          1,
          1,
          1,
          1,
          1,
          1,
          1,
          1,
          1,
          1,
          1,
          1,
          1,
          1,
          1,
          1,
          1,
          1,
          1,
          1,
          1,
          1,
          1,
          1,
          1,
          1,
          1,
          1
         ],
         "yaxis": "y2"
        }
       ],
       "layout": {
        "annotations": [
         {
          "font": {
           "size": 16
          },
          "showarrow": false,
          "text": "Train data",
          "x": 0.225,
          "xanchor": "center",
          "xref": "paper",
          "y": 1.0,
          "yanchor": "bottom",
          "yref": "paper"
         },
         {
          "font": {
           "size": 16
          },
          "showarrow": false,
          "text": "Test data",
          "x": 0.775,
          "xanchor": "center",
          "xref": "paper",
          "y": 1.0,
          "yanchor": "bottom",
          "yref": "paper"
         }
        ],
        "showlegend": false,
        "xaxis": {
         "anchor": "y",
         "domain": [
          0.0,
          0.45
         ],
         "title": {
          "text": "Fare"
         }
        },
        "xaxis2": {
         "anchor": "y2",
         "domain": [
          0.55,
          1.0
         ],
         "title": {
          "text": "Fare"
         }
        },
        "yaxis": {
         "anchor": "x",
         "domain": [
          0.0,
          1.0
         ],
         "title": {
          "text": "Passengers"
         }
        },
        "yaxis2": {
         "anchor": "x2",
         "domain": [
          0.0,
          1.0
         ],
         "title": {
          "text": "Passengers"
         }
        }
       }
      },
      "text/html": [
       "<div id=\"6a03cf2f-6f3f-405a-9c91-0634bbd181ff\" style=\"height: 525px; width: 100%;\" class=\"plotly-graph-div\"></div><script type=\"text/javascript\">require([\"plotly\"], function(Plotly) { window.PLOTLYENV=window.PLOTLYENV || {};window.PLOTLYENV.BASE_URL=\"https://plot.ly\";Plotly.newPlot(\"6a03cf2f-6f3f-405a-9c91-0634bbd181ff\", [{\"marker\": {\"color\": \"Blue\"}, \"text\": [8.05, 13.0, 7.8958, 7.75, 26.0, 10.5, 7.925, 7.775, 26.55, 0.0, 7.2292, 7.8542, 8.6625, 7.25, 7.225, 16.1, 9.5, 24.15, 15.5, 56.4958, 52.0, 14.5, 14.4542, 69.55, 7.05, 31.275, 46.9, 30.0, 7.7958, 39.6875, 21.0, 27.9, 26.25, 27.7208, 30.5, 73.5, 53.1, 15.2458, 29.125, 34.375, 11.5, 21.075, 35.5, 12.475, 7.7333, 110.8833, 7.8792, 227.525, 79.2, 31.3875, 120.0, 27.75, 25.4667, 7.55, 39.0, 263.0, 151.55, 15.85, 7.125, 13.5, 90.0, 19.2583, 7.65, 23.0, 52.5542, 29.7, 86.5, 113.275, 20.525, 79.65, 76.7292, 14.4583, 211.3375, 18.75, 31.0, 11.1333, 26.2875, 512.3292, 135.6333, 41.5792, 7.4958, 12.35, 153.4625, 18.0, 77.9583, 33.0, 83.1583, 108.9, 20.575, 23.45, 66.6, 55.9, 80.0, 51.8625, 19.9667, 78.2667, 133.65, 56.9292, 29.0, 7.8292, 65.0, 9.0, 6.75, 9.5875, 30.6958, 146.5208, 18.7875, 6.4958, 71.0, 24.0, 23.25, 20.25, 17.8, 19.5, 49.5042, 27.0, 164.8667, 57.0, 134.5, 55.0, 9.225, 15.7417, 36.75, 83.475, 6.975, 9.825, 20.2125, 10.4625, 22.3583, 77.2875, 39.6, 25.9292, 14.4, 15.9, 93.5, 57.9792, 7.7375, 7.0542, 11.2417, 69.3, 78.85, 262.375, 106.425, 82.1708, 91.0792, 30.0708, 247.5208, 16.7, 9.35, 89.1042, 37.0042, 63.3583, 8.5167, 15.0, 15.1, 76.2917, 32.5, 49.5, 28.5, 35.0, 12.0, 38.5, 7.875, 9.4833, 71.2833, 12.875, 14.0, 7.0458, 75.25, 7.725, 16.0, 32.3208, 7.8, 15.0458, 6.8583, 8.4042, 7.7417, 21.6792, 6.45, 7.7875, 4.0125, 7.3125, 15.75, 33.5, 12.525, 55.4417, 50.0, 6.4375, 26.2833, 39.4, 9.8458, 8.85, 5.0, 9.2167, 40.125, 50.4958, 221.7792, 59.4, 10.5167, 12.65, 6.2375, 10.1708, 13.8625, 47.1, 15.05, 7.6292, 13.8583, 8.1583, 8.0292, 22.025, 15.55, 22.525, 25.925, 8.1375, 81.8583, 8.1125, 61.9792, 34.0208, 7.1417, 42.4, 211.5, 12.275, 61.175, 8.4333, 51.4792, 7.8875, 8.6833, 7.5208, 34.6542, 28.7125, 25.5875, 7.7292, 12.2875, 8.6542, 8.7125, 61.3792, 6.95, 9.8417, 8.3, 13.7917, 9.475, 13.4167, 26.3875, 8.4583, 9.8375, 8.3625, 14.1083, 17.4], \"x\": [8.05, 13.0, 7.8958, 7.75, 26.0, 10.5, 7.925, 7.775, 26.55, 0.0, 7.2292, 7.8542, 8.6625, 7.25, 7.225, 16.1, 9.5, 24.15, 15.5, 56.4958, 52.0, 14.5, 14.4542, 69.55, 7.05, 31.275, 46.9, 30.0, 7.7958, 39.6875, 21.0, 27.9, 26.25, 27.7208, 30.5, 73.5, 53.1, 15.2458, 29.125, 34.375, 11.5, 21.075, 35.5, 12.475, 7.7333, 110.8833, 7.8792, 227.525, 79.2, 31.3875, 120.0, 27.75, 25.4667, 7.55, 39.0, 263.0, 151.55, 15.85, 7.125, 13.5, 90.0, 19.2583, 7.65, 23.0, 52.5542, 29.7, 86.5, 113.275, 20.525, 79.65, 76.7292, 14.4583, 211.3375, 18.75, 31.0, 11.1333, 26.2875, 512.3292, 135.6333, 41.5792, 7.4958, 12.35, 153.4625, 18.0, 77.9583, 33.0, 83.1583, 108.9, 20.575, 23.45, 66.6, 55.9, 80.0, 51.8625, 19.9667, 78.2667, 133.65, 56.9292, 29.0, 7.8292, 65.0, 9.0, 6.75, 9.5875, 30.6958, 146.5208, 18.7875, 6.4958, 71.0, 24.0, 23.25, 20.25, 17.8, 19.5, 49.5042, 27.0, 164.8667, 57.0, 134.5, 55.0, 9.225, 15.7417, 36.75, 83.475, 6.975, 9.825, 20.2125, 10.4625, 22.3583, 77.2875, 39.6, 25.9292, 14.4, 15.9, 93.5, 57.9792, 7.7375, 7.0542, 11.2417, 69.3, 78.85, 262.375, 106.425, 82.1708, 91.0792, 30.0708, 247.5208, 16.7, 9.35, 89.1042, 37.0042, 63.3583, 8.5167, 15.0, 15.1, 76.2917, 32.5, 49.5, 28.5, 35.0, 12.0, 38.5, 7.875, 9.4833, 71.2833, 12.875, 14.0, 7.0458, 75.25, 7.725, 16.0, 32.3208, 7.8, 15.0458, 6.8583, 8.4042, 7.7417, 21.6792, 6.45, 7.7875, 4.0125, 7.3125, 15.75, 33.5, 12.525, 55.4417, 50.0, 6.4375, 26.2833, 39.4, 9.8458, 8.85, 5.0, 9.2167, 40.125, 50.4958, 221.7792, 59.4, 10.5167, 12.65, 6.2375, 10.1708, 13.8625, 47.1, 15.05, 7.6292, 13.8583, 8.1583, 8.0292, 22.025, 15.55, 22.525, 25.925, 8.1375, 81.8583, 8.1125, 61.9792, 34.0208, 7.1417, 42.4, 211.5, 12.275, 61.175, 8.4333, 51.4792, 7.8875, 8.6833, 7.5208, 34.6542, 28.7125, 25.5875, 7.7292, 12.2875, 8.6542, 8.7125, 61.3792, 6.95, 9.8417, 8.3, 13.7917, 9.475, 13.4167, 26.3875, 8.4583, 9.8375, 8.3625, 14.1083, 17.4], \"y\": [43, 42, 38, 34, 31, 24, 18, 16, 15, 15, 15, 13, 13, 13, 12, 9, 9, 8, 8, 7, 7, 7, 7, 7, 7, 7, 6, 6, 6, 6, 6, 6, 6, 5, 5, 5, 5, 5, 5, 4, 4, 4, 4, 4, 4, 4, 4, 4, 4, 4, 4, 4, 4, 4, 4, 4, 4, 4, 4, 4, 4, 4, 4, 4, 3, 3, 3, 3, 3, 3, 3, 3, 3, 3, 3, 3, 3, 3, 3, 3, 3, 3, 3, 3, 3, 3, 3, 2, 2, 2, 2, 2, 2, 2, 2, 2, 2, 2, 2, 2, 2, 2, 2, 2, 2, 2, 2, 2, 2, 2, 2, 2, 2, 2, 2, 2, 2, 2, 2, 2, 2, 2, 2, 2, 2, 2, 2, 2, 2, 2, 2, 2, 2, 2, 2, 2, 2, 2, 2, 2, 2, 2, 2, 2, 2, 2, 2, 2, 2, 2, 2, 1, 1, 1, 1, 1, 1, 1, 1, 1, 1, 1, 1, 1, 1, 1, 1, 1, 1, 1, 1, 1, 1, 1, 1, 1, 1, 1, 1, 1, 1, 1, 1, 1, 1, 1, 1, 1, 1, 1, 1, 1, 1, 1, 1, 1, 1, 1, 1, 1, 1, 1, 1, 1, 1, 1, 1, 1, 1, 1, 1, 1, 1, 1, 1, 1, 1, 1, 1, 1, 1, 1, 1, 1, 1, 1, 1, 1, 1, 1, 1, 1, 1, 1, 1, 1, 1, 1, 1, 1, 1, 1, 1, 1, 1, 1, 1, 1], \"type\": \"histogram\", \"uid\": \"2f56ebe8-7884-4ea2-9341-3d8e1bedfe75\", \"xaxis\": \"x\", \"yaxis\": \"y\"}, {\"marker\": {\"color\": \"Lightblue\"}, \"text\": [7.75, 26.0, 8.05, 13.0, 7.8958, 10.5, 7.775, 7.2292, 7.225, 8.6625, 7.8542, 21.0, 26.55, 7.8792, 27.7208, 7.25, 7.925, 262.375, 211.5, 69.55, 14.5, 7.55, 7.7958, 15.2458, 55.4417, 31.3875, 31.5, 14.4542, 9.5, 221.7792, 39.0, 134.5, 16.1, 23.0, 65.0, 13.775, 13.5, 59.4, 7.7333, 83.1583, 7.05, 29.7, 20.575, 46.9, 263.0, 164.8667, 75.2417, 13.9, 151.55, 12.1833, 11.5, 0.0, 73.5, 15.5, 32.5, 36.75, 6.4375, 60.0, 57.75, 93.5, 7.0, 22.525, 15.0458, 22.025, 12.35, 7.65, 51.8625, 13.8583, 136.7792, 79.2, 23.45, 82.2667, 21.6792, 81.8583, 42.5, 106.425, 3.1708, 8.1125, 50.0, 27.4458, 15.9, 31.6833, 61.9792, 12.2875, 45.5, 52.5542, 30.0, 27.75, 16.0, 10.7083, 13.4167, 211.3375, 15.7417, 8.7125, 16.7, 9.6875, 29.0, 7.8292, 15.55, 30.5, 71.2833, 15.1, 135.6333, 512.3292, 8.9625, 29.125, 20.25, 12.7375, 61.3792, 52.0, 15.75, 42.4, 7.8208, 23.25, 56.4958, 28.5, 18.0, 12.875, 31.6792, 90.0, 51.4792, 24.15, 15.5792, 7.7792, 7.2833, 25.7417, 37.0042, 14.1083, 25.7, 146.5208, 7.8875, 8.5167, 39.6, 53.1, 9.35, 63.3583, 41.5792, 7.5792, 14.4, 50.4958, 39.4, 34.375, 7.7208, 7.85, 76.2917, 7.725, 9.225, 39.6875, 75.25, 13.8625, 6.95, 61.175, 78.85, 20.2125, 247.5208, 7.575, 28.5375, 227.525, 108.9, 6.4958, 7.6292, 47.1, 22.3583, 17.4, 9.325, 14.4583, 15.0333, 25.4667, 21.075], \"x\": [7.75, 26.0, 8.05, 13.0, 7.8958, 10.5, 7.775, 7.2292, 7.225, 8.6625, 7.8542, 21.0, 26.55, 7.8792, 27.7208, 7.25, 7.925, 262.375, 211.5, 69.55, 14.5, 7.55, 7.7958, 15.2458, 55.4417, 31.3875, 31.5, 14.4542, 9.5, 221.7792, 39.0, 134.5, 16.1, 23.0, 65.0, 13.775, 13.5, 59.4, 7.7333, 83.1583, 7.05, 29.7, 20.575, 46.9, 263.0, 164.8667, 75.2417, 13.9, 151.55, 12.1833, 11.5, 0.0, 73.5, 15.5, 32.5, 36.75, 6.4375, 60.0, 57.75, 93.5, 7.0, 22.525, 15.0458, 22.025, 12.35, 7.65, 51.8625, 13.8583, 136.7792, 79.2, 23.45, 82.2667, 21.6792, 81.8583, 42.5, 106.425, 3.1708, 8.1125, 50.0, 27.4458, 15.9, 31.6833, 61.9792, 12.2875, 45.5, 52.5542, 30.0, 27.75, 16.0, 10.7083, 13.4167, 211.3375, 15.7417, 8.7125, 16.7, 9.6875, 29.0, 7.8292, 15.55, 30.5, 71.2833, 15.1, 135.6333, 512.3292, 8.9625, 29.125, 20.25, 12.7375, 61.3792, 52.0, 15.75, 42.4, 7.8208, 23.25, 56.4958, 28.5, 18.0, 12.875, 31.6792, 90.0, 51.4792, 24.15, 15.5792, 7.7792, 7.2833, 25.7417, 37.0042, 14.1083, 25.7, 146.5208, 7.8875, 8.5167, 39.6, 53.1, 9.35, 63.3583, 41.5792, 7.5792, 14.4, 50.4958, 39.4, 34.375, 7.7208, 7.85, 76.2917, 7.725, 9.225, 39.6875, 75.25, 13.8625, 6.95, 61.175, 78.85, 20.2125, 247.5208, 7.575, 28.5375, 227.525, 108.9, 6.4958, 7.6292, 47.1, 22.3583, 17.4, 9.325, 14.4583, 15.0333, 25.4667, 21.075], \"y\": [21, 19, 17, 17, 11, 11, 10, 9, 9, 8, 8, 8, 7, 6, 6, 5, 5, 5, 4, 4, 4, 4, 4, 4, 3, 3, 3, 3, 3, 3, 3, 3, 3, 3, 3, 3, 3, 3, 3, 3, 2, 2, 2, 2, 2, 2, 2, 2, 2, 2, 2, 2, 2, 2, 2, 2, 2, 2, 2, 2, 2, 2, 2, 2, 2, 2, 2, 2, 2, 2, 2, 2, 2, 2, 1, 1, 1, 1, 1, 1, 1, 1, 1, 1, 1, 1, 1, 1, 1, 1, 1, 1, 1, 1, 1, 1, 1, 1, 1, 1, 1, 1, 1, 1, 1, 1, 1, 1, 1, 1, 1, 1, 1, 1, 1, 1, 1, 1, 1, 1, 1, 1, 1, 1, 1, 1, 1, 1, 1, 1, 1, 1, 1, 1, 1, 1, 1, 1, 1, 1, 1, 1, 1, 1, 1, 1, 1, 1, 1, 1, 1, 1, 1, 1, 1, 1, 1, 1, 1, 1, 1, 1, 1, 1, 1, 1, 1, 1, 1], \"type\": \"histogram\", \"uid\": \"396029e0-1c6e-4750-8040-21be79cb4615\", \"xaxis\": \"x2\", \"yaxis\": \"y2\"}], {\"annotations\": [{\"font\": {\"size\": 16}, \"showarrow\": false, \"text\": \"Train data\", \"x\": 0.225, \"xanchor\": \"center\", \"xref\": \"paper\", \"y\": 1.0, \"yanchor\": \"bottom\", \"yref\": \"paper\"}, {\"font\": {\"size\": 16}, \"showarrow\": false, \"text\": \"Test data\", \"x\": 0.775, \"xanchor\": \"center\", \"xref\": \"paper\", \"y\": 1.0, \"yanchor\": \"bottom\", \"yref\": \"paper\"}], \"xaxis\": {\"anchor\": \"y\", \"domain\": [0.0, 0.45], \"title\": {\"text\": \"Fare\"}}, \"yaxis\": {\"anchor\": \"x\", \"domain\": [0.0, 1.0], \"title\": {\"text\": \"Passengers\"}}, \"xaxis2\": {\"anchor\": \"y2\", \"domain\": [0.55, 1.0], \"title\": {\"text\": \"Fare\"}}, \"yaxis2\": {\"anchor\": \"x2\", \"domain\": [0.0, 1.0], \"title\": {\"text\": \"Passengers\"}}, \"showlegend\": false}, {\"showLink\": false, \"linkText\": \"Export to plot.ly\", \"plotlyServerURL\": \"https://plot.ly\"})});</script><script type=\"text/javascript\">window.addEventListener(\"resize\", function(){window._Plotly.Plots.resize(document.getElementById(\"6a03cf2f-6f3f-405a-9c91-0634bbd181ff\"));});</script>"
      ],
      "text/vnd.plotly.v1+html": [
       "<div id=\"6a03cf2f-6f3f-405a-9c91-0634bbd181ff\" style=\"height: 525px; width: 100%;\" class=\"plotly-graph-div\"></div><script type=\"text/javascript\">require([\"plotly\"], function(Plotly) { window.PLOTLYENV=window.PLOTLYENV || {};window.PLOTLYENV.BASE_URL=\"https://plot.ly\";Plotly.newPlot(\"6a03cf2f-6f3f-405a-9c91-0634bbd181ff\", [{\"marker\": {\"color\": \"Blue\"}, \"text\": [8.05, 13.0, 7.8958, 7.75, 26.0, 10.5, 7.925, 7.775, 26.55, 0.0, 7.2292, 7.8542, 8.6625, 7.25, 7.225, 16.1, 9.5, 24.15, 15.5, 56.4958, 52.0, 14.5, 14.4542, 69.55, 7.05, 31.275, 46.9, 30.0, 7.7958, 39.6875, 21.0, 27.9, 26.25, 27.7208, 30.5, 73.5, 53.1, 15.2458, 29.125, 34.375, 11.5, 21.075, 35.5, 12.475, 7.7333, 110.8833, 7.8792, 227.525, 79.2, 31.3875, 120.0, 27.75, 25.4667, 7.55, 39.0, 263.0, 151.55, 15.85, 7.125, 13.5, 90.0, 19.2583, 7.65, 23.0, 52.5542, 29.7, 86.5, 113.275, 20.525, 79.65, 76.7292, 14.4583, 211.3375, 18.75, 31.0, 11.1333, 26.2875, 512.3292, 135.6333, 41.5792, 7.4958, 12.35, 153.4625, 18.0, 77.9583, 33.0, 83.1583, 108.9, 20.575, 23.45, 66.6, 55.9, 80.0, 51.8625, 19.9667, 78.2667, 133.65, 56.9292, 29.0, 7.8292, 65.0, 9.0, 6.75, 9.5875, 30.6958, 146.5208, 18.7875, 6.4958, 71.0, 24.0, 23.25, 20.25, 17.8, 19.5, 49.5042, 27.0, 164.8667, 57.0, 134.5, 55.0, 9.225, 15.7417, 36.75, 83.475, 6.975, 9.825, 20.2125, 10.4625, 22.3583, 77.2875, 39.6, 25.9292, 14.4, 15.9, 93.5, 57.9792, 7.7375, 7.0542, 11.2417, 69.3, 78.85, 262.375, 106.425, 82.1708, 91.0792, 30.0708, 247.5208, 16.7, 9.35, 89.1042, 37.0042, 63.3583, 8.5167, 15.0, 15.1, 76.2917, 32.5, 49.5, 28.5, 35.0, 12.0, 38.5, 7.875, 9.4833, 71.2833, 12.875, 14.0, 7.0458, 75.25, 7.725, 16.0, 32.3208, 7.8, 15.0458, 6.8583, 8.4042, 7.7417, 21.6792, 6.45, 7.7875, 4.0125, 7.3125, 15.75, 33.5, 12.525, 55.4417, 50.0, 6.4375, 26.2833, 39.4, 9.8458, 8.85, 5.0, 9.2167, 40.125, 50.4958, 221.7792, 59.4, 10.5167, 12.65, 6.2375, 10.1708, 13.8625, 47.1, 15.05, 7.6292, 13.8583, 8.1583, 8.0292, 22.025, 15.55, 22.525, 25.925, 8.1375, 81.8583, 8.1125, 61.9792, 34.0208, 7.1417, 42.4, 211.5, 12.275, 61.175, 8.4333, 51.4792, 7.8875, 8.6833, 7.5208, 34.6542, 28.7125, 25.5875, 7.7292, 12.2875, 8.6542, 8.7125, 61.3792, 6.95, 9.8417, 8.3, 13.7917, 9.475, 13.4167, 26.3875, 8.4583, 9.8375, 8.3625, 14.1083, 17.4], \"x\": [8.05, 13.0, 7.8958, 7.75, 26.0, 10.5, 7.925, 7.775, 26.55, 0.0, 7.2292, 7.8542, 8.6625, 7.25, 7.225, 16.1, 9.5, 24.15, 15.5, 56.4958, 52.0, 14.5, 14.4542, 69.55, 7.05, 31.275, 46.9, 30.0, 7.7958, 39.6875, 21.0, 27.9, 26.25, 27.7208, 30.5, 73.5, 53.1, 15.2458, 29.125, 34.375, 11.5, 21.075, 35.5, 12.475, 7.7333, 110.8833, 7.8792, 227.525, 79.2, 31.3875, 120.0, 27.75, 25.4667, 7.55, 39.0, 263.0, 151.55, 15.85, 7.125, 13.5, 90.0, 19.2583, 7.65, 23.0, 52.5542, 29.7, 86.5, 113.275, 20.525, 79.65, 76.7292, 14.4583, 211.3375, 18.75, 31.0, 11.1333, 26.2875, 512.3292, 135.6333, 41.5792, 7.4958, 12.35, 153.4625, 18.0, 77.9583, 33.0, 83.1583, 108.9, 20.575, 23.45, 66.6, 55.9, 80.0, 51.8625, 19.9667, 78.2667, 133.65, 56.9292, 29.0, 7.8292, 65.0, 9.0, 6.75, 9.5875, 30.6958, 146.5208, 18.7875, 6.4958, 71.0, 24.0, 23.25, 20.25, 17.8, 19.5, 49.5042, 27.0, 164.8667, 57.0, 134.5, 55.0, 9.225, 15.7417, 36.75, 83.475, 6.975, 9.825, 20.2125, 10.4625, 22.3583, 77.2875, 39.6, 25.9292, 14.4, 15.9, 93.5, 57.9792, 7.7375, 7.0542, 11.2417, 69.3, 78.85, 262.375, 106.425, 82.1708, 91.0792, 30.0708, 247.5208, 16.7, 9.35, 89.1042, 37.0042, 63.3583, 8.5167, 15.0, 15.1, 76.2917, 32.5, 49.5, 28.5, 35.0, 12.0, 38.5, 7.875, 9.4833, 71.2833, 12.875, 14.0, 7.0458, 75.25, 7.725, 16.0, 32.3208, 7.8, 15.0458, 6.8583, 8.4042, 7.7417, 21.6792, 6.45, 7.7875, 4.0125, 7.3125, 15.75, 33.5, 12.525, 55.4417, 50.0, 6.4375, 26.2833, 39.4, 9.8458, 8.85, 5.0, 9.2167, 40.125, 50.4958, 221.7792, 59.4, 10.5167, 12.65, 6.2375, 10.1708, 13.8625, 47.1, 15.05, 7.6292, 13.8583, 8.1583, 8.0292, 22.025, 15.55, 22.525, 25.925, 8.1375, 81.8583, 8.1125, 61.9792, 34.0208, 7.1417, 42.4, 211.5, 12.275, 61.175, 8.4333, 51.4792, 7.8875, 8.6833, 7.5208, 34.6542, 28.7125, 25.5875, 7.7292, 12.2875, 8.6542, 8.7125, 61.3792, 6.95, 9.8417, 8.3, 13.7917, 9.475, 13.4167, 26.3875, 8.4583, 9.8375, 8.3625, 14.1083, 17.4], \"y\": [43, 42, 38, 34, 31, 24, 18, 16, 15, 15, 15, 13, 13, 13, 12, 9, 9, 8, 8, 7, 7, 7, 7, 7, 7, 7, 6, 6, 6, 6, 6, 6, 6, 5, 5, 5, 5, 5, 5, 4, 4, 4, 4, 4, 4, 4, 4, 4, 4, 4, 4, 4, 4, 4, 4, 4, 4, 4, 4, 4, 4, 4, 4, 4, 3, 3, 3, 3, 3, 3, 3, 3, 3, 3, 3, 3, 3, 3, 3, 3, 3, 3, 3, 3, 3, 3, 3, 2, 2, 2, 2, 2, 2, 2, 2, 2, 2, 2, 2, 2, 2, 2, 2, 2, 2, 2, 2, 2, 2, 2, 2, 2, 2, 2, 2, 2, 2, 2, 2, 2, 2, 2, 2, 2, 2, 2, 2, 2, 2, 2, 2, 2, 2, 2, 2, 2, 2, 2, 2, 2, 2, 2, 2, 2, 2, 2, 2, 2, 2, 2, 2, 1, 1, 1, 1, 1, 1, 1, 1, 1, 1, 1, 1, 1, 1, 1, 1, 1, 1, 1, 1, 1, 1, 1, 1, 1, 1, 1, 1, 1, 1, 1, 1, 1, 1, 1, 1, 1, 1, 1, 1, 1, 1, 1, 1, 1, 1, 1, 1, 1, 1, 1, 1, 1, 1, 1, 1, 1, 1, 1, 1, 1, 1, 1, 1, 1, 1, 1, 1, 1, 1, 1, 1, 1, 1, 1, 1, 1, 1, 1, 1, 1, 1, 1, 1, 1, 1, 1, 1, 1, 1, 1, 1, 1, 1, 1, 1, 1], \"type\": \"histogram\", \"uid\": \"2f56ebe8-7884-4ea2-9341-3d8e1bedfe75\", \"xaxis\": \"x\", \"yaxis\": \"y\"}, {\"marker\": {\"color\": \"Lightblue\"}, \"text\": [7.75, 26.0, 8.05, 13.0, 7.8958, 10.5, 7.775, 7.2292, 7.225, 8.6625, 7.8542, 21.0, 26.55, 7.8792, 27.7208, 7.25, 7.925, 262.375, 211.5, 69.55, 14.5, 7.55, 7.7958, 15.2458, 55.4417, 31.3875, 31.5, 14.4542, 9.5, 221.7792, 39.0, 134.5, 16.1, 23.0, 65.0, 13.775, 13.5, 59.4, 7.7333, 83.1583, 7.05, 29.7, 20.575, 46.9, 263.0, 164.8667, 75.2417, 13.9, 151.55, 12.1833, 11.5, 0.0, 73.5, 15.5, 32.5, 36.75, 6.4375, 60.0, 57.75, 93.5, 7.0, 22.525, 15.0458, 22.025, 12.35, 7.65, 51.8625, 13.8583, 136.7792, 79.2, 23.45, 82.2667, 21.6792, 81.8583, 42.5, 106.425, 3.1708, 8.1125, 50.0, 27.4458, 15.9, 31.6833, 61.9792, 12.2875, 45.5, 52.5542, 30.0, 27.75, 16.0, 10.7083, 13.4167, 211.3375, 15.7417, 8.7125, 16.7, 9.6875, 29.0, 7.8292, 15.55, 30.5, 71.2833, 15.1, 135.6333, 512.3292, 8.9625, 29.125, 20.25, 12.7375, 61.3792, 52.0, 15.75, 42.4, 7.8208, 23.25, 56.4958, 28.5, 18.0, 12.875, 31.6792, 90.0, 51.4792, 24.15, 15.5792, 7.7792, 7.2833, 25.7417, 37.0042, 14.1083, 25.7, 146.5208, 7.8875, 8.5167, 39.6, 53.1, 9.35, 63.3583, 41.5792, 7.5792, 14.4, 50.4958, 39.4, 34.375, 7.7208, 7.85, 76.2917, 7.725, 9.225, 39.6875, 75.25, 13.8625, 6.95, 61.175, 78.85, 20.2125, 247.5208, 7.575, 28.5375, 227.525, 108.9, 6.4958, 7.6292, 47.1, 22.3583, 17.4, 9.325, 14.4583, 15.0333, 25.4667, 21.075], \"x\": [7.75, 26.0, 8.05, 13.0, 7.8958, 10.5, 7.775, 7.2292, 7.225, 8.6625, 7.8542, 21.0, 26.55, 7.8792, 27.7208, 7.25, 7.925, 262.375, 211.5, 69.55, 14.5, 7.55, 7.7958, 15.2458, 55.4417, 31.3875, 31.5, 14.4542, 9.5, 221.7792, 39.0, 134.5, 16.1, 23.0, 65.0, 13.775, 13.5, 59.4, 7.7333, 83.1583, 7.05, 29.7, 20.575, 46.9, 263.0, 164.8667, 75.2417, 13.9, 151.55, 12.1833, 11.5, 0.0, 73.5, 15.5, 32.5, 36.75, 6.4375, 60.0, 57.75, 93.5, 7.0, 22.525, 15.0458, 22.025, 12.35, 7.65, 51.8625, 13.8583, 136.7792, 79.2, 23.45, 82.2667, 21.6792, 81.8583, 42.5, 106.425, 3.1708, 8.1125, 50.0, 27.4458, 15.9, 31.6833, 61.9792, 12.2875, 45.5, 52.5542, 30.0, 27.75, 16.0, 10.7083, 13.4167, 211.3375, 15.7417, 8.7125, 16.7, 9.6875, 29.0, 7.8292, 15.55, 30.5, 71.2833, 15.1, 135.6333, 512.3292, 8.9625, 29.125, 20.25, 12.7375, 61.3792, 52.0, 15.75, 42.4, 7.8208, 23.25, 56.4958, 28.5, 18.0, 12.875, 31.6792, 90.0, 51.4792, 24.15, 15.5792, 7.7792, 7.2833, 25.7417, 37.0042, 14.1083, 25.7, 146.5208, 7.8875, 8.5167, 39.6, 53.1, 9.35, 63.3583, 41.5792, 7.5792, 14.4, 50.4958, 39.4, 34.375, 7.7208, 7.85, 76.2917, 7.725, 9.225, 39.6875, 75.25, 13.8625, 6.95, 61.175, 78.85, 20.2125, 247.5208, 7.575, 28.5375, 227.525, 108.9, 6.4958, 7.6292, 47.1, 22.3583, 17.4, 9.325, 14.4583, 15.0333, 25.4667, 21.075], \"y\": [21, 19, 17, 17, 11, 11, 10, 9, 9, 8, 8, 8, 7, 6, 6, 5, 5, 5, 4, 4, 4, 4, 4, 4, 3, 3, 3, 3, 3, 3, 3, 3, 3, 3, 3, 3, 3, 3, 3, 3, 2, 2, 2, 2, 2, 2, 2, 2, 2, 2, 2, 2, 2, 2, 2, 2, 2, 2, 2, 2, 2, 2, 2, 2, 2, 2, 2, 2, 2, 2, 2, 2, 2, 2, 1, 1, 1, 1, 1, 1, 1, 1, 1, 1, 1, 1, 1, 1, 1, 1, 1, 1, 1, 1, 1, 1, 1, 1, 1, 1, 1, 1, 1, 1, 1, 1, 1, 1, 1, 1, 1, 1, 1, 1, 1, 1, 1, 1, 1, 1, 1, 1, 1, 1, 1, 1, 1, 1, 1, 1, 1, 1, 1, 1, 1, 1, 1, 1, 1, 1, 1, 1, 1, 1, 1, 1, 1, 1, 1, 1, 1, 1, 1, 1, 1, 1, 1, 1, 1, 1, 1, 1, 1, 1, 1, 1, 1, 1, 1], \"type\": \"histogram\", \"uid\": \"396029e0-1c6e-4750-8040-21be79cb4615\", \"xaxis\": \"x2\", \"yaxis\": \"y2\"}], {\"annotations\": [{\"font\": {\"size\": 16}, \"showarrow\": false, \"text\": \"Train data\", \"x\": 0.225, \"xanchor\": \"center\", \"xref\": \"paper\", \"y\": 1.0, \"yanchor\": \"bottom\", \"yref\": \"paper\"}, {\"font\": {\"size\": 16}, \"showarrow\": false, \"text\": \"Test data\", \"x\": 0.775, \"xanchor\": \"center\", \"xref\": \"paper\", \"y\": 1.0, \"yanchor\": \"bottom\", \"yref\": \"paper\"}], \"xaxis\": {\"anchor\": \"y\", \"domain\": [0.0, 0.45], \"title\": {\"text\": \"Fare\"}}, \"yaxis\": {\"anchor\": \"x\", \"domain\": [0.0, 1.0], \"title\": {\"text\": \"Passengers\"}}, \"xaxis2\": {\"anchor\": \"y2\", \"domain\": [0.55, 1.0], \"title\": {\"text\": \"Fare\"}}, \"yaxis2\": {\"anchor\": \"x2\", \"domain\": [0.0, 1.0], \"title\": {\"text\": \"Passengers\"}}, \"showlegend\": false}, {\"showLink\": false, \"linkText\": \"Export to plot.ly\", \"plotlyServerURL\": \"https://plot.ly\"})});</script><script type=\"text/javascript\">window.addEventListener(\"resize\", function(){window._Plotly.Plots.resize(document.getElementById(\"6a03cf2f-6f3f-405a-9c91-0634bbd181ff\"));});</script>"
      ]
     },
     "metadata": {},
     "output_type": "display_data"
    }
   ],
   "source": [
    "plot_two_histogram(get_categories(train_df,'Fare'), get_categories(test_df,'Fare'), \n",
    "             'Train data', 'Test data',\n",
    "             'Fare', 'Passengers')"
   ]
  },
  {
   "cell_type": "code",
   "execution_count": 26,
   "metadata": {
    "_uuid": "2ba46c12c4562381f9170488807efb0de4646158"
   },
   "outputs": [
    {
     "data": {
      "application/vnd.plotly.v1+json": {
       "config": {
        "linkText": "Export to plot.ly",
        "plotlyServerURL": "https://plot.ly",
        "showLink": false
       },
       "data": [
        {
         "marker": {
          "color": "Blue"
         },
         "name": "Survived",
         "text": [
          16.0,
          15.0,
          12.0,
          9.0,
          8.0,
          8.0,
          5.0,
          5.0,
          5.0,
          4.0,
          4.0,
          4.0,
          4.0,
          4.0,
          4.0,
          4.0,
          4.0,
          3.0,
          3.0,
          3.0,
          3.0,
          3.0,
          3.0,
          3.0,
          3.0,
          3.0,
          3.0,
          3.0,
          3.0,
          3.0,
          3.0,
          3.0,
          3.0,
          3.0,
          3.0,
          3.0,
          3.0,
          3.0,
          3.0,
          3.0,
          2.0,
          2.0,
          2.0,
          2.0,
          2.0,
          2.0,
          2.0,
          2.0,
          2.0,
          2.0,
          2.0,
          2.0,
          2.0,
          2.0,
          2.0,
          2.0,
          2.0,
          2.0,
          2.0,
          2.0,
          2.0,
          2.0,
          2.0,
          2.0,
          2.0,
          2.0,
          2.0,
          2.0,
          2.0,
          2.0,
          2.0,
          2.0,
          2.0,
          2.0,
          2.0,
          2.0,
          2.0,
          2.0,
          2.0,
          2.0,
          2.0,
          2.0,
          2.0,
          2.0,
          2.0,
          1.0,
          1.0,
          1.0,
          1.0,
          1.0,
          1.0,
          1.0,
          1.0,
          1.0,
          1.0,
          1.0,
          1.0,
          1.0,
          1.0,
          1.0,
          1.0,
          1.0,
          1.0,
          1.0,
          1.0,
          1.0,
          1.0,
          1.0,
          1.0,
          1.0,
          1.0,
          1.0,
          1.0,
          1.0,
          1.0,
          1.0,
          1.0,
          1.0,
          1.0,
          1.0,
          1.0,
          1.0,
          1.0,
          1.0,
          1.0,
          1.0,
          1.0,
          1.0,
          1.0,
          1.0,
          1.0,
          1.0,
          1.0,
          1.0,
          1.0,
          1.0,
          1.0,
          1.0,
          1.0,
          1.0,
          1.0,
          1.0,
          1.0,
          1.0,
          1.0,
          1.0,
          1.0,
          1.0,
          1.0,
          1.0,
          1.0,
          1.0,
          1.0
         ],
         "type": "histogram",
         "uid": "7b296aa2-2dd1-4cc4-8e6c-bb437c918489",
         "x": [
          13.0,
          26.0,
          7.75,
          10.5,
          7.925,
          26.55,
          8.05,
          30.0,
          56.4958,
          7.2292,
          7.8792,
          12.475,
          19.2583,
          23.0,
          26.25,
          30.5,
          120.0,
          7.225,
          7.775,
          7.8542,
          11.1333,
          15.2458,
          15.5,
          18.75,
          26.2875,
          31.3875,
          35.5,
          39.0,
          52.0,
          52.5542,
          53.1,
          76.7292,
          77.9583,
          83.1583,
          86.5,
          90.0,
          110.8833,
          211.3375,
          227.525,
          512.3292,
          7.7333,
          7.7958,
          9.5,
          11.2417,
          12.35,
          14.5,
          15.7417,
          15.85,
          15.9,
          16.1,
          16.7,
          19.5,
          20.525,
          21.0,
          22.3583,
          23.25,
          25.9292,
          27.75,
          29.0,
          31.0,
          33.0,
          41.5792,
          55.0,
          56.9292,
          57.0,
          57.9792,
          65.0,
          69.3,
          78.2667,
          79.2,
          79.65,
          80.0,
          89.1042,
          91.0792,
          93.5,
          113.275,
          133.65,
          134.5,
          135.6333,
          146.5208,
          151.55,
          153.4625,
          164.8667,
          262.375,
          263.0,
          0.0,
          6.975,
          7.1417,
          7.25,
          7.4958,
          7.55,
          7.65,
          7.7375,
          7.7875,
          7.8292,
          7.8958,
          8.0292,
          8.1125,
          8.5167,
          8.6625,
          8.6833,
          9.35,
          9.5875,
          9.8417,
          12.0,
          12.2875,
          12.65,
          13.4167,
          13.5,
          13.7917,
          13.8583,
          13.8625,
          14.4542,
          15.75,
          16.0,
          17.4,
          18.7875,
          20.25,
          20.575,
          22.025,
          24.0,
          24.15,
          26.2833,
          26.3875,
          27.0,
          27.7208,
          29.7,
          30.0708,
          32.5,
          36.75,
          37.0042,
          39.4,
          39.6,
          49.5,
          49.5042,
          51.4792,
          51.8625,
          55.4417,
          55.9,
          59.4,
          63.3583,
          66.6,
          71.0,
          71.2833,
          75.25,
          76.2917,
          78.85,
          81.8583,
          82.1708,
          83.475,
          106.425,
          108.9,
          247.5208
         ],
         "y": [
          16,
          15,
          12,
          9,
          8,
          8,
          5,
          5,
          5,
          4,
          4,
          4,
          4,
          4,
          4,
          4,
          4,
          3,
          3,
          3,
          3,
          3,
          3,
          3,
          3,
          3,
          3,
          3,
          3,
          3,
          3,
          3,
          3,
          3,
          3,
          3,
          3,
          3,
          3,
          3,
          2,
          2,
          2,
          2,
          2,
          2,
          2,
          2,
          2,
          2,
          2,
          2,
          2,
          2,
          2,
          2,
          2,
          2,
          2,
          2,
          2,
          2,
          2,
          2,
          2,
          2,
          2,
          2,
          2,
          2,
          2,
          2,
          2,
          2,
          2,
          2,
          2,
          2,
          2,
          2,
          2,
          2,
          2,
          2,
          2,
          1,
          1,
          1,
          1,
          1,
          1,
          1,
          1,
          1,
          1,
          1,
          1,
          1,
          1,
          1,
          1,
          1,
          1,
          1,
          1,
          1,
          1,
          1,
          1,
          1,
          1,
          1,
          1,
          1,
          1,
          1,
          1,
          1,
          1,
          1,
          1,
          1,
          1,
          1,
          1,
          1,
          1,
          1,
          1,
          1,
          1,
          1,
          1,
          1,
          1,
          1,
          1,
          1,
          1,
          1,
          1,
          1,
          1,
          1,
          1,
          1,
          1,
          1,
          1,
          1,
          1,
          1,
          1
         ]
        },
        {
         "marker": {
          "color": "Red"
         },
         "name": "Not survived",
         "text": [
          16.0,
          15.0,
          12.0,
          9.0,
          8.0,
          8.0,
          5.0,
          5.0,
          5.0,
          4.0,
          4.0,
          4.0,
          4.0,
          4.0,
          4.0,
          4.0,
          4.0,
          3.0,
          3.0,
          3.0,
          3.0,
          3.0,
          3.0,
          3.0,
          3.0,
          3.0,
          3.0,
          3.0,
          3.0,
          3.0,
          3.0,
          3.0,
          3.0,
          3.0,
          3.0,
          3.0,
          3.0,
          3.0,
          3.0,
          3.0,
          2.0,
          2.0,
          2.0,
          2.0,
          2.0,
          2.0,
          2.0,
          2.0,
          2.0,
          2.0,
          2.0,
          2.0,
          2.0,
          2.0,
          2.0,
          2.0,
          2.0,
          2.0,
          2.0,
          2.0,
          2.0,
          2.0,
          2.0,
          2.0,
          2.0,
          2.0,
          2.0,
          2.0,
          2.0,
          2.0,
          2.0,
          2.0,
          2.0,
          2.0,
          2.0,
          2.0,
          2.0,
          2.0,
          2.0,
          2.0,
          2.0,
          2.0,
          2.0,
          2.0,
          2.0,
          1.0,
          1.0,
          1.0,
          1.0,
          1.0,
          1.0,
          1.0,
          1.0,
          1.0,
          1.0,
          1.0,
          1.0,
          1.0,
          1.0,
          1.0,
          1.0,
          1.0,
          1.0,
          1.0,
          1.0,
          1.0,
          1.0,
          1.0,
          1.0,
          1.0,
          1.0,
          1.0,
          1.0,
          1.0,
          1.0,
          1.0,
          1.0,
          1.0,
          1.0,
          1.0,
          1.0,
          1.0,
          1.0,
          1.0,
          1.0,
          1.0,
          1.0,
          1.0,
          1.0,
          1.0,
          1.0,
          1.0,
          1.0,
          1.0,
          1.0,
          1.0,
          1.0,
          1.0,
          1.0,
          1.0,
          1.0,
          1.0,
          1.0,
          1.0,
          1.0,
          1.0,
          1.0,
          1.0,
          1.0,
          1.0,
          1.0,
          1.0,
          1.0
         ],
         "type": "histogram",
         "uid": "5c9f7c2f-c680-459a-b9a2-e52f676363e7",
         "x": [
          8.05,
          7.8958,
          13.0,
          7.75,
          26.0,
          10.5,
          0.0,
          7.775,
          7.25,
          8.6625,
          7.2292,
          7.8542,
          7.925,
          7.225,
          7.05,
          9.5,
          16.1,
          24.15,
          26.55,
          31.275,
          69.55,
          14.4542,
          27.9,
          39.6875,
          46.9,
          14.5,
          15.5,
          29.125,
          73.5,
          7.125,
          7.7958,
          11.5,
          21.0,
          21.075,
          25.4667,
          27.7208,
          34.375,
          52.0,
          7.55,
          7.65,
          13.5,
          14.4583,
          18.0,
          6.4958,
          6.75,
          7.0542,
          7.4958,
          7.7333,
          9.0,
          9.225,
          9.825,
          10.4625,
          14.4,
          15.2458,
          15.85,
          17.8,
          19.9667,
          20.2125,
          23.45,
          26.25,
          27.75,
          29.7,
          30.6958,
          53.1,
          56.4958,
          77.2875,
          79.2,
          151.55,
          263.0,
          4.0125,
          5.0,
          6.2375,
          6.4375,
          6.45,
          6.8583,
          6.95,
          6.975,
          7.0458,
          7.3125,
          7.5208,
          7.6292,
          7.725,
          7.7292,
          7.7375,
          7.7417,
          7.8,
          7.8292,
          7.875,
          7.8875,
          8.1375,
          8.1583,
          8.3,
          8.3625,
          8.4042,
          8.4333,
          8.4583,
          8.6542,
          8.7125,
          8.85,
          9.2167,
          9.35,
          9.475,
          9.4833,
          9.5875,
          9.8375,
          9.8458,
          10.1708,
          10.5167,
          12.275,
          12.35,
          12.525,
          12.875,
          14.0,
          14.1083,
          15.0,
          15.0458,
          15.05,
          15.1,
          15.55,
          18.7875,
          20.25,
          20.525,
          20.575,
          21.6792,
          22.525,
          24.0,
          25.5875,
          25.925,
          27.0,
          28.5,
          28.7125,
          30.0,
          30.0708,
          30.5,
          31.0,
          31.3875,
          32.3208,
          33.0,
          33.5,
          34.0208,
          34.6542,
          35.0,
          35.5,
          36.75,
          37.0042,
          38.5,
          39.0,
          39.6,
          40.125,
          41.5792,
          42.4,
          47.1,
          49.5042,
          50.0,
          50.4958,
          51.8625,
          55.9,
          61.175,
          61.3792,
          61.9792,
          66.6,
          71.0,
          78.85,
          79.65,
          82.1708,
          83.475,
          90.0,
          106.425,
          108.9,
          110.8833,
          113.275,
          135.6333,
          153.4625,
          211.5,
          221.7792,
          227.525,
          247.5208
         ],
         "y": [
          38,
          37,
          26,
          22,
          16,
          15,
          14,
          13,
          12,
          12,
          11,
          10,
          10,
          9,
          7,
          7,
          7,
          7,
          7,
          7,
          7,
          6,
          6,
          6,
          6,
          5,
          5,
          5,
          5,
          4,
          4,
          4,
          4,
          4,
          4,
          4,
          4,
          4,
          3,
          3,
          3,
          3,
          3,
          2,
          2,
          2,
          2,
          2,
          2,
          2,
          2,
          2,
          2,
          2,
          2,
          2,
          2,
          2,
          2,
          2,
          2,
          2,
          2,
          2,
          2,
          2,
          2,
          2,
          2,
          1,
          1,
          1,
          1,
          1,
          1,
          1,
          1,
          1,
          1,
          1,
          1,
          1,
          1,
          1,
          1,
          1,
          1,
          1,
          1,
          1,
          1,
          1,
          1,
          1,
          1,
          1,
          1,
          1,
          1,
          1,
          1,
          1,
          1,
          1,
          1,
          1,
          1,
          1,
          1,
          1,
          1,
          1,
          1,
          1,
          1,
          1,
          1,
          1,
          1,
          1,
          1,
          1,
          1,
          1,
          1,
          1,
          1,
          1,
          1,
          1,
          1,
          1,
          1,
          1,
          1,
          1,
          1,
          1,
          1,
          1,
          1,
          1,
          1,
          1,
          1,
          1,
          1,
          1,
          1,
          1,
          1,
          1,
          1,
          1,
          1,
          1,
          1,
          1,
          1,
          1,
          1,
          1,
          1,
          1,
          1,
          1,
          1,
          1,
          1,
          1,
          1,
          1,
          1,
          1,
          1,
          1,
          1
         ]
        }
       ],
       "layout": {
        "hovermode": "closest",
        "title": {
         "text": "Number of survived and not survived passengers by Fare"
        },
        "xaxis": {
         "showticklabels": true,
         "title": {
          "text": "Fare"
         }
        },
        "yaxis": {
         "title": {
          "text": "Number of passengers"
         }
        }
       }
      },
      "text/html": [
       "<div id=\"04f11f66-f657-4a64-8f00-4d83bb1865a5\" style=\"height: 525px; width: 100%;\" class=\"plotly-graph-div\"></div><script type=\"text/javascript\">require([\"plotly\"], function(Plotly) { window.PLOTLYENV=window.PLOTLYENV || {};window.PLOTLYENV.BASE_URL=\"https://plot.ly\";Plotly.newPlot(\"04f11f66-f657-4a64-8f00-4d83bb1865a5\", [{\"marker\": {\"color\": \"Blue\"}, \"name\": \"Survived\", \"text\": [16.0, 15.0, 12.0, 9.0, 8.0, 8.0, 5.0, 5.0, 5.0, 4.0, 4.0, 4.0, 4.0, 4.0, 4.0, 4.0, 4.0, 3.0, 3.0, 3.0, 3.0, 3.0, 3.0, 3.0, 3.0, 3.0, 3.0, 3.0, 3.0, 3.0, 3.0, 3.0, 3.0, 3.0, 3.0, 3.0, 3.0, 3.0, 3.0, 3.0, 2.0, 2.0, 2.0, 2.0, 2.0, 2.0, 2.0, 2.0, 2.0, 2.0, 2.0, 2.0, 2.0, 2.0, 2.0, 2.0, 2.0, 2.0, 2.0, 2.0, 2.0, 2.0, 2.0, 2.0, 2.0, 2.0, 2.0, 2.0, 2.0, 2.0, 2.0, 2.0, 2.0, 2.0, 2.0, 2.0, 2.0, 2.0, 2.0, 2.0, 2.0, 2.0, 2.0, 2.0, 2.0, 1.0, 1.0, 1.0, 1.0, 1.0, 1.0, 1.0, 1.0, 1.0, 1.0, 1.0, 1.0, 1.0, 1.0, 1.0, 1.0, 1.0, 1.0, 1.0, 1.0, 1.0, 1.0, 1.0, 1.0, 1.0, 1.0, 1.0, 1.0, 1.0, 1.0, 1.0, 1.0, 1.0, 1.0, 1.0, 1.0, 1.0, 1.0, 1.0, 1.0, 1.0, 1.0, 1.0, 1.0, 1.0, 1.0, 1.0, 1.0, 1.0, 1.0, 1.0, 1.0, 1.0, 1.0, 1.0, 1.0, 1.0, 1.0, 1.0, 1.0, 1.0, 1.0, 1.0, 1.0, 1.0, 1.0, 1.0, 1.0], \"x\": [13.0, 26.0, 7.75, 10.5, 7.925, 26.55, 8.05, 30.0, 56.4958, 7.2292, 7.8792, 12.475, 19.2583, 23.0, 26.25, 30.5, 120.0, 7.225, 7.775, 7.8542, 11.1333, 15.2458, 15.5, 18.75, 26.2875, 31.3875, 35.5, 39.0, 52.0, 52.5542, 53.1, 76.7292, 77.9583, 83.1583, 86.5, 90.0, 110.8833, 211.3375, 227.525, 512.3292, 7.7333, 7.7958, 9.5, 11.2417, 12.35, 14.5, 15.7417, 15.85, 15.9, 16.1, 16.7, 19.5, 20.525, 21.0, 22.3583, 23.25, 25.9292, 27.75, 29.0, 31.0, 33.0, 41.5792, 55.0, 56.9292, 57.0, 57.9792, 65.0, 69.3, 78.2667, 79.2, 79.65, 80.0, 89.1042, 91.0792, 93.5, 113.275, 133.65, 134.5, 135.6333, 146.5208, 151.55, 153.4625, 164.8667, 262.375, 263.0, 0.0, 6.975, 7.1417, 7.25, 7.4958, 7.55, 7.65, 7.7375, 7.7875, 7.8292, 7.8958, 8.0292, 8.1125, 8.5167, 8.6625, 8.6833, 9.35, 9.5875, 9.8417, 12.0, 12.2875, 12.65, 13.4167, 13.5, 13.7917, 13.8583, 13.8625, 14.4542, 15.75, 16.0, 17.4, 18.7875, 20.25, 20.575, 22.025, 24.0, 24.15, 26.2833, 26.3875, 27.0, 27.7208, 29.7, 30.0708, 32.5, 36.75, 37.0042, 39.4, 39.6, 49.5, 49.5042, 51.4792, 51.8625, 55.4417, 55.9, 59.4, 63.3583, 66.6, 71.0, 71.2833, 75.25, 76.2917, 78.85, 81.8583, 82.1708, 83.475, 106.425, 108.9, 247.5208], \"y\": [16, 15, 12, 9, 8, 8, 5, 5, 5, 4, 4, 4, 4, 4, 4, 4, 4, 3, 3, 3, 3, 3, 3, 3, 3, 3, 3, 3, 3, 3, 3, 3, 3, 3, 3, 3, 3, 3, 3, 3, 2, 2, 2, 2, 2, 2, 2, 2, 2, 2, 2, 2, 2, 2, 2, 2, 2, 2, 2, 2, 2, 2, 2, 2, 2, 2, 2, 2, 2, 2, 2, 2, 2, 2, 2, 2, 2, 2, 2, 2, 2, 2, 2, 2, 2, 1, 1, 1, 1, 1, 1, 1, 1, 1, 1, 1, 1, 1, 1, 1, 1, 1, 1, 1, 1, 1, 1, 1, 1, 1, 1, 1, 1, 1, 1, 1, 1, 1, 1, 1, 1, 1, 1, 1, 1, 1, 1, 1, 1, 1, 1, 1, 1, 1, 1, 1, 1, 1, 1, 1, 1, 1, 1, 1, 1, 1, 1, 1, 1, 1, 1, 1, 1], \"type\": \"histogram\", \"uid\": \"4f99107c-89fa-48d5-9e32-ca6df47ecba2\"}, {\"marker\": {\"color\": \"Red\"}, \"name\": \"Not survived\", \"text\": [16.0, 15.0, 12.0, 9.0, 8.0, 8.0, 5.0, 5.0, 5.0, 4.0, 4.0, 4.0, 4.0, 4.0, 4.0, 4.0, 4.0, 3.0, 3.0, 3.0, 3.0, 3.0, 3.0, 3.0, 3.0, 3.0, 3.0, 3.0, 3.0, 3.0, 3.0, 3.0, 3.0, 3.0, 3.0, 3.0, 3.0, 3.0, 3.0, 3.0, 2.0, 2.0, 2.0, 2.0, 2.0, 2.0, 2.0, 2.0, 2.0, 2.0, 2.0, 2.0, 2.0, 2.0, 2.0, 2.0, 2.0, 2.0, 2.0, 2.0, 2.0, 2.0, 2.0, 2.0, 2.0, 2.0, 2.0, 2.0, 2.0, 2.0, 2.0, 2.0, 2.0, 2.0, 2.0, 2.0, 2.0, 2.0, 2.0, 2.0, 2.0, 2.0, 2.0, 2.0, 2.0, 1.0, 1.0, 1.0, 1.0, 1.0, 1.0, 1.0, 1.0, 1.0, 1.0, 1.0, 1.0, 1.0, 1.0, 1.0, 1.0, 1.0, 1.0, 1.0, 1.0, 1.0, 1.0, 1.0, 1.0, 1.0, 1.0, 1.0, 1.0, 1.0, 1.0, 1.0, 1.0, 1.0, 1.0, 1.0, 1.0, 1.0, 1.0, 1.0, 1.0, 1.0, 1.0, 1.0, 1.0, 1.0, 1.0, 1.0, 1.0, 1.0, 1.0, 1.0, 1.0, 1.0, 1.0, 1.0, 1.0, 1.0, 1.0, 1.0, 1.0, 1.0, 1.0, 1.0, 1.0, 1.0, 1.0, 1.0, 1.0], \"x\": [8.05, 7.8958, 13.0, 7.75, 26.0, 10.5, 0.0, 7.775, 7.25, 8.6625, 7.2292, 7.8542, 7.925, 7.225, 7.05, 9.5, 16.1, 24.15, 26.55, 31.275, 69.55, 14.4542, 27.9, 39.6875, 46.9, 14.5, 15.5, 29.125, 73.5, 7.125, 7.7958, 11.5, 21.0, 21.075, 25.4667, 27.7208, 34.375, 52.0, 7.55, 7.65, 13.5, 14.4583, 18.0, 6.4958, 6.75, 7.0542, 7.4958, 7.7333, 9.0, 9.225, 9.825, 10.4625, 14.4, 15.2458, 15.85, 17.8, 19.9667, 20.2125, 23.45, 26.25, 27.75, 29.7, 30.6958, 53.1, 56.4958, 77.2875, 79.2, 151.55, 263.0, 4.0125, 5.0, 6.2375, 6.4375, 6.45, 6.8583, 6.95, 6.975, 7.0458, 7.3125, 7.5208, 7.6292, 7.725, 7.7292, 7.7375, 7.7417, 7.8, 7.8292, 7.875, 7.8875, 8.1375, 8.1583, 8.3, 8.3625, 8.4042, 8.4333, 8.4583, 8.6542, 8.7125, 8.85, 9.2167, 9.35, 9.475, 9.4833, 9.5875, 9.8375, 9.8458, 10.1708, 10.5167, 12.275, 12.35, 12.525, 12.875, 14.0, 14.1083, 15.0, 15.0458, 15.05, 15.1, 15.55, 18.7875, 20.25, 20.525, 20.575, 21.6792, 22.525, 24.0, 25.5875, 25.925, 27.0, 28.5, 28.7125, 30.0, 30.0708, 30.5, 31.0, 31.3875, 32.3208, 33.0, 33.5, 34.0208, 34.6542, 35.0, 35.5, 36.75, 37.0042, 38.5, 39.0, 39.6, 40.125, 41.5792, 42.4, 47.1, 49.5042, 50.0, 50.4958, 51.8625, 55.9, 61.175, 61.3792, 61.9792, 66.6, 71.0, 78.85, 79.65, 82.1708, 83.475, 90.0, 106.425, 108.9, 110.8833, 113.275, 135.6333, 153.4625, 211.5, 221.7792, 227.525, 247.5208], \"y\": [38, 37, 26, 22, 16, 15, 14, 13, 12, 12, 11, 10, 10, 9, 7, 7, 7, 7, 7, 7, 7, 6, 6, 6, 6, 5, 5, 5, 5, 4, 4, 4, 4, 4, 4, 4, 4, 4, 3, 3, 3, 3, 3, 2, 2, 2, 2, 2, 2, 2, 2, 2, 2, 2, 2, 2, 2, 2, 2, 2, 2, 2, 2, 2, 2, 2, 2, 2, 2, 1, 1, 1, 1, 1, 1, 1, 1, 1, 1, 1, 1, 1, 1, 1, 1, 1, 1, 1, 1, 1, 1, 1, 1, 1, 1, 1, 1, 1, 1, 1, 1, 1, 1, 1, 1, 1, 1, 1, 1, 1, 1, 1, 1, 1, 1, 1, 1, 1, 1, 1, 1, 1, 1, 1, 1, 1, 1, 1, 1, 1, 1, 1, 1, 1, 1, 1, 1, 1, 1, 1, 1, 1, 1, 1, 1, 1, 1, 1, 1, 1, 1, 1, 1, 1, 1, 1, 1, 1, 1, 1, 1, 1, 1, 1, 1, 1, 1, 1, 1, 1, 1, 1, 1, 1, 1, 1, 1], \"type\": \"histogram\", \"uid\": \"ec8c7cc3-3566-46fb-b432-631829710390\"}], {\"hovermode\": \"closest\", \"title\": {\"text\": \"Number of survived and not survived passengers by Fare\"}, \"xaxis\": {\"showticklabels\": true, \"title\": {\"text\": \"Fare\"}}, \"yaxis\": {\"title\": {\"text\": \"Number of passengers\"}}}, {\"showLink\": false, \"linkText\": \"Export to plot.ly\", \"plotlyServerURL\": \"https://plot.ly\"})});</script><script type=\"text/javascript\">window.addEventListener(\"resize\", function(){window._Plotly.Plots.resize(document.getElementById(\"04f11f66-f657-4a64-8f00-4d83bb1865a5\"));});</script>"
      ],
      "text/vnd.plotly.v1+html": [
       "<div id=\"04f11f66-f657-4a64-8f00-4d83bb1865a5\" style=\"height: 525px; width: 100%;\" class=\"plotly-graph-div\"></div><script type=\"text/javascript\">require([\"plotly\"], function(Plotly) { window.PLOTLYENV=window.PLOTLYENV || {};window.PLOTLYENV.BASE_URL=\"https://plot.ly\";Plotly.newPlot(\"04f11f66-f657-4a64-8f00-4d83bb1865a5\", [{\"marker\": {\"color\": \"Blue\"}, \"name\": \"Survived\", \"text\": [16.0, 15.0, 12.0, 9.0, 8.0, 8.0, 5.0, 5.0, 5.0, 4.0, 4.0, 4.0, 4.0, 4.0, 4.0, 4.0, 4.0, 3.0, 3.0, 3.0, 3.0, 3.0, 3.0, 3.0, 3.0, 3.0, 3.0, 3.0, 3.0, 3.0, 3.0, 3.0, 3.0, 3.0, 3.0, 3.0, 3.0, 3.0, 3.0, 3.0, 2.0, 2.0, 2.0, 2.0, 2.0, 2.0, 2.0, 2.0, 2.0, 2.0, 2.0, 2.0, 2.0, 2.0, 2.0, 2.0, 2.0, 2.0, 2.0, 2.0, 2.0, 2.0, 2.0, 2.0, 2.0, 2.0, 2.0, 2.0, 2.0, 2.0, 2.0, 2.0, 2.0, 2.0, 2.0, 2.0, 2.0, 2.0, 2.0, 2.0, 2.0, 2.0, 2.0, 2.0, 2.0, 1.0, 1.0, 1.0, 1.0, 1.0, 1.0, 1.0, 1.0, 1.0, 1.0, 1.0, 1.0, 1.0, 1.0, 1.0, 1.0, 1.0, 1.0, 1.0, 1.0, 1.0, 1.0, 1.0, 1.0, 1.0, 1.0, 1.0, 1.0, 1.0, 1.0, 1.0, 1.0, 1.0, 1.0, 1.0, 1.0, 1.0, 1.0, 1.0, 1.0, 1.0, 1.0, 1.0, 1.0, 1.0, 1.0, 1.0, 1.0, 1.0, 1.0, 1.0, 1.0, 1.0, 1.0, 1.0, 1.0, 1.0, 1.0, 1.0, 1.0, 1.0, 1.0, 1.0, 1.0, 1.0, 1.0, 1.0, 1.0], \"x\": [13.0, 26.0, 7.75, 10.5, 7.925, 26.55, 8.05, 30.0, 56.4958, 7.2292, 7.8792, 12.475, 19.2583, 23.0, 26.25, 30.5, 120.0, 7.225, 7.775, 7.8542, 11.1333, 15.2458, 15.5, 18.75, 26.2875, 31.3875, 35.5, 39.0, 52.0, 52.5542, 53.1, 76.7292, 77.9583, 83.1583, 86.5, 90.0, 110.8833, 211.3375, 227.525, 512.3292, 7.7333, 7.7958, 9.5, 11.2417, 12.35, 14.5, 15.7417, 15.85, 15.9, 16.1, 16.7, 19.5, 20.525, 21.0, 22.3583, 23.25, 25.9292, 27.75, 29.0, 31.0, 33.0, 41.5792, 55.0, 56.9292, 57.0, 57.9792, 65.0, 69.3, 78.2667, 79.2, 79.65, 80.0, 89.1042, 91.0792, 93.5, 113.275, 133.65, 134.5, 135.6333, 146.5208, 151.55, 153.4625, 164.8667, 262.375, 263.0, 0.0, 6.975, 7.1417, 7.25, 7.4958, 7.55, 7.65, 7.7375, 7.7875, 7.8292, 7.8958, 8.0292, 8.1125, 8.5167, 8.6625, 8.6833, 9.35, 9.5875, 9.8417, 12.0, 12.2875, 12.65, 13.4167, 13.5, 13.7917, 13.8583, 13.8625, 14.4542, 15.75, 16.0, 17.4, 18.7875, 20.25, 20.575, 22.025, 24.0, 24.15, 26.2833, 26.3875, 27.0, 27.7208, 29.7, 30.0708, 32.5, 36.75, 37.0042, 39.4, 39.6, 49.5, 49.5042, 51.4792, 51.8625, 55.4417, 55.9, 59.4, 63.3583, 66.6, 71.0, 71.2833, 75.25, 76.2917, 78.85, 81.8583, 82.1708, 83.475, 106.425, 108.9, 247.5208], \"y\": [16, 15, 12, 9, 8, 8, 5, 5, 5, 4, 4, 4, 4, 4, 4, 4, 4, 3, 3, 3, 3, 3, 3, 3, 3, 3, 3, 3, 3, 3, 3, 3, 3, 3, 3, 3, 3, 3, 3, 3, 2, 2, 2, 2, 2, 2, 2, 2, 2, 2, 2, 2, 2, 2, 2, 2, 2, 2, 2, 2, 2, 2, 2, 2, 2, 2, 2, 2, 2, 2, 2, 2, 2, 2, 2, 2, 2, 2, 2, 2, 2, 2, 2, 2, 2, 1, 1, 1, 1, 1, 1, 1, 1, 1, 1, 1, 1, 1, 1, 1, 1, 1, 1, 1, 1, 1, 1, 1, 1, 1, 1, 1, 1, 1, 1, 1, 1, 1, 1, 1, 1, 1, 1, 1, 1, 1, 1, 1, 1, 1, 1, 1, 1, 1, 1, 1, 1, 1, 1, 1, 1, 1, 1, 1, 1, 1, 1, 1, 1, 1, 1, 1, 1], \"type\": \"histogram\", \"uid\": \"4f99107c-89fa-48d5-9e32-ca6df47ecba2\"}, {\"marker\": {\"color\": \"Red\"}, \"name\": \"Not survived\", \"text\": [16.0, 15.0, 12.0, 9.0, 8.0, 8.0, 5.0, 5.0, 5.0, 4.0, 4.0, 4.0, 4.0, 4.0, 4.0, 4.0, 4.0, 3.0, 3.0, 3.0, 3.0, 3.0, 3.0, 3.0, 3.0, 3.0, 3.0, 3.0, 3.0, 3.0, 3.0, 3.0, 3.0, 3.0, 3.0, 3.0, 3.0, 3.0, 3.0, 3.0, 2.0, 2.0, 2.0, 2.0, 2.0, 2.0, 2.0, 2.0, 2.0, 2.0, 2.0, 2.0, 2.0, 2.0, 2.0, 2.0, 2.0, 2.0, 2.0, 2.0, 2.0, 2.0, 2.0, 2.0, 2.0, 2.0, 2.0, 2.0, 2.0, 2.0, 2.0, 2.0, 2.0, 2.0, 2.0, 2.0, 2.0, 2.0, 2.0, 2.0, 2.0, 2.0, 2.0, 2.0, 2.0, 1.0, 1.0, 1.0, 1.0, 1.0, 1.0, 1.0, 1.0, 1.0, 1.0, 1.0, 1.0, 1.0, 1.0, 1.0, 1.0, 1.0, 1.0, 1.0, 1.0, 1.0, 1.0, 1.0, 1.0, 1.0, 1.0, 1.0, 1.0, 1.0, 1.0, 1.0, 1.0, 1.0, 1.0, 1.0, 1.0, 1.0, 1.0, 1.0, 1.0, 1.0, 1.0, 1.0, 1.0, 1.0, 1.0, 1.0, 1.0, 1.0, 1.0, 1.0, 1.0, 1.0, 1.0, 1.0, 1.0, 1.0, 1.0, 1.0, 1.0, 1.0, 1.0, 1.0, 1.0, 1.0, 1.0, 1.0, 1.0], \"x\": [8.05, 7.8958, 13.0, 7.75, 26.0, 10.5, 0.0, 7.775, 7.25, 8.6625, 7.2292, 7.8542, 7.925, 7.225, 7.05, 9.5, 16.1, 24.15, 26.55, 31.275, 69.55, 14.4542, 27.9, 39.6875, 46.9, 14.5, 15.5, 29.125, 73.5, 7.125, 7.7958, 11.5, 21.0, 21.075, 25.4667, 27.7208, 34.375, 52.0, 7.55, 7.65, 13.5, 14.4583, 18.0, 6.4958, 6.75, 7.0542, 7.4958, 7.7333, 9.0, 9.225, 9.825, 10.4625, 14.4, 15.2458, 15.85, 17.8, 19.9667, 20.2125, 23.45, 26.25, 27.75, 29.7, 30.6958, 53.1, 56.4958, 77.2875, 79.2, 151.55, 263.0, 4.0125, 5.0, 6.2375, 6.4375, 6.45, 6.8583, 6.95, 6.975, 7.0458, 7.3125, 7.5208, 7.6292, 7.725, 7.7292, 7.7375, 7.7417, 7.8, 7.8292, 7.875, 7.8875, 8.1375, 8.1583, 8.3, 8.3625, 8.4042, 8.4333, 8.4583, 8.6542, 8.7125, 8.85, 9.2167, 9.35, 9.475, 9.4833, 9.5875, 9.8375, 9.8458, 10.1708, 10.5167, 12.275, 12.35, 12.525, 12.875, 14.0, 14.1083, 15.0, 15.0458, 15.05, 15.1, 15.55, 18.7875, 20.25, 20.525, 20.575, 21.6792, 22.525, 24.0, 25.5875, 25.925, 27.0, 28.5, 28.7125, 30.0, 30.0708, 30.5, 31.0, 31.3875, 32.3208, 33.0, 33.5, 34.0208, 34.6542, 35.0, 35.5, 36.75, 37.0042, 38.5, 39.0, 39.6, 40.125, 41.5792, 42.4, 47.1, 49.5042, 50.0, 50.4958, 51.8625, 55.9, 61.175, 61.3792, 61.9792, 66.6, 71.0, 78.85, 79.65, 82.1708, 83.475, 90.0, 106.425, 108.9, 110.8833, 113.275, 135.6333, 153.4625, 211.5, 221.7792, 227.525, 247.5208], \"y\": [38, 37, 26, 22, 16, 15, 14, 13, 12, 12, 11, 10, 10, 9, 7, 7, 7, 7, 7, 7, 7, 6, 6, 6, 6, 5, 5, 5, 5, 4, 4, 4, 4, 4, 4, 4, 4, 4, 3, 3, 3, 3, 3, 2, 2, 2, 2, 2, 2, 2, 2, 2, 2, 2, 2, 2, 2, 2, 2, 2, 2, 2, 2, 2, 2, 2, 2, 2, 2, 1, 1, 1, 1, 1, 1, 1, 1, 1, 1, 1, 1, 1, 1, 1, 1, 1, 1, 1, 1, 1, 1, 1, 1, 1, 1, 1, 1, 1, 1, 1, 1, 1, 1, 1, 1, 1, 1, 1, 1, 1, 1, 1, 1, 1, 1, 1, 1, 1, 1, 1, 1, 1, 1, 1, 1, 1, 1, 1, 1, 1, 1, 1, 1, 1, 1, 1, 1, 1, 1, 1, 1, 1, 1, 1, 1, 1, 1, 1, 1, 1, 1, 1, 1, 1, 1, 1, 1, 1, 1, 1, 1, 1, 1, 1, 1, 1, 1, 1, 1, 1, 1, 1, 1, 1, 1, 1, 1], \"type\": \"histogram\", \"uid\": \"ec8c7cc3-3566-46fb-b432-631829710390\"}], {\"hovermode\": \"closest\", \"title\": {\"text\": \"Number of survived and not survived passengers by Fare\"}, \"xaxis\": {\"showticklabels\": true, \"title\": {\"text\": \"Fare\"}}, \"yaxis\": {\"title\": {\"text\": \"Number of passengers\"}}}, {\"showLink\": false, \"linkText\": \"Export to plot.ly\", \"plotlyServerURL\": \"https://plot.ly\"})});</script><script type=\"text/javascript\">window.addEventListener(\"resize\", function(){window._Plotly.Plots.resize(document.getElementById(\"04f11f66-f657-4a64-8f00-4d83bb1865a5\"));});</script>"
      ]
     },
     "metadata": {},
     "output_type": "display_data"
    }
   ],
   "source": [
    "plot_survived_histogram(get_survived_categories(train_df,'Fare'), 'Fare')"
   ]
  },
  {
   "cell_type": "markdown",
   "metadata": {
    "_uuid": "d9cfb82fe1aec0bfd7059fc9acee802e1ad3c8d7"
   },
   "source": [
    "Survival rate increases considerably with the fare value. This confirm the image that richer people survived better. We will validate this observation as well with the class information."
   ]
  },
  {
   "cell_type": "code",
   "execution_count": 27,
   "metadata": {
    "_kg_hide-input": true,
    "_uuid": "6b10b93cd27aaab89a46f3081ccea65755f627f2"
   },
   "outputs": [
    {
     "name": "stdout",
     "output_type": "stream",
     "text": [
      "This is the format of your plot grid:\n",
      "[ (1,1) x1,y1 ]  [ (1,2) x2,y2 ]\n",
      "\n"
     ]
    },
    {
     "data": {
      "application/vnd.plotly.v1+json": {
       "config": {
        "linkText": "Export to plot.ly",
        "plotlyServerURL": "https://plot.ly",
        "showLink": false
       },
       "data": [
        {
         "marker": {
          "color": "Blue"
         },
         "text": [
          "S",
          "C",
          "Q"
         ],
         "type": "bar",
         "uid": "99729d3d-ef87-4978-a358-72c6f3d3a3a9",
         "x": [
          "S",
          "C",
          "Q"
         ],
         "xaxis": "x",
         "y": [
          644,
          168,
          77
         ],
         "yaxis": "y"
        },
        {
         "marker": {
          "color": "Lightblue"
         },
         "text": [
          "S",
          "C",
          "Q"
         ],
         "type": "bar",
         "uid": "37f0d300-2b34-4b37-b722-c4ce1c4a6f2d",
         "x": [
          "S",
          "C",
          "Q"
         ],
         "xaxis": "x2",
         "y": [
          270,
          102,
          46
         ],
         "yaxis": "y2"
        }
       ],
       "layout": {
        "annotations": [
         {
          "font": {
           "size": 16
          },
          "showarrow": false,
          "text": "Train data",
          "x": 0.225,
          "xanchor": "center",
          "xref": "paper",
          "y": 1.0,
          "yanchor": "bottom",
          "yref": "paper"
         },
         {
          "font": {
           "size": 16
          },
          "showarrow": false,
          "text": "Test data",
          "x": 0.775,
          "xanchor": "center",
          "xref": "paper",
          "y": 1.0,
          "yanchor": "bottom",
          "yref": "paper"
         }
        ],
        "showlegend": false,
        "xaxis": {
         "anchor": "y",
         "domain": [
          0.0,
          0.45
         ],
         "title": {
          "text": "Embarked"
         }
        },
        "xaxis2": {
         "anchor": "y2",
         "domain": [
          0.55,
          1.0
         ],
         "title": {
          "text": "Embarked"
         }
        },
        "yaxis": {
         "anchor": "x",
         "domain": [
          0.0,
          1.0
         ],
         "title": {
          "text": "Number of passengers"
         }
        },
        "yaxis2": {
         "anchor": "x2",
         "domain": [
          0.0,
          1.0
         ],
         "title": {
          "text": "Number of passengers"
         }
        }
       }
      },
      "text/html": [
       "<div id=\"ea816436-4edf-424e-8113-3f33bfec934d\" style=\"height: 525px; width: 100%;\" class=\"plotly-graph-div\"></div><script type=\"text/javascript\">require([\"plotly\"], function(Plotly) { window.PLOTLYENV=window.PLOTLYENV || {};window.PLOTLYENV.BASE_URL=\"https://plot.ly\";Plotly.newPlot(\"ea816436-4edf-424e-8113-3f33bfec934d\", [{\"marker\": {\"color\": \"Blue\"}, \"text\": [\"S\", \"C\", \"Q\"], \"x\": [\"S\", \"C\", \"Q\"], \"y\": [644, 168, 77], \"type\": \"bar\", \"uid\": \"99729d3d-ef87-4978-a358-72c6f3d3a3a9\", \"xaxis\": \"x\", \"yaxis\": \"y\"}, {\"marker\": {\"color\": \"Lightblue\"}, \"text\": [\"S\", \"C\", \"Q\"], \"x\": [\"S\", \"C\", \"Q\"], \"y\": [270, 102, 46], \"type\": \"bar\", \"uid\": \"37f0d300-2b34-4b37-b722-c4ce1c4a6f2d\", \"xaxis\": \"x2\", \"yaxis\": \"y2\"}], {\"annotations\": [{\"font\": {\"size\": 16}, \"showarrow\": false, \"text\": \"Train data\", \"x\": 0.225, \"xanchor\": \"center\", \"xref\": \"paper\", \"y\": 1.0, \"yanchor\": \"bottom\", \"yref\": \"paper\"}, {\"font\": {\"size\": 16}, \"showarrow\": false, \"text\": \"Test data\", \"x\": 0.775, \"xanchor\": \"center\", \"xref\": \"paper\", \"y\": 1.0, \"yanchor\": \"bottom\", \"yref\": \"paper\"}], \"xaxis\": {\"anchor\": \"y\", \"domain\": [0.0, 0.45], \"title\": {\"text\": \"Embarked\"}}, \"yaxis\": {\"anchor\": \"x\", \"domain\": [0.0, 1.0], \"title\": {\"text\": \"Number of passengers\"}}, \"xaxis2\": {\"anchor\": \"y2\", \"domain\": [0.55, 1.0], \"title\": {\"text\": \"Embarked\"}}, \"yaxis2\": {\"anchor\": \"x2\", \"domain\": [0.0, 1.0], \"title\": {\"text\": \"Number of passengers\"}}, \"showlegend\": false}, {\"showLink\": false, \"linkText\": \"Export to plot.ly\", \"plotlyServerURL\": \"https://plot.ly\"})});</script><script type=\"text/javascript\">window.addEventListener(\"resize\", function(){window._Plotly.Plots.resize(document.getElementById(\"ea816436-4edf-424e-8113-3f33bfec934d\"));});</script>"
      ],
      "text/vnd.plotly.v1+html": [
       "<div id=\"ea816436-4edf-424e-8113-3f33bfec934d\" style=\"height: 525px; width: 100%;\" class=\"plotly-graph-div\"></div><script type=\"text/javascript\">require([\"plotly\"], function(Plotly) { window.PLOTLYENV=window.PLOTLYENV || {};window.PLOTLYENV.BASE_URL=\"https://plot.ly\";Plotly.newPlot(\"ea816436-4edf-424e-8113-3f33bfec934d\", [{\"marker\": {\"color\": \"Blue\"}, \"text\": [\"S\", \"C\", \"Q\"], \"x\": [\"S\", \"C\", \"Q\"], \"y\": [644, 168, 77], \"type\": \"bar\", \"uid\": \"99729d3d-ef87-4978-a358-72c6f3d3a3a9\", \"xaxis\": \"x\", \"yaxis\": \"y\"}, {\"marker\": {\"color\": \"Lightblue\"}, \"text\": [\"S\", \"C\", \"Q\"], \"x\": [\"S\", \"C\", \"Q\"], \"y\": [270, 102, 46], \"type\": \"bar\", \"uid\": \"37f0d300-2b34-4b37-b722-c4ce1c4a6f2d\", \"xaxis\": \"x2\", \"yaxis\": \"y2\"}], {\"annotations\": [{\"font\": {\"size\": 16}, \"showarrow\": false, \"text\": \"Train data\", \"x\": 0.225, \"xanchor\": \"center\", \"xref\": \"paper\", \"y\": 1.0, \"yanchor\": \"bottom\", \"yref\": \"paper\"}, {\"font\": {\"size\": 16}, \"showarrow\": false, \"text\": \"Test data\", \"x\": 0.775, \"xanchor\": \"center\", \"xref\": \"paper\", \"y\": 1.0, \"yanchor\": \"bottom\", \"yref\": \"paper\"}], \"xaxis\": {\"anchor\": \"y\", \"domain\": [0.0, 0.45], \"title\": {\"text\": \"Embarked\"}}, \"yaxis\": {\"anchor\": \"x\", \"domain\": [0.0, 1.0], \"title\": {\"text\": \"Number of passengers\"}}, \"xaxis2\": {\"anchor\": \"y2\", \"domain\": [0.55, 1.0], \"title\": {\"text\": \"Embarked\"}}, \"yaxis2\": {\"anchor\": \"x2\", \"domain\": [0.0, 1.0], \"title\": {\"text\": \"Number of passengers\"}}, \"showlegend\": false}, {\"showLink\": false, \"linkText\": \"Export to plot.ly\", \"plotlyServerURL\": \"https://plot.ly\"})});</script><script type=\"text/javascript\">window.addEventListener(\"resize\", function(){window._Plotly.Plots.resize(document.getElementById(\"ea816436-4edf-424e-8113-3f33bfec934d\"));});</script>"
      ]
     },
     "metadata": {},
     "output_type": "display_data"
    }
   ],
   "source": [
    "plot_two_bar(get_categories(train_df,'Embarked'), get_categories(test_df,'Embarked'), \n",
    "             'Train data', 'Test data',\n",
    "             'Embarked', 'Number of passengers')"
   ]
  },
  {
   "cell_type": "code",
   "execution_count": 28,
   "metadata": {
    "_kg_hide-input": true,
    "_uuid": "284086d43e459d034f0253db40011cc0fa9e0ae2"
   },
   "outputs": [
    {
     "data": {
      "application/vnd.plotly.v1+json": {
       "config": {
        "linkText": "Export to plot.ly",
        "plotlyServerURL": "https://plot.ly",
        "showLink": false
       },
       "data": [
        {
         "marker": {
          "color": "Blue"
         },
         "name": "Survived",
         "text": [
          217.0,
          93.0,
          30.0
         ],
         "type": "bar",
         "uid": "ad880841-29cf-4c8a-a53f-1f6586c5079b",
         "x": [
          "S",
          "C",
          "Q"
         ],
         "y": [
          217,
          93,
          30
         ]
        },
        {
         "marker": {
          "color": "Red"
         },
         "name": "Not survived",
         "text": [
          217.0,
          93.0,
          30.0
         ],
         "type": "bar",
         "uid": "4e8bce1e-954f-4127-9ce2-176ea1b3a9bf",
         "x": [
          "S",
          "C",
          "Q"
         ],
         "y": [
          427,
          75,
          47
         ]
        }
       ],
       "layout": {
        "hovermode": "closest",
        "title": {
         "text": "Number of survived and not survived passengers by Embarked"
        },
        "xaxis": {
         "showticklabels": true,
         "title": {
          "text": "Embarked"
         }
        },
        "yaxis": {
         "title": {
          "text": "Number of passengers"
         }
        }
       }
      },
      "text/html": [
       "<div id=\"144f0dcb-639d-442d-ba30-4d0d92aee0a8\" style=\"height: 525px; width: 100%;\" class=\"plotly-graph-div\"></div><script type=\"text/javascript\">require([\"plotly\"], function(Plotly) { window.PLOTLYENV=window.PLOTLYENV || {};window.PLOTLYENV.BASE_URL=\"https://plot.ly\";Plotly.newPlot(\"144f0dcb-639d-442d-ba30-4d0d92aee0a8\", [{\"marker\": {\"color\": \"Blue\"}, \"name\": \"Survived\", \"text\": [217.0, 93.0, 30.0], \"x\": [\"S\", \"C\", \"Q\"], \"y\": [217, 93, 30], \"type\": \"bar\", \"uid\": \"1ca013ed-daa2-42da-9177-f67d664c73d4\"}, {\"marker\": {\"color\": \"Red\"}, \"name\": \"Not survived\", \"text\": [217.0, 93.0, 30.0], \"x\": [\"S\", \"C\", \"Q\"], \"y\": [427, 75, 47], \"type\": \"bar\", \"uid\": \"a593db7a-65ee-4bc1-b8b9-5bd04d681729\"}], {\"hovermode\": \"closest\", \"title\": {\"text\": \"Number of survived and not survived passengers by Embarked\"}, \"xaxis\": {\"showticklabels\": true, \"title\": {\"text\": \"Embarked\"}}, \"yaxis\": {\"title\": {\"text\": \"Number of passengers\"}}}, {\"showLink\": false, \"linkText\": \"Export to plot.ly\", \"plotlyServerURL\": \"https://plot.ly\"})});</script><script type=\"text/javascript\">window.addEventListener(\"resize\", function(){window._Plotly.Plots.resize(document.getElementById(\"144f0dcb-639d-442d-ba30-4d0d92aee0a8\"));});</script>"
      ],
      "text/vnd.plotly.v1+html": [
       "<div id=\"144f0dcb-639d-442d-ba30-4d0d92aee0a8\" style=\"height: 525px; width: 100%;\" class=\"plotly-graph-div\"></div><script type=\"text/javascript\">require([\"plotly\"], function(Plotly) { window.PLOTLYENV=window.PLOTLYENV || {};window.PLOTLYENV.BASE_URL=\"https://plot.ly\";Plotly.newPlot(\"144f0dcb-639d-442d-ba30-4d0d92aee0a8\", [{\"marker\": {\"color\": \"Blue\"}, \"name\": \"Survived\", \"text\": [217.0, 93.0, 30.0], \"x\": [\"S\", \"C\", \"Q\"], \"y\": [217, 93, 30], \"type\": \"bar\", \"uid\": \"1ca013ed-daa2-42da-9177-f67d664c73d4\"}, {\"marker\": {\"color\": \"Red\"}, \"name\": \"Not survived\", \"text\": [217.0, 93.0, 30.0], \"x\": [\"S\", \"C\", \"Q\"], \"y\": [427, 75, 47], \"type\": \"bar\", \"uid\": \"a593db7a-65ee-4bc1-b8b9-5bd04d681729\"}], {\"hovermode\": \"closest\", \"title\": {\"text\": \"Number of survived and not survived passengers by Embarked\"}, \"xaxis\": {\"showticklabels\": true, \"title\": {\"text\": \"Embarked\"}}, \"yaxis\": {\"title\": {\"text\": \"Number of passengers\"}}}, {\"showLink\": false, \"linkText\": \"Export to plot.ly\", \"plotlyServerURL\": \"https://plot.ly\"})});</script><script type=\"text/javascript\">window.addEventListener(\"resize\", function(){window._Plotly.Plots.resize(document.getElementById(\"144f0dcb-639d-442d-ba30-4d0d92aee0a8\"));});</script>"
      ]
     },
     "metadata": {},
     "output_type": "display_data"
    }
   ],
   "source": [
    "plot_survived_bar(get_survived_categories(train_df,'Embarked'), 'Embarked')"
   ]
  },
  {
   "cell_type": "markdown",
   "metadata": {
    "_uuid": "6bf8466810ebf60c7a94a8da50038dc2e69061bb"
   },
   "source": [
    "The best survival rate is for passengers embarked in Cherbourg (more than 50%), the worst for passengers embarked in Southampton."
   ]
  },
  {
   "cell_type": "code",
   "execution_count": 29,
   "metadata": {
    "_kg_hide-input": true,
    "_uuid": "b4dc07259f02a6a54c7e7c78761acb508f5ce20d"
   },
   "outputs": [
    {
     "name": "stdout",
     "output_type": "stream",
     "text": [
      "This is the format of your plot grid:\n",
      "[ (1,1) x1,y1 ]  [ (1,2) x2,y2 ]\n",
      "\n"
     ]
    },
    {
     "data": {
      "application/vnd.plotly.v1+json": {
       "config": {
        "linkText": "Export to plot.ly",
        "plotlyServerURL": "https://plot.ly",
        "showLink": false
       },
       "data": [
        {
         "marker": {
          "color": "Blue"
         },
         "text": [
          3.0,
          1.0,
          2.0
         ],
         "type": "bar",
         "uid": "8b6337fc-6af9-4981-82c0-65c139264d3f",
         "x": [
          3,
          1,
          2
         ],
         "xaxis": "x",
         "y": [
          491,
          216,
          184
         ],
         "yaxis": "y"
        },
        {
         "marker": {
          "color": "Lightblue"
         },
         "text": [
          3.0,
          1.0,
          2.0
         ],
         "type": "bar",
         "uid": "ada4b437-02a0-447e-8be1-72f011a7ca94",
         "x": [
          3,
          1,
          2
         ],
         "xaxis": "x2",
         "y": [
          218,
          107,
          93
         ],
         "yaxis": "y2"
        }
       ],
       "layout": {
        "annotations": [
         {
          "font": {
           "size": 16
          },
          "showarrow": false,
          "text": "Train data",
          "x": 0.225,
          "xanchor": "center",
          "xref": "paper",
          "y": 1.0,
          "yanchor": "bottom",
          "yref": "paper"
         },
         {
          "font": {
           "size": 16
          },
          "showarrow": false,
          "text": "Test data",
          "x": 0.775,
          "xanchor": "center",
          "xref": "paper",
          "y": 1.0,
          "yanchor": "bottom",
          "yref": "paper"
         }
        ],
        "showlegend": false,
        "xaxis": {
         "anchor": "y",
         "domain": [
          0.0,
          0.45
         ],
         "title": {
          "text": "Pclass"
         }
        },
        "xaxis2": {
         "anchor": "y2",
         "domain": [
          0.55,
          1.0
         ],
         "title": {
          "text": "Pclass"
         }
        },
        "yaxis": {
         "anchor": "x",
         "domain": [
          0.0,
          1.0
         ],
         "title": {
          "text": "Number of passengers"
         }
        },
        "yaxis2": {
         "anchor": "x2",
         "domain": [
          0.0,
          1.0
         ],
         "title": {
          "text": "Number of passengers"
         }
        }
       }
      },
      "text/html": [
       "<div id=\"d8e86c1f-235c-41f8-81fc-e4d24ad1c3fc\" style=\"height: 525px; width: 100%;\" class=\"plotly-graph-div\"></div><script type=\"text/javascript\">require([\"plotly\"], function(Plotly) { window.PLOTLYENV=window.PLOTLYENV || {};window.PLOTLYENV.BASE_URL=\"https://plot.ly\";Plotly.newPlot(\"d8e86c1f-235c-41f8-81fc-e4d24ad1c3fc\", [{\"marker\": {\"color\": \"Blue\"}, \"text\": [3.0, 1.0, 2.0], \"x\": [3, 1, 2], \"y\": [491, 216, 184], \"type\": \"bar\", \"uid\": \"8b6337fc-6af9-4981-82c0-65c139264d3f\", \"xaxis\": \"x\", \"yaxis\": \"y\"}, {\"marker\": {\"color\": \"Lightblue\"}, \"text\": [3.0, 1.0, 2.0], \"x\": [3, 1, 2], \"y\": [218, 107, 93], \"type\": \"bar\", \"uid\": \"ada4b437-02a0-447e-8be1-72f011a7ca94\", \"xaxis\": \"x2\", \"yaxis\": \"y2\"}], {\"annotations\": [{\"font\": {\"size\": 16}, \"showarrow\": false, \"text\": \"Train data\", \"x\": 0.225, \"xanchor\": \"center\", \"xref\": \"paper\", \"y\": 1.0, \"yanchor\": \"bottom\", \"yref\": \"paper\"}, {\"font\": {\"size\": 16}, \"showarrow\": false, \"text\": \"Test data\", \"x\": 0.775, \"xanchor\": \"center\", \"xref\": \"paper\", \"y\": 1.0, \"yanchor\": \"bottom\", \"yref\": \"paper\"}], \"xaxis\": {\"anchor\": \"y\", \"domain\": [0.0, 0.45], \"title\": {\"text\": \"Pclass\"}}, \"yaxis\": {\"anchor\": \"x\", \"domain\": [0.0, 1.0], \"title\": {\"text\": \"Number of passengers\"}}, \"xaxis2\": {\"anchor\": \"y2\", \"domain\": [0.55, 1.0], \"title\": {\"text\": \"Pclass\"}}, \"yaxis2\": {\"anchor\": \"x2\", \"domain\": [0.0, 1.0], \"title\": {\"text\": \"Number of passengers\"}}, \"showlegend\": false}, {\"showLink\": false, \"linkText\": \"Export to plot.ly\", \"plotlyServerURL\": \"https://plot.ly\"})});</script><script type=\"text/javascript\">window.addEventListener(\"resize\", function(){window._Plotly.Plots.resize(document.getElementById(\"d8e86c1f-235c-41f8-81fc-e4d24ad1c3fc\"));});</script>"
      ],
      "text/vnd.plotly.v1+html": [
       "<div id=\"d8e86c1f-235c-41f8-81fc-e4d24ad1c3fc\" style=\"height: 525px; width: 100%;\" class=\"plotly-graph-div\"></div><script type=\"text/javascript\">require([\"plotly\"], function(Plotly) { window.PLOTLYENV=window.PLOTLYENV || {};window.PLOTLYENV.BASE_URL=\"https://plot.ly\";Plotly.newPlot(\"d8e86c1f-235c-41f8-81fc-e4d24ad1c3fc\", [{\"marker\": {\"color\": \"Blue\"}, \"text\": [3.0, 1.0, 2.0], \"x\": [3, 1, 2], \"y\": [491, 216, 184], \"type\": \"bar\", \"uid\": \"8b6337fc-6af9-4981-82c0-65c139264d3f\", \"xaxis\": \"x\", \"yaxis\": \"y\"}, {\"marker\": {\"color\": \"Lightblue\"}, \"text\": [3.0, 1.0, 2.0], \"x\": [3, 1, 2], \"y\": [218, 107, 93], \"type\": \"bar\", \"uid\": \"ada4b437-02a0-447e-8be1-72f011a7ca94\", \"xaxis\": \"x2\", \"yaxis\": \"y2\"}], {\"annotations\": [{\"font\": {\"size\": 16}, \"showarrow\": false, \"text\": \"Train data\", \"x\": 0.225, \"xanchor\": \"center\", \"xref\": \"paper\", \"y\": 1.0, \"yanchor\": \"bottom\", \"yref\": \"paper\"}, {\"font\": {\"size\": 16}, \"showarrow\": false, \"text\": \"Test data\", \"x\": 0.775, \"xanchor\": \"center\", \"xref\": \"paper\", \"y\": 1.0, \"yanchor\": \"bottom\", \"yref\": \"paper\"}], \"xaxis\": {\"anchor\": \"y\", \"domain\": [0.0, 0.45], \"title\": {\"text\": \"Pclass\"}}, \"yaxis\": {\"anchor\": \"x\", \"domain\": [0.0, 1.0], \"title\": {\"text\": \"Number of passengers\"}}, \"xaxis2\": {\"anchor\": \"y2\", \"domain\": [0.55, 1.0], \"title\": {\"text\": \"Pclass\"}}, \"yaxis2\": {\"anchor\": \"x2\", \"domain\": [0.0, 1.0], \"title\": {\"text\": \"Number of passengers\"}}, \"showlegend\": false}, {\"showLink\": false, \"linkText\": \"Export to plot.ly\", \"plotlyServerURL\": \"https://plot.ly\"})});</script><script type=\"text/javascript\">window.addEventListener(\"resize\", function(){window._Plotly.Plots.resize(document.getElementById(\"d8e86c1f-235c-41f8-81fc-e4d24ad1c3fc\"));});</script>"
      ]
     },
     "metadata": {},
     "output_type": "display_data"
    }
   ],
   "source": [
    "plot_two_bar(get_categories(train_df,'Pclass'), get_categories(test_df,'Pclass'), \n",
    "             'Train data', 'Test data',\n",
    "             'Pclass', 'Number of passengers')"
   ]
  },
  {
   "cell_type": "code",
   "execution_count": 30,
   "metadata": {
    "_kg_hide-input": true,
    "_uuid": "abfe69f93b3bd771fb0f52b42cc3089f450a2537"
   },
   "outputs": [
    {
     "data": {
      "application/vnd.plotly.v1+json": {
       "config": {
        "linkText": "Export to plot.ly",
        "plotlyServerURL": "https://plot.ly",
        "showLink": false
       },
       "data": [
        {
         "marker": {
          "color": "Blue"
         },
         "name": "Survived",
         "text": [
          136.0,
          119.0,
          87.0
         ],
         "type": "bar",
         "uid": "47a5089d-e0f5-4a7e-8ba2-0a1f103bb3e4",
         "x": [
          1,
          3,
          2
         ],
         "y": [
          136,
          119,
          87
         ]
        },
        {
         "marker": {
          "color": "Red"
         },
         "name": "Not survived",
         "text": [
          136.0,
          119.0,
          87.0
         ],
         "type": "bar",
         "uid": "8ad5107f-e20d-4c94-9979-720aaf21ce89",
         "x": [
          3,
          2,
          1
         ],
         "y": [
          372,
          97,
          80
         ]
        }
       ],
       "layout": {
        "hovermode": "closest",
        "title": {
         "text": "Number of survived and not survived passengers by Pclass"
        },
        "xaxis": {
         "showticklabels": true,
         "title": {
          "text": "Pclass"
         }
        },
        "yaxis": {
         "title": {
          "text": "Number of passengers"
         }
        }
       }
      },
      "text/html": [
       "<div id=\"8115d2dd-e713-4cc2-8f95-6b502193d80e\" style=\"height: 525px; width: 100%;\" class=\"plotly-graph-div\"></div><script type=\"text/javascript\">require([\"plotly\"], function(Plotly) { window.PLOTLYENV=window.PLOTLYENV || {};window.PLOTLYENV.BASE_URL=\"https://plot.ly\";Plotly.newPlot(\"8115d2dd-e713-4cc2-8f95-6b502193d80e\", [{\"marker\": {\"color\": \"Blue\"}, \"name\": \"Survived\", \"text\": [136.0, 119.0, 87.0], \"x\": [1, 3, 2], \"y\": [136, 119, 87], \"type\": \"bar\", \"uid\": \"7857639b-9da7-46be-8b16-a732d31ab193\"}, {\"marker\": {\"color\": \"Red\"}, \"name\": \"Not survived\", \"text\": [136.0, 119.0, 87.0], \"x\": [3, 2, 1], \"y\": [372, 97, 80], \"type\": \"bar\", \"uid\": \"9b5c1b1e-f251-43aa-90b9-cf98d7e1ede1\"}], {\"hovermode\": \"closest\", \"title\": {\"text\": \"Number of survived and not survived passengers by Pclass\"}, \"xaxis\": {\"showticklabels\": true, \"title\": {\"text\": \"Pclass\"}}, \"yaxis\": {\"title\": {\"text\": \"Number of passengers\"}}}, {\"showLink\": false, \"linkText\": \"Export to plot.ly\", \"plotlyServerURL\": \"https://plot.ly\"})});</script><script type=\"text/javascript\">window.addEventListener(\"resize\", function(){window._Plotly.Plots.resize(document.getElementById(\"8115d2dd-e713-4cc2-8f95-6b502193d80e\"));});</script>"
      ],
      "text/vnd.plotly.v1+html": [
       "<div id=\"8115d2dd-e713-4cc2-8f95-6b502193d80e\" style=\"height: 525px; width: 100%;\" class=\"plotly-graph-div\"></div><script type=\"text/javascript\">require([\"plotly\"], function(Plotly) { window.PLOTLYENV=window.PLOTLYENV || {};window.PLOTLYENV.BASE_URL=\"https://plot.ly\";Plotly.newPlot(\"8115d2dd-e713-4cc2-8f95-6b502193d80e\", [{\"marker\": {\"color\": \"Blue\"}, \"name\": \"Survived\", \"text\": [136.0, 119.0, 87.0], \"x\": [1, 3, 2], \"y\": [136, 119, 87], \"type\": \"bar\", \"uid\": \"7857639b-9da7-46be-8b16-a732d31ab193\"}, {\"marker\": {\"color\": \"Red\"}, \"name\": \"Not survived\", \"text\": [136.0, 119.0, 87.0], \"x\": [3, 2, 1], \"y\": [372, 97, 80], \"type\": \"bar\", \"uid\": \"9b5c1b1e-f251-43aa-90b9-cf98d7e1ede1\"}], {\"hovermode\": \"closest\", \"title\": {\"text\": \"Number of survived and not survived passengers by Pclass\"}, \"xaxis\": {\"showticklabels\": true, \"title\": {\"text\": \"Pclass\"}}, \"yaxis\": {\"title\": {\"text\": \"Number of passengers\"}}}, {\"showLink\": false, \"linkText\": \"Export to plot.ly\", \"plotlyServerURL\": \"https://plot.ly\"})});</script><script type=\"text/javascript\">window.addEventListener(\"resize\", function(){window._Plotly.Plots.resize(document.getElementById(\"8115d2dd-e713-4cc2-8f95-6b502193d80e\"));});</script>"
      ]
     },
     "metadata": {},
     "output_type": "display_data"
    }
   ],
   "source": [
    "plot_survived_bar(get_survived_categories(train_df,'Pclass'), 'Pclass')"
   ]
  },
  {
   "cell_type": "markdown",
   "metadata": {
    "_uuid": "6a5a7c3f52c07b5a93667995bc8b986c5217be7b"
   },
   "source": [
    "First class passengers survived in a percent of 63% while less than 50% survived in 2nd class. For passengers in 3rd class, only 24% survived."
   ]
  },
  {
   "cell_type": "markdown",
   "metadata": {
    "_uuid": "2128582bebda46da7aa38b77eb301c5ad6349800"
   },
   "source": [
    "<a href=\"#0\"><font size=\"1\">Go to top</font></a>  \n",
    "\n",
    "\n",
    "## <a id='34'>Ticket, Cabin, Name</a>  \n",
    "\n",
    "Let's check now the data (in **train** and **test**) for  `Ticket`,  `Cabin` and`Name`.\n",
    "\n",
    "All these are alphanumeric (contains both letters and numbers), like `Ticket` and `Cabin` or are text fields (`Name`). \n",
    "\n",
    "We will have to process them in order to use as features.  \n",
    "\n",
    "Let's look to `Ticket` first.\n",
    "\n"
   ]
  },
  {
   "cell_type": "code",
   "execution_count": 31,
   "metadata": {
    "_kg_hide-input": true,
    "_uuid": "5cfa22b4569176890efec40c5efb6b3a7df3cd17"
   },
   "outputs": [
    {
     "data": {
      "text/plain": [
       "347082          7\n",
       "1601            7\n",
       "CA. 2343        7\n",
       "347088          6\n",
       "3101295         6\n",
       "CA 2144         6\n",
       "S.O.C. 14879    5\n",
       "382652          5\n",
       "19950           4\n",
       "PC 17757        4\n",
       "Name: Ticket, dtype: int64"
      ]
     },
     "execution_count": 31,
     "metadata": {},
     "output_type": "execute_result"
    }
   ],
   "source": [
    "train_df['Ticket'].value_counts().head(10)"
   ]
  },
  {
   "cell_type": "markdown",
   "metadata": {
    "_uuid": "c49a090be88c94feae98fa8027db5746642512dc"
   },
   "source": [
    "`Ticket` has, most probably, little predictive value.  \n",
    "\n",
    "Let's see also the `Cabin`.\n"
   ]
  },
  {
   "cell_type": "code",
   "execution_count": 32,
   "metadata": {
    "_kg_hide-input": true,
    "_uuid": "0185e98719e1494391f3e25272a6b25db1ed5189"
   },
   "outputs": [
    {
     "data": {
      "text/plain": [
       "B96 B98            4\n",
       "G6                 4\n",
       "C23 C25 C27        4\n",
       "C22 C26            3\n",
       "D                  3\n",
       "E101               3\n",
       "F2                 3\n",
       "F33                3\n",
       "B18                2\n",
       "B57 B59 B63 B66    2\n",
       "Name: Cabin, dtype: int64"
      ]
     },
     "execution_count": 32,
     "metadata": {},
     "output_type": "execute_result"
    }
   ],
   "source": [
    "train_df['Cabin'].value_counts().head(10)"
   ]
  },
  {
   "cell_type": "markdown",
   "metadata": {
    "_uuid": "1a728117a8f8e6d666770f0f156148891d5d3f7e"
   },
   "source": [
    "`Cabin` has the first letter that is, most probably, giving the information on the deck. This might have a predictive value and we will process further in the next sections.\n",
    "\n",
    "`Name` might contain multiple information. Let's check few of the `Name` fields."
   ]
  },
  {
   "cell_type": "code",
   "execution_count": 33,
   "metadata": {
    "_kg_hide-input": true,
    "_uuid": "3e5848c8ed21a4bc6dd1d708d05f9d382e786a95"
   },
   "outputs": [
    {
     "data": {
      "text/plain": [
       "0                              Braund, Mr. Owen Harris\n",
       "1    Cumings, Mrs. John Bradley (Florence Briggs Th...\n",
       "2                               Heikkinen, Miss. Laina\n",
       "3         Futrelle, Mrs. Jacques Heath (Lily May Peel)\n",
       "4                             Allen, Mr. William Henry\n",
       "5                                     Moran, Mr. James\n",
       "6                              McCarthy, Mr. Timothy J\n",
       "7                       Palsson, Master. Gosta Leonard\n",
       "8    Johnson, Mrs. Oscar W (Elisabeth Vilhelmina Berg)\n",
       "9                  Nasser, Mrs. Nicholas (Adele Achem)\n",
       "Name: Name, dtype: object"
      ]
     },
     "execution_count": 33,
     "metadata": {},
     "output_type": "execute_result"
    }
   ],
   "source": [
    "train_df['Name'].head(10)"
   ]
  },
  {
   "cell_type": "markdown",
   "metadata": {
    "_uuid": "d87e9cc399d48d852d230bfa49178172ed1080f6"
   },
   "source": [
    "We see that in the `Name` field we have the Family name, the title (which might indicate as well the social status or marital status), and the first name. So, `Name` is actually a quite rich feature column, which can be further exploited (and we will exploit in the next sections). "
   ]
  },
  {
   "cell_type": "markdown",
   "metadata": {
    "_uuid": "142771608f9e8acc61cb7ebd5bb22fc7d3415d01"
   },
   "source": [
    "## <a id='35'>Multiple features visualization</a>\n",
    "\n",
    "Let's show the number of survived/not survived passengers grouped by Class and Sex."
   ]
  },
  {
   "cell_type": "code",
   "execution_count": 34,
   "metadata": {
    "_kg_hide-input": true,
    "_uuid": "0b80d493f483b8845df778a1dc834bcf955550fe"
   },
   "outputs": [],
   "source": [
    "tmp = train_df.groupby(['Pclass', 'Sex'])['Survived'].value_counts()\n",
    "df = pd.DataFrame(data={'Passengers': tmp.values}, index=tmp.index).reset_index()\n",
    "hover_text = []\n",
    "for index, row in df.iterrows():\n",
    "    hover_text.append(('Pclass: {}<br>'+\n",
    "                      'Sex: {}<br>'+\n",
    "                      'Survived: {}<br>'+\n",
    "                      'Passengers: {}').format(row['Pclass'],\n",
    "                                            row['Sex'],\n",
    "                                            row['Survived'],\n",
    "                                            row['Passengers']))\n",
    "df['hover_text'] = hover_text"
   ]
  },
  {
   "cell_type": "code",
   "execution_count": 35,
   "metadata": {
    "_kg_hide-input": true,
    "_uuid": "0c1683b71ffe2a9b14b7facdcb77711fc0761b9e",
    "scrolled": true
   },
   "outputs": [
    {
     "data": {
      "application/vnd.plotly.v1+json": {
       "config": {
        "linkText": "Export to plot.ly",
        "plotlyServerURL": "https://plot.ly",
        "showLink": false
       },
       "data": [
        {
         "marker": {
          "color": [
           1,
           0,
           0,
           1,
           1,
           0,
           0,
           1,
           0,
           1,
           0,
           1
          ],
          "colorscale": "Bluered",
          "size": [
           91,
           3,
           77,
           45,
           70,
           6,
           91,
           17,
           72,
           72,
           300,
           47
          ],
          "sizemode": "diameter",
          "sizeref": 3
         },
         "mode": "markers",
         "text": [
          "Pclass: 1<br>Sex: female<br>Survived: 1<br>Passengers: 91",
          "Pclass: 1<br>Sex: female<br>Survived: 0<br>Passengers: 3",
          "Pclass: 1<br>Sex: male<br>Survived: 0<br>Passengers: 77",
          "Pclass: 1<br>Sex: male<br>Survived: 1<br>Passengers: 45",
          "Pclass: 2<br>Sex: female<br>Survived: 1<br>Passengers: 70",
          "Pclass: 2<br>Sex: female<br>Survived: 0<br>Passengers: 6",
          "Pclass: 2<br>Sex: male<br>Survived: 0<br>Passengers: 91",
          "Pclass: 2<br>Sex: male<br>Survived: 1<br>Passengers: 17",
          "Pclass: 3<br>Sex: female<br>Survived: 0<br>Passengers: 72",
          "Pclass: 3<br>Sex: female<br>Survived: 1<br>Passengers: 72",
          "Pclass: 3<br>Sex: male<br>Survived: 0<br>Passengers: 300",
          "Pclass: 3<br>Sex: male<br>Survived: 1<br>Passengers: 47"
         ],
         "type": "scatter",
         "uid": "b8c38abe-7a87-4ab2-84a0-4c7fba4a088e",
         "x": [
          1,
          1,
          1,
          1,
          2,
          2,
          2,
          2,
          3,
          3,
          3,
          3
         ],
         "y": [
          "female",
          "female",
          "male",
          "male",
          "female",
          "female",
          "male",
          "male",
          "female",
          "female",
          "male",
          "male"
         ]
        }
       ],
       "layout": {
        "height": 400,
        "hovermode": "closest",
        "title": {
         "text": "Number of surviving/not surviving passengers by class and sex"
        },
        "width": 600,
        "xaxis": {
         "showticklabels": true,
         "title": {
          "text": "Class"
         },
         "type": "category"
        },
        "yaxis": {
         "title": {
          "text": "Sex"
         },
         "type": "category"
        }
       }
      },
      "text/html": [
       "<div id=\"1b386a6d-fea2-483b-96a3-5637417297dc\" style=\"height: 400px; width: 600px;\" class=\"plotly-graph-div\"></div><script type=\"text/javascript\">require([\"plotly\"], function(Plotly) { window.PLOTLYENV=window.PLOTLYENV || {};window.PLOTLYENV.BASE_URL=\"https://plot.ly\";Plotly.newPlot(\"1b386a6d-fea2-483b-96a3-5637417297dc\", [{\"marker\": {\"color\": [1, 0, 0, 1, 1, 0, 0, 1, 0, 1, 0, 1], \"colorscale\": \"Bluered\", \"size\": [91, 3, 77, 45, 70, 6, 91, 17, 72, 72, 300, 47], \"sizemode\": \"diameter\", \"sizeref\": 3}, \"mode\": \"markers\", \"text\": [\"Pclass: 1<br>Sex: female<br>Survived: 1<br>Passengers: 91\", \"Pclass: 1<br>Sex: female<br>Survived: 0<br>Passengers: 3\", \"Pclass: 1<br>Sex: male<br>Survived: 0<br>Passengers: 77\", \"Pclass: 1<br>Sex: male<br>Survived: 1<br>Passengers: 45\", \"Pclass: 2<br>Sex: female<br>Survived: 1<br>Passengers: 70\", \"Pclass: 2<br>Sex: female<br>Survived: 0<br>Passengers: 6\", \"Pclass: 2<br>Sex: male<br>Survived: 0<br>Passengers: 91\", \"Pclass: 2<br>Sex: male<br>Survived: 1<br>Passengers: 17\", \"Pclass: 3<br>Sex: female<br>Survived: 0<br>Passengers: 72\", \"Pclass: 3<br>Sex: female<br>Survived: 1<br>Passengers: 72\", \"Pclass: 3<br>Sex: male<br>Survived: 0<br>Passengers: 300\", \"Pclass: 3<br>Sex: male<br>Survived: 1<br>Passengers: 47\"], \"x\": [1, 1, 1, 1, 2, 2, 2, 2, 3, 3, 3, 3], \"y\": [\"female\", \"female\", \"male\", \"male\", \"female\", \"female\", \"male\", \"male\", \"female\", \"female\", \"male\", \"male\"], \"type\": \"scatter\", \"uid\": \"b8c38abe-7a87-4ab2-84a0-4c7fba4a088e\"}], {\"height\": 400, \"hovermode\": \"closest\", \"title\": {\"text\": \"Number of surviving/not surviving passengers by class and sex\"}, \"width\": 600, \"xaxis\": {\"showticklabels\": true, \"title\": {\"text\": \"Class\"}, \"type\": \"category\"}, \"yaxis\": {\"title\": {\"text\": \"Sex\"}, \"type\": \"category\"}}, {\"showLink\": false, \"linkText\": \"Export to plot.ly\", \"plotlyServerURL\": \"https://plot.ly\"})});</script>"
      ],
      "text/vnd.plotly.v1+html": [
       "<div id=\"1b386a6d-fea2-483b-96a3-5637417297dc\" style=\"height: 400px; width: 600px;\" class=\"plotly-graph-div\"></div><script type=\"text/javascript\">require([\"plotly\"], function(Plotly) { window.PLOTLYENV=window.PLOTLYENV || {};window.PLOTLYENV.BASE_URL=\"https://plot.ly\";Plotly.newPlot(\"1b386a6d-fea2-483b-96a3-5637417297dc\", [{\"marker\": {\"color\": [1, 0, 0, 1, 1, 0, 0, 1, 0, 1, 0, 1], \"colorscale\": \"Bluered\", \"size\": [91, 3, 77, 45, 70, 6, 91, 17, 72, 72, 300, 47], \"sizemode\": \"diameter\", \"sizeref\": 3}, \"mode\": \"markers\", \"text\": [\"Pclass: 1<br>Sex: female<br>Survived: 1<br>Passengers: 91\", \"Pclass: 1<br>Sex: female<br>Survived: 0<br>Passengers: 3\", \"Pclass: 1<br>Sex: male<br>Survived: 0<br>Passengers: 77\", \"Pclass: 1<br>Sex: male<br>Survived: 1<br>Passengers: 45\", \"Pclass: 2<br>Sex: female<br>Survived: 1<br>Passengers: 70\", \"Pclass: 2<br>Sex: female<br>Survived: 0<br>Passengers: 6\", \"Pclass: 2<br>Sex: male<br>Survived: 0<br>Passengers: 91\", \"Pclass: 2<br>Sex: male<br>Survived: 1<br>Passengers: 17\", \"Pclass: 3<br>Sex: female<br>Survived: 0<br>Passengers: 72\", \"Pclass: 3<br>Sex: female<br>Survived: 1<br>Passengers: 72\", \"Pclass: 3<br>Sex: male<br>Survived: 0<br>Passengers: 300\", \"Pclass: 3<br>Sex: male<br>Survived: 1<br>Passengers: 47\"], \"x\": [1, 1, 1, 1, 2, 2, 2, 2, 3, 3, 3, 3], \"y\": [\"female\", \"female\", \"male\", \"male\", \"female\", \"female\", \"male\", \"male\", \"female\", \"female\", \"male\", \"male\"], \"type\": \"scatter\", \"uid\": \"b8c38abe-7a87-4ab2-84a0-4c7fba4a088e\"}], {\"height\": 400, \"hovermode\": \"closest\", \"title\": {\"text\": \"Number of surviving/not surviving passengers by class and sex\"}, \"width\": 600, \"xaxis\": {\"showticklabels\": true, \"title\": {\"text\": \"Class\"}, \"type\": \"category\"}, \"yaxis\": {\"title\": {\"text\": \"Sex\"}, \"type\": \"category\"}}, {\"showLink\": false, \"linkText\": \"Export to plot.ly\", \"plotlyServerURL\": \"https://plot.ly\"})});</script>"
      ]
     },
     "metadata": {},
     "output_type": "display_data"
    }
   ],
   "source": [
    "trace = go.Scatter(\n",
    "        x=df['Pclass'],\n",
    "        y=df['Sex'],\n",
    "        text=df['hover_text'],\n",
    "        mode='markers',\n",
    "        marker=dict(\n",
    "            sizemode='diameter',\n",
    "            sizeref=3,\n",
    "            size=df['Passengers'],\n",
    "            color = df['Survived'],\n",
    "            colorscale = 'Bluered',\n",
    "        )\n",
    "    )\n",
    "data = [trace]\n",
    "\n",
    "layout = dict(title = 'Number of surviving/not surviving passengers by class and sex',\n",
    "          xaxis = dict(title = 'Class', showticklabels=True, type='category'), \n",
    "          yaxis = dict(title = 'Sex', type='category'),            \n",
    "          hovermode = 'closest',\n",
    "              height=400, width=600, \n",
    "         )\n",
    "fig=go.Figure(data=data, layout=layout)\n",
    "iplot(fig, filename='bubble_plot')"
   ]
  },
  {
   "cell_type": "markdown",
   "metadata": {
    "_uuid": "d59d0289110f35d431dcb9d95349856e88e75233"
   },
   "source": [
    "\n",
    "Let's show the number of survived/not survived passengers grouped by SibSp and Parch."
   ]
  },
  {
   "cell_type": "code",
   "execution_count": 36,
   "metadata": {
    "_kg_hide-input": true,
    "_uuid": "2378198815b3be2ead393dd1093540d0a2105d68"
   },
   "outputs": [],
   "source": [
    "tmp = train_df.groupby(['SibSp', 'Parch'])['Survived'].value_counts()\n",
    "df = pd.DataFrame(data={'Passengers': tmp.values}, index=tmp.index).reset_index()\n",
    "hover_text = []\n",
    "for index, row in df.iterrows():\n",
    "    hover_text.append(('Sibilings: {}<br>'+\n",
    "                      'Parents/Children: {}<br>'+\n",
    "                      'Survived: {}<br>'+\n",
    "                      'Passengers: {}').format(row['SibSp'],\n",
    "                                            row['Parch'],\n",
    "                                            row['Survived'],\n",
    "                                            row['Passengers']))\n",
    "df['hover_text'] = hover_text"
   ]
  },
  {
   "cell_type": "code",
   "execution_count": 37,
   "metadata": {
    "_kg_hide-input": true,
    "_uuid": "1134dfbabe95183c6402d51d7a2bbef87c740368"
   },
   "outputs": [
    {
     "data": {
      "application/vnd.plotly.v1+json": {
       "config": {
        "linkText": "Export to plot.ly",
        "plotlyServerURL": "https://plot.ly",
        "showLink": false
       },
       "data": [
        {
         "marker": {
          "color": [
           0,
           1,
           1,
           0,
           1,
           0,
           1,
           0,
           0,
           1,
           0,
           1,
           0,
           1,
           0,
           0,
           1,
           0,
           0,
           1,
           0,
           0,
           1,
           1,
           0,
           0,
           1,
           1,
           1,
           0,
           0,
           1,
           0,
           0,
           1,
           0,
           0
          ],
          "colorscale": "Bluered",
          "size": [
           374,
           163,
           25,
           13,
           21,
           8,
           1,
           1,
           2,
           64,
           59,
           34,
           23,
           12,
           7,
           2,
           1,
           3,
           2,
           1,
           1,
           12,
           4,
           6,
           1,
           2,
           2,
           1,
           2,
           7,
           5,
           2,
           9,
           6,
           3,
           5,
           7
          ],
          "sizemode": "diameter",
          "sizeref": 4
         },
         "mode": "markers",
         "text": [
          "Sibilings: 0<br>Parents/Children: 0<br>Survived: 0<br>Passengers: 374",
          "Sibilings: 0<br>Parents/Children: 0<br>Survived: 1<br>Passengers: 163",
          "Sibilings: 0<br>Parents/Children: 1<br>Survived: 1<br>Passengers: 25",
          "Sibilings: 0<br>Parents/Children: 1<br>Survived: 0<br>Passengers: 13",
          "Sibilings: 0<br>Parents/Children: 2<br>Survived: 1<br>Passengers: 21",
          "Sibilings: 0<br>Parents/Children: 2<br>Survived: 0<br>Passengers: 8",
          "Sibilings: 0<br>Parents/Children: 3<br>Survived: 1<br>Passengers: 1",
          "Sibilings: 0<br>Parents/Children: 4<br>Survived: 0<br>Passengers: 1",
          "Sibilings: 0<br>Parents/Children: 5<br>Survived: 0<br>Passengers: 2",
          "Sibilings: 1<br>Parents/Children: 0<br>Survived: 1<br>Passengers: 64",
          "Sibilings: 1<br>Parents/Children: 0<br>Survived: 0<br>Passengers: 59",
          "Sibilings: 1<br>Parents/Children: 1<br>Survived: 1<br>Passengers: 34",
          "Sibilings: 1<br>Parents/Children: 1<br>Survived: 0<br>Passengers: 23",
          "Sibilings: 1<br>Parents/Children: 2<br>Survived: 1<br>Passengers: 12",
          "Sibilings: 1<br>Parents/Children: 2<br>Survived: 0<br>Passengers: 7",
          "Sibilings: 1<br>Parents/Children: 3<br>Survived: 0<br>Passengers: 2",
          "Sibilings: 1<br>Parents/Children: 3<br>Survived: 1<br>Passengers: 1",
          "Sibilings: 1<br>Parents/Children: 4<br>Survived: 0<br>Passengers: 3",
          "Sibilings: 1<br>Parents/Children: 5<br>Survived: 0<br>Passengers: 2",
          "Sibilings: 1<br>Parents/Children: 5<br>Survived: 1<br>Passengers: 1",
          "Sibilings: 1<br>Parents/Children: 6<br>Survived: 0<br>Passengers: 1",
          "Sibilings: 2<br>Parents/Children: 0<br>Survived: 0<br>Passengers: 12",
          "Sibilings: 2<br>Parents/Children: 0<br>Survived: 1<br>Passengers: 4",
          "Sibilings: 2<br>Parents/Children: 1<br>Survived: 1<br>Passengers: 6",
          "Sibilings: 2<br>Parents/Children: 1<br>Survived: 0<br>Passengers: 1",
          "Sibilings: 2<br>Parents/Children: 2<br>Survived: 0<br>Passengers: 2",
          "Sibilings: 2<br>Parents/Children: 2<br>Survived: 1<br>Passengers: 2",
          "Sibilings: 2<br>Parents/Children: 3<br>Survived: 1<br>Passengers: 1",
          "Sibilings: 3<br>Parents/Children: 0<br>Survived: 1<br>Passengers: 2",
          "Sibilings: 3<br>Parents/Children: 1<br>Survived: 0<br>Passengers: 7",
          "Sibilings: 3<br>Parents/Children: 2<br>Survived: 0<br>Passengers: 5",
          "Sibilings: 3<br>Parents/Children: 2<br>Survived: 1<br>Passengers: 2",
          "Sibilings: 4<br>Parents/Children: 1<br>Survived: 0<br>Passengers: 9",
          "Sibilings: 4<br>Parents/Children: 2<br>Survived: 0<br>Passengers: 6",
          "Sibilings: 4<br>Parents/Children: 2<br>Survived: 1<br>Passengers: 3",
          "Sibilings: 5<br>Parents/Children: 2<br>Survived: 0<br>Passengers: 5",
          "Sibilings: 8<br>Parents/Children: 2<br>Survived: 0<br>Passengers: 7"
         ],
         "type": "scatter",
         "uid": "4adf9e28-1ede-4af0-9f14-56682c69b85e",
         "x": [
          0,
          0,
          0,
          0,
          0,
          0,
          0,
          0,
          0,
          1,
          1,
          1,
          1,
          1,
          1,
          1,
          1,
          1,
          1,
          1,
          1,
          2,
          2,
          2,
          2,
          2,
          2,
          2,
          3,
          3,
          3,
          3,
          4,
          4,
          4,
          5,
          8
         ],
         "y": [
          0,
          0,
          1,
          1,
          2,
          2,
          3,
          4,
          5,
          0,
          0,
          1,
          1,
          2,
          2,
          3,
          3,
          4,
          5,
          5,
          6,
          0,
          0,
          1,
          1,
          2,
          2,
          3,
          0,
          1,
          2,
          2,
          1,
          2,
          2,
          2,
          2
         ]
        }
       ],
       "layout": {
        "height": 400,
        "hovermode": "closest",
        "title": {
         "text": "Passengers by number of Sibilings and  parents/children"
        },
        "width": 600,
        "xaxis": {
         "showticklabels": true,
         "title": {
          "text": "Sibilings"
         },
         "type": "category"
        },
        "yaxis": {
         "title": {
          "text": "Parents/Children"
         },
         "type": "category"
        }
       }
      },
      "text/html": [
       "<div id=\"f08b3396-5e97-440e-a675-fcee812fd343\" style=\"height: 400px; width: 600px;\" class=\"plotly-graph-div\"></div><script type=\"text/javascript\">require([\"plotly\"], function(Plotly) { window.PLOTLYENV=window.PLOTLYENV || {};window.PLOTLYENV.BASE_URL=\"https://plot.ly\";Plotly.newPlot(\"f08b3396-5e97-440e-a675-fcee812fd343\", [{\"marker\": {\"color\": [0, 1, 1, 0, 1, 0, 1, 0, 0, 1, 0, 1, 0, 1, 0, 0, 1, 0, 0, 1, 0, 0, 1, 1, 0, 0, 1, 1, 1, 0, 0, 1, 0, 0, 1, 0, 0], \"colorscale\": \"Bluered\", \"size\": [374, 163, 25, 13, 21, 8, 1, 1, 2, 64, 59, 34, 23, 12, 7, 2, 1, 3, 2, 1, 1, 12, 4, 6, 1, 2, 2, 1, 2, 7, 5, 2, 9, 6, 3, 5, 7], \"sizemode\": \"diameter\", \"sizeref\": 4}, \"mode\": \"markers\", \"text\": [\"Sibilings: 0<br>Parents/Children: 0<br>Survived: 0<br>Passengers: 374\", \"Sibilings: 0<br>Parents/Children: 0<br>Survived: 1<br>Passengers: 163\", \"Sibilings: 0<br>Parents/Children: 1<br>Survived: 1<br>Passengers: 25\", \"Sibilings: 0<br>Parents/Children: 1<br>Survived: 0<br>Passengers: 13\", \"Sibilings: 0<br>Parents/Children: 2<br>Survived: 1<br>Passengers: 21\", \"Sibilings: 0<br>Parents/Children: 2<br>Survived: 0<br>Passengers: 8\", \"Sibilings: 0<br>Parents/Children: 3<br>Survived: 1<br>Passengers: 1\", \"Sibilings: 0<br>Parents/Children: 4<br>Survived: 0<br>Passengers: 1\", \"Sibilings: 0<br>Parents/Children: 5<br>Survived: 0<br>Passengers: 2\", \"Sibilings: 1<br>Parents/Children: 0<br>Survived: 1<br>Passengers: 64\", \"Sibilings: 1<br>Parents/Children: 0<br>Survived: 0<br>Passengers: 59\", \"Sibilings: 1<br>Parents/Children: 1<br>Survived: 1<br>Passengers: 34\", \"Sibilings: 1<br>Parents/Children: 1<br>Survived: 0<br>Passengers: 23\", \"Sibilings: 1<br>Parents/Children: 2<br>Survived: 1<br>Passengers: 12\", \"Sibilings: 1<br>Parents/Children: 2<br>Survived: 0<br>Passengers: 7\", \"Sibilings: 1<br>Parents/Children: 3<br>Survived: 0<br>Passengers: 2\", \"Sibilings: 1<br>Parents/Children: 3<br>Survived: 1<br>Passengers: 1\", \"Sibilings: 1<br>Parents/Children: 4<br>Survived: 0<br>Passengers: 3\", \"Sibilings: 1<br>Parents/Children: 5<br>Survived: 0<br>Passengers: 2\", \"Sibilings: 1<br>Parents/Children: 5<br>Survived: 1<br>Passengers: 1\", \"Sibilings: 1<br>Parents/Children: 6<br>Survived: 0<br>Passengers: 1\", \"Sibilings: 2<br>Parents/Children: 0<br>Survived: 0<br>Passengers: 12\", \"Sibilings: 2<br>Parents/Children: 0<br>Survived: 1<br>Passengers: 4\", \"Sibilings: 2<br>Parents/Children: 1<br>Survived: 1<br>Passengers: 6\", \"Sibilings: 2<br>Parents/Children: 1<br>Survived: 0<br>Passengers: 1\", \"Sibilings: 2<br>Parents/Children: 2<br>Survived: 0<br>Passengers: 2\", \"Sibilings: 2<br>Parents/Children: 2<br>Survived: 1<br>Passengers: 2\", \"Sibilings: 2<br>Parents/Children: 3<br>Survived: 1<br>Passengers: 1\", \"Sibilings: 3<br>Parents/Children: 0<br>Survived: 1<br>Passengers: 2\", \"Sibilings: 3<br>Parents/Children: 1<br>Survived: 0<br>Passengers: 7\", \"Sibilings: 3<br>Parents/Children: 2<br>Survived: 0<br>Passengers: 5\", \"Sibilings: 3<br>Parents/Children: 2<br>Survived: 1<br>Passengers: 2\", \"Sibilings: 4<br>Parents/Children: 1<br>Survived: 0<br>Passengers: 9\", \"Sibilings: 4<br>Parents/Children: 2<br>Survived: 0<br>Passengers: 6\", \"Sibilings: 4<br>Parents/Children: 2<br>Survived: 1<br>Passengers: 3\", \"Sibilings: 5<br>Parents/Children: 2<br>Survived: 0<br>Passengers: 5\", \"Sibilings: 8<br>Parents/Children: 2<br>Survived: 0<br>Passengers: 7\"], \"x\": [0, 0, 0, 0, 0, 0, 0, 0, 0, 1, 1, 1, 1, 1, 1, 1, 1, 1, 1, 1, 1, 2, 2, 2, 2, 2, 2, 2, 3, 3, 3, 3, 4, 4, 4, 5, 8], \"y\": [0, 0, 1, 1, 2, 2, 3, 4, 5, 0, 0, 1, 1, 2, 2, 3, 3, 4, 5, 5, 6, 0, 0, 1, 1, 2, 2, 3, 0, 1, 2, 2, 1, 2, 2, 2, 2], \"type\": \"scatter\", \"uid\": \"4adf9e28-1ede-4af0-9f14-56682c69b85e\"}], {\"height\": 400, \"hovermode\": \"closest\", \"title\": {\"text\": \"Passengers by number of Sibilings and  parents/children\"}, \"width\": 600, \"xaxis\": {\"showticklabels\": true, \"title\": {\"text\": \"Sibilings\"}, \"type\": \"category\"}, \"yaxis\": {\"title\": {\"text\": \"Parents/Children\"}, \"type\": \"category\"}}, {\"showLink\": false, \"linkText\": \"Export to plot.ly\", \"plotlyServerURL\": \"https://plot.ly\"})});</script>"
      ],
      "text/vnd.plotly.v1+html": [
       "<div id=\"f08b3396-5e97-440e-a675-fcee812fd343\" style=\"height: 400px; width: 600px;\" class=\"plotly-graph-div\"></div><script type=\"text/javascript\">require([\"plotly\"], function(Plotly) { window.PLOTLYENV=window.PLOTLYENV || {};window.PLOTLYENV.BASE_URL=\"https://plot.ly\";Plotly.newPlot(\"f08b3396-5e97-440e-a675-fcee812fd343\", [{\"marker\": {\"color\": [0, 1, 1, 0, 1, 0, 1, 0, 0, 1, 0, 1, 0, 1, 0, 0, 1, 0, 0, 1, 0, 0, 1, 1, 0, 0, 1, 1, 1, 0, 0, 1, 0, 0, 1, 0, 0], \"colorscale\": \"Bluered\", \"size\": [374, 163, 25, 13, 21, 8, 1, 1, 2, 64, 59, 34, 23, 12, 7, 2, 1, 3, 2, 1, 1, 12, 4, 6, 1, 2, 2, 1, 2, 7, 5, 2, 9, 6, 3, 5, 7], \"sizemode\": \"diameter\", \"sizeref\": 4}, \"mode\": \"markers\", \"text\": [\"Sibilings: 0<br>Parents/Children: 0<br>Survived: 0<br>Passengers: 374\", \"Sibilings: 0<br>Parents/Children: 0<br>Survived: 1<br>Passengers: 163\", \"Sibilings: 0<br>Parents/Children: 1<br>Survived: 1<br>Passengers: 25\", \"Sibilings: 0<br>Parents/Children: 1<br>Survived: 0<br>Passengers: 13\", \"Sibilings: 0<br>Parents/Children: 2<br>Survived: 1<br>Passengers: 21\", \"Sibilings: 0<br>Parents/Children: 2<br>Survived: 0<br>Passengers: 8\", \"Sibilings: 0<br>Parents/Children: 3<br>Survived: 1<br>Passengers: 1\", \"Sibilings: 0<br>Parents/Children: 4<br>Survived: 0<br>Passengers: 1\", \"Sibilings: 0<br>Parents/Children: 5<br>Survived: 0<br>Passengers: 2\", \"Sibilings: 1<br>Parents/Children: 0<br>Survived: 1<br>Passengers: 64\", \"Sibilings: 1<br>Parents/Children: 0<br>Survived: 0<br>Passengers: 59\", \"Sibilings: 1<br>Parents/Children: 1<br>Survived: 1<br>Passengers: 34\", \"Sibilings: 1<br>Parents/Children: 1<br>Survived: 0<br>Passengers: 23\", \"Sibilings: 1<br>Parents/Children: 2<br>Survived: 1<br>Passengers: 12\", \"Sibilings: 1<br>Parents/Children: 2<br>Survived: 0<br>Passengers: 7\", \"Sibilings: 1<br>Parents/Children: 3<br>Survived: 0<br>Passengers: 2\", \"Sibilings: 1<br>Parents/Children: 3<br>Survived: 1<br>Passengers: 1\", \"Sibilings: 1<br>Parents/Children: 4<br>Survived: 0<br>Passengers: 3\", \"Sibilings: 1<br>Parents/Children: 5<br>Survived: 0<br>Passengers: 2\", \"Sibilings: 1<br>Parents/Children: 5<br>Survived: 1<br>Passengers: 1\", \"Sibilings: 1<br>Parents/Children: 6<br>Survived: 0<br>Passengers: 1\", \"Sibilings: 2<br>Parents/Children: 0<br>Survived: 0<br>Passengers: 12\", \"Sibilings: 2<br>Parents/Children: 0<br>Survived: 1<br>Passengers: 4\", \"Sibilings: 2<br>Parents/Children: 1<br>Survived: 1<br>Passengers: 6\", \"Sibilings: 2<br>Parents/Children: 1<br>Survived: 0<br>Passengers: 1\", \"Sibilings: 2<br>Parents/Children: 2<br>Survived: 0<br>Passengers: 2\", \"Sibilings: 2<br>Parents/Children: 2<br>Survived: 1<br>Passengers: 2\", \"Sibilings: 2<br>Parents/Children: 3<br>Survived: 1<br>Passengers: 1\", \"Sibilings: 3<br>Parents/Children: 0<br>Survived: 1<br>Passengers: 2\", \"Sibilings: 3<br>Parents/Children: 1<br>Survived: 0<br>Passengers: 7\", \"Sibilings: 3<br>Parents/Children: 2<br>Survived: 0<br>Passengers: 5\", \"Sibilings: 3<br>Parents/Children: 2<br>Survived: 1<br>Passengers: 2\", \"Sibilings: 4<br>Parents/Children: 1<br>Survived: 0<br>Passengers: 9\", \"Sibilings: 4<br>Parents/Children: 2<br>Survived: 0<br>Passengers: 6\", \"Sibilings: 4<br>Parents/Children: 2<br>Survived: 1<br>Passengers: 3\", \"Sibilings: 5<br>Parents/Children: 2<br>Survived: 0<br>Passengers: 5\", \"Sibilings: 8<br>Parents/Children: 2<br>Survived: 0<br>Passengers: 7\"], \"x\": [0, 0, 0, 0, 0, 0, 0, 0, 0, 1, 1, 1, 1, 1, 1, 1, 1, 1, 1, 1, 1, 2, 2, 2, 2, 2, 2, 2, 3, 3, 3, 3, 4, 4, 4, 5, 8], \"y\": [0, 0, 1, 1, 2, 2, 3, 4, 5, 0, 0, 1, 1, 2, 2, 3, 3, 4, 5, 5, 6, 0, 0, 1, 1, 2, 2, 3, 0, 1, 2, 2, 1, 2, 2, 2, 2], \"type\": \"scatter\", \"uid\": \"4adf9e28-1ede-4af0-9f14-56682c69b85e\"}], {\"height\": 400, \"hovermode\": \"closest\", \"title\": {\"text\": \"Passengers by number of Sibilings and  parents/children\"}, \"width\": 600, \"xaxis\": {\"showticklabels\": true, \"title\": {\"text\": \"Sibilings\"}, \"type\": \"category\"}, \"yaxis\": {\"title\": {\"text\": \"Parents/Children\"}, \"type\": \"category\"}}, {\"showLink\": false, \"linkText\": \"Export to plot.ly\", \"plotlyServerURL\": \"https://plot.ly\"})});</script>"
      ]
     },
     "metadata": {},
     "output_type": "display_data"
    }
   ],
   "source": [
    "trace = go.Scatter(\n",
    "        x=df['SibSp'],\n",
    "        y=df['Parch'],\n",
    "        text=df['hover_text'],\n",
    "        mode='markers',\n",
    "        marker=dict(\n",
    "            sizemode='diameter',\n",
    "            sizeref=4,\n",
    "            size=df['Passengers'],\n",
    "            color = df['Survived'],\n",
    "            colorscale = 'Bluered',\n",
    "        )\n",
    "    )\n",
    "data = [trace]\n",
    "\n",
    "layout = dict(title = 'Passengers by number of Sibilings and  parents/children',\n",
    "          xaxis = dict(title = 'Sibilings', showticklabels=True, type='category'), \n",
    "          yaxis = dict(title = 'Parents/Children', type='category'),            \n",
    "          hovermode = 'closest',\n",
    "              height=400, width=600, \n",
    "         )\n",
    "fig=go.Figure(data=data, layout=layout)\n",
    "iplot(fig, filename='bubble_plot')"
   ]
  },
  {
   "cell_type": "markdown",
   "metadata": {},
   "source": [
    "## <a id='36'>Imputation of missing data</a>  \n",
    "\n",
    "We are creating a model for imputation of **Fare** data.  \n",
    "\n",
    "First, let's create a list with **train** and **test** datasets, to process both in the same time.\n"
   ]
  },
  {
   "cell_type": "code",
   "execution_count": 38,
   "metadata": {},
   "outputs": [
    {
     "name": "stderr",
     "output_type": "stream",
     "text": [
      "/opt/conda/lib/python3.6/site-packages/ipykernel_launcher.py:2: FutureWarning:\n",
      "\n",
      "Sorting because non-concatenation axis is not aligned. A future version\n",
      "of pandas will change to not sort by default.\n",
      "\n",
      "To accept the future behavior, pass 'sort=False'.\n",
      "\n",
      "To retain the current behavior and silence the warning, pass 'sort=True'.\n",
      "\n",
      "\n"
     ]
    }
   ],
   "source": [
    "test_df['Survived'] = None\n",
    "all_df = pd.concat([train_df, test_df], axis=0)"
   ]
  },
  {
   "cell_type": "code",
   "execution_count": 39,
   "metadata": {},
   "outputs": [
    {
     "name": "stdout",
     "output_type": "stream",
     "text": [
      "Combined data: (1309, 12)\n"
     ]
    }
   ],
   "source": [
    "print(f'Combined data: {all_df.shape}')"
   ]
  },
  {
   "cell_type": "code",
   "execution_count": 40,
   "metadata": {},
   "outputs": [
    {
     "data": {
      "text/html": [
       "<div>\n",
       "<style scoped>\n",
       "    .dataframe tbody tr th:only-of-type {\n",
       "        vertical-align: middle;\n",
       "    }\n",
       "\n",
       "    .dataframe tbody tr th {\n",
       "        vertical-align: top;\n",
       "    }\n",
       "\n",
       "    .dataframe thead th {\n",
       "        text-align: right;\n",
       "    }\n",
       "</style>\n",
       "<table border=\"1\" class=\"dataframe\">\n",
       "  <thead>\n",
       "    <tr style=\"text-align: right;\">\n",
       "      <th></th>\n",
       "      <th>Age</th>\n",
       "      <th>Cabin</th>\n",
       "      <th>Embarked</th>\n",
       "      <th>Fare</th>\n",
       "      <th>Name</th>\n",
       "      <th>Parch</th>\n",
       "      <th>PassengerId</th>\n",
       "      <th>Pclass</th>\n",
       "      <th>Sex</th>\n",
       "      <th>SibSp</th>\n",
       "      <th>Survived</th>\n",
       "      <th>Ticket</th>\n",
       "    </tr>\n",
       "  </thead>\n",
       "  <tbody>\n",
       "    <tr>\n",
       "      <th>0</th>\n",
       "      <td>22.0</td>\n",
       "      <td>NaN</td>\n",
       "      <td>S</td>\n",
       "      <td>7.2500</td>\n",
       "      <td>Braund, Mr. Owen Harris</td>\n",
       "      <td>0</td>\n",
       "      <td>1</td>\n",
       "      <td>3</td>\n",
       "      <td>male</td>\n",
       "      <td>1</td>\n",
       "      <td>0</td>\n",
       "      <td>A/5 21171</td>\n",
       "    </tr>\n",
       "    <tr>\n",
       "      <th>1</th>\n",
       "      <td>38.0</td>\n",
       "      <td>C85</td>\n",
       "      <td>C</td>\n",
       "      <td>71.2833</td>\n",
       "      <td>Cumings, Mrs. John Bradley (Florence Briggs Th...</td>\n",
       "      <td>0</td>\n",
       "      <td>2</td>\n",
       "      <td>1</td>\n",
       "      <td>female</td>\n",
       "      <td>1</td>\n",
       "      <td>1</td>\n",
       "      <td>PC 17599</td>\n",
       "    </tr>\n",
       "    <tr>\n",
       "      <th>2</th>\n",
       "      <td>26.0</td>\n",
       "      <td>NaN</td>\n",
       "      <td>S</td>\n",
       "      <td>7.9250</td>\n",
       "      <td>Heikkinen, Miss. Laina</td>\n",
       "      <td>0</td>\n",
       "      <td>3</td>\n",
       "      <td>3</td>\n",
       "      <td>female</td>\n",
       "      <td>0</td>\n",
       "      <td>1</td>\n",
       "      <td>STON/O2. 3101282</td>\n",
       "    </tr>\n",
       "    <tr>\n",
       "      <th>3</th>\n",
       "      <td>35.0</td>\n",
       "      <td>C123</td>\n",
       "      <td>S</td>\n",
       "      <td>53.1000</td>\n",
       "      <td>Futrelle, Mrs. Jacques Heath (Lily May Peel)</td>\n",
       "      <td>0</td>\n",
       "      <td>4</td>\n",
       "      <td>1</td>\n",
       "      <td>female</td>\n",
       "      <td>1</td>\n",
       "      <td>1</td>\n",
       "      <td>113803</td>\n",
       "    </tr>\n",
       "    <tr>\n",
       "      <th>4</th>\n",
       "      <td>35.0</td>\n",
       "      <td>NaN</td>\n",
       "      <td>S</td>\n",
       "      <td>8.0500</td>\n",
       "      <td>Allen, Mr. William Henry</td>\n",
       "      <td>0</td>\n",
       "      <td>5</td>\n",
       "      <td>3</td>\n",
       "      <td>male</td>\n",
       "      <td>0</td>\n",
       "      <td>0</td>\n",
       "      <td>373450</td>\n",
       "    </tr>\n",
       "  </tbody>\n",
       "</table>\n",
       "</div>"
      ],
      "text/plain": [
       "    Age Cabin Embarked        ...         SibSp Survived            Ticket\n",
       "0  22.0   NaN        S        ...             1        0         A/5 21171\n",
       "1  38.0   C85        C        ...             1        1          PC 17599\n",
       "2  26.0   NaN        S        ...             0        1  STON/O2. 3101282\n",
       "3  35.0  C123        S        ...             1        1            113803\n",
       "4  35.0   NaN        S        ...             0        0            373450\n",
       "\n",
       "[5 rows x 12 columns]"
      ]
     },
     "execution_count": 40,
     "metadata": {},
     "output_type": "execute_result"
    }
   ],
   "source": [
    "all_df.head()"
   ]
  },
  {
   "cell_type": "markdown",
   "metadata": {},
   "source": [
    "Let's create a Decision Tree model to predict missing Fare value."
   ]
  },
  {
   "cell_type": "code",
   "execution_count": 41,
   "metadata": {},
   "outputs": [],
   "source": [
    "from sklearn.preprocessing import LabelEncoder\n",
    "def encrypt_single_column(data):\n",
    "    le = LabelEncoder()\n",
    "    le.fit(data.astype(str))\n",
    "    return le.transform(data.astype(str))"
   ]
  },
  {
   "cell_type": "code",
   "execution_count": 42,
   "metadata": {},
   "outputs": [],
   "source": [
    "features = ['Pclass','Sex','Embarked','SibSp','Parch']\n",
    "\n",
    "for feature in features:\n",
    "    all_df[feature] = encrypt_single_column(all_df[feature])"
   ]
  },
  {
   "cell_type": "code",
   "execution_count": 43,
   "metadata": {},
   "outputs": [
    {
     "name": "stdout",
     "output_type": "stream",
     "text": [
      "X: (1308, 5) y: (1308,), X_text: (1, 5)\n"
     ]
    }
   ],
   "source": [
    "X = all_df.loc[~(all_df.Fare.isna())]\n",
    "y = X['Fare'].values\n",
    "X = X[features]\n",
    "X_test = all_df.loc[all_df.Fare.isna()]    \n",
    "X_test = X_test[features]\n",
    "print(f'X: {X.shape} y: {y.shape}, X_text: {X_test.shape}')"
   ]
  },
  {
   "cell_type": "code",
   "execution_count": 44,
   "metadata": {},
   "outputs": [],
   "source": [
    "from sklearn.tree import DecisionTreeRegressor\n",
    "from sklearn import tree\n",
    "clf = DecisionTreeRegressor()\n",
    "clf.fit(X, y)\n",
    "y_test = clf.predict(X_test)"
   ]
  },
  {
   "cell_type": "code",
   "execution_count": 45,
   "metadata": {},
   "outputs": [
    {
     "name": "stdout",
     "output_type": "stream",
     "text": [
      "Fare: [9.65456679]\n"
     ]
    }
   ],
   "source": [
    "print(f'Fare: {y_test}')"
   ]
  },
  {
   "cell_type": "markdown",
   "metadata": {},
   "source": [
    "We replace the predicted value in the original (combined) data."
   ]
  },
  {
   "cell_type": "code",
   "execution_count": 46,
   "metadata": {},
   "outputs": [],
   "source": [
    "all_df.loc[all_df.Fare.isna(), 'Fare'] = y_test"
   ]
  },
  {
   "cell_type": "code",
   "execution_count": 47,
   "metadata": {},
   "outputs": [
    {
     "data": {
      "text/plain": [
       "(0, 12)"
      ]
     },
     "execution_count": 47,
     "metadata": {},
     "output_type": "execute_result"
    }
   ],
   "source": [
    "all_df.loc[all_df.Fare.isna()].shape"
   ]
  },
  {
   "cell_type": "markdown",
   "metadata": {
    "_uuid": "9f0e3c892cf3d82a01bbb8e92effa2cd5c134ccd"
   },
   "source": [
    "<a href=\"#0\"><font size=\"1\">Go to top</font></a>  \n",
    "\n",
    "\n",
    "# <a id='4'>Features engineering</a>\n",
    "\n",
    "From the original features, we will create new features."
   ]
  },
  {
   "cell_type": "markdown",
   "metadata": {
    "_uuid": "184fc740108c8b67d26893683cbd96e113694bb0"
   },
   "source": [
    "## <a id='41'>Extract Title from Name</a>\n",
    "\n",
    "Let's start with processing the names. We will extract the title from the names.  \n",
    "\n",
    "We create now a list of datasets (we name it as well all_df, we reuse this name):\n"
   ]
  },
  {
   "cell_type": "code",
   "execution_count": 48,
   "metadata": {},
   "outputs": [],
   "source": [
    "all_df = [train_df, test_df]"
   ]
  },
  {
   "cell_type": "markdown",
   "metadata": {
    "_uuid": "92a136c10a3b4fe9e08bb6b1272396d09774a8f0"
   },
   "source": [
    "We apply the rule for extracting the title."
   ]
  },
  {
   "cell_type": "code",
   "execution_count": 49,
   "metadata": {
    "_kg_hide-input": true,
    "_uuid": "f1bc182e85d3179845ea189977dabe644c8d0f38"
   },
   "outputs": [],
   "source": [
    "for dataset in all_df:\n",
    "    dataset['Title'] = dataset.Name.str.extract(' ([A-Za-z]+)\\.', expand=False)"
   ]
  },
  {
   "cell_type": "markdown",
   "metadata": {
    "_uuid": "046433853aff13b9224b17e6522561894c39ee6a"
   },
   "source": [
    "Let's verify the relationship between `Title` and `Sex`."
   ]
  },
  {
   "cell_type": "code",
   "execution_count": 50,
   "metadata": {
    "_kg_hide-input": true,
    "_uuid": "fa1cd597441f76531639b5ffff32228f64d5f14c"
   },
   "outputs": [
    {
     "data": {
      "text/html": [
       "<div>\n",
       "<style scoped>\n",
       "    .dataframe tbody tr th:only-of-type {\n",
       "        vertical-align: middle;\n",
       "    }\n",
       "\n",
       "    .dataframe tbody tr th {\n",
       "        vertical-align: top;\n",
       "    }\n",
       "\n",
       "    .dataframe thead th {\n",
       "        text-align: right;\n",
       "    }\n",
       "</style>\n",
       "<table border=\"1\" class=\"dataframe\">\n",
       "  <thead>\n",
       "    <tr style=\"text-align: right;\">\n",
       "      <th>Title</th>\n",
       "      <th>Capt</th>\n",
       "      <th>Col</th>\n",
       "      <th>Countess</th>\n",
       "      <th>Don</th>\n",
       "      <th>Dr</th>\n",
       "      <th>Jonkheer</th>\n",
       "      <th>Lady</th>\n",
       "      <th>Major</th>\n",
       "      <th>Master</th>\n",
       "      <th>Miss</th>\n",
       "      <th>Mlle</th>\n",
       "      <th>Mme</th>\n",
       "      <th>Mr</th>\n",
       "      <th>Mrs</th>\n",
       "      <th>Ms</th>\n",
       "      <th>Rev</th>\n",
       "      <th>Sir</th>\n",
       "    </tr>\n",
       "    <tr>\n",
       "      <th>Sex</th>\n",
       "      <th></th>\n",
       "      <th></th>\n",
       "      <th></th>\n",
       "      <th></th>\n",
       "      <th></th>\n",
       "      <th></th>\n",
       "      <th></th>\n",
       "      <th></th>\n",
       "      <th></th>\n",
       "      <th></th>\n",
       "      <th></th>\n",
       "      <th></th>\n",
       "      <th></th>\n",
       "      <th></th>\n",
       "      <th></th>\n",
       "      <th></th>\n",
       "      <th></th>\n",
       "    </tr>\n",
       "  </thead>\n",
       "  <tbody>\n",
       "    <tr>\n",
       "      <th>female</th>\n",
       "      <td>0</td>\n",
       "      <td>0</td>\n",
       "      <td>1</td>\n",
       "      <td>0</td>\n",
       "      <td>1</td>\n",
       "      <td>0</td>\n",
       "      <td>1</td>\n",
       "      <td>0</td>\n",
       "      <td>0</td>\n",
       "      <td>182</td>\n",
       "      <td>2</td>\n",
       "      <td>1</td>\n",
       "      <td>0</td>\n",
       "      <td>125</td>\n",
       "      <td>1</td>\n",
       "      <td>0</td>\n",
       "      <td>0</td>\n",
       "    </tr>\n",
       "    <tr>\n",
       "      <th>male</th>\n",
       "      <td>1</td>\n",
       "      <td>2</td>\n",
       "      <td>0</td>\n",
       "      <td>1</td>\n",
       "      <td>6</td>\n",
       "      <td>1</td>\n",
       "      <td>0</td>\n",
       "      <td>2</td>\n",
       "      <td>40</td>\n",
       "      <td>0</td>\n",
       "      <td>0</td>\n",
       "      <td>0</td>\n",
       "      <td>517</td>\n",
       "      <td>0</td>\n",
       "      <td>0</td>\n",
       "      <td>6</td>\n",
       "      <td>1</td>\n",
       "    </tr>\n",
       "  </tbody>\n",
       "</table>\n",
       "</div>"
      ],
      "text/plain": [
       "Title   Capt  Col  Countess  Don  Dr  Jonkheer ...   Mme   Mr  Mrs  Ms  Rev  Sir\n",
       "Sex                                            ...                              \n",
       "female     0    0         1    0   1         0 ...     1    0  125   1    0    0\n",
       "male       1    2         0    1   6         1 ...     0  517    0   0    6    1\n",
       "\n",
       "[2 rows x 17 columns]"
      ]
     },
     "execution_count": 50,
     "metadata": {},
     "output_type": "execute_result"
    }
   ],
   "source": [
    "np.transpose(pd.crosstab(train_df['Title'], train_df['Sex']))"
   ]
  },
  {
   "cell_type": "markdown",
   "metadata": {
    "_uuid": "ef91a9a66a23cb7cc19c8301c7a5ccc7df7a2d34"
   },
   "source": [
    "There are male only titles: `Capt`, `Col`, `Don`, `Jonkheer`, `Major`, `Master`, `Mr`, `Rev` and `Sir`. \n",
    "As well, there are female only titles: `Countess`, `Lady`, `Miss`,  `Mlle`,  `Mme`, `Mrs`, `Ms`.\n",
    "There is a female `Dr` (and other 6 males).\n",
    "\n",
    "Most of these titles are quite rare. We will either group them as `Rare` or correct them (for example, to reunite all young womens with the title `Miss`.\n",
    "\n",
    "Let's start by grouping all `Miss` and `Mrs` variations under a single name."
   ]
  },
  {
   "cell_type": "code",
   "execution_count": 51,
   "metadata": {
    "_kg_hide-input": true,
    "_uuid": "38b223acf164183892610076ca3fde3b259e4c4a"
   },
   "outputs": [],
   "source": [
    "for dataset in all_df:\n",
    "    #unify `Miss`\n",
    "    dataset['Title'] = dataset['Title'].replace('Mlle', 'Miss')\n",
    "    dataset['Title'] = dataset['Title'].replace('Ms', 'Miss')\n",
    "    #unify `Mrs`\n",
    "    dataset['Title'] = dataset['Title'].replace('Mme', 'Mrs')"
   ]
  },
  {
   "cell_type": "markdown",
   "metadata": {
    "_uuid": "23aa39a21b01e7aec7b1c63d025c84ea97eb01b9"
   },
   "source": [
    "Then, let's set the female Dr as one of the female tipical roles."
   ]
  },
  {
   "cell_type": "code",
   "execution_count": 52,
   "metadata": {
    "_kg_hide-input": true,
    "_uuid": "214e6f1e4fec28b1e3f3a55822fc5a9907f20a6b"
   },
   "outputs": [
    {
     "data": {
      "text/html": [
       "<div>\n",
       "<style scoped>\n",
       "    .dataframe tbody tr th:only-of-type {\n",
       "        vertical-align: middle;\n",
       "    }\n",
       "\n",
       "    .dataframe tbody tr th {\n",
       "        vertical-align: top;\n",
       "    }\n",
       "\n",
       "    .dataframe thead th {\n",
       "        text-align: right;\n",
       "    }\n",
       "</style>\n",
       "<table border=\"1\" class=\"dataframe\">\n",
       "  <thead>\n",
       "    <tr style=\"text-align: right;\">\n",
       "      <th></th>\n",
       "      <th>PassengerId</th>\n",
       "      <th>Survived</th>\n",
       "      <th>Pclass</th>\n",
       "      <th>Name</th>\n",
       "      <th>Sex</th>\n",
       "      <th>Age</th>\n",
       "      <th>SibSp</th>\n",
       "      <th>Parch</th>\n",
       "      <th>Ticket</th>\n",
       "      <th>Fare</th>\n",
       "      <th>Cabin</th>\n",
       "      <th>Embarked</th>\n",
       "      <th>Title</th>\n",
       "    </tr>\n",
       "  </thead>\n",
       "  <tbody>\n",
       "    <tr>\n",
       "      <th>796</th>\n",
       "      <td>797</td>\n",
       "      <td>1</td>\n",
       "      <td>1</td>\n",
       "      <td>Leader, Dr. Alice (Farnham)</td>\n",
       "      <td>female</td>\n",
       "      <td>49.0</td>\n",
       "      <td>0</td>\n",
       "      <td>0</td>\n",
       "      <td>17465</td>\n",
       "      <td>25.9292</td>\n",
       "      <td>D17</td>\n",
       "      <td>S</td>\n",
       "      <td>Dr</td>\n",
       "    </tr>\n",
       "  </tbody>\n",
       "</table>\n",
       "</div>"
      ],
      "text/plain": [
       "     PassengerId  Survived  Pclass  ...   Cabin Embarked  Title\n",
       "796          797         1       1  ...     D17        S     Dr\n",
       "\n",
       "[1 rows x 13 columns]"
      ]
     },
     "execution_count": 52,
     "metadata": {},
     "output_type": "execute_result"
    }
   ],
   "source": [
    "train_df[(train_df['Title'] == 'Dr') & (train_df['Sex'] == 'female')]"
   ]
  },
  {
   "cell_type": "markdown",
   "metadata": {
    "_uuid": "ccd2a83e213e63d472d97f7c60f72c7716f3c056"
   },
   "source": [
    "She is traveling in Cabin `D17` in 1st class. Let's see if she is alone."
   ]
  },
  {
   "cell_type": "code",
   "execution_count": 53,
   "metadata": {
    "_kg_hide-input": true,
    "_uuid": "14785b66e43755e038bb8b4883ef4ea307a998b1"
   },
   "outputs": [
    {
     "data": {
      "text/html": [
       "<div>\n",
       "<style scoped>\n",
       "    .dataframe tbody tr th:only-of-type {\n",
       "        vertical-align: middle;\n",
       "    }\n",
       "\n",
       "    .dataframe tbody tr th {\n",
       "        vertical-align: top;\n",
       "    }\n",
       "\n",
       "    .dataframe thead th {\n",
       "        text-align: right;\n",
       "    }\n",
       "</style>\n",
       "<table border=\"1\" class=\"dataframe\">\n",
       "  <thead>\n",
       "    <tr style=\"text-align: right;\">\n",
       "      <th></th>\n",
       "      <th>PassengerId</th>\n",
       "      <th>Survived</th>\n",
       "      <th>Pclass</th>\n",
       "      <th>Name</th>\n",
       "      <th>Sex</th>\n",
       "      <th>Age</th>\n",
       "      <th>SibSp</th>\n",
       "      <th>Parch</th>\n",
       "      <th>Ticket</th>\n",
       "      <th>Fare</th>\n",
       "      <th>Cabin</th>\n",
       "      <th>Embarked</th>\n",
       "      <th>Title</th>\n",
       "    </tr>\n",
       "  </thead>\n",
       "  <tbody>\n",
       "    <tr>\n",
       "      <th>796</th>\n",
       "      <td>797</td>\n",
       "      <td>1</td>\n",
       "      <td>1</td>\n",
       "      <td>Leader, Dr. Alice (Farnham)</td>\n",
       "      <td>female</td>\n",
       "      <td>49.0</td>\n",
       "      <td>0</td>\n",
       "      <td>0</td>\n",
       "      <td>17465</td>\n",
       "      <td>25.9292</td>\n",
       "      <td>D17</td>\n",
       "      <td>S</td>\n",
       "      <td>Dr</td>\n",
       "    </tr>\n",
       "    <tr>\n",
       "      <th>862</th>\n",
       "      <td>863</td>\n",
       "      <td>1</td>\n",
       "      <td>1</td>\n",
       "      <td>Swift, Mrs. Frederick Joel (Margaret Welles Ba...</td>\n",
       "      <td>female</td>\n",
       "      <td>48.0</td>\n",
       "      <td>0</td>\n",
       "      <td>0</td>\n",
       "      <td>17466</td>\n",
       "      <td>25.9292</td>\n",
       "      <td>D17</td>\n",
       "      <td>S</td>\n",
       "      <td>Mrs</td>\n",
       "    </tr>\n",
       "  </tbody>\n",
       "</table>\n",
       "</div>"
      ],
      "text/plain": [
       "     PassengerId  Survived  Pclass  ...   Cabin Embarked  Title\n",
       "796          797         1       1  ...     D17        S     Dr\n",
       "862          863         1       1  ...     D17        S    Mrs\n",
       "\n",
       "[2 rows x 13 columns]"
      ]
     },
     "execution_count": 53,
     "metadata": {},
     "output_type": "execute_result"
    }
   ],
   "source": [
    "train_df[train_df['Cabin']=='D17']"
   ]
  },
  {
   "cell_type": "markdown",
   "metadata": {
    "_uuid": "f46f4cf0e4b159201772351ac0429a7512ef835a"
   },
   "source": [
    "Because she is traveling with a friend about the same age and with a `Mrs` title, we might want to set her as well as a `Mrs`. Let's do it."
   ]
  },
  {
   "cell_type": "code",
   "execution_count": 54,
   "metadata": {
    "_kg_hide-input": true,
    "_uuid": "2dbf305220077f681bcb55e53790e95522d9e864"
   },
   "outputs": [],
   "source": [
    "train_df.loc[train_df.PassengerId == 797, 'Title'] = 'Mrs'"
   ]
  },
  {
   "cell_type": "markdown",
   "metadata": {
    "_uuid": "8e64fd541fd7ff88c90ccaedf44e23ceb4417282"
   },
   "source": [
    "Let's check if this worked well."
   ]
  },
  {
   "cell_type": "code",
   "execution_count": 55,
   "metadata": {
    "_kg_hide-input": true,
    "_uuid": "c530102f71c2147b1f975994cc2e73e4c21b488b"
   },
   "outputs": [
    {
     "data": {
      "text/html": [
       "<div>\n",
       "<style scoped>\n",
       "    .dataframe tbody tr th:only-of-type {\n",
       "        vertical-align: middle;\n",
       "    }\n",
       "\n",
       "    .dataframe tbody tr th {\n",
       "        vertical-align: top;\n",
       "    }\n",
       "\n",
       "    .dataframe thead th {\n",
       "        text-align: right;\n",
       "    }\n",
       "</style>\n",
       "<table border=\"1\" class=\"dataframe\">\n",
       "  <thead>\n",
       "    <tr style=\"text-align: right;\">\n",
       "      <th></th>\n",
       "      <th>PassengerId</th>\n",
       "      <th>Survived</th>\n",
       "      <th>Pclass</th>\n",
       "      <th>Name</th>\n",
       "      <th>Sex</th>\n",
       "      <th>Age</th>\n",
       "      <th>SibSp</th>\n",
       "      <th>Parch</th>\n",
       "      <th>Ticket</th>\n",
       "      <th>Fare</th>\n",
       "      <th>Cabin</th>\n",
       "      <th>Embarked</th>\n",
       "      <th>Title</th>\n",
       "    </tr>\n",
       "  </thead>\n",
       "  <tbody>\n",
       "    <tr>\n",
       "      <th>796</th>\n",
       "      <td>797</td>\n",
       "      <td>1</td>\n",
       "      <td>1</td>\n",
       "      <td>Leader, Dr. Alice (Farnham)</td>\n",
       "      <td>female</td>\n",
       "      <td>49.0</td>\n",
       "      <td>0</td>\n",
       "      <td>0</td>\n",
       "      <td>17465</td>\n",
       "      <td>25.9292</td>\n",
       "      <td>D17</td>\n",
       "      <td>S</td>\n",
       "      <td>Mrs</td>\n",
       "    </tr>\n",
       "    <tr>\n",
       "      <th>862</th>\n",
       "      <td>863</td>\n",
       "      <td>1</td>\n",
       "      <td>1</td>\n",
       "      <td>Swift, Mrs. Frederick Joel (Margaret Welles Ba...</td>\n",
       "      <td>female</td>\n",
       "      <td>48.0</td>\n",
       "      <td>0</td>\n",
       "      <td>0</td>\n",
       "      <td>17466</td>\n",
       "      <td>25.9292</td>\n",
       "      <td>D17</td>\n",
       "      <td>S</td>\n",
       "      <td>Mrs</td>\n",
       "    </tr>\n",
       "  </tbody>\n",
       "</table>\n",
       "</div>"
      ],
      "text/plain": [
       "     PassengerId  Survived  Pclass  ...   Cabin Embarked  Title\n",
       "796          797         1       1  ...     D17        S    Mrs\n",
       "862          863         1       1  ...     D17        S    Mrs\n",
       "\n",
       "[2 rows x 13 columns]"
      ]
     },
     "execution_count": 55,
     "metadata": {},
     "output_type": "execute_result"
    }
   ],
   "source": [
    "train_df[train_df['Cabin']=='D17']"
   ]
  },
  {
   "cell_type": "markdown",
   "metadata": {
    "_uuid": "3d797774cfcb16f4eab6914bcd4f35b26510e239"
   },
   "source": [
    "We succesfully set passenger #797 as a `Mrs`.\n",
    "\n",
    "Let's also group all the rare titles under a `Rare` title:"
   ]
  },
  {
   "cell_type": "code",
   "execution_count": 56,
   "metadata": {
    "_kg_hide-input": true,
    "_uuid": "e7e26e05723591cffd2b7c56c8dbb30d2d1ddc91"
   },
   "outputs": [],
   "source": [
    "for dataset in all_df:\n",
    "    dataset['Title'] = dataset['Title'].replace(['Lady', 'Countess','Capt', 'Col',\\\n",
    "     'Don', 'Dr', 'Major', 'Rev', 'Sir', 'Jonkheer', 'Dona'], 'Rare')"
   ]
  },
  {
   "cell_type": "markdown",
   "metadata": {
    "_uuid": "6e4318b5049cb82cbb1f9549ed064c65156e1efe"
   },
   "source": [
    "Let's verify the average survival ratio for the passengers with the aggregated titles and sex."
   ]
  },
  {
   "cell_type": "code",
   "execution_count": 57,
   "metadata": {
    "_kg_hide-input": true,
    "_uuid": "550cb26ece596a8d74f5991d4a52f58e38846c37"
   },
   "outputs": [
    {
     "data": {
      "text/html": [
       "<div>\n",
       "<style scoped>\n",
       "    .dataframe tbody tr th:only-of-type {\n",
       "        vertical-align: middle;\n",
       "    }\n",
       "\n",
       "    .dataframe tbody tr th {\n",
       "        vertical-align: top;\n",
       "    }\n",
       "\n",
       "    .dataframe thead th {\n",
       "        text-align: right;\n",
       "    }\n",
       "</style>\n",
       "<table border=\"1\" class=\"dataframe\">\n",
       "  <thead>\n",
       "    <tr style=\"text-align: right;\">\n",
       "      <th></th>\n",
       "      <th>Title</th>\n",
       "      <th>Sex</th>\n",
       "      <th>Survived</th>\n",
       "    </tr>\n",
       "  </thead>\n",
       "  <tbody>\n",
       "    <tr>\n",
       "      <th>0</th>\n",
       "      <td>Master</td>\n",
       "      <td>male</td>\n",
       "      <td>0.575000</td>\n",
       "    </tr>\n",
       "    <tr>\n",
       "      <th>1</th>\n",
       "      <td>Miss</td>\n",
       "      <td>female</td>\n",
       "      <td>0.702703</td>\n",
       "    </tr>\n",
       "    <tr>\n",
       "      <th>2</th>\n",
       "      <td>Mr</td>\n",
       "      <td>male</td>\n",
       "      <td>0.156673</td>\n",
       "    </tr>\n",
       "    <tr>\n",
       "      <th>3</th>\n",
       "      <td>Mrs</td>\n",
       "      <td>female</td>\n",
       "      <td>0.795276</td>\n",
       "    </tr>\n",
       "    <tr>\n",
       "      <th>4</th>\n",
       "      <td>Rare</td>\n",
       "      <td>female</td>\n",
       "      <td>1.000000</td>\n",
       "    </tr>\n",
       "    <tr>\n",
       "      <th>5</th>\n",
       "      <td>Rare</td>\n",
       "      <td>male</td>\n",
       "      <td>0.250000</td>\n",
       "    </tr>\n",
       "  </tbody>\n",
       "</table>\n",
       "</div>"
      ],
      "text/plain": [
       "    Title     Sex  Survived\n",
       "0  Master    male  0.575000\n",
       "1    Miss  female  0.702703\n",
       "2      Mr    male  0.156673\n",
       "3     Mrs  female  0.795276\n",
       "4    Rare  female  1.000000\n",
       "5    Rare    male  0.250000"
      ]
     },
     "execution_count": 57,
     "metadata": {},
     "output_type": "execute_result"
    }
   ],
   "source": [
    "train_df[['Title', 'Sex', 'Survived']].groupby(['Title', 'Sex'], as_index=False).mean()"
   ]
  },
  {
   "cell_type": "code",
   "execution_count": 58,
   "metadata": {
    "_kg_hide-input": true,
    "_uuid": "c15ca9e979c04417d03399c812d51968638cde12"
   },
   "outputs": [
    {
     "data": {
      "application/vnd.plotly.v1+json": {
       "config": {
        "linkText": "Export to plot.ly",
        "plotlyServerURL": "https://plot.ly",
        "showLink": false
       },
       "data": [
        {
         "marker": {
          "color": "Blue"
         },
         "name": "Survived",
         "text": [
          130.0,
          101.0,
          81.0,
          23.0,
          7.0
         ],
         "type": "bar",
         "uid": "9b1d826b-8e4e-43d7-b320-b41807f6e680",
         "x": [
          "Miss",
          "Mrs",
          "Mr",
          "Master",
          "Rare"
         ],
         "y": [
          130,
          101,
          81,
          23,
          7
         ]
        },
        {
         "marker": {
          "color": "Red"
         },
         "name": "Not survived",
         "text": [
          130.0,
          101.0,
          81.0,
          23.0,
          7.0
         ],
         "type": "bar",
         "uid": "8d864b6b-7c45-4ba3-86e7-f270696c59f9",
         "x": [
          "Mr",
          "Miss",
          "Mrs",
          "Master",
          "Rare"
         ],
         "y": [
          436,
          55,
          26,
          17,
          15
         ]
        }
       ],
       "layout": {
        "hovermode": "closest",
        "title": {
         "text": "Number of survived and not survived passengers by Title"
        },
        "xaxis": {
         "showticklabels": true,
         "title": {
          "text": "Title"
         }
        },
        "yaxis": {
         "title": {
          "text": "Number of passengers"
         }
        }
       }
      },
      "text/html": [
       "<div id=\"0bbd02a4-40b9-4a89-87d1-ed6d2a437803\" style=\"height: 525px; width: 100%;\" class=\"plotly-graph-div\"></div><script type=\"text/javascript\">require([\"plotly\"], function(Plotly) { window.PLOTLYENV=window.PLOTLYENV || {};window.PLOTLYENV.BASE_URL=\"https://plot.ly\";Plotly.newPlot(\"0bbd02a4-40b9-4a89-87d1-ed6d2a437803\", [{\"marker\": {\"color\": \"Blue\"}, \"name\": \"Survived\", \"text\": [130.0, 101.0, 81.0, 23.0, 7.0], \"x\": [\"Miss\", \"Mrs\", \"Mr\", \"Master\", \"Rare\"], \"y\": [130, 101, 81, 23, 7], \"type\": \"bar\", \"uid\": \"d2cc7182-d85a-4cb3-bf3a-3228f8217ed0\"}, {\"marker\": {\"color\": \"Red\"}, \"name\": \"Not survived\", \"text\": [130.0, 101.0, 81.0, 23.0, 7.0], \"x\": [\"Mr\", \"Miss\", \"Mrs\", \"Master\", \"Rare\"], \"y\": [436, 55, 26, 17, 15], \"type\": \"bar\", \"uid\": \"f2b31f59-1567-414d-9602-47603ff737e8\"}], {\"hovermode\": \"closest\", \"title\": {\"text\": \"Number of survived and not survived passengers by Title\"}, \"xaxis\": {\"showticklabels\": true, \"title\": {\"text\": \"Title\"}}, \"yaxis\": {\"title\": {\"text\": \"Number of passengers\"}}}, {\"showLink\": false, \"linkText\": \"Export to plot.ly\", \"plotlyServerURL\": \"https://plot.ly\"})});</script><script type=\"text/javascript\">window.addEventListener(\"resize\", function(){window._Plotly.Plots.resize(document.getElementById(\"0bbd02a4-40b9-4a89-87d1-ed6d2a437803\"));});</script>"
      ],
      "text/vnd.plotly.v1+html": [
       "<div id=\"0bbd02a4-40b9-4a89-87d1-ed6d2a437803\" style=\"height: 525px; width: 100%;\" class=\"plotly-graph-div\"></div><script type=\"text/javascript\">require([\"plotly\"], function(Plotly) { window.PLOTLYENV=window.PLOTLYENV || {};window.PLOTLYENV.BASE_URL=\"https://plot.ly\";Plotly.newPlot(\"0bbd02a4-40b9-4a89-87d1-ed6d2a437803\", [{\"marker\": {\"color\": \"Blue\"}, \"name\": \"Survived\", \"text\": [130.0, 101.0, 81.0, 23.0, 7.0], \"x\": [\"Miss\", \"Mrs\", \"Mr\", \"Master\", \"Rare\"], \"y\": [130, 101, 81, 23, 7], \"type\": \"bar\", \"uid\": \"d2cc7182-d85a-4cb3-bf3a-3228f8217ed0\"}, {\"marker\": {\"color\": \"Red\"}, \"name\": \"Not survived\", \"text\": [130.0, 101.0, 81.0, 23.0, 7.0], \"x\": [\"Mr\", \"Miss\", \"Mrs\", \"Master\", \"Rare\"], \"y\": [436, 55, 26, 17, 15], \"type\": \"bar\", \"uid\": \"f2b31f59-1567-414d-9602-47603ff737e8\"}], {\"hovermode\": \"closest\", \"title\": {\"text\": \"Number of survived and not survived passengers by Title\"}, \"xaxis\": {\"showticklabels\": true, \"title\": {\"text\": \"Title\"}}, \"yaxis\": {\"title\": {\"text\": \"Number of passengers\"}}}, {\"showLink\": false, \"linkText\": \"Export to plot.ly\", \"plotlyServerURL\": \"https://plot.ly\"})});</script><script type=\"text/javascript\">window.addEventListener(\"resize\", function(){window._Plotly.Plots.resize(document.getElementById(\"0bbd02a4-40b9-4a89-87d1-ed6d2a437803\"));});</script>"
      ]
     },
     "metadata": {},
     "output_type": "display_data"
    }
   ],
   "source": [
    "plot_survived_bar(get_survived_categories(train_df,'Title'), 'Title')"
   ]
  },
  {
   "cell_type": "markdown",
   "metadata": {
    "_uuid": "cce87bab2e5326bdc6aa27ae7824956bdd61e24c"
   },
   "source": [
    "  All rare female titles were saved.   \n",
    "  Married females had the highest survival rate besides these very rare cases, of 79%. Young unmarried women followed with 70% survival rate. \n",
    "  Lowest survival rate had the men with `Mr` title. \n",
    "  Between men, the ones with `Master` title had a much higher survival rate than  these, with 57%."
   ]
  },
  {
   "cell_type": "markdown",
   "metadata": {
    "_uuid": "f7dd85a52125024e48ceb50607d38afd265f3eec"
   },
   "source": [
    "## <a id='42'>Build families</a>\n",
    "\n",
    "\n",
    "### Calculate Family Size\n",
    "\n",
    "From `SibSp` and `Parch` we create a new feature, `FamilySize`."
   ]
  },
  {
   "cell_type": "code",
   "execution_count": 59,
   "metadata": {
    "_kg_hide-input": true,
    "_uuid": "8e4fde3d3eed531a8f0cd9b3e225ebe3359ab913"
   },
   "outputs": [],
   "source": [
    "for dataset in all_df:\n",
    "    dataset['FamilySize'] = dataset['SibSp'] + dataset['Parch'] + 1"
   ]
  },
  {
   "cell_type": "markdown",
   "metadata": {
    "_uuid": "8838f8e94514e83a7b7d92efd9775fd6f7411d81"
   },
   "source": [
    "Let's check the correlation between family size and survival rate."
   ]
  },
  {
   "cell_type": "code",
   "execution_count": 60,
   "metadata": {
    "_kg_hide-input": true,
    "_uuid": "388f322d49487c11b179b38c75707a7f4d0091f1"
   },
   "outputs": [
    {
     "data": {
      "text/html": [
       "<div>\n",
       "<style scoped>\n",
       "    .dataframe tbody tr th:only-of-type {\n",
       "        vertical-align: middle;\n",
       "    }\n",
       "\n",
       "    .dataframe tbody tr th {\n",
       "        vertical-align: top;\n",
       "    }\n",
       "\n",
       "    .dataframe thead th {\n",
       "        text-align: right;\n",
       "    }\n",
       "</style>\n",
       "<table border=\"1\" class=\"dataframe\">\n",
       "  <thead>\n",
       "    <tr style=\"text-align: right;\">\n",
       "      <th></th>\n",
       "      <th>FamilySize</th>\n",
       "      <th>Survived</th>\n",
       "    </tr>\n",
       "  </thead>\n",
       "  <tbody>\n",
       "    <tr>\n",
       "      <th>0</th>\n",
       "      <td>1</td>\n",
       "      <td>0.303538</td>\n",
       "    </tr>\n",
       "    <tr>\n",
       "      <th>1</th>\n",
       "      <td>2</td>\n",
       "      <td>0.552795</td>\n",
       "    </tr>\n",
       "    <tr>\n",
       "      <th>2</th>\n",
       "      <td>3</td>\n",
       "      <td>0.578431</td>\n",
       "    </tr>\n",
       "    <tr>\n",
       "      <th>3</th>\n",
       "      <td>4</td>\n",
       "      <td>0.724138</td>\n",
       "    </tr>\n",
       "    <tr>\n",
       "      <th>4</th>\n",
       "      <td>5</td>\n",
       "      <td>0.200000</td>\n",
       "    </tr>\n",
       "    <tr>\n",
       "      <th>5</th>\n",
       "      <td>6</td>\n",
       "      <td>0.136364</td>\n",
       "    </tr>\n",
       "    <tr>\n",
       "      <th>6</th>\n",
       "      <td>7</td>\n",
       "      <td>0.333333</td>\n",
       "    </tr>\n",
       "    <tr>\n",
       "      <th>7</th>\n",
       "      <td>8</td>\n",
       "      <td>0.000000</td>\n",
       "    </tr>\n",
       "    <tr>\n",
       "      <th>8</th>\n",
       "      <td>11</td>\n",
       "      <td>0.000000</td>\n",
       "    </tr>\n",
       "  </tbody>\n",
       "</table>\n",
       "</div>"
      ],
      "text/plain": [
       "   FamilySize  Survived\n",
       "0           1  0.303538\n",
       "1           2  0.552795\n",
       "2           3  0.578431\n",
       "3           4  0.724138\n",
       "4           5  0.200000\n",
       "5           6  0.136364\n",
       "6           7  0.333333\n",
       "7           8  0.000000\n",
       "8          11  0.000000"
      ]
     },
     "execution_count": 60,
     "metadata": {},
     "output_type": "execute_result"
    }
   ],
   "source": [
    "train_df[['FamilySize', 'Survived']].groupby(['FamilySize'], as_index=False).mean()"
   ]
  },
  {
   "cell_type": "code",
   "execution_count": 61,
   "metadata": {
    "_uuid": "c252647e56851bff81fe9ccf292c4364c8dbdc36"
   },
   "outputs": [
    {
     "data": {
      "application/vnd.plotly.v1+json": {
       "config": {
        "linkText": "Export to plot.ly",
        "plotlyServerURL": "https://plot.ly",
        "showLink": false
       },
       "data": [
        {
         "marker": {
          "color": "Blue"
         },
         "name": "Survived",
         "text": [
          163.0,
          89.0,
          59.0,
          21.0,
          4.0,
          3.0,
          3.0
         ],
         "type": "bar",
         "uid": "55dcc9ca-6d4a-4fe2-a889-194360f24a0b",
         "x": [
          1,
          2,
          3,
          4,
          7,
          5,
          6
         ],
         "y": [
          163,
          89,
          59,
          21,
          4,
          3,
          3
         ]
        },
        {
         "marker": {
          "color": "Red"
         },
         "name": "Not survived",
         "text": [
          163.0,
          89.0,
          59.0,
          21.0,
          4.0,
          3.0,
          3.0
         ],
         "type": "bar",
         "uid": "0ea3c6fb-97b2-452b-abf7-be542c5b9b96",
         "x": [
          1,
          2,
          3,
          6,
          5,
          4,
          7,
          11,
          8
         ],
         "y": [
          374,
          72,
          43,
          19,
          12,
          8,
          8,
          7,
          6
         ]
        }
       ],
       "layout": {
        "hovermode": "closest",
        "title": {
         "text": "Number of survived and not survived passengers by FamilySize"
        },
        "xaxis": {
         "showticklabels": true,
         "title": {
          "text": "FamilySize"
         }
        },
        "yaxis": {
         "title": {
          "text": "Number of passengers"
         }
        }
       }
      },
      "text/html": [
       "<div id=\"d68d5542-13e2-4325-b0ec-e45c958be1b9\" style=\"height: 525px; width: 100%;\" class=\"plotly-graph-div\"></div><script type=\"text/javascript\">require([\"plotly\"], function(Plotly) { window.PLOTLYENV=window.PLOTLYENV || {};window.PLOTLYENV.BASE_URL=\"https://plot.ly\";Plotly.newPlot(\"d68d5542-13e2-4325-b0ec-e45c958be1b9\", [{\"marker\": {\"color\": \"Blue\"}, \"name\": \"Survived\", \"text\": [163.0, 89.0, 59.0, 21.0, 4.0, 3.0, 3.0], \"x\": [1, 2, 3, 4, 7, 5, 6], \"y\": [163, 89, 59, 21, 4, 3, 3], \"type\": \"bar\", \"uid\": \"a6747809-0d15-4a6b-9f7f-b9e65d3f9947\"}, {\"marker\": {\"color\": \"Red\"}, \"name\": \"Not survived\", \"text\": [163.0, 89.0, 59.0, 21.0, 4.0, 3.0, 3.0], \"x\": [1, 2, 3, 6, 5, 4, 7, 11, 8], \"y\": [374, 72, 43, 19, 12, 8, 8, 7, 6], \"type\": \"bar\", \"uid\": \"896ab920-4e32-4433-930c-4f277e9383ed\"}], {\"hovermode\": \"closest\", \"title\": {\"text\": \"Number of survived and not survived passengers by FamilySize\"}, \"xaxis\": {\"showticklabels\": true, \"title\": {\"text\": \"FamilySize\"}}, \"yaxis\": {\"title\": {\"text\": \"Number of passengers\"}}}, {\"showLink\": false, \"linkText\": \"Export to plot.ly\", \"plotlyServerURL\": \"https://plot.ly\"})});</script><script type=\"text/javascript\">window.addEventListener(\"resize\", function(){window._Plotly.Plots.resize(document.getElementById(\"d68d5542-13e2-4325-b0ec-e45c958be1b9\"));});</script>"
      ],
      "text/vnd.plotly.v1+html": [
       "<div id=\"d68d5542-13e2-4325-b0ec-e45c958be1b9\" style=\"height: 525px; width: 100%;\" class=\"plotly-graph-div\"></div><script type=\"text/javascript\">require([\"plotly\"], function(Plotly) { window.PLOTLYENV=window.PLOTLYENV || {};window.PLOTLYENV.BASE_URL=\"https://plot.ly\";Plotly.newPlot(\"d68d5542-13e2-4325-b0ec-e45c958be1b9\", [{\"marker\": {\"color\": \"Blue\"}, \"name\": \"Survived\", \"text\": [163.0, 89.0, 59.0, 21.0, 4.0, 3.0, 3.0], \"x\": [1, 2, 3, 4, 7, 5, 6], \"y\": [163, 89, 59, 21, 4, 3, 3], \"type\": \"bar\", \"uid\": \"a6747809-0d15-4a6b-9f7f-b9e65d3f9947\"}, {\"marker\": {\"color\": \"Red\"}, \"name\": \"Not survived\", \"text\": [163.0, 89.0, 59.0, 21.0, 4.0, 3.0, 3.0], \"x\": [1, 2, 3, 6, 5, 4, 7, 11, 8], \"y\": [374, 72, 43, 19, 12, 8, 8, 7, 6], \"type\": \"bar\", \"uid\": \"896ab920-4e32-4433-930c-4f277e9383ed\"}], {\"hovermode\": \"closest\", \"title\": {\"text\": \"Number of survived and not survived passengers by FamilySize\"}, \"xaxis\": {\"showticklabels\": true, \"title\": {\"text\": \"FamilySize\"}}, \"yaxis\": {\"title\": {\"text\": \"Number of passengers\"}}}, {\"showLink\": false, \"linkText\": \"Export to plot.ly\", \"plotlyServerURL\": \"https://plot.ly\"})});</script><script type=\"text/javascript\">window.addEventListener(\"resize\", function(){window._Plotly.Plots.resize(document.getElementById(\"d68d5542-13e2-4325-b0ec-e45c958be1b9\"));});</script>"
      ]
     },
     "metadata": {},
     "output_type": "display_data"
    }
   ],
   "source": [
    "plot_survived_bar(get_survived_categories(train_df,'FamilySize'), 'FamilySize')"
   ]
  },
  {
   "cell_type": "markdown",
   "metadata": {
    "_uuid": "5f346e7c026551bad1e5039f54927656dd5e7a7f"
   },
   "source": [
    "Unmarried passengers and passengers with very large families had the lowest survival rate (30% singles and less than 20% the family members with families larger than 5). This can be explained by the fact that singles were most probably mens in lower classes while families with small number of children most probably saved at least a part of them (for example the mother with the childrens) cooperating between them to ensure salvation. Large families might had lower survival rates due to various reasons, including maybe difficulties to coordinate or more difficult decision on whom to embark on the boats (if not possible for all to embark). Another reason for larger families to survive might be related with the class."
   ]
  },
  {
   "cell_type": "markdown",
   "metadata": {
    "_uuid": "c52997ee94789acfbd284a4361341d5675ccd1e1"
   },
   "source": [
    "### Identify families by surname\n",
    "\n",
    "Let's also try to aggregate families by surname. For this, we will extract the surname from Name."
   ]
  },
  {
   "cell_type": "code",
   "execution_count": 62,
   "metadata": {
    "_kg_hide-input": true,
    "_uuid": "2549247af8f87698fa271a1e08376f77d71b6856"
   },
   "outputs": [],
   "source": [
    "for dataset in all_df:\n",
    "    dataset['Surname'] = dataset.Name.str.extract('([A-Za-z]+)\\,', expand=False)"
   ]
  },
  {
   "cell_type": "code",
   "execution_count": 63,
   "metadata": {
    "_kg_hide-input": true,
    "_uuid": "5298ac133c43dc9566f09fc7beb8246a9a284a04"
   },
   "outputs": [],
   "source": [
    "tmp = train_df.groupby(['Surname'])['Survived'].value_counts()\n",
    "df = pd.DataFrame(data={'Size of group with same Surname': tmp.values}, index=tmp.index).reset_index().sort_values(['Size of group with same Surname', 'Surname'], ascending=False)"
   ]
  },
  {
   "cell_type": "code",
   "execution_count": 64,
   "metadata": {
    "_kg_hide-input": true,
    "_uuid": "a6e0092b464c6fed310054173fa1fe6a283d590e"
   },
   "outputs": [
    {
     "data": {
      "text/html": [
       "<div>\n",
       "<style scoped>\n",
       "    .dataframe tbody tr th:only-of-type {\n",
       "        vertical-align: middle;\n",
       "    }\n",
       "\n",
       "    .dataframe tbody tr th {\n",
       "        vertical-align: top;\n",
       "    }\n",
       "\n",
       "    .dataframe thead th {\n",
       "        text-align: right;\n",
       "    }\n",
       "</style>\n",
       "<table border=\"1\" class=\"dataframe\">\n",
       "  <thead>\n",
       "    <tr style=\"text-align: right;\">\n",
       "      <th></th>\n",
       "      <th>Size of group with same Surname</th>\n",
       "      <th>Survived</th>\n",
       "      <th>Number</th>\n",
       "    </tr>\n",
       "  </thead>\n",
       "  <tbody>\n",
       "    <tr>\n",
       "      <th>10</th>\n",
       "      <td>7</td>\n",
       "      <td>0</td>\n",
       "      <td>2</td>\n",
       "    </tr>\n",
       "    <tr>\n",
       "      <th>9</th>\n",
       "      <td>6</td>\n",
       "      <td>0</td>\n",
       "      <td>3</td>\n",
       "    </tr>\n",
       "    <tr>\n",
       "      <th>8</th>\n",
       "      <td>5</td>\n",
       "      <td>0</td>\n",
       "      <td>1</td>\n",
       "    </tr>\n",
       "    <tr>\n",
       "      <th>7</th>\n",
       "      <td>4</td>\n",
       "      <td>1</td>\n",
       "      <td>2</td>\n",
       "    </tr>\n",
       "    <tr>\n",
       "      <th>6</th>\n",
       "      <td>4</td>\n",
       "      <td>0</td>\n",
       "      <td>4</td>\n",
       "    </tr>\n",
       "    <tr>\n",
       "      <th>5</th>\n",
       "      <td>3</td>\n",
       "      <td>1</td>\n",
       "      <td>6</td>\n",
       "    </tr>\n",
       "    <tr>\n",
       "      <th>4</th>\n",
       "      <td>3</td>\n",
       "      <td>0</td>\n",
       "      <td>13</td>\n",
       "    </tr>\n",
       "    <tr>\n",
       "      <th>2</th>\n",
       "      <td>2</td>\n",
       "      <td>1</td>\n",
       "      <td>44</td>\n",
       "    </tr>\n",
       "    <tr>\n",
       "      <th>3</th>\n",
       "      <td>2</td>\n",
       "      <td>0</td>\n",
       "      <td>37</td>\n",
       "    </tr>\n",
       "    <tr>\n",
       "      <th>1</th>\n",
       "      <td>1</td>\n",
       "      <td>1</td>\n",
       "      <td>228</td>\n",
       "    </tr>\n",
       "    <tr>\n",
       "      <th>0</th>\n",
       "      <td>1</td>\n",
       "      <td>0</td>\n",
       "      <td>383</td>\n",
       "    </tr>\n",
       "  </tbody>\n",
       "</table>\n",
       "</div>"
      ],
      "text/plain": [
       "    Size of group with same Surname  Survived  Number\n",
       "10                                7         0       2\n",
       "9                                 6         0       3\n",
       "8                                 5         0       1\n",
       "7                                 4         1       2\n",
       "6                                 4         0       4\n",
       "5                                 3         1       6\n",
       "4                                 3         0      13\n",
       "2                                 2         1      44\n",
       "3                                 2         0      37\n",
       "1                                 1         1     228\n",
       "0                                 1         0     383"
      ]
     },
     "execution_count": 64,
     "metadata": {},
     "output_type": "execute_result"
    }
   ],
   "source": [
    "tmp = df.groupby(['Size of group with same Surname'])['Survived'].value_counts()\n",
    "df = pd.DataFrame(data={'Number': tmp.values}, index=tmp.index).reset_index().sort_values(['Size of group with same Surname', 'Survived'], ascending=False)\n",
    "df"
   ]
  },
  {
   "cell_type": "code",
   "execution_count": 65,
   "metadata": {
    "_kg_hide-input": true,
    "_uuid": "76f7488045b171461fa89987bdd029b691e87ad6"
   },
   "outputs": [
    {
     "data": {
      "application/vnd.plotly.v1+json": {
       "config": {
        "linkText": "Export to plot.ly",
        "plotlyServerURL": "https://plot.ly",
        "showLink": false
       },
       "data": [
        {
         "marker": {
          "color": "Blue"
         },
         "name": "Survived",
         "text": [
          2.0,
          6.0,
          44.0,
          228.0
         ],
         "type": "bar",
         "uid": "479370e4-d006-4a14-b2ee-7c2334f6f972",
         "x": [
          4,
          3,
          2,
          1
         ],
         "y": [
          2,
          6,
          44,
          228
         ]
        },
        {
         "marker": {
          "color": "Red"
         },
         "name": "Not survived",
         "text": [
          2.0,
          6.0,
          44.0,
          228.0
         ],
         "type": "bar",
         "uid": "7b7dad69-1b09-4ff1-950a-2a06d4d997ab",
         "x": [
          7,
          6,
          5,
          4,
          3,
          2,
          1
         ],
         "y": [
          2,
          3,
          1,
          4,
          13,
          37,
          383
         ]
        }
       ],
       "layout": {
        "hovermode": "closest",
        "title": {
         "text": "Number of survived and not survived groups by Size of group with same Surname"
        },
        "xaxis": {
         "showticklabels": true,
         "title": {
          "text": "Size of group with same Surname"
         }
        },
        "yaxis": {
         "title": {
          "text": "Number of groups"
         }
        }
       }
      },
      "text/html": [
       "<div id=\"053f1aaa-c61a-4855-bbb8-b751c697cd65\" style=\"height: 525px; width: 100%;\" class=\"plotly-graph-div\"></div><script type=\"text/javascript\">require([\"plotly\"], function(Plotly) { window.PLOTLYENV=window.PLOTLYENV || {};window.PLOTLYENV.BASE_URL=\"https://plot.ly\";Plotly.newPlot(\"053f1aaa-c61a-4855-bbb8-b751c697cd65\", [{\"marker\": {\"color\": \"Blue\"}, \"name\": \"Survived\", \"text\": [2.0, 6.0, 44.0, 228.0], \"x\": [4, 3, 2, 1], \"y\": [2, 6, 44, 228], \"type\": \"bar\", \"uid\": \"65d22c2e-cadb-4626-94df-13c4b8d403d7\"}, {\"marker\": {\"color\": \"Red\"}, \"name\": \"Not survived\", \"text\": [2.0, 6.0, 44.0, 228.0], \"x\": [7, 6, 5, 4, 3, 2, 1], \"y\": [2, 3, 1, 4, 13, 37, 383], \"type\": \"bar\", \"uid\": \"cc0f8fcd-96d9-4398-b337-91a128b48199\"}], {\"hovermode\": \"closest\", \"title\": {\"text\": \"Number of survived and not survived groups by Size of group with same Surname\"}, \"xaxis\": {\"showticklabels\": true, \"title\": {\"text\": \"Size of group with same Surname\"}}, \"yaxis\": {\"title\": {\"text\": \"Number of groups\"}}}, {\"showLink\": false, \"linkText\": \"Export to plot.ly\", \"plotlyServerURL\": \"https://plot.ly\"})});</script><script type=\"text/javascript\">window.addEventListener(\"resize\", function(){window._Plotly.Plots.resize(document.getElementById(\"053f1aaa-c61a-4855-bbb8-b751c697cd65\"));});</script>"
      ],
      "text/vnd.plotly.v1+html": [
       "<div id=\"053f1aaa-c61a-4855-bbb8-b751c697cd65\" style=\"height: 525px; width: 100%;\" class=\"plotly-graph-div\"></div><script type=\"text/javascript\">require([\"plotly\"], function(Plotly) { window.PLOTLYENV=window.PLOTLYENV || {};window.PLOTLYENV.BASE_URL=\"https://plot.ly\";Plotly.newPlot(\"053f1aaa-c61a-4855-bbb8-b751c697cd65\", [{\"marker\": {\"color\": \"Blue\"}, \"name\": \"Survived\", \"text\": [2.0, 6.0, 44.0, 228.0], \"x\": [4, 3, 2, 1], \"y\": [2, 6, 44, 228], \"type\": \"bar\", \"uid\": \"65d22c2e-cadb-4626-94df-13c4b8d403d7\"}, {\"marker\": {\"color\": \"Red\"}, \"name\": \"Not survived\", \"text\": [2.0, 6.0, 44.0, 228.0], \"x\": [7, 6, 5, 4, 3, 2, 1], \"y\": [2, 3, 1, 4, 13, 37, 383], \"type\": \"bar\", \"uid\": \"cc0f8fcd-96d9-4398-b337-91a128b48199\"}], {\"hovermode\": \"closest\", \"title\": {\"text\": \"Number of survived and not survived groups by Size of group with same Surname\"}, \"xaxis\": {\"showticklabels\": true, \"title\": {\"text\": \"Size of group with same Surname\"}}, \"yaxis\": {\"title\": {\"text\": \"Number of groups\"}}}, {\"showLink\": false, \"linkText\": \"Export to plot.ly\", \"plotlyServerURL\": \"https://plot.ly\"})});</script><script type=\"text/javascript\">window.addEventListener(\"resize\", function(){window._Plotly.Plots.resize(document.getElementById(\"053f1aaa-c61a-4855-bbb8-b751c697cd65\"));});</script>"
      ]
     },
     "metadata": {},
     "output_type": "display_data"
    }
   ],
   "source": [
    "plot_survived_bar(df, 'Size of group with same Surname', ytitle= 'Number of groups', title= 'Number of survived and not survived groups by {}')"
   ]
  },
  {
   "cell_type": "markdown",
   "metadata": {
    "_uuid": "f14779497d7de9f660246a66e0761d6937254474"
   },
   "source": [
    "The above graph is not showing the number of families survived or not survived. It is grouping family members that survived and family members that did not survived by Surname (family name). We did not checked if there are several different families with the same name or a family appears with a part of the family members in the survived lot and with a part of the family in the not survived lot (which we know it happens frequently, or example adult men in inferior class did not survived at all)."
   ]
  },
  {
   "cell_type": "markdown",
   "metadata": {
    "_uuid": "92ee3e5caaba78546984b7101ec978dd5e365ef4"
   },
   "source": [
    "## <a id='43'>Extract Deck from Cabin</a>\n",
    "\n",
    "We will extract the deck name from the Cabin name by separating the first character from each cabin name. \n",
    "Unfortunatelly, a very small number of passengers have `Cabin` information therefore also the `Deck` information will be only available for a reduced number of passengers."
   ]
  },
  {
   "cell_type": "code",
   "execution_count": 66,
   "metadata": {
    "_kg_hide-input": true,
    "_uuid": "a419ab2c6d32ac80ba269377b49857b8cf1ca99d"
   },
   "outputs": [],
   "source": [
    "for dataset in all_df:\n",
    "    dataset['Deck'] = dataset.Cabin.str.extract('^([A-Za-z]+)', expand=False)"
   ]
  },
  {
   "cell_type": "code",
   "execution_count": 67,
   "metadata": {
    "_kg_hide-input": true,
    "_uuid": "8aa5b474eaf677823c22edcc7d25568864c2d58f"
   },
   "outputs": [
    {
     "data": {
      "text/html": [
       "<div>\n",
       "<style scoped>\n",
       "    .dataframe tbody tr th:only-of-type {\n",
       "        vertical-align: middle;\n",
       "    }\n",
       "\n",
       "    .dataframe tbody tr th {\n",
       "        vertical-align: top;\n",
       "    }\n",
       "\n",
       "    .dataframe thead th {\n",
       "        text-align: right;\n",
       "    }\n",
       "</style>\n",
       "<table border=\"1\" class=\"dataframe\">\n",
       "  <thead>\n",
       "    <tr style=\"text-align: right;\">\n",
       "      <th></th>\n",
       "      <th>Deck</th>\n",
       "      <th>Survived</th>\n",
       "    </tr>\n",
       "  </thead>\n",
       "  <tbody>\n",
       "    <tr>\n",
       "      <th>0</th>\n",
       "      <td>A</td>\n",
       "      <td>0.466667</td>\n",
       "    </tr>\n",
       "    <tr>\n",
       "      <th>1</th>\n",
       "      <td>B</td>\n",
       "      <td>0.744681</td>\n",
       "    </tr>\n",
       "    <tr>\n",
       "      <th>2</th>\n",
       "      <td>C</td>\n",
       "      <td>0.593220</td>\n",
       "    </tr>\n",
       "    <tr>\n",
       "      <th>3</th>\n",
       "      <td>D</td>\n",
       "      <td>0.757576</td>\n",
       "    </tr>\n",
       "    <tr>\n",
       "      <th>4</th>\n",
       "      <td>E</td>\n",
       "      <td>0.750000</td>\n",
       "    </tr>\n",
       "    <tr>\n",
       "      <th>5</th>\n",
       "      <td>F</td>\n",
       "      <td>0.615385</td>\n",
       "    </tr>\n",
       "    <tr>\n",
       "      <th>6</th>\n",
       "      <td>G</td>\n",
       "      <td>0.500000</td>\n",
       "    </tr>\n",
       "    <tr>\n",
       "      <th>7</th>\n",
       "      <td>T</td>\n",
       "      <td>0.000000</td>\n",
       "    </tr>\n",
       "  </tbody>\n",
       "</table>\n",
       "</div>"
      ],
      "text/plain": [
       "  Deck  Survived\n",
       "0    A  0.466667\n",
       "1    B  0.744681\n",
       "2    C  0.593220\n",
       "3    D  0.757576\n",
       "4    E  0.750000\n",
       "5    F  0.615385\n",
       "6    G  0.500000\n",
       "7    T  0.000000"
      ]
     },
     "execution_count": 67,
     "metadata": {},
     "output_type": "execute_result"
    }
   ],
   "source": [
    "train_df[['Deck', 'Survived']].groupby(['Deck'], as_index=False).mean()"
   ]
  },
  {
   "cell_type": "code",
   "execution_count": 68,
   "metadata": {
    "_kg_hide-input": true,
    "_uuid": "081e381175d120ed11abe654e10276fdfb8be69b"
   },
   "outputs": [
    {
     "data": {
      "application/vnd.plotly.v1+json": {
       "config": {
        "linkText": "Export to plot.ly",
        "plotlyServerURL": "https://plot.ly",
        "showLink": false
       },
       "data": [
        {
         "marker": {
          "color": "Blue"
         },
         "name": "Survived",
         "text": [
          35.0,
          35.0,
          25.0,
          24.0,
          8.0,
          7.0,
          2.0
         ],
         "type": "bar",
         "uid": "a27e6242-50ca-4a5f-95f6-38a3f747ab27",
         "x": [
          "B",
          "C",
          "D",
          "E",
          "F",
          "A",
          "G"
         ],
         "y": [
          35,
          35,
          25,
          24,
          8,
          7,
          2
         ]
        },
        {
         "marker": {
          "color": "Red"
         },
         "name": "Not survived",
         "text": [
          35.0,
          35.0,
          25.0,
          24.0,
          8.0,
          7.0,
          2.0
         ],
         "type": "bar",
         "uid": "949e4625-d820-4bc8-8d3d-b71b43ca8f9c",
         "x": [
          "C",
          "B",
          "A",
          "D",
          "E",
          "F",
          "G",
          "T"
         ],
         "y": [
          24,
          12,
          8,
          8,
          8,
          5,
          2,
          1
         ]
        }
       ],
       "layout": {
        "hovermode": "closest",
        "title": {
         "text": "Number of survived and not survived passengers by Deck"
        },
        "xaxis": {
         "showticklabels": true,
         "title": {
          "text": "Deck"
         }
        },
        "yaxis": {
         "title": {
          "text": "Number of passengers"
         }
        }
       }
      },
      "text/html": [
       "<div id=\"cf7ba146-8786-4d7f-abf9-f71f577b8274\" style=\"height: 525px; width: 100%;\" class=\"plotly-graph-div\"></div><script type=\"text/javascript\">require([\"plotly\"], function(Plotly) { window.PLOTLYENV=window.PLOTLYENV || {};window.PLOTLYENV.BASE_URL=\"https://plot.ly\";Plotly.newPlot(\"cf7ba146-8786-4d7f-abf9-f71f577b8274\", [{\"marker\": {\"color\": \"Blue\"}, \"name\": \"Survived\", \"text\": [35.0, 35.0, 25.0, 24.0, 8.0, 7.0, 2.0], \"x\": [\"B\", \"C\", \"D\", \"E\", \"F\", \"A\", \"G\"], \"y\": [35, 35, 25, 24, 8, 7, 2], \"type\": \"bar\", \"uid\": \"84bc56bb-858d-47c7-ba47-b08c3b8c61e4\"}, {\"marker\": {\"color\": \"Red\"}, \"name\": \"Not survived\", \"text\": [35.0, 35.0, 25.0, 24.0, 8.0, 7.0, 2.0], \"x\": [\"C\", \"B\", \"A\", \"D\", \"E\", \"F\", \"G\", \"T\"], \"y\": [24, 12, 8, 8, 8, 5, 2, 1], \"type\": \"bar\", \"uid\": \"7b476e3f-3eed-4fa7-b4ec-5775a13271ff\"}], {\"hovermode\": \"closest\", \"title\": {\"text\": \"Number of survived and not survived passengers by Deck\"}, \"xaxis\": {\"showticklabels\": true, \"title\": {\"text\": \"Deck\"}}, \"yaxis\": {\"title\": {\"text\": \"Number of passengers\"}}}, {\"showLink\": false, \"linkText\": \"Export to plot.ly\", \"plotlyServerURL\": \"https://plot.ly\"})});</script><script type=\"text/javascript\">window.addEventListener(\"resize\", function(){window._Plotly.Plots.resize(document.getElementById(\"cf7ba146-8786-4d7f-abf9-f71f577b8274\"));});</script>"
      ],
      "text/vnd.plotly.v1+html": [
       "<div id=\"cf7ba146-8786-4d7f-abf9-f71f577b8274\" style=\"height: 525px; width: 100%;\" class=\"plotly-graph-div\"></div><script type=\"text/javascript\">require([\"plotly\"], function(Plotly) { window.PLOTLYENV=window.PLOTLYENV || {};window.PLOTLYENV.BASE_URL=\"https://plot.ly\";Plotly.newPlot(\"cf7ba146-8786-4d7f-abf9-f71f577b8274\", [{\"marker\": {\"color\": \"Blue\"}, \"name\": \"Survived\", \"text\": [35.0, 35.0, 25.0, 24.0, 8.0, 7.0, 2.0], \"x\": [\"B\", \"C\", \"D\", \"E\", \"F\", \"A\", \"G\"], \"y\": [35, 35, 25, 24, 8, 7, 2], \"type\": \"bar\", \"uid\": \"84bc56bb-858d-47c7-ba47-b08c3b8c61e4\"}, {\"marker\": {\"color\": \"Red\"}, \"name\": \"Not survived\", \"text\": [35.0, 35.0, 25.0, 24.0, 8.0, 7.0, 2.0], \"x\": [\"C\", \"B\", \"A\", \"D\", \"E\", \"F\", \"G\", \"T\"], \"y\": [24, 12, 8, 8, 8, 5, 2, 1], \"type\": \"bar\", \"uid\": \"7b476e3f-3eed-4fa7-b4ec-5775a13271ff\"}], {\"hovermode\": \"closest\", \"title\": {\"text\": \"Number of survived and not survived passengers by Deck\"}, \"xaxis\": {\"showticklabels\": true, \"title\": {\"text\": \"Deck\"}}, \"yaxis\": {\"title\": {\"text\": \"Number of passengers\"}}}, {\"showLink\": false, \"linkText\": \"Export to plot.ly\", \"plotlyServerURL\": \"https://plot.ly\"})});</script><script type=\"text/javascript\">window.addEventListener(\"resize\", function(){window._Plotly.Plots.resize(document.getElementById(\"cf7ba146-8786-4d7f-abf9-f71f577b8274\"));});</script>"
      ]
     },
     "metadata": {},
     "output_type": "display_data"
    }
   ],
   "source": [
    "plot_survived_bar(get_survived_categories(train_df,'Deck'), 'Deck')"
   ]
  },
  {
   "cell_type": "markdown",
   "metadata": {
    "_uuid": "a7071236ce17086f3b5bfe84428730c2273251ca"
   },
   "source": [
    "The plot shows just the data for the `Deck` information that could be extracted i.e. where a `Cabin` was defined."
   ]
  },
  {
   "cell_type": "markdown",
   "metadata": {
    "_uuid": "1a7c7c8bb79f0a309d795dd713a909f625db5638"
   },
   "source": [
    "## <a id='44'>Estimate age</a>\n",
    "\n",
    "A relativelly large number of passengers have missing Age information. We will try to estimate this missing information from other available data, `Sex` and `Pclass`. Before doing this, we will also map sex values to numeric values."
   ]
  },
  {
   "cell_type": "code",
   "execution_count": 69,
   "metadata": {
    "_kg_hide-input": true,
    "_uuid": "ef45167393ffbb99794eff61a52bd26a22e9f9ac"
   },
   "outputs": [],
   "source": [
    "for dataset in all_df:\n",
    "    dataset['Sex'] = dataset['Sex'].map( {'female': 1, 'male': 0} ).astype(int)"
   ]
  },
  {
   "cell_type": "code",
   "execution_count": 70,
   "metadata": {
    "_kg_hide-input": true,
    "_uuid": "76f66412c21fc9ee877b42ea0f3103e99986598f"
   },
   "outputs": [],
   "source": [
    "age_aprox = np.zeros((2,3))\n",
    "for dataset in all_df:\n",
    "    for i in range(0, 2):\n",
    "        for j in range(0, 3):\n",
    "            aprox_age = dataset[(dataset['Sex'] == i) & \\\n",
    "                                  (dataset['Pclass'] == j+1)]['Age'].dropna()\n",
    "            age_aprox[i,j] = aprox_age.median()\n",
    "            \n",
    "    for i in range(0, 2):\n",
    "        for j in range(0, 3):\n",
    "            dataset.loc[ (dataset.Age.isnull()) & (dataset.Sex == i) & (dataset.Pclass == j+1),'Age'] = \\\n",
    "                    age_aprox[i,j]\n",
    "\n",
    "    dataset['Age'] = dataset['Age'].astype(int)"
   ]
  },
  {
   "cell_type": "markdown",
   "metadata": {
    "_uuid": "99d44b4bdb713a97275c80c52e1e5c4d0838350c"
   },
   "source": [
    "Now we replaced the missing Age values with the one obtained from the approximations."
   ]
  },
  {
   "cell_type": "code",
   "execution_count": 71,
   "metadata": {
    "_kg_hide-input": true,
    "_uuid": "783bfdbe9969e65a7d87cb42818857d0911c3614"
   },
   "outputs": [
    {
     "data": {
      "text/html": [
       "<div>\n",
       "<style scoped>\n",
       "    .dataframe tbody tr th:only-of-type {\n",
       "        vertical-align: middle;\n",
       "    }\n",
       "\n",
       "    .dataframe tbody tr th {\n",
       "        vertical-align: top;\n",
       "    }\n",
       "\n",
       "    .dataframe thead th {\n",
       "        text-align: right;\n",
       "    }\n",
       "</style>\n",
       "<table border=\"1\" class=\"dataframe\">\n",
       "  <thead>\n",
       "    <tr style=\"text-align: right;\">\n",
       "      <th></th>\n",
       "      <th>Title</th>\n",
       "      <th>Pclass</th>\n",
       "      <th>Survived</th>\n",
       "      <th>Passengers</th>\n",
       "    </tr>\n",
       "  </thead>\n",
       "  <tbody>\n",
       "    <tr>\n",
       "      <th>0</th>\n",
       "      <td>Master</td>\n",
       "      <td>1</td>\n",
       "      <td>1</td>\n",
       "      <td>3</td>\n",
       "    </tr>\n",
       "    <tr>\n",
       "      <th>1</th>\n",
       "      <td>Master</td>\n",
       "      <td>2</td>\n",
       "      <td>1</td>\n",
       "      <td>9</td>\n",
       "    </tr>\n",
       "    <tr>\n",
       "      <th>2</th>\n",
       "      <td>Master</td>\n",
       "      <td>3</td>\n",
       "      <td>0</td>\n",
       "      <td>17</td>\n",
       "    </tr>\n",
       "    <tr>\n",
       "      <th>3</th>\n",
       "      <td>Master</td>\n",
       "      <td>3</td>\n",
       "      <td>1</td>\n",
       "      <td>11</td>\n",
       "    </tr>\n",
       "    <tr>\n",
       "      <th>4</th>\n",
       "      <td>Miss</td>\n",
       "      <td>1</td>\n",
       "      <td>1</td>\n",
       "      <td>46</td>\n",
       "    </tr>\n",
       "    <tr>\n",
       "      <th>5</th>\n",
       "      <td>Miss</td>\n",
       "      <td>1</td>\n",
       "      <td>0</td>\n",
       "      <td>2</td>\n",
       "    </tr>\n",
       "    <tr>\n",
       "      <th>6</th>\n",
       "      <td>Miss</td>\n",
       "      <td>2</td>\n",
       "      <td>1</td>\n",
       "      <td>33</td>\n",
       "    </tr>\n",
       "    <tr>\n",
       "      <th>7</th>\n",
       "      <td>Miss</td>\n",
       "      <td>2</td>\n",
       "      <td>0</td>\n",
       "      <td>2</td>\n",
       "    </tr>\n",
       "    <tr>\n",
       "      <th>8</th>\n",
       "      <td>Miss</td>\n",
       "      <td>3</td>\n",
       "      <td>0</td>\n",
       "      <td>51</td>\n",
       "    </tr>\n",
       "    <tr>\n",
       "      <th>9</th>\n",
       "      <td>Miss</td>\n",
       "      <td>3</td>\n",
       "      <td>1</td>\n",
       "      <td>51</td>\n",
       "    </tr>\n",
       "    <tr>\n",
       "      <th>10</th>\n",
       "      <td>Mr</td>\n",
       "      <td>1</td>\n",
       "      <td>0</td>\n",
       "      <td>70</td>\n",
       "    </tr>\n",
       "    <tr>\n",
       "      <th>11</th>\n",
       "      <td>Mr</td>\n",
       "      <td>1</td>\n",
       "      <td>1</td>\n",
       "      <td>37</td>\n",
       "    </tr>\n",
       "    <tr>\n",
       "      <th>12</th>\n",
       "      <td>Mr</td>\n",
       "      <td>2</td>\n",
       "      <td>0</td>\n",
       "      <td>83</td>\n",
       "    </tr>\n",
       "    <tr>\n",
       "      <th>13</th>\n",
       "      <td>Mr</td>\n",
       "      <td>2</td>\n",
       "      <td>1</td>\n",
       "      <td>8</td>\n",
       "    </tr>\n",
       "    <tr>\n",
       "      <th>14</th>\n",
       "      <td>Mr</td>\n",
       "      <td>3</td>\n",
       "      <td>0</td>\n",
       "      <td>283</td>\n",
       "    </tr>\n",
       "    <tr>\n",
       "      <th>15</th>\n",
       "      <td>Mr</td>\n",
       "      <td>3</td>\n",
       "      <td>1</td>\n",
       "      <td>36</td>\n",
       "    </tr>\n",
       "    <tr>\n",
       "      <th>16</th>\n",
       "      <td>Mrs</td>\n",
       "      <td>1</td>\n",
       "      <td>1</td>\n",
       "      <td>43</td>\n",
       "    </tr>\n",
       "    <tr>\n",
       "      <th>17</th>\n",
       "      <td>Mrs</td>\n",
       "      <td>1</td>\n",
       "      <td>0</td>\n",
       "      <td>1</td>\n",
       "    </tr>\n",
       "    <tr>\n",
       "      <th>18</th>\n",
       "      <td>Mrs</td>\n",
       "      <td>2</td>\n",
       "      <td>1</td>\n",
       "      <td>37</td>\n",
       "    </tr>\n",
       "    <tr>\n",
       "      <th>19</th>\n",
       "      <td>Mrs</td>\n",
       "      <td>2</td>\n",
       "      <td>0</td>\n",
       "      <td>4</td>\n",
       "    </tr>\n",
       "    <tr>\n",
       "      <th>20</th>\n",
       "      <td>Mrs</td>\n",
       "      <td>3</td>\n",
       "      <td>0</td>\n",
       "      <td>21</td>\n",
       "    </tr>\n",
       "    <tr>\n",
       "      <th>21</th>\n",
       "      <td>Mrs</td>\n",
       "      <td>3</td>\n",
       "      <td>1</td>\n",
       "      <td>21</td>\n",
       "    </tr>\n",
       "    <tr>\n",
       "      <th>22</th>\n",
       "      <td>Rare</td>\n",
       "      <td>1</td>\n",
       "      <td>0</td>\n",
       "      <td>7</td>\n",
       "    </tr>\n",
       "    <tr>\n",
       "      <th>23</th>\n",
       "      <td>Rare</td>\n",
       "      <td>1</td>\n",
       "      <td>1</td>\n",
       "      <td>7</td>\n",
       "    </tr>\n",
       "    <tr>\n",
       "      <th>24</th>\n",
       "      <td>Rare</td>\n",
       "      <td>2</td>\n",
       "      <td>0</td>\n",
       "      <td>8</td>\n",
       "    </tr>\n",
       "  </tbody>\n",
       "</table>\n",
       "</div>"
      ],
      "text/plain": [
       "     Title  Pclass  Survived  Passengers\n",
       "0   Master       1         1           3\n",
       "1   Master       2         1           9\n",
       "2   Master       3         0          17\n",
       "3   Master       3         1          11\n",
       "4     Miss       1         1          46\n",
       "5     Miss       1         0           2\n",
       "6     Miss       2         1          33\n",
       "7     Miss       2         0           2\n",
       "8     Miss       3         0          51\n",
       "9     Miss       3         1          51\n",
       "10      Mr       1         0          70\n",
       "11      Mr       1         1          37\n",
       "12      Mr       2         0          83\n",
       "13      Mr       2         1           8\n",
       "14      Mr       3         0         283\n",
       "15      Mr       3         1          36\n",
       "16     Mrs       1         1          43\n",
       "17     Mrs       1         0           1\n",
       "18     Mrs       2         1          37\n",
       "19     Mrs       2         0           4\n",
       "20     Mrs       3         0          21\n",
       "21     Mrs       3         1          21\n",
       "22    Rare       1         0           7\n",
       "23    Rare       1         1           7\n",
       "24    Rare       2         0           8"
      ]
     },
     "execution_count": 71,
     "metadata": {},
     "output_type": "execute_result"
    }
   ],
   "source": [
    "tmp = train_df.groupby(['Title', 'Pclass'])['Survived'].value_counts()\n",
    "df = pd.DataFrame(data={'Passengers': tmp.values}, index=tmp.index).reset_index()\n",
    "df"
   ]
  },
  {
   "cell_type": "markdown",
   "metadata": {
    "_uuid": "ff547b7feaae02eda18ae500b963d76343e26e40"
   },
   "source": [
    "## <a id='44'>More features engineering</a>  \n",
    "\n",
    "\n",
    "Let's map all titles to numeric values."
   ]
  },
  {
   "cell_type": "code",
   "execution_count": 72,
   "metadata": {
    "_kg_hide-input": true,
    "_uuid": "d794b5e6fafc42751e29ecd6a67009c97793618f"
   },
   "outputs": [],
   "source": [
    "title_mapping = {\"Mr\": 1, \"Miss\": 2, \"Mrs\": 3, \"Master\": 4, \"Rare\": 5}\n",
    "for dataset in all_df:\n",
    "    dataset['Title'] = dataset['Title'].map(title_mapping)   "
   ]
  },
  {
   "cell_type": "markdown",
   "metadata": {
    "_uuid": "ac2c5a925a0cd88257e3be625c9dc0b56ef400be"
   },
   "source": [
    "And let's plot the `Title` grouped by the survived and not survived."
   ]
  },
  {
   "cell_type": "code",
   "execution_count": 73,
   "metadata": {
    "_kg_hide-input": true,
    "_uuid": "9afbab6c3e8ee0ea53e14ae66814579e9893440f"
   },
   "outputs": [
    {
     "data": {
      "application/vnd.plotly.v1+json": {
       "config": {
        "linkText": "Export to plot.ly",
        "plotlyServerURL": "https://plot.ly",
        "showLink": false
       },
       "data": [
        {
         "marker": {
          "color": "Blue"
         },
         "name": "Survived",
         "text": [
          130.0,
          101.0,
          81.0,
          23.0,
          7.0
         ],
         "type": "bar",
         "uid": "215bfef9-01cc-4208-8282-658799e1eb2b",
         "x": [
          2,
          3,
          1,
          4,
          5
         ],
         "y": [
          130,
          101,
          81,
          23,
          7
         ]
        },
        {
         "marker": {
          "color": "Red"
         },
         "name": "Not survived",
         "text": [
          130.0,
          101.0,
          81.0,
          23.0,
          7.0
         ],
         "type": "bar",
         "uid": "8785861f-b6d9-4dc2-949d-5fc4bc2e6f03",
         "x": [
          1,
          2,
          3,
          4,
          5
         ],
         "y": [
          436,
          55,
          26,
          17,
          15
         ]
        }
       ],
       "layout": {
        "hovermode": "closest",
        "title": {
         "text": "Number of survived and not survived passengers by Title"
        },
        "xaxis": {
         "showticklabels": true,
         "title": {
          "text": "Title"
         }
        },
        "yaxis": {
         "title": {
          "text": "Number of passengers"
         }
        }
       }
      },
      "text/html": [
       "<div id=\"c8b9cd77-0c43-45bd-a7f1-335249388acc\" style=\"height: 525px; width: 100%;\" class=\"plotly-graph-div\"></div><script type=\"text/javascript\">require([\"plotly\"], function(Plotly) { window.PLOTLYENV=window.PLOTLYENV || {};window.PLOTLYENV.BASE_URL=\"https://plot.ly\";Plotly.newPlot(\"c8b9cd77-0c43-45bd-a7f1-335249388acc\", [{\"marker\": {\"color\": \"Blue\"}, \"name\": \"Survived\", \"text\": [130.0, 101.0, 81.0, 23.0, 7.0], \"x\": [2, 3, 1, 4, 5], \"y\": [130, 101, 81, 23, 7], \"type\": \"bar\", \"uid\": \"62191b60-5807-48b6-b6df-842c01ab02cf\"}, {\"marker\": {\"color\": \"Red\"}, \"name\": \"Not survived\", \"text\": [130.0, 101.0, 81.0, 23.0, 7.0], \"x\": [1, 2, 3, 4, 5], \"y\": [436, 55, 26, 17, 15], \"type\": \"bar\", \"uid\": \"64c40c78-3943-4a9f-aac8-da5559b3d076\"}], {\"hovermode\": \"closest\", \"title\": {\"text\": \"Number of survived and not survived passengers by Title\"}, \"xaxis\": {\"showticklabels\": true, \"title\": {\"text\": \"Title\"}}, \"yaxis\": {\"title\": {\"text\": \"Number of passengers\"}}}, {\"showLink\": false, \"linkText\": \"Export to plot.ly\", \"plotlyServerURL\": \"https://plot.ly\"})});</script><script type=\"text/javascript\">window.addEventListener(\"resize\", function(){window._Plotly.Plots.resize(document.getElementById(\"c8b9cd77-0c43-45bd-a7f1-335249388acc\"));});</script>"
      ],
      "text/vnd.plotly.v1+html": [
       "<div id=\"c8b9cd77-0c43-45bd-a7f1-335249388acc\" style=\"height: 525px; width: 100%;\" class=\"plotly-graph-div\"></div><script type=\"text/javascript\">require([\"plotly\"], function(Plotly) { window.PLOTLYENV=window.PLOTLYENV || {};window.PLOTLYENV.BASE_URL=\"https://plot.ly\";Plotly.newPlot(\"c8b9cd77-0c43-45bd-a7f1-335249388acc\", [{\"marker\": {\"color\": \"Blue\"}, \"name\": \"Survived\", \"text\": [130.0, 101.0, 81.0, 23.0, 7.0], \"x\": [2, 3, 1, 4, 5], \"y\": [130, 101, 81, 23, 7], \"type\": \"bar\", \"uid\": \"62191b60-5807-48b6-b6df-842c01ab02cf\"}, {\"marker\": {\"color\": \"Red\"}, \"name\": \"Not survived\", \"text\": [130.0, 101.0, 81.0, 23.0, 7.0], \"x\": [1, 2, 3, 4, 5], \"y\": [436, 55, 26, 17, 15], \"type\": \"bar\", \"uid\": \"64c40c78-3943-4a9f-aac8-da5559b3d076\"}], {\"hovermode\": \"closest\", \"title\": {\"text\": \"Number of survived and not survived passengers by Title\"}, \"xaxis\": {\"showticklabels\": true, \"title\": {\"text\": \"Title\"}}, \"yaxis\": {\"title\": {\"text\": \"Number of passengers\"}}}, {\"showLink\": false, \"linkText\": \"Export to plot.ly\", \"plotlyServerURL\": \"https://plot.ly\"})});</script><script type=\"text/javascript\">window.addEventListener(\"resize\", function(){window._Plotly.Plots.resize(document.getElementById(\"c8b9cd77-0c43-45bd-a7f1-335249388acc\"));});</script>"
      ]
     },
     "metadata": {},
     "output_type": "display_data"
    }
   ],
   "source": [
    "plot_survived_bar(get_survived_categories(train_df,'Title'), 'Title')"
   ]
  },
  {
   "cell_type": "markdown",
   "metadata": {
    "_uuid": "8ee6e3bdbc987957325bd55b2049abe37bbbd39d"
   },
   "source": [
    "We also map `Fare` to 4 main fare segments and label them from 0 to 3."
   ]
  },
  {
   "cell_type": "code",
   "execution_count": 74,
   "metadata": {
    "_kg_hide-input": true,
    "_uuid": "8ea642c519381ba180c6b620aa85e575a4efca14"
   },
   "outputs": [],
   "source": [
    "for dataset in all_df:\n",
    "    dataset.loc[ dataset['Fare'] <= 7.91, 'Fare'] = 0\n",
    "    dataset.loc[(dataset['Fare'] > 7.91) & (dataset['Fare'] <= 14.454), 'Fare'] = 1\n",
    "    dataset.loc[(dataset['Fare'] > 14.454) & (dataset['Fare'] <= 31), 'Fare']   = 2\n",
    "    dataset.loc[ dataset['Fare'] > 31, 'Fare'] = 3"
   ]
  },
  {
   "cell_type": "markdown",
   "metadata": {
    "_uuid": "894d8d92987f7148ed6e0588e7f0eb1a631ce64d"
   },
   "source": [
    "And let's plot the `Fare` clusters grouped by the survived and not survived."
   ]
  },
  {
   "cell_type": "code",
   "execution_count": 75,
   "metadata": {
    "_kg_hide-input": true,
    "_uuid": "b9dca2f2ff6e186b824a35109ad6fbd6fb6036ca"
   },
   "outputs": [
    {
     "data": {
      "application/vnd.plotly.v1+json": {
       "config": {
        "linkText": "Export to plot.ly",
        "plotlyServerURL": "https://plot.ly",
        "showLink": false
       },
       "data": [
        {
         "marker": {
          "color": "Blue"
         },
         "name": "Survived",
         "text": [
          129.0,
          102.0,
          67.0,
          44.0
         ],
         "type": "bar",
         "uid": "706cea88-e8dd-441e-8682-95f6744eab77",
         "x": [
          3.0,
          2.0,
          1.0,
          0.0
         ],
         "y": [
          129,
          102,
          67,
          44
         ]
        },
        {
         "marker": {
          "color": "Red"
         },
         "name": "Not survived",
         "text": [
          129.0,
          102.0,
          67.0,
          44.0
         ],
         "type": "bar",
         "uid": "fa954e4d-ebfe-45ee-8599-9030bb9d6f13",
         "x": [
          0.0,
          1.0,
          2.0,
          3.0
         ],
         "y": [
          179,
          150,
          127,
          93
         ]
        }
       ],
       "layout": {
        "hovermode": "closest",
        "title": {
         "text": "Number of survived and not survived passengers by Fare"
        },
        "xaxis": {
         "showticklabels": true,
         "title": {
          "text": "Fare"
         }
        },
        "yaxis": {
         "title": {
          "text": "Number of passengers"
         }
        }
       }
      },
      "text/html": [
       "<div id=\"473d054d-a019-4120-974f-9a38f9326bd2\" style=\"height: 525px; width: 100%;\" class=\"plotly-graph-div\"></div><script type=\"text/javascript\">require([\"plotly\"], function(Plotly) { window.PLOTLYENV=window.PLOTLYENV || {};window.PLOTLYENV.BASE_URL=\"https://plot.ly\";Plotly.newPlot(\"473d054d-a019-4120-974f-9a38f9326bd2\", [{\"marker\": {\"color\": \"Blue\"}, \"name\": \"Survived\", \"text\": [129.0, 102.0, 67.0, 44.0], \"x\": [3.0, 2.0, 1.0, 0.0], \"y\": [129, 102, 67, 44], \"type\": \"bar\", \"uid\": \"8f489f7f-ddb4-43f9-9ee7-8ab25dddadcb\"}, {\"marker\": {\"color\": \"Red\"}, \"name\": \"Not survived\", \"text\": [129.0, 102.0, 67.0, 44.0], \"x\": [0.0, 1.0, 2.0, 3.0], \"y\": [179, 150, 127, 93], \"type\": \"bar\", \"uid\": \"75cdd616-52e4-44f3-b11f-3f2600316128\"}], {\"hovermode\": \"closest\", \"title\": {\"text\": \"Number of survived and not survived passengers by Fare\"}, \"xaxis\": {\"showticklabels\": true, \"title\": {\"text\": \"Fare\"}}, \"yaxis\": {\"title\": {\"text\": \"Number of passengers\"}}}, {\"showLink\": false, \"linkText\": \"Export to plot.ly\", \"plotlyServerURL\": \"https://plot.ly\"})});</script><script type=\"text/javascript\">window.addEventListener(\"resize\", function(){window._Plotly.Plots.resize(document.getElementById(\"473d054d-a019-4120-974f-9a38f9326bd2\"));});</script>"
      ],
      "text/vnd.plotly.v1+html": [
       "<div id=\"473d054d-a019-4120-974f-9a38f9326bd2\" style=\"height: 525px; width: 100%;\" class=\"plotly-graph-div\"></div><script type=\"text/javascript\">require([\"plotly\"], function(Plotly) { window.PLOTLYENV=window.PLOTLYENV || {};window.PLOTLYENV.BASE_URL=\"https://plot.ly\";Plotly.newPlot(\"473d054d-a019-4120-974f-9a38f9326bd2\", [{\"marker\": {\"color\": \"Blue\"}, \"name\": \"Survived\", \"text\": [129.0, 102.0, 67.0, 44.0], \"x\": [3.0, 2.0, 1.0, 0.0], \"y\": [129, 102, 67, 44], \"type\": \"bar\", \"uid\": \"8f489f7f-ddb4-43f9-9ee7-8ab25dddadcb\"}, {\"marker\": {\"color\": \"Red\"}, \"name\": \"Not survived\", \"text\": [129.0, 102.0, 67.0, 44.0], \"x\": [0.0, 1.0, 2.0, 3.0], \"y\": [179, 150, 127, 93], \"type\": \"bar\", \"uid\": \"75cdd616-52e4-44f3-b11f-3f2600316128\"}], {\"hovermode\": \"closest\", \"title\": {\"text\": \"Number of survived and not survived passengers by Fare\"}, \"xaxis\": {\"showticklabels\": true, \"title\": {\"text\": \"Fare\"}}, \"yaxis\": {\"title\": {\"text\": \"Number of passengers\"}}}, {\"showLink\": false, \"linkText\": \"Export to plot.ly\", \"plotlyServerURL\": \"https://plot.ly\"})});</script><script type=\"text/javascript\">window.addEventListener(\"resize\", function(){window._Plotly.Plots.resize(document.getElementById(\"473d054d-a019-4120-974f-9a38f9326bd2\"));});</script>"
      ]
     },
     "metadata": {},
     "output_type": "display_data"
    }
   ],
   "source": [
    "plot_survived_bar(get_survived_categories(train_df,'Fare'), 'Fare')"
   ]
  },
  {
   "cell_type": "markdown",
   "metadata": {
    "_uuid": "fca84485ba5ae82cd5f6f8152319b9ce19f48772"
   },
   "source": [
    "Similarly, we map `Age` to 5 main segments, labeled from 0 to 4. "
   ]
  },
  {
   "cell_type": "code",
   "execution_count": 76,
   "metadata": {
    "_kg_hide-input": true,
    "_uuid": "d3ac26effcb49e1a6b7eb64fcaddf1a4137cbbeb"
   },
   "outputs": [],
   "source": [
    "for dataset in all_df:\n",
    "    dataset.loc[ dataset['Age'] <= 16, 'Age']  = 0\n",
    "    dataset.loc[(dataset['Age'] > 16) & (dataset['Age'] <= 32), 'Age'] = 1\n",
    "    dataset.loc[(dataset['Age'] > 32) & (dataset['Age'] <= 48), 'Age'] = 2\n",
    "    dataset.loc[(dataset['Age'] > 48) & (dataset['Age'] <= 64), 'Age'] = 3\n",
    "    dataset.loc[ dataset['Age'] > 64, 'Age'] = 4"
   ]
  },
  {
   "cell_type": "markdown",
   "metadata": {
    "_uuid": "adfc29772fb34071d6684ed4a15b40729977ef2d"
   },
   "source": [
    "And let's plot the `Age` clusters grouped by the survived and not survived."
   ]
  },
  {
   "cell_type": "code",
   "execution_count": 77,
   "metadata": {
    "_kg_hide-input": true,
    "_uuid": "39d58b91efde791ad36091eaf7469a735236b023"
   },
   "outputs": [
    {
     "data": {
      "application/vnd.plotly.v1+json": {
       "config": {
        "linkText": "Export to plot.ly",
        "plotlyServerURL": "https://plot.ly",
        "showLink": false
       },
       "data": [
        {
         "marker": {
          "color": "Blue"
         },
         "name": "Survived",
         "text": [
          167.0,
          89.0,
          55.0,
          30.0,
          1.0
         ],
         "type": "bar",
         "uid": "d282be2f-6fd6-4091-ad69-3a7ce77431bb",
         "x": [
          1,
          2,
          0,
          3,
          4
         ],
         "y": [
          167,
          89,
          55,
          30,
          1
         ]
        },
        {
         "marker": {
          "color": "Red"
         },
         "name": "Not survived",
         "text": [
          167.0,
          89.0,
          55.0,
          30.0,
          1.0
         ],
         "type": "bar",
         "uid": "4846de0b-e480-4abf-a576-6df787ae221c",
         "x": [
          1,
          2,
          0,
          3,
          4
         ],
         "y": [
          328,
          127,
          45,
          39,
          10
         ]
        }
       ],
       "layout": {
        "hovermode": "closest",
        "title": {
         "text": "Number of survived and not survived passengers by Age"
        },
        "xaxis": {
         "showticklabels": true,
         "title": {
          "text": "Age"
         }
        },
        "yaxis": {
         "title": {
          "text": "Number of passengers"
         }
        }
       }
      },
      "text/html": [
       "<div id=\"0bd4a72e-dea9-471d-b9bd-a155f7946ca3\" style=\"height: 525px; width: 100%;\" class=\"plotly-graph-div\"></div><script type=\"text/javascript\">require([\"plotly\"], function(Plotly) { window.PLOTLYENV=window.PLOTLYENV || {};window.PLOTLYENV.BASE_URL=\"https://plot.ly\";Plotly.newPlot(\"0bd4a72e-dea9-471d-b9bd-a155f7946ca3\", [{\"marker\": {\"color\": \"Blue\"}, \"name\": \"Survived\", \"text\": [167.0, 89.0, 55.0, 30.0, 1.0], \"x\": [1, 2, 0, 3, 4], \"y\": [167, 89, 55, 30, 1], \"type\": \"bar\", \"uid\": \"0c96083e-8a7a-45e5-8585-37fb22d9bd4d\"}, {\"marker\": {\"color\": \"Red\"}, \"name\": \"Not survived\", \"text\": [167.0, 89.0, 55.0, 30.0, 1.0], \"x\": [1, 2, 0, 3, 4], \"y\": [328, 127, 45, 39, 10], \"type\": \"bar\", \"uid\": \"4dcfb136-e964-4c3d-8bcd-18bd621a585a\"}], {\"hovermode\": \"closest\", \"title\": {\"text\": \"Number of survived and not survived passengers by Age\"}, \"xaxis\": {\"showticklabels\": true, \"title\": {\"text\": \"Age\"}}, \"yaxis\": {\"title\": {\"text\": \"Number of passengers\"}}}, {\"showLink\": false, \"linkText\": \"Export to plot.ly\", \"plotlyServerURL\": \"https://plot.ly\"})});</script><script type=\"text/javascript\">window.addEventListener(\"resize\", function(){window._Plotly.Plots.resize(document.getElementById(\"0bd4a72e-dea9-471d-b9bd-a155f7946ca3\"));});</script>"
      ],
      "text/vnd.plotly.v1+html": [
       "<div id=\"0bd4a72e-dea9-471d-b9bd-a155f7946ca3\" style=\"height: 525px; width: 100%;\" class=\"plotly-graph-div\"></div><script type=\"text/javascript\">require([\"plotly\"], function(Plotly) { window.PLOTLYENV=window.PLOTLYENV || {};window.PLOTLYENV.BASE_URL=\"https://plot.ly\";Plotly.newPlot(\"0bd4a72e-dea9-471d-b9bd-a155f7946ca3\", [{\"marker\": {\"color\": \"Blue\"}, \"name\": \"Survived\", \"text\": [167.0, 89.0, 55.0, 30.0, 1.0], \"x\": [1, 2, 0, 3, 4], \"y\": [167, 89, 55, 30, 1], \"type\": \"bar\", \"uid\": \"0c96083e-8a7a-45e5-8585-37fb22d9bd4d\"}, {\"marker\": {\"color\": \"Red\"}, \"name\": \"Not survived\", \"text\": [167.0, 89.0, 55.0, 30.0, 1.0], \"x\": [1, 2, 0, 3, 4], \"y\": [328, 127, 45, 39, 10], \"type\": \"bar\", \"uid\": \"4dcfb136-e964-4c3d-8bcd-18bd621a585a\"}], {\"hovermode\": \"closest\", \"title\": {\"text\": \"Number of survived and not survived passengers by Age\"}, \"xaxis\": {\"showticklabels\": true, \"title\": {\"text\": \"Age\"}}, \"yaxis\": {\"title\": {\"text\": \"Number of passengers\"}}}, {\"showLink\": false, \"linkText\": \"Export to plot.ly\", \"plotlyServerURL\": \"https://plot.ly\"})});</script><script type=\"text/javascript\">window.addEventListener(\"resize\", function(){window._Plotly.Plots.resize(document.getElementById(\"0bd4a72e-dea9-471d-b9bd-a155f7946ca3\"));});</script>"
      ]
     },
     "metadata": {},
     "output_type": "display_data"
    }
   ],
   "source": [
    "plot_survived_bar(get_survived_categories(train_df,'Age'), 'Age')"
   ]
  },
  {
   "cell_type": "markdown",
   "metadata": {
    "_uuid": "fa4a01c2f6e60776f6bd9b74396deaa293d0c99e"
   },
   "source": [
    "Family Size is mapped then to only 3 sizes (0 to 2), the first corresponding to the case when someone is alone."
   ]
  },
  {
   "cell_type": "code",
   "execution_count": 78,
   "metadata": {
    "_kg_hide-input": true,
    "_uuid": "189321fc1891bb6ee1bc3d0d186d14bfb30e885c"
   },
   "outputs": [],
   "source": [
    "for dataset in all_df:\n",
    "    dataset.loc[ dataset['FamilySize'] <= 1, 'FamilySize'] = 0\n",
    "    dataset.loc[(dataset['FamilySize'] > 1) & (dataset['FamilySize'] <= 4), 'FamilySize'] = 1\n",
    "    dataset.loc[ dataset['FamilySize'] > 4, 'FamilySize'] = 2"
   ]
  },
  {
   "cell_type": "markdown",
   "metadata": {
    "_uuid": "7d1f3933eb67f1e312c0c7b19008e33ee70fa204"
   },
   "source": [
    "Let's also add one more feature, `Class*Age`, calculated as `Class` x `Age`."
   ]
  },
  {
   "cell_type": "code",
   "execution_count": 79,
   "metadata": {
    "_kg_hide-input": true,
    "_uuid": "e8ed69e45dd18ad41db2329fd941e504b0d3e87e"
   },
   "outputs": [],
   "source": [
    "for dataset in all_df:\n",
    "    dataset['Class*Age'] = dataset['Pclass'] * dataset['Age']"
   ]
  },
  {
   "cell_type": "markdown",
   "metadata": {
    "_uuid": "ab14baad7daaf5c57812a23bc132f23f3b15d3c2"
   },
   "source": [
    "And let's plot the `Class*Age` grouped by the survived and not survived."
   ]
  },
  {
   "cell_type": "code",
   "execution_count": 80,
   "metadata": {
    "_kg_hide-input": true,
    "_uuid": "550e420ecac54615b8a32dbef7f8d3abb03bc133"
   },
   "outputs": [
    {
     "data": {
      "application/vnd.plotly.v1+json": {
       "config": {
        "linkText": "Export to plot.ly",
        "plotlyServerURL": "https://plot.ly",
        "showLink": false
       },
       "data": [
        {
         "marker": {
          "color": "Blue"
         },
         "name": "Survived",
         "text": [
          106.0,
          102.0,
          55.0,
          43.0,
          22.0,
          13.0,
          1.0
         ],
         "type": "bar",
         "uid": "bf63ba08-9d12-4231-bcd2-f039aea9374d",
         "x": [
          3,
          2,
          0,
          1,
          4,
          6,
          9
         ],
         "y": [
          106,
          102,
          55,
          43,
          22,
          13,
          1
         ]
        },
        {
         "marker": {
          "color": "Red"
         },
         "name": "Not survived",
         "text": [
          106.0,
          102.0,
          55.0,
          43.0,
          22.0,
          13.0,
          1.0
         ],
         "type": "bar",
         "uid": "ca4aa5e3-9b9b-4172-b57b-702ba94688e9",
         "x": [
          3,
          2,
          6,
          0,
          4,
          1,
          9,
          12,
          8
         ],
         "y": [
          276,
          94,
          74,
          45,
          31,
          16,
          8,
          3,
          2
         ]
        }
       ],
       "layout": {
        "hovermode": "closest",
        "title": {
         "text": "Number of survived and not survived passengers by Class*Age"
        },
        "xaxis": {
         "showticklabels": true,
         "title": {
          "text": "Class*Age"
         }
        },
        "yaxis": {
         "title": {
          "text": "Number of passengers"
         }
        }
       }
      },
      "text/html": [
       "<div id=\"aeea53a4-a7e0-4f47-b53e-961b368b0932\" style=\"height: 525px; width: 100%;\" class=\"plotly-graph-div\"></div><script type=\"text/javascript\">require([\"plotly\"], function(Plotly) { window.PLOTLYENV=window.PLOTLYENV || {};window.PLOTLYENV.BASE_URL=\"https://plot.ly\";Plotly.newPlot(\"aeea53a4-a7e0-4f47-b53e-961b368b0932\", [{\"marker\": {\"color\": \"Blue\"}, \"name\": \"Survived\", \"text\": [106.0, 102.0, 55.0, 43.0, 22.0, 13.0, 1.0], \"x\": [3, 2, 0, 1, 4, 6, 9], \"y\": [106, 102, 55, 43, 22, 13, 1], \"type\": \"bar\", \"uid\": \"64b353be-0aa0-4f47-a8a4-fb96dff1fb0b\"}, {\"marker\": {\"color\": \"Red\"}, \"name\": \"Not survived\", \"text\": [106.0, 102.0, 55.0, 43.0, 22.0, 13.0, 1.0], \"x\": [3, 2, 6, 0, 4, 1, 9, 12, 8], \"y\": [276, 94, 74, 45, 31, 16, 8, 3, 2], \"type\": \"bar\", \"uid\": \"0c2ebac1-12b5-41df-bb62-05b0f69bd20b\"}], {\"hovermode\": \"closest\", \"title\": {\"text\": \"Number of survived and not survived passengers by Class*Age\"}, \"xaxis\": {\"showticklabels\": true, \"title\": {\"text\": \"Class*Age\"}}, \"yaxis\": {\"title\": {\"text\": \"Number of passengers\"}}}, {\"showLink\": false, \"linkText\": \"Export to plot.ly\", \"plotlyServerURL\": \"https://plot.ly\"})});</script><script type=\"text/javascript\">window.addEventListener(\"resize\", function(){window._Plotly.Plots.resize(document.getElementById(\"aeea53a4-a7e0-4f47-b53e-961b368b0932\"));});</script>"
      ],
      "text/vnd.plotly.v1+html": [
       "<div id=\"aeea53a4-a7e0-4f47-b53e-961b368b0932\" style=\"height: 525px; width: 100%;\" class=\"plotly-graph-div\"></div><script type=\"text/javascript\">require([\"plotly\"], function(Plotly) { window.PLOTLYENV=window.PLOTLYENV || {};window.PLOTLYENV.BASE_URL=\"https://plot.ly\";Plotly.newPlot(\"aeea53a4-a7e0-4f47-b53e-961b368b0932\", [{\"marker\": {\"color\": \"Blue\"}, \"name\": \"Survived\", \"text\": [106.0, 102.0, 55.0, 43.0, 22.0, 13.0, 1.0], \"x\": [3, 2, 0, 1, 4, 6, 9], \"y\": [106, 102, 55, 43, 22, 13, 1], \"type\": \"bar\", \"uid\": \"64b353be-0aa0-4f47-a8a4-fb96dff1fb0b\"}, {\"marker\": {\"color\": \"Red\"}, \"name\": \"Not survived\", \"text\": [106.0, 102.0, 55.0, 43.0, 22.0, 13.0, 1.0], \"x\": [3, 2, 6, 0, 4, 1, 9, 12, 8], \"y\": [276, 94, 74, 45, 31, 16, 8, 3, 2], \"type\": \"bar\", \"uid\": \"0c2ebac1-12b5-41df-bb62-05b0f69bd20b\"}], {\"hovermode\": \"closest\", \"title\": {\"text\": \"Number of survived and not survived passengers by Class*Age\"}, \"xaxis\": {\"showticklabels\": true, \"title\": {\"text\": \"Class*Age\"}}, \"yaxis\": {\"title\": {\"text\": \"Number of passengers\"}}}, {\"showLink\": false, \"linkText\": \"Export to plot.ly\", \"plotlyServerURL\": \"https://plot.ly\"})});</script><script type=\"text/javascript\">window.addEventListener(\"resize\", function(){window._Plotly.Plots.resize(document.getElementById(\"aeea53a4-a7e0-4f47-b53e-961b368b0932\"));});</script>"
      ]
     },
     "metadata": {},
     "output_type": "display_data"
    }
   ],
   "source": [
    "plot_survived_bar(get_survived_categories(train_df,'Class*Age'), 'Class*Age')"
   ]
  },
  {
   "cell_type": "markdown",
   "metadata": {
    "_uuid": "20f992c33156e1ba7590df41bffb346ebf4d861f"
   },
   "source": [
    "Let's see now how looks like train and test set."
   ]
  },
  {
   "cell_type": "code",
   "execution_count": 81,
   "metadata": {
    "_kg_hide-input": true,
    "_uuid": "507e6eaef20739ed3f921d1a40732e24c3886015"
   },
   "outputs": [
    {
     "data": {
      "text/html": [
       "<div>\n",
       "<style scoped>\n",
       "    .dataframe tbody tr th:only-of-type {\n",
       "        vertical-align: middle;\n",
       "    }\n",
       "\n",
       "    .dataframe tbody tr th {\n",
       "        vertical-align: top;\n",
       "    }\n",
       "\n",
       "    .dataframe thead th {\n",
       "        text-align: right;\n",
       "    }\n",
       "</style>\n",
       "<table border=\"1\" class=\"dataframe\">\n",
       "  <thead>\n",
       "    <tr style=\"text-align: right;\">\n",
       "      <th></th>\n",
       "      <th>PassengerId</th>\n",
       "      <th>Survived</th>\n",
       "      <th>Pclass</th>\n",
       "      <th>Name</th>\n",
       "      <th>Sex</th>\n",
       "      <th>Age</th>\n",
       "      <th>SibSp</th>\n",
       "      <th>Parch</th>\n",
       "      <th>Ticket</th>\n",
       "      <th>Fare</th>\n",
       "      <th>Cabin</th>\n",
       "      <th>Embarked</th>\n",
       "      <th>Title</th>\n",
       "      <th>FamilySize</th>\n",
       "      <th>Surname</th>\n",
       "      <th>Deck</th>\n",
       "      <th>Class*Age</th>\n",
       "    </tr>\n",
       "  </thead>\n",
       "  <tbody>\n",
       "    <tr>\n",
       "      <th>0</th>\n",
       "      <td>1</td>\n",
       "      <td>0</td>\n",
       "      <td>3</td>\n",
       "      <td>Braund, Mr. Owen Harris</td>\n",
       "      <td>0</td>\n",
       "      <td>1</td>\n",
       "      <td>1</td>\n",
       "      <td>0</td>\n",
       "      <td>A/5 21171</td>\n",
       "      <td>0.0</td>\n",
       "      <td>NaN</td>\n",
       "      <td>S</td>\n",
       "      <td>1</td>\n",
       "      <td>1</td>\n",
       "      <td>Braund</td>\n",
       "      <td>NaN</td>\n",
       "      <td>3</td>\n",
       "    </tr>\n",
       "    <tr>\n",
       "      <th>1</th>\n",
       "      <td>2</td>\n",
       "      <td>1</td>\n",
       "      <td>1</td>\n",
       "      <td>Cumings, Mrs. John Bradley (Florence Briggs Th...</td>\n",
       "      <td>1</td>\n",
       "      <td>2</td>\n",
       "      <td>1</td>\n",
       "      <td>0</td>\n",
       "      <td>PC 17599</td>\n",
       "      <td>3.0</td>\n",
       "      <td>C85</td>\n",
       "      <td>C</td>\n",
       "      <td>3</td>\n",
       "      <td>1</td>\n",
       "      <td>Cumings</td>\n",
       "      <td>C</td>\n",
       "      <td>2</td>\n",
       "    </tr>\n",
       "    <tr>\n",
       "      <th>2</th>\n",
       "      <td>3</td>\n",
       "      <td>1</td>\n",
       "      <td>3</td>\n",
       "      <td>Heikkinen, Miss. Laina</td>\n",
       "      <td>1</td>\n",
       "      <td>1</td>\n",
       "      <td>0</td>\n",
       "      <td>0</td>\n",
       "      <td>STON/O2. 3101282</td>\n",
       "      <td>1.0</td>\n",
       "      <td>NaN</td>\n",
       "      <td>S</td>\n",
       "      <td>2</td>\n",
       "      <td>0</td>\n",
       "      <td>Heikkinen</td>\n",
       "      <td>NaN</td>\n",
       "      <td>3</td>\n",
       "    </tr>\n",
       "  </tbody>\n",
       "</table>\n",
       "</div>"
      ],
      "text/plain": [
       "   PassengerId  Survived  Pclass    ...        Surname  Deck  Class*Age\n",
       "0            1         0       3    ...         Braund   NaN          3\n",
       "1            2         1       1    ...        Cumings     C          2\n",
       "2            3         1       3    ...      Heikkinen   NaN          3\n",
       "\n",
       "[3 rows x 17 columns]"
      ]
     },
     "execution_count": 81,
     "metadata": {},
     "output_type": "execute_result"
    }
   ],
   "source": [
    "train_df.head(3)"
   ]
  },
  {
   "cell_type": "code",
   "execution_count": 82,
   "metadata": {
    "_kg_hide-input": true,
    "_uuid": "ebb5bf0aad88fd2459775baedcb9408aab46692b"
   },
   "outputs": [
    {
     "data": {
      "text/html": [
       "<div>\n",
       "<style scoped>\n",
       "    .dataframe tbody tr th:only-of-type {\n",
       "        vertical-align: middle;\n",
       "    }\n",
       "\n",
       "    .dataframe tbody tr th {\n",
       "        vertical-align: top;\n",
       "    }\n",
       "\n",
       "    .dataframe thead th {\n",
       "        text-align: right;\n",
       "    }\n",
       "</style>\n",
       "<table border=\"1\" class=\"dataframe\">\n",
       "  <thead>\n",
       "    <tr style=\"text-align: right;\">\n",
       "      <th></th>\n",
       "      <th>PassengerId</th>\n",
       "      <th>Pclass</th>\n",
       "      <th>Name</th>\n",
       "      <th>Sex</th>\n",
       "      <th>Age</th>\n",
       "      <th>SibSp</th>\n",
       "      <th>Parch</th>\n",
       "      <th>Ticket</th>\n",
       "      <th>Fare</th>\n",
       "      <th>Cabin</th>\n",
       "      <th>Embarked</th>\n",
       "      <th>Survived</th>\n",
       "      <th>Title</th>\n",
       "      <th>FamilySize</th>\n",
       "      <th>Surname</th>\n",
       "      <th>Deck</th>\n",
       "      <th>Class*Age</th>\n",
       "    </tr>\n",
       "  </thead>\n",
       "  <tbody>\n",
       "    <tr>\n",
       "      <th>0</th>\n",
       "      <td>892</td>\n",
       "      <td>3</td>\n",
       "      <td>Kelly, Mr. James</td>\n",
       "      <td>0</td>\n",
       "      <td>2</td>\n",
       "      <td>0</td>\n",
       "      <td>0</td>\n",
       "      <td>330911</td>\n",
       "      <td>0.0</td>\n",
       "      <td>NaN</td>\n",
       "      <td>Q</td>\n",
       "      <td>None</td>\n",
       "      <td>1</td>\n",
       "      <td>0</td>\n",
       "      <td>Kelly</td>\n",
       "      <td>NaN</td>\n",
       "      <td>6</td>\n",
       "    </tr>\n",
       "    <tr>\n",
       "      <th>1</th>\n",
       "      <td>893</td>\n",
       "      <td>3</td>\n",
       "      <td>Wilkes, Mrs. James (Ellen Needs)</td>\n",
       "      <td>1</td>\n",
       "      <td>2</td>\n",
       "      <td>1</td>\n",
       "      <td>0</td>\n",
       "      <td>363272</td>\n",
       "      <td>0.0</td>\n",
       "      <td>NaN</td>\n",
       "      <td>S</td>\n",
       "      <td>None</td>\n",
       "      <td>3</td>\n",
       "      <td>1</td>\n",
       "      <td>Wilkes</td>\n",
       "      <td>NaN</td>\n",
       "      <td>6</td>\n",
       "    </tr>\n",
       "    <tr>\n",
       "      <th>2</th>\n",
       "      <td>894</td>\n",
       "      <td>2</td>\n",
       "      <td>Myles, Mr. Thomas Francis</td>\n",
       "      <td>0</td>\n",
       "      <td>3</td>\n",
       "      <td>0</td>\n",
       "      <td>0</td>\n",
       "      <td>240276</td>\n",
       "      <td>1.0</td>\n",
       "      <td>NaN</td>\n",
       "      <td>Q</td>\n",
       "      <td>None</td>\n",
       "      <td>1</td>\n",
       "      <td>0</td>\n",
       "      <td>Myles</td>\n",
       "      <td>NaN</td>\n",
       "      <td>6</td>\n",
       "    </tr>\n",
       "  </tbody>\n",
       "</table>\n",
       "</div>"
      ],
      "text/plain": [
       "   PassengerId  Pclass    ...     Deck  Class*Age\n",
       "0          892       3    ...      NaN          6\n",
       "1          893       3    ...      NaN          6\n",
       "2          894       2    ...      NaN          6\n",
       "\n",
       "[3 rows x 17 columns]"
      ]
     },
     "execution_count": 82,
     "metadata": {},
     "output_type": "execute_result"
    }
   ],
   "source": [
    "test_df.head(3)"
   ]
  },
  {
   "cell_type": "markdown",
   "metadata": {},
   "source": [
    "<a href=\"#0\"><font size=\"1\">Go to top</font></a>  \n",
    "\n"
   ]
  },
  {
   "cell_type": "markdown",
   "metadata": {
    "_uuid": "93b243ad54ebfa759aaa57e4c3cd4d4a4edd2feb"
   },
   "source": [
    "\n",
    "# <a id='5'>Predictive model for survival</a>  \n",
    "\n",
    "Let's start with creation of the predictive models. We will create a very simple model for starting."
   ]
  },
  {
   "cell_type": "markdown",
   "metadata": {
    "_uuid": "674450c7d711046ece6889cbe2923d4b2217e0ea"
   },
   "source": [
    "\n",
    "## <a id='50'>Split the data</a>  \n",
    "\n",
    "Let's split the training and validation set. We will use a 80-20 split.\n",
    "We also set the matrices for train and validation and the vectors with the target values."
   ]
  },
  {
   "cell_type": "code",
   "execution_count": 83,
   "metadata": {
    "_kg_hide-input": true,
    "_uuid": "b4bbf9a7175f4bf24bc39192037768cf5926d04a"
   },
   "outputs": [],
   "source": [
    "#We are using 80-20 split for train-test\n",
    "VALID_SIZE = 0.2\n",
    "#We also use random state for reproducibility\n",
    "RANDOM_STATE = 2018\n",
    "\n",
    "train, valid = train_test_split(train_df, test_size=VALID_SIZE, random_state=RANDOM_STATE, shuffle=True )"
   ]
  },
  {
   "cell_type": "markdown",
   "metadata": {
    "_uuid": "87f2054b07681134ab6ce19d46f955fe5217a6d5"
   },
   "source": [
    "\n",
    "## <a id='51'>Build a baseline model</a>  "
   ]
  },
  {
   "cell_type": "markdown",
   "metadata": {
    "_uuid": "13d69dc08c0c8efdc4ae890ada0cd0b17f535125"
   },
   "source": [
    "We will start with a simple model, with just few predictors.\n",
    "\n",
    "Let's set now the predictors list and the target value. We start with two predictors, the `Sex` and `Pclass`."
   ]
  },
  {
   "cell_type": "code",
   "execution_count": 84,
   "metadata": {
    "_kg_hide-input": true,
    "_uuid": "16c8b6d71bb6a63d21aeac2b40dcdc0028614dfc"
   },
   "outputs": [],
   "source": [
    "predictors = ['Sex', 'Age']\n",
    "target = 'Survived'"
   ]
  },
  {
   "cell_type": "code",
   "execution_count": 85,
   "metadata": {
    "_kg_hide-input": true,
    "_uuid": "396cef911773d5c22a17d1e638fe4ed451edc71b"
   },
   "outputs": [],
   "source": [
    "train_X = train[predictors]\n",
    "train_Y = train[target].values\n",
    "valid_X = valid[predictors]\n",
    "valid_Y = valid[target].values"
   ]
  },
  {
   "cell_type": "markdown",
   "metadata": {
    "_uuid": "c525d396d22d8482bd8dcd967e3b68f4e89a24e7"
   },
   "source": [
    "Let's prepare a simple model, using Random Forest. We set few algorithm parameters and initialize a clasiffier."
   ]
  },
  {
   "cell_type": "code",
   "execution_count": 86,
   "metadata": {
    "_kg_hide-input": true,
    "_uuid": "314bb9eb2332cfb4144b3754dbbbbbe87f64936d"
   },
   "outputs": [],
   "source": [
    "RFC_METRIC = 'gini'  #metric used for RandomForrestClassifier\n",
    "NUM_ESTIMATORS = 100 #number of estimators used for RandomForrestClassifier\n",
    "NO_JOBS = 4 #number of parallel jobs used for RandomForrestClassifier"
   ]
  },
  {
   "cell_type": "code",
   "execution_count": 87,
   "metadata": {
    "_kg_hide-input": true,
    "_uuid": "3e2a8a4dd68c6a2e711e68eb438898f812e2b516"
   },
   "outputs": [],
   "source": [
    "clf = RandomForestClassifier(n_jobs=NO_JOBS, \n",
    "                             random_state=RANDOM_STATE,\n",
    "                             criterion=RFC_METRIC,\n",
    "                             n_estimators=NUM_ESTIMATORS,\n",
    "                             verbose=False)"
   ]
  },
  {
   "cell_type": "markdown",
   "metadata": {
    "_kg_hide-input": true,
    "_uuid": "95b4814c796011e289045320cd846b1e6a8d3278"
   },
   "source": [
    "Then, we fit the classifier with the train data prepared before."
   ]
  },
  {
   "cell_type": "code",
   "execution_count": 88,
   "metadata": {
    "_uuid": "8723e6de32203b92e2fac0e67603e97c7a9a1cbe",
    "scrolled": true
   },
   "outputs": [
    {
     "data": {
      "text/plain": [
       "RandomForestClassifier(bootstrap=True, class_weight=None, criterion='gini',\n",
       "            max_depth=None, max_features='auto', max_leaf_nodes=None,\n",
       "            min_impurity_decrease=0.0, min_impurity_split=None,\n",
       "            min_samples_leaf=1, min_samples_split=2,\n",
       "            min_weight_fraction_leaf=0.0, n_estimators=100, n_jobs=4,\n",
       "            oob_score=False, random_state=2018, verbose=False,\n",
       "            warm_start=False)"
      ]
     },
     "execution_count": 88,
     "metadata": {},
     "output_type": "execute_result"
    }
   ],
   "source": [
    "clf.fit(train_X, train_Y)"
   ]
  },
  {
   "cell_type": "code",
   "execution_count": 89,
   "metadata": {
    "_kg_hide-input": true,
    "_uuid": "aa13d6e5de7f2c25ff372cb4d31354090b3ca9a0"
   },
   "outputs": [],
   "source": [
    "preds = clf.predict(valid_X)"
   ]
  },
  {
   "cell_type": "markdown",
   "metadata": {
    "_uuid": "fcd21e80ab0d71eb57c837cf6d7b9cd1e1e7bfe7"
   },
   "source": [
    "Let's plot the features importance. This shows the relative importance of the predictors features for the current model. With this information, we are able to select the features we will use for our gradually refined models."
   ]
  },
  {
   "cell_type": "code",
   "execution_count": 90,
   "metadata": {
    "_kg_hide-input": true,
    "_uuid": "bbd67d5478e207ad61d700f3562e713dd8d703c1"
   },
   "outputs": [],
   "source": [
    "def plot_feature_importance():\n",
    "    tmp = pd.DataFrame({'Feature': predictors, 'Feature importance': clf.feature_importances_})\n",
    "    tmp = tmp.sort_values(by='Feature importance',ascending=False)\n",
    "    plt.figure(figsize = (7,4))\n",
    "    plt.title('Features importance',fontsize=14)\n",
    "    s = sns.barplot(x='Feature',y='Feature importance',data=tmp)\n",
    "    s.set_xticklabels(s.get_xticklabels(),rotation=90)\n",
    "    plt.show()   "
   ]
  },
  {
   "cell_type": "code",
   "execution_count": 91,
   "metadata": {
    "_kg_hide-input": true,
    "_uuid": "dc8226b1e855234708f0da0550ba7f0909deccec"
   },
   "outputs": [
    {
     "data": {
      "image/png": "[encoded data removed]",
      "text/plain": [
       "<Figure size 504x288 with 1 Axes>"
      ]
     },
     "metadata": {},
     "output_type": "display_data"
    }
   ],
   "source": [
    "plot_feature_importance()"
   ]
  },
  {
   "cell_type": "markdown",
   "metadata": {
    "_uuid": "5112a31d0bd5c886c0eb2cd83a837cd5f7a943a6"
   },
   "source": [
    "<a href=\"#0\"><font size=\"1\">Go to top</font></a>  \n",
    "\n",
    "\n",
    "## <a id='52'>Evaluate the model</a>  \n",
    "\n",
    "Let's evaluate the model performance. \n",
    "\n",
    "We are evaluating first the accuracy for the train set.\n",
    "\n"
   ]
  },
  {
   "cell_type": "code",
   "execution_count": 92,
   "metadata": {
    "_kg_hide-input": true,
    "_uuid": "51ffe3890dfced2f5b5546bc441a69242cd7bc29"
   },
   "outputs": [
    {
     "name": "stdout",
     "output_type": "stream",
     "text": [
      "RandomForest accuracy (train set): 77.81\n"
     ]
    }
   ],
   "source": [
    "clf.score(train_X, train_Y)\n",
    "acc = round(clf.score(train_X, train_Y) * 100, 2)\n",
    "print(\"RandomForest accuracy (train set):\", acc)"
   ]
  },
  {
   "cell_type": "markdown",
   "metadata": {
    "_uuid": "c0aa302d865f53de7e99bc4e04e73cf2b1b52136"
   },
   "source": [
    "The result means that the total number of correct predictions divided by the total number of examples in the training set is around 0.77. Because we have a binary classification, this means:\n",
    "\n",
    "$$Accuracy =\\frac{ \\textrm{True Positives} + \\textrm{True Negatives}}{\\textrm{Number of Examples}}$$ \n",
    "\n",
    "\n",
    "Then we evaluate the accuracy for the validation set. "
   ]
  },
  {
   "cell_type": "code",
   "execution_count": 93,
   "metadata": {
    "_kg_hide-input": true,
    "_uuid": "8d8969996a91a883971aee5186d5e567e0f5c2ad"
   },
   "outputs": [
    {
     "name": "stdout",
     "output_type": "stream",
     "text": [
      "RandomForest accuracy (validation set): 82.12\n"
     ]
    }
   ],
   "source": [
    "clf.score(valid_X, valid_Y)\n",
    "acc = round(clf.score(valid_X, valid_Y) * 100, 2)\n",
    "print(\"RandomForest accuracy (validation set):\", acc)"
   ]
  },
  {
   "cell_type": "markdown",
   "metadata": {
    "_uuid": "e4eedee864f9879da33a3c0d0136af9aac129556"
   },
   "source": [
    "The accuracy for the validation is much better than the accuracy for the training set. \n",
    "This means we have higher bias than variation. The model does not learn too well the training set, we are not overfitting (yet). The validation is better, i.e. we are generalizing well. Before improving the variation, we will try to improve the bias, while looking how this affects the variation as well.\n",
    "\n",
    "Let's plot now the classification report for validation data."
   ]
  },
  {
   "cell_type": "code",
   "execution_count": 94,
   "metadata": {
    "_kg_hide-input": true,
    "_uuid": "bf61729ac99eadd847591246585420c855edc2f3"
   },
   "outputs": [
    {
     "name": "stdout",
     "output_type": "stream",
     "text": [
      "              precision    recall  f1-score   support\n",
      "\n",
      "Not Survived       0.84      0.89      0.86       115\n",
      "    Survived       0.78      0.70      0.74        64\n",
      "\n",
      "   micro avg       0.82      0.82      0.82       179\n",
      "   macro avg       0.81      0.80      0.80       179\n",
      "weighted avg       0.82      0.82      0.82       179\n",
      "\n"
     ]
    }
   ],
   "source": [
    "print(metrics.classification_report(valid_Y, preds, target_names=['Not Survived', 'Survived']))"
   ]
  },
  {
   "cell_type": "markdown",
   "metadata": {
    "_uuid": "4e12c06c3cbab2e217d08d96e12a0b23ab48c6b9"
   },
   "source": [
    "There are few values given in this report / each category in the target (`Survived` or `Not survived`):\n",
    "\n",
    "* **Precision**  \n",
    "* **Recall**  \n",
    "* **F1-score**  \n",
    "\n",
    "Let's explain each of them:\n",
    "\n",
    "* **Precision** identifies the frequency with which a model was correct when predicting the positive class. That is:\n",
    "\n",
    "$$Precision = \\frac{\\textrm{True Positives}}{\\textrm{True Positives} + \\textrm{False Positives}}$$\n",
    "\n",
    "* **Recall** answers the following question: Out of all the possible positive labels, how many did the model correctly identify? That is:\n",
    "\n",
    "$$Recall = \\frac{\\textrm{True Positives}}{\\textrm{True Positives} + \\textrm{False Negatives}}$$\n",
    "\n",
    "* **F1-score** is the harmonic mean of **precision** and **recall**.\n",
    "\n",
    "$$\\textrm{F1-score} = 2  \\frac{Precision * Recall}{Precision + Recall}$$\n",
    "\n",
    "\n",
    "Precison is better for the `Not survived` as well as Recall and F1-score.\n",
    "\n",
    "Let's also show the confusion matrix."
   ]
  },
  {
   "cell_type": "code",
   "execution_count": 95,
   "metadata": {
    "_kg_hide-input": true,
    "_uuid": "5b16ca41d3807973a35cc683818f3a7a85a38136"
   },
   "outputs": [],
   "source": [
    "def plot_confusion_matrix():\n",
    "    cm = pd.crosstab(valid_Y, preds, rownames=['Actual'], colnames=['Predicted'])\n",
    "    fig, (ax1) = plt.subplots(ncols=1, figsize=(5,5))\n",
    "    sns.heatmap(cm, \n",
    "                xticklabels=['Not Survived', 'Survived'],\n",
    "                yticklabels=['Not Survived', 'Survived'],\n",
    "                annot=True,ax=ax1,\n",
    "                linewidths=.2,linecolor=\"Darkblue\", cmap=\"Blues\")\n",
    "    plt.title('Confusion Matrix', fontsize=14)\n",
    "    plt.show()"
   ]
  },
  {
   "cell_type": "code",
   "execution_count": 96,
   "metadata": {
    "_kg_hide-input": true,
    "_uuid": "9de43dafd912619d9b6ff19aae22e207f962c16d"
   },
   "outputs": [
    {
     "data": {
      "image/png": "[encoded data removed]",
      "text/plain": [
       "<Figure size 360x360 with 2 Axes>"
      ]
     },
     "metadata": {},
     "output_type": "display_data"
    }
   ],
   "source": [
    "plot_confusion_matrix()"
   ]
  },
  {
   "cell_type": "markdown",
   "metadata": {
    "_kg_hide-input": true,
    "_uuid": "5be4ce11403bee48ae79dc29e584b2cfc89526eb"
   },
   "source": [
    "<a href=\"#0\"><font size=\"1\">Go to top</font></a>  \n",
    "\n",
    "## <a id='53'>Model refinement</a> \n",
    "\n",
    "Let's rebuild the model and add more features to it."
   ]
  },
  {
   "cell_type": "markdown",
   "metadata": {
    "_uuid": "9434088cb662ce0ccb826c2f439e861f5850a892"
   },
   "source": [
    "### Model with {Sex, Age, Pclass, Fare} features"
   ]
  },
  {
   "cell_type": "code",
   "execution_count": 97,
   "metadata": {
    "_kg_hide-input": true,
    "_uuid": "99996c033894e740695320ea4031f9d5450ba34a"
   },
   "outputs": [],
   "source": [
    "predictors = ['Sex', 'Age', 'Pclass', 'Fare']\n",
    "target = 'Survived'"
   ]
  },
  {
   "cell_type": "code",
   "execution_count": 98,
   "metadata": {
    "_uuid": "f4cd30e5eb826f9c34df992aded9847ef04d4b76"
   },
   "outputs": [],
   "source": [
    "train_X = train[predictors]\n",
    "train_Y = train[target].values\n",
    "valid_X = valid[predictors]\n",
    "valid_Y = valid[target].values"
   ]
  },
  {
   "cell_type": "markdown",
   "metadata": {
    "_kg_hide-input": false,
    "_uuid": "835c18c27f03e3d8603363881d04b69f4c9c9365"
   },
   "source": [
    "We fit the model."
   ]
  },
  {
   "cell_type": "code",
   "execution_count": 99,
   "metadata": {
    "_kg_hide-input": true,
    "_uuid": "f7255d67539fa2c39da26a9fa972a466f25c018e"
   },
   "outputs": [
    {
     "data": {
      "text/plain": [
       "RandomForestClassifier(bootstrap=True, class_weight=None, criterion='gini',\n",
       "            max_depth=None, max_features='auto', max_leaf_nodes=None,\n",
       "            min_impurity_decrease=0.0, min_impurity_split=None,\n",
       "            min_samples_leaf=1, min_samples_split=2,\n",
       "            min_weight_fraction_leaf=0.0, n_estimators=100, n_jobs=4,\n",
       "            oob_score=False, random_state=2018, verbose=False,\n",
       "            warm_start=False)"
      ]
     },
     "execution_count": 99,
     "metadata": {},
     "output_type": "execute_result"
    }
   ],
   "source": [
    "clf.fit(train_X, train_Y)"
   ]
  },
  {
   "cell_type": "markdown",
   "metadata": {
    "_uuid": "db06161fd9436880e9defd381e6b770dbf95b699"
   },
   "source": [
    "We predict the validation set."
   ]
  },
  {
   "cell_type": "code",
   "execution_count": 100,
   "metadata": {
    "_uuid": "b2c214814d5f4532a6a1b779b567e2e8106cd7de"
   },
   "outputs": [],
   "source": [
    "preds = clf.predict(valid_X)"
   ]
  },
  {
   "cell_type": "markdown",
   "metadata": {
    "_uuid": "5efcd7af986b9f047e720d4e40d6b02b66e99d32"
   },
   "source": [
    "Let's plot feature importance."
   ]
  },
  {
   "cell_type": "code",
   "execution_count": 101,
   "metadata": {
    "_uuid": "534183c6c6f0b1230cfa540a4a1ef34f2137eaef"
   },
   "outputs": [
    {
     "data": {
      "image/png": "[encoded data removed]",
      "text/plain": [
       "<Figure size 504x288 with 1 Axes>"
      ]
     },
     "metadata": {},
     "output_type": "display_data"
    }
   ],
   "source": [
    "plot_feature_importance()"
   ]
  },
  {
   "cell_type": "markdown",
   "metadata": {
    "_uuid": "afaa13f731f88af06e6982d59d95dd528153b730"
   },
   "source": [
    "Let's see the accuracy for the training set and for the validation set."
   ]
  },
  {
   "cell_type": "code",
   "execution_count": 102,
   "metadata": {
    "_kg_hide-input": true,
    "_uuid": "3b3235c28ff96fe18a04b0a6667afed89936f99f"
   },
   "outputs": [
    {
     "name": "stdout",
     "output_type": "stream",
     "text": [
      "RandomForest accuracy (train set): 82.44\n"
     ]
    }
   ],
   "source": [
    "clf.score(train_X, train_Y)\n",
    "acc = round(clf.score(train_X, train_Y) * 100, 2)\n",
    "print(\"RandomForest accuracy (train set):\", acc)"
   ]
  },
  {
   "cell_type": "code",
   "execution_count": 103,
   "metadata": {
    "_kg_hide-input": true,
    "_uuid": "de0845bb56baaaa754090144c8bc86c17e67cc2f"
   },
   "outputs": [
    {
     "name": "stdout",
     "output_type": "stream",
     "text": [
      "RandomForest accuracy (validation set): 85.47\n"
     ]
    }
   ],
   "source": [
    "clf.score(valid_X, valid_Y)\n",
    "acc = round(clf.score(valid_X, valid_Y) * 100, 2)\n",
    "print(\"RandomForest accuracy (validation set):\", acc)"
   ]
  },
  {
   "cell_type": "markdown",
   "metadata": {
    "_uuid": "ac115ea2ad97feffd6de8d6a5c2df2b29cd137b4"
   },
   "source": [
    "Let's see also the classification report for the validation set."
   ]
  },
  {
   "cell_type": "code",
   "execution_count": 104,
   "metadata": {
    "_kg_hide-input": true,
    "_uuid": "309b6dd183bb2f95c3533f8209f6380b44b319db"
   },
   "outputs": [
    {
     "name": "stdout",
     "output_type": "stream",
     "text": [
      "              precision    recall  f1-score   support\n",
      "\n",
      "Not Survived       0.85      0.94      0.89       115\n",
      "    Survived       0.87      0.70      0.78        64\n",
      "\n",
      "   micro avg       0.85      0.85      0.85       179\n",
      "   macro avg       0.86      0.82      0.83       179\n",
      "weighted avg       0.86      0.85      0.85       179\n",
      "\n"
     ]
    }
   ],
   "source": [
    "print(metrics.classification_report(valid_Y, preds, target_names=['Not Survived', 'Survived']))"
   ]
  },
  {
   "cell_type": "markdown",
   "metadata": {
    "_uuid": "697a726cb56b51803a4a9a095a443b44077ad2e5"
   },
   "source": [
    "Here we plot the confusion matrix."
   ]
  },
  {
   "cell_type": "code",
   "execution_count": 105,
   "metadata": {
    "_kg_hide-input": true,
    "_uuid": "d02cd9c8bc289fbfcf114d016933b677bbbed681"
   },
   "outputs": [
    {
     "data": {
      "image/png": "[encoded data removed]",
      "text/plain": [
       "<Figure size 360x360 with 2 Axes>"
      ]
     },
     "metadata": {},
     "output_type": "display_data"
    }
   ],
   "source": [
    "plot_confusion_matrix()"
   ]
  },
  {
   "cell_type": "markdown",
   "metadata": {
    "_uuid": "d77f3d34c0f625fd2d8caca727cf55a896ae9165"
   },
   "source": [
    "The model performance with train data improved, i.e. the model is now representing better the training set.  The accuracy and precision with the validation set was as well improved. The recall and f1-score are smaller for `Survived`. \n",
    "\n",
    "Let's repeat the experiment adding more features."
   ]
  },
  {
   "cell_type": "markdown",
   "metadata": {
    "_uuid": "7c33474adf279487d71978e346fb78d1dd9fb027"
   },
   "source": [
    "### Model with {Sex, Age, Pclass, Fare, Parch, SibSp} features"
   ]
  },
  {
   "cell_type": "code",
   "execution_count": 106,
   "metadata": {
    "_kg_hide-input": true,
    "_uuid": "54798ed4e2c9750e57a0e7c8df867ccc29674125"
   },
   "outputs": [],
   "source": [
    "predictors = ['Sex', 'Age', 'Pclass', 'Fare', 'Parch', 'SibSp']\n",
    "target = 'Survived'"
   ]
  },
  {
   "cell_type": "code",
   "execution_count": 107,
   "metadata": {
    "_kg_hide-input": true,
    "_uuid": "ab43add580aeafc6cdc2b79ee2a41aefc1ee8e9b"
   },
   "outputs": [],
   "source": [
    "train_X = train[predictors]\n",
    "train_Y = train[target].values\n",
    "valid_X = valid[predictors]\n",
    "valid_Y = valid[target].values"
   ]
  },
  {
   "cell_type": "markdown",
   "metadata": {
    "_uuid": "58005c620a0e28626ce513c7403aa0bef3e3e9b4"
   },
   "source": [
    "Let's fit the model with the new predictors."
   ]
  },
  {
   "cell_type": "code",
   "execution_count": 108,
   "metadata": {
    "_kg_hide-input": true,
    "_uuid": "d71f3908acedde795948afc4188cc3a80524c41e"
   },
   "outputs": [
    {
     "data": {
      "text/plain": [
       "RandomForestClassifier(bootstrap=True, class_weight=None, criterion='gini',\n",
       "            max_depth=None, max_features='auto', max_leaf_nodes=None,\n",
       "            min_impurity_decrease=0.0, min_impurity_split=None,\n",
       "            min_samples_leaf=1, min_samples_split=2,\n",
       "            min_weight_fraction_leaf=0.0, n_estimators=100, n_jobs=4,\n",
       "            oob_score=False, random_state=2018, verbose=False,\n",
       "            warm_start=False)"
      ]
     },
     "execution_count": 108,
     "metadata": {},
     "output_type": "execute_result"
    }
   ],
   "source": [
    "clf.fit(train_X, train_Y)"
   ]
  },
  {
   "cell_type": "markdown",
   "metadata": {
    "_uuid": "5fb25742357103cff3523d818d7f652326b5e20f"
   },
   "source": [
    "We predict the validation set."
   ]
  },
  {
   "cell_type": "code",
   "execution_count": 109,
   "metadata": {
    "_uuid": "3e254cab35a5771948a04a4cd8e42c878193f715"
   },
   "outputs": [],
   "source": [
    "preds = clf.predict(valid_X)"
   ]
  },
  {
   "cell_type": "markdown",
   "metadata": {
    "_uuid": "705806453350c615d94c599d61383d44b843e27f"
   },
   "source": [
    "We plot the feature importance."
   ]
  },
  {
   "cell_type": "code",
   "execution_count": 110,
   "metadata": {
    "_kg_hide-input": true,
    "_uuid": "5a2d40772abb38ceef3cb54f6799086d81d2f713"
   },
   "outputs": [
    {
     "data": {
      "image/png": "[encoded data removed]",
      "text/plain": [
       "<Figure size 504x288 with 1 Axes>"
      ]
     },
     "metadata": {},
     "output_type": "display_data"
    }
   ],
   "source": [
    "plot_feature_importance()"
   ]
  },
  {
   "cell_type": "markdown",
   "metadata": {
    "_uuid": "24b994937629d9e93038145963855ecea3764e91"
   },
   "source": [
    "**Sex** is the dominant feature, followed by **Pclass** and **Fare**.  \n",
    "Let's see the accuracy for the training set and also for the validation set classification."
   ]
  },
  {
   "cell_type": "code",
   "execution_count": 111,
   "metadata": {
    "_kg_hide-input": true,
    "_uuid": "028354be465fafee0cefb19e4c5e4321a02354d3"
   },
   "outputs": [
    {
     "name": "stdout",
     "output_type": "stream",
     "text": [
      "RandomForest accuracy (train set): 86.66\n"
     ]
    }
   ],
   "source": [
    "clf.score(train_X, train_Y)\n",
    "acc = round(clf.score(train_X, train_Y) * 100, 2)\n",
    "print(\"RandomForest accuracy (train set):\", acc)"
   ]
  },
  {
   "cell_type": "code",
   "execution_count": 112,
   "metadata": {
    "_kg_hide-input": true,
    "_uuid": "c510076530a0b93b8a9d1eb5c19bfc000ba6ad88"
   },
   "outputs": [
    {
     "name": "stdout",
     "output_type": "stream",
     "text": [
      "RandomForest accuracy (validation set): 83.24\n"
     ]
    }
   ],
   "source": [
    "clf.score(valid_X, valid_Y)\n",
    "acc = round(clf.score(valid_X, valid_Y) * 100, 2)\n",
    "print(\"RandomForest accuracy (validation set):\", acc)"
   ]
  },
  {
   "cell_type": "markdown",
   "metadata": {
    "_uuid": "e282db321874b91a4b1b7afeb13139f6923ab3f4"
   },
   "source": [
    "Let's also plot the classification report for the validation set."
   ]
  },
  {
   "cell_type": "code",
   "execution_count": 113,
   "metadata": {
    "_kg_hide-input": true,
    "_uuid": "9e9361488c91242a1a2e64bbddee682184035176"
   },
   "outputs": [
    {
     "name": "stdout",
     "output_type": "stream",
     "text": [
      "              precision    recall  f1-score   support\n",
      "\n",
      "Not Survived       0.88      0.86      0.87       115\n",
      "    Survived       0.76      0.78      0.77        64\n",
      "\n",
      "   micro avg       0.83      0.83      0.83       179\n",
      "   macro avg       0.82      0.82      0.82       179\n",
      "weighted avg       0.83      0.83      0.83       179\n",
      "\n"
     ]
    }
   ],
   "source": [
    "print(metrics.classification_report(valid_Y, preds, target_names=['Not Survived', 'Survived']))"
   ]
  },
  {
   "cell_type": "code",
   "execution_count": 114,
   "metadata": {
    "_uuid": "ca77d1bb13117c4de92a650da889236ca84a6a56"
   },
   "outputs": [
    {
     "data": {
      "image/png": "[encoded data removed]",
      "text/plain": [
       "<Figure size 360x360 with 2 Axes>"
      ]
     },
     "metadata": {},
     "output_type": "display_data"
    }
   ],
   "source": [
    "plot_confusion_matrix()"
   ]
  },
  {
   "cell_type": "markdown",
   "metadata": {
    "_uuid": "49760919857fb4ff657d08d450bebf49cadd07e2"
   },
   "source": [
    "The accuracy for the train data classification improved further but the accuracy and precision for validation did not improved.    \n",
    "\n",
    "Let's add few more engineering features.\n",
    "\n",
    "\n",
    "### Model with {Sex, Age, Pclass, Fare, Parch, SibSp, FamilySize, Title} features"
   ]
  },
  {
   "cell_type": "code",
   "execution_count": 115,
   "metadata": {
    "_kg_hide-input": true,
    "_uuid": "168258ce763e26cf5f339479c18e920396a19bce"
   },
   "outputs": [],
   "source": [
    "predictors = ['Sex', 'Age', 'Pclass', 'Fare', 'Parch', 'SibSp', 'FamilySize', 'Title']\n",
    "target = 'Survived'"
   ]
  },
  {
   "cell_type": "code",
   "execution_count": 116,
   "metadata": {
    "_kg_hide-input": true,
    "_uuid": "eb4eefe1d9daba90e58596dc97b5351f556cdf44"
   },
   "outputs": [],
   "source": [
    "train_X = train[predictors]\n",
    "train_Y = train[target].values\n",
    "valid_X = valid[predictors]\n",
    "valid_Y = valid[target].values"
   ]
  },
  {
   "cell_type": "markdown",
   "metadata": {
    "_uuid": "ec1e45ba8ebe16e0a2f240744e4503926e322f16"
   },
   "source": [
    "Let's fit the model with the new data."
   ]
  },
  {
   "cell_type": "code",
   "execution_count": 117,
   "metadata": {
    "_kg_hide-input": true,
    "_uuid": "9b2d134315335a7347e9a0633ac1f57035318033",
    "scrolled": true
   },
   "outputs": [
    {
     "data": {
      "text/plain": [
       "RandomForestClassifier(bootstrap=True, class_weight=None, criterion='gini',\n",
       "            max_depth=None, max_features='auto', max_leaf_nodes=None,\n",
       "            min_impurity_decrease=0.0, min_impurity_split=None,\n",
       "            min_samples_leaf=1, min_samples_split=2,\n",
       "            min_weight_fraction_leaf=0.0, n_estimators=100, n_jobs=4,\n",
       "            oob_score=False, random_state=2018, verbose=False,\n",
       "            warm_start=False)"
      ]
     },
     "execution_count": 117,
     "metadata": {},
     "output_type": "execute_result"
    }
   ],
   "source": [
    "clf.fit(train_X, train_Y)"
   ]
  },
  {
   "cell_type": "markdown",
   "metadata": {
    "_uuid": "b5d9f804889ca522c8549ec7881eaa8fc45bd414"
   },
   "source": [
    "We predict the validation set."
   ]
  },
  {
   "cell_type": "code",
   "execution_count": 118,
   "metadata": {
    "_uuid": "1205525f9e63d27ff1a23c96de2a8cc4a7483431"
   },
   "outputs": [],
   "source": [
    "preds = clf.predict(valid_X)"
   ]
  },
  {
   "cell_type": "markdown",
   "metadata": {
    "_uuid": "1fec0a74c32dd51be9f0278801545f3e5a203a5f"
   },
   "source": [
    "Let's plot also the feature importance."
   ]
  },
  {
   "cell_type": "code",
   "execution_count": 119,
   "metadata": {
    "_uuid": "310bbfa5ff058a6c094c6a1f6d27d9831b934a79"
   },
   "outputs": [
    {
     "data": {
      "image/png": "[encoded data removed]",
      "text/plain": [
       "<Figure size 504x288 with 1 Axes>"
      ]
     },
     "metadata": {},
     "output_type": "display_data"
    }
   ],
   "source": [
    "plot_feature_importance()"
   ]
  },
  {
   "cell_type": "markdown",
   "metadata": {
    "_uuid": "2c154c6398e64e8489d744003864489cc7b42169"
   },
   "source": [
    "Let's see the train set and validation set classification accuracy."
   ]
  },
  {
   "cell_type": "code",
   "execution_count": 120,
   "metadata": {
    "_kg_hide-input": true,
    "_uuid": "b305e7b46812567b14de434606946cd480c37743"
   },
   "outputs": [
    {
     "name": "stdout",
     "output_type": "stream",
     "text": [
      "RandomForest accuracy (train set): 87.92\n"
     ]
    }
   ],
   "source": [
    "clf.score(train_X, train_Y)\n",
    "acc = round(clf.score(train_X, train_Y) * 100, 2)\n",
    "print(\"RandomForest accuracy (train set):\", acc)"
   ]
  },
  {
   "cell_type": "code",
   "execution_count": 121,
   "metadata": {
    "_kg_hide-input": true,
    "_uuid": "201120ae98e804f35ef4ba155a6baffa7bea3091"
   },
   "outputs": [
    {
     "name": "stdout",
     "output_type": "stream",
     "text": [
      "RandomForest accuracy (validation set): 81.56\n"
     ]
    }
   ],
   "source": [
    "clf.score(valid_X, valid_Y)\n",
    "acc = round(clf.score(valid_X, valid_Y) * 100, 2)\n",
    "print(\"RandomForest accuracy (validation set):\", acc)"
   ]
  },
  {
   "cell_type": "markdown",
   "metadata": {
    "_uuid": "14eb1fc9364047bf58c2f84b5e649fd99ebcb0f2"
   },
   "source": [
    "The classification report for the validation set."
   ]
  },
  {
   "cell_type": "code",
   "execution_count": 122,
   "metadata": {
    "_kg_hide-input": true,
    "_uuid": "f95f5a2759bca4e51c270f4129d74e55230c2204"
   },
   "outputs": [
    {
     "name": "stdout",
     "output_type": "stream",
     "text": [
      "              precision    recall  f1-score   support\n",
      "\n",
      "Not Survived       0.85      0.86      0.86       115\n",
      "    Survived       0.75      0.73      0.74        64\n",
      "\n",
      "   micro avg       0.82      0.82      0.82       179\n",
      "   macro avg       0.80      0.80      0.80       179\n",
      "weighted avg       0.82      0.82      0.82       179\n",
      "\n"
     ]
    }
   ],
   "source": [
    "print(metrics.classification_report(valid_Y, preds, target_names=['Not Survived', 'Survived']))"
   ]
  },
  {
   "cell_type": "markdown",
   "metadata": {
    "_uuid": "046aab8db05c0622dc7b6ad75d3d61e5744909c8"
   },
   "source": [
    "The confusion matrix."
   ]
  },
  {
   "cell_type": "code",
   "execution_count": 123,
   "metadata": {
    "_kg_hide-input": true,
    "_uuid": "e1ef3e18104cd2c30cf0bf47196b9ff1f327ba96"
   },
   "outputs": [
    {
     "data": {
      "image/png": "[encoded data removed]",
      "text/plain": [
       "<Figure size 360x360 with 2 Axes>"
      ]
     },
     "metadata": {},
     "output_type": "display_data"
    }
   ],
   "source": [
    "plot_confusion_matrix()"
   ]
  },
  {
   "cell_type": "markdown",
   "metadata": {
    "_uuid": "a92ae021fb8eb4bf8eb6a668abc7f4cdcd85c6e4"
   },
   "source": [
    "The training set accuracy improved even more. In the same time, validation score is not very much improved. This indicates that most probably the model where we added more features is overfitting on the training set. Actually, the best model obtained until now was the one with {Sex, Age, Pclass, Fare} features, where accuracies for training set and validation set were 82% and 86% (with quite good precision for all categories and small recall for `Survived`).\n",
    "\n",
    "Let's try with a simpler model.\n",
    "\n",
    "\n",
    "### Model with {Title, FamilySize, Pclass} features\n",
    "\n",
    "The simple model we will try now, with only three features, is actually using only engineered features."
   ]
  },
  {
   "cell_type": "code",
   "execution_count": 124,
   "metadata": {
    "_kg_hide-input": true,
    "_uuid": "62994428db77c1d23ee4f382607f6ca446cbe79f"
   },
   "outputs": [],
   "source": [
    "predictors = ['FamilySize', 'Title', 'Class*Age']\n",
    "target = 'Survived'"
   ]
  },
  {
   "cell_type": "code",
   "execution_count": 125,
   "metadata": {
    "_kg_hide-input": true,
    "_uuid": "9b2aca0c2ee71d2a2b2d463011f044ae03f744d2"
   },
   "outputs": [],
   "source": [
    "train_X = train[predictors]\n",
    "train_Y = train[target].values\n",
    "valid_X = valid[predictors]\n",
    "valid_Y = valid[target].values"
   ]
  },
  {
   "cell_type": "markdown",
   "metadata": {
    "_uuid": "ec695faff41e2b27a68509a8b0352cf8d4c08b4a"
   },
   "source": [
    "We fit the model."
   ]
  },
  {
   "cell_type": "code",
   "execution_count": 126,
   "metadata": {
    "_kg_hide-input": true,
    "_uuid": "400ecde9344f253da24019cb2e135a3e0929f091"
   },
   "outputs": [],
   "source": [
    "rf_clf = clf.fit(train_X, train_Y)"
   ]
  },
  {
   "cell_type": "markdown",
   "metadata": {
    "_uuid": "a2d6e73d40c3ed1708163d961cb6908909577835"
   },
   "source": [
    "Let's plot the parameters for the classifier."
   ]
  },
  {
   "cell_type": "code",
   "execution_count": 127,
   "metadata": {
    "_kg_hide-input": true,
    "_uuid": "70ecbd3c8c0535e91df3b1c7f88e10457acd328c"
   },
   "outputs": [
    {
     "data": {
      "text/plain": [
       "RandomForestClassifier(bootstrap=True, class_weight=None, criterion='gini',\n",
       "            max_depth=None, max_features='auto', max_leaf_nodes=None,\n",
       "            min_impurity_decrease=0.0, min_impurity_split=None,\n",
       "            min_samples_leaf=1, min_samples_split=2,\n",
       "            min_weight_fraction_leaf=0.0, n_estimators=100, n_jobs=4,\n",
       "            oob_score=False, random_state=2018, verbose=False,\n",
       "            warm_start=False)"
      ]
     },
     "execution_count": 127,
     "metadata": {},
     "output_type": "execute_result"
    }
   ],
   "source": [
    "rf_clf"
   ]
  },
  {
   "cell_type": "markdown",
   "metadata": {
    "_uuid": "e994d125791f85888e06bda7a77a9db46fc0113f"
   },
   "source": [
    "We predict the validation set."
   ]
  },
  {
   "cell_type": "code",
   "execution_count": 128,
   "metadata": {
    "_kg_hide-input": true,
    "_uuid": "45d6012a316f763bc762deab889e32055d8f3ada"
   },
   "outputs": [],
   "source": [
    "preds = clf.predict(valid_X)"
   ]
  },
  {
   "cell_type": "markdown",
   "metadata": {
    "_uuid": "f0d94a34dd1ea7354948f8d1746211b74f5ec453"
   },
   "source": [
    "We check the features importance."
   ]
  },
  {
   "cell_type": "code",
   "execution_count": 129,
   "metadata": {
    "_kg_hide-output": true,
    "_uuid": "55236b749f4ebe5016f9547f21e3968106359357"
   },
   "outputs": [
    {
     "data": {
      "image/png": "[encoded data removed]",
      "text/plain": [
       "<Figure size 504x288 with 1 Axes>"
      ]
     },
     "metadata": {},
     "output_type": "display_data"
    }
   ],
   "source": [
    "plot_feature_importance()"
   ]
  },
  {
   "cell_type": "code",
   "execution_count": 130,
   "metadata": {
    "_uuid": "17be7b6d2d7608a662825a94a6b63acf72f79c06"
   },
   "outputs": [
    {
     "name": "stdout",
     "output_type": "stream",
     "text": [
      "RandomForest accuracy (train set): 82.58\n"
     ]
    }
   ],
   "source": [
    "clf.score(train_X, train_Y)\n",
    "acc = round(clf.score(train_X, train_Y) * 100, 2)\n",
    "print(\"RandomForest accuracy (train set):\", acc)"
   ]
  },
  {
   "cell_type": "code",
   "execution_count": 131,
   "metadata": {
    "_uuid": "c9afa98e02d14a30d7b03f7ab622b392007b2321"
   },
   "outputs": [
    {
     "name": "stdout",
     "output_type": "stream",
     "text": [
      "RandomForest accuracy (validation set): 86.59\n"
     ]
    }
   ],
   "source": [
    "clf.score(valid_X, valid_Y)\n",
    "acc = round(clf.score(valid_X, valid_Y) * 100, 2)\n",
    "print(\"RandomForest accuracy (validation set):\", acc)"
   ]
  },
  {
   "cell_type": "markdown",
   "metadata": {
    "_uuid": "9bcb50811e1b58491d99dc8a30ab9eae1d402854"
   },
   "source": [
    "The training set classification accuracy is still good, although lower than that of the previous, more complex model.\n",
    "The validation set accuracy is the best obtained until now.\n",
    "\n",
    "**Title** is the most important feature.  \n",
    "\n",
    "Let's check now the classification report for the validation set."
   ]
  },
  {
   "cell_type": "code",
   "execution_count": 132,
   "metadata": {
    "_kg_hide-input": true,
    "_uuid": "bcb994919d835389b8543ffd78189bb5ebf63d12"
   },
   "outputs": [
    {
     "name": "stdout",
     "output_type": "stream",
     "text": [
      "              precision    recall  f1-score   support\n",
      "\n",
      "Not Survived       0.88      0.92      0.90       115\n",
      "    Survived       0.84      0.77      0.80        64\n",
      "\n",
      "   micro avg       0.87      0.87      0.87       179\n",
      "   macro avg       0.86      0.84      0.85       179\n",
      "weighted avg       0.86      0.87      0.86       179\n",
      "\n"
     ]
    }
   ],
   "source": [
    "print(metrics.classification_report(valid_Y, preds, target_names=['Not Survived', 'Survived']))"
   ]
  },
  {
   "cell_type": "markdown",
   "metadata": {
    "_uuid": "184723ba4674071dcdf1f1755529b6a9b6f0d28b"
   },
   "source": [
    "We see that we obtained an substantial improvement of the classification precision for the validation set.   Also the recall is better than in the case of the model with best accuracy and precision until now, besides this one.\n",
    "\n",
    "Let's also plot the confusion matrix."
   ]
  },
  {
   "cell_type": "code",
   "execution_count": 133,
   "metadata": {
    "_kg_hide-input": true,
    "_uuid": "4ebed7400240957350ddf5a5537d885c4bd0e03b"
   },
   "outputs": [
    {
     "data": {
      "image/png": "[encoded data removed]",
      "text/plain": [
       "<Figure size 360x360 with 2 Axes>"
      ]
     },
     "metadata": {},
     "output_type": "display_data"
    }
   ],
   "source": [
    "plot_confusion_matrix()"
   ]
  },
  {
   "cell_type": "markdown",
   "metadata": {
    "_uuid": "1c26b200a173e0f5ad0185deada22cbc142a7dfe"
   },
   "source": [
    "We will pick this last model for submission.\n",
    "It doesn't have the best accuracy for train set classification but have one of the best precision and accuracy for the validation set and also the smallest recall. \n",
    "\n",
    "Let's prepare the submission."
   ]
  },
  {
   "cell_type": "markdown",
   "metadata": {
    "_uuid": "06388524ac2f53cebe5ff2b613347223f40d01ce"
   },
   "source": [
    "<a href=\"#0\"><font size=\"1\">Go to top</font></a>  \n",
    "\n",
    "## <a id='54'>Submission</a>\n",
    "\n",
    "\n",
    "First, we predict for test data using the trained model."
   ]
  },
  {
   "cell_type": "code",
   "execution_count": 134,
   "metadata": {
    "_kg_hide-input": true,
    "_uuid": "70411d53d5dcd2ccd00faf4c120da1d0b6881c45"
   },
   "outputs": [],
   "source": [
    "test_X = test_df[predictors]\n",
    "pred_Y = clf.predict(test_X)"
   ]
  },
  {
   "cell_type": "markdown",
   "metadata": {
    "_uuid": "6a5cadfa4c4e2e2d4a50a808dab67d5d77641d29"
   },
   "source": [
    "Then, we prepare the submission dataset and export it in the submission file."
   ]
  },
  {
   "cell_type": "code",
   "execution_count": 135,
   "metadata": {
    "_kg_hide-input": true,
    "_uuid": "65495f0be6ecc98865efd665b900855301d988ec"
   },
   "outputs": [],
   "source": [
    "submission = pd.DataFrame({\"PassengerId\": test_df[\"PassengerId\"],\"Survived\": pred_Y})\n",
    "submission.to_csv('submission.csv', index=False)"
   ]
  },
  {
   "cell_type": "markdown",
   "metadata": {
    "_uuid": "e34d15c9b08f1e2c52e823127ae9ba384158a9b2"
   },
   "source": [
    "The precision obtained for the test set is approx. **0.79**."
   ]
  },
  {
   "cell_type": "markdown",
   "metadata": {
    "_uuid": "212581ba2ecf56af8b1bad0996d21aa7315c0bfd"
   },
   "source": [
    "<a href=\"#0\"><font size=\"1\">Go to top</font></a>  \n",
    "\n",
    "## <a id='55'>Hyperparameters optimization</a>\n",
    "\n",
    "\n",
    "Let's continue with tunning the model hyperparameters.   \n",
    "We define a set of parameters with several values and will run an algorithm called Gradient Search to detect the best combination of parameters for our model.  \n",
    "First, let's fit the model and assign the output of it to **rf_clf**."
   ]
  },
  {
   "cell_type": "code",
   "execution_count": 136,
   "metadata": {
    "_kg_hide-input": true,
    "_uuid": "ab3776e3f6f041fc75a733f4b8f96a5db6265b7b"
   },
   "outputs": [],
   "source": [
    "rf_clf = clf.fit(train_X, train_Y)"
   ]
  },
  {
   "cell_type": "markdown",
   "metadata": {
    "_uuid": "92905a6c1130d8cf7b9ec316bc1a68a33cdc87bd"
   },
   "source": [
    "Let's initialize the GradientSearchCV parameters. We will set only few parameters, as following:\n",
    "\n",
    "* **n_estimators**: number of trees in the foreset;  \n",
    "* **max_features**: max number of features considered for splitting a node;  \n",
    "* **max_depth**: max number of levels in each decision tree;  \n",
    "* **min_samples_split**: min number of data points placed in a node before the node is split;  \n",
    "* **min_samples_leaf**: min number of data points allowed in a leaf node.\n"
   ]
  },
  {
   "cell_type": "code",
   "execution_count": 137,
   "metadata": {
    "_kg_hide-input": true,
    "_uuid": "5484c36ce4a98fc2a93b976fa39f0da88b9e7789"
   },
   "outputs": [],
   "source": [
    "parameters = {\n",
    "    'n_estimators': (50, 75,100),\n",
    "    'max_features': ('auto', 'sqrt'),\n",
    "    'max_depth': (3,4,5),\n",
    "    'min_samples_split': (2,5,10),\n",
    "    'min_samples_leaf': (1,2,3)\n",
    "}"
   ]
  },
  {
   "cell_type": "markdown",
   "metadata": {
    "_uuid": "97568aa6acfe611835c4552ae38bedc9b4f5d02e"
   },
   "source": [
    "We initialize GridSearchCV with the classifier, the set of parameters, number of folds and also the level of verbose for printing out progress."
   ]
  },
  {
   "cell_type": "code",
   "execution_count": 138,
   "metadata": {
    "_kg_hide-input": true,
    "_uuid": "1a5601d1b2a0f36419d49b5a417e6f4708df0058"
   },
   "outputs": [
    {
     "name": "stdout",
     "output_type": "stream",
     "text": [
      "Fitting 5 folds for each of 162 candidates, totalling 810 fits\n"
     ]
    },
    {
     "name": "stderr",
     "output_type": "stream",
     "text": [
      "[Parallel(n_jobs=-1)]: Using backend LokyBackend with 4 concurrent workers.\n",
      "[Parallel(n_jobs=-1)]: Done  10 tasks      | elapsed:    6.2s\n",
      "[Parallel(n_jobs=-1)]: Done  64 tasks      | elapsed:   12.3s\n",
      "[Parallel(n_jobs=-1)]: Done 154 tasks      | elapsed:   22.2s\n",
      "[Parallel(n_jobs=-1)]: Done 280 tasks      | elapsed:   35.9s\n",
      "[Parallel(n_jobs=-1)]: Done 442 tasks      | elapsed:   54.0s\n",
      "[Parallel(n_jobs=-1)]: Done 640 tasks      | elapsed:  1.3min\n"
     ]
    },
    {
     "name": "stdout",
     "output_type": "stream",
     "text": [
      "CPU times: user 4.41 s, sys: 266 ms, total: 4.67 s\n",
      "Wall time: 1min 35s\n"
     ]
    },
    {
     "name": "stderr",
     "output_type": "stream",
     "text": [
      "[Parallel(n_jobs=-1)]: Done 810 out of 810 | elapsed:  1.6min finished\n"
     ]
    }
   ],
   "source": [
    "%%time\n",
    "gs_clf = GridSearchCV(rf_clf, parameters, n_jobs=-1, cv = 5, verbose = 5)\n",
    "gs_clf = gs_clf.fit(train_X, train_Y)"
   ]
  },
  {
   "cell_type": "markdown",
   "metadata": {
    "_uuid": "a998474ea3231578b95f5a03e8bd17f0b8024911"
   },
   "source": [
    "Let's see the best parameters."
   ]
  },
  {
   "cell_type": "code",
   "execution_count": 139,
   "metadata": {
    "_kg_hide-input": true,
    "_uuid": "c9f53858a732111a2e173804fe7ad1a8674ce65f"
   },
   "outputs": [
    {
     "name": "stdout",
     "output_type": "stream",
     "text": [
      "Best scores: 0.8132022471910112\n",
      "Best params: {'max_depth': 5, 'max_features': 'auto', 'min_samples_leaf': 1, 'min_samples_split': 5, 'n_estimators': 50}\n"
     ]
    }
   ],
   "source": [
    "print('Best scores:',gs_clf.best_score_)\n",
    "print('Best params:',gs_clf.best_params_)"
   ]
  },
  {
   "cell_type": "markdown",
   "metadata": {
    "_uuid": "1247fe2da02db685e2d12d2b80a43c8a4a3b96de"
   },
   "source": [
    "Let's predict with the validation data."
   ]
  },
  {
   "cell_type": "code",
   "execution_count": 140,
   "metadata": {
    "_kg_hide-input": true,
    "_uuid": "ef4ebc06d9be524405bb2a742b7176c3078e1081"
   },
   "outputs": [],
   "source": [
    "preds = gs_clf.predict(valid_X)"
   ]
  },
  {
   "cell_type": "markdown",
   "metadata": {
    "_uuid": "2b6ff4af16ff8fbb3f29771eecab342f68468962"
   },
   "source": [
    "Let's check the accuracy for the validation set."
   ]
  },
  {
   "cell_type": "code",
   "execution_count": 141,
   "metadata": {
    "_kg_hide-input": true,
    "_uuid": "8552a15346e474f654402b4d6dfae04ece158dfd"
   },
   "outputs": [
    {
     "name": "stdout",
     "output_type": "stream",
     "text": [
      "RandomForest accuracy (validation set): 86.59\n"
     ]
    }
   ],
   "source": [
    "clf.score(valid_X, valid_Y)\n",
    "acc = round(clf.score(valid_X, valid_Y) * 100, 2)\n",
    "print(\"RandomForest accuracy (validation set):\", acc)"
   ]
  },
  {
   "cell_type": "markdown",
   "metadata": {
    "_uuid": "e0ee8b0233b933eed68c00e1894f91367af6a900"
   },
   "source": [
    "Let's check the validation classification report."
   ]
  },
  {
   "cell_type": "code",
   "execution_count": 142,
   "metadata": {
    "_kg_hide-input": true,
    "_uuid": "e5eb8cc001544a70e0f429bbdb01e0ba47f2ef2c"
   },
   "outputs": [
    {
     "name": "stdout",
     "output_type": "stream",
     "text": [
      "              precision    recall  f1-score   support\n",
      "\n",
      "Not Survived       0.88      0.92      0.90       115\n",
      "    Survived       0.84      0.77      0.80        64\n",
      "\n",
      "   micro avg       0.87      0.87      0.87       179\n",
      "   macro avg       0.86      0.84      0.85       179\n",
      "weighted avg       0.86      0.87      0.86       179\n",
      "\n"
     ]
    }
   ],
   "source": [
    "print(metrics.classification_report(valid_Y, preds, target_names=['Not Survived', 'Survived']))"
   ]
  },
  {
   "cell_type": "markdown",
   "metadata": {
    "_uuid": "ffee0be047b4b6e29a4ef15746805475520efd2a"
   },
   "source": [
    "## <a id='56'>Submission (model with hyperparameters optimization)</a>\n",
    "\n",
    "\n",
    "First, we predict for test data using the trained model.\n"
   ]
  },
  {
   "cell_type": "code",
   "execution_count": 143,
   "metadata": {
    "_kg_hide-input": true,
    "_uuid": "4f76f6b6e9c796482d24482d245451da9ec079ab"
   },
   "outputs": [],
   "source": [
    "test_X = test_df[predictors]\n",
    "pred_Y = gs_clf.predict(test_X)"
   ]
  },
  {
   "cell_type": "markdown",
   "metadata": {
    "_uuid": "c76f42f6d7bbc727c5722bade84df2b9fa006634"
   },
   "source": [
    "Then we prepare the submission dataset and save it to the submission file."
   ]
  },
  {
   "cell_type": "code",
   "execution_count": 144,
   "metadata": {
    "_kg_hide-input": true,
    "_uuid": "759ae86b3e62be1203fff191f13ce8a4cc53695a"
   },
   "outputs": [],
   "source": [
    "submission = pd.DataFrame({\"PassengerId\": test_df[\"PassengerId\"],\"Survived\": pred_Y})\n",
    "submission.to_csv('submission_hyperparam_optimization.csv', index=False)"
   ]
  },
  {
   "cell_type": "markdown",
   "metadata": {},
   "source": [
    "<a href=\"#0\"><font size=\"1\">Go to top</font></a>  "
   ]
  },
  {
   "cell_type": "markdown",
   "metadata": {
    "_uuid": "8d0e186d58610f3250d9e5b2b0c7d95aabb1bc35"
   },
   "source": [
    "\n",
    "# <a id='6'>Model ensambling</a>\n",
    "\n",
    "\n",
    "Let's continue with creation of second level models. We will train several models and will then use these first level models to train a second level model. This method is powerfull and can enhance the performance of first level models, especially when there is little correlation between the results of first level models.\n"
   ]
  },
  {
   "cell_type": "markdown",
   "metadata": {
    "_uuid": "ed0081e2535c00cf053f12843727eb2e353b7f60"
   },
   "source": [
    "## <a id='61'>Create the ensamble framework</a>\n",
    "\n",
    "\n",
    "We start by creating a generic classifier, that extends the functionality of a simple classifier. This generic classifier will be instanciated with few different first level classifiers and then used in the ensamble. We are also using cross-validation (with KFolds).\n",
    "\n",
    "First step will be to create the folds used in cross validation."
   ]
  },
  {
   "cell_type": "code",
   "execution_count": 145,
   "metadata": {
    "_uuid": "1b4ed3d715babd5126a14173fb94708f787ff068"
   },
   "outputs": [],
   "source": [
    "NUMBER_KFOLDS = 5\n",
    "kf = KFold(n_splits = NUMBER_KFOLDS, random_state = RANDOM_STATE, shuffle = True)"
   ]
  },
  {
   "cell_type": "code",
   "execution_count": 146,
   "metadata": {
    "_uuid": "76adb43abfc9304fe8cd62871d7f2bd42dc68774"
   },
   "outputs": [],
   "source": [
    "# Class to extend the Sklearn classifier\n",
    "class SklearnBasicClassifier(object):\n",
    "    def __init__(self, clf, seed=2018, params=None):\n",
    "        params['random_state'] = seed\n",
    "        self.clf = clf(**params)\n",
    "\n",
    "    def train(self, x_train, y_train):\n",
    "        self.clf.fit(x_train, y_train)\n",
    "\n",
    "    def predict(self, x):\n",
    "        return self.clf.predict(x)\n",
    "    \n",
    "    def fit(self,x,y):\n",
    "        return self.clf.fit(x,y)\n",
    "    \n",
    "    def feature_importances(self,x,y):\n",
    "        print(self.clf.fit(x,y).feature_importances_)\n",
    "\n",
    "    def get_feature_importances(self,x,y):\n",
    "        return (self.clf.fit(x,y).feature_importances_)\n"
   ]
  },
  {
   "cell_type": "markdown",
   "metadata": {
    "_uuid": "fc8dbf50c7b111442c0b826363d54560d3fb0c0b"
   },
   "source": [
    "## <a id='62'>Create the Out-of-Fold Predictions</a>\n",
    "\n",
    "Let's now define out-of-folds predictions. If we would train the base models on the full training data and generate predictions on the full test set and then output these for the second-level training we might go into trouble. The risk here is that the base model predictions would have seen the test set and thus overfitting when feeding those predictions."
   ]
  },
  {
   "cell_type": "code",
   "execution_count": 147,
   "metadata": {
    "_uuid": "6fe8634e9098a432cfc8f9928581fa020bdfe03f"
   },
   "outputs": [],
   "source": [
    "ntrain = train_df.shape[0]\n",
    "ntest = test_df.shape[0]\n",
    "def get_oof_predictions(clf, x_train, y_train, x_test):\n",
    "    oof_train = np.zeros((ntrain,))\n",
    "    oof_test = np.zeros((ntest,))\n",
    "    oof_test_skf = np.empty((NUMBER_KFOLDS, ntest))\n",
    "    \n",
    "    for i, (train_idx, valid_idx) in enumerate(kf.split(train_df)):\n",
    "        clf.train(x_train[train_idx], y_train[train_idx])\n",
    "        oof_train[valid_idx] = clf.predict(x_train[valid_idx])\n",
    "        oof_test_skf[i, :] = clf.predict(x_test)\n",
    "\n",
    "    oof_test[:] = oof_test_skf.mean(axis=0)\n",
    "    return oof_train.reshape(-1, 1), oof_test.reshape(-1, 1)"
   ]
  },
  {
   "cell_type": "markdown",
   "metadata": {
    "_uuid": "25e8daeb6e6e8fa3504f1f58f0e940a67537258f"
   },
   "source": [
    "## <a id='63'>Train the first level models</a>  \n",
    "\n",
    "\n",
    "Let's define and train few first level models.\n",
    "\n",
    "We will use the following first level models:\n",
    "\n",
    "\n",
    "* AdaBoost classifer\n",
    "* CatBoost Classifier\n",
    "* Extra Trees classifier  \n",
    "* Gradient Boosting classifer\n",
    "* Random Forest classifier  \n",
    "* Support Vector Machine\n",
    "\n",
    "\n",
    "Let's define the parameters used for training each classifier:"
   ]
  },
  {
   "cell_type": "code",
   "execution_count": 148,
   "metadata": {
    "_uuid": "a40ac58c7dc07db8e5afc7f21dc6e8db6ae6e2fa"
   },
   "outputs": [],
   "source": [
    "# AdaBoost parameters\n",
    "ada_params = {\n",
    "    'n_estimators': 200,\n",
    "    'learning_rate' : 0.75\n",
    "}\n",
    "# CatBoost parameters\n",
    "cat_params = {\n",
    "    'iterations': 150,\n",
    "    'learning_rate': 0.02,\n",
    "    'depth': 12,\n",
    "    'bagging_temperature':0.2,\n",
    "    'od_type':'Iter',\n",
    "    'metric_period':400,\n",
    "}  \n",
    "# Extra Trees Parameters\n",
    "ext_params = {\n",
    "    'n_jobs': -1,\n",
    "    'n_estimators':100,\n",
    "    'max_depth': 8,\n",
    "    'min_samples_leaf': 3,\n",
    "    'verbose': 0\n",
    "}\n",
    "# Gradient Boosting parameters\n",
    "gbm_params = {\n",
    "    'n_estimators': 200,\n",
    "    'max_depth': 5,\n",
    "    'min_samples_leaf': 3,\n",
    "    'verbose': 0\n",
    "}\n",
    "# Random Forest parameters\n",
    "rfo_params = {\n",
    "    'n_jobs': -1,\n",
    "    'n_estimators': 50,\n",
    "    'max_depth': 5,\n",
    "    'min_samples_leaf': 5,\n",
    "    'max_features' : 'auto',\n",
    "    'verbose': 0\n",
    "}\n",
    "# Support Vector Classifier parameters \n",
    "svc_params = {\n",
    "    'kernel' : 'linear',\n",
    "    'C' : 0.02\n",
    "}"
   ]
  },
  {
   "cell_type": "markdown",
   "metadata": {
    "_uuid": "efb8d9465231e560974783c43e636e7e02845ae5"
   },
   "source": [
    "We create 6 objects of type `SklearnBasicClassifier` that represent our 6 models(AdaBoost, CatBoost, ExtraTrees, GradientBoosting, RandomForest and Support Vector Machines)."
   ]
  },
  {
   "cell_type": "code",
   "execution_count": 149,
   "metadata": {
    "_uuid": "34802100a684d863e949a78595ed08a1a96e9358"
   },
   "outputs": [],
   "source": [
    "# Create 6 objects that represent our 6 models\n",
    "ada = SklearnBasicClassifier(clf=AdaBoostClassifier, seed=RANDOM_STATE, params=ada_params)\n",
    "cat = SklearnBasicClassifier(clf=CatBoostClassifier, seed=RANDOM_STATE, params=cat_params)\n",
    "ext = SklearnBasicClassifier(clf=ExtraTreesClassifier, seed=RANDOM_STATE, params=ext_params)\n",
    "gbm = SklearnBasicClassifier(clf=GradientBoostingClassifier, seed=RANDOM_STATE, params=gbm_params)\n",
    "rfo = SklearnBasicClassifier(clf=RandomForestClassifier, seed=RANDOM_STATE, params=rfo_params)\n",
    "svc = SklearnBasicClassifier(clf=SVC, seed=RANDOM_STATE, params=svc_params)"
   ]
  },
  {
   "cell_type": "code",
   "execution_count": 150,
   "metadata": {
    "_uuid": "73da4925f2a382c3eac05b3da9272bb87f2ec6a7"
   },
   "outputs": [],
   "source": [
    "predictors = ['FamilySize', 'Title', 'Class*Age']\n",
    "target = 'Survived'"
   ]
  },
  {
   "cell_type": "code",
   "execution_count": 151,
   "metadata": {
    "_uuid": "7ea2747a335d7a0992fd86531aee5ec21ebac4b5"
   },
   "outputs": [],
   "source": [
    "y_train = train_df['Survived'].values\n",
    "train = train_df[predictors]\n",
    "test = test_df[predictors]\n",
    "x_train = train.values\n",
    "x_test = test.values"
   ]
  },
  {
   "cell_type": "code",
   "execution_count": 152,
   "metadata": {
    "_uuid": "6bbcf1730a4d3f44ace78ca8694b5510985f2270"
   },
   "outputs": [
    {
     "name": "stdout",
     "output_type": "stream",
     "text": [
      "Start training\n",
      "End AdaBoost\n",
      "0:\tlearn: 0.6823816\ttotal: 68.7ms\tremaining: 10.2s\n",
      "149:\tlearn: 0.4304547\ttotal: 1.63s\tremaining: 0us\n",
      "0:\tlearn: 0.6837343\ttotal: 7.78ms\tremaining: 1.16s\n",
      "149:\tlearn: 0.4247339\ttotal: 1.33s\tremaining: 0us\n",
      "0:\tlearn: 0.6827445\ttotal: 7.69ms\tremaining: 1.15s\n",
      "149:\tlearn: 0.3955411\ttotal: 1.39s\tremaining: 0us\n",
      "0:\tlearn: 0.6831206\ttotal: 8.46ms\tremaining: 1.26s\n",
      "149:\tlearn: 0.4118386\ttotal: 1.44s\tremaining: 0us\n",
      "0:\tlearn: 0.6824008\ttotal: 8.39ms\tremaining: 1.25s\n",
      "149:\tlearn: 0.4006063\ttotal: 1.49s\tremaining: 0us\n",
      "End CatBoost\n",
      "End ExtraTrees\n",
      "End RandomForest\n",
      "End GradientBoost\n",
      "End training\n"
     ]
    }
   ],
   "source": [
    "print(\"Start training\")\n",
    "ada_oof_train, ada_oof_test = get_oof_predictions(ada, x_train, y_train, x_test) # AdaBoost Classifier\n",
    "print(\"End AdaBoost\")\n",
    "cat_oof_train, cat_oof_test = get_oof_predictions(cat, x_train, y_train, x_test) # CatBoost Classifier\n",
    "print(\"End CatBoost\")\n",
    "ext_oof_train, ext_oof_test = get_oof_predictions(ext, x_train, y_train, x_test) # Extra Trees \n",
    "print(\"End ExtraTrees\")\n",
    "rfo_oof_train, rfo_oof_test = get_oof_predictions(rfo,x_train, y_train, x_test) # Random Forest Classifier\n",
    "print(\"End RandomForest\")\n",
    "gbm_oof_train, gbm_oof_test = get_oof_predictions(gbm,x_train, y_train, x_test) # Gradient Boost Classifier\n",
    "print(\"End GradientBoost\")\n",
    "svc_oof_train, svc_oof_test = get_oof_predictions(svc,x_train, y_train, x_test) # Support Vector Classifier\n",
    "print(\"End training\")"
   ]
  },
  {
   "cell_type": "markdown",
   "metadata": {
    "_uuid": "955dbb11b8b9085ee413c1c93810947e8054da19"
   },
   "source": [
    "Let's check the features importance for the 5 out of 6 models. We will not include Support Vector Classifier, this one does not have feature importance available."
   ]
  },
  {
   "cell_type": "code",
   "execution_count": 153,
   "metadata": {
    "_uuid": "38c2d47666df81909e2bc004eadb89ea309c3dac"
   },
   "outputs": [
    {
     "name": "stdout",
     "output_type": "stream",
     "text": [
      "0:\tlearn: 0.6831021\ttotal: 8.63ms\tremaining: 1.29s\n",
      "149:\tlearn: 0.4125944\ttotal: 1.33s\tremaining: 0us\n"
     ]
    }
   ],
   "source": [
    "ada_feature_importance = ada.get_feature_importances(x_train,y_train)\n",
    "cat_feature_importance = cat.get_feature_importances(x_train,y_train)\n",
    "ext_feature_importance = ext.get_feature_importances(x_train,y_train)\n",
    "gbm_feature_importance = gbm.get_feature_importances(x_train,y_train)\n",
    "rfo_feature_importance = rfo.get_feature_importances(x_train,y_train)"
   ]
  },
  {
   "cell_type": "code",
   "execution_count": 154,
   "metadata": {
    "_uuid": "33732c84dc2fa96ddf0d5a502c663bcf464d2464"
   },
   "outputs": [],
   "source": [
    "def plot_feature_importance(feature_importance, classifier):\n",
    "    tmp = pd.DataFrame({'Feature': predictors, 'Feature importance': feature_importance[0:len(predictors)]})\n",
    "    tmp = tmp.sort_values(by='Feature importance',ascending=False)\n",
    "    plt.figure(figsize = (7,4))\n",
    "    plt.title('Features importance {}'.format(classifier),fontsize=14)\n",
    "    s = sns.barplot(x='Feature',y='Feature importance',data=tmp)\n",
    "    s.set_xticklabels(s.get_xticklabels(),rotation=90)\n",
    "    plt.show()   "
   ]
  },
  {
   "cell_type": "code",
   "execution_count": 155,
   "metadata": {
    "_uuid": "66d1c412b2b77cb3eac71959cefe9c514fb246eb"
   },
   "outputs": [
    {
     "data": {
      "image/png": "[encoded data removed]",
      "text/plain": [
       "<Figure size 504x288 with 1 Axes>"
      ]
     },
     "metadata": {},
     "output_type": "display_data"
    },
    {
     "data": {
      "image/png": "[encoded data removed]",
      "text/plain": [
       "<Figure size 504x288 with 1 Axes>"
      ]
     },
     "metadata": {},
     "output_type": "display_data"
    },
    {
     "data": {
      "image/png": "[encoded data removed]",
      "text/plain": [
       "<Figure size 504x288 with 1 Axes>"
      ]
     },
     "metadata": {},
     "output_type": "display_data"
    },
    {
     "data": {
      "image/png": "[encoded data removed]",
      "text/plain": [
       "<Figure size 504x288 with 1 Axes>"
      ]
     },
     "metadata": {},
     "output_type": "display_data"
    },
    {
     "data": {
      "image/png": "[encoded data removed]",
      "text/plain": [
       "<Figure size 504x288 with 1 Axes>"
      ]
     },
     "metadata": {},
     "output_type": "display_data"
    }
   ],
   "source": [
    "plot_feature_importance(ada_feature_importance, '- AdaBoost')\n",
    "plot_feature_importance(cat_feature_importance, '- CatBoost')\n",
    "plot_feature_importance(ext_feature_importance, '- ExtraTrees')\n",
    "plot_feature_importance(gbm_feature_importance, '- GradientBoosting')\n",
    "plot_feature_importance(rfo_feature_importance, '- RandomForest')"
   ]
  },
  {
   "cell_type": "markdown",
   "metadata": {
    "_uuid": "d51079d48c47157c364984e44df34bfbc267b6fd"
   },
   "source": [
    "## <a id='64'>Correlation of the results</a>\n",
    "\n",
    "Let's see the first few results of the predictions using first level models."
   ]
  },
  {
   "cell_type": "code",
   "execution_count": 156,
   "metadata": {
    "_uuid": "d4edc1e2b4f204fa5b3aaf7009d909a1f1994c7b"
   },
   "outputs": [
    {
     "data": {
      "text/html": [
       "<div>\n",
       "<style scoped>\n",
       "    .dataframe tbody tr th:only-of-type {\n",
       "        vertical-align: middle;\n",
       "    }\n",
       "\n",
       "    .dataframe tbody tr th {\n",
       "        vertical-align: top;\n",
       "    }\n",
       "\n",
       "    .dataframe thead th {\n",
       "        text-align: right;\n",
       "    }\n",
       "</style>\n",
       "<table border=\"1\" class=\"dataframe\">\n",
       "  <thead>\n",
       "    <tr style=\"text-align: right;\">\n",
       "      <th></th>\n",
       "      <th>AdaBoost</th>\n",
       "      <th>CatBoost</th>\n",
       "      <th>ExtraTrees</th>\n",
       "      <th>GradientBoost</th>\n",
       "      <th>RandomForest</th>\n",
       "      <th>SVM</th>\n",
       "    </tr>\n",
       "  </thead>\n",
       "  <tbody>\n",
       "    <tr>\n",
       "      <th>0</th>\n",
       "      <td>0.0</td>\n",
       "      <td>0.0</td>\n",
       "      <td>0.0</td>\n",
       "      <td>0.0</td>\n",
       "      <td>0.0</td>\n",
       "      <td>0.0</td>\n",
       "    </tr>\n",
       "    <tr>\n",
       "      <th>1</th>\n",
       "      <td>1.0</td>\n",
       "      <td>1.0</td>\n",
       "      <td>1.0</td>\n",
       "      <td>1.0</td>\n",
       "      <td>1.0</td>\n",
       "      <td>1.0</td>\n",
       "    </tr>\n",
       "    <tr>\n",
       "      <th>2</th>\n",
       "      <td>1.0</td>\n",
       "      <td>1.0</td>\n",
       "      <td>1.0</td>\n",
       "      <td>1.0</td>\n",
       "      <td>1.0</td>\n",
       "      <td>1.0</td>\n",
       "    </tr>\n",
       "    <tr>\n",
       "      <th>3</th>\n",
       "      <td>1.0</td>\n",
       "      <td>1.0</td>\n",
       "      <td>1.0</td>\n",
       "      <td>1.0</td>\n",
       "      <td>1.0</td>\n",
       "      <td>1.0</td>\n",
       "    </tr>\n",
       "    <tr>\n",
       "      <th>4</th>\n",
       "      <td>0.0</td>\n",
       "      <td>0.0</td>\n",
       "      <td>0.0</td>\n",
       "      <td>0.0</td>\n",
       "      <td>0.0</td>\n",
       "      <td>0.0</td>\n",
       "    </tr>\n",
       "    <tr>\n",
       "      <th>5</th>\n",
       "      <td>0.0</td>\n",
       "      <td>0.0</td>\n",
       "      <td>0.0</td>\n",
       "      <td>0.0</td>\n",
       "      <td>0.0</td>\n",
       "      <td>0.0</td>\n",
       "    </tr>\n",
       "    <tr>\n",
       "      <th>6</th>\n",
       "      <td>0.0</td>\n",
       "      <td>0.0</td>\n",
       "      <td>0.0</td>\n",
       "      <td>0.0</td>\n",
       "      <td>0.0</td>\n",
       "      <td>0.0</td>\n",
       "    </tr>\n",
       "    <tr>\n",
       "      <th>7</th>\n",
       "      <td>0.0</td>\n",
       "      <td>0.0</td>\n",
       "      <td>0.0</td>\n",
       "      <td>0.0</td>\n",
       "      <td>0.0</td>\n",
       "      <td>1.0</td>\n",
       "    </tr>\n",
       "    <tr>\n",
       "      <th>8</th>\n",
       "      <td>1.0</td>\n",
       "      <td>1.0</td>\n",
       "      <td>1.0</td>\n",
       "      <td>1.0</td>\n",
       "      <td>1.0</td>\n",
       "      <td>1.0</td>\n",
       "    </tr>\n",
       "    <tr>\n",
       "      <th>9</th>\n",
       "      <td>1.0</td>\n",
       "      <td>1.0</td>\n",
       "      <td>1.0</td>\n",
       "      <td>1.0</td>\n",
       "      <td>1.0</td>\n",
       "      <td>1.0</td>\n",
       "    </tr>\n",
       "  </tbody>\n",
       "</table>\n",
       "</div>"
      ],
      "text/plain": [
       "   AdaBoost  CatBoost  ExtraTrees  GradientBoost  RandomForest  SVM\n",
       "0       0.0       0.0         0.0            0.0           0.0  0.0\n",
       "1       1.0       1.0         1.0            1.0           1.0  1.0\n",
       "2       1.0       1.0         1.0            1.0           1.0  1.0\n",
       "3       1.0       1.0         1.0            1.0           1.0  1.0\n",
       "4       0.0       0.0         0.0            0.0           0.0  0.0\n",
       "5       0.0       0.0         0.0            0.0           0.0  0.0\n",
       "6       0.0       0.0         0.0            0.0           0.0  0.0\n",
       "7       0.0       0.0         0.0            0.0           0.0  1.0\n",
       "8       1.0       1.0         1.0            1.0           1.0  1.0\n",
       "9       1.0       1.0         1.0            1.0           1.0  1.0"
      ]
     },
     "execution_count": 156,
     "metadata": {},
     "output_type": "execute_result"
    }
   ],
   "source": [
    "base_predictions_train = pd.DataFrame( {\n",
    "     'AdaBoost': ada_oof_train.ravel(),\n",
    "     'CatBoost': cat_oof_train.ravel(),\n",
    "     'ExtraTrees': ext_oof_train.ravel(),\n",
    "     'GradientBoost': gbm_oof_train.ravel(),\n",
    "     'RandomForest': rfo_oof_train.ravel(),\n",
    "     'SVM': svc_oof_train.ravel()\n",
    "    })\n",
    "base_predictions_train.head(10)"
   ]
  },
  {
   "cell_type": "markdown",
   "metadata": {
    "_uuid": "6172dbe72952cb632a71a22270d8e3746725144f"
   },
   "source": [
    "Let's show now the correlation of the predictions using the first level models. The ensamble prediction is best when we have models with good accuracy and less correlated."
   ]
  },
  {
   "cell_type": "code",
   "execution_count": 157,
   "metadata": {
    "_uuid": "3598f5f56cb499a7e5f0a12126a5a15ebc47bdf1"
   },
   "outputs": [
    {
     "data": {
      "application/vnd.plotly.v1+json": {
       "config": {
        "linkText": "Export to plot.ly",
        "plotlyServerURL": "https://plot.ly",
        "showLink": false
       },
       "data": [
        {
         "colorscale": "Rainbow",
         "reversescale": false,
         "showscale": true,
         "type": "heatmap",
         "uid": "d10ba149-556f-4d33-8d92-5ddc33badb66",
         "x": [
          "AdaBoost",
          "CatBoost",
          "ExtraTrees",
          "GradientBoost",
          "RandomForest",
          "SVM"
         ],
         "y": [
          "AdaBoost",
          "CatBoost",
          "ExtraTrees",
          "GradientBoost",
          "RandomForest",
          "SVM"
         ],
         "z": [
          [
           1.0,
           0.9345902529276564,
           0.8862428387159906,
           0.8835515122716368,
           0.907632460790975,
           0.6886094164970038
          ],
          [
           0.9345902529276564,
           1.0,
           0.9205697751763752,
           0.9280195979964687,
           0.9483233850524929,
           0.736051399663067
          ],
          [
           0.8862428387159906,
           0.9205697751763752,
           1.0,
           0.972273752174845,
           0.943800634834927,
           0.7328149045663513
          ],
          [
           0.8835515122716368,
           0.9280195979964687,
           0.972273752174845,
           1.0,
           0.9461007558161701,
           0.7309236256256628
          ],
          [
           0.907632460790975,
           0.9483233850524929,
           0.943800634834927,
           0.9461007558161701,
           1.0,
           0.7498241424235996
          ],
          [
           0.6886094164970038,
           0.736051399663067,
           0.7328149045663513,
           0.7309236256256628,
           0.7498241424235996,
           1.0
          ]
         ]
        }
       ],
       "layout": {
        "height": 600,
        "width": 600
       }
      },
      "text/html": [
       "<div id=\"ad7aebd5-6e21-40c8-8970-a147f79c725a\" style=\"height: 600px; width: 600px;\" class=\"plotly-graph-div\"></div><script type=\"text/javascript\">require([\"plotly\"], function(Plotly) { window.PLOTLYENV=window.PLOTLYENV || {};window.PLOTLYENV.BASE_URL=\"https://plot.ly\";Plotly.newPlot(\"ad7aebd5-6e21-40c8-8970-a147f79c725a\", [{\"colorscale\": \"Rainbow\", \"reversescale\": false, \"showscale\": true, \"x\": [\"AdaBoost\", \"CatBoost\", \"ExtraTrees\", \"GradientBoost\", \"RandomForest\", \"SVM\"], \"y\": [\"AdaBoost\", \"CatBoost\", \"ExtraTrees\", \"GradientBoost\", \"RandomForest\", \"SVM\"], \"z\": [[1.0, 0.9345902529276564, 0.8862428387159906, 0.8835515122716368, 0.907632460790975, 0.6886094164970038], [0.9345902529276564, 1.0, 0.9205697751763752, 0.9280195979964687, 0.9483233850524929, 0.736051399663067], [0.8862428387159906, 0.9205697751763752, 1.0, 0.972273752174845, 0.943800634834927, 0.7328149045663513], [0.8835515122716368, 0.9280195979964687, 0.972273752174845, 1.0, 0.9461007558161701, 0.7309236256256628], [0.907632460790975, 0.9483233850524929, 0.943800634834927, 0.9461007558161701, 1.0, 0.7498241424235996], [0.6886094164970038, 0.736051399663067, 0.7328149045663513, 0.7309236256256628, 0.7498241424235996, 1.0]], \"type\": \"heatmap\", \"uid\": \"5c071410-8571-48e9-8cef-bd08fad9042e\"}], {\"height\": 600, \"width\": 600}, {\"showLink\": false, \"linkText\": \"Export to plot.ly\", \"plotlyServerURL\": \"https://plot.ly\"})});</script>"
      ],
      "text/vnd.plotly.v1+html": [
       "<div id=\"ad7aebd5-6e21-40c8-8970-a147f79c725a\" style=\"height: 600px; width: 600px;\" class=\"plotly-graph-div\"></div><script type=\"text/javascript\">require([\"plotly\"], function(Plotly) { window.PLOTLYENV=window.PLOTLYENV || {};window.PLOTLYENV.BASE_URL=\"https://plot.ly\";Plotly.newPlot(\"ad7aebd5-6e21-40c8-8970-a147f79c725a\", [{\"colorscale\": \"Rainbow\", \"reversescale\": false, \"showscale\": true, \"x\": [\"AdaBoost\", \"CatBoost\", \"ExtraTrees\", \"GradientBoost\", \"RandomForest\", \"SVM\"], \"y\": [\"AdaBoost\", \"CatBoost\", \"ExtraTrees\", \"GradientBoost\", \"RandomForest\", \"SVM\"], \"z\": [[1.0, 0.9345902529276564, 0.8862428387159906, 0.8835515122716368, 0.907632460790975, 0.6886094164970038], [0.9345902529276564, 1.0, 0.9205697751763752, 0.9280195979964687, 0.9483233850524929, 0.736051399663067], [0.8862428387159906, 0.9205697751763752, 1.0, 0.972273752174845, 0.943800634834927, 0.7328149045663513], [0.8835515122716368, 0.9280195979964687, 0.972273752174845, 1.0, 0.9461007558161701, 0.7309236256256628], [0.907632460790975, 0.9483233850524929, 0.943800634834927, 0.9461007558161701, 1.0, 0.7498241424235996], [0.6886094164970038, 0.736051399663067, 0.7328149045663513, 0.7309236256256628, 0.7498241424235996, 1.0]], \"type\": \"heatmap\", \"uid\": \"5c071410-8571-48e9-8cef-bd08fad9042e\"}], {\"height\": 600, \"width\": 600}, {\"showLink\": false, \"linkText\": \"Export to plot.ly\", \"plotlyServerURL\": \"https://plot.ly\"})});</script>"
      ]
     },
     "metadata": {},
     "output_type": "display_data"
    }
   ],
   "source": [
    "trace = go.Heatmap(\n",
    "        z= base_predictions_train.astype(float).corr().values ,\n",
    "        x=base_predictions_train.columns.values,\n",
    "        y= base_predictions_train.columns.values,\n",
    "          colorscale='Rainbow',\n",
    "            showscale=True,\n",
    "            reversescale = False\n",
    "    )\n",
    "data = [trace]\n",
    "layout = dict(width = 600, height=600)\n",
    "fig = dict(data=data, layout=layout)\n",
    "iplot(fig, filename='heatmap')"
   ]
  },
  {
   "cell_type": "markdown",
   "metadata": {
    "_uuid": "9c7159cf936f0b6c8ad02fd03e5d8bc8f2246ef8"
   },
   "source": [
    "## <a id='65'>Build the second level (ensamble) model</a>\n",
    "\n",
    "\n",
    "We prepare now, using the Out-Of-Folds values, the training and the test set for the second level model. We concatenate the OOFs from the 6 first level models."
   ]
  },
  {
   "cell_type": "code",
   "execution_count": 158,
   "metadata": {
    "_uuid": "a8992e0487890a725f40a4616b11b84bdfb76c28"
   },
   "outputs": [],
   "source": [
    "x_train = np.concatenate(( ada_oof_train, cat_oof_train, ext_oof_train, gbm_oof_train, rfo_oof_train, svc_oof_train), axis=1)\n",
    "x_test = np.concatenate(( ada_oof_test, cat_oof_test, ext_oof_test, gbm_oof_test, rfo_oof_test, svc_oof_test), axis=1)"
   ]
  },
  {
   "cell_type": "markdown",
   "metadata": {
    "_uuid": "e7fa503dc5ae0f371a23ee3d0e044c66b69bbec2"
   },
   "source": [
    "We prepare as well the second level classifier. \n",
    "\n",
    "We will use in this case a eXtreme Boost Classifier."
   ]
  },
  {
   "cell_type": "code",
   "execution_count": 159,
   "metadata": {
    "_uuid": "fa0538bfd7f191d00a88445c8492f0e46f3ec08d"
   },
   "outputs": [],
   "source": [
    "clf = xgb.XGBClassifier(\n",
    " learning_rate = 0.02,\n",
    " n_estimators= 2000,\n",
    " max_depth= 4,\n",
    " min_child_weight= 2,\n",
    " gamma=0.9,                        \n",
    " subsample=0.8,\n",
    " colsample_bytree=0.8,\n",
    " objective= 'binary:logistic',\n",
    " nthread= -1,\n",
    " scale_pos_weight=1)"
   ]
  },
  {
   "cell_type": "markdown",
   "metadata": {
    "_uuid": "37bd28f90ad42efa89d5a43a387b527181a4b72c"
   },
   "source": [
    "We fit the model."
   ]
  },
  {
   "cell_type": "code",
   "execution_count": 160,
   "metadata": {
    "_uuid": "e9eaf22aaf7e6aa995558257b8ff1ce905d19b5e"
   },
   "outputs": [],
   "source": [
    "xgbm = clf.fit(x_train, y_train)"
   ]
  },
  {
   "cell_type": "markdown",
   "metadata": {
    "_uuid": "fec8e4297813c985da2fd39d55c23300bd0545af"
   },
   "source": [
    "With the fitted second level model we do the prediction for the test data."
   ]
  },
  {
   "cell_type": "code",
   "execution_count": 161,
   "metadata": {
    "_kg_hide-input": true,
    "_uuid": "f6b6dfe66f0549965f5f729b38750c070c9d5891"
   },
   "outputs": [],
   "source": [
    "predictions = xgbm.predict(x_test)"
   ]
  },
  {
   "cell_type": "markdown",
   "metadata": {
    "_uuid": "1081c979fbf8087380debe5acc024a0a1b222c8d"
   },
   "source": [
    "## <a id='66'>Submission (ensamble)</a>\n",
    "\n",
    "We form the submission dataset and save it to the submission file."
   ]
  },
  {
   "cell_type": "code",
   "execution_count": 162,
   "metadata": {
    "_kg_hide-input": true,
    "_uuid": "62c83c62c181ab3a3e7c26abd2114fa1eecfc781"
   },
   "outputs": [],
   "source": [
    "submissionStacking = pd.DataFrame({ 'PassengerId': test_df[\"PassengerId\"],'Survived': predictions })\n",
    "submissionStacking.to_csv(\"submission_ensamble.csv\", index=False)"
   ]
  },
  {
   "cell_type": "markdown",
   "metadata": {},
   "source": [
    "<a href=\"#0\"><font size=\"1\">Go to top</font></a>  \n",
    "\n"
   ]
  },
  {
   "cell_type": "markdown",
   "metadata": {
    "_uuid": "36b9c4d8fc30eff7307a4dec88fe97b4aca1131e"
   },
   "source": [
    "# <a id='7'>References</a>\n",
    "\n",
    "[1] https://www.kaggle.com/startupsci/titanic-data-science-solutions  \n",
    "[2] https://www.kaggle.com/arthurtok/introduction-to-ensembling-stacking-in-python  \n",
    "[3] https://www.kaggle.com/gpreda/credit-card-fraud-detection-predictive-models  \n",
    "[4] https://www.kaggle.com/gpreda/honey-bee-subspecies-classification  "
   ]
  }
 ],
 "metadata": {
  "kernelspec": {
   "display_name": "Python 3",
   "language": "python",
   "name": "python3"
  },
  "language_info": {
   "codemirror_mode": {
    "name": "ipython",
    "version": 3
   },
   "file_extension": ".py",
   "mimetype": "text/x-python",
   "name": "python",
   "nbconvert_exporter": "python",
   "pygments_lexer": "ipython3",
   "version": "3.6.6"
  }
 },
 "nbformat": 4,
 "nbformat_minor": 1
}
