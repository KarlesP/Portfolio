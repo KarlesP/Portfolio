{
 "cells": [
  {
   "cell_type": "code",
   "execution_count": 1,
   "metadata": {
    "_cell_guid": "b1076dfc-b9ad-4769-8c92-a6c4dae69d19",
    "_uuid": "8f2839f25d086af736a60e9eeb907d3b93b6e0e5",
    "execution": {
     "iopub.execute_input": "2020-11-03T10:41:09.375376Z",
     "iopub.status.busy": "2020-11-03T10:41:09.374279Z",
     "iopub.status.idle": "2020-11-03T10:41:09.379711Z",
     "shell.execute_reply": "2020-11-03T10:41:09.378957Z"
    },
    "papermill": {
     "duration": 0.016196,
     "end_time": "2020-11-03T10:41:09.379833",
     "exception": false,
     "start_time": "2020-11-03T10:41:09.363637",
     "status": "completed"
    },
    "tags": []
   },
   "outputs": [
    {
     "name": "stdout",
     "output_type": "stream",
     "text": [
      "Writing submission.py\n"
     ]
    }
   ],
   "source": [
    "%%writefile submission.py\n",
    "\n",
    "import numpy as np\n",
    "import pandas as pd\n",
    "import random\n",
    "\n",
    "T = np.zeros((3, 3))\n",
    "P = np.zeros((3, 3))\n",
    "\n",
    "# a1 is the action of the opponent 1 step ago\n",
    "# a2 is the action of the opponent 2 steps ago\n",
    "\n",
    "a1, a2 = None, None\n",
    "\n",
    "def use_opponent_action(observation, configuration):\n",
    "    global T, P, a1, a2\n",
    "    if observation.step > 1:\n",
    "        a1 = observation.lastOpponentAction\n",
    "        T[a2, a1] += 1\n",
    "        P = np.divide(T, np.maximum(1, T.sum(axis=1)).reshape(-1, 1))\n",
    "        a2 = a1\n",
    "        if np.sum(P[a1, :]) == 1:\n",
    "            return int((np.random.choice(\n",
    "                [0, 1, 2],\n",
    "                p=P[a1, :]\n",
    "            ) + 1) % 3)\n",
    "        else:\n",
    "            return int(np.random.randint(3))\n",
    "\n",
    "    else:\n",
    "        if observation.step == 1:\n",
    "            a2 = observation.lastOpponentAction\n",
    "        return int(np.random.randint(3))\n"
   ]
  },
  {
   "cell_type": "code",
   "execution_count": null,
   "metadata": {
    "_cell_guid": "79c7e3d0-c299-4dcb-8224-4455121ee9b0",
    "_uuid": "d629ff2d2480ee46fbb7e2d37f6b5fab8052498a",
    "collapsed": true,
    "papermill": {
     "duration": 0.0034,
     "end_time": "2020-11-03T10:41:09.387692",
     "exception": false,
     "start_time": "2020-11-03T10:41:09.384292",
     "status": "completed"
    },
    "tags": []
   },
   "outputs": [],
   "source": []
  }
 ],
 "metadata": {
  "kernelspec": {
   "display_name": "Python 3",
   "language": "python",
   "name": "python3"
  },
  "language_info": {
   "codemirror_mode": {
    "name": "ipython",
    "version": 3
   },
   "file_extension": ".py",
   "mimetype": "text/x-python",
   "name": "python",
   "nbconvert_exporter": "python",
   "pygments_lexer": "ipython3",
   "version": "3.7.6"
  },
  "papermill": {
   "duration": 4.52664,
   "end_time": "2020-11-03T10:41:09.499154",
   "environment_variables": {},
   "exception": null,
   "input_path": "__notebook__.ipynb",
   "output_path": "__notebook__.ipynb",
   "parameters": {},
   "start_time": "2020-11-03T10:41:04.972514",
   "version": "2.1.0"
  }
 },
 "nbformat": 4,
 "nbformat_minor": 4
}
