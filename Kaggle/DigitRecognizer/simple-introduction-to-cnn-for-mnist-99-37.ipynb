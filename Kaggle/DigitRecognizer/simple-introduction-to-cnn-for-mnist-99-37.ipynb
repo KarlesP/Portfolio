{
 "cells": [
  {
   "cell_type": "markdown",
   "metadata": {
    "_uuid": "805a97911f01abb36ff8414d8d6aec9293e4fb85"
   },
   "source": [
    "<h1><center><font size=\"6\">Simple introduction to CNN for MNIST (99.37% accuracy)</font></center></h1>\n",
    "\n",
    "\n",
    "<img src=\"https://upload.wikimedia.org/wikipedia/commons/2/27/MnistExamples.png\" width=\"400\"></img>\n",
    "\n",
    "\n",
    "# <a id='0'>Content</a>\n",
    "\n",
    "- <a href='#1'>Introduction</a>  \n",
    "- <a href='#2'>Load packages</a>  \n",
    "- <a href='#3'>Read the data</a>  \n",
    "- <a href='#4'>Data exploration</a>\n",
    "    - <a href='#41'>Class distribution</a>\n",
    "    - <a href='#42'>Images samples</a>\n",
    "- <a href='#5'>Model</a>  \n",
    "    - <a href='#51'>Prepare the model</a>  \n",
    "    - <a href='#52'>Train the model</a>  \n",
    "    - <a href='#53'>Validation accuracy and loss</a>  \n",
    "    - <a href='#54'>Validation accuracy per class</a>  \n",
    "- <a href='#6'>Prepare submission</a>     \n",
    "- <a href='#7'>Conclusions</a>\n",
    "- <a href='#8'>References</a>"
   ]
  },
  {
   "cell_type": "markdown",
   "metadata": {
    "_uuid": "1b1c16628c2f62a18e1dc2068e1d67d7003922b1"
   },
   "source": [
    "# <a id=\"1\">Introduction</a>  \n",
    "\n",
    "\n",
    "## Dataset\n",
    "\n",
    "MNIST (\"Modified National Institute of Standards and Technology\") is the de facto “hello world” dataset of computer vision. Since its release in 1999, this classic dataset of handwritten images has served as the basis for benchmarking classification algorithms. As new machine learning techniques emerge, MNIST remains a reliable resource for researchers and learners alike.\n",
    "\n",
    "\n",
    "\n",
    "\n",
    "## Content\n",
    "\n",
    "Each image is 28 pixels in height and 28 pixels in width, for a total of 784 pixels in total.   \n",
    "\n",
    "Each pixel has a single pixel-value associated with it, indicating the lightness or darkness of that pixel, with higher numbers meaning darker. This pixel-value is an integer between 0 and 255.   \n",
    "\n",
    "The training data sets have 785 columns, the first column being the `label` and it is the digit that was drawn by the user (numbers from 0 to 9 or 10 different classes).\n",
    "\n",
    "The test data set has 784 columns.\n",
    "\n",
    "## Solution\n",
    "\n",
    "We will use a CNN network optimized for the solution of the MNIST problem.\n"
   ]
  },
  {
   "cell_type": "markdown",
   "metadata": {
    "_uuid": "5a708dc52b2e5990e2247ed573d50d0f6933b730"
   },
   "source": [
    "# <a id=\"2\">Load packages</a>"
   ]
  },
  {
   "cell_type": "code",
   "execution_count": 1,
   "metadata": {
    "_uuid": "2defa674e4e6d0e7371df92e7d1f388fc5c14bb6"
   },
   "outputs": [
    {
     "name": "stderr",
     "output_type": "stream",
     "text": [
      "Using TensorFlow backend.\n"
     ]
    }
   ],
   "source": [
    "import numpy as np\n",
    "import pandas as pd\n",
    "import random\n",
    "from sklearn.model_selection import train_test_split\n",
    "from sklearn.metrics import classification_report\n",
    "from tensorflow.python import keras\n",
    "from tensorflow.python.keras.models import Sequential\n",
    "from tensorflow.python.keras.layers import Dense, Flatten, Conv2D, Dropout, MaxPooling2D, BatchNormalization\n",
    "from IPython.display import SVG\n",
    "from keras.utils.vis_utils import model_to_dot\n",
    "from keras.utils import plot_model\n",
    "import seaborn as sns\n",
    "import matplotlib.pyplot as plt\n",
    "%matplotlib inline "
   ]
  },
  {
   "cell_type": "markdown",
   "metadata": {
    "_uuid": "e17fd2539412442ddb3ecacf84366ddd62faf836"
   },
   "source": [
    "## Parameters"
   ]
  },
  {
   "cell_type": "code",
   "execution_count": 2,
   "metadata": {
    "_uuid": "d7a44bfc7a28df7026241c4a7e047298446f1554"
   },
   "outputs": [
    {
     "name": "stdout",
     "output_type": "stream",
     "text": [
      "['train.csv', 'test.csv', 'sample_submission.csv']\n"
     ]
    }
   ],
   "source": [
    "IMG_ROWS = 28\n",
    "IMG_COLS = 28\n",
    "NUM_CLASSES = 10\n",
    "TEST_SIZE = 0.1\n",
    "RANDOM_STATE = 2018\n",
    "#Model\n",
    "NO_EPOCHS = 150\n",
    "PATIENCE = 20\n",
    "VERBOSE = 1\n",
    "BATCH_SIZE = 128\n",
    "\n",
    "IS_LOCAL = False\n",
    "\n",
    "import os\n",
    "\n",
    "if(IS_LOCAL):\n",
    "    PATH=\"../input/digit-recognizer/\"\n",
    "else:\n",
    "    PATH=\"../input/\"\n",
    "print(os.listdir(PATH))"
   ]
  },
  {
   "cell_type": "markdown",
   "metadata": {
    "_uuid": "f49d65b4af77e87ab34b6854850619911cff1e6d"
   },
   "source": [
    "# <a id=\"3\">Read the data</a>\n",
    "\n",
    "There are 10 different classes of images, one class for each number between 0 and 9. \n",
    "\n",
    "Image dimmensions are **28**x**28**.   \n",
    "\n",
    "The train set and test set are given in two separate datasets.\n"
   ]
  },
  {
   "cell_type": "code",
   "execution_count": 3,
   "metadata": {
    "_uuid": "a9c3148fda056ecc88570b302f5185064d5e9fc8"
   },
   "outputs": [],
   "source": [
    "train_file = PATH+\"train.csv\"\n",
    "test_file  = PATH+\"test.csv\"\n",
    "\n",
    "train_df = pd.read_csv(train_file)\n",
    "test_df = pd.read_csv(test_file)"
   ]
  },
  {
   "cell_type": "markdown",
   "metadata": {
    "_uuid": "290f8f38b2f64dfd1bd3432eb1e9a101dbbaf4e5"
   },
   "source": [
    "# <a id=\"4\">Data exploration</a>"
   ]
  },
  {
   "cell_type": "markdown",
   "metadata": {
    "_uuid": "e8891ae7996aa2ae5bc1c025661a77ae91c2fdfb"
   },
   "source": [
    "![](http://)The dimmension of the original  train,  test set are as following:"
   ]
  },
  {
   "cell_type": "code",
   "execution_count": 4,
   "metadata": {
    "_uuid": "a133496cefc53baa56b9a5eec93bfd064ea6360d"
   },
   "outputs": [
    {
     "name": "stdout",
     "output_type": "stream",
     "text": [
      "MNIST train -  rows: 42000  columns: 785\n",
      "MNIST test -  rows: 28000  columns: 784\n"
     ]
    }
   ],
   "source": [
    "print(\"MNIST train -  rows:\",train_df.shape[0],\" columns:\", train_df.shape[1])\n",
    "print(\"MNIST test -  rows:\",test_df.shape[0],\" columns:\", test_df.shape[1])"
   ]
  },
  {
   "cell_type": "markdown",
   "metadata": {
    "_uuid": "dc317fbf40c9b2838f8091e745a64e060a7affc0"
   },
   "source": [
    "## <a id=\"41\">Class distribution</a>\n",
    "\n",
    "Let's see how many number of images are in each class. We start with the train set.\n",
    "\n",
    "### Train set images class distribution"
   ]
  },
  {
   "cell_type": "code",
   "execution_count": 5,
   "metadata": {
    "_uuid": "da948eb587daf81160a4794a36662f8872c882a4"
   },
   "outputs": [
    {
     "name": "stdout",
     "output_type": "stream",
     "text": [
      "1:   4684 or 11.152380952380952%\n",
      "7:   4401 or 10.47857142857143%\n",
      "3:   4351 or 10.359523809523811%\n",
      "9:   4188 or 9.971428571428572%\n",
      "2:   4177 or 9.945238095238096%\n",
      "6:   4137 or 9.85%\n",
      "0:   4132 or 9.838095238095237%\n",
      "4:   4072 or 9.695238095238096%\n",
      "8:   4063 or 9.673809523809524%\n",
      "5:   3795 or 9.035714285714286%\n"
     ]
    }
   ],
   "source": [
    "def get_classes_distribution(data):\n",
    "    # Get the count for each label\n",
    "    label_counts = data[\"label\"].value_counts()\n",
    "\n",
    "    # Get total number of samples\n",
    "    total_samples = len(data)\n",
    "\n",
    "    # Count the number of items in each class\n",
    "    for i in range(len(label_counts)):\n",
    "        label = label_counts.index[i]\n",
    "        count = label_counts.values[i]\n",
    "        percent = (count / total_samples) * 100\n",
    "        print(\"{}:   {} or {}%\".format(label, count, percent))\n",
    "\n",
    "get_classes_distribution(train_df)"
   ]
  },
  {
   "cell_type": "markdown",
   "metadata": {
    "_uuid": "fc41d889d3ad6352994cdf8a76a78ed0d22ec141"
   },
   "source": [
    "The classes are not equaly distributed in the train set (being around 10% each, with values from 9.03% for **5** to 11.15 for **1**).  Let's also plot a graph for these."
   ]
  },
  {
   "cell_type": "code",
   "execution_count": 6,
   "metadata": {
    "_uuid": "586ec8e6c438d856f035afea1893aeb23a21ed69"
   },
   "outputs": [
    {
     "data": {
      "image/png": "[encoded data removed]",
      "text/plain": [
       "<Figure size 576x432 with 1 Axes>"
      ]
     },
     "metadata": {
      "needs_background": "light"
     },
     "output_type": "display_data"
    }
   ],
   "source": [
    "f, ax = plt.subplots(1,1, figsize=(8,6))\n",
    "g = sns.countplot(train_df.label)\n",
    "g.set_title(\"Number of labels for each class\")\n",
    "plt.show()    "
   ]
  },
  {
   "cell_type": "markdown",
   "metadata": {
    "_uuid": "588beb3c38b5f5a0b41ca0699426a1477efb8412"
   },
   "source": [
    "## <a id=\"42\">Sample images</a>\n",
    "\n",
    "### Train dataset images\n",
    "\n",
    "Let's plot some samples for the images."
   ]
  },
  {
   "cell_type": "code",
   "execution_count": 7,
   "metadata": {
    "_uuid": "62fd41c12740f184ec160d692b3289d4457297d6"
   },
   "outputs": [
    {
     "name": "stdout",
     "output_type": "stream",
     "text": [
      "Total number of sample images to plot:  40\n"
     ]
    }
   ],
   "source": [
    "def sample_images_data(data, hasLabel=True):\n",
    "    # An empty list to collect some samples\n",
    "    sample_images = []\n",
    "    sample_labels = []\n",
    "\n",
    "    # Iterate over the keys of the labels dictionary defined in the above cell\n",
    "    if(hasLabel):\n",
    "        for k in range(0,10):\n",
    "            # Get four samples for each category\n",
    "            samples = data[data[\"label\"] == k].head(4)\n",
    "            # Append the samples to the samples list\n",
    "            for j, s in enumerate(samples.values):\n",
    "                # train data: First column contain labels, hence index should start from 1\n",
    "                img = np.array(samples.iloc[j, 1:]).reshape(IMG_ROWS,IMG_COLS)\n",
    "                sample_images.append(img)\n",
    "                sample_labels.append(samples.iloc[j, 0])\n",
    "    else:\n",
    "        import random\n",
    "        samples = data.iloc[random.sample(range(1, 10000), 40),]\n",
    "        for j, s in enumerate(samples.values):\n",
    "            # test data: First column contain pixels, hence index should start from 0\n",
    "            img = np.array(samples.iloc[j, 0:]).reshape(IMG_ROWS,IMG_COLS)\n",
    "            sample_images.append(img)\n",
    "            sample_labels.append(-1)\n",
    "                \n",
    "    print(\"Total number of sample images to plot: \", len(sample_images))\n",
    "    return sample_images, sample_labels\n",
    "\n",
    "train_sample_images, train_sample_labels = sample_images_data(train_df)"
   ]
  },
  {
   "cell_type": "markdown",
   "metadata": {
    "_uuid": "e5c80cef30985bb5ab0ee48d4fc9891660c2a92f"
   },
   "source": [
    "Let's now plot the images."
   ]
  },
  {
   "cell_type": "code",
   "execution_count": 8,
   "metadata": {
    "_uuid": "4f4f27f5143bdd834302a2c43cdb1d68d2a131a9",
    "scrolled": true
   },
   "outputs": [
    {
     "data": {
      "image/png": "[encoded data removed]",
      "text/plain": [
       "<Figure size 1152x720 with 40 Axes>"
      ]
     },
     "metadata": {
      "needs_background": "light"
     },
     "output_type": "display_data"
    }
   ],
   "source": [
    "def plot_sample_images(data_sample_images,data_sample_labels,cmap=\"Blues\"):\n",
    "    # Plot the sample images now\n",
    "    f, ax = plt.subplots(5,8, figsize=(16,10))\n",
    "\n",
    "    for i, img in enumerate(data_sample_images):\n",
    "        ax[i//8, i%8].imshow(img, cmap=cmap)\n",
    "        ax[i//8, i%8].axis('off')\n",
    "        ax[i//8, i%8].set_title(data_sample_labels[i])\n",
    "    plt.show()    \n",
    "    \n",
    "plot_sample_images(train_sample_images,train_sample_labels, \"Greens\")"
   ]
  },
  {
   "cell_type": "markdown",
   "metadata": {
    "_uuid": "bd30352b2674a20eca5e792d7c186cdcbab25461"
   },
   "source": [
    "### Test set images\n",
    "\n",
    "Let's plot now a selection of the train set images. We will just randomly select some of the test images, without labeling them, since we do not have the label for the test set. We will print a label of \"-1\" meaning 'not labeled'."
   ]
  },
  {
   "cell_type": "code",
   "execution_count": 9,
   "metadata": {
    "_uuid": "616df96bfae0e8065c206e6dfec2847d5d42125d"
   },
   "outputs": [
    {
     "name": "stdout",
     "output_type": "stream",
     "text": [
      "Total number of sample images to plot:  40\n"
     ]
    },
    {
     "data": {
      "image/png": "[encoded data removed]",
      "text/plain": [
       "<Figure size 1152x720 with 40 Axes>"
      ]
     },
     "metadata": {
      "needs_background": "light"
     },
     "output_type": "display_data"
    }
   ],
   "source": [
    "test_sample_images, test_sample_labels = sample_images_data(test_df,hasLabel=False)\n",
    "plot_sample_images(test_sample_images,test_sample_labels)"
   ]
  },
  {
   "cell_type": "markdown",
   "metadata": {
    "_uuid": "273c79c7470c49fe7a546dd7148e0536be2dee19"
   },
   "source": [
    "# <a id=\"5\">Model</a>\n",
    "\n",
    "We start with preparing the model."
   ]
  },
  {
   "cell_type": "markdown",
   "metadata": {
    "_uuid": "10b920b2ffc5de4a3ddebe494966d90cca91ee95"
   },
   "source": [
    "## <a id=\"51\">Prepare the model</a>\n",
    "\n",
    "## Data preprocessing\n",
    "\n",
    "First we will do a data preprocessing to prepare for the model.\n",
    "\n",
    "We reshape the columns  from (784) to (28,28,1). We also save label (target) feature as a separate vector."
   ]
  },
  {
   "cell_type": "code",
   "execution_count": 10,
   "metadata": {
    "_uuid": "db4c308b9fb334a54b4c055b00d2a1fbcf77ab96"
   },
   "outputs": [],
   "source": [
    "# data preprocessing\n",
    "def data_preprocessing(raw, hasLabel=True):\n",
    "    start_pixel = 0\n",
    "    if(hasLabel):\n",
    "        start_pixel = 1\n",
    "    if(hasLabel):\n",
    "        out_y = keras.utils.to_categorical(raw.label, NUM_CLASSES)\n",
    "    else:\n",
    "        out_y = None\n",
    "    num_images = raw.shape[0]\n",
    "    x_as_array = raw.values[:,start_pixel:]\n",
    "    x_shaped_array = x_as_array.reshape(num_images, IMG_ROWS, IMG_COLS, 1)\n",
    "    out_x = x_shaped_array / 255\n",
    "    return out_x, out_y"
   ]
  },
  {
   "cell_type": "markdown",
   "metadata": {
    "_uuid": "2d3cafa55173d40cd9a42df63d4919f03b264c09"
   },
   "source": [
    "We process both the train_data and the test_data"
   ]
  },
  {
   "cell_type": "code",
   "execution_count": 11,
   "metadata": {
    "_uuid": "454d7a8fdca4bdbefc04a9d796de04b6af4a1767"
   },
   "outputs": [],
   "source": [
    "# prepare the data\n",
    "X, y = data_preprocessing(train_df)\n",
    "X_test, y_test = data_preprocessing(test_df,hasLabel=False)"
   ]
  },
  {
   "cell_type": "markdown",
   "metadata": {
    "_uuid": "8e25c569f0a0e817ca0462f3e3ea2f50feb480b0"
   },
   "source": [
    "## Split train in train and validation set\n",
    "\n",
    "We further split the train set in train and validation set. The validation set will be 10% from the original train set, therefore the split will be train/validation of 0.9/0.1."
   ]
  },
  {
   "cell_type": "code",
   "execution_count": 12,
   "metadata": {
    "_uuid": "36eb910dd0868a227a73c9759d6aee0a47ba2b1e"
   },
   "outputs": [],
   "source": [
    "X_train, X_val, y_train, y_val = train_test_split(X, y, test_size=TEST_SIZE, random_state=RANDOM_STATE)"
   ]
  },
  {
   "cell_type": "markdown",
   "metadata": {
    "_uuid": "1e623ca7c0c61634c0e4b890fc5cf5cacb132552"
   },
   "source": [
    "The dimmension of the processed train, validation and test set are as following:"
   ]
  },
  {
   "cell_type": "code",
   "execution_count": 13,
   "metadata": {
    "_uuid": "98b3f1bf07e8ed614bf32b8e1955cbe90bff21c5"
   },
   "outputs": [
    {
     "name": "stdout",
     "output_type": "stream",
     "text": [
      "MNIST train -  rows: 37800  columns: (28, 28, 1)\n",
      "MNIST valid -  rows: 4200  columns: (28, 28, 1)\n",
      "MNIST test -  rows: 28000  columns: (28, 28, 1)\n"
     ]
    }
   ],
   "source": [
    "print(\"MNIST train -  rows:\",X_train.shape[0],\" columns:\", X_train.shape[1:4])\n",
    "print(\"MNIST valid -  rows:\",X_val.shape[0],\" columns:\", X_val.shape[1:4])\n",
    "print(\"MNIST test -  rows:\",X_test.shape[0],\" columns:\", X_test.shape[1:4])"
   ]
  },
  {
   "cell_type": "markdown",
   "metadata": {
    "_uuid": "504b6e9a230b313c20feb5062aedaeac185cf973"
   },
   "source": [
    "Let's check the class imbalance for the resulted training set."
   ]
  },
  {
   "cell_type": "code",
   "execution_count": 14,
   "metadata": {
    "_uuid": "3d3c83a7be1be07cd4c3cacfaf8c667979a7d0ac",
    "scrolled": true
   },
   "outputs": [
    {
     "data": {
      "image/png": "[encoded data removed]",
      "text/plain": [
       "<Figure size 864x288 with 1 Axes>"
      ]
     },
     "metadata": {
      "needs_background": "light"
     },
     "output_type": "display_data"
    },
    {
     "name": "stdout",
     "output_type": "stream",
     "text": [
      "1:   4207 or 11.12962962962963%\n",
      "7:   3950 or 10.44973544973545%\n",
      "3:   3881 or 10.267195767195767%\n",
      "2:   3774 or 9.984126984126984%\n",
      "9:   3745 or 9.907407407407408%\n",
      "6:   3734 or 9.878306878306878%\n",
      "0:   3734 or 9.878306878306878%\n",
      "4:   3674 or 9.71957671957672%\n",
      "8:   3640 or 9.62962962962963%\n",
      "5:   3461 or 9.156084656084657%\n"
     ]
    }
   ],
   "source": [
    "def plot_count_per_class(yd):\n",
    "    ydf = pd.DataFrame(yd)\n",
    "    f, ax = plt.subplots(1,1, figsize=(12,4))\n",
    "    g = sns.countplot(ydf[0], order = np.arange(0,10))\n",
    "    g.set_title(\"Number of items for each class\")\n",
    "    g.set_xlabel(\"Category\")\n",
    "            \n",
    "    plt.show()  \n",
    "\n",
    "def get_count_per_class(yd):\n",
    "    ydf = pd.DataFrame(yd)\n",
    "    # Get the count for each label\n",
    "    label_counts = ydf[0].value_counts()\n",
    "\n",
    "    # Get total number of samples\n",
    "    total_samples = len(yd)\n",
    "\n",
    "\n",
    "    # Count the number of items in each class\n",
    "    for i in range(len(label_counts)):\n",
    "        label = label_counts.index[i]\n",
    "        count = label_counts.values[i]\n",
    "        percent = (count / total_samples) * 100\n",
    "        print(\"{}:   {} or {}%\".format(label, count, percent))\n",
    "    \n",
    "plot_count_per_class(np.argmax(y_train,axis=1))\n",
    "get_count_per_class(np.argmax(y_train,axis=1))"
   ]
  },
  {
   "cell_type": "markdown",
   "metadata": {
    "_uuid": "926fa3b04b86032becd38bf2c5210ab17afbd2d2"
   },
   "source": [
    "Let's see also the class distribution of validation set."
   ]
  },
  {
   "cell_type": "code",
   "execution_count": 15,
   "metadata": {
    "_uuid": "b99d881350de0bdf0ec9795a7b1f6013db5df5fd"
   },
   "outputs": [
    {
     "data": {
      "image/png": "[encoded data removed]",
      "text/plain": [
       "<Figure size 864x288 with 1 Axes>"
      ]
     },
     "metadata": {
      "needs_background": "light"
     },
     "output_type": "display_data"
    },
    {
     "name": "stdout",
     "output_type": "stream",
     "text": [
      "1:   477 or 11.357142857142858%\n",
      "3:   470 or 11.190476190476192%\n",
      "7:   451 or 10.738095238095239%\n",
      "9:   443 or 10.547619047619047%\n",
      "8:   423 or 10.071428571428571%\n",
      "6:   403 or 9.595238095238095%\n",
      "2:   403 or 9.595238095238095%\n",
      "4:   398 or 9.476190476190476%\n",
      "0:   398 or 9.476190476190476%\n",
      "5:   334 or 7.9523809523809526%\n"
     ]
    }
   ],
   "source": [
    "plot_count_per_class(np.argmax(y_val,axis=1))\n",
    "get_count_per_class(np.argmax(y_val,axis=1))"
   ]
  },
  {
   "cell_type": "markdown",
   "metadata": {
    "_uuid": "dd9405b5a3fe0c7bd5bebe0616190a8cf26d2811"
   },
   "source": [
    "## <a id=\"52\">Train the model</a>\n",
    "\n",
    "### Build the model   \n",
    "\n",
    "\n",
    "\n",
    "We will use a **Sequential** model.\n",
    "* The **Sequential** model is a linear stack of layers. It can be first initialized and then we add layers using **add** method or we can add all layers at init stage. The layers added are as follows:\n",
    "\n",
    "* **Conv2D** is a 2D Convolutional layer (i.e. spatial convolution over images). The parameters used are:\n",
    " * filters - the number of filters (Kernels) used with this layer; here filters = 32;\n",
    " * kernel_size - the dimmension of the Kernel: (3 x 3);\n",
    " * activation - is the activation function used, in this case `relu`;\n",
    " * kernel_initializer - the function used for initializing the kernel;\n",
    " * input_shape - is the shape of the image presented to the CNN: in our case is 28 x 28\n",
    " The input and output of the **Conv2D** is a 4D tensor.\n",
    "* **Conv2D** with the following parameters:\n",
    " * filters: 32;\n",
    " * kernel_size: (3 x 3);\n",
    " * activation: `relu`;\n",
    "* **MaxPooling2D** is a Max pooling operation for spatial data. Parameters used here are:\n",
    " * *pool_size*, in this case (2,2), representing the factors by which to downscale in both directions;\n",
    " \n",
    "* **Dropout**. Dropout consists in randomly setting a fraction rate of input units to 0 at each update during training time, which helps prevent overfitting. The parameter used is:\n",
    " * *rate*, set here to 0.25. \n",
    " \n",
    "* **Conv2D** with the following parameters:\n",
    " * filters: 64;\n",
    " * kernel_size : (3 x 3);\n",
    " * activation : `relu`;\n",
    " \n",
    "* **MaxPooling2D** with parameter:\n",
    " * *pool_size* : (2,2);\n",
    "\n",
    "* **Dropout**. with parameter:\n",
    " * *rate* : 0.25;\n",
    " \n",
    "* **Conv2D** with the following parameters:\n",
    " * filters: 128;\n",
    " * kernel_size : (3 x 3);\n",
    " * activation : `relu`;\n",
    "\n",
    "* **Dropout**. with parameter:\n",
    " * *rate* : 0.4;\n",
    " \n",
    "* **Flatten**. This layer Flattens the input. Does not affect the batch size. It is used without parameters;\n",
    "\n",
    "* **Dense**. This layer is a regular fully-connected NN layer. It is used without parameters;\n",
    " * units - this is a positive integer, with the meaning: dimensionality of the output space; in this case is: 128;\n",
    " * activation - activation function : `relu`;\n",
    "\n",
    "* **Dropout**. with parameter:\n",
    " * *rate* : 0.3;\n",
    " \n",
    "* **Dense**. This is the final layer (fully connected). It is used with the parameters:\n",
    " * units: the number of classes (in our case 10);\n",
    " * activation : `softmax`; for this final layer it is used `softmax` activation (standard for multiclass classification)\n",
    " \n",
    "\n",
    "Then we compile the model, specifying as well the following parameters:\n",
    "* *loss*;\n",
    "* *optimizer*;\n",
    "* *metrics*. \n"
   ]
  },
  {
   "cell_type": "code",
   "execution_count": 16,
   "metadata": {
    "_uuid": "e31836cd5ec9d86340485404b8f613d1f574aca4"
   },
   "outputs": [],
   "source": [
    "# Model\n",
    "model = Sequential()\n",
    "# Add convolution 2D\n",
    "model.add(Conv2D(32, kernel_size=(3, 3),activation='relu', padding=\"same\",\n",
    "        kernel_initializer='he_normal',input_shape=(IMG_ROWS, IMG_COLS, 1)))\n",
    "\n",
    "model.add(BatchNormalization())\n",
    "\n",
    "model.add(Conv2D(32,kernel_size=(3, 3), activation='relu'))\n",
    "model.add(BatchNormalization())\n",
    "model.add(Conv2D(32,kernel_size=5,strides=2,padding='same',activation='relu'))\n",
    "model.add(MaxPooling2D((2, 2)))\n",
    "model.add(BatchNormalization())\n",
    "# Add dropouts to the model\n",
    "model.add(Dropout(0.4))\n",
    "model.add(Conv2D(64, kernel_size=(3, 3), strides=2,padding='same', activation='relu'))\n",
    "model.add(MaxPooling2D(pool_size=(2, 2)))\n",
    "model.add(BatchNormalization())\n",
    "model.add(Conv2D(64, kernel_size=(3, 3), strides=2,padding='same', activation='relu'))\n",
    "# Add dropouts to the model\n",
    "model.add(Dropout(0.4))\n",
    "model.add(Flatten())\n",
    "model.add(Dense(128, activation='relu'))\n",
    "# Add dropouts to the model\n",
    "model.add(Dropout(0.4))\n",
    "model.add(Dense(NUM_CLASSES, activation='softmax'))"
   ]
  },
  {
   "cell_type": "markdown",
   "metadata": {
    "_uuid": "58ab4b97c822b6712f80ddc9a39d13a582e57b78"
   },
   "source": [
    "### Compile the model\n",
    "We then compile the model, with the layers and optimized defined."
   ]
  },
  {
   "cell_type": "code",
   "execution_count": 17,
   "metadata": {
    "_uuid": "17c6907aab80815ef8877f1c61a6796f9487f5fd"
   },
   "outputs": [],
   "source": [
    "# Compile the model\n",
    "model.compile(loss = \"categorical_crossentropy\", optimizer=\"adam\", metrics=[\"accuracy\"])"
   ]
  },
  {
   "cell_type": "markdown",
   "metadata": {
    "_uuid": "ecb450d70539a62fb310bb7ed44849d2d01481ee"
   },
   "source": [
    "### Inspect the model\n",
    "\n",
    "Let's check the model we initialized."
   ]
  },
  {
   "cell_type": "code",
   "execution_count": 18,
   "metadata": {
    "_uuid": "b4b923b11ceaf4a97677f8e24265e3e97ae1653b",
    "scrolled": true
   },
   "outputs": [
    {
     "name": "stdout",
     "output_type": "stream",
     "text": [
      "_________________________________________________________________\n",
      "Layer (type)                 Output Shape              Param #   \n",
      "=================================================================\n",
      "conv2d (Conv2D)              (None, 28, 28, 32)        320       \n",
      "_________________________________________________________________\n",
      "batch_normalization (BatchNo (None, 28, 28, 32)        128       \n",
      "_________________________________________________________________\n",
      "conv2d_1 (Conv2D)            (None, 26, 26, 32)        9248      \n",
      "_________________________________________________________________\n",
      "batch_normalization_1 (Batch (None, 26, 26, 32)        128       \n",
      "_________________________________________________________________\n",
      "conv2d_2 (Conv2D)            (None, 13, 13, 32)        25632     \n",
      "_________________________________________________________________\n",
      "max_pooling2d (MaxPooling2D) (None, 6, 6, 32)          0         \n",
      "_________________________________________________________________\n",
      "batch_normalization_2 (Batch (None, 6, 6, 32)          128       \n",
      "_________________________________________________________________\n",
      "dropout (Dropout)            (None, 6, 6, 32)          0         \n",
      "_________________________________________________________________\n",
      "conv2d_3 (Conv2D)            (None, 3, 3, 64)          18496     \n",
      "_________________________________________________________________\n",
      "max_pooling2d_1 (MaxPooling2 (None, 1, 1, 64)          0         \n",
      "_________________________________________________________________\n",
      "batch_normalization_3 (Batch (None, 1, 1, 64)          256       \n",
      "_________________________________________________________________\n",
      "conv2d_4 (Conv2D)            (None, 1, 1, 64)          36928     \n",
      "_________________________________________________________________\n",
      "dropout_1 (Dropout)          (None, 1, 1, 64)          0         \n",
      "_________________________________________________________________\n",
      "flatten (Flatten)            (None, 64)                0         \n",
      "_________________________________________________________________\n",
      "dense (Dense)                (None, 128)               8320      \n",
      "_________________________________________________________________\n",
      "dropout_2 (Dropout)          (None, 128)               0         \n",
      "_________________________________________________________________\n",
      "dense_1 (Dense)              (None, 10)                1290      \n",
      "=================================================================\n",
      "Total params: 100,874\n",
      "Trainable params: 100,554\n",
      "Non-trainable params: 320\n",
      "_________________________________________________________________\n"
     ]
    }
   ],
   "source": [
    "model.summary()"
   ]
  },
  {
   "cell_type": "markdown",
   "metadata": {
    "_uuid": "d4c2f583b577f6fa9c143dfe13b3216751b85b06"
   },
   "source": [
    "Let's also visualize the model using model_plot."
   ]
  },
  {
   "cell_type": "code",
   "execution_count": 19,
   "metadata": {
    "_uuid": "dd39462127ffd1c2d55ed0d15e613047bf6f91c6"
   },
   "outputs": [
    {
     "data": {
      "image/svg+xml": [
       "<svg height=\"1286pt\" viewBox=\"0.00 0.00 268.00 1286.00\" width=\"268pt\" xmlns=\"http://www.w3.org/2000/svg\" xmlns:xlink=\"http://www.w3.org/1999/xlink\">\n",
       "<g class=\"graph\" id=\"graph0\" transform=\"scale(1 1) rotate(0) translate(4 1282)\">\n",
       "<title>G</title>\n",
       "<polygon fill=\"white\" points=\"-4,4 -4,-1282 264,-1282 264,4 -4,4\" stroke=\"none\"/>\n",
       "<!-- 140580535143784 -->\n",
       "<g class=\"node\" id=\"node1\"><title>140580535143784</title>\n",
       "<polygon fill=\"none\" points=\"75,-1168.5 75,-1204.5 185,-1204.5 185,-1168.5 75,-1168.5\" stroke=\"black\"/>\n",
       "<text font-family=\"Times,serif\" font-size=\"14.00\" text-anchor=\"middle\" x=\"130\" y=\"-1182.8\">conv2d: Conv2D</text>\n",
       "</g>\n",
       "<!-- 140580535095536 -->\n",
       "<g class=\"node\" id=\"node2\"><title>140580535095536</title>\n",
       "<polygon fill=\"none\" points=\"7,-1095.5 7,-1131.5 253,-1131.5 253,-1095.5 7,-1095.5\" stroke=\"black\"/>\n",
       "<text font-family=\"Times,serif\" font-size=\"14.00\" text-anchor=\"middle\" x=\"130\" y=\"-1109.8\">batch_normalization: BatchNormalization</text>\n",
       "</g>\n",
       "<!-- 140580535143784&#45;&gt;140580535095536 -->\n",
       "<g class=\"edge\" id=\"edge2\"><title>140580535143784-&gt;140580535095536</title>\n",
       "<path d=\"M130,-1168.31C130,-1160.29 130,-1150.55 130,-1141.57\" fill=\"none\" stroke=\"black\"/>\n",
       "<polygon fill=\"black\" points=\"133.5,-1141.53 130,-1131.53 126.5,-1141.53 133.5,-1141.53\" stroke=\"black\"/>\n",
       "</g>\n",
       "<!-- 140580535096264 -->\n",
       "<g class=\"node\" id=\"node3\"><title>140580535096264</title>\n",
       "<polygon fill=\"none\" points=\"68.5,-1022.5 68.5,-1058.5 191.5,-1058.5 191.5,-1022.5 68.5,-1022.5\" stroke=\"black\"/>\n",
       "<text font-family=\"Times,serif\" font-size=\"14.00\" text-anchor=\"middle\" x=\"130\" y=\"-1036.8\">conv2d_1: Conv2D</text>\n",
       "</g>\n",
       "<!-- 140580535095536&#45;&gt;140580535096264 -->\n",
       "<g class=\"edge\" id=\"edge3\"><title>140580535095536-&gt;140580535096264</title>\n",
       "<path d=\"M130,-1095.31C130,-1087.29 130,-1077.55 130,-1068.57\" fill=\"none\" stroke=\"black\"/>\n",
       "<polygon fill=\"black\" points=\"133.5,-1068.53 130,-1058.53 126.5,-1068.53 133.5,-1068.53\" stroke=\"black\"/>\n",
       "</g>\n",
       "<!-- 140580532951864 -->\n",
       "<g class=\"node\" id=\"node4\"><title>140580532951864</title>\n",
       "<polygon fill=\"none\" points=\"0,-949.5 0,-985.5 260,-985.5 260,-949.5 0,-949.5\" stroke=\"black\"/>\n",
       "<text font-family=\"Times,serif\" font-size=\"14.00\" text-anchor=\"middle\" x=\"130\" y=\"-963.8\">batch_normalization_1: BatchNormalization</text>\n",
       "</g>\n",
       "<!-- 140580535096264&#45;&gt;140580532951864 -->\n",
       "<g class=\"edge\" id=\"edge4\"><title>140580535096264-&gt;140580532951864</title>\n",
       "<path d=\"M130,-1022.31C130,-1014.29 130,-1004.55 130,-995.569\" fill=\"none\" stroke=\"black\"/>\n",
       "<polygon fill=\"black\" points=\"133.5,-995.529 130,-985.529 126.5,-995.529 133.5,-995.529\" stroke=\"black\"/>\n",
       "</g>\n",
       "<!-- 140580533902192 -->\n",
       "<g class=\"node\" id=\"node5\"><title>140580533902192</title>\n",
       "<polygon fill=\"none\" points=\"68.5,-876.5 68.5,-912.5 191.5,-912.5 191.5,-876.5 68.5,-876.5\" stroke=\"black\"/>\n",
       "<text font-family=\"Times,serif\" font-size=\"14.00\" text-anchor=\"middle\" x=\"130\" y=\"-890.8\">conv2d_2: Conv2D</text>\n",
       "</g>\n",
       "<!-- 140580532951864&#45;&gt;140580533902192 -->\n",
       "<g class=\"edge\" id=\"edge5\"><title>140580532951864-&gt;140580533902192</title>\n",
       "<path d=\"M130,-949.313C130,-941.289 130,-931.547 130,-922.569\" fill=\"none\" stroke=\"black\"/>\n",
       "<polygon fill=\"black\" points=\"133.5,-922.529 130,-912.529 126.5,-922.529 133.5,-922.529\" stroke=\"black\"/>\n",
       "</g>\n",
       "<!-- 140580520175712 -->\n",
       "<g class=\"node\" id=\"node6\"><title>140580520175712</title>\n",
       "<polygon fill=\"none\" points=\"33,-803.5 33,-839.5 227,-839.5 227,-803.5 33,-803.5\" stroke=\"black\"/>\n",
       "<text font-family=\"Times,serif\" font-size=\"14.00\" text-anchor=\"middle\" x=\"130\" y=\"-817.8\">max_pooling2d: MaxPooling2D</text>\n",
       "</g>\n",
       "<!-- 140580533902192&#45;&gt;140580520175712 -->\n",
       "<g class=\"edge\" id=\"edge6\"><title>140580533902192-&gt;140580520175712</title>\n",
       "<path d=\"M130,-876.313C130,-868.289 130,-858.547 130,-849.569\" fill=\"none\" stroke=\"black\"/>\n",
       "<polygon fill=\"black\" points=\"133.5,-849.529 130,-839.529 126.5,-849.529 133.5,-849.529\" stroke=\"black\"/>\n",
       "</g>\n",
       "<!-- 140580534120288 -->\n",
       "<g class=\"node\" id=\"node7\"><title>140580534120288</title>\n",
       "<polygon fill=\"none\" points=\"0,-730.5 0,-766.5 260,-766.5 260,-730.5 0,-730.5\" stroke=\"black\"/>\n",
       "<text font-family=\"Times,serif\" font-size=\"14.00\" text-anchor=\"middle\" x=\"130\" y=\"-744.8\">batch_normalization_2: BatchNormalization</text>\n",
       "</g>\n",
       "<!-- 140580520175712&#45;&gt;140580534120288 -->\n",
       "<g class=\"edge\" id=\"edge7\"><title>140580520175712-&gt;140580534120288</title>\n",
       "<path d=\"M130,-803.313C130,-795.289 130,-785.547 130,-776.569\" fill=\"none\" stroke=\"black\"/>\n",
       "<polygon fill=\"black\" points=\"133.5,-776.529 130,-766.529 126.5,-776.529 133.5,-776.529\" stroke=\"black\"/>\n",
       "</g>\n",
       "<!-- 140580534250128 -->\n",
       "<g class=\"node\" id=\"node8\"><title>140580534250128</title>\n",
       "<polygon fill=\"none\" points=\"74.5,-657.5 74.5,-693.5 185.5,-693.5 185.5,-657.5 74.5,-657.5\" stroke=\"black\"/>\n",
       "<text font-family=\"Times,serif\" font-size=\"14.00\" text-anchor=\"middle\" x=\"130\" y=\"-671.8\">dropout: Dropout</text>\n",
       "</g>\n",
       "<!-- 140580534120288&#45;&gt;140580534250128 -->\n",
       "<g class=\"edge\" id=\"edge8\"><title>140580534120288-&gt;140580534250128</title>\n",
       "<path d=\"M130,-730.313C130,-722.289 130,-712.547 130,-703.569\" fill=\"none\" stroke=\"black\"/>\n",
       "<polygon fill=\"black\" points=\"133.5,-703.529 130,-693.529 126.5,-703.529 133.5,-703.529\" stroke=\"black\"/>\n",
       "</g>\n",
       "<!-- 140580534561424 -->\n",
       "<g class=\"node\" id=\"node9\"><title>140580534561424</title>\n",
       "<polygon fill=\"none\" points=\"68.5,-584.5 68.5,-620.5 191.5,-620.5 191.5,-584.5 68.5,-584.5\" stroke=\"black\"/>\n",
       "<text font-family=\"Times,serif\" font-size=\"14.00\" text-anchor=\"middle\" x=\"130\" y=\"-598.8\">conv2d_3: Conv2D</text>\n",
       "</g>\n",
       "<!-- 140580534250128&#45;&gt;140580534561424 -->\n",
       "<g class=\"edge\" id=\"edge9\"><title>140580534250128-&gt;140580534561424</title>\n",
       "<path d=\"M130,-657.313C130,-649.289 130,-639.547 130,-630.569\" fill=\"none\" stroke=\"black\"/>\n",
       "<polygon fill=\"black\" points=\"133.5,-630.529 130,-620.529 126.5,-630.529 133.5,-630.529\" stroke=\"black\"/>\n",
       "</g>\n",
       "<!-- 140580536912472 -->\n",
       "<g class=\"node\" id=\"node10\"><title>140580536912472</title>\n",
       "<polygon fill=\"none\" points=\"26.5,-511.5 26.5,-547.5 233.5,-547.5 233.5,-511.5 26.5,-511.5\" stroke=\"black\"/>\n",
       "<text font-family=\"Times,serif\" font-size=\"14.00\" text-anchor=\"middle\" x=\"130\" y=\"-525.8\">max_pooling2d_1: MaxPooling2D</text>\n",
       "</g>\n",
       "<!-- 140580534561424&#45;&gt;140580536912472 -->\n",
       "<g class=\"edge\" id=\"edge10\"><title>140580534561424-&gt;140580536912472</title>\n",
       "<path d=\"M130,-584.313C130,-576.289 130,-566.547 130,-557.569\" fill=\"none\" stroke=\"black\"/>\n",
       "<polygon fill=\"black\" points=\"133.5,-557.529 130,-547.529 126.5,-557.529 133.5,-557.529\" stroke=\"black\"/>\n",
       "</g>\n",
       "<!-- 140580534559184 -->\n",
       "<g class=\"node\" id=\"node11\"><title>140580534559184</title>\n",
       "<polygon fill=\"none\" points=\"0,-438.5 0,-474.5 260,-474.5 260,-438.5 0,-438.5\" stroke=\"black\"/>\n",
       "<text font-family=\"Times,serif\" font-size=\"14.00\" text-anchor=\"middle\" x=\"130\" y=\"-452.8\">batch_normalization_3: BatchNormalization</text>\n",
       "</g>\n",
       "<!-- 140580536912472&#45;&gt;140580534559184 -->\n",
       "<g class=\"edge\" id=\"edge11\"><title>140580536912472-&gt;140580534559184</title>\n",
       "<path d=\"M130,-511.313C130,-503.289 130,-493.547 130,-484.569\" fill=\"none\" stroke=\"black\"/>\n",
       "<polygon fill=\"black\" points=\"133.5,-484.529 130,-474.529 126.5,-484.529 133.5,-484.529\" stroke=\"black\"/>\n",
       "</g>\n",
       "<!-- 140580536973520 -->\n",
       "<g class=\"node\" id=\"node12\"><title>140580536973520</title>\n",
       "<polygon fill=\"none\" points=\"68.5,-365.5 68.5,-401.5 191.5,-401.5 191.5,-365.5 68.5,-365.5\" stroke=\"black\"/>\n",
       "<text font-family=\"Times,serif\" font-size=\"14.00\" text-anchor=\"middle\" x=\"130\" y=\"-379.8\">conv2d_4: Conv2D</text>\n",
       "</g>\n",
       "<!-- 140580534559184&#45;&gt;140580536973520 -->\n",
       "<g class=\"edge\" id=\"edge12\"><title>140580534559184-&gt;140580536973520</title>\n",
       "<path d=\"M130,-438.313C130,-430.289 130,-420.547 130,-411.569\" fill=\"none\" stroke=\"black\"/>\n",
       "<polygon fill=\"black\" points=\"133.5,-411.529 130,-401.529 126.5,-411.529 133.5,-411.529\" stroke=\"black\"/>\n",
       "</g>\n",
       "<!-- 140580536973184 -->\n",
       "<g class=\"node\" id=\"node13\"><title>140580536973184</title>\n",
       "<polygon fill=\"none\" points=\"67.5,-292.5 67.5,-328.5 192.5,-328.5 192.5,-292.5 67.5,-292.5\" stroke=\"black\"/>\n",
       "<text font-family=\"Times,serif\" font-size=\"14.00\" text-anchor=\"middle\" x=\"130\" y=\"-306.8\">dropout_1: Dropout</text>\n",
       "</g>\n",
       "<!-- 140580536973520&#45;&gt;140580536973184 -->\n",
       "<g class=\"edge\" id=\"edge13\"><title>140580536973520-&gt;140580536973184</title>\n",
       "<path d=\"M130,-365.313C130,-357.289 130,-347.547 130,-338.569\" fill=\"none\" stroke=\"black\"/>\n",
       "<polygon fill=\"black\" points=\"133.5,-338.529 130,-328.529 126.5,-338.529 133.5,-338.529\" stroke=\"black\"/>\n",
       "</g>\n",
       "<!-- 140580535912432 -->\n",
       "<g class=\"node\" id=\"node14\"><title>140580535912432</title>\n",
       "<polygon fill=\"none\" points=\"82,-219.5 82,-255.5 178,-255.5 178,-219.5 82,-219.5\" stroke=\"black\"/>\n",
       "<text font-family=\"Times,serif\" font-size=\"14.00\" text-anchor=\"middle\" x=\"130\" y=\"-233.8\">flatten: Flatten</text>\n",
       "</g>\n",
       "<!-- 140580536973184&#45;&gt;140580535912432 -->\n",
       "<g class=\"edge\" id=\"edge14\"><title>140580536973184-&gt;140580535912432</title>\n",
       "<path d=\"M130,-292.313C130,-284.289 130,-274.547 130,-265.569\" fill=\"none\" stroke=\"black\"/>\n",
       "<polygon fill=\"black\" points=\"133.5,-265.529 130,-255.529 126.5,-265.529 133.5,-265.529\" stroke=\"black\"/>\n",
       "</g>\n",
       "<!-- 140580523481800 -->\n",
       "<g class=\"node\" id=\"node15\"><title>140580523481800</title>\n",
       "<polygon fill=\"none\" points=\"85.5,-146.5 85.5,-182.5 174.5,-182.5 174.5,-146.5 85.5,-146.5\" stroke=\"black\"/>\n",
       "<text font-family=\"Times,serif\" font-size=\"14.00\" text-anchor=\"middle\" x=\"130\" y=\"-160.8\">dense: Dense</text>\n",
       "</g>\n",
       "<!-- 140580535912432&#45;&gt;140580523481800 -->\n",
       "<g class=\"edge\" id=\"edge15\"><title>140580535912432-&gt;140580523481800</title>\n",
       "<path d=\"M130,-219.313C130,-211.289 130,-201.547 130,-192.569\" fill=\"none\" stroke=\"black\"/>\n",
       "<polygon fill=\"black\" points=\"133.5,-192.529 130,-182.529 126.5,-192.529 133.5,-192.529\" stroke=\"black\"/>\n",
       "</g>\n",
       "<!-- 140580520533800 -->\n",
       "<g class=\"node\" id=\"node16\"><title>140580520533800</title>\n",
       "<polygon fill=\"none\" points=\"67.5,-73.5 67.5,-109.5 192.5,-109.5 192.5,-73.5 67.5,-73.5\" stroke=\"black\"/>\n",
       "<text font-family=\"Times,serif\" font-size=\"14.00\" text-anchor=\"middle\" x=\"130\" y=\"-87.8\">dropout_2: Dropout</text>\n",
       "</g>\n",
       "<!-- 140580523481800&#45;&gt;140580520533800 -->\n",
       "<g class=\"edge\" id=\"edge16\"><title>140580523481800-&gt;140580520533800</title>\n",
       "<path d=\"M130,-146.313C130,-138.289 130,-128.547 130,-119.569\" fill=\"none\" stroke=\"black\"/>\n",
       "<polygon fill=\"black\" points=\"133.5,-119.529 130,-109.529 126.5,-119.529 133.5,-119.529\" stroke=\"black\"/>\n",
       "</g>\n",
       "<!-- 140580535606408 -->\n",
       "<g class=\"node\" id=\"node17\"><title>140580535606408</title>\n",
       "<polygon fill=\"none\" points=\"79,-0.5 79,-36.5 181,-36.5 181,-0.5 79,-0.5\" stroke=\"black\"/>\n",
       "<text font-family=\"Times,serif\" font-size=\"14.00\" text-anchor=\"middle\" x=\"130\" y=\"-14.8\">dense_1: Dense</text>\n",
       "</g>\n",
       "<!-- 140580520533800&#45;&gt;140580535606408 -->\n",
       "<g class=\"edge\" id=\"edge17\"><title>140580520533800-&gt;140580535606408</title>\n",
       "<path d=\"M130,-73.3129C130,-65.2895 130,-55.5475 130,-46.5691\" fill=\"none\" stroke=\"black\"/>\n",
       "<polygon fill=\"black\" points=\"133.5,-46.5288 130,-36.5288 126.5,-46.5289 133.5,-46.5288\" stroke=\"black\"/>\n",
       "</g>\n",
       "<!-- 140580535095872 -->\n",
       "<g class=\"node\" id=\"node18\"><title>140580535095872</title>\n",
       "<polygon fill=\"none\" points=\"71,-1241.5 71,-1277.5 189,-1277.5 189,-1241.5 71,-1241.5\" stroke=\"black\"/>\n",
       "<text font-family=\"Times,serif\" font-size=\"14.00\" text-anchor=\"middle\" x=\"130\" y=\"-1255.8\">140580535095872</text>\n",
       "</g>\n",
       "<!-- 140580535095872&#45;&gt;140580535143784 -->\n",
       "<g class=\"edge\" id=\"edge1\"><title>140580535095872-&gt;140580535143784</title>\n",
       "<path d=\"M130,-1241.31C130,-1233.29 130,-1223.55 130,-1214.57\" fill=\"none\" stroke=\"black\"/>\n",
       "<polygon fill=\"black\" points=\"133.5,-1214.53 130,-1204.53 126.5,-1214.53 133.5,-1214.53\" stroke=\"black\"/>\n",
       "</g>\n",
       "</g>\n",
       "</svg>"
      ],
      "text/plain": [
       "<IPython.core.display.SVG object>"
      ]
     },
     "execution_count": 19,
     "metadata": {},
     "output_type": "execute_result"
    }
   ],
   "source": [
    "plot_model(model, to_file='model.png')\n",
    "SVG(model_to_dot(model).create(prog='dot', format='svg'))"
   ]
  },
  {
   "cell_type": "markdown",
   "metadata": {
    "_uuid": "9265c2a5c2fbf1b028abc5fc82862b16eb9a4bbb"
   },
   "source": [
    "### Run the model\n",
    "\n",
    "We run the model with the training set. We are also using the validation set (a subset from the orginal training set) for validation."
   ]
  },
  {
   "cell_type": "code",
   "execution_count": 20,
   "metadata": {},
   "outputs": [],
   "source": [
    "NO_EPOCHS = 10"
   ]
  },
  {
   "cell_type": "code",
   "execution_count": 21,
   "metadata": {
    "_uuid": "400494b7e0525069175625422e8c300bd7b41c51",
    "scrolled": true
   },
   "outputs": [
    {
     "name": "stdout",
     "output_type": "stream",
     "text": [
      "Train on 37800 samples, validate on 4200 samples\n",
      "Epoch 1/10\n",
      "37376/37800 [============================>.] - ETA: 0s - loss: 0.6749 - acc: 0.7787\n",
      "Epoch 00001: val_acc improved from -inf to 0.95071, saving model to best_model.h5\n",
      "37800/37800 [==============================] - 11s 293us/step - loss: 0.6694 - acc: 0.7807 - val_loss: 0.1726 - val_acc: 0.9507\n",
      "Epoch 2/10\n",
      "37632/37800 [============================>.] - ETA: 0s - loss: 0.1547 - acc: 0.9556\n",
      "Epoch 00002: val_acc improved from 0.95071 to 0.97690, saving model to best_model.h5\n",
      "37800/37800 [==============================] - 4s 93us/step - loss: 0.1544 - acc: 0.9556 - val_loss: 0.0794 - val_acc: 0.9769\n",
      "Epoch 3/10\n",
      "37632/37800 [============================>.] - ETA: 0s - loss: 0.1188 - acc: 0.9675\n",
      "Epoch 00003: val_acc improved from 0.97690 to 0.98310, saving model to best_model.h5\n",
      "37800/37800 [==============================] - 3s 92us/step - loss: 0.1187 - acc: 0.9675 - val_loss: 0.0606 - val_acc: 0.9831\n",
      "Epoch 4/10\n",
      "37248/37800 [============================>.] - ETA: 0s - loss: 0.0961 - acc: 0.9726\n",
      "Epoch 00004: val_acc improved from 0.98310 to 0.98500, saving model to best_model.h5\n",
      "37800/37800 [==============================] - 3s 89us/step - loss: 0.0959 - acc: 0.9726 - val_loss: 0.0521 - val_acc: 0.9850\n",
      "Epoch 5/10\n",
      "37760/37800 [============================>.] - ETA: 0s - loss: 0.0822 - acc: 0.9766\n",
      "Epoch 00005: val_acc did not improve from 0.98500\n",
      "37800/37800 [==============================] - 3s 89us/step - loss: 0.0822 - acc: 0.9766 - val_loss: 0.0547 - val_acc: 0.9848\n",
      "Epoch 6/10\n",
      "37504/37800 [============================>.] - ETA: 0s - loss: 0.0761 - acc: 0.9788\n",
      "Epoch 00006: val_acc improved from 0.98500 to 0.98595, saving model to best_model.h5\n",
      "37800/37800 [==============================] - 3s 92us/step - loss: 0.0762 - acc: 0.9787 - val_loss: 0.0457 - val_acc: 0.9860\n",
      "Epoch 7/10\n",
      "37504/37800 [============================>.] - ETA: 0s - loss: 0.0650 - acc: 0.9821\n",
      "Epoch 00007: val_acc improved from 0.98595 to 0.98714, saving model to best_model.h5\n",
      "37800/37800 [==============================] - 3s 91us/step - loss: 0.0650 - acc: 0.9821 - val_loss: 0.0468 - val_acc: 0.9871\n",
      "Epoch 8/10\n",
      "37632/37800 [============================>.] - ETA: 0s - loss: 0.0601 - acc: 0.9836\n",
      "Epoch 00008: val_acc did not improve from 0.98714\n",
      "37800/37800 [==============================] - 3s 92us/step - loss: 0.0601 - acc: 0.9835 - val_loss: 0.0506 - val_acc: 0.9857\n",
      "Epoch 9/10\n",
      "37504/37800 [============================>.] - ETA: 0s - loss: 0.0600 - acc: 0.9838\n",
      "Epoch 00009: val_acc did not improve from 0.98714\n",
      "37800/37800 [==============================] - 4s 94us/step - loss: 0.0601 - acc: 0.9838 - val_loss: 0.0496 - val_acc: 0.9869\n",
      "Epoch 10/10\n",
      "37376/37800 [============================>.] - ETA: 0s - loss: 0.0538 - acc: 0.9839\n",
      "Epoch 00010: val_acc improved from 0.98714 to 0.98857, saving model to best_model.h5\n",
      "37800/37800 [==============================] - 4s 100us/step - loss: 0.0538 - acc: 0.9838 - val_loss: 0.0428 - val_acc: 0.9886\n"
     ]
    }
   ],
   "source": [
    "from keras.callbacks import EarlyStopping, ModelCheckpoint\n",
    "earlystopper = EarlyStopping(monitor='loss', patience=PATIENCE, verbose=VERBOSE)\n",
    "checkpointer = ModelCheckpoint('best_model.h5',\n",
    "                                monitor='val_acc',\n",
    "                                verbose=VERBOSE,\n",
    "                                save_best_only=True,\n",
    "                                save_weights_only=True)\n",
    "\n",
    "history = model.fit(X_train, y_train,\n",
    "          batch_size=BATCH_SIZE,\n",
    "          epochs=NO_EPOCHS,\n",
    "          verbose=1,\n",
    "          validation_data=(X_val, y_val),\n",
    "          callbacks=[earlystopper, checkpointer])"
   ]
  },
  {
   "cell_type": "markdown",
   "metadata": {
    "_uuid": "8699df44bc0a95f1a43a201d3dd566746d87173f"
   },
   "source": [
    "\n",
    "## <a id=\"53\">Validation accuracy and  loss </a>\n",
    "\n",
    "\n",
    "We plot accuracy for validation set compared with the accuracy of training set, for each epoch, on the same graph. Then, we plot loss for validation set compared with the loss for training set. \n"
   ]
  },
  {
   "cell_type": "code",
   "execution_count": 22,
   "metadata": {
    "_uuid": "b9e2bb7f25b02d491e34dd0d6d05943e287ae369"
   },
   "outputs": [
    {
     "data": {
      "image/png": "[encoded data removed]",
      "text/plain": [
       "<Figure size 1008x432 with 2 Axes>"
      ]
     },
     "metadata": {
      "needs_background": "light"
     },
     "output_type": "display_data"
    }
   ],
   "source": [
    "def plot_accuracy_and_loss(train_model):\n",
    "    hist = train_model.history\n",
    "    acc = hist['acc']\n",
    "    val_acc = hist['val_acc']\n",
    "    loss = hist['loss']\n",
    "    val_loss = hist['val_loss']\n",
    "    epochs = range(len(acc))\n",
    "    f, ax = plt.subplots(1,2, figsize=(14,6))\n",
    "    ax[0].plot(epochs, acc, 'g', label='Training accuracy')\n",
    "    ax[0].plot(epochs, val_acc, 'r', label='Validation accuracy')\n",
    "    ax[0].set_title('Training and validation accuracy')\n",
    "    ax[0].legend()\n",
    "    ax[1].plot(epochs, loss, 'g', label='Training loss')\n",
    "    ax[1].plot(epochs, val_loss, 'r', label='Validation loss')\n",
    "    ax[1].set_title('Training and validation loss')\n",
    "    ax[1].legend()\n",
    "    plt.show()\n",
    "plot_accuracy_and_loss(history)"
   ]
  },
  {
   "cell_type": "markdown",
   "metadata": {
    "_uuid": "e314698014d0f87ef04ea539bff653275b176060"
   },
   "source": [
    "We can observe that the training is not overfitting, validation accuracy is not decreasing after a certain number of epochs. As well, the validation loss is not increasing after a certain number of epochs, as would have been expected in the case of overfitting. We achieved this by using the 3 Dropout layers inserted in our model. There are other strategies as well, for example by using a variable learning rate or data augmentation images. For the sake of simplicity and in order to keep the calculation very fast (the Kernel complete the training for 50 epochs in less than 10 min), we did not included these techniques for now."
   ]
  },
  {
   "cell_type": "markdown",
   "metadata": {
    "_uuid": "df9a25a0123b6fa2600ddb58805c96bb63463ef0"
   },
   "source": [
    "## <a id=\"54\">Validation accuracy / class</a>\n",
    "\n",
    "Let's see in detail how well are the validation set classes predicted."
   ]
  },
  {
   "cell_type": "code",
   "execution_count": 23,
   "metadata": {},
   "outputs": [
    {
     "name": "stdout",
     "output_type": "stream",
     "text": [
      "run model - predict validation set\n",
      "Last validation loss: 0.04280292945208549, accuracy: 0.9885714285714285\n",
      "Best validation loss: 0.04280292945208549, accuracy: 0.9885714285714285\n"
     ]
    }
   ],
   "source": [
    "print(\"run model - predict validation set\")\n",
    "score = model.evaluate(X_val, y_val, verbose=0)\n",
    "print(f'Last validation loss: {score[0]}, accuracy: {score[1]}')\n",
    "# load saved optimal model\n",
    "model_optimal = model\n",
    "model_optimal.load_weights('best_model.h5')\n",
    "score = model_optimal.evaluate(X_val, y_val, verbose=0)\n",
    "print(f'Best validation loss: {score[0]}, accuracy: {score[1]}')"
   ]
  },
  {
   "cell_type": "code",
   "execution_count": 24,
   "metadata": {
    "_uuid": "9bc726c2c275542447a2845ab856950f9930ba28"
   },
   "outputs": [],
   "source": [
    "def predict_show_classes(model, X_val, y_val):\n",
    "    #get the predictions for the test data\n",
    "    predicted_classes = model.predict_classes(X_val)\n",
    "    #get the indices to be plotted\n",
    "    y_true = np.argmax(y_val,axis=1)\n",
    "    correct = np.nonzero(predicted_classes==y_true)[0]\n",
    "    incorrect = np.nonzero(predicted_classes!=y_true)[0]\n",
    "    print(\"Correct predicted classes:\",correct.shape[0])\n",
    "    print(\"Incorrect predicted classes:\",incorrect.shape[0])\n",
    "    target_names = [\"Class {}:\".format(i) for i in range(NUM_CLASSES)]\n",
    "    print(classification_report(y_true, predicted_classes, target_names=target_names))\n",
    "    return correct, incorrect"
   ]
  },
  {
   "cell_type": "markdown",
   "metadata": {},
   "source": [
    "We show the prediction precision, recall, f1-score for the validation set, with the last model."
   ]
  },
  {
   "cell_type": "code",
   "execution_count": 25,
   "metadata": {
    "_uuid": "3eed1fc17ccc4ab642121bbc6a3763eea61a1ec6"
   },
   "outputs": [
    {
     "name": "stdout",
     "output_type": "stream",
     "text": [
      "Correct predicted classes: 4152\n",
      "Incorrect predicted classes: 48\n",
      "              precision    recall  f1-score   support\n",
      "\n",
      "    Class 0:       0.98      1.00      0.99       398\n",
      "    Class 1:       0.99      1.00      0.99       477\n",
      "    Class 2:       0.98      0.99      0.99       403\n",
      "    Class 3:       0.99      0.98      0.99       470\n",
      "    Class 4:       0.98      0.98      0.98       398\n",
      "    Class 5:       1.00      0.99      1.00       334\n",
      "    Class 6:       1.00      1.00      1.00       403\n",
      "    Class 7:       0.99      0.99      0.99       451\n",
      "    Class 8:       0.99      0.99      0.99       423\n",
      "    Class 9:       0.99      0.97      0.98       443\n",
      "\n",
      "   micro avg       0.99      0.99      0.99      4200\n",
      "   macro avg       0.99      0.99      0.99      4200\n",
      "weighted avg       0.99      0.99      0.99      4200\n",
      "\n"
     ]
    }
   ],
   "source": [
    "correct, incorrect = predict_show_classes(model, X_val, y_val)"
   ]
  },
  {
   "cell_type": "markdown",
   "metadata": {},
   "source": [
    "We perform the same operation using the optimal model."
   ]
  },
  {
   "cell_type": "code",
   "execution_count": 26,
   "metadata": {
    "_uuid": "9b902c728e50e405490b7898eb30728781197b48"
   },
   "outputs": [
    {
     "name": "stdout",
     "output_type": "stream",
     "text": [
      "Correct predicted classes: 4152\n",
      "Incorrect predicted classes: 48\n",
      "              precision    recall  f1-score   support\n",
      "\n",
      "    Class 0:       0.98      1.00      0.99       398\n",
      "    Class 1:       0.99      1.00      0.99       477\n",
      "    Class 2:       0.98      0.99      0.99       403\n",
      "    Class 3:       0.99      0.98      0.99       470\n",
      "    Class 4:       0.98      0.98      0.98       398\n",
      "    Class 5:       1.00      0.99      1.00       334\n",
      "    Class 6:       1.00      1.00      1.00       403\n",
      "    Class 7:       0.99      0.99      0.99       451\n",
      "    Class 8:       0.99      0.99      0.99       423\n",
      "    Class 9:       0.99      0.97      0.98       443\n",
      "\n",
      "   micro avg       0.99      0.99      0.99      4200\n",
      "   macro avg       0.99      0.99      0.99      4200\n",
      "weighted avg       0.99      0.99      0.99      4200\n",
      "\n"
     ]
    }
   ],
   "source": [
    "correct, incorrect =  predict_show_classes(model_optimal, X_val, y_val)"
   ]
  },
  {
   "cell_type": "markdown",
   "metadata": {
    "_uuid": "3696b5b116b4515c54a19563fd41ea2097439ecb"
   },
   "source": [
    "Validation accuracy is above 0.99 (0.993) for most of the classes. Only class 4 has a lower accuracy, 0.98. \n",
    "\n",
    "Let's visualize few images from the validation set that were correctly classified (16 images)."
   ]
  },
  {
   "cell_type": "code",
   "execution_count": 27,
   "metadata": {
    "_uuid": "70c882442d79ce5213de49ae9ecbd2dca6571f6d"
   },
   "outputs": [
    {
     "ename": "NameError",
     "evalue": "name 'predicted_classes' is not defined",
     "output_type": "error",
     "traceback": [
      "\u001b[0;31m---------------------------------------------------------------------------\u001b[0m",
      "\u001b[0;31mNameError\u001b[0m                                 Traceback (most recent call last)",
      "\u001b[0;32m<ipython-input-27-d944dce5ac84>\u001b[0m in \u001b[0;36m<module>\u001b[0;34m()\u001b[0m\n\u001b[1;32m      9\u001b[0m     \u001b[0mplt\u001b[0m\u001b[0;34m.\u001b[0m\u001b[0mshow\u001b[0m\u001b[0;34m(\u001b[0m\u001b[0;34m)\u001b[0m\u001b[0;34m\u001b[0m\u001b[0m\n\u001b[1;32m     10\u001b[0m \u001b[0;34m\u001b[0m\u001b[0m\n\u001b[0;32m---> 11\u001b[0;31m \u001b[0mplot_images\u001b[0m\u001b[0;34m(\u001b[0m\u001b[0mcorrect\u001b[0m\u001b[0;34m,\u001b[0m \u001b[0;34m\"Greens\"\u001b[0m\u001b[0;34m)\u001b[0m\u001b[0;34m\u001b[0m\u001b[0m\n\u001b[0m",
      "\u001b[0;32m<ipython-input-27-d944dce5ac84>\u001b[0m in \u001b[0;36mplot_images\u001b[0;34m(data_index, cmap)\u001b[0m\n\u001b[1;32m      6\u001b[0m         \u001b[0max\u001b[0m\u001b[0;34m[\u001b[0m\u001b[0mi\u001b[0m\u001b[0;34m//\u001b[0m\u001b[0;36m4\u001b[0m\u001b[0;34m,\u001b[0m \u001b[0mi\u001b[0m\u001b[0;34m%\u001b[0m\u001b[0;36m4\u001b[0m\u001b[0;34m]\u001b[0m\u001b[0;34m.\u001b[0m\u001b[0mimshow\u001b[0m\u001b[0;34m(\u001b[0m\u001b[0mX_val\u001b[0m\u001b[0;34m[\u001b[0m\u001b[0mindx\u001b[0m\u001b[0;34m]\u001b[0m\u001b[0;34m.\u001b[0m\u001b[0mreshape\u001b[0m\u001b[0;34m(\u001b[0m\u001b[0mIMG_ROWS\u001b[0m\u001b[0;34m,\u001b[0m\u001b[0mIMG_COLS\u001b[0m\u001b[0;34m)\u001b[0m\u001b[0;34m,\u001b[0m \u001b[0mcmap\u001b[0m\u001b[0;34m=\u001b[0m\u001b[0mcmap\u001b[0m\u001b[0;34m)\u001b[0m\u001b[0;34m\u001b[0m\u001b[0m\n\u001b[1;32m      7\u001b[0m         \u001b[0max\u001b[0m\u001b[0;34m[\u001b[0m\u001b[0mi\u001b[0m\u001b[0;34m//\u001b[0m\u001b[0;36m4\u001b[0m\u001b[0;34m,\u001b[0m \u001b[0mi\u001b[0m\u001b[0;34m%\u001b[0m\u001b[0;36m4\u001b[0m\u001b[0;34m]\u001b[0m\u001b[0;34m.\u001b[0m\u001b[0maxis\u001b[0m\u001b[0;34m(\u001b[0m\u001b[0;34m'off'\u001b[0m\u001b[0;34m)\u001b[0m\u001b[0;34m\u001b[0m\u001b[0m\n\u001b[0;32m----> 8\u001b[0;31m         \u001b[0max\u001b[0m\u001b[0;34m[\u001b[0m\u001b[0mi\u001b[0m\u001b[0;34m//\u001b[0m\u001b[0;36m4\u001b[0m\u001b[0;34m,\u001b[0m \u001b[0mi\u001b[0m\u001b[0;34m%\u001b[0m\u001b[0;36m4\u001b[0m\u001b[0;34m]\u001b[0m\u001b[0;34m.\u001b[0m\u001b[0mset_title\u001b[0m\u001b[0;34m(\u001b[0m\u001b[0;34m\"True:{}  Pred:{}\"\u001b[0m\u001b[0;34m.\u001b[0m\u001b[0mformat\u001b[0m\u001b[0;34m(\u001b[0m\u001b[0my_true\u001b[0m\u001b[0;34m[\u001b[0m\u001b[0mindx\u001b[0m\u001b[0;34m]\u001b[0m\u001b[0;34m,\u001b[0m\u001b[0mpredicted_classes\u001b[0m\u001b[0;34m[\u001b[0m\u001b[0mindx\u001b[0m\u001b[0;34m]\u001b[0m\u001b[0;34m)\u001b[0m\u001b[0;34m)\u001b[0m\u001b[0;34m\u001b[0m\u001b[0m\n\u001b[0m\u001b[1;32m      9\u001b[0m     \u001b[0mplt\u001b[0m\u001b[0;34m.\u001b[0m\u001b[0mshow\u001b[0m\u001b[0;34m(\u001b[0m\u001b[0;34m)\u001b[0m\u001b[0;34m\u001b[0m\u001b[0m\n\u001b[1;32m     10\u001b[0m \u001b[0;34m\u001b[0m\u001b[0m\n",
      "\u001b[0;31mNameError\u001b[0m: name 'predicted_classes' is not defined"
     ]
    },
    {
     "data": {
      "image/png": "[encoded data removed]",
      "text/plain": [
       "<Figure size 864x864 with 16 Axes>"
      ]
     },
     "metadata": {
      "needs_background": "light"
     },
     "output_type": "display_data"
    }
   ],
   "source": [
    "def plot_images(data_index,cmap=\"Blues\"):\n",
    "    # Plot the sample images now\n",
    "    f, ax = plt.subplots(4,4, figsize=(12,12))\n",
    "    y_true = np.argmax(y_val,axis=1)\n",
    "    for i, indx in enumerate(data_index[:16]):\n",
    "        ax[i//4, i%4].imshow(X_val[indx].reshape(IMG_ROWS,IMG_COLS), cmap=cmap)\n",
    "        ax[i//4, i%4].axis('off')\n",
    "        ax[i//4, i%4].set_title(\"True:{}  Pred:{}\".format(y_true[indx],predicted_classes[indx]))\n",
    "    plt.show()    \n",
    "\n",
    "plot_images(correct, \"Greens\")"
   ]
  },
  {
   "cell_type": "markdown",
   "metadata": {
    "_uuid": "710193bee5cfa74a5744442fcd1dc4f163a685a6"
   },
   "source": [
    "Let's visualize the images from the validation set that were incorrecly classified (16 images)."
   ]
  },
  {
   "cell_type": "code",
   "execution_count": 28,
   "metadata": {
    "_uuid": "becbd03e83ae8e01ee847f4629ad788a1d9f7416"
   },
   "outputs": [
    {
     "ename": "NameError",
     "evalue": "name 'predicted_classes' is not defined",
     "output_type": "error",
     "traceback": [
      "\u001b[0;31m---------------------------------------------------------------------------\u001b[0m",
      "\u001b[0;31mNameError\u001b[0m                                 Traceback (most recent call last)",
      "\u001b[0;32m<ipython-input-28-6308b20f8c90>\u001b[0m in \u001b[0;36m<module>\u001b[0;34m()\u001b[0m\n\u001b[0;32m----> 1\u001b[0;31m \u001b[0mplot_images\u001b[0m\u001b[0;34m(\u001b[0m\u001b[0mincorrect\u001b[0m\u001b[0;34m,\u001b[0m \u001b[0;34m\"Reds\"\u001b[0m\u001b[0;34m)\u001b[0m\u001b[0;34m\u001b[0m\u001b[0m\n\u001b[0m",
      "\u001b[0;32m<ipython-input-27-d944dce5ac84>\u001b[0m in \u001b[0;36mplot_images\u001b[0;34m(data_index, cmap)\u001b[0m\n\u001b[1;32m      6\u001b[0m         \u001b[0max\u001b[0m\u001b[0;34m[\u001b[0m\u001b[0mi\u001b[0m\u001b[0;34m//\u001b[0m\u001b[0;36m4\u001b[0m\u001b[0;34m,\u001b[0m \u001b[0mi\u001b[0m\u001b[0;34m%\u001b[0m\u001b[0;36m4\u001b[0m\u001b[0;34m]\u001b[0m\u001b[0;34m.\u001b[0m\u001b[0mimshow\u001b[0m\u001b[0;34m(\u001b[0m\u001b[0mX_val\u001b[0m\u001b[0;34m[\u001b[0m\u001b[0mindx\u001b[0m\u001b[0;34m]\u001b[0m\u001b[0;34m.\u001b[0m\u001b[0mreshape\u001b[0m\u001b[0;34m(\u001b[0m\u001b[0mIMG_ROWS\u001b[0m\u001b[0;34m,\u001b[0m\u001b[0mIMG_COLS\u001b[0m\u001b[0;34m)\u001b[0m\u001b[0;34m,\u001b[0m \u001b[0mcmap\u001b[0m\u001b[0;34m=\u001b[0m\u001b[0mcmap\u001b[0m\u001b[0;34m)\u001b[0m\u001b[0;34m\u001b[0m\u001b[0m\n\u001b[1;32m      7\u001b[0m         \u001b[0max\u001b[0m\u001b[0;34m[\u001b[0m\u001b[0mi\u001b[0m\u001b[0;34m//\u001b[0m\u001b[0;36m4\u001b[0m\u001b[0;34m,\u001b[0m \u001b[0mi\u001b[0m\u001b[0;34m%\u001b[0m\u001b[0;36m4\u001b[0m\u001b[0;34m]\u001b[0m\u001b[0;34m.\u001b[0m\u001b[0maxis\u001b[0m\u001b[0;34m(\u001b[0m\u001b[0;34m'off'\u001b[0m\u001b[0;34m)\u001b[0m\u001b[0;34m\u001b[0m\u001b[0m\n\u001b[0;32m----> 8\u001b[0;31m         \u001b[0max\u001b[0m\u001b[0;34m[\u001b[0m\u001b[0mi\u001b[0m\u001b[0;34m//\u001b[0m\u001b[0;36m4\u001b[0m\u001b[0;34m,\u001b[0m \u001b[0mi\u001b[0m\u001b[0;34m%\u001b[0m\u001b[0;36m4\u001b[0m\u001b[0;34m]\u001b[0m\u001b[0;34m.\u001b[0m\u001b[0mset_title\u001b[0m\u001b[0;34m(\u001b[0m\u001b[0;34m\"True:{}  Pred:{}\"\u001b[0m\u001b[0;34m.\u001b[0m\u001b[0mformat\u001b[0m\u001b[0;34m(\u001b[0m\u001b[0my_true\u001b[0m\u001b[0;34m[\u001b[0m\u001b[0mindx\u001b[0m\u001b[0;34m]\u001b[0m\u001b[0;34m,\u001b[0m\u001b[0mpredicted_classes\u001b[0m\u001b[0;34m[\u001b[0m\u001b[0mindx\u001b[0m\u001b[0;34m]\u001b[0m\u001b[0;34m)\u001b[0m\u001b[0;34m)\u001b[0m\u001b[0;34m\u001b[0m\u001b[0m\n\u001b[0m\u001b[1;32m      9\u001b[0m     \u001b[0mplt\u001b[0m\u001b[0;34m.\u001b[0m\u001b[0mshow\u001b[0m\u001b[0;34m(\u001b[0m\u001b[0;34m)\u001b[0m\u001b[0;34m\u001b[0m\u001b[0m\n\u001b[1;32m     10\u001b[0m \u001b[0;34m\u001b[0m\u001b[0m\n",
      "\u001b[0;31mNameError\u001b[0m: name 'predicted_classes' is not defined"
     ]
    },
    {
     "data": {
      "image/png": "[encoded data removed]",
      "text/plain": [
       "<Figure size 864x864 with 16 Axes>"
      ]
     },
     "metadata": {
      "needs_background": "light"
     },
     "output_type": "display_data"
    }
   ],
   "source": [
    "plot_images(incorrect, \"Reds\")"
   ]
  },
  {
   "cell_type": "markdown",
   "metadata": {
    "_uuid": "40820d0810e6f7ec9b5ccc472a1c124e2e8e3cd5"
   },
   "source": [
    "We can observe that most of the images from the validation data set  with classes incorrectly predicted were actually quite difficult to predict even by a human."
   ]
  },
  {
   "cell_type": "markdown",
   "metadata": {
    "_uuid": "bd82f76f90fb38f61411823e8941738727a8e3e0"
   },
   "source": [
    "# <a id=\"6\">Submission </a>\n",
    "\n",
    "Let's prepare now the submission.\n",
    "\n",
    "We predict first the classes for the test dataset."
   ]
  },
  {
   "cell_type": "code",
   "execution_count": 29,
   "metadata": {
    "_uuid": "81869e184b83c68ea26d9ebab36d92785d7498c9"
   },
   "outputs": [],
   "source": [
    "y_cat = model.predict(X_test, batch_size=64)"
   ]
  },
  {
   "cell_type": "markdown",
   "metadata": {
    "_uuid": "d5f0874368bb2f45a715d556455b4a2846ff4468"
   },
   "source": [
    "We identify the predicted class for each image by selecting the column with the highest predicted value."
   ]
  },
  {
   "cell_type": "code",
   "execution_count": 30,
   "metadata": {
    "_uuid": "2e80c4b66a4680c9c8f4c67accad78bd7b927705"
   },
   "outputs": [],
   "source": [
    "y_pred = np.argmax(y_cat,axis=1)"
   ]
  },
  {
   "cell_type": "markdown",
   "metadata": {
    "_uuid": "fd17659b39518f4d107e30a81696a664035041b3",
    "collapsed": true
   },
   "source": [
    "We save the prediction in the output file."
   ]
  },
  {
   "cell_type": "code",
   "execution_count": 31,
   "metadata": {
    "_uuid": "20ce6b60d75646fe96da9e00ac23b32e24c85527"
   },
   "outputs": [],
   "source": [
    "output_file = \"submission.csv\"\n",
    "with open(output_file, 'w') as f :\n",
    "    f.write('ImageId,Label\\n')\n",
    "    for i in range(len(y_pred)) :\n",
    "        f.write(\"\".join([str(i+1),',',str(y_pred[i]),'\\n']))"
   ]
  },
  {
   "cell_type": "markdown",
   "metadata": {},
   "source": [
    "We repeat this using the optimal model."
   ]
  },
  {
   "cell_type": "code",
   "execution_count": 32,
   "metadata": {},
   "outputs": [],
   "source": [
    "y_cat = model_optimal.predict(X_test, batch_size=64)\n",
    "y_pred = np.argmax(y_cat,axis=1)\n",
    "output_file = \"submission_optimal.csv\"\n",
    "with open(output_file, 'w') as f :\n",
    "    f.write('ImageId,Label\\n')\n",
    "    for i in range(len(y_pred)) :\n",
    "        f.write(\"\".join([str(i+1),',',str(y_pred[i]),'\\n']))"
   ]
  },
  {
   "cell_type": "markdown",
   "metadata": {
    "_uuid": "e24053db4dbfec25fd1b90391586d7ce6bc32988"
   },
   "source": [
    "# <a id=\"7\">Conclusions</a>\n",
    "\n",
    "With a complex sequential model with multiple convolution layers and 50 epochs for the training, we obtained an accuracy  of approximatelly 0.993 for the validation set and of 0.99371 for the test set, after submission.\n"
   ]
  },
  {
   "cell_type": "markdown",
   "metadata": {
    "_uuid": "1b45e3422fb9507da66ce7af67a97b54e7fa7683"
   },
   "source": [
    " <a id=\"8\">References</a>\n",
    "\n",
    "[1] Yan LeCun, MNIST Database, http://yann.lecun.com/exdb/mnist/  \n",
    "[2] DanB, CollinMoris, Deep Learning From Scratch, https://www.kaggle.com/dansbecker/deep-learning-from-scratch  \n",
    "[3] DanB, Dropout and Strides for Larger Models, https://www.kaggle.com/dansbecker/dropout-and-strides-for-larger-models  \n",
    "[4] BGO, CNN with Keras, https://www.kaggle.com/bugraokcu/cnn-with-keras    \n",
    "\n"
   ]
  }
 ],
 "metadata": {
  "kernelspec": {
   "display_name": "Python 3",
   "language": "python",
   "name": "python3"
  },
  "language_info": {
   "codemirror_mode": {
    "name": "ipython",
    "version": 3
   },
   "file_extension": ".py",
   "mimetype": "text/x-python",
   "name": "python",
   "nbconvert_exporter": "python",
   "pygments_lexer": "ipython3",
   "version": "3.6.6"
  }
 },
 "nbformat": 4,
 "nbformat_minor": 1
}
