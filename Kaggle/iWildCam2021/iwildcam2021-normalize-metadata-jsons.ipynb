{
 "cells": [
  {
   "cell_type": "markdown",
   "metadata": {
    "papermill": {
     "duration": 0.010253,
     "end_time": "2021-03-20T18:55:03.659262",
     "exception": false,
     "start_time": "2021-03-20T18:55:03.649009",
     "status": "completed"
    },
    "tags": []
   },
   "source": [
    "# Introduction\n",
    "\n",
    "The various metainformation for this competition is stored in json format.\n",
    "\n",
    "We would like to process these jsons so that we can easily build our training matrices.\n",
    "\n",
    "For this, we will process all jsons and extract dataframes, by normalizing the json data."
   ]
  },
  {
   "cell_type": "markdown",
   "metadata": {
    "papermill": {
     "duration": 0.008415,
     "end_time": "2021-03-20T18:55:03.676702",
     "exception": false,
     "start_time": "2021-03-20T18:55:03.668287",
     "status": "completed"
    },
    "tags": []
   },
   "source": [
    "# Data ingestion and processing\n",
    "\n",
    "\n",
    "We will do all data ingestion and processing into a single loop."
   ]
  },
  {
   "cell_type": "code",
   "execution_count": 1,
   "metadata": {
    "_cell_guid": "b1076dfc-b9ad-4769-8c92-a6c4dae69d19",
    "_uuid": "8f2839f25d086af736a60e9eeb907d3b93b6e0e5",
    "execution": {
     "iopub.execute_input": "2021-03-20T18:55:03.698689Z",
     "iopub.status.busy": "2021-03-20T18:55:03.698026Z",
     "iopub.status.idle": "2021-03-20T18:55:03.699891Z",
     "shell.execute_reply": "2021-03-20T18:55:03.700365Z"
    },
    "papermill": {
     "duration": 0.015417,
     "end_time": "2021-03-20T18:55:03.700616",
     "exception": false,
     "start_time": "2021-03-20T18:55:03.685199",
     "status": "completed"
    },
    "tags": []
   },
   "outputs": [],
   "source": [
    "import numpy as np\n",
    "import pandas as pd\n",
    "import os\n",
    "import json"
   ]
  },
  {
   "cell_type": "code",
   "execution_count": 2,
   "metadata": {
    "execution": {
     "iopub.execute_input": "2021-03-20T18:55:03.720344Z",
     "iopub.status.busy": "2021-03-20T18:55:03.719773Z",
     "iopub.status.idle": "2021-03-20T18:55:33.597213Z",
     "shell.execute_reply": "2021-03-20T18:55:33.596597Z"
    },
    "papermill": {
     "duration": 29.887993,
     "end_time": "2021-03-20T18:55:33.597347",
     "exception": false,
     "start_time": "2021-03-20T18:55:03.709354",
     "status": "completed"
    },
    "tags": []
   },
   "outputs": [
    {
     "name": "stdout",
     "output_type": "stream",
     "text": [
      "Current json processed: iwildcam2021_megadetector_results.json\n",
      "\tCurrent json item processed: info length: 3\n",
      "\tDynamic dataframe created: megadetector_results_info_df\n",
      "\tCurrent json item processed: images length: 263504\n",
      "\tDynamic dataframe created: megadetector_results_images_df\n",
      "\tCurrent json item processed: detection_categories length: 2\n",
      "\tDynamic dataframe created: megadetector_results_detection_categories_df\n",
      "Current json processed: iwildcam2021_test_information.json\n",
      "\tCurrent json item processed: images length: 60214\n",
      "\tDynamic dataframe created: test_information_images_df\n",
      "Current json processed: iwildcam2021_train_annotations.json\n",
      "\tCurrent json item processed: images length: 203314\n",
      "\tDynamic dataframe created: train_annotations_images_df\n",
      "\tCurrent json item processed: annotations length: 203314\n",
      "\tDynamic dataframe created: train_annotations_annotations_df\n",
      "\tCurrent json item processed: categories length: 205\n",
      "\tDynamic dataframe created: train_annotations_categories_df\n"
     ]
    }
   ],
   "source": [
    "json_folder_path = \"/kaggle/input/iwildcam2021-fgvc8/metadata\"\n",
    "list_of_files = list(os.listdir(json_folder_path))\n",
    "\n",
    "for file_name in list_of_files:\n",
    "    json_path = os.path.join(json_folder_path, file_name)\n",
    "    print(f\"Current json processed: {file_name}\")\n",
    "    with open(json_path) as json_file:\n",
    "        # read each json\n",
    "        json_data = json.load(json_file)\n",
    "        # for each item in the json\n",
    "        for item in json_data.items():\n",
    "            # prepare the dataframe name\n",
    "            file_name_split = file_name.split(\".\")[0]\n",
    "            file_name_split = file_name_split.split(\"_\")\n",
    "            file_name_str = file_name_split[1] + \"_\" + file_name_split[2]\n",
    "            print(f\"\\tCurrent json item processed: {item[0]} length: {len(item[1])}\")\n",
    "            data_frame_name = f\"{file_name_str}_{item[0]}_df\"\n",
    "            print(f\"\\tDynamic dataframe created: {data_frame_name}\")\n",
    "            # dynamic creation of a dataframe, using vars()[data_frame_name]\n",
    "            vars()[data_frame_name] = pd.json_normalize(json_data.get(item[0]))\n",
    "            # output the dataframe\n",
    "            vars()[data_frame_name].to_csv(f\"{data_frame_name}\", index=False)"
   ]
  },
  {
   "cell_type": "code",
   "execution_count": 3,
   "metadata": {
    "execution": {
     "iopub.execute_input": "2021-03-20T18:55:33.633199Z",
     "iopub.status.busy": "2021-03-20T18:55:33.632241Z",
     "iopub.status.idle": "2021-03-20T18:55:33.656966Z",
     "shell.execute_reply": "2021-03-20T18:55:33.657526Z"
    },
    "papermill": {
     "duration": 0.048346,
     "end_time": "2021-03-20T18:55:33.657691",
     "exception": false,
     "start_time": "2021-03-20T18:55:33.609345",
     "status": "completed"
    },
    "tags": []
   },
   "outputs": [
    {
     "name": "stdout",
     "output_type": "stream",
     "text": [
      "(263504, 3)\n"
     ]
    },
    {
     "data": {
      "text/html": [
       "<div>\n",
       "<style scoped>\n",
       "    .dataframe tbody tr th:only-of-type {\n",
       "        vertical-align: middle;\n",
       "    }\n",
       "\n",
       "    .dataframe tbody tr th {\n",
       "        vertical-align: top;\n",
       "    }\n",
       "\n",
       "    .dataframe thead th {\n",
       "        text-align: right;\n",
       "    }\n",
       "</style>\n",
       "<table border=\"1\" class=\"dataframe\">\n",
       "  <thead>\n",
       "    <tr style=\"text-align: right;\">\n",
       "      <th></th>\n",
       "      <th>detections</th>\n",
       "      <th>id</th>\n",
       "      <th>max_detection_conf</th>\n",
       "    </tr>\n",
       "  </thead>\n",
       "  <tbody>\n",
       "    <tr>\n",
       "      <th>0</th>\n",
       "      <td>[{'category': '1', 'bbox': [0.6529, 0.5425, 0....</td>\n",
       "      <td>905a3c8c-21bc-11ea-a13a-137349068a90</td>\n",
       "      <td>0.999</td>\n",
       "    </tr>\n",
       "    <tr>\n",
       "      <th>1</th>\n",
       "      <td>[{'category': '1', 'bbox': [0.0147, 0.0, 0.985...</td>\n",
       "      <td>905a3fc0-21bc-11ea-a13a-137349068a90</td>\n",
       "      <td>0.696</td>\n",
       "    </tr>\n",
       "    <tr>\n",
       "      <th>2</th>\n",
       "      <td>[]</td>\n",
       "      <td>905a420e-21bc-11ea-a13a-137349068a90</td>\n",
       "      <td>0.000</td>\n",
       "    </tr>\n",
       "    <tr>\n",
       "      <th>3</th>\n",
       "      <td>[{'category': '1', 'bbox': [0.0, 0.4669, 0.185...</td>\n",
       "      <td>905a4416-21bc-11ea-a13a-137349068a90</td>\n",
       "      <td>1.000</td>\n",
       "    </tr>\n",
       "    <tr>\n",
       "      <th>4</th>\n",
       "      <td>[{'category': '1', 'bbox': [0.0, 0.0494, 0.528...</td>\n",
       "      <td>905a579e-21bc-11ea-a13a-137349068a90</td>\n",
       "      <td>0.999</td>\n",
       "    </tr>\n",
       "  </tbody>\n",
       "</table>\n",
       "</div>"
      ],
      "text/plain": [
       "                                          detections  \\\n",
       "0  [{'category': '1', 'bbox': [0.6529, 0.5425, 0....   \n",
       "1  [{'category': '1', 'bbox': [0.0147, 0.0, 0.985...   \n",
       "2                                                 []   \n",
       "3  [{'category': '1', 'bbox': [0.0, 0.4669, 0.185...   \n",
       "4  [{'category': '1', 'bbox': [0.0, 0.0494, 0.528...   \n",
       "\n",
       "                                     id  max_detection_conf  \n",
       "0  905a3c8c-21bc-11ea-a13a-137349068a90               0.999  \n",
       "1  905a3fc0-21bc-11ea-a13a-137349068a90               0.696  \n",
       "2  905a420e-21bc-11ea-a13a-137349068a90               0.000  \n",
       "3  905a4416-21bc-11ea-a13a-137349068a90               1.000  \n",
       "4  905a579e-21bc-11ea-a13a-137349068a90               0.999  "
      ]
     },
     "execution_count": 3,
     "metadata": {},
     "output_type": "execute_result"
    }
   ],
   "source": [
    "print(megadetector_results_images_df.shape)\n",
    "megadetector_results_images_df.head()"
   ]
  },
  {
   "cell_type": "markdown",
   "metadata": {
    "papermill": {
     "duration": 0.01193,
     "end_time": "2021-03-20T18:55:33.681561",
     "exception": false,
     "start_time": "2021-03-20T18:55:33.669631",
     "status": "completed"
    },
    "tags": []
   },
   "source": [
    "Let's further process `megadetector_results_images_df.detections`\n",
    "\n",
    "Let's find what is the maximum number of  detections from all data."
   ]
  },
  {
   "cell_type": "code",
   "execution_count": 4,
   "metadata": {
    "execution": {
     "iopub.execute_input": "2021-03-20T18:55:33.709361Z",
     "iopub.status.busy": "2021-03-20T18:55:33.708398Z",
     "iopub.status.idle": "2021-03-20T18:55:33.890884Z",
     "shell.execute_reply": "2021-03-20T18:55:33.891367Z"
    },
    "papermill": {
     "duration": 0.197826,
     "end_time": "2021-03-20T18:55:33.891544",
     "exception": false,
     "start_time": "2021-03-20T18:55:33.693718",
     "status": "completed"
    },
    "tags": []
   },
   "outputs": [],
   "source": [
    "megadetector_results_images_df['detections_count'] = megadetector_results_images_df[\"detections\"].apply(lambda x: len(x))"
   ]
  },
  {
   "cell_type": "code",
   "execution_count": 5,
   "metadata": {
    "execution": {
     "iopub.execute_input": "2021-03-20T18:55:33.920258Z",
     "iopub.status.busy": "2021-03-20T18:55:33.919271Z",
     "iopub.status.idle": "2021-03-20T18:55:33.962844Z",
     "shell.execute_reply": "2021-03-20T18:55:33.963315Z"
    },
    "papermill": {
     "duration": 0.059444,
     "end_time": "2021-03-20T18:55:33.963482",
     "exception": false,
     "start_time": "2021-03-20T18:55:33.904038",
     "status": "completed"
    },
    "tags": []
   },
   "outputs": [
    {
     "name": "stdout",
     "output_type": "stream",
     "text": [
      "Max detections: 34\n"
     ]
    }
   ],
   "source": [
    "print(f\"Max detections: {max(megadetector_results_images_df['detections_count'] )}\")"
   ]
  },
  {
   "cell_type": "markdown",
   "metadata": {
    "papermill": {
     "duration": 0.012486,
     "end_time": "2021-03-20T18:55:33.988652",
     "exception": false,
     "start_time": "2021-03-20T18:55:33.976166",
     "status": "completed"
    },
    "tags": []
   },
   "source": [
    "We will keep this data in this format for now."
   ]
  },
  {
   "cell_type": "code",
   "execution_count": 6,
   "metadata": {
    "execution": {
     "iopub.execute_input": "2021-03-20T18:55:34.023979Z",
     "iopub.status.busy": "2021-03-20T18:55:34.023110Z",
     "iopub.status.idle": "2021-03-20T18:55:34.027630Z",
     "shell.execute_reply": "2021-03-20T18:55:34.028193Z"
    },
    "papermill": {
     "duration": 0.02695,
     "end_time": "2021-03-20T18:55:34.028345",
     "exception": false,
     "start_time": "2021-03-20T18:55:34.001395",
     "status": "completed"
    },
    "tags": []
   },
   "outputs": [
    {
     "name": "stdout",
     "output_type": "stream",
     "text": [
      "(1, 3)\n"
     ]
    },
    {
     "data": {
      "text/html": [
       "<div>\n",
       "<style scoped>\n",
       "    .dataframe tbody tr th:only-of-type {\n",
       "        vertical-align: middle;\n",
       "    }\n",
       "\n",
       "    .dataframe tbody tr th {\n",
       "        vertical-align: top;\n",
       "    }\n",
       "\n",
       "    .dataframe thead th {\n",
       "        text-align: right;\n",
       "    }\n",
       "</style>\n",
       "<table border=\"1\" class=\"dataframe\">\n",
       "  <thead>\n",
       "    <tr style=\"text-align: right;\">\n",
       "      <th></th>\n",
       "      <th>format_version</th>\n",
       "      <th>detector</th>\n",
       "      <th>detection_completion_time</th>\n",
       "    </tr>\n",
       "  </thead>\n",
       "  <tbody>\n",
       "    <tr>\n",
       "      <th>0</th>\n",
       "      <td>1.0</td>\n",
       "      <td>megadetector_v3</td>\n",
       "      <td>2020-01-10 08:49:05</td>\n",
       "    </tr>\n",
       "  </tbody>\n",
       "</table>\n",
       "</div>"
      ],
      "text/plain": [
       "  format_version         detector detection_completion_time\n",
       "0            1.0  megadetector_v3       2020-01-10 08:49:05"
      ]
     },
     "execution_count": 6,
     "metadata": {},
     "output_type": "execute_result"
    }
   ],
   "source": [
    "print(megadetector_results_info_df.shape)\n",
    "megadetector_results_info_df.head()"
   ]
  },
  {
   "cell_type": "code",
   "execution_count": 7,
   "metadata": {
    "execution": {
     "iopub.execute_input": "2021-03-20T18:55:34.058551Z",
     "iopub.status.busy": "2021-03-20T18:55:34.057652Z",
     "iopub.status.idle": "2021-03-20T18:55:34.068381Z",
     "shell.execute_reply": "2021-03-20T18:55:34.068845Z"
    },
    "papermill": {
     "duration": 0.027592,
     "end_time": "2021-03-20T18:55:34.068992",
     "exception": false,
     "start_time": "2021-03-20T18:55:34.041400",
     "status": "completed"
    },
    "tags": []
   },
   "outputs": [
    {
     "name": "stdout",
     "output_type": "stream",
     "text": [
      "(1, 2)\n"
     ]
    },
    {
     "data": {
      "text/html": [
       "<div>\n",
       "<style scoped>\n",
       "    .dataframe tbody tr th:only-of-type {\n",
       "        vertical-align: middle;\n",
       "    }\n",
       "\n",
       "    .dataframe tbody tr th {\n",
       "        vertical-align: top;\n",
       "    }\n",
       "\n",
       "    .dataframe thead th {\n",
       "        text-align: right;\n",
       "    }\n",
       "</style>\n",
       "<table border=\"1\" class=\"dataframe\">\n",
       "  <thead>\n",
       "    <tr style=\"text-align: right;\">\n",
       "      <th></th>\n",
       "      <th>2</th>\n",
       "      <th>1</th>\n",
       "    </tr>\n",
       "  </thead>\n",
       "  <tbody>\n",
       "    <tr>\n",
       "      <th>0</th>\n",
       "      <td>person</td>\n",
       "      <td>animal</td>\n",
       "    </tr>\n",
       "  </tbody>\n",
       "</table>\n",
       "</div>"
      ],
      "text/plain": [
       "        2       1\n",
       "0  person  animal"
      ]
     },
     "execution_count": 7,
     "metadata": {},
     "output_type": "execute_result"
    }
   ],
   "source": [
    "print(megadetector_results_detection_categories_df.shape)\n",
    "megadetector_results_detection_categories_df.head()"
   ]
  },
  {
   "cell_type": "code",
   "execution_count": 8,
   "metadata": {
    "execution": {
     "iopub.execute_input": "2021-03-20T18:55:34.102925Z",
     "iopub.status.busy": "2021-03-20T18:55:34.102140Z",
     "iopub.status.idle": "2021-03-20T18:55:34.116402Z",
     "shell.execute_reply": "2021-03-20T18:55:34.115885Z"
    },
    "papermill": {
     "duration": 0.033644,
     "end_time": "2021-03-20T18:55:34.116533",
     "exception": false,
     "start_time": "2021-03-20T18:55:34.082889",
     "status": "completed"
    },
    "tags": []
   },
   "outputs": [
    {
     "name": "stdout",
     "output_type": "stream",
     "text": [
      "(60214, 10)\n"
     ]
    },
    {
     "data": {
      "text/html": [
       "<div>\n",
       "<style scoped>\n",
       "    .dataframe tbody tr th:only-of-type {\n",
       "        vertical-align: middle;\n",
       "    }\n",
       "\n",
       "    .dataframe tbody tr th {\n",
       "        vertical-align: top;\n",
       "    }\n",
       "\n",
       "    .dataframe thead th {\n",
       "        text-align: right;\n",
       "    }\n",
       "</style>\n",
       "<table border=\"1\" class=\"dataframe\">\n",
       "  <thead>\n",
       "    <tr style=\"text-align: right;\">\n",
       "      <th></th>\n",
       "      <th>height</th>\n",
       "      <th>id</th>\n",
       "      <th>seq_id</th>\n",
       "      <th>location</th>\n",
       "      <th>width</th>\n",
       "      <th>datetime</th>\n",
       "      <th>file_name</th>\n",
       "      <th>seq_frame_num</th>\n",
       "      <th>seq_num_frames</th>\n",
       "      <th>sub_location</th>\n",
       "    </tr>\n",
       "  </thead>\n",
       "  <tbody>\n",
       "    <tr>\n",
       "      <th>0</th>\n",
       "      <td>1024</td>\n",
       "      <td>8b31d3be-21bc-11ea-a13a-137349068a90</td>\n",
       "      <td>a91ebc18-0cd3-11eb-bed1-0242ac1c0002</td>\n",
       "      <td>20</td>\n",
       "      <td>1280</td>\n",
       "      <td>2013-06-09 16:01:38.000</td>\n",
       "      <td>8b31d3be-21bc-11ea-a13a-137349068a90.jpg</td>\n",
       "      <td>0</td>\n",
       "      <td>10</td>\n",
       "      <td>NaN</td>\n",
       "    </tr>\n",
       "    <tr>\n",
       "      <th>1</th>\n",
       "      <td>1024</td>\n",
       "      <td>8cf202be-21bc-11ea-a13a-137349068a90</td>\n",
       "      <td>a91ebc18-0cd3-11eb-bed1-0242ac1c0002</td>\n",
       "      <td>20</td>\n",
       "      <td>1280</td>\n",
       "      <td>2013-06-09 16:01:39.000</td>\n",
       "      <td>8cf202be-21bc-11ea-a13a-137349068a90.jpg</td>\n",
       "      <td>1</td>\n",
       "      <td>10</td>\n",
       "      <td>NaN</td>\n",
       "    </tr>\n",
       "    <tr>\n",
       "      <th>2</th>\n",
       "      <td>1024</td>\n",
       "      <td>8a87e62e-21bc-11ea-a13a-137349068a90</td>\n",
       "      <td>a91ebc18-0cd3-11eb-bed1-0242ac1c0002</td>\n",
       "      <td>20</td>\n",
       "      <td>1280</td>\n",
       "      <td>2013-06-09 16:01:40.000</td>\n",
       "      <td>8a87e62e-21bc-11ea-a13a-137349068a90.jpg</td>\n",
       "      <td>2</td>\n",
       "      <td>10</td>\n",
       "      <td>NaN</td>\n",
       "    </tr>\n",
       "    <tr>\n",
       "      <th>3</th>\n",
       "      <td>1024</td>\n",
       "      <td>8e6994f4-21bc-11ea-a13a-137349068a90</td>\n",
       "      <td>a91ebc18-0cd3-11eb-bed1-0242ac1c0002</td>\n",
       "      <td>20</td>\n",
       "      <td>1280</td>\n",
       "      <td>2013-06-09 16:01:41.000</td>\n",
       "      <td>8e6994f4-21bc-11ea-a13a-137349068a90.jpg</td>\n",
       "      <td>3</td>\n",
       "      <td>10</td>\n",
       "      <td>NaN</td>\n",
       "    </tr>\n",
       "    <tr>\n",
       "      <th>4</th>\n",
       "      <td>1024</td>\n",
       "      <td>948b29e2-21bc-11ea-a13a-137349068a90</td>\n",
       "      <td>a91ebc18-0cd3-11eb-bed1-0242ac1c0002</td>\n",
       "      <td>20</td>\n",
       "      <td>1280</td>\n",
       "      <td>2013-06-09 16:01:42.000</td>\n",
       "      <td>948b29e2-21bc-11ea-a13a-137349068a90.jpg</td>\n",
       "      <td>4</td>\n",
       "      <td>10</td>\n",
       "      <td>NaN</td>\n",
       "    </tr>\n",
       "  </tbody>\n",
       "</table>\n",
       "</div>"
      ],
      "text/plain": [
       "   height                                    id  \\\n",
       "0    1024  8b31d3be-21bc-11ea-a13a-137349068a90   \n",
       "1    1024  8cf202be-21bc-11ea-a13a-137349068a90   \n",
       "2    1024  8a87e62e-21bc-11ea-a13a-137349068a90   \n",
       "3    1024  8e6994f4-21bc-11ea-a13a-137349068a90   \n",
       "4    1024  948b29e2-21bc-11ea-a13a-137349068a90   \n",
       "\n",
       "                                 seq_id  location  width  \\\n",
       "0  a91ebc18-0cd3-11eb-bed1-0242ac1c0002        20   1280   \n",
       "1  a91ebc18-0cd3-11eb-bed1-0242ac1c0002        20   1280   \n",
       "2  a91ebc18-0cd3-11eb-bed1-0242ac1c0002        20   1280   \n",
       "3  a91ebc18-0cd3-11eb-bed1-0242ac1c0002        20   1280   \n",
       "4  a91ebc18-0cd3-11eb-bed1-0242ac1c0002        20   1280   \n",
       "\n",
       "                  datetime                                 file_name  \\\n",
       "0  2013-06-09 16:01:38.000  8b31d3be-21bc-11ea-a13a-137349068a90.jpg   \n",
       "1  2013-06-09 16:01:39.000  8cf202be-21bc-11ea-a13a-137349068a90.jpg   \n",
       "2  2013-06-09 16:01:40.000  8a87e62e-21bc-11ea-a13a-137349068a90.jpg   \n",
       "3  2013-06-09 16:01:41.000  8e6994f4-21bc-11ea-a13a-137349068a90.jpg   \n",
       "4  2013-06-09 16:01:42.000  948b29e2-21bc-11ea-a13a-137349068a90.jpg   \n",
       "\n",
       "   seq_frame_num  seq_num_frames  sub_location  \n",
       "0              0              10           NaN  \n",
       "1              1              10           NaN  \n",
       "2              2              10           NaN  \n",
       "3              3              10           NaN  \n",
       "4              4              10           NaN  "
      ]
     },
     "execution_count": 8,
     "metadata": {},
     "output_type": "execute_result"
    }
   ],
   "source": [
    "print(test_information_images_df.shape)\n",
    "test_information_images_df.head()"
   ]
  },
  {
   "cell_type": "code",
   "execution_count": 9,
   "metadata": {
    "execution": {
     "iopub.execute_input": "2021-03-20T18:55:34.161300Z",
     "iopub.status.busy": "2021-03-20T18:55:34.160497Z",
     "iopub.status.idle": "2021-03-20T18:55:34.165809Z",
     "shell.execute_reply": "2021-03-20T18:55:34.165223Z"
    },
    "papermill": {
     "duration": 0.034217,
     "end_time": "2021-03-20T18:55:34.165955",
     "exception": false,
     "start_time": "2021-03-20T18:55:34.131738",
     "status": "completed"
    },
    "tags": []
   },
   "outputs": [
    {
     "name": "stdout",
     "output_type": "stream",
     "text": [
      "(203314, 10)\n"
     ]
    },
    {
     "data": {
      "text/html": [
       "<div>\n",
       "<style scoped>\n",
       "    .dataframe tbody tr th:only-of-type {\n",
       "        vertical-align: middle;\n",
       "    }\n",
       "\n",
       "    .dataframe tbody tr th {\n",
       "        vertical-align: top;\n",
       "    }\n",
       "\n",
       "    .dataframe thead th {\n",
       "        text-align: right;\n",
       "    }\n",
       "</style>\n",
       "<table border=\"1\" class=\"dataframe\">\n",
       "  <thead>\n",
       "    <tr style=\"text-align: right;\">\n",
       "      <th></th>\n",
       "      <th>seq_num_frames</th>\n",
       "      <th>location</th>\n",
       "      <th>datetime</th>\n",
       "      <th>id</th>\n",
       "      <th>seq_id</th>\n",
       "      <th>width</th>\n",
       "      <th>height</th>\n",
       "      <th>file_name</th>\n",
       "      <th>sub_location</th>\n",
       "      <th>seq_frame_num</th>\n",
       "    </tr>\n",
       "  </thead>\n",
       "  <tbody>\n",
       "    <tr>\n",
       "      <th>0</th>\n",
       "      <td>6</td>\n",
       "      <td>3</td>\n",
       "      <td>2013-06-05 05:44:19.000</td>\n",
       "      <td>8b02698a-21bc-11ea-a13a-137349068a90</td>\n",
       "      <td>30048d32-7d42-11eb-8fb5-0242ac1c0002</td>\n",
       "      <td>1920</td>\n",
       "      <td>1080</td>\n",
       "      <td>8b02698a-21bc-11ea-a13a-137349068a90.jpg</td>\n",
       "      <td>0.0</td>\n",
       "      <td>0</td>\n",
       "    </tr>\n",
       "    <tr>\n",
       "      <th>1</th>\n",
       "      <td>6</td>\n",
       "      <td>3</td>\n",
       "      <td>2013-06-05 05:44:20.000</td>\n",
       "      <td>8e5b81de-21bc-11ea-a13a-137349068a90</td>\n",
       "      <td>30048d32-7d42-11eb-8fb5-0242ac1c0002</td>\n",
       "      <td>1920</td>\n",
       "      <td>1080</td>\n",
       "      <td>8e5b81de-21bc-11ea-a13a-137349068a90.jpg</td>\n",
       "      <td>0.0</td>\n",
       "      <td>1</td>\n",
       "    </tr>\n",
       "    <tr>\n",
       "      <th>2</th>\n",
       "      <td>6</td>\n",
       "      <td>3</td>\n",
       "      <td>2013-06-05 05:44:21.000</td>\n",
       "      <td>8c6be0e4-21bc-11ea-a13a-137349068a90</td>\n",
       "      <td>30048d32-7d42-11eb-8fb5-0242ac1c0002</td>\n",
       "      <td>1920</td>\n",
       "      <td>1080</td>\n",
       "      <td>8c6be0e4-21bc-11ea-a13a-137349068a90.jpg</td>\n",
       "      <td>0.0</td>\n",
       "      <td>2</td>\n",
       "    </tr>\n",
       "    <tr>\n",
       "      <th>3</th>\n",
       "      <td>6</td>\n",
       "      <td>3</td>\n",
       "      <td>2013-06-05 05:44:22.000</td>\n",
       "      <td>8fdf7998-21bc-11ea-a13a-137349068a90</td>\n",
       "      <td>30048d32-7d42-11eb-8fb5-0242ac1c0002</td>\n",
       "      <td>1920</td>\n",
       "      <td>1080</td>\n",
       "      <td>8fdf7998-21bc-11ea-a13a-137349068a90.jpg</td>\n",
       "      <td>0.0</td>\n",
       "      <td>3</td>\n",
       "    </tr>\n",
       "    <tr>\n",
       "      <th>4</th>\n",
       "      <td>6</td>\n",
       "      <td>3</td>\n",
       "      <td>2013-06-05 05:44:23.000</td>\n",
       "      <td>96093c50-21bc-11ea-a13a-137349068a90</td>\n",
       "      <td>30048d32-7d42-11eb-8fb5-0242ac1c0002</td>\n",
       "      <td>1920</td>\n",
       "      <td>1080</td>\n",
       "      <td>96093c50-21bc-11ea-a13a-137349068a90.jpg</td>\n",
       "      <td>0.0</td>\n",
       "      <td>4</td>\n",
       "    </tr>\n",
       "  </tbody>\n",
       "</table>\n",
       "</div>"
      ],
      "text/plain": [
       "   seq_num_frames  location                 datetime  \\\n",
       "0               6         3  2013-06-05 05:44:19.000   \n",
       "1               6         3  2013-06-05 05:44:20.000   \n",
       "2               6         3  2013-06-05 05:44:21.000   \n",
       "3               6         3  2013-06-05 05:44:22.000   \n",
       "4               6         3  2013-06-05 05:44:23.000   \n",
       "\n",
       "                                     id                                seq_id  \\\n",
       "0  8b02698a-21bc-11ea-a13a-137349068a90  30048d32-7d42-11eb-8fb5-0242ac1c0002   \n",
       "1  8e5b81de-21bc-11ea-a13a-137349068a90  30048d32-7d42-11eb-8fb5-0242ac1c0002   \n",
       "2  8c6be0e4-21bc-11ea-a13a-137349068a90  30048d32-7d42-11eb-8fb5-0242ac1c0002   \n",
       "3  8fdf7998-21bc-11ea-a13a-137349068a90  30048d32-7d42-11eb-8fb5-0242ac1c0002   \n",
       "4  96093c50-21bc-11ea-a13a-137349068a90  30048d32-7d42-11eb-8fb5-0242ac1c0002   \n",
       "\n",
       "   width  height                                 file_name  sub_location  \\\n",
       "0   1920    1080  8b02698a-21bc-11ea-a13a-137349068a90.jpg           0.0   \n",
       "1   1920    1080  8e5b81de-21bc-11ea-a13a-137349068a90.jpg           0.0   \n",
       "2   1920    1080  8c6be0e4-21bc-11ea-a13a-137349068a90.jpg           0.0   \n",
       "3   1920    1080  8fdf7998-21bc-11ea-a13a-137349068a90.jpg           0.0   \n",
       "4   1920    1080  96093c50-21bc-11ea-a13a-137349068a90.jpg           0.0   \n",
       "\n",
       "   seq_frame_num  \n",
       "0              0  \n",
       "1              1  \n",
       "2              2  \n",
       "3              3  \n",
       "4              4  "
      ]
     },
     "execution_count": 9,
     "metadata": {},
     "output_type": "execute_result"
    }
   ],
   "source": [
    "print(train_annotations_images_df.shape)\n",
    "train_annotations_images_df.head()"
   ]
  },
  {
   "cell_type": "code",
   "execution_count": 10,
   "metadata": {
    "execution": {
     "iopub.execute_input": "2021-03-20T18:55:34.207804Z",
     "iopub.status.busy": "2021-03-20T18:55:34.207055Z",
     "iopub.status.idle": "2021-03-20T18:55:34.212712Z",
     "shell.execute_reply": "2021-03-20T18:55:34.212059Z"
    },
    "papermill": {
     "duration": 0.030976,
     "end_time": "2021-03-20T18:55:34.212880",
     "exception": false,
     "start_time": "2021-03-20T18:55:34.181904",
     "status": "completed"
    },
    "tags": []
   },
   "outputs": [
    {
     "name": "stdout",
     "output_type": "stream",
     "text": [
      "(203314, 3)\n"
     ]
    },
    {
     "data": {
      "text/html": [
       "<div>\n",
       "<style scoped>\n",
       "    .dataframe tbody tr th:only-of-type {\n",
       "        vertical-align: middle;\n",
       "    }\n",
       "\n",
       "    .dataframe tbody tr th {\n",
       "        vertical-align: top;\n",
       "    }\n",
       "\n",
       "    .dataframe thead th {\n",
       "        text-align: right;\n",
       "    }\n",
       "</style>\n",
       "<table border=\"1\" class=\"dataframe\">\n",
       "  <thead>\n",
       "    <tr style=\"text-align: right;\">\n",
       "      <th></th>\n",
       "      <th>id</th>\n",
       "      <th>image_id</th>\n",
       "      <th>category_id</th>\n",
       "    </tr>\n",
       "  </thead>\n",
       "  <tbody>\n",
       "    <tr>\n",
       "      <th>0</th>\n",
       "      <td>a292dd3c-21bc-11ea-a13a-137349068a90</td>\n",
       "      <td>96b00332-21bc-11ea-a13a-137349068a90</td>\n",
       "      <td>73</td>\n",
       "    </tr>\n",
       "    <tr>\n",
       "      <th>1</th>\n",
       "      <td>a0afcfc0-21bc-11ea-a13a-137349068a90</td>\n",
       "      <td>879d74d8-21bc-11ea-a13a-137349068a90</td>\n",
       "      <td>4</td>\n",
       "    </tr>\n",
       "    <tr>\n",
       "      <th>2</th>\n",
       "      <td>a306e9c0-21bc-11ea-a13a-137349068a90</td>\n",
       "      <td>9017f7aa-21bc-11ea-a13a-137349068a90</td>\n",
       "      <td>227</td>\n",
       "    </tr>\n",
       "    <tr>\n",
       "      <th>3</th>\n",
       "      <td>9eed94c4-21bc-11ea-a13a-137349068a90</td>\n",
       "      <td>90d93c58-21bc-11ea-a13a-137349068a90</td>\n",
       "      <td>250</td>\n",
       "    </tr>\n",
       "    <tr>\n",
       "      <th>4</th>\n",
       "      <td>a2a4dd7a-21bc-11ea-a13a-137349068a90</td>\n",
       "      <td>887cd0ec-21bc-11ea-a13a-137349068a90</td>\n",
       "      <td>2</td>\n",
       "    </tr>\n",
       "  </tbody>\n",
       "</table>\n",
       "</div>"
      ],
      "text/plain": [
       "                                     id                              image_id  \\\n",
       "0  a292dd3c-21bc-11ea-a13a-137349068a90  96b00332-21bc-11ea-a13a-137349068a90   \n",
       "1  a0afcfc0-21bc-11ea-a13a-137349068a90  879d74d8-21bc-11ea-a13a-137349068a90   \n",
       "2  a306e9c0-21bc-11ea-a13a-137349068a90  9017f7aa-21bc-11ea-a13a-137349068a90   \n",
       "3  9eed94c4-21bc-11ea-a13a-137349068a90  90d93c58-21bc-11ea-a13a-137349068a90   \n",
       "4  a2a4dd7a-21bc-11ea-a13a-137349068a90  887cd0ec-21bc-11ea-a13a-137349068a90   \n",
       "\n",
       "   category_id  \n",
       "0           73  \n",
       "1            4  \n",
       "2          227  \n",
       "3          250  \n",
       "4            2  "
      ]
     },
     "execution_count": 10,
     "metadata": {},
     "output_type": "execute_result"
    }
   ],
   "source": [
    "print(train_annotations_annotations_df.shape)\n",
    "train_annotations_annotations_df.head()"
   ]
  },
  {
   "cell_type": "code",
   "execution_count": 11,
   "metadata": {
    "execution": {
     "iopub.execute_input": "2021-03-20T18:55:34.255788Z",
     "iopub.status.busy": "2021-03-20T18:55:34.254943Z",
     "iopub.status.idle": "2021-03-20T18:55:34.260708Z",
     "shell.execute_reply": "2021-03-20T18:55:34.259848Z"
    },
    "papermill": {
     "duration": 0.030256,
     "end_time": "2021-03-20T18:55:34.260881",
     "exception": false,
     "start_time": "2021-03-20T18:55:34.230625",
     "status": "completed"
    },
    "tags": []
   },
   "outputs": [
    {
     "name": "stdout",
     "output_type": "stream",
     "text": [
      "(205, 2)\n"
     ]
    },
    {
     "data": {
      "text/html": [
       "<div>\n",
       "<style scoped>\n",
       "    .dataframe tbody tr th:only-of-type {\n",
       "        vertical-align: middle;\n",
       "    }\n",
       "\n",
       "    .dataframe tbody tr th {\n",
       "        vertical-align: top;\n",
       "    }\n",
       "\n",
       "    .dataframe thead th {\n",
       "        text-align: right;\n",
       "    }\n",
       "</style>\n",
       "<table border=\"1\" class=\"dataframe\">\n",
       "  <thead>\n",
       "    <tr style=\"text-align: right;\">\n",
       "      <th></th>\n",
       "      <th>id</th>\n",
       "      <th>name</th>\n",
       "    </tr>\n",
       "  </thead>\n",
       "  <tbody>\n",
       "    <tr>\n",
       "      <th>0</th>\n",
       "      <td>0</td>\n",
       "      <td>empty</td>\n",
       "    </tr>\n",
       "    <tr>\n",
       "      <th>1</th>\n",
       "      <td>2</td>\n",
       "      <td>tayassu pecari</td>\n",
       "    </tr>\n",
       "    <tr>\n",
       "      <th>2</th>\n",
       "      <td>3</td>\n",
       "      <td>dasyprocta punctata</td>\n",
       "    </tr>\n",
       "    <tr>\n",
       "      <th>3</th>\n",
       "      <td>4</td>\n",
       "      <td>cuniculus paca</td>\n",
       "    </tr>\n",
       "    <tr>\n",
       "      <th>4</th>\n",
       "      <td>6</td>\n",
       "      <td>puma concolor</td>\n",
       "    </tr>\n",
       "  </tbody>\n",
       "</table>\n",
       "</div>"
      ],
      "text/plain": [
       "   id                 name\n",
       "0   0                empty\n",
       "1   2       tayassu pecari\n",
       "2   3  dasyprocta punctata\n",
       "3   4       cuniculus paca\n",
       "4   6        puma concolor"
      ]
     },
     "execution_count": 11,
     "metadata": {},
     "output_type": "execute_result"
    }
   ],
   "source": [
    "print(train_annotations_categories_df.shape)\n",
    "train_annotations_categories_df.head()"
   ]
  }
 ],
 "metadata": {
  "kernelspec": {
   "display_name": "Python 3",
   "language": "python",
   "name": "python3"
  },
  "language_info": {
   "codemirror_mode": {
    "name": "ipython",
    "version": 3
   },
   "file_extension": ".py",
   "mimetype": "text/x-python",
   "name": "python",
   "nbconvert_exporter": "python",
   "pygments_lexer": "ipython3",
   "version": "3.7.9"
  },
  "papermill": {
   "default_parameters": {},
   "duration": 36.961656,
   "end_time": "2021-03-20T18:55:35.188492",
   "environment_variables": {},
   "exception": null,
   "input_path": "__notebook__.ipynb",
   "output_path": "__notebook__.ipynb",
   "parameters": {},
   "start_time": "2021-03-20T18:54:58.226836",
   "version": "2.2.2"
  }
 },
 "nbformat": 4,
 "nbformat_minor": 4
}
