{
 "cells": [
  {
   "cell_type": "markdown",
   "metadata": {},
   "source": [
    "Inspiration\n",
    "* https://www.kaggle.com/nxrprime/kaggle-is-chicken-as-proven-by-bert\n",
    "* https://www.kaggle.com/c/google-quest-challenge/discussion/129399\n"
   ]
  },
  {
   "cell_type": "markdown",
   "metadata": {},
   "source": [
    "Push **Code** button to see the code."
   ]
  },
  {
   "cell_type": "code",
   "execution_count": 1,
   "metadata": {
    "_cell_guid": "b1076dfc-b9ad-4769-8c92-a6c4dae69d19",
    "_kg_hide-input": true,
    "_uuid": "8f2839f25d086af736a60e9eeb907d3b93b6e0e5"
   },
   "outputs": [],
   "source": [
    "from transformers import *\n",
    "import numpy as np\n",
    "\n",
    "tokenizer = BertTokenizer.from_pretrained('bert-base-uncased')\n",
    "bert_model = TFBertForMaskedLM.from_pretrained('bert-base-uncased') \n",
    "\n",
    "def bert_predict(str_mask):\n",
    "    indices = tokenizer.encode(str_mask, add_special_tokens=False, return_tensors='tf')\n",
    "\n",
    "    # PREDICT MISSING WORDS\n",
    "    pred = bert_model(indices)\n",
    "    masked_indices = np.where(indices==103)[1]\n",
    "\n",
    "    # DISPLAY MISSING WORDS\n",
    "    predicted_words = np.argmax( np.asarray(pred[0][0])[masked_indices,:] ,axis=1)\n",
    "    predicted_words_decoded = tokenizer.decode(predicted_words)\n",
    "    print(f\"Original phrase: {str_mask}\")\n",
    "    str_out = str_mask.replace(\"[MASK]\", \"{}\")\n",
    "    str_out = str_out.replace(\"[CLS] \", \"\")\n",
    "    str_out = str_out.replace(\"[SEP]\", \"\")          \n",
    "    print(f\"Predicted words decoded: {predicted_words_decoded}\")\n",
    "    print(f\"Resulted phrase: {str_out.format(predicted_words_decoded)}\")    "
   ]
  },
  {
   "cell_type": "code",
   "execution_count": 2,
   "metadata": {
    "_cell_guid": "79c7e3d0-c299-4dcb-8224-4455121ee9b0",
    "_uuid": "d629ff2d2480ee46fbb7e2d37f6b5fab8052498a"
   },
   "outputs": [
    {
     "name": "stdout",
     "output_type": "stream",
     "text": [
      "Original phrase: [CLS] The leaderboard drastic change will be soon [MASK] on Kaggle. [SEP]\n",
      "Predicted words decoded: seen\n",
      "Resulted phrase: The leaderboard drastic change will be soon seen on Kaggle. \n"
     ]
    }
   ],
   "source": [
    "str_mask = '[CLS] The leaderboard drastic change will be soon [MASK] on Kaggle. [SEP]'\n",
    "bert_predict(str_mask)"
   ]
  }
 ],
 "metadata": {
  "kernelspec": {
   "display_name": "Python 3",
   "language": "python",
   "name": "python3"
  },
  "language_info": {
   "codemirror_mode": {
    "name": "ipython",
    "version": 3
   },
   "file_extension": ".py",
   "mimetype": "text/x-python",
   "name": "python",
   "nbconvert_exporter": "python",
   "pygments_lexer": "ipython3",
   "version": "3.6.6"
  }
 },
 "nbformat": 4,
 "nbformat_minor": 1
}
