{
 "cells": [
  {
   "cell_type": "markdown",
   "metadata": {},
   "source": [
    "#### Load packages"
   ]
  },
  {
   "cell_type": "code",
   "execution_count": 44,
   "metadata": {},
   "outputs": [],
   "source": [
    "import pandas as pd\n",
    "import numpy as np\n",
    "import os\n",
    "from tqdm import tqdm"
   ]
  },
  {
   "cell_type": "markdown",
   "metadata": {},
   "source": [
    "#### Load data files"
   ]
  },
  {
   "cell_type": "code",
   "execution_count": 79,
   "metadata": {
    "scrolled": false
   },
   "outputs": [
    {
     "name": "stderr",
     "output_type": "stream",
     "text": [
      "  0%|          | 0/14 [00:00<?, ?it/s]b'Skipping line 6685: expected 39 fields, saw 52\\nSkipping line 8500: expected 39 fields, saw 40\\nSkipping line 16001: expected 39 fields, saw 56\\nSkipping line 18879: expected 39 fields, saw 60\\nSkipping line 22807: expected 39 fields, saw 52\\nSkipping line 40593: expected 39 fields, saw 52\\nSkipping line 46739: expected 39 fields, saw 52\\nSkipping line 47802: expected 39 fields, saw 52\\nSkipping line 48598: expected 39 fields, saw 52\\n'\n"
     ]
    },
    {
     "name": "stdout",
     "output_type": "stream",
     "text": [
      "file: contracte-2007.csv  rows/cols: (61369, 39)\n"
     ]
    },
    {
     "name": "stderr",
     "output_type": "stream",
     "text": [
      "  7%|▋         | 1/14 [00:00<00:11,  1.15it/s]b'Skipping line 38104: expected 39 fields, saw 52\\nSkipping line 45305: expected 39 fields, saw 52\\nSkipping line 73889: expected 39 fields, saw 60\\nSkipping line 92040: expected 39 fields, saw 52\\n'\n"
     ]
    },
    {
     "name": "stdout",
     "output_type": "stream",
     "text": [
      "file: contracte-2008.csv  rows/cols: (114595, 39)\n"
     ]
    },
    {
     "name": "stderr",
     "output_type": "stream",
     "text": [
      " 14%|█▍        | 2/14 [00:02<00:13,  1.13s/it]b'Skipping line 10587: expected 39 fields, saw 81\\nSkipping line 15530: expected 39 fields, saw 52\\nSkipping line 81316: expected 39 fields, saw 52\\nSkipping line 83369: expected 39 fields, saw 52\\nSkipping line 83420: expected 39 fields, saw 52\\nSkipping line 97890: expected 39 fields, saw 52\\nSkipping line 100830: expected 39 fields, saw 52\\nSkipping line 102428: expected 39 fields, saw 52\\nSkipping line 107355: expected 39 fields, saw 52\\nSkipping line 112895: expected 39 fields, saw 52\\nSkipping line 113731: expected 39 fields, saw 52\\n'\n"
     ]
    },
    {
     "name": "stdout",
     "output_type": "stream",
     "text": [
      "file: contracte-2009.csv  rows/cols: (121663, 39)\n"
     ]
    },
    {
     "name": "stderr",
     "output_type": "stream",
     "text": [
      " 21%|██▏       | 3/14 [00:04<00:14,  1.32s/it]b'Skipping line 20281: expected 39 fields, saw 56\\nSkipping line 38821: expected 39 fields, saw 60\\nSkipping line 56488: expected 39 fields, saw 52\\nSkipping line 62636: expected 39 fields, saw 52\\nSkipping line 97953: expected 39 fields, saw 52\\n'\n"
     ]
    },
    {
     "name": "stdout",
     "output_type": "stream",
     "text": [
      "file: contracte-2010.csv  rows/cols: (123541, 39)\n"
     ]
    },
    {
     "name": "stderr",
     "output_type": "stream",
     "text": [
      " 29%|██▊       | 4/14 [00:06<00:15,  1.52s/it]b'Skipping line 7525: expected 39 fields, saw 60\\nSkipping line 33449: expected 39 fields, saw 52\\nSkipping line 44304: expected 39 fields, saw 56\\nSkipping line 45860: expected 39 fields, saw 52\\nSkipping line 48547: expected 39 fields, saw 52\\nSkipping line 58417: expected 39 fields, saw 52\\nSkipping line 67782: expected 39 fields, saw 52\\nSkipping line 71192: expected 39 fields, saw 56\\nSkipping line 79566: expected 39 fields, saw 60\\nSkipping line 81092: expected 39 fields, saw 52\\n'\n"
     ]
    },
    {
     "name": "stdout",
     "output_type": "stream",
     "text": [
      "file: contracte-2011.csv  rows/cols: (105288, 39)\n"
     ]
    },
    {
     "name": "stderr",
     "output_type": "stream",
     "text": [
      " 36%|███▌      | 5/14 [00:08<00:15,  1.67s/it]b'Skipping line 14922: expected 39 fields, saw 52\\nSkipping line 18775: expected 39 fields, saw 52\\nSkipping line 25292: expected 39 fields, saw 52\\n'\n"
     ]
    },
    {
     "name": "stdout",
     "output_type": "stream",
     "text": [
      "file: contracte-2012-s1.csv  rows/cols: (47056, 39)\n"
     ]
    },
    {
     "name": "stderr",
     "output_type": "stream",
     "text": [
      " 43%|████▎     | 6/14 [00:09<00:12,  1.62s/it]b'Skipping line 1554: expected 39 fields, saw 52\\nSkipping line 47425: expected 39 fields, saw 56\\nSkipping line 48194: expected 39 fields, saw 52\\n'\n"
     ]
    },
    {
     "name": "stdout",
     "output_type": "stream",
     "text": [
      "file: contracte-2012-s2.csv  rows/cols: (60657, 39)\n"
     ]
    },
    {
     "name": "stderr",
     "output_type": "stream",
     "text": [
      " 50%|█████     | 7/14 [00:11<00:12,  1.73s/it]b'Skipping line 11208: expected 39 fields, saw 52\\nSkipping line 11762: expected 39 fields, saw 52\\nSkipping line 11802: expected 39 fields, saw 52\\nSkipping line 21660: expected 39 fields, saw 52\\nSkipping line 22999: expected 39 fields, saw 52\\nSkipping line 23020: expected 39 fields, saw 52\\nSkipping line 23832: expected 39 fields, saw 52\\n'\n"
     ]
    },
    {
     "name": "stdout",
     "output_type": "stream",
     "text": [
      "file: contracte-2013-s1.csv  rows/cols: (28422, 39)\n"
     ]
    },
    {
     "name": "stderr",
     "output_type": "stream",
     "text": [
      " 57%|█████▋    | 8/14 [00:13<00:10,  1.67s/it]b'Skipping line 17323: expected 39 fields, saw 52\\nSkipping line 17429: expected 39 fields, saw 52\\nSkipping line 19551: expected 39 fields, saw 52\\nSkipping line 29693: expected 39 fields, saw 52\\nSkipping line 32853: expected 39 fields, saw 40\\n'\n"
     ]
    },
    {
     "name": "stdout",
     "output_type": "stream",
     "text": [
      "file: contracte-2013-s2.csv  rows/cols: (38113, 39)\n"
     ]
    },
    {
     "name": "stderr",
     "output_type": "stream",
     "text": [
      " 64%|██████▍   | 9/14 [00:15<00:08,  1.72s/it]b'Skipping line 50: expected 39 fields, saw 52\\nSkipping line 8335: expected 39 fields, saw 52\\nSkipping line 19941: expected 39 fields, saw 52\\nSkipping line 26764: expected 39 fields, saw 52\\nSkipping line 29568: expected 39 fields, saw 52\\n'\n"
     ]
    },
    {
     "name": "stdout",
     "output_type": "stream",
     "text": [
      "file: contracte-2014-s1.csv  rows/cols: (33143, 39)\n"
     ]
    },
    {
     "name": "stderr",
     "output_type": "stream",
     "text": [
      " 71%|███████▏  | 10/14 [00:17<00:07,  1.76s/it]b'Skipping line 4359: expected 39 fields, saw 52\\nSkipping line 7441: expected 39 fields, saw 52\\nSkipping line 21480: expected 39 fields, saw 52\\nSkipping line 24237: expected 39 fields, saw 52\\nSkipping line 30256: expected 39 fields, saw 52\\nSkipping line 32849: expected 39 fields, saw 52\\n'\n"
     ]
    },
    {
     "name": "stdout",
     "output_type": "stream",
     "text": [
      "file: contracte-2014-s2.csv  rows/cols: (40504, 39)\n"
     ]
    },
    {
     "name": "stderr",
     "output_type": "stream",
     "text": [
      " 79%|███████▊  | 11/14 [00:19<00:05,  1.85s/it]b'Skipping line 33: expected 39 fields, saw 52\\nSkipping line 30944: expected 39 fields, saw 52\\nSkipping line 33459: expected 39 fields, saw 52\\nSkipping line 35784: expected 39 fields, saw 52\\n'\n"
     ]
    },
    {
     "name": "stdout",
     "output_type": "stream",
     "text": [
      "file: contracte-2015-s1.csv  rows/cols: (36734, 39)\n"
     ]
    },
    {
     "name": "stderr",
     "output_type": "stream",
     "text": [
      " 86%|████████▌ | 12/14 [00:21<00:03,  1.89s/it]b'Skipping line 15884: expected 39 fields, saw 40\\n'\n"
     ]
    },
    {
     "name": "stdout",
     "output_type": "stream",
     "text": [
      "file: contracte-2015-s2.csv  rows/cols: (40320, 39)\n"
     ]
    },
    {
     "name": "stderr",
     "output_type": "stream",
     "text": [
      "\r",
      " 93%|█████████▎| 13/14 [00:23<00:01,  2.00s/it]"
     ]
    },
    {
     "name": "stdout",
     "output_type": "stream",
     "text": [
      "file: contracte-2016-s1.csv  rows/cols: (38197, 39)\n"
     ]
    },
    {
     "name": "stderr",
     "output_type": "stream",
     "text": [
      "100%|██████████| 14/14 [00:25<00:00,  1.82s/it]\n"
     ]
    }
   ],
   "source": [
    "all_data_df = pd.DataFrame()\n",
    "files = os.listdir(\"input\")\n",
    "for file in tqdm(files):\n",
    "    if file.split(\".\")[-1] == \"csv\":\n",
    "        data_df = pd.read_csv(os.path.join(\"input\",file), sep=\"^\", decimal=\".\", encoding=\"latin\", error_bad_lines=False, low_memory=False)\n",
    "        print(f\"file: {file}  rows/cols: {data_df.shape}\")\n",
    "        all_data_df = all_data_df.append(data_df)"
   ]
  },
  {
   "cell_type": "markdown",
   "metadata": {},
   "source": [
    "#### Check data"
   ]
  },
  {
   "cell_type": "code",
   "execution_count": 80,
   "metadata": {},
   "outputs": [
    {
     "data": {
      "text/plain": [
       "(889602, 39)"
      ]
     },
     "execution_count": 80,
     "metadata": {},
     "output_type": "execute_result"
    }
   ],
   "source": [
    "all_data_df.shape"
   ]
  },
  {
   "cell_type": "code",
   "execution_count": 81,
   "metadata": {},
   "outputs": [
    {
     "data": {
      "text/plain": [
       "Index(['Castigator', 'CastigatorCUI', 'CastigatorTara', 'CastigatorLocalitate',\n",
       "       'CastigatorAdresa', 'Tip', 'TipContract', 'TipProcedura',\n",
       "       'AutoritateContractanta', 'AutoritateContractantaCUI', 'TipAC',\n",
       "       'TipActivitateAC', 'NumarAnuntAtribuire', 'DataAnuntAtribuire',\n",
       "       'TipIncheiereContract', 'TipCriteriiAtribuire',\n",
       "       'CuLicitatieElectronica', 'NumarOfertePrimite', 'Subcontractat',\n",
       "       'NumarContract', 'DataContract', 'TitluContract', 'Valoare', 'Moneda',\n",
       "       'ValoareRON', 'ValoareEUR', 'CPVCodeID', 'CPVCode',\n",
       "       'NumarAnuntParticipare', 'DataAnuntParticipare',\n",
       "       'ValoareEstimataParticipare', 'MonedaValoareEstimataParticipare',\n",
       "       'FonduriComunitare', 'TipFinantare', 'TipLegislatieID', 'FondEuropean',\n",
       "       'ContractPeriodic', 'DepoziteGarantii', 'ModalitatiFinantare'],\n",
       "      dtype='object')"
      ]
     },
     "execution_count": 81,
     "metadata": {},
     "output_type": "execute_result"
    }
   ],
   "source": [
    "all_data_df.columns"
   ]
  },
  {
   "cell_type": "markdown",
   "metadata": {},
   "source": [
    "#### Rename columns"
   ]
  },
  {
   "cell_type": "code",
   "execution_count": 82,
   "metadata": {},
   "outputs": [
    {
     "data": {
      "text/plain": [
       "39"
      ]
     },
     "execution_count": 82,
     "metadata": {},
     "output_type": "execute_result"
    }
   ],
   "source": [
    "columns_en = [\"Winner\", \"Winner_VAT\", \"Winner_Country\", \"Winner_City\",\n",
    "              \"Winner_Address\", \"Type\", \"Contract_Type\", \"Procedure_Type\",\n",
    "              \"Contracting_Authority\", \"Contracting_Authority_VAT\", \"Contracting_Authority_Type\",\n",
    "              \"Contracting_Authority_Activity_Type\", \"Award_Anouncement_Number\", \"Award_Announcement_Date\",\n",
    "              \"Contract_Conclusion_Type\", \"Award_Criteria_Type\", \n",
    "              \"With_Electronic_Auction\", \"Offers_Number\", \"Subcontracted\",\n",
    "              \"Contract_Number\", \"Contract_Date\", \"Contract_Title\", \"Value\", \"Currency\",\n",
    "              \"Value_RON\", \"Value_EUR\", \"CPV_Code_ID\", \"CPV_Code\",\n",
    "              \"Participation_Announcement_Number\", \"Participation_Announcement_Date\",\n",
    "              \"Participation_Estimated_Value\", \"Participation_Estimated_Value_Currency\",\n",
    "              \"EU_Funds\", \"Financing_Type\", \"Legislation_Type_ID\", \"EU_Fund\",\n",
    "              \"Periodic_Contract\", \"Garantee_Deposits\", \"Financing_Method\"]\n",
    "len(columns_en)"
   ]
  },
  {
   "cell_type": "code",
   "execution_count": 83,
   "metadata": {},
   "outputs": [],
   "source": [
    "all_data_df.columns = columns_en"
   ]
  },
  {
   "cell_type": "code",
   "execution_count": 84,
   "metadata": {},
   "outputs": [
    {
     "data": {
      "text/plain": [
       "Index(['Winner', 'Winner_VAT', 'Winner_Country', 'Winner_City',\n",
       "       'Winner_Address', 'Type', 'Contract_Type', 'Procedure_Type',\n",
       "       'Contracting_Authority', 'Contracting_Authority_VAT',\n",
       "       'Contracting_Authority_Type', 'Contracting_Authority_Activity_Type',\n",
       "       'Award_Anouncement_Number', 'Award_Announcement_Date',\n",
       "       'Contract_Conclusion_Type', 'Award_Criteria_Type',\n",
       "       'With_Electronic_Auction', 'Offers_Number', 'Subcontracted',\n",
       "       'Contract_Number', 'Contract_Date', 'Contract_Title', 'Value',\n",
       "       'Currency', 'Value_RON', 'Value_EUR', 'CPV_Code_ID', 'CPV_Code',\n",
       "       'Participation_Announcement_Number', 'Participation_Announcement_Date',\n",
       "       'Participation_Estimated_Value',\n",
       "       'Participation_Estimated_Value_Currency', 'EU_Funds', 'Financing_Type',\n",
       "       'Legislation_Type_ID', 'EU_Fund', 'Periodic_Contract',\n",
       "       'Garantee_Deposits', 'Financing_Method'],\n",
       "      dtype='object')"
      ]
     },
     "execution_count": 84,
     "metadata": {},
     "output_type": "execute_result"
    }
   ],
   "source": [
    "all_data_df.columns "
   ]
  },
  {
   "cell_type": "code",
   "execution_count": 98,
   "metadata": {},
   "outputs": [
    {
     "name": "stdout",
     "output_type": "stream",
     "text": [
      "Index(['Winner', 'Winner_VAT', 'Winner_Country', 'Winner_City',\n",
      "       'Winner_Address', 'Type', 'Contract_Type', 'Procedure_Type',\n",
      "       'Contracting_Authority', 'Contracting_Authority_VAT',\n",
      "       'Contracting_Authority_Type', 'Contracting_Authority_Activity_Type',\n",
      "       'Award_Anouncement_Number', 'Award_Announcement_Date',\n",
      "       'Contract_Conclusion_Type', 'Award_Criteria_Type',\n",
      "       'With_Electronic_Auction', 'Offers_Number', 'Subcontracted',\n",
      "       'Contract_Number', 'Contract_Date', 'Contract_Title', 'Value',\n",
      "       'Currency', 'Value_RON', 'Value_EUR', 'CPV_Code_ID', 'CPV_Code',\n",
      "       'Participation_Announcement_Number', 'Participation_Announcement_Date',\n",
      "       'Participation_Estimated_Value',\n",
      "       'Participation_Estimated_Value_Currency', 'EU_Funds', 'Financing_Type',\n",
      "       'Legislation_Type_ID', 'EU_Fund', 'Periodic_Contract',\n",
      "       'Garantee_Deposits', 'Financing_Method'],\n",
      "      dtype='object')\n"
     ]
    }
   ],
   "source": [
    "print(all_data_df.columns)"
   ]
  },
  {
   "cell_type": "markdown",
   "metadata": {},
   "source": [
    "#### Clean and filter data"
   ]
  },
  {
   "cell_type": "code",
   "execution_count": 85,
   "metadata": {},
   "outputs": [],
   "source": [
    "def convert_float(x):\n",
    "    try:\n",
    "        x = float(x)\n",
    "    except:\n",
    "        x = None\n",
    "    return x"
   ]
  },
  {
   "cell_type": "code",
   "execution_count": 86,
   "metadata": {},
   "outputs": [],
   "source": [
    "all_data_df.Value = all_data_df.Value.apply(lambda x: convert_float(x))\n",
    "all_data_df.Value_RON = all_data_df.Value_RON.apply(lambda x: convert_float(x))\n",
    "all_data_df.Value_EUR = all_data_df.Value_EUR.apply(lambda x: convert_float(x))"
   ]
  },
  {
   "cell_type": "code",
   "execution_count": 87,
   "metadata": {},
   "outputs": [
    {
     "data": {
      "text/plain": [
       "530465134106.6501"
      ]
     },
     "execution_count": 87,
     "metadata": {},
     "output_type": "execute_result"
    }
   ],
   "source": [
    "all_data_df.Value.sum()"
   ]
  },
  {
   "cell_type": "code",
   "execution_count": 88,
   "metadata": {},
   "outputs": [
    {
     "data": {
      "text/plain": [
       "568995032175.5992"
      ]
     },
     "execution_count": 88,
     "metadata": {},
     "output_type": "execute_result"
    }
   ],
   "source": [
    "all_data_df.Value_RON.sum()"
   ]
  },
  {
   "cell_type": "code",
   "execution_count": 89,
   "metadata": {},
   "outputs": [
    {
     "data": {
      "text/plain": [
       "134849929185.92569"
      ]
     },
     "execution_count": 89,
     "metadata": {},
     "output_type": "execute_result"
    }
   ],
   "source": [
    "all_data_df.Value_EUR.sum()"
   ]
  },
  {
   "cell_type": "code",
   "execution_count": 90,
   "metadata": {},
   "outputs": [
    {
     "data": {
      "text/plain": [
       "412"
      ]
     },
     "execution_count": 90,
     "metadata": {},
     "output_type": "execute_result"
    }
   ],
   "source": [
    "all_data_df.Currency.nunique()"
   ]
  },
  {
   "cell_type": "code",
   "execution_count": 91,
   "metadata": {},
   "outputs": [
    {
     "data": {
      "text/plain": [
       "(1079, 39)"
      ]
     },
     "execution_count": 91,
     "metadata": {},
     "output_type": "execute_result"
    }
   ],
   "source": [
    "all_data_df.loc[all_data_df.Value.isna()].shape"
   ]
  },
  {
   "cell_type": "code",
   "execution_count": 92,
   "metadata": {},
   "outputs": [
    {
     "data": {
      "text/plain": [
       "(1960, 39)"
      ]
     },
     "execution_count": 92,
     "metadata": {},
     "output_type": "execute_result"
    }
   ],
   "source": [
    "all_data_df.loc[all_data_df.Value_EUR.isna()].shape"
   ]
  },
  {
   "cell_type": "code",
   "execution_count": 93,
   "metadata": {},
   "outputs": [
    {
     "data": {
      "text/plain": [
       "(1132, 39)"
      ]
     },
     "execution_count": 93,
     "metadata": {},
     "output_type": "execute_result"
    }
   ],
   "source": [
    "all_data_df.loc[all_data_df.Value_RON.isna()].shape"
   ]
  },
  {
   "cell_type": "code",
   "execution_count": 94,
   "metadata": {},
   "outputs": [
    {
     "data": {
      "text/plain": [
       "(887644, 39)"
      ]
     },
     "execution_count": 94,
     "metadata": {},
     "output_type": "execute_result"
    }
   ],
   "source": [
    "currencies = [\"EUR\", \"RON\", \"USD\"]\n",
    "all_data_df.loc[all_data_df.Currency.isin(currencies)].shape"
   ]
  },
  {
   "cell_type": "markdown",
   "metadata": {},
   "source": [
    "#### Remove lines with Value, Value_EUR, Value_RON Null or with wrong currencies"
   ]
  },
  {
   "cell_type": "code",
   "execution_count": 95,
   "metadata": {},
   "outputs": [],
   "source": [
    "all_data_df = all_data_df.loc[~all_data_df.Value.isna()]\n",
    "all_data_df = all_data_df.loc[~all_data_df.Value_EUR.isna()]\n",
    "all_data_df = all_data_df.loc[~all_data_df.Value_RON.isna()]\n",
    "all_data_df = all_data_df.loc[all_data_df.Currency.isin(currencies)]"
   ]
  },
  {
   "cell_type": "code",
   "execution_count": 96,
   "metadata": {},
   "outputs": [
    {
     "data": {
      "text/plain": [
       "(887642, 39)"
      ]
     },
     "execution_count": 96,
     "metadata": {},
     "output_type": "execute_result"
    }
   ],
   "source": [
    "all_data_df.shape"
   ]
  },
  {
   "cell_type": "markdown",
   "metadata": {},
   "source": [
    "#### Save resulted data file"
   ]
  },
  {
   "cell_type": "code",
   "execution_count": 97,
   "metadata": {},
   "outputs": [],
   "source": [
    "all_data_df.to_csv(\"contracts.csv\", index=False)"
   ]
  }
 ],
 "metadata": {
  "kernelspec": {
   "display_name": "Python 3",
   "language": "python",
   "name": "python3"
  },
  "language_info": {
   "codemirror_mode": {
    "name": "ipython",
    "version": 3
   },
   "file_extension": ".py",
   "mimetype": "text/x-python",
   "name": "python",
   "nbconvert_exporter": "python",
   "pygments_lexer": "ipython3",
   "version": "3.7.4"
  }
 },
 "nbformat": 4,
 "nbformat_minor": 2
}
