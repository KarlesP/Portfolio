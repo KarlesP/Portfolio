{
 "cells": [
  {
   "cell_type": "markdown",
   "execution_count": null,
   "metadata": {
    "_cell_guid": "b1076dfc-b9ad-4769-8c92-a6c4dae69d19",
    "_uuid": "8f2839f25d086af736a60e9eeb907d3b93b6e0e5",
    "papermill": {
     "duration": 0.017738,
     "end_time": "2020-08-18T08:42:05.895001",
     "exception": false,
     "start_time": "2020-08-18T08:42:05.877263",
     "status": "completed"
    },
    "tags": []
   },
   "source": [
    "<h1><center><font size=\"6\">Tensorflow/Keras/GPU for Chinese MNIST Prediction</font></center></h1>\n",
    "\n",
    "\n",
    "# <a id='0'>Content</a>\n",
    "\n",
    "- <a href='#1'>Introduction</a>  \n",
    "- <a href='#2'>Prepare the data analysis</a>   \n",
    "- <a href='#3'>Data exploration</a>   \n",
    "- <a href='#4'>Characters classification</a>       \n",
    "- <a href='#5'>Conclusions</a>       \n"
   ]
  },
  {
   "cell_type": "markdown",
   "execution_count": null,
   "metadata": {
    "_uuid": "a8e77ace65f04c89a878bf18249e4d8e23fec996",
    "papermill": {
     "duration": 0.014071,
     "end_time": "2020-08-18T08:42:05.923475",
     "exception": false,
     "start_time": "2020-08-18T08:42:05.909404",
     "status": "completed"
    },
    "tags": []
   },
   "source": [
    "# <a id='1'>Introduction</a>  \n",
    "\n",
    "\n",
    "The objective of the Kernel is to take us through the steps of a machine learning analysis.   \n",
    "\n",
    "\n",
    "We will use a dataset with adnotated images of Chinese numbers, handwritten by a number of 100 volunteers, each providing a number of 10 samples, each sample with a complete set of 15 Chinese characters for numbers.\n",
    "\n",
    "The Chinese characters are the following:\n",
    "* 零 - for 0  \n",
    "* 一 - for 1\n",
    "* 二 - for 2  \n",
    "* 三 - for 3  \n",
    "* 四 - for 4  \n",
    "* 五 - for 5  \n",
    "* 六 - for 6  \n",
    "* 七 - for 7  \n",
    "* 八 - for 8  \n",
    "* 九 - for 9  \n",
    "* 十 - for 10\n",
    "* 百 - for 100\n",
    "* 千 - for 1000\n",
    "* 万 - for 10 thousands\n",
    "* 亿 - for 100 millions\n",
    "\n",
    "\n",
    "\n",
    "We start by preparing the analysis (load the libraries and the data), continue with an Exploratory Data Analysis (EDA).\n",
    "\n",
    "We follow then with features engineering and preparation for creation of a model. The dataset is split in training, validation and test set. \n",
    "\n",
    "We run a model using Tensorflow through Keras interface, with GPU acceleration, using as well Dropouts, variable learning speed and early stoping based on variation of validation error accuracy.\n",
    "\n",
    "At the end, we use the best model to predict for the test set.\n",
    "\n",
    "<a href=\"#0\"><font size=\"1\">Go to top</font></a>  "
   ]
  },
  {
   "cell_type": "markdown",
   "execution_count": null,
   "metadata": {
    "_uuid": "4e97555eb77978a29a51c41f39cec67136b18157",
    "papermill": {
     "duration": 0.013784,
     "end_time": "2020-08-18T08:42:05.951691",
     "exception": false,
     "start_time": "2020-08-18T08:42:05.937907",
     "status": "completed"
    },
    "tags": []
   },
   "source": [
    "# <a id='2'>Prepare the data analysis</a>   \n",
    "\n",
    "\n",
    "Before starting the analysis, we need to make few preparation: load the packages, load and inspect the data.\n",
    "\n"
   ]
  },
  {
   "cell_type": "markdown",
   "execution_count": null,
   "metadata": {
    "_uuid": "cb2e73fe056a3dda7eb48eeac2facf0c441816d1",
    "papermill": {
     "duration": 0.014536,
     "end_time": "2020-08-18T08:42:05.980937",
     "exception": false,
     "start_time": "2020-08-18T08:42:05.966401",
     "status": "completed"
    },
    "tags": []
   },
   "source": [
    "# <a id='21'>Load packages</a>\n",
    "\n",
    "We load the packages used for the analysis.\n"
   ]
  },
  {
   "cell_type": "code",
   "execution_count": 1,
   "metadata": {
    "_kg_hide-input": true,
    "_uuid": "af08260bfbe163f9132f39d09627899bbc4c1dae",
    "execution": {
     "iopub.execute_input": "2020-08-18T08:42:06.021504Z",
     "iopub.status.busy": "2020-08-18T08:42:06.020726Z",
     "iopub.status.idle": "2020-08-18T08:42:15.881767Z",
     "shell.execute_reply": "2020-08-18T08:42:15.880520Z"
    },
    "papermill": {
     "duration": 9.886477,
     "end_time": "2020-08-18T08:42:15.881916",
     "exception": false,
     "start_time": "2020-08-18T08:42:05.995439",
     "status": "completed"
    },
    "tags": []
   },
   "outputs": [
    {
     "data": {
      "text/html": [
       "        <script type=\"text/javascript\">\n",
       "        window.PlotlyConfig = {MathJaxConfig: 'local'};\n",
       "        if (window.MathJax) {MathJax.Hub.Config({SVG: {font: \"STIX-Web\"}});}\n",
       "        if (typeof require !== 'undefined') {\n",
       "        require.undef(\"plotly\");\n",
       "        requirejs.config({\n",
       "            paths: {\n",
       "                'plotly': ['https://cdn.plot.ly/plotly-latest.min']\n",
       "            }\n",
       "        });\n",
       "        require(['plotly'], function(Plotly) {\n",
       "            window._Plotly = Plotly;\n",
       "        });\n",
       "        }\n",
       "        </script>\n",
       "        "
      ]
     },
     "metadata": {},
     "output_type": "display_data"
    }
   ],
   "source": [
    "import pandas as pd\n",
    "import numpy as np\n",
    "import sys\n",
    "import os\n",
    "import random\n",
    "from pathlib import Path\n",
    "import imageio\n",
    "import skimage\n",
    "import skimage.io\n",
    "import skimage.transform\n",
    "import matplotlib.pyplot as plt\n",
    "import seaborn as sns\n",
    "import plotly.graph_objs as go\n",
    "import plotly.figure_factory as ff\n",
    "from plotly import tools\n",
    "from plotly.offline import download_plotlyjs, init_notebook_mode, plot, iplot\n",
    "init_notebook_mode(connected=True)\n",
    "import scipy\n",
    "from sklearn.model_selection import train_test_split\n",
    "from sklearn import metrics\n",
    "from keras import optimizers\n",
    "from keras.models import Sequential\n",
    "from keras.layers import Dense, Conv2D, Flatten, MaxPool2D, Dropout, BatchNormalization,LeakyReLU\n",
    "from keras.preprocessing.image import ImageDataGenerator\n",
    "from keras.callbacks import ModelCheckpoint, Callback, EarlyStopping, ReduceLROnPlateau, LearningRateScheduler\n",
    "from keras.utils import to_categorical\n",
    "import tensorflow_addons as tfa\n",
    "import warnings\n",
    "warnings.filterwarnings(\"ignore\", category=DeprecationWarning)\n",
    "import tensorflow as tf"
   ]
  },
  {
   "cell_type": "markdown",
   "execution_count": null,
   "metadata": {
    "papermill": {
     "duration": 0.014277,
     "end_time": "2020-08-18T08:42:15.911811",
     "exception": false,
     "start_time": "2020-08-18T08:42:15.897534",
     "status": "completed"
    },
    "tags": []
   },
   "source": [
    "We also set a number of parameters for the data and model."
   ]
  },
  {
   "cell_type": "code",
   "execution_count": 2,
   "metadata": {
    "_kg_hide-input": true,
    "_uuid": "a2082fb1e56fc6cfc91d40820b905267bc1ca468",
    "execution": {
     "iopub.execute_input": "2020-08-18T08:42:15.949628Z",
     "iopub.status.busy": "2020-08-18T08:42:15.947644Z",
     "iopub.status.idle": "2020-08-18T08:42:15.950420Z",
     "shell.execute_reply": "2020-08-18T08:42:15.950946Z"
    },
    "papermill": {
     "duration": 0.024868,
     "end_time": "2020-08-18T08:42:15.951079",
     "exception": false,
     "start_time": "2020-08-18T08:42:15.926211",
     "status": "completed"
    },
    "tags": []
   },
   "outputs": [],
   "source": [
    "IMAGE_PATH = '..//input//chinese-mnist//data//data//'\n",
    "IMAGE_WIDTH = 64\n",
    "IMAGE_HEIGHT = 64\n",
    "IMAGE_CHANNELS = 1\n",
    "RANDOM_STATE = 42\n",
    "TEST_SIZE = 0.2\n",
    "VAL_SIZE = 0.2\n",
    "CONV_2D_DIM_1 = 16\n",
    "CONV_2D_DIM_2 = 16\n",
    "CONV_2D_DIM_3 = 32\n",
    "CONV_2D_DIM_4 = 64\n",
    "MAX_POOL_DIM = 2\n",
    "KERNEL_SIZE = 3\n",
    "BATCH_SIZE = 32\n",
    "NO_EPOCHS = 50\n",
    "DROPOUT_RATIO = 0.5\n",
    "PATIENCE = 5\n",
    "VERBOSE = 1"
   ]
  },
  {
   "cell_type": "markdown",
   "execution_count": null,
   "metadata": {
    "_uuid": "307f656565365ff05faf226e5a447875dd0dfead",
    "papermill": {
     "duration": 0.014071,
     "end_time": "2020-08-18T08:42:15.979428",
     "exception": false,
     "start_time": "2020-08-18T08:42:15.965357",
     "status": "completed"
    },
    "tags": []
   },
   "source": [
    "<a href=\"#0\"><font size=\"1\">Go to top</font></a>  \n",
    "\n",
    "\n",
    "# <a id='22'>Load the data</a>  \n",
    "\n",
    "Let's see first what data files do we have in the root directory."
   ]
  },
  {
   "cell_type": "code",
   "execution_count": 3,
   "metadata": {
    "_kg_hide-input": true,
    "_uuid": "9f1df6658b17558179d8a9016f544410de16c354",
    "execution": {
     "iopub.execute_input": "2020-08-18T08:42:16.020308Z",
     "iopub.status.busy": "2020-08-18T08:42:16.018357Z",
     "iopub.status.idle": "2020-08-18T08:42:16.035873Z",
     "shell.execute_reply": "2020-08-18T08:42:16.037599Z"
    },
    "papermill": {
     "duration": 0.043446,
     "end_time": "2020-08-18T08:42:16.037799",
     "exception": false,
     "start_time": "2020-08-18T08:42:15.994353",
     "status": "completed"
    },
    "tags": []
   },
   "outputs": [
    {
     "data": {
      "text/plain": [
       "['chinese_mnist.csv', 'data']"
      ]
     },
     "execution_count": 3,
     "metadata": {},
     "output_type": "execute_result"
    }
   ],
   "source": [
    "os.listdir(\"..//input//chinese-mnist\")"
   ]
  },
  {
   "cell_type": "markdown",
   "execution_count": null,
   "metadata": {
    "_uuid": "241b8735a85a25e16421fda8c35bc3d3c69e7ea8",
    "papermill": {
     "duration": 0.024081,
     "end_time": "2020-08-18T08:42:16.087530",
     "exception": false,
     "start_time": "2020-08-18T08:42:16.063449",
     "status": "completed"
    },
    "tags": []
   },
   "source": [
    "There is a dataset file and a folder with images.  \n",
    "\n",
    "Let's load the dataset file first."
   ]
  },
  {
   "cell_type": "code",
   "execution_count": 4,
   "metadata": {
    "_kg_hide-input": true,
    "_uuid": "d7b9f11a014428e56e422d97a5b3ef70efec007e",
    "execution": {
     "iopub.execute_input": "2020-08-18T08:42:16.140125Z",
     "iopub.status.busy": "2020-08-18T08:42:16.139076Z",
     "iopub.status.idle": "2020-08-18T08:42:16.171906Z",
     "shell.execute_reply": "2020-08-18T08:42:16.173030Z"
    },
    "papermill": {
     "duration": 0.063017,
     "end_time": "2020-08-18T08:42:16.173239",
     "exception": false,
     "start_time": "2020-08-18T08:42:16.110222",
     "status": "completed"
    },
    "tags": []
   },
   "outputs": [],
   "source": [
    "data_df=pd.read_csv('..//input//chinese-mnist//chinese_mnist.csv')"
   ]
  },
  {
   "cell_type": "markdown",
   "execution_count": null,
   "metadata": {
    "_uuid": "22b3984ccc3e29daaf77a796d9d7966cd798e1a8",
    "papermill": {
     "duration": 0.022841,
     "end_time": "2020-08-18T08:42:16.225451",
     "exception": false,
     "start_time": "2020-08-18T08:42:16.202610",
     "status": "completed"
    },
    "tags": []
   },
   "source": [
    "Let's glimpse the data. First, let's check the number of columns and rows."
   ]
  },
  {
   "cell_type": "code",
   "execution_count": 5,
   "metadata": {
    "_kg_hide-input": true,
    "_uuid": "535f3f9cea3b26428bec3ede4ed49009bdb91889",
    "execution": {
     "iopub.execute_input": "2020-08-18T08:42:16.276445Z",
     "iopub.status.busy": "2020-08-18T08:42:16.275617Z",
     "iopub.status.idle": "2020-08-18T08:42:16.281575Z",
     "shell.execute_reply": "2020-08-18T08:42:16.282190Z"
    },
    "papermill": {
     "duration": 0.034442,
     "end_time": "2020-08-18T08:42:16.282367",
     "exception": false,
     "start_time": "2020-08-18T08:42:16.247925",
     "status": "completed"
    },
    "tags": []
   },
   "outputs": [
    {
     "data": {
      "text/plain": [
       "(15000, 5)"
      ]
     },
     "execution_count": 5,
     "metadata": {},
     "output_type": "execute_result"
    }
   ],
   "source": [
    "data_df.shape"
   ]
  },
  {
   "cell_type": "markdown",
   "execution_count": null,
   "metadata": {
    "_uuid": "5b4405ddcce03ee722f05234d508188997817f8d",
    "papermill": {
     "duration": 0.027094,
     "end_time": "2020-08-18T08:42:16.334740",
     "exception": false,
     "start_time": "2020-08-18T08:42:16.307646",
     "status": "completed"
    },
    "tags": []
   },
   "source": [
    "There are 15000 rows and 5 columns. Let's look to the data."
   ]
  },
  {
   "cell_type": "code",
   "execution_count": 6,
   "metadata": {
    "_kg_hide-input": true,
    "_uuid": "4d326f747f0a14580b20c2e034e6c3368edcd18b",
    "execution": {
     "iopub.execute_input": "2020-08-18T08:42:16.391687Z",
     "iopub.status.busy": "2020-08-18T08:42:16.390820Z",
     "iopub.status.idle": "2020-08-18T08:42:16.410095Z",
     "shell.execute_reply": "2020-08-18T08:42:16.411148Z"
    },
    "papermill": {
     "duration": 0.047491,
     "end_time": "2020-08-18T08:42:16.411311",
     "exception": false,
     "start_time": "2020-08-18T08:42:16.363820",
     "status": "completed"
    },
    "tags": []
   },
   "outputs": [
    {
     "data": {
      "text/html": [
       "<div>\n",
       "<style scoped>\n",
       "    .dataframe tbody tr th:only-of-type {\n",
       "        vertical-align: middle;\n",
       "    }\n",
       "\n",
       "    .dataframe tbody tr th {\n",
       "        vertical-align: top;\n",
       "    }\n",
       "\n",
       "    .dataframe thead th {\n",
       "        text-align: right;\n",
       "    }\n",
       "</style>\n",
       "<table border=\"1\" class=\"dataframe\">\n",
       "  <thead>\n",
       "    <tr style=\"text-align: right;\">\n",
       "      <th></th>\n",
       "      <th>suite_id</th>\n",
       "      <th>sample_id</th>\n",
       "      <th>code</th>\n",
       "      <th>value</th>\n",
       "      <th>character</th>\n",
       "    </tr>\n",
       "  </thead>\n",
       "  <tbody>\n",
       "    <tr>\n",
       "      <th>1966</th>\n",
       "      <td>96</td>\n",
       "      <td>6</td>\n",
       "      <td>11</td>\n",
       "      <td>10</td>\n",
       "      <td>十</td>\n",
       "    </tr>\n",
       "    <tr>\n",
       "      <th>3460</th>\n",
       "      <td>50</td>\n",
       "      <td>1</td>\n",
       "      <td>13</td>\n",
       "      <td>1000</td>\n",
       "      <td>千</td>\n",
       "    </tr>\n",
       "    <tr>\n",
       "      <th>847</th>\n",
       "      <td>85</td>\n",
       "      <td>7</td>\n",
       "      <td>10</td>\n",
       "      <td>9</td>\n",
       "      <td>九</td>\n",
       "    </tr>\n",
       "    <tr>\n",
       "      <th>9097</th>\n",
       "      <td>17</td>\n",
       "      <td>7</td>\n",
       "      <td>4</td>\n",
       "      <td>3</td>\n",
       "      <td>三</td>\n",
       "    </tr>\n",
       "    <tr>\n",
       "      <th>9936</th>\n",
       "      <td>93</td>\n",
       "      <td>6</td>\n",
       "      <td>4</td>\n",
       "      <td>3</td>\n",
       "      <td>三</td>\n",
       "    </tr>\n",
       "  </tbody>\n",
       "</table>\n",
       "</div>"
      ],
      "text/plain": [
       "      suite_id  sample_id  code  value character\n",
       "1966        96          6    11     10         十\n",
       "3460        50          1    13   1000         千\n",
       "847         85          7    10      9         九\n",
       "9097        17          7     4      3         三\n",
       "9936        93          6     4      3         三"
      ]
     },
     "execution_count": 6,
     "metadata": {},
     "output_type": "execute_result"
    }
   ],
   "source": [
    "data_df.sample(100).head()"
   ]
  },
  {
   "cell_type": "markdown",
   "execution_count": null,
   "metadata": {
    "_uuid": "c97047b17cda76e346e444229485ac91ec966423",
    "papermill": {
     "duration": 0.015021,
     "end_time": "2020-08-18T08:42:16.443904",
     "exception": false,
     "start_time": "2020-08-18T08:42:16.428883",
     "status": "completed"
    },
    "tags": []
   },
   "source": [
    "The data contains the following values:  \n",
    "\n",
    "* suite_id - each suite corresponds to a set of handwritten samples by one volunteer;  \n",
    "* sample_id - each sample wil contain a complete set of 15 characters for Chinese numbers;\n",
    "* code - for each Chinese character we are using a code, with values from 1 to 15;\n",
    "* value - this is the actual numerical value associated with the Chinese character for number;  \n",
    "* character - the Chinese character;  \n",
    "\n",
    "We index the files in the dataset by forming a file name from suite_id, sample_id and code. The pattern for a file is as following:\n",
    "\n",
    "> \"input_{suite_id}_{sample_id}_{code}.jpg\""
   ]
  },
  {
   "cell_type": "markdown",
   "execution_count": null,
   "metadata": {
    "_uuid": "55dd26f919decca9d67daec9895a5d9e11f1d28b",
    "papermill": {
     "duration": 0.014785,
     "end_time": "2020-08-18T08:42:16.474644",
     "exception": false,
     "start_time": "2020-08-18T08:42:16.459859",
     "status": "completed"
    },
    "tags": []
   },
   "source": [
    "<a href=\"#0\"><font size=\"1\">Go to top</font></a>  \n",
    "\n",
    "# <a id='3'>Data exploration</a>  \n",
    "\n",
    "\n",
    "\n",
    "Let's start by checking if there are missing data, unlabeled data or data that is inconsistently labeled. \n"
   ]
  },
  {
   "cell_type": "markdown",
   "execution_count": null,
   "metadata": {
    "_uuid": "14443450ba96e12ad8e18ce4dd1779f18d5f914b",
    "papermill": {
     "duration": 0.020609,
     "end_time": "2020-08-18T08:42:16.510584",
     "exception": false,
     "start_time": "2020-08-18T08:42:16.489975",
     "status": "completed"
    },
    "tags": []
   },
   "source": [
    "## <a id='31'>Check for missing data</a>  \n",
    "\n",
    "Let's create a function that check for missing data in the dataset."
   ]
  },
  {
   "cell_type": "code",
   "execution_count": 7,
   "metadata": {
    "_kg_hide-input": true,
    "_uuid": "4544dd470d743c54f815faaee863038ad5e8398f",
    "execution": {
     "iopub.execute_input": "2020-08-18T08:42:16.554397Z",
     "iopub.status.busy": "2020-08-18T08:42:16.552403Z",
     "iopub.status.idle": "2020-08-18T08:42:16.595723Z",
     "shell.execute_reply": "2020-08-18T08:42:16.595034Z"
    },
    "papermill": {
     "duration": 0.070333,
     "end_time": "2020-08-18T08:42:16.595868",
     "exception": false,
     "start_time": "2020-08-18T08:42:16.525535",
     "status": "completed"
    },
    "tags": []
   },
   "outputs": [
    {
     "data": {
      "text/html": [
       "<div>\n",
       "<style scoped>\n",
       "    .dataframe tbody tr th:only-of-type {\n",
       "        vertical-align: middle;\n",
       "    }\n",
       "\n",
       "    .dataframe tbody tr th {\n",
       "        vertical-align: top;\n",
       "    }\n",
       "\n",
       "    .dataframe thead th {\n",
       "        text-align: right;\n",
       "    }\n",
       "</style>\n",
       "<table border=\"1\" class=\"dataframe\">\n",
       "  <thead>\n",
       "    <tr style=\"text-align: right;\">\n",
       "      <th></th>\n",
       "      <th>Total</th>\n",
       "      <th>Percent</th>\n",
       "    </tr>\n",
       "  </thead>\n",
       "  <tbody>\n",
       "    <tr>\n",
       "      <th>character</th>\n",
       "      <td>0</td>\n",
       "      <td>0.0</td>\n",
       "    </tr>\n",
       "    <tr>\n",
       "      <th>value</th>\n",
       "      <td>0</td>\n",
       "      <td>0.0</td>\n",
       "    </tr>\n",
       "    <tr>\n",
       "      <th>code</th>\n",
       "      <td>0</td>\n",
       "      <td>0.0</td>\n",
       "    </tr>\n",
       "    <tr>\n",
       "      <th>sample_id</th>\n",
       "      <td>0</td>\n",
       "      <td>0.0</td>\n",
       "    </tr>\n",
       "    <tr>\n",
       "      <th>suite_id</th>\n",
       "      <td>0</td>\n",
       "      <td>0.0</td>\n",
       "    </tr>\n",
       "  </tbody>\n",
       "</table>\n",
       "</div>"
      ],
      "text/plain": [
       "           Total  Percent\n",
       "character      0      0.0\n",
       "value          0      0.0\n",
       "code           0      0.0\n",
       "sample_id      0      0.0\n",
       "suite_id       0      0.0"
      ]
     },
     "execution_count": 7,
     "metadata": {},
     "output_type": "execute_result"
    }
   ],
   "source": [
    "def missing_data(data):\n",
    "    total = data.isnull().sum().sort_values(ascending = False)\n",
    "    percent = (data.isnull().sum()/data.isnull().count()*100).sort_values(ascending = False)\n",
    "    return pd.concat([total, percent], axis=1, keys=['Total', 'Percent'])\n",
    "missing_data(data_df)"
   ]
  },
  {
   "cell_type": "markdown",
   "execution_count": null,
   "metadata": {
    "_uuid": "3cb0410e8b9afd75ac7b50d0489d90eda6e1b109",
    "papermill": {
     "duration": 0.016778,
     "end_time": "2020-08-18T08:42:16.629634",
     "exception": false,
     "start_time": "2020-08-18T08:42:16.612856",
     "status": "completed"
    },
    "tags": []
   },
   "source": [
    "There is no missing (null) data in the dataset. Still it might be that some of the data labels are misspelled; we will check this when we will analyze each data feature."
   ]
  },
  {
   "cell_type": "markdown",
   "execution_count": null,
   "metadata": {
    "_uuid": "1fbab44688fb2ab073aac8f964e534f90ce1dfff",
    "papermill": {
     "duration": 0.016822,
     "end_time": "2020-08-18T08:42:16.662538",
     "exception": false,
     "start_time": "2020-08-18T08:42:16.645716",
     "status": "completed"
    },
    "tags": []
   },
   "source": [
    "<a href=\"#0\"><font size=\"1\">Go to top</font></a>  \n",
    "\n",
    "## <a id='32'>Explore image data</a>  \n",
    "\n",
    "Let's also check the image data. First, we check how many images are stored in the image folder."
   ]
  },
  {
   "cell_type": "code",
   "execution_count": 8,
   "metadata": {
    "_kg_hide-input": true,
    "_uuid": "46f15681887fa82ab13224e52df69d91119fc9ad",
    "execution": {
     "iopub.execute_input": "2020-08-18T08:42:16.702579Z",
     "iopub.status.busy": "2020-08-18T08:42:16.701867Z",
     "iopub.status.idle": "2020-08-18T08:42:16.870723Z",
     "shell.execute_reply": "2020-08-18T08:42:16.871280Z"
    },
    "papermill": {
     "duration": 0.191846,
     "end_time": "2020-08-18T08:42:16.871439",
     "exception": false,
     "start_time": "2020-08-18T08:42:16.679593",
     "status": "completed"
    },
    "tags": []
   },
   "outputs": [
    {
     "name": "stdout",
     "output_type": "stream",
     "text": [
      "Number of image files: 15000\n"
     ]
    }
   ],
   "source": [
    "image_files = list(os.listdir(IMAGE_PATH))\n",
    "print(\"Number of image files: {}\".format(len(image_files)))"
   ]
  },
  {
   "cell_type": "markdown",
   "execution_count": null,
   "metadata": {
    "_uuid": "68523860593e9a64059b51d40a316454e6937a68",
    "papermill": {
     "duration": 0.015282,
     "end_time": "2020-08-18T08:42:16.903118",
     "exception": false,
     "start_time": "2020-08-18T08:42:16.887836",
     "status": "completed"
    },
    "tags": []
   },
   "source": [
    "Let's also check that each line in the dataset has a corresponding image in the image list.  \n",
    "First, we will have to compose the name of the file from the indexes."
   ]
  },
  {
   "cell_type": "code",
   "execution_count": 9,
   "metadata": {
    "execution": {
     "iopub.execute_input": "2020-08-18T08:42:16.938237Z",
     "iopub.status.busy": "2020-08-18T08:42:16.937385Z",
     "iopub.status.idle": "2020-08-18T08:42:16.940912Z",
     "shell.execute_reply": "2020-08-18T08:42:16.941367Z"
    },
    "papermill": {
     "duration": 0.02337,
     "end_time": "2020-08-18T08:42:16.941576",
     "exception": false,
     "start_time": "2020-08-18T08:42:16.918206",
     "status": "completed"
    },
    "tags": []
   },
   "outputs": [],
   "source": [
    "def create_file_name(x):\n",
    "    \n",
    "    file_name = f\"input_{x[0]}_{x[1]}_{x[2]}.jpg\"\n",
    "    return file_name"
   ]
  },
  {
   "cell_type": "code",
   "execution_count": 10,
   "metadata": {
    "_kg_hide-input": true,
    "execution": {
     "iopub.execute_input": "2020-08-18T08:42:16.976781Z",
     "iopub.status.busy": "2020-08-18T08:42:16.976178Z",
     "iopub.status.idle": "2020-08-18T08:42:17.993276Z",
     "shell.execute_reply": "2020-08-18T08:42:17.992471Z"
    },
    "papermill": {
     "duration": 1.03642,
     "end_time": "2020-08-18T08:42:17.993410",
     "exception": false,
     "start_time": "2020-08-18T08:42:16.956990",
     "status": "completed"
    },
    "tags": []
   },
   "outputs": [],
   "source": [
    "data_df[\"file\"] = data_df.apply(create_file_name, axis=1)"
   ]
  },
  {
   "cell_type": "code",
   "execution_count": 11,
   "metadata": {
    "_kg_hide-input": true,
    "_uuid": "457cd17212904bb96f86ec1770cbdbefc5ffb395",
    "execution": {
     "iopub.execute_input": "2020-08-18T08:42:18.037831Z",
     "iopub.status.busy": "2020-08-18T08:42:18.035949Z",
     "iopub.status.idle": "2020-08-18T08:42:18.040029Z",
     "shell.execute_reply": "2020-08-18T08:42:18.039463Z"
    },
    "papermill": {
     "duration": 0.031074,
     "end_time": "2020-08-18T08:42:18.040142",
     "exception": false,
     "start_time": "2020-08-18T08:42:18.009068",
     "status": "completed"
    },
    "tags": []
   },
   "outputs": [
    {
     "name": "stdout",
     "output_type": "stream",
     "text": [
      "Matching image names: 15000\n"
     ]
    }
   ],
   "source": [
    "file_names = list(data_df['file'])\n",
    "print(\"Matching image names: {}\".format(len(set(file_names).intersection(image_files))))"
   ]
  },
  {
   "cell_type": "markdown",
   "execution_count": null,
   "metadata": {
    "_uuid": "4b20cd791ede3f23d0c9275aafc75827b9424df4",
    "papermill": {
     "duration": 0.014696,
     "end_time": "2020-08-18T08:42:18.069747",
     "exception": false,
     "start_time": "2020-08-18T08:42:18.055051",
     "status": "completed"
    },
    "tags": []
   },
   "source": [
    "Let's also check the image sizes."
   ]
  },
  {
   "cell_type": "code",
   "execution_count": 12,
   "metadata": {
    "_kg_hide-input": true,
    "_uuid": "64f4416a8e20197d60f7dbc9dd41a5e73049bfd0",
    "execution": {
     "iopub.execute_input": "2020-08-18T08:42:18.107130Z",
     "iopub.status.busy": "2020-08-18T08:42:18.105278Z",
     "iopub.status.idle": "2020-08-18T08:42:18.107884Z",
     "shell.execute_reply": "2020-08-18T08:42:18.108381Z"
    },
    "papermill": {
     "duration": 0.023189,
     "end_time": "2020-08-18T08:42:18.108502",
     "exception": false,
     "start_time": "2020-08-18T08:42:18.085313",
     "status": "completed"
    },
    "tags": []
   },
   "outputs": [],
   "source": [
    "def read_image_sizes(file_name):\n",
    "    image = skimage.io.imread(IMAGE_PATH + file_name)\n",
    "    return list(image.shape)"
   ]
  },
  {
   "cell_type": "code",
   "execution_count": 13,
   "metadata": {
    "_uuid": "2c72a7d125efb51e00a58554692dbd99adc74b55",
    "execution": {
     "iopub.execute_input": "2020-08-18T08:42:18.147466Z",
     "iopub.status.busy": "2020-08-18T08:42:18.146799Z",
     "iopub.status.idle": "2020-08-18T08:43:04.143495Z",
     "shell.execute_reply": "2020-08-18T08:43:04.142313Z"
    },
    "papermill": {
     "duration": 46.019056,
     "end_time": "2020-08-18T08:43:04.143653",
     "exception": false,
     "start_time": "2020-08-18T08:42:18.124597",
     "status": "completed"
    },
    "tags": []
   },
   "outputs": [],
   "source": [
    "m = np.stack(data_df['file'].apply(read_image_sizes))\n",
    "df = pd.DataFrame(m,columns=['w','h'])\n",
    "data_df = pd.concat([data_df,df],axis=1, sort=False)"
   ]
  },
  {
   "cell_type": "code",
   "execution_count": 14,
   "metadata": {
    "execution": {
     "iopub.execute_input": "2020-08-18T08:43:04.189528Z",
     "iopub.status.busy": "2020-08-18T08:43:04.188674Z",
     "iopub.status.idle": "2020-08-18T08:43:04.192734Z",
     "shell.execute_reply": "2020-08-18T08:43:04.193238Z"
    },
    "papermill": {
     "duration": 0.033659,
     "end_time": "2020-08-18T08:43:04.193369",
     "exception": false,
     "start_time": "2020-08-18T08:43:04.159710",
     "status": "completed"
    },
    "tags": []
   },
   "outputs": [
    {
     "data": {
      "text/html": [
       "<div>\n",
       "<style scoped>\n",
       "    .dataframe tbody tr th:only-of-type {\n",
       "        vertical-align: middle;\n",
       "    }\n",
       "\n",
       "    .dataframe tbody tr th {\n",
       "        vertical-align: top;\n",
       "    }\n",
       "\n",
       "    .dataframe thead th {\n",
       "        text-align: right;\n",
       "    }\n",
       "</style>\n",
       "<table border=\"1\" class=\"dataframe\">\n",
       "  <thead>\n",
       "    <tr style=\"text-align: right;\">\n",
       "      <th></th>\n",
       "      <th>suite_id</th>\n",
       "      <th>sample_id</th>\n",
       "      <th>code</th>\n",
       "      <th>value</th>\n",
       "      <th>character</th>\n",
       "      <th>file</th>\n",
       "      <th>w</th>\n",
       "      <th>h</th>\n",
       "    </tr>\n",
       "  </thead>\n",
       "  <tbody>\n",
       "    <tr>\n",
       "      <th>0</th>\n",
       "      <td>1</td>\n",
       "      <td>1</td>\n",
       "      <td>10</td>\n",
       "      <td>9</td>\n",
       "      <td>九</td>\n",
       "      <td>input_1_1_10.jpg</td>\n",
       "      <td>64</td>\n",
       "      <td>64</td>\n",
       "    </tr>\n",
       "    <tr>\n",
       "      <th>1</th>\n",
       "      <td>1</td>\n",
       "      <td>10</td>\n",
       "      <td>10</td>\n",
       "      <td>9</td>\n",
       "      <td>九</td>\n",
       "      <td>input_1_10_10.jpg</td>\n",
       "      <td>64</td>\n",
       "      <td>64</td>\n",
       "    </tr>\n",
       "    <tr>\n",
       "      <th>2</th>\n",
       "      <td>1</td>\n",
       "      <td>2</td>\n",
       "      <td>10</td>\n",
       "      <td>9</td>\n",
       "      <td>九</td>\n",
       "      <td>input_1_2_10.jpg</td>\n",
       "      <td>64</td>\n",
       "      <td>64</td>\n",
       "    </tr>\n",
       "    <tr>\n",
       "      <th>3</th>\n",
       "      <td>1</td>\n",
       "      <td>3</td>\n",
       "      <td>10</td>\n",
       "      <td>9</td>\n",
       "      <td>九</td>\n",
       "      <td>input_1_3_10.jpg</td>\n",
       "      <td>64</td>\n",
       "      <td>64</td>\n",
       "    </tr>\n",
       "    <tr>\n",
       "      <th>4</th>\n",
       "      <td>1</td>\n",
       "      <td>4</td>\n",
       "      <td>10</td>\n",
       "      <td>9</td>\n",
       "      <td>九</td>\n",
       "      <td>input_1_4_10.jpg</td>\n",
       "      <td>64</td>\n",
       "      <td>64</td>\n",
       "    </tr>\n",
       "  </tbody>\n",
       "</table>\n",
       "</div>"
      ],
      "text/plain": [
       "   suite_id  sample_id  code  value character               file   w   h\n",
       "0         1          1    10      9         九   input_1_1_10.jpg  64  64\n",
       "1         1         10    10      9         九  input_1_10_10.jpg  64  64\n",
       "2         1          2    10      9         九   input_1_2_10.jpg  64  64\n",
       "3         1          3    10      9         九   input_1_3_10.jpg  64  64\n",
       "4         1          4    10      9         九   input_1_4_10.jpg  64  64"
      ]
     },
     "execution_count": 14,
     "metadata": {},
     "output_type": "execute_result"
    }
   ],
   "source": [
    "data_df.head()"
   ]
  },
  {
   "cell_type": "markdown",
   "execution_count": null,
   "metadata": {
    "_uuid": "a2b88af0c239ca3d9e37e159889836a4f38913c8",
    "papermill": {
     "duration": 0.016081,
     "end_time": "2020-08-18T08:43:04.224747",
     "exception": false,
     "start_time": "2020-08-18T08:43:04.208666",
     "status": "completed"
    },
    "tags": []
   },
   "source": [
    "## <a id='33'>Suites</a>  \n",
    "\n",
    "Let's check the suites of the images. For this, we will group by `suite`."
   ]
  },
  {
   "cell_type": "code",
   "execution_count": 15,
   "metadata": {
    "_kg_hide-input": true,
    "_uuid": "6f1c39d0398275215f92f61542544132a0d574a0",
    "execution": {
     "iopub.execute_input": "2020-08-18T08:43:04.264831Z",
     "iopub.status.busy": "2020-08-18T08:43:04.263285Z",
     "iopub.status.idle": "2020-08-18T08:43:04.269593Z",
     "shell.execute_reply": "2020-08-18T08:43:04.268983Z"
    },
    "papermill": {
     "duration": 0.029491,
     "end_time": "2020-08-18T08:43:04.269707",
     "exception": false,
     "start_time": "2020-08-18T08:43:04.240216",
     "status": "completed"
    },
    "tags": []
   },
   "outputs": [
    {
     "name": "stdout",
     "output_type": "stream",
     "text": [
      "Number of suites: 100\n",
      "Samples: [ 1 10  2  3  4  5  6  7  8  9]\n"
     ]
    }
   ],
   "source": [
    "print(f\"Number of suites: {data_df.suite_id.nunique()}\")\n",
    "print(f\"Samples: {data_df.sample_id.unique()}\")"
   ]
  },
  {
   "cell_type": "markdown",
   "execution_count": null,
   "metadata": {
    "_uuid": "fd421a7d1872af204c26588d1a15eaddca08a396",
    "papermill": {
     "duration": 0.023466,
     "end_time": "2020-08-18T08:43:04.320632",
     "exception": false,
     "start_time": "2020-08-18T08:43:04.297166",
     "status": "completed"
    },
    "tags": []
   },
   "source": [
    "We have 100 suites, each with 10 samples."
   ]
  },
  {
   "cell_type": "markdown",
   "execution_count": null,
   "metadata": {
    "_uuid": "c2a5e2401b418f1723c859ee9e0b4ad5071e4a82",
    "papermill": {
     "duration": 0.024232,
     "end_time": "2020-08-18T08:43:04.370546",
     "exception": false,
     "start_time": "2020-08-18T08:43:04.346314",
     "status": "completed"
    },
    "tags": []
   },
   "source": [
    "# <a id='4'>Characters classification</a>\n",
    "\n",
    "Our objective is to use the images that we investigated until now to correctly identify the Chinese numbers (characters).   \n",
    "\n",
    "We have a unique dataset and we will have to split this dataset in **train** and **test**. The **train** set will be used for training a model and the test will be used for testing the model accuracy against new, fresh data, not used in training.\n",
    "\n"
   ]
  },
  {
   "cell_type": "markdown",
   "execution_count": null,
   "metadata": {
    "_uuid": "e8c0a6df4bb85bcdf90f7c908decab07304d660f",
    "papermill": {
     "duration": 0.023132,
     "end_time": "2020-08-18T08:43:04.418984",
     "exception": false,
     "start_time": "2020-08-18T08:43:04.395852",
     "status": "completed"
    },
    "tags": []
   },
   "source": [
    "## <a id='40'>Split the data</a>  \n",
    "\n",
    "First, we split the whole dataset in train and test. We will use **random_state** to ensure reproductibility of results. We also use **stratify** to ensure balanced train/validation/test sets with respect of the labels. \n",
    "\n",
    "The train-test split is **80%** for training set and **20%** for test set.\n"
   ]
  },
  {
   "cell_type": "code",
   "execution_count": 16,
   "metadata": {
    "_kg_hide-input": true,
    "_uuid": "352d452d5212d8c9eff074f11820b03a0d44387b",
    "execution": {
     "iopub.execute_input": "2020-08-18T08:43:04.476035Z",
     "iopub.status.busy": "2020-08-18T08:43:04.475023Z",
     "iopub.status.idle": "2020-08-18T08:43:04.502047Z",
     "shell.execute_reply": "2020-08-18T08:43:04.503163Z"
    },
    "papermill": {
     "duration": 0.060317,
     "end_time": "2020-08-18T08:43:04.503409",
     "exception": false,
     "start_time": "2020-08-18T08:43:04.443092",
     "status": "completed"
    },
    "tags": []
   },
   "outputs": [],
   "source": [
    "train_df, test_df = train_test_split(data_df, test_size=TEST_SIZE, random_state=RANDOM_STATE, stratify=data_df[\"code\"].values)"
   ]
  },
  {
   "cell_type": "markdown",
   "execution_count": null,
   "metadata": {
    "_uuid": "856060cc500db00e472b7755c91aba20c953a5f6",
    "papermill": {
     "duration": 0.050345,
     "end_time": "2020-08-18T08:43:04.581036",
     "exception": false,
     "start_time": "2020-08-18T08:43:04.530691",
     "status": "completed"
    },
    "tags": []
   },
   "source": [
    "Next, we will split further the **train** set in **train** and **validation**. We want to use as well a validation set to be able to measure not only how well fits the model the train data during training (or how well `learns` the training data) but also how well the model is able to generalize so that we are able to understands not only the bias but also the variance of the model.  \n",
    "\n",
    "The train-validation split is **80%** for training set and **20%** for validation set."
   ]
  },
  {
   "cell_type": "code",
   "execution_count": 17,
   "metadata": {
    "_kg_hide-input": true,
    "_uuid": "83d0be04ae5a4ad5834631bf18e21917d6313bcd",
    "execution": {
     "iopub.execute_input": "2020-08-18T08:43:04.709649Z",
     "iopub.status.busy": "2020-08-18T08:43:04.704923Z",
     "iopub.status.idle": "2020-08-18T08:43:04.728448Z",
     "shell.execute_reply": "2020-08-18T08:43:04.729801Z"
    },
    "papermill": {
     "duration": 0.060712,
     "end_time": "2020-08-18T08:43:04.730002",
     "exception": false,
     "start_time": "2020-08-18T08:43:04.669290",
     "status": "completed"
    },
    "tags": []
   },
   "outputs": [],
   "source": [
    "train_df, val_df = train_test_split(train_df, test_size=VAL_SIZE, random_state=RANDOM_STATE, stratify=train_df[\"code\"].values)"
   ]
  },
  {
   "cell_type": "markdown",
   "execution_count": null,
   "metadata": {
    "_kg_hide-input": true,
    "_uuid": "0dcaa8c2c5423ab8fc2898d4a4aa937801592c2c",
    "papermill": {
     "duration": 0.026971,
     "end_time": "2020-08-18T08:43:04.785459",
     "exception": false,
     "start_time": "2020-08-18T08:43:04.758488",
     "status": "completed"
    },
    "tags": []
   },
   "source": [
    "Let's check the shape of the three datasets."
   ]
  },
  {
   "cell_type": "code",
   "execution_count": 18,
   "metadata": {
    "_kg_hide-input": true,
    "_uuid": "8247f70b4deb4600fe322f004733234ed37617f0",
    "execution": {
     "iopub.execute_input": "2020-08-18T08:43:04.849150Z",
     "iopub.status.busy": "2020-08-18T08:43:04.848208Z",
     "iopub.status.idle": "2020-08-18T08:43:04.854055Z",
     "shell.execute_reply": "2020-08-18T08:43:04.854912Z"
    },
    "papermill": {
     "duration": 0.043453,
     "end_time": "2020-08-18T08:43:04.855106",
     "exception": false,
     "start_time": "2020-08-18T08:43:04.811653",
     "status": "completed"
    },
    "tags": []
   },
   "outputs": [
    {
     "name": "stdout",
     "output_type": "stream",
     "text": [
      "Train set rows: 9600\n",
      "Test  set rows: 3000\n",
      "Val   set rows: 2400\n"
     ]
    }
   ],
   "source": [
    "print(\"Train set rows: {}\".format(train_df.shape[0]))\n",
    "print(\"Test  set rows: {}\".format(test_df.shape[0]))\n",
    "print(\"Val   set rows: {}\".format(val_df.shape[0]))"
   ]
  },
  {
   "cell_type": "markdown",
   "execution_count": null,
   "metadata": {
    "_uuid": "ee768c083f40fcbd109425182bc55ce86173b69d",
    "papermill": {
     "duration": 0.036463,
     "end_time": "2020-08-18T08:43:04.917496",
     "exception": false,
     "start_time": "2020-08-18T08:43:04.881033",
     "status": "completed"
    },
    "tags": []
   },
   "source": [
    "We are now ready to start building our first model."
   ]
  },
  {
   "cell_type": "markdown",
   "execution_count": null,
   "metadata": {
    "_uuid": "d76e822dd76565d29fcfed323cb034939f307581",
    "papermill": {
     "duration": 0.026542,
     "end_time": "2020-08-18T08:43:04.984231",
     "exception": false,
     "start_time": "2020-08-18T08:43:04.957689",
     "status": "completed"
    },
    "tags": []
   },
   "source": [
    "## <a id='41'>Build the model</a>    \n",
    "\n",
    "\n",
    "Next step in our creation of a predictive model.  \n",
    "\n",
    "Let's define few auxiliary functions that we will need for creation of our models.\n",
    "\n",
    "A function for reading images from the image files, scale all images to 100 x 100 x 3 (channels)."
   ]
  },
  {
   "cell_type": "code",
   "execution_count": 19,
   "metadata": {
    "_kg_hide-input": true,
    "_uuid": "f80b4e20e98ce5bf328fba3a22457c4a994de06b",
    "execution": {
     "iopub.execute_input": "2020-08-18T08:43:05.038239Z",
     "iopub.status.busy": "2020-08-18T08:43:05.037413Z",
     "iopub.status.idle": "2020-08-18T08:43:05.041136Z",
     "shell.execute_reply": "2020-08-18T08:43:05.041896Z"
    },
    "papermill": {
     "duration": 0.033552,
     "end_time": "2020-08-18T08:43:05.042075",
     "exception": false,
     "start_time": "2020-08-18T08:43:05.008523",
     "status": "completed"
    },
    "tags": []
   },
   "outputs": [],
   "source": [
    "def read_image(file_name):\n",
    "    image = skimage.io.imread(IMAGE_PATH + file_name)\n",
    "    image = skimage.transform.resize(image, (IMAGE_WIDTH, IMAGE_HEIGHT, 1), mode='reflect')\n",
    "    return image[:,:,:]"
   ]
  },
  {
   "cell_type": "markdown",
   "execution_count": null,
   "metadata": {
    "_uuid": "e396e0cd23633af2169e4d50985f1987654205a9",
    "papermill": {
     "duration": 0.021388,
     "end_time": "2020-08-18T08:43:05.084380",
     "exception": false,
     "start_time": "2020-08-18T08:43:05.062992",
     "status": "completed"
    },
    "tags": []
   },
   "source": [
    "A function to create the dummy variables corresponding to the categorical target variable."
   ]
  },
  {
   "cell_type": "code",
   "execution_count": 20,
   "metadata": {
    "_kg_hide-input": true,
    "_uuid": "0f7a2146ca93aef9367ecd64300980005d89911b",
    "execution": {
     "iopub.execute_input": "2020-08-18T08:43:05.138349Z",
     "iopub.status.busy": "2020-08-18T08:43:05.135456Z",
     "iopub.status.idle": "2020-08-18T08:43:05.139822Z",
     "shell.execute_reply": "2020-08-18T08:43:05.139097Z"
    },
    "papermill": {
     "duration": 0.032642,
     "end_time": "2020-08-18T08:43:05.139960",
     "exception": false,
     "start_time": "2020-08-18T08:43:05.107318",
     "status": "completed"
    },
    "tags": []
   },
   "outputs": [],
   "source": [
    "def categories_encoder(dataset, var='character'):\n",
    "    X = np.stack(dataset['file'].apply(read_image))\n",
    "    y = pd.get_dummies(dataset[var], drop_first=False)\n",
    "    return X, y"
   ]
  },
  {
   "cell_type": "markdown",
   "execution_count": null,
   "metadata": {
    "_kg_hide-input": true,
    "_uuid": "b40c205d5189b23cbbc4ef0cda8798721d504ff9",
    "papermill": {
     "duration": 0.025295,
     "end_time": "2020-08-18T08:43:05.192946",
     "exception": false,
     "start_time": "2020-08-18T08:43:05.167651",
     "status": "completed"
    },
    "tags": []
   },
   "source": [
    "Let's populate now the train, val and test sets with the image data and create the  dummy variables corresponding to the categorical target variable, in our case `subspecies`."
   ]
  },
  {
   "cell_type": "code",
   "execution_count": 21,
   "metadata": {
    "_kg_hide-input": true,
    "_uuid": "70acefcd6dc5d494b1c7db6dc90bae5f8c856d94",
    "execution": {
     "iopub.execute_input": "2020-08-18T08:43:05.234422Z",
     "iopub.status.busy": "2020-08-18T08:43:05.233694Z",
     "iopub.status.idle": "2020-08-18T08:43:47.426887Z",
     "shell.execute_reply": "2020-08-18T08:43:47.425906Z"
    },
    "papermill": {
     "duration": 42.216746,
     "end_time": "2020-08-18T08:43:47.427032",
     "exception": false,
     "start_time": "2020-08-18T08:43:05.210286",
     "status": "completed"
    },
    "tags": []
   },
   "outputs": [],
   "source": [
    "X_train, y_train = categories_encoder(train_df)\n",
    "X_val, y_val = categories_encoder(val_df)\n",
    "X_test, y_test = categories_encoder(test_df)"
   ]
  },
  {
   "cell_type": "markdown",
   "execution_count": null,
   "metadata": {
    "_uuid": "5093354dc9c7f0510ba54a254690db45e38d0bcc",
    "papermill": {
     "duration": 0.016054,
     "end_time": "2020-08-18T08:43:47.459838",
     "exception": false,
     "start_time": "2020-08-18T08:43:47.443784",
     "status": "completed"
    },
    "tags": []
   },
   "source": [
    "Now we are ready to start creating our model.  "
   ]
  },
  {
   "cell_type": "code",
   "execution_count": 22,
   "metadata": {
    "execution": {
     "iopub.execute_input": "2020-08-18T08:43:47.501296Z",
     "iopub.status.busy": "2020-08-18T08:43:47.500628Z",
     "iopub.status.idle": "2020-08-18T08:43:51.349784Z",
     "shell.execute_reply": "2020-08-18T08:43:51.348530Z"
    },
    "papermill": {
     "duration": 3.874293,
     "end_time": "2020-08-18T08:43:51.349929",
     "exception": false,
     "start_time": "2020-08-18T08:43:47.475636",
     "status": "completed"
    },
    "tags": []
   },
   "outputs": [],
   "source": [
    "model=Sequential()\n",
    "model.add(Conv2D(CONV_2D_DIM_1, kernel_size=KERNEL_SIZE, input_shape=(IMAGE_WIDTH, IMAGE_HEIGHT,IMAGE_CHANNELS), activation='relu', padding='same'))\n",
    "model.add(Conv2D(CONV_2D_DIM_2, kernel_size=KERNEL_SIZE, activation='relu', padding='same'))\n",
    "model.add(MaxPool2D(MAX_POOL_DIM))\n",
    "model.add(Dropout(DROPOUT_RATIO))\n",
    "model.add(Conv2D(CONV_2D_DIM_2, kernel_size=KERNEL_SIZE, activation='relu', padding='same'))\n",
    "model.add(Conv2D(CONV_2D_DIM_2, kernel_size=KERNEL_SIZE, activation='relu', padding='same'))\n",
    "model.add(Dropout(DROPOUT_RATIO))\n",
    "model.add(Flatten())\n",
    "model.add(Dense(y_train.columns.size, activation='softmax'))\n",
    "model.compile(optimizer='adam', loss='categorical_crossentropy', metrics=['accuracy'])"
   ]
  },
  {
   "cell_type": "code",
   "execution_count": 23,
   "metadata": {
    "_kg_hide-input": true,
    "_uuid": "046612eda2408801ded03cc6a5e2357a99298969",
    "execution": {
     "iopub.execute_input": "2020-08-18T08:43:51.391594Z",
     "iopub.status.busy": "2020-08-18T08:43:51.386878Z",
     "iopub.status.idle": "2020-08-18T08:43:51.399116Z",
     "shell.execute_reply": "2020-08-18T08:43:51.397485Z"
    },
    "papermill": {
     "duration": 0.033227,
     "end_time": "2020-08-18T08:43:51.399277",
     "exception": false,
     "start_time": "2020-08-18T08:43:51.366050",
     "status": "completed"
    },
    "tags": []
   },
   "outputs": [
    {
     "name": "stdout",
     "output_type": "stream",
     "text": [
      "Model: \"sequential\"\n",
      "_________________________________________________________________\n",
      "Layer (type)                 Output Shape              Param #   \n",
      "=================================================================\n",
      "conv2d (Conv2D)              (None, 64, 64, 16)        160       \n",
      "_________________________________________________________________\n",
      "conv2d_1 (Conv2D)            (None, 64, 64, 16)        2320      \n",
      "_________________________________________________________________\n",
      "max_pooling2d (MaxPooling2D) (None, 32, 32, 16)        0         \n",
      "_________________________________________________________________\n",
      "dropout (Dropout)            (None, 32, 32, 16)        0         \n",
      "_________________________________________________________________\n",
      "conv2d_2 (Conv2D)            (None, 32, 32, 16)        2320      \n",
      "_________________________________________________________________\n",
      "conv2d_3 (Conv2D)            (None, 32, 32, 16)        2320      \n",
      "_________________________________________________________________\n",
      "dropout_1 (Dropout)          (None, 32, 32, 16)        0         \n",
      "_________________________________________________________________\n",
      "flatten (Flatten)            (None, 16384)             0         \n",
      "_________________________________________________________________\n",
      "dense (Dense)                (None, 15)                245775    \n",
      "=================================================================\n",
      "Total params: 252,895\n",
      "Trainable params: 252,895\n",
      "Non-trainable params: 0\n",
      "_________________________________________________________________\n"
     ]
    }
   ],
   "source": [
    "model.summary()"
   ]
  },
  {
   "cell_type": "markdown",
   "execution_count": null,
   "metadata": {
    "_uuid": "0149020f748dc9eaa89ebf732829031d6d9d35a2",
    "papermill": {
     "duration": 0.021193,
     "end_time": "2020-08-18T08:43:51.443098",
     "exception": false,
     "start_time": "2020-08-18T08:43:51.421905",
     "status": "completed"
    },
    "tags": []
   },
   "source": [
    "We are using the predefined epoch number for this experiment (50 steps).\n",
    "\n",
    "We are using as well a learning function with variable learning rate (depends on the epoch number). \n",
    "\n",
    "At each training epoch, we evaluate the validation error and, based on its evolution, we decide if we stop the training or continue (with a prededined `patience` factor - i.e. we only stop if validation is not improving for a certain number of steps (we set the patience to 5 steps). If at a certain step the validation error is improving, we save the current model. We then will load the best model and use it for prediction of test set."
   ]
  },
  {
   "cell_type": "code",
   "execution_count": 24,
   "metadata": {
    "execution": {
     "iopub.execute_input": "2020-08-18T08:43:51.483181Z",
     "iopub.status.busy": "2020-08-18T08:43:51.481254Z",
     "iopub.status.idle": "2020-08-18T08:43:51.483847Z",
     "shell.execute_reply": "2020-08-18T08:43:51.484300Z"
    },
    "papermill": {
     "duration": 0.025585,
     "end_time": "2020-08-18T08:43:51.484427",
     "exception": false,
     "start_time": "2020-08-18T08:43:51.458842",
     "status": "completed"
    },
    "tags": []
   },
   "outputs": [],
   "source": [
    "annealer = LearningRateScheduler(lambda x: 1e-3 * 0.99 ** (x+NO_EPOCHS))\n",
    "earlystopper = EarlyStopping(monitor='loss', patience=PATIENCE, verbose=VERBOSE)\n",
    "checkpointer = ModelCheckpoint('best_model.h5',\n",
    "                                monitor='val_accuracy',\n",
    "                                verbose=VERBOSE,\n",
    "                                save_best_only=True,\n",
    "                                save_weights_only=True)"
   ]
  },
  {
   "cell_type": "code",
   "execution_count": 25,
   "metadata": {
    "execution": {
     "iopub.execute_input": "2020-08-18T08:43:51.525323Z",
     "iopub.status.busy": "2020-08-18T08:43:51.524107Z",
     "iopub.status.idle": "2020-08-18T08:45:25.454338Z",
     "shell.execute_reply": "2020-08-18T08:45:25.455054Z"
    },
    "papermill": {
     "duration": 93.954845,
     "end_time": "2020-08-18T08:45:25.455257",
     "exception": false,
     "start_time": "2020-08-18T08:43:51.500412",
     "status": "completed"
    },
    "tags": []
   },
   "outputs": [
    {
     "name": "stdout",
     "output_type": "stream",
     "text": [
      "Epoch 1/50\n",
      "300/300 [==============================] - ETA: 0s - loss: 1.7596 - accuracy: 0.4609\n",
      "Epoch 00001: val_accuracy improved from -inf to 0.69042, saving model to best_model.h5\n",
      "300/300 [==============================] - 2s 7ms/step - loss: 1.7596 - accuracy: 0.4609 - val_loss: 1.0114 - val_accuracy: 0.6904 - lr: 6.0501e-04\n",
      "Epoch 2/50\n",
      "299/300 [============================>.] - ETA: 0s - loss: 0.8461 - accuracy: 0.7321\n",
      "Epoch 00002: val_accuracy improved from 0.69042 to 0.78500, saving model to best_model.h5\n",
      "300/300 [==============================] - 2s 6ms/step - loss: 0.8452 - accuracy: 0.7324 - val_loss: 0.6448 - val_accuracy: 0.7850 - lr: 5.9896e-04\n",
      "Epoch 3/50\n",
      "297/300 [============================>.] - ETA: 0s - loss: 0.6313 - accuracy: 0.7905\n",
      "Epoch 00003: val_accuracy improved from 0.78500 to 0.82667, saving model to best_model.h5\n",
      "300/300 [==============================] - 2s 6ms/step - loss: 0.6318 - accuracy: 0.7904 - val_loss: 0.5294 - val_accuracy: 0.8267 - lr: 5.9297e-04\n",
      "Epoch 4/50\n",
      "298/300 [============================>.] - ETA: 0s - loss: 0.4971 - accuracy: 0.8386\n",
      "Epoch 00004: val_accuracy improved from 0.82667 to 0.87542, saving model to best_model.h5\n",
      "300/300 [==============================] - 2s 6ms/step - loss: 0.4970 - accuracy: 0.8380 - val_loss: 0.4100 - val_accuracy: 0.8754 - lr: 5.8704e-04\n",
      "Epoch 5/50\n",
      "297/300 [============================>.] - ETA: 0s - loss: 0.3921 - accuracy: 0.8716\n",
      "Epoch 00005: val_accuracy improved from 0.87542 to 0.88250, saving model to best_model.h5\n",
      "300/300 [==============================] - 2s 6ms/step - loss: 0.3912 - accuracy: 0.8721 - val_loss: 0.3628 - val_accuracy: 0.8825 - lr: 5.8117e-04\n",
      "Epoch 6/50\n",
      "296/300 [============================>.] - ETA: 0s - loss: 0.3352 - accuracy: 0.8852\n",
      "Epoch 00006: val_accuracy improved from 0.88250 to 0.90583, saving model to best_model.h5\n",
      "300/300 [==============================] - 2s 6ms/step - loss: 0.3345 - accuracy: 0.8857 - val_loss: 0.3035 - val_accuracy: 0.9058 - lr: 5.7535e-04\n",
      "Epoch 7/50\n",
      "298/300 [============================>.] - ETA: 0s - loss: 0.2889 - accuracy: 0.9020\n",
      "Epoch 00007: val_accuracy improved from 0.90583 to 0.91333, saving model to best_model.h5\n",
      "300/300 [==============================] - 2s 6ms/step - loss: 0.2887 - accuracy: 0.9022 - val_loss: 0.2666 - val_accuracy: 0.9133 - lr: 5.6960e-04\n",
      "Epoch 8/50\n",
      "296/300 [============================>.] - ETA: 0s - loss: 0.2667 - accuracy: 0.9124\n",
      "Epoch 00008: val_accuracy improved from 0.91333 to 0.92625, saving model to best_model.h5\n",
      "300/300 [==============================] - 2s 6ms/step - loss: 0.2665 - accuracy: 0.9119 - val_loss: 0.2555 - val_accuracy: 0.9262 - lr: 5.6391e-04\n",
      "Epoch 9/50\n",
      "300/300 [==============================] - ETA: 0s - loss: 0.2272 - accuracy: 0.9224\n",
      "Epoch 00009: val_accuracy improved from 0.92625 to 0.93292, saving model to best_model.h5\n",
      "300/300 [==============================] - 2s 6ms/step - loss: 0.2272 - accuracy: 0.9224 - val_loss: 0.2141 - val_accuracy: 0.9329 - lr: 5.5827e-04\n",
      "Epoch 10/50\n",
      "297/300 [============================>.] - ETA: 0s - loss: 0.2076 - accuracy: 0.9310\n",
      "Epoch 00010: val_accuracy improved from 0.93292 to 0.93917, saving model to best_model.h5\n",
      "300/300 [==============================] - 2s 6ms/step - loss: 0.2076 - accuracy: 0.9308 - val_loss: 0.1897 - val_accuracy: 0.9392 - lr: 5.5268e-04\n",
      "Epoch 11/50\n",
      "295/300 [============================>.] - ETA: 0s - loss: 0.1835 - accuracy: 0.9362\n",
      "Epoch 00011: val_accuracy improved from 0.93917 to 0.93958, saving model to best_model.h5\n",
      "300/300 [==============================] - 2s 6ms/step - loss: 0.1822 - accuracy: 0.9368 - val_loss: 0.2028 - val_accuracy: 0.9396 - lr: 5.4716e-04\n",
      "Epoch 12/50\n",
      "295/300 [============================>.] - ETA: 0s - loss: 0.1632 - accuracy: 0.9453\n",
      "Epoch 00012: val_accuracy improved from 0.93958 to 0.94792, saving model to best_model.h5\n",
      "300/300 [==============================] - 2s 6ms/step - loss: 0.1639 - accuracy: 0.9453 - val_loss: 0.1743 - val_accuracy: 0.9479 - lr: 5.4169e-04\n",
      "Epoch 13/50\n",
      "298/300 [============================>.] - ETA: 0s - loss: 0.1533 - accuracy: 0.9449\n",
      "Epoch 00013: val_accuracy did not improve from 0.94792\n",
      "300/300 [==============================] - 2s 6ms/step - loss: 0.1532 - accuracy: 0.9450 - val_loss: 0.1869 - val_accuracy: 0.9433 - lr: 5.3627e-04\n",
      "Epoch 14/50\n",
      "294/300 [============================>.] - ETA: 0s - loss: 0.1449 - accuracy: 0.9497\n",
      "Epoch 00014: val_accuracy did not improve from 0.94792\n",
      "300/300 [==============================] - 2s 6ms/step - loss: 0.1446 - accuracy: 0.9500 - val_loss: 0.2029 - val_accuracy: 0.9442 - lr: 5.3091e-04\n",
      "Epoch 15/50\n",
      "300/300 [==============================] - ETA: 0s - loss: 0.1386 - accuracy: 0.9519\n",
      "Epoch 00015: val_accuracy did not improve from 0.94792\n",
      "300/300 [==============================] - 2s 7ms/step - loss: 0.1386 - accuracy: 0.9519 - val_loss: 0.1860 - val_accuracy: 0.9446 - lr: 5.2560e-04\n",
      "Epoch 16/50\n",
      "294/300 [============================>.] - ETA: 0s - loss: 0.1313 - accuracy: 0.9565\n",
      "Epoch 00016: val_accuracy improved from 0.94792 to 0.95125, saving model to best_model.h5\n",
      "300/300 [==============================] - 2s 7ms/step - loss: 0.1303 - accuracy: 0.9569 - val_loss: 0.1718 - val_accuracy: 0.9513 - lr: 5.2034e-04\n",
      "Epoch 17/50\n",
      "290/300 [============================>.] - ETA: 0s - loss: 0.1193 - accuracy: 0.9612\n",
      "Epoch 00017: val_accuracy improved from 0.95125 to 0.95625, saving model to best_model.h5\n",
      "300/300 [==============================] - 2s 6ms/step - loss: 0.1205 - accuracy: 0.9606 - val_loss: 0.1554 - val_accuracy: 0.9563 - lr: 5.1514e-04\n",
      "Epoch 18/50\n",
      "290/300 [============================>.] - ETA: 0s - loss: 0.1223 - accuracy: 0.9594\n",
      "Epoch 00018: val_accuracy did not improve from 0.95625\n",
      "300/300 [==============================] - 2s 6ms/step - loss: 0.1226 - accuracy: 0.9594 - val_loss: 0.1699 - val_accuracy: 0.9513 - lr: 5.0999e-04\n",
      "Epoch 19/50\n",
      "294/300 [============================>.] - ETA: 0s - loss: 0.1071 - accuracy: 0.9646\n",
      "Epoch 00019: val_accuracy improved from 0.95625 to 0.95917, saving model to best_model.h5\n",
      "300/300 [==============================] - 2s 6ms/step - loss: 0.1066 - accuracy: 0.9647 - val_loss: 0.1447 - val_accuracy: 0.9592 - lr: 5.0489e-04\n",
      "Epoch 20/50\n",
      "297/300 [============================>.] - ETA: 0s - loss: 0.1023 - accuracy: 0.9644\n",
      "Epoch 00020: val_accuracy did not improve from 0.95917\n",
      "300/300 [==============================] - 2s 6ms/step - loss: 0.1031 - accuracy: 0.9643 - val_loss: 0.1494 - val_accuracy: 0.9579 - lr: 4.9984e-04\n",
      "Epoch 21/50\n",
      "293/300 [============================>.] - ETA: 0s - loss: 0.0990 - accuracy: 0.9645\n",
      "Epoch 00021: val_accuracy did not improve from 0.95917\n",
      "300/300 [==============================] - 2s 6ms/step - loss: 0.0989 - accuracy: 0.9648 - val_loss: 0.1626 - val_accuracy: 0.9571 - lr: 4.9484e-04\n",
      "Epoch 22/50\n",
      "293/300 [============================>.] - ETA: 0s - loss: 0.0997 - accuracy: 0.9665\n",
      "Epoch 00022: val_accuracy improved from 0.95917 to 0.96875, saving model to best_model.h5\n",
      "300/300 [==============================] - 2s 6ms/step - loss: 0.0999 - accuracy: 0.9665 - val_loss: 0.1361 - val_accuracy: 0.9688 - lr: 4.8989e-04\n",
      "Epoch 23/50\n",
      "297/300 [============================>.] - ETA: 0s - loss: 0.0866 - accuracy: 0.9704\n",
      "Epoch 00023: val_accuracy did not improve from 0.96875\n",
      "300/300 [==============================] - 2s 6ms/step - loss: 0.0870 - accuracy: 0.9704 - val_loss: 0.1315 - val_accuracy: 0.9658 - lr: 4.8499e-04\n",
      "Epoch 24/50\n",
      "298/300 [============================>.] - ETA: 0s - loss: 0.0828 - accuracy: 0.9714\n",
      "Epoch 00024: val_accuracy did not improve from 0.96875\n",
      "300/300 [==============================] - 2s 6ms/step - loss: 0.0831 - accuracy: 0.9711 - val_loss: 0.1464 - val_accuracy: 0.9608 - lr: 4.8014e-04\n",
      "Epoch 25/50\n",
      "298/300 [============================>.] - ETA: 0s - loss: 0.0813 - accuracy: 0.9737\n",
      "Epoch 00025: val_accuracy did not improve from 0.96875\n",
      "300/300 [==============================] - 2s 6ms/step - loss: 0.0812 - accuracy: 0.9737 - val_loss: 0.1479 - val_accuracy: 0.9600 - lr: 4.7534e-04\n",
      "Epoch 26/50\n",
      "297/300 [============================>.] - ETA: 0s - loss: 0.0826 - accuracy: 0.9716\n",
      "Epoch 00026: val_accuracy did not improve from 0.96875\n",
      "300/300 [==============================] - 2s 6ms/step - loss: 0.0827 - accuracy: 0.9715 - val_loss: 0.1247 - val_accuracy: 0.9683 - lr: 4.7059e-04\n",
      "Epoch 27/50\n",
      "294/300 [============================>.] - ETA: 0s - loss: 0.0822 - accuracy: 0.9725\n",
      "Epoch 00027: val_accuracy improved from 0.96875 to 0.96917, saving model to best_model.h5\n",
      "300/300 [==============================] - 2s 6ms/step - loss: 0.0824 - accuracy: 0.9724 - val_loss: 0.1206 - val_accuracy: 0.9692 - lr: 4.6588e-04\n",
      "Epoch 28/50\n",
      "298/300 [============================>.] - ETA: 0s - loss: 0.0750 - accuracy: 0.9763\n",
      "Epoch 00028: val_accuracy did not improve from 0.96917\n",
      "300/300 [==============================] - 2s 6ms/step - loss: 0.0750 - accuracy: 0.9761 - val_loss: 0.1389 - val_accuracy: 0.9621 - lr: 4.6122e-04\n",
      "Epoch 29/50\n",
      "296/300 [============================>.] - ETA: 0s - loss: 0.0756 - accuracy: 0.9729\n",
      "Epoch 00029: val_accuracy improved from 0.96917 to 0.97083, saving model to best_model.h5\n",
      "300/300 [==============================] - 2s 6ms/step - loss: 0.0748 - accuracy: 0.9732 - val_loss: 0.1108 - val_accuracy: 0.9708 - lr: 4.5661e-04\n",
      "Epoch 30/50\n",
      "298/300 [============================>.] - ETA: 0s - loss: 0.0656 - accuracy: 0.9767\n",
      "Epoch 00030: val_accuracy did not improve from 0.97083\n",
      "300/300 [==============================] - 2s 6ms/step - loss: 0.0655 - accuracy: 0.9767 - val_loss: 0.1190 - val_accuracy: 0.9679 - lr: 4.5204e-04\n",
      "Epoch 31/50\n",
      "300/300 [==============================] - ETA: 0s - loss: 0.0589 - accuracy: 0.9776\n",
      "Epoch 00031: val_accuracy did not improve from 0.97083\n",
      "300/300 [==============================] - 2s 6ms/step - loss: 0.0589 - accuracy: 0.9776 - val_loss: 0.1224 - val_accuracy: 0.9679 - lr: 4.4752e-04\n",
      "Epoch 32/50\n",
      "292/300 [============================>.] - ETA: 0s - loss: 0.0644 - accuracy: 0.9787\n",
      "Epoch 00032: val_accuracy improved from 0.97083 to 0.97208, saving model to best_model.h5\n",
      "300/300 [==============================] - 2s 6ms/step - loss: 0.0649 - accuracy: 0.9781 - val_loss: 0.1164 - val_accuracy: 0.9721 - lr: 4.4305e-04\n",
      "Epoch 33/50\n",
      "290/300 [============================>.] - ETA: 0s - loss: 0.0568 - accuracy: 0.9808\n",
      "Epoch 00033: val_accuracy did not improve from 0.97208\n",
      "300/300 [==============================] - 2s 7ms/step - loss: 0.0569 - accuracy: 0.9805 - val_loss: 0.1248 - val_accuracy: 0.9692 - lr: 4.3862e-04\n",
      "Epoch 34/50\n",
      "291/300 [============================>.] - ETA: 0s - loss: 0.0627 - accuracy: 0.9797\n",
      "Epoch 00034: val_accuracy did not improve from 0.97208\n",
      "300/300 [==============================] - 2s 6ms/step - loss: 0.0625 - accuracy: 0.9799 - val_loss: 0.1360 - val_accuracy: 0.9617 - lr: 4.3423e-04\n",
      "Epoch 35/50\n",
      "295/300 [============================>.] - ETA: 0s - loss: 0.0539 - accuracy: 0.9815\n",
      "Epoch 00035: val_accuracy did not improve from 0.97208\n",
      "300/300 [==============================] - 2s 6ms/step - loss: 0.0533 - accuracy: 0.9818 - val_loss: 0.1133 - val_accuracy: 0.9717 - lr: 4.2989e-04\n",
      "Epoch 36/50\n",
      "298/300 [============================>.] - ETA: 0s - loss: 0.0577 - accuracy: 0.9804\n",
      "Epoch 00036: val_accuracy did not improve from 0.97208\n",
      "300/300 [==============================] - 2s 6ms/step - loss: 0.0576 - accuracy: 0.9805 - val_loss: 0.1105 - val_accuracy: 0.9708 - lr: 4.2559e-04\n",
      "Epoch 37/50\n",
      "298/300 [============================>.] - ETA: 0s - loss: 0.0556 - accuracy: 0.9824\n",
      "Epoch 00037: val_accuracy did not improve from 0.97208\n",
      "300/300 [==============================] - 2s 6ms/step - loss: 0.0556 - accuracy: 0.9824 - val_loss: 0.1145 - val_accuracy: 0.9708 - lr: 4.2133e-04\n",
      "Epoch 38/50\n",
      "298/300 [============================>.] - ETA: 0s - loss: 0.0524 - accuracy: 0.9822\n",
      "Epoch 00038: val_accuracy did not improve from 0.97208\n",
      "300/300 [==============================] - 2s 6ms/step - loss: 0.0535 - accuracy: 0.9819 - val_loss: 0.1091 - val_accuracy: 0.9708 - lr: 4.1712e-04\n",
      "Epoch 39/50\n",
      "295/300 [============================>.] - ETA: 0s - loss: 0.0520 - accuracy: 0.9824\n",
      "Epoch 00039: val_accuracy improved from 0.97208 to 0.97292, saving model to best_model.h5\n",
      "300/300 [==============================] - 2s 6ms/step - loss: 0.0520 - accuracy: 0.9825 - val_loss: 0.1110 - val_accuracy: 0.9729 - lr: 4.1295e-04\n",
      "Epoch 40/50\n",
      "298/300 [============================>.] - ETA: 0s - loss: 0.0518 - accuracy: 0.9829\n",
      "Epoch 00040: val_accuracy did not improve from 0.97292\n",
      "300/300 [==============================] - 2s 6ms/step - loss: 0.0520 - accuracy: 0.9829 - val_loss: 0.1168 - val_accuracy: 0.9696 - lr: 4.0882e-04\n",
      "Epoch 41/50\n",
      "295/300 [============================>.] - ETA: 0s - loss: 0.0480 - accuracy: 0.9825\n",
      "Epoch 00041: val_accuracy did not improve from 0.97292\n",
      "300/300 [==============================] - 2s 6ms/step - loss: 0.0484 - accuracy: 0.9824 - val_loss: 0.1292 - val_accuracy: 0.9671 - lr: 4.0473e-04\n",
      "Epoch 42/50\n",
      "298/300 [============================>.] - ETA: 0s - loss: 0.0493 - accuracy: 0.9825\n",
      "Epoch 00042: val_accuracy did not improve from 0.97292\n",
      "300/300 [==============================] - 2s 6ms/step - loss: 0.0491 - accuracy: 0.9826 - val_loss: 0.1210 - val_accuracy: 0.9712 - lr: 4.0068e-04\n",
      "Epoch 43/50\n",
      "299/300 [============================>.] - ETA: 0s - loss: 0.0468 - accuracy: 0.9839\n",
      "Epoch 00043: val_accuracy improved from 0.97292 to 0.97625, saving model to best_model.h5\n",
      "300/300 [==============================] - 2s 6ms/step - loss: 0.0468 - accuracy: 0.9840 - val_loss: 0.1040 - val_accuracy: 0.9762 - lr: 3.9668e-04\n",
      "Epoch 44/50\n",
      "299/300 [============================>.] - ETA: 0s - loss: 0.0466 - accuracy: 0.9843\n",
      "Epoch 00044: val_accuracy did not improve from 0.97625\n",
      "300/300 [==============================] - 2s 6ms/step - loss: 0.0473 - accuracy: 0.9842 - val_loss: 0.1229 - val_accuracy: 0.9721 - lr: 3.9271e-04\n",
      "Epoch 45/50\n",
      "298/300 [============================>.] - ETA: 0s - loss: 0.0431 - accuracy: 0.9854\n",
      "Epoch 00045: val_accuracy did not improve from 0.97625\n",
      "300/300 [==============================] - 2s 6ms/step - loss: 0.0432 - accuracy: 0.9853 - val_loss: 0.1291 - val_accuracy: 0.9721 - lr: 3.8878e-04\n",
      "Epoch 46/50\n",
      "295/300 [============================>.] - ETA: 0s - loss: 0.0478 - accuracy: 0.9845\n",
      "Epoch 00046: val_accuracy did not improve from 0.97625\n",
      "300/300 [==============================] - 2s 6ms/step - loss: 0.0480 - accuracy: 0.9845 - val_loss: 0.1173 - val_accuracy: 0.9762 - lr: 3.8490e-04\n",
      "Epoch 47/50\n",
      "297/300 [============================>.] - ETA: 0s - loss: 0.0439 - accuracy: 0.9850\n",
      "Epoch 00047: val_accuracy did not improve from 0.97625\n",
      "300/300 [==============================] - 2s 6ms/step - loss: 0.0442 - accuracy: 0.9850 - val_loss: 0.1146 - val_accuracy: 0.9750 - lr: 3.8105e-04\n",
      "Epoch 48/50\n",
      "298/300 [============================>.] - ETA: 0s - loss: 0.0395 - accuracy: 0.9842\n",
      "Epoch 00048: val_accuracy did not improve from 0.97625\n",
      "300/300 [==============================] - 2s 6ms/step - loss: 0.0393 - accuracy: 0.9843 - val_loss: 0.1216 - val_accuracy: 0.9758 - lr: 3.7724e-04\n",
      "Epoch 49/50\n",
      "294/300 [============================>.] - ETA: 0s - loss: 0.0399 - accuracy: 0.9869\n",
      "Epoch 00049: val_accuracy did not improve from 0.97625\n",
      "300/300 [==============================] - 2s 6ms/step - loss: 0.0394 - accuracy: 0.9872 - val_loss: 0.1048 - val_accuracy: 0.9758 - lr: 3.7346e-04\n",
      "Epoch 50/50\n",
      "299/300 [============================>.] - ETA: 0s - loss: 0.0391 - accuracy: 0.9867\n",
      "Epoch 00050: val_accuracy did not improve from 0.97625\n",
      "300/300 [==============================] - 2s 8ms/step - loss: 0.0391 - accuracy: 0.9867 - val_loss: 0.1309 - val_accuracy: 0.9754 - lr: 3.6973e-04\n"
     ]
    }
   ],
   "source": [
    "train_model  = model.fit(X_train, y_train,\n",
    "                  batch_size=BATCH_SIZE,\n",
    "                  epochs=NO_EPOCHS,\n",
    "                  verbose=1,\n",
    "                  validation_data=(X_val, y_val),\n",
    "                  callbacks=[earlystopper, checkpointer, annealer])"
   ]
  },
  {
   "cell_type": "markdown",
   "execution_count": null,
   "metadata": {
    "_uuid": "5837b3e9cb131fab2c58f4b9de92f147f48b59ae",
    "papermill": {
     "duration": 0.105375,
     "end_time": "2020-08-18T08:45:25.695830",
     "exception": false,
     "start_time": "2020-08-18T08:45:25.590455",
     "status": "completed"
    },
    "tags": []
   },
   "source": [
    "<a href=\"#0\"><font size=\"1\">Go to top</font></a>  \n",
    "\n",
    "\n",
    "## <a id='42'>Model evaluation</a> \n",
    "\n",
    "\n",
    "Let's start by plotting the loss error for the train and validation set. \n",
    "We define a function to visualize these values."
   ]
  },
  {
   "cell_type": "code",
   "execution_count": 26,
   "metadata": {
    "_kg_hide-input": true,
    "_uuid": "a87e3beea44a87a806893b798a38d26904d10718",
    "execution": {
     "iopub.execute_input": "2020-08-18T08:45:25.921795Z",
     "iopub.status.busy": "2020-08-18T08:45:25.920753Z",
     "iopub.status.idle": "2020-08-18T08:45:26.834082Z",
     "shell.execute_reply": "2020-08-18T08:45:26.834626Z"
    },
    "papermill": {
     "duration": 1.033546,
     "end_time": "2020-08-18T08:45:26.834779",
     "exception": false,
     "start_time": "2020-08-18T08:45:25.801233",
     "status": "completed"
    },
    "tags": []
   },
   "outputs": [
    {
     "data": {
      "application/vnd.plotly.v1+json": {
       "config": {
        "linkText": "Export to plot.ly",
        "plotlyServerURL": "https://plot.ly",
        "showLink": false
       },
       "data": [
        {
         "marker": {
          "color": "Green"
         },
         "mode": "markers+lines",
         "name": "Training accuracy",
         "text": [
          "1",
          "2",
          "3",
          "4",
          "5",
          "6",
          "7",
          "8",
          "9",
          "10",
          "11",
          "12",
          "13",
          "14",
          "15",
          "16",
          "17",
          "18",
          "19",
          "20",
          "21",
          "22",
          "23",
          "24",
          "25",
          "26",
          "27",
          "28",
          "29",
          "30",
          "31",
          "32",
          "33",
          "34",
          "35",
          "36",
          "37",
          "38",
          "39",
          "40",
          "41",
          "42",
          "43",
          "44",
          "45",
          "46",
          "47",
          "48",
          "49",
          "50"
         ],
         "type": "scatter",
         "x": [
          1,
          2,
          3,
          4,
          5,
          6,
          7,
          8,
          9,
          10,
          11,
          12,
          13,
          14,
          15,
          16,
          17,
          18,
          19,
          20,
          21,
          22,
          23,
          24,
          25,
          26,
          27,
          28,
          29,
          30,
          31,
          32,
          33,
          34,
          35,
          36,
          37,
          38,
          39,
          40,
          41,
          42,
          43,
          44,
          45,
          46,
          47,
          48,
          49,
          50
         ],
         "xaxis": "x",
         "y": [
          0.4609375,
          0.7323958277702332,
          0.7904166579246521,
          0.8380208611488342,
          0.872083306312561,
          0.885729193687439,
          0.9021875262260437,
          0.9118750095367432,
          0.9223958253860474,
          0.9308333396911621,
          0.9367708563804626,
          0.9453125,
          0.9449999928474426,
          0.949999988079071,
          0.9518749713897705,
          0.9568750262260437,
          0.9606249928474426,
          0.9593750238418579,
          0.9646875262260437,
          0.964270830154419,
          0.9647916555404663,
          0.9664583206176758,
          0.9704166650772095,
          0.9711458086967468,
          0.9737499952316284,
          0.9714583158493042,
          0.9723958373069763,
          0.9761458039283752,
          0.973229169845581,
          0.9766666889190674,
          0.9776041507720947,
          0.9781249761581421,
          0.9805208444595337,
          0.979895830154419,
          0.9817708134651184,
          0.9805208444595337,
          0.9823958277702332,
          0.9818750023841858,
          0.9825000166893005,
          0.9829166531562805,
          0.9823958277702332,
          0.9826041460037231,
          0.9839583039283752,
          0.98416668176651,
          0.9853125214576721,
          0.9844791889190674,
          0.9850000143051147,
          0.9842708110809326,
          0.9871875047683716,
          0.9866666793823242
         ],
         "yaxis": "y"
        },
        {
         "marker": {
          "color": "Red"
         },
         "mode": "markers+lines",
         "name": "Validation accuracy",
         "text": [
          "1",
          "2",
          "3",
          "4",
          "5",
          "6",
          "7",
          "8",
          "9",
          "10",
          "11",
          "12",
          "13",
          "14",
          "15",
          "16",
          "17",
          "18",
          "19",
          "20",
          "21",
          "22",
          "23",
          "24",
          "25",
          "26",
          "27",
          "28",
          "29",
          "30",
          "31",
          "32",
          "33",
          "34",
          "35",
          "36",
          "37",
          "38",
          "39",
          "40",
          "41",
          "42",
          "43",
          "44",
          "45",
          "46",
          "47",
          "48",
          "49",
          "50"
         ],
         "type": "scatter",
         "x": [
          1,
          2,
          3,
          4,
          5,
          6,
          7,
          8,
          9,
          10,
          11,
          12,
          13,
          14,
          15,
          16,
          17,
          18,
          19,
          20,
          21,
          22,
          23,
          24,
          25,
          26,
          27,
          28,
          29,
          30,
          31,
          32,
          33,
          34,
          35,
          36,
          37,
          38,
          39,
          40,
          41,
          42,
          43,
          44,
          45,
          46,
          47,
          48,
          49,
          50
         ],
         "xaxis": "x",
         "y": [
          0.690416693687439,
          0.7850000262260437,
          0.8266666531562805,
          0.8754166960716248,
          0.8824999928474426,
          0.9058333039283752,
          0.9133333563804626,
          0.9262499809265137,
          0.9329166412353516,
          0.9391666650772095,
          0.9395833611488342,
          0.9479166865348816,
          0.9433333277702332,
          0.9441666603088379,
          0.9445833563804626,
          0.9512500166893005,
          0.956250011920929,
          0.9512500166893005,
          0.9591666460037231,
          0.9579166769981384,
          0.9570833444595337,
          0.96875,
          0.965833306312561,
          0.9608333110809326,
          0.9599999785423279,
          0.9683333039283752,
          0.9691666960716248,
          0.9620833396911621,
          0.9708333611488342,
          0.9679166674613953,
          0.9679166674613953,
          0.972083330154419,
          0.9691666960716248,
          0.9616666436195374,
          0.971666693687439,
          0.9708333611488342,
          0.9708333611488342,
          0.9708333611488342,
          0.9729166626930237,
          0.9695833325386047,
          0.9670833349227905,
          0.9712499976158142,
          0.9762499928474426,
          0.972083330154419,
          0.972083330154419,
          0.9762499928474426,
          0.9750000238418579,
          0.9758333563804626,
          0.9758333563804626,
          0.9754166603088379
         ],
         "yaxis": "y"
        },
        {
         "marker": {
          "color": "Blue"
         },
         "mode": "markers+lines",
         "name": "Training loss",
         "text": [
          "1",
          "2",
          "3",
          "4",
          "5",
          "6",
          "7",
          "8",
          "9",
          "10",
          "11",
          "12",
          "13",
          "14",
          "15",
          "16",
          "17",
          "18",
          "19",
          "20",
          "21",
          "22",
          "23",
          "24",
          "25",
          "26",
          "27",
          "28",
          "29",
          "30",
          "31",
          "32",
          "33",
          "34",
          "35",
          "36",
          "37",
          "38",
          "39",
          "40",
          "41",
          "42",
          "43",
          "44",
          "45",
          "46",
          "47",
          "48",
          "49",
          "50"
         ],
         "type": "scatter",
         "x": [
          1,
          2,
          3,
          4,
          5,
          6,
          7,
          8,
          9,
          10,
          11,
          12,
          13,
          14,
          15,
          16,
          17,
          18,
          19,
          20,
          21,
          22,
          23,
          24,
          25,
          26,
          27,
          28,
          29,
          30,
          31,
          32,
          33,
          34,
          35,
          36,
          37,
          38,
          39,
          40,
          41,
          42,
          43,
          44,
          45,
          46,
          47,
          48,
          49,
          50
         ],
         "xaxis": "x2",
         "y": [
          1.7596265077590942,
          0.8452372550964355,
          0.6317907571792603,
          0.4969521462917328,
          0.3911709487438202,
          0.3344530165195465,
          0.28866812586784363,
          0.2664562165737152,
          0.22717991471290588,
          0.2076290100812912,
          0.18222545087337494,
          0.1639474779367447,
          0.1531675159931183,
          0.14458006620407104,
          0.13860948383808136,
          0.1303311437368393,
          0.12046263366937637,
          0.12255605310201645,
          0.10660308599472046,
          0.10313757508993149,
          0.09894779324531555,
          0.09992235153913498,
          0.08700696378946304,
          0.08314197510480881,
          0.08115635812282562,
          0.08269406855106354,
          0.0823855921626091,
          0.07502752542495728,
          0.07478895038366318,
          0.06552121788263321,
          0.05888059735298157,
          0.06494192779064178,
          0.056921716779470444,
          0.062474824488162994,
          0.053279437124729156,
          0.05758251994848251,
          0.05558045208454132,
          0.053541895002126694,
          0.05201392620801926,
          0.05203933268785477,
          0.04839130863547325,
          0.04911460727453232,
          0.04683491587638855,
          0.04730546474456787,
          0.04319467395544052,
          0.04799273610115051,
          0.044187117367982864,
          0.03931684046983719,
          0.03939536213874817,
          0.039053626358509064
         ],
         "yaxis": "y2"
        },
        {
         "marker": {
          "color": "Magenta"
         },
         "mode": "markers+lines",
         "name": "Validation loss",
         "text": [
          "1",
          "2",
          "3",
          "4",
          "5",
          "6",
          "7",
          "8",
          "9",
          "10",
          "11",
          "12",
          "13",
          "14",
          "15",
          "16",
          "17",
          "18",
          "19",
          "20",
          "21",
          "22",
          "23",
          "24",
          "25",
          "26",
          "27",
          "28",
          "29",
          "30",
          "31",
          "32",
          "33",
          "34",
          "35",
          "36",
          "37",
          "38",
          "39",
          "40",
          "41",
          "42",
          "43",
          "44",
          "45",
          "46",
          "47",
          "48",
          "49",
          "50"
         ],
         "type": "scatter",
         "x": [
          1,
          2,
          3,
          4,
          5,
          6,
          7,
          8,
          9,
          10,
          11,
          12,
          13,
          14,
          15,
          16,
          17,
          18,
          19,
          20,
          21,
          22,
          23,
          24,
          25,
          26,
          27,
          28,
          29,
          30,
          31,
          32,
          33,
          34,
          35,
          36,
          37,
          38,
          39,
          40,
          41,
          42,
          43,
          44,
          45,
          46,
          47,
          48,
          49,
          50
         ],
         "xaxis": "x2",
         "y": [
          1.0113916397094727,
          0.6448009014129639,
          0.529439389705658,
          0.4100320041179657,
          0.36284351348876953,
          0.30347463488578796,
          0.266552597284317,
          0.2554638981819153,
          0.21412810683250427,
          0.18967902660369873,
          0.20283177495002747,
          0.17428186535835266,
          0.18690218031406403,
          0.20290662348270416,
          0.1860022246837616,
          0.1717582643032074,
          0.1553557962179184,
          0.16986800730228424,
          0.1446632444858551,
          0.14943517744541168,
          0.1626463383436203,
          0.13608534634113312,
          0.13153687119483948,
          0.14644011855125427,
          0.14791733026504517,
          0.12466643005609512,
          0.12059324979782104,
          0.13889168202877045,
          0.11075282841920853,
          0.11900316923856735,
          0.12243995815515518,
          0.11642444878816605,
          0.12483996152877808,
          0.13595108687877655,
          0.1132633313536644,
          0.11045345664024353,
          0.1145126223564148,
          0.1091490313410759,
          0.11104193329811096,
          0.11680155247449875,
          0.12917660176753998,
          0.12101583182811737,
          0.1039855033159256,
          0.12289457023143768,
          0.12913089990615845,
          0.11725635826587677,
          0.1146293506026268,
          0.12157323211431503,
          0.10480096191167831,
          0.13089323043823242
         ],
         "yaxis": "y2"
        }
       ],
       "layout": {
        "annotations": [
         {
          "font": {
           "size": 16
          },
          "showarrow": false,
          "text": "Training and validation accuracy",
          "x": 0.225,
          "xanchor": "center",
          "xref": "paper",
          "y": 1.0,
          "yanchor": "bottom",
          "yref": "paper"
         },
         {
          "font": {
           "size": 16
          },
          "showarrow": false,
          "text": "Training and validation loss",
          "x": 0.775,
          "xanchor": "center",
          "xref": "paper",
          "y": 1.0,
          "yanchor": "bottom",
          "yref": "paper"
         }
        ],
        "template": {
         "data": {
          "bar": [
           {
            "error_x": {
             "color": "#2a3f5f"
            },
            "error_y": {
             "color": "#2a3f5f"
            },
            "marker": {
             "line": {
              "color": "#E5ECF6",
              "width": 0.5
             }
            },
            "type": "bar"
           }
          ],
          "barpolar": [
           {
            "marker": {
             "line": {
              "color": "#E5ECF6",
              "width": 0.5
             }
            },
            "type": "barpolar"
           }
          ],
          "carpet": [
           {
            "aaxis": {
             "endlinecolor": "#2a3f5f",
             "gridcolor": "white",
             "linecolor": "white",
             "minorgridcolor": "white",
             "startlinecolor": "#2a3f5f"
            },
            "baxis": {
             "endlinecolor": "#2a3f5f",
             "gridcolor": "white",
             "linecolor": "white",
             "minorgridcolor": "white",
             "startlinecolor": "#2a3f5f"
            },
            "type": "carpet"
           }
          ],
          "choropleth": [
           {
            "colorbar": {
             "outlinewidth": 0,
             "ticks": ""
            },
            "type": "choropleth"
           }
          ],
          "contour": [
           {
            "colorbar": {
             "outlinewidth": 0,
             "ticks": ""
            },
            "colorscale": [
             [
              0.0,
              "#0d0887"
             ],
             [
              0.1111111111111111,
              "#46039f"
             ],
             [
              0.2222222222222222,
              "#7201a8"
             ],
             [
              0.3333333333333333,
              "#9c179e"
             ],
             [
              0.4444444444444444,
              "#bd3786"
             ],
             [
              0.5555555555555556,
              "#d8576b"
             ],
             [
              0.6666666666666666,
              "#ed7953"
             ],
             [
              0.7777777777777778,
              "#fb9f3a"
             ],
             [
              0.8888888888888888,
              "#fdca26"
             ],
             [
              1.0,
              "#f0f921"
             ]
            ],
            "type": "contour"
           }
          ],
          "contourcarpet": [
           {
            "colorbar": {
             "outlinewidth": 0,
             "ticks": ""
            },
            "type": "contourcarpet"
           }
          ],
          "heatmap": [
           {
            "colorbar": {
             "outlinewidth": 0,
             "ticks": ""
            },
            "colorscale": [
             [
              0.0,
              "#0d0887"
             ],
             [
              0.1111111111111111,
              "#46039f"
             ],
             [
              0.2222222222222222,
              "#7201a8"
             ],
             [
              0.3333333333333333,
              "#9c179e"
             ],
             [
              0.4444444444444444,
              "#bd3786"
             ],
             [
              0.5555555555555556,
              "#d8576b"
             ],
             [
              0.6666666666666666,
              "#ed7953"
             ],
             [
              0.7777777777777778,
              "#fb9f3a"
             ],
             [
              0.8888888888888888,
              "#fdca26"
             ],
             [
              1.0,
              "#f0f921"
             ]
            ],
            "type": "heatmap"
           }
          ],
          "heatmapgl": [
           {
            "colorbar": {
             "outlinewidth": 0,
             "ticks": ""
            },
            "colorscale": [
             [
              0.0,
              "#0d0887"
             ],
             [
              0.1111111111111111,
              "#46039f"
             ],
             [
              0.2222222222222222,
              "#7201a8"
             ],
             [
              0.3333333333333333,
              "#9c179e"
             ],
             [
              0.4444444444444444,
              "#bd3786"
             ],
             [
              0.5555555555555556,
              "#d8576b"
             ],
             [
              0.6666666666666666,
              "#ed7953"
             ],
             [
              0.7777777777777778,
              "#fb9f3a"
             ],
             [
              0.8888888888888888,
              "#fdca26"
             ],
             [
              1.0,
              "#f0f921"
             ]
            ],
            "type": "heatmapgl"
           }
          ],
          "histogram": [
           {
            "marker": {
             "colorbar": {
              "outlinewidth": 0,
              "ticks": ""
             }
            },
            "type": "histogram"
           }
          ],
          "histogram2d": [
           {
            "colorbar": {
             "outlinewidth": 0,
             "ticks": ""
            },
            "colorscale": [
             [
              0.0,
              "#0d0887"
             ],
             [
              0.1111111111111111,
              "#46039f"
             ],
             [
              0.2222222222222222,
              "#7201a8"
             ],
             [
              0.3333333333333333,
              "#9c179e"
             ],
             [
              0.4444444444444444,
              "#bd3786"
             ],
             [
              0.5555555555555556,
              "#d8576b"
             ],
             [
              0.6666666666666666,
              "#ed7953"
             ],
             [
              0.7777777777777778,
              "#fb9f3a"
             ],
             [
              0.8888888888888888,
              "#fdca26"
             ],
             [
              1.0,
              "#f0f921"
             ]
            ],
            "type": "histogram2d"
           }
          ],
          "histogram2dcontour": [
           {
            "colorbar": {
             "outlinewidth": 0,
             "ticks": ""
            },
            "colorscale": [
             [
              0.0,
              "#0d0887"
             ],
             [
              0.1111111111111111,
              "#46039f"
             ],
             [
              0.2222222222222222,
              "#7201a8"
             ],
             [
              0.3333333333333333,
              "#9c179e"
             ],
             [
              0.4444444444444444,
              "#bd3786"
             ],
             [
              0.5555555555555556,
              "#d8576b"
             ],
             [
              0.6666666666666666,
              "#ed7953"
             ],
             [
              0.7777777777777778,
              "#fb9f3a"
             ],
             [
              0.8888888888888888,
              "#fdca26"
             ],
             [
              1.0,
              "#f0f921"
             ]
            ],
            "type": "histogram2dcontour"
           }
          ],
          "mesh3d": [
           {
            "colorbar": {
             "outlinewidth": 0,
             "ticks": ""
            },
            "type": "mesh3d"
           }
          ],
          "parcoords": [
           {
            "line": {
             "colorbar": {
              "outlinewidth": 0,
              "ticks": ""
             }
            },
            "type": "parcoords"
           }
          ],
          "pie": [
           {
            "automargin": true,
            "type": "pie"
           }
          ],
          "scatter": [
           {
            "marker": {
             "colorbar": {
              "outlinewidth": 0,
              "ticks": ""
             }
            },
            "type": "scatter"
           }
          ],
          "scatter3d": [
           {
            "line": {
             "colorbar": {
              "outlinewidth": 0,
              "ticks": ""
             }
            },
            "marker": {
             "colorbar": {
              "outlinewidth": 0,
              "ticks": ""
             }
            },
            "type": "scatter3d"
           }
          ],
          "scattercarpet": [
           {
            "marker": {
             "colorbar": {
              "outlinewidth": 0,
              "ticks": ""
             }
            },
            "type": "scattercarpet"
           }
          ],
          "scattergeo": [
           {
            "marker": {
             "colorbar": {
              "outlinewidth": 0,
              "ticks": ""
             }
            },
            "type": "scattergeo"
           }
          ],
          "scattergl": [
           {
            "marker": {
             "colorbar": {
              "outlinewidth": 0,
              "ticks": ""
             }
            },
            "type": "scattergl"
           }
          ],
          "scattermapbox": [
           {
            "marker": {
             "colorbar": {
              "outlinewidth": 0,
              "ticks": ""
             }
            },
            "type": "scattermapbox"
           }
          ],
          "scatterpolar": [
           {
            "marker": {
             "colorbar": {
              "outlinewidth": 0,
              "ticks": ""
             }
            },
            "type": "scatterpolar"
           }
          ],
          "scatterpolargl": [
           {
            "marker": {
             "colorbar": {
              "outlinewidth": 0,
              "ticks": ""
             }
            },
            "type": "scatterpolargl"
           }
          ],
          "scatterternary": [
           {
            "marker": {
             "colorbar": {
              "outlinewidth": 0,
              "ticks": ""
             }
            },
            "type": "scatterternary"
           }
          ],
          "surface": [
           {
            "colorbar": {
             "outlinewidth": 0,
             "ticks": ""
            },
            "colorscale": [
             [
              0.0,
              "#0d0887"
             ],
             [
              0.1111111111111111,
              "#46039f"
             ],
             [
              0.2222222222222222,
              "#7201a8"
             ],
             [
              0.3333333333333333,
              "#9c179e"
             ],
             [
              0.4444444444444444,
              "#bd3786"
             ],
             [
              0.5555555555555556,
              "#d8576b"
             ],
             [
              0.6666666666666666,
              "#ed7953"
             ],
             [
              0.7777777777777778,
              "#fb9f3a"
             ],
             [
              0.8888888888888888,
              "#fdca26"
             ],
             [
              1.0,
              "#f0f921"
             ]
            ],
            "type": "surface"
           }
          ],
          "table": [
           {
            "cells": {
             "fill": {
              "color": "#EBF0F8"
             },
             "line": {
              "color": "white"
             }
            },
            "header": {
             "fill": {
              "color": "#C8D4E3"
             },
             "line": {
              "color": "white"
             }
            },
            "type": "table"
           }
          ]
         },
         "layout": {
          "annotationdefaults": {
           "arrowcolor": "#2a3f5f",
           "arrowhead": 0,
           "arrowwidth": 1
          },
          "coloraxis": {
           "colorbar": {
            "outlinewidth": 0,
            "ticks": ""
           }
          },
          "colorscale": {
           "diverging": [
            [
             0,
             "#8e0152"
            ],
            [
             0.1,
             "#c51b7d"
            ],
            [
             0.2,
             "#de77ae"
            ],
            [
             0.3,
             "#f1b6da"
            ],
            [
             0.4,
             "#fde0ef"
            ],
            [
             0.5,
             "#f7f7f7"
            ],
            [
             0.6,
             "#e6f5d0"
            ],
            [
             0.7,
             "#b8e186"
            ],
            [
             0.8,
             "#7fbc41"
            ],
            [
             0.9,
             "#4d9221"
            ],
            [
             1,
             "#276419"
            ]
           ],
           "sequential": [
            [
             0.0,
             "#0d0887"
            ],
            [
             0.1111111111111111,
             "#46039f"
            ],
            [
             0.2222222222222222,
             "#7201a8"
            ],
            [
             0.3333333333333333,
             "#9c179e"
            ],
            [
             0.4444444444444444,
             "#bd3786"
            ],
            [
             0.5555555555555556,
             "#d8576b"
            ],
            [
             0.6666666666666666,
             "#ed7953"
            ],
            [
             0.7777777777777778,
             "#fb9f3a"
            ],
            [
             0.8888888888888888,
             "#fdca26"
            ],
            [
             1.0,
             "#f0f921"
            ]
           ],
           "sequentialminus": [
            [
             0.0,
             "#0d0887"
            ],
            [
             0.1111111111111111,
             "#46039f"
            ],
            [
             0.2222222222222222,
             "#7201a8"
            ],
            [
             0.3333333333333333,
             "#9c179e"
            ],
            [
             0.4444444444444444,
             "#bd3786"
            ],
            [
             0.5555555555555556,
             "#d8576b"
            ],
            [
             0.6666666666666666,
             "#ed7953"
            ],
            [
             0.7777777777777778,
             "#fb9f3a"
            ],
            [
             0.8888888888888888,
             "#fdca26"
            ],
            [
             1.0,
             "#f0f921"
            ]
           ]
          },
          "colorway": [
           "#636efa",
           "#EF553B",
           "#00cc96",
           "#ab63fa",
           "#FFA15A",
           "#19d3f3",
           "#FF6692",
           "#B6E880",
           "#FF97FF",
           "#FECB52"
          ],
          "font": {
           "color": "#2a3f5f"
          },
          "geo": {
           "bgcolor": "white",
           "lakecolor": "white",
           "landcolor": "#E5ECF6",
           "showlakes": true,
           "showland": true,
           "subunitcolor": "white"
          },
          "hoverlabel": {
           "align": "left"
          },
          "hovermode": "closest",
          "mapbox": {
           "style": "light"
          },
          "paper_bgcolor": "white",
          "plot_bgcolor": "#E5ECF6",
          "polar": {
           "angularaxis": {
            "gridcolor": "white",
            "linecolor": "white",
            "ticks": ""
           },
           "bgcolor": "#E5ECF6",
           "radialaxis": {
            "gridcolor": "white",
            "linecolor": "white",
            "ticks": ""
           }
          },
          "scene": {
           "xaxis": {
            "backgroundcolor": "#E5ECF6",
            "gridcolor": "white",
            "gridwidth": 2,
            "linecolor": "white",
            "showbackground": true,
            "ticks": "",
            "zerolinecolor": "white"
           },
           "yaxis": {
            "backgroundcolor": "#E5ECF6",
            "gridcolor": "white",
            "gridwidth": 2,
            "linecolor": "white",
            "showbackground": true,
            "ticks": "",
            "zerolinecolor": "white"
           },
           "zaxis": {
            "backgroundcolor": "#E5ECF6",
            "gridcolor": "white",
            "gridwidth": 2,
            "linecolor": "white",
            "showbackground": true,
            "ticks": "",
            "zerolinecolor": "white"
           }
          },
          "shapedefaults": {
           "line": {
            "color": "#2a3f5f"
           }
          },
          "ternary": {
           "aaxis": {
            "gridcolor": "white",
            "linecolor": "white",
            "ticks": ""
           },
           "baxis": {
            "gridcolor": "white",
            "linecolor": "white",
            "ticks": ""
           },
           "bgcolor": "#E5ECF6",
           "caxis": {
            "gridcolor": "white",
            "linecolor": "white",
            "ticks": ""
           }
          },
          "title": {
           "x": 0.05
          },
          "xaxis": {
           "automargin": true,
           "gridcolor": "white",
           "linecolor": "white",
           "ticks": "",
           "title": {
            "standoff": 15
           },
           "zerolinecolor": "white",
           "zerolinewidth": 2
          },
          "yaxis": {
           "automargin": true,
           "gridcolor": "white",
           "linecolor": "white",
           "ticks": "",
           "title": {
            "standoff": 15
           },
           "zerolinecolor": "white",
           "zerolinewidth": 2
          }
         }
        },
        "xaxis": {
         "anchor": "y",
         "domain": [
          0.0,
          0.45
         ],
         "title": {
          "text": "Epoch"
         }
        },
        "xaxis2": {
         "anchor": "y2",
         "domain": [
          0.55,
          1.0
         ],
         "title": {
          "text": "Epoch"
         }
        },
        "yaxis": {
         "anchor": "x",
         "domain": [
          0.0,
          1.0
         ],
         "range": [
          0,
          1
         ],
         "title": {
          "text": "Accuracy"
         }
        },
        "yaxis2": {
         "anchor": "x2",
         "domain": [
          0.0,
          1.0
         ],
         "range": [
          0,
          1
         ],
         "title": {
          "text": "Loss"
         }
        }
       }
      },
      "text/html": [
       "<div>\n",
       "        \n",
       "        \n",
       "            <div id=\"b5c88a17-36b1-411c-9b08-60685d4e3e9c\" class=\"plotly-graph-div\" style=\"height:525px; width:100%;\"></div>\n",
       "            <script type=\"text/javascript\">\n",
       "                require([\"plotly\"], function(Plotly) {\n",
       "                    window.PLOTLYENV=window.PLOTLYENV || {};\n",
       "                    \n",
       "                if (document.getElementById(\"b5c88a17-36b1-411c-9b08-60685d4e3e9c\")) {\n",
       "                    Plotly.newPlot(\n",
       "                        'b5c88a17-36b1-411c-9b08-60685d4e3e9c',\n",
       "                        [{\"marker\": {\"color\": \"Green\"}, \"mode\": \"markers+lines\", \"name\": \"Training accuracy\", \"text\": [\"1\", \"2\", \"3\", \"4\", \"5\", \"6\", \"7\", \"8\", \"9\", \"10\", \"11\", \"12\", \"13\", \"14\", \"15\", \"16\", \"17\", \"18\", \"19\", \"20\", \"21\", \"22\", \"23\", \"24\", \"25\", \"26\", \"27\", \"28\", \"29\", \"30\", \"31\", \"32\", \"33\", \"34\", \"35\", \"36\", \"37\", \"38\", \"39\", \"40\", \"41\", \"42\", \"43\", \"44\", \"45\", \"46\", \"47\", \"48\", \"49\", \"50\"], \"type\": \"scatter\", \"x\": [1, 2, 3, 4, 5, 6, 7, 8, 9, 10, 11, 12, 13, 14, 15, 16, 17, 18, 19, 20, 21, 22, 23, 24, 25, 26, 27, 28, 29, 30, 31, 32, 33, 34, 35, 36, 37, 38, 39, 40, 41, 42, 43, 44, 45, 46, 47, 48, 49, 50], \"xaxis\": \"x\", \"y\": [0.4609375, 0.7323958277702332, 0.7904166579246521, 0.8380208611488342, 0.872083306312561, 0.885729193687439, 0.9021875262260437, 0.9118750095367432, 0.9223958253860474, 0.9308333396911621, 0.9367708563804626, 0.9453125, 0.9449999928474426, 0.949999988079071, 0.9518749713897705, 0.9568750262260437, 0.9606249928474426, 0.9593750238418579, 0.9646875262260437, 0.964270830154419, 0.9647916555404663, 0.9664583206176758, 0.9704166650772095, 0.9711458086967468, 0.9737499952316284, 0.9714583158493042, 0.9723958373069763, 0.9761458039283752, 0.973229169845581, 0.9766666889190674, 0.9776041507720947, 0.9781249761581421, 0.9805208444595337, 0.979895830154419, 0.9817708134651184, 0.9805208444595337, 0.9823958277702332, 0.9818750023841858, 0.9825000166893005, 0.9829166531562805, 0.9823958277702332, 0.9826041460037231, 0.9839583039283752, 0.98416668176651, 0.9853125214576721, 0.9844791889190674, 0.9850000143051147, 0.9842708110809326, 0.9871875047683716, 0.9866666793823242], \"yaxis\": \"y\"}, {\"marker\": {\"color\": \"Red\"}, \"mode\": \"markers+lines\", \"name\": \"Validation accuracy\", \"text\": [\"1\", \"2\", \"3\", \"4\", \"5\", \"6\", \"7\", \"8\", \"9\", \"10\", \"11\", \"12\", \"13\", \"14\", \"15\", \"16\", \"17\", \"18\", \"19\", \"20\", \"21\", \"22\", \"23\", \"24\", \"25\", \"26\", \"27\", \"28\", \"29\", \"30\", \"31\", \"32\", \"33\", \"34\", \"35\", \"36\", \"37\", \"38\", \"39\", \"40\", \"41\", \"42\", \"43\", \"44\", \"45\", \"46\", \"47\", \"48\", \"49\", \"50\"], \"type\": \"scatter\", \"x\": [1, 2, 3, 4, 5, 6, 7, 8, 9, 10, 11, 12, 13, 14, 15, 16, 17, 18, 19, 20, 21, 22, 23, 24, 25, 26, 27, 28, 29, 30, 31, 32, 33, 34, 35, 36, 37, 38, 39, 40, 41, 42, 43, 44, 45, 46, 47, 48, 49, 50], \"xaxis\": \"x\", \"y\": [0.690416693687439, 0.7850000262260437, 0.8266666531562805, 0.8754166960716248, 0.8824999928474426, 0.9058333039283752, 0.9133333563804626, 0.9262499809265137, 0.9329166412353516, 0.9391666650772095, 0.9395833611488342, 0.9479166865348816, 0.9433333277702332, 0.9441666603088379, 0.9445833563804626, 0.9512500166893005, 0.956250011920929, 0.9512500166893005, 0.9591666460037231, 0.9579166769981384, 0.9570833444595337, 0.96875, 0.965833306312561, 0.9608333110809326, 0.9599999785423279, 0.9683333039283752, 0.9691666960716248, 0.9620833396911621, 0.9708333611488342, 0.9679166674613953, 0.9679166674613953, 0.972083330154419, 0.9691666960716248, 0.9616666436195374, 0.971666693687439, 0.9708333611488342, 0.9708333611488342, 0.9708333611488342, 0.9729166626930237, 0.9695833325386047, 0.9670833349227905, 0.9712499976158142, 0.9762499928474426, 0.972083330154419, 0.972083330154419, 0.9762499928474426, 0.9750000238418579, 0.9758333563804626, 0.9758333563804626, 0.9754166603088379], \"yaxis\": \"y\"}, {\"marker\": {\"color\": \"Blue\"}, \"mode\": \"markers+lines\", \"name\": \"Training loss\", \"text\": [\"1\", \"2\", \"3\", \"4\", \"5\", \"6\", \"7\", \"8\", \"9\", \"10\", \"11\", \"12\", \"13\", \"14\", \"15\", \"16\", \"17\", \"18\", \"19\", \"20\", \"21\", \"22\", \"23\", \"24\", \"25\", \"26\", \"27\", \"28\", \"29\", \"30\", \"31\", \"32\", \"33\", \"34\", \"35\", \"36\", \"37\", \"38\", \"39\", \"40\", \"41\", \"42\", \"43\", \"44\", \"45\", \"46\", \"47\", \"48\", \"49\", \"50\"], \"type\": \"scatter\", \"x\": [1, 2, 3, 4, 5, 6, 7, 8, 9, 10, 11, 12, 13, 14, 15, 16, 17, 18, 19, 20, 21, 22, 23, 24, 25, 26, 27, 28, 29, 30, 31, 32, 33, 34, 35, 36, 37, 38, 39, 40, 41, 42, 43, 44, 45, 46, 47, 48, 49, 50], \"xaxis\": \"x2\", \"y\": [1.7596265077590942, 0.8452372550964355, 0.6317907571792603, 0.4969521462917328, 0.3911709487438202, 0.3344530165195465, 0.28866812586784363, 0.2664562165737152, 0.22717991471290588, 0.2076290100812912, 0.18222545087337494, 0.1639474779367447, 0.1531675159931183, 0.14458006620407104, 0.13860948383808136, 0.1303311437368393, 0.12046263366937637, 0.12255605310201645, 0.10660308599472046, 0.10313757508993149, 0.09894779324531555, 0.09992235153913498, 0.08700696378946304, 0.08314197510480881, 0.08115635812282562, 0.08269406855106354, 0.0823855921626091, 0.07502752542495728, 0.07478895038366318, 0.06552121788263321, 0.05888059735298157, 0.06494192779064178, 0.056921716779470444, 0.062474824488162994, 0.053279437124729156, 0.05758251994848251, 0.05558045208454132, 0.053541895002126694, 0.05201392620801926, 0.05203933268785477, 0.04839130863547325, 0.04911460727453232, 0.04683491587638855, 0.04730546474456787, 0.04319467395544052, 0.04799273610115051, 0.044187117367982864, 0.03931684046983719, 0.03939536213874817, 0.039053626358509064], \"yaxis\": \"y2\"}, {\"marker\": {\"color\": \"Magenta\"}, \"mode\": \"markers+lines\", \"name\": \"Validation loss\", \"text\": [\"1\", \"2\", \"3\", \"4\", \"5\", \"6\", \"7\", \"8\", \"9\", \"10\", \"11\", \"12\", \"13\", \"14\", \"15\", \"16\", \"17\", \"18\", \"19\", \"20\", \"21\", \"22\", \"23\", \"24\", \"25\", \"26\", \"27\", \"28\", \"29\", \"30\", \"31\", \"32\", \"33\", \"34\", \"35\", \"36\", \"37\", \"38\", \"39\", \"40\", \"41\", \"42\", \"43\", \"44\", \"45\", \"46\", \"47\", \"48\", \"49\", \"50\"], \"type\": \"scatter\", \"x\": [1, 2, 3, 4, 5, 6, 7, 8, 9, 10, 11, 12, 13, 14, 15, 16, 17, 18, 19, 20, 21, 22, 23, 24, 25, 26, 27, 28, 29, 30, 31, 32, 33, 34, 35, 36, 37, 38, 39, 40, 41, 42, 43, 44, 45, 46, 47, 48, 49, 50], \"xaxis\": \"x2\", \"y\": [1.0113916397094727, 0.6448009014129639, 0.529439389705658, 0.4100320041179657, 0.36284351348876953, 0.30347463488578796, 0.266552597284317, 0.2554638981819153, 0.21412810683250427, 0.18967902660369873, 0.20283177495002747, 0.17428186535835266, 0.18690218031406403, 0.20290662348270416, 0.1860022246837616, 0.1717582643032074, 0.1553557962179184, 0.16986800730228424, 0.1446632444858551, 0.14943517744541168, 0.1626463383436203, 0.13608534634113312, 0.13153687119483948, 0.14644011855125427, 0.14791733026504517, 0.12466643005609512, 0.12059324979782104, 0.13889168202877045, 0.11075282841920853, 0.11900316923856735, 0.12243995815515518, 0.11642444878816605, 0.12483996152877808, 0.13595108687877655, 0.1132633313536644, 0.11045345664024353, 0.1145126223564148, 0.1091490313410759, 0.11104193329811096, 0.11680155247449875, 0.12917660176753998, 0.12101583182811737, 0.1039855033159256, 0.12289457023143768, 0.12913089990615845, 0.11725635826587677, 0.1146293506026268, 0.12157323211431503, 0.10480096191167831, 0.13089323043823242], \"yaxis\": \"y2\"}],\n",
       "                        {\"annotations\": [{\"font\": {\"size\": 16}, \"showarrow\": false, \"text\": \"Training and validation accuracy\", \"x\": 0.225, \"xanchor\": \"center\", \"xref\": \"paper\", \"y\": 1.0, \"yanchor\": \"bottom\", \"yref\": \"paper\"}, {\"font\": {\"size\": 16}, \"showarrow\": false, \"text\": \"Training and validation loss\", \"x\": 0.775, \"xanchor\": \"center\", \"xref\": \"paper\", \"y\": 1.0, \"yanchor\": \"bottom\", \"yref\": \"paper\"}], \"template\": {\"data\": {\"bar\": [{\"error_x\": {\"color\": \"#2a3f5f\"}, \"error_y\": {\"color\": \"#2a3f5f\"}, \"marker\": {\"line\": {\"color\": \"#E5ECF6\", \"width\": 0.5}}, \"type\": \"bar\"}], \"barpolar\": [{\"marker\": {\"line\": {\"color\": \"#E5ECF6\", \"width\": 0.5}}, \"type\": \"barpolar\"}], \"carpet\": [{\"aaxis\": {\"endlinecolor\": \"#2a3f5f\", \"gridcolor\": \"white\", \"linecolor\": \"white\", \"minorgridcolor\": \"white\", \"startlinecolor\": \"#2a3f5f\"}, \"baxis\": {\"endlinecolor\": \"#2a3f5f\", \"gridcolor\": \"white\", \"linecolor\": \"white\", \"minorgridcolor\": \"white\", \"startlinecolor\": \"#2a3f5f\"}, \"type\": \"carpet\"}], \"choropleth\": [{\"colorbar\": {\"outlinewidth\": 0, \"ticks\": \"\"}, \"type\": \"choropleth\"}], \"contour\": [{\"colorbar\": {\"outlinewidth\": 0, \"ticks\": \"\"}, \"colorscale\": [[0.0, \"#0d0887\"], [0.1111111111111111, \"#46039f\"], [0.2222222222222222, \"#7201a8\"], [0.3333333333333333, \"#9c179e\"], [0.4444444444444444, \"#bd3786\"], [0.5555555555555556, \"#d8576b\"], [0.6666666666666666, \"#ed7953\"], [0.7777777777777778, \"#fb9f3a\"], [0.8888888888888888, \"#fdca26\"], [1.0, \"#f0f921\"]], \"type\": \"contour\"}], \"contourcarpet\": [{\"colorbar\": {\"outlinewidth\": 0, \"ticks\": \"\"}, \"type\": \"contourcarpet\"}], \"heatmap\": [{\"colorbar\": {\"outlinewidth\": 0, \"ticks\": \"\"}, \"colorscale\": [[0.0, \"#0d0887\"], [0.1111111111111111, \"#46039f\"], [0.2222222222222222, \"#7201a8\"], [0.3333333333333333, \"#9c179e\"], [0.4444444444444444, \"#bd3786\"], [0.5555555555555556, \"#d8576b\"], [0.6666666666666666, \"#ed7953\"], [0.7777777777777778, \"#fb9f3a\"], [0.8888888888888888, \"#fdca26\"], [1.0, \"#f0f921\"]], \"type\": \"heatmap\"}], \"heatmapgl\": [{\"colorbar\": {\"outlinewidth\": 0, \"ticks\": \"\"}, \"colorscale\": [[0.0, \"#0d0887\"], [0.1111111111111111, \"#46039f\"], [0.2222222222222222, \"#7201a8\"], [0.3333333333333333, \"#9c179e\"], [0.4444444444444444, \"#bd3786\"], [0.5555555555555556, \"#d8576b\"], [0.6666666666666666, \"#ed7953\"], [0.7777777777777778, \"#fb9f3a\"], [0.8888888888888888, \"#fdca26\"], [1.0, \"#f0f921\"]], \"type\": \"heatmapgl\"}], \"histogram\": [{\"marker\": {\"colorbar\": {\"outlinewidth\": 0, \"ticks\": \"\"}}, \"type\": \"histogram\"}], \"histogram2d\": [{\"colorbar\": {\"outlinewidth\": 0, \"ticks\": \"\"}, \"colorscale\": [[0.0, \"#0d0887\"], [0.1111111111111111, \"#46039f\"], [0.2222222222222222, \"#7201a8\"], [0.3333333333333333, \"#9c179e\"], [0.4444444444444444, \"#bd3786\"], [0.5555555555555556, \"#d8576b\"], [0.6666666666666666, \"#ed7953\"], [0.7777777777777778, \"#fb9f3a\"], [0.8888888888888888, \"#fdca26\"], [1.0, \"#f0f921\"]], \"type\": \"histogram2d\"}], \"histogram2dcontour\": [{\"colorbar\": {\"outlinewidth\": 0, \"ticks\": \"\"}, \"colorscale\": [[0.0, \"#0d0887\"], [0.1111111111111111, \"#46039f\"], [0.2222222222222222, \"#7201a8\"], [0.3333333333333333, \"#9c179e\"], [0.4444444444444444, \"#bd3786\"], [0.5555555555555556, \"#d8576b\"], [0.6666666666666666, \"#ed7953\"], [0.7777777777777778, \"#fb9f3a\"], [0.8888888888888888, \"#fdca26\"], [1.0, \"#f0f921\"]], \"type\": \"histogram2dcontour\"}], \"mesh3d\": [{\"colorbar\": {\"outlinewidth\": 0, \"ticks\": \"\"}, \"type\": \"mesh3d\"}], \"parcoords\": [{\"line\": {\"colorbar\": {\"outlinewidth\": 0, \"ticks\": \"\"}}, \"type\": \"parcoords\"}], \"pie\": [{\"automargin\": true, \"type\": \"pie\"}], \"scatter\": [{\"marker\": {\"colorbar\": {\"outlinewidth\": 0, \"ticks\": \"\"}}, \"type\": \"scatter\"}], \"scatter3d\": [{\"line\": {\"colorbar\": {\"outlinewidth\": 0, \"ticks\": \"\"}}, \"marker\": {\"colorbar\": {\"outlinewidth\": 0, \"ticks\": \"\"}}, \"type\": \"scatter3d\"}], \"scattercarpet\": [{\"marker\": {\"colorbar\": {\"outlinewidth\": 0, \"ticks\": \"\"}}, \"type\": \"scattercarpet\"}], \"scattergeo\": [{\"marker\": {\"colorbar\": {\"outlinewidth\": 0, \"ticks\": \"\"}}, \"type\": \"scattergeo\"}], \"scattergl\": [{\"marker\": {\"colorbar\": {\"outlinewidth\": 0, \"ticks\": \"\"}}, \"type\": \"scattergl\"}], \"scattermapbox\": [{\"marker\": {\"colorbar\": {\"outlinewidth\": 0, \"ticks\": \"\"}}, \"type\": \"scattermapbox\"}], \"scatterpolar\": [{\"marker\": {\"colorbar\": {\"outlinewidth\": 0, \"ticks\": \"\"}}, \"type\": \"scatterpolar\"}], \"scatterpolargl\": [{\"marker\": {\"colorbar\": {\"outlinewidth\": 0, \"ticks\": \"\"}}, \"type\": \"scatterpolargl\"}], \"scatterternary\": [{\"marker\": {\"colorbar\": {\"outlinewidth\": 0, \"ticks\": \"\"}}, \"type\": \"scatterternary\"}], \"surface\": [{\"colorbar\": {\"outlinewidth\": 0, \"ticks\": \"\"}, \"colorscale\": [[0.0, \"#0d0887\"], [0.1111111111111111, \"#46039f\"], [0.2222222222222222, \"#7201a8\"], [0.3333333333333333, \"#9c179e\"], [0.4444444444444444, \"#bd3786\"], [0.5555555555555556, \"#d8576b\"], [0.6666666666666666, \"#ed7953\"], [0.7777777777777778, \"#fb9f3a\"], [0.8888888888888888, \"#fdca26\"], [1.0, \"#f0f921\"]], \"type\": \"surface\"}], \"table\": [{\"cells\": {\"fill\": {\"color\": \"#EBF0F8\"}, \"line\": {\"color\": \"white\"}}, \"header\": {\"fill\": {\"color\": \"#C8D4E3\"}, \"line\": {\"color\": \"white\"}}, \"type\": \"table\"}]}, \"layout\": {\"annotationdefaults\": {\"arrowcolor\": \"#2a3f5f\", \"arrowhead\": 0, \"arrowwidth\": 1}, \"coloraxis\": {\"colorbar\": {\"outlinewidth\": 0, \"ticks\": \"\"}}, \"colorscale\": {\"diverging\": [[0, \"#8e0152\"], [0.1, \"#c51b7d\"], [0.2, \"#de77ae\"], [0.3, \"#f1b6da\"], [0.4, \"#fde0ef\"], [0.5, \"#f7f7f7\"], [0.6, \"#e6f5d0\"], [0.7, \"#b8e186\"], [0.8, \"#7fbc41\"], [0.9, \"#4d9221\"], [1, \"#276419\"]], \"sequential\": [[0.0, \"#0d0887\"], [0.1111111111111111, \"#46039f\"], [0.2222222222222222, \"#7201a8\"], [0.3333333333333333, \"#9c179e\"], [0.4444444444444444, \"#bd3786\"], [0.5555555555555556, \"#d8576b\"], [0.6666666666666666, \"#ed7953\"], [0.7777777777777778, \"#fb9f3a\"], [0.8888888888888888, \"#fdca26\"], [1.0, \"#f0f921\"]], \"sequentialminus\": [[0.0, \"#0d0887\"], [0.1111111111111111, \"#46039f\"], [0.2222222222222222, \"#7201a8\"], [0.3333333333333333, \"#9c179e\"], [0.4444444444444444, \"#bd3786\"], [0.5555555555555556, \"#d8576b\"], [0.6666666666666666, \"#ed7953\"], [0.7777777777777778, \"#fb9f3a\"], [0.8888888888888888, \"#fdca26\"], [1.0, \"#f0f921\"]]}, \"colorway\": [\"#636efa\", \"#EF553B\", \"#00cc96\", \"#ab63fa\", \"#FFA15A\", \"#19d3f3\", \"#FF6692\", \"#B6E880\", \"#FF97FF\", \"#FECB52\"], \"font\": {\"color\": \"#2a3f5f\"}, \"geo\": {\"bgcolor\": \"white\", \"lakecolor\": \"white\", \"landcolor\": \"#E5ECF6\", \"showlakes\": true, \"showland\": true, \"subunitcolor\": \"white\"}, \"hoverlabel\": {\"align\": \"left\"}, \"hovermode\": \"closest\", \"mapbox\": {\"style\": \"light\"}, \"paper_bgcolor\": \"white\", \"plot_bgcolor\": \"#E5ECF6\", \"polar\": {\"angularaxis\": {\"gridcolor\": \"white\", \"linecolor\": \"white\", \"ticks\": \"\"}, \"bgcolor\": \"#E5ECF6\", \"radialaxis\": {\"gridcolor\": \"white\", \"linecolor\": \"white\", \"ticks\": \"\"}}, \"scene\": {\"xaxis\": {\"backgroundcolor\": \"#E5ECF6\", \"gridcolor\": \"white\", \"gridwidth\": 2, \"linecolor\": \"white\", \"showbackground\": true, \"ticks\": \"\", \"zerolinecolor\": \"white\"}, \"yaxis\": {\"backgroundcolor\": \"#E5ECF6\", \"gridcolor\": \"white\", \"gridwidth\": 2, \"linecolor\": \"white\", \"showbackground\": true, \"ticks\": \"\", \"zerolinecolor\": \"white\"}, \"zaxis\": {\"backgroundcolor\": \"#E5ECF6\", \"gridcolor\": \"white\", \"gridwidth\": 2, \"linecolor\": \"white\", \"showbackground\": true, \"ticks\": \"\", \"zerolinecolor\": \"white\"}}, \"shapedefaults\": {\"line\": {\"color\": \"#2a3f5f\"}}, \"ternary\": {\"aaxis\": {\"gridcolor\": \"white\", \"linecolor\": \"white\", \"ticks\": \"\"}, \"baxis\": {\"gridcolor\": \"white\", \"linecolor\": \"white\", \"ticks\": \"\"}, \"bgcolor\": \"#E5ECF6\", \"caxis\": {\"gridcolor\": \"white\", \"linecolor\": \"white\", \"ticks\": \"\"}}, \"title\": {\"x\": 0.05}, \"xaxis\": {\"automargin\": true, \"gridcolor\": \"white\", \"linecolor\": \"white\", \"ticks\": \"\", \"title\": {\"standoff\": 15}, \"zerolinecolor\": \"white\", \"zerolinewidth\": 2}, \"yaxis\": {\"automargin\": true, \"gridcolor\": \"white\", \"linecolor\": \"white\", \"ticks\": \"\", \"title\": {\"standoff\": 15}, \"zerolinecolor\": \"white\", \"zerolinewidth\": 2}}}, \"xaxis\": {\"anchor\": \"y\", \"domain\": [0.0, 0.45], \"title\": {\"text\": \"Epoch\"}}, \"xaxis2\": {\"anchor\": \"y2\", \"domain\": [0.55, 1.0], \"title\": {\"text\": \"Epoch\"}}, \"yaxis\": {\"anchor\": \"x\", \"domain\": [0.0, 1.0], \"range\": [0, 1], \"title\": {\"text\": \"Accuracy\"}}, \"yaxis2\": {\"anchor\": \"x2\", \"domain\": [0.0, 1.0], \"range\": [0, 1], \"title\": {\"text\": \"Loss\"}}},\n",
       "                        {\"responsive\": true}\n",
       "                    ).then(function(){\n",
       "                            \n",
       "var gd = document.getElementById('b5c88a17-36b1-411c-9b08-60685d4e3e9c');\n",
       "var x = new MutationObserver(function (mutations, observer) {{\n",
       "        var display = window.getComputedStyle(gd).display;\n",
       "        if (!display || display === 'none') {{\n",
       "            console.log([gd, 'removed!']);\n",
       "            Plotly.purge(gd);\n",
       "            observer.disconnect();\n",
       "        }}\n",
       "}});\n",
       "\n",
       "// Listen for the removal of the full notebook cells\n",
       "var notebookContainer = gd.closest('#notebook-container');\n",
       "if (notebookContainer) {{\n",
       "    x.observe(notebookContainer, {childList: true});\n",
       "}}\n",
       "\n",
       "// Listen for the clearing of the current output cell\n",
       "var outputEl = gd.closest('.output');\n",
       "if (outputEl) {{\n",
       "    x.observe(outputEl, {childList: true});\n",
       "}}\n",
       "\n",
       "                        })\n",
       "                };\n",
       "                });\n",
       "            </script>\n",
       "        </div>"
      ]
     },
     "metadata": {},
     "output_type": "display_data"
    }
   ],
   "source": [
    "def create_trace(x,y,ylabel,color):\n",
    "        trace = go.Scatter(\n",
    "            x = x,y = y,\n",
    "            name=ylabel,\n",
    "            marker=dict(color=color),\n",
    "            mode = \"markers+lines\",\n",
    "            text=x\n",
    "        )\n",
    "        return trace\n",
    "    \n",
    "def plot_accuracy_and_loss(train_model):\n",
    "    hist = train_model.history\n",
    "    acc = hist['accuracy']\n",
    "    val_acc = hist['val_accuracy']\n",
    "    loss = hist['loss']\n",
    "    val_loss = hist['val_loss']\n",
    "    epochs = list(range(1,len(acc)+1))\n",
    "    #define the traces\n",
    "    trace_ta = create_trace(epochs,acc,\"Training accuracy\", \"Green\")\n",
    "    trace_va = create_trace(epochs,val_acc,\"Validation accuracy\", \"Red\")\n",
    "    trace_tl = create_trace(epochs,loss,\"Training loss\", \"Blue\")\n",
    "    trace_vl = create_trace(epochs,val_loss,\"Validation loss\", \"Magenta\")\n",
    "    fig = tools.make_subplots(rows=1,cols=2, subplot_titles=('Training and validation accuracy',\n",
    "                                                             'Training and validation loss'))\n",
    "    #add traces to the figure\n",
    "    fig.append_trace(trace_ta,1,1)\n",
    "    fig.append_trace(trace_va,1,1)\n",
    "    fig.append_trace(trace_tl,1,2)\n",
    "    fig.append_trace(trace_vl,1,2)\n",
    "    #set the layout for the figure\n",
    "    fig['layout']['xaxis'].update(title = 'Epoch')\n",
    "    fig['layout']['xaxis2'].update(title = 'Epoch')\n",
    "    fig['layout']['yaxis'].update(title = 'Accuracy', range=[0,1])\n",
    "    fig['layout']['yaxis2'].update(title = 'Loss', range=[0,1])\n",
    "    #plot\n",
    "    iplot(fig, filename='accuracy-loss')\n",
    "\n",
    "plot_accuracy_and_loss(train_model)"
   ]
  },
  {
   "cell_type": "markdown",
   "execution_count": null,
   "metadata": {
    "papermill": {
     "duration": 0.111548,
     "end_time": "2020-08-18T08:45:27.057411",
     "exception": false,
     "start_time": "2020-08-18T08:45:26.945863",
     "status": "completed"
    },
    "tags": []
   },
   "source": [
    "<a href=\"#0\"><font size=\"1\">Go to top</font></a>  \n",
    "\n",
    "\n",
    "## <a id='43'>Prediction of test set</a> "
   ]
  },
  {
   "cell_type": "markdown",
   "execution_count": null,
   "metadata": {
    "_uuid": "a77c0127288f090233e70831e6b909c1618efa35",
    "papermill": {
     "duration": 0.11183,
     "end_time": "2020-08-18T08:45:27.280996",
     "exception": false,
     "start_time": "2020-08-18T08:45:27.169166",
     "status": "completed"
    },
    "tags": []
   },
   "source": [
    "\n",
    "Let's continue by evaluating the **test** set **loss** and **accuracy**. We will use here the test set."
   ]
  },
  {
   "cell_type": "markdown",
   "execution_count": null,
   "metadata": {
    "papermill": {
     "duration": 0.125811,
     "end_time": "2020-08-18T08:45:27.515309",
     "exception": false,
     "start_time": "2020-08-18T08:45:27.389498",
     "status": "completed"
    },
    "tags": []
   },
   "source": [
    "### Predict using last epoch model"
   ]
  },
  {
   "cell_type": "code",
   "execution_count": 27,
   "metadata": {
    "_kg_hide-input": true,
    "_uuid": "1f54e33fcba0e3054d364f35a22f69ef350e8e0d",
    "execution": {
     "iopub.execute_input": "2020-08-18T08:45:27.889157Z",
     "iopub.status.busy": "2020-08-18T08:45:27.888271Z",
     "iopub.status.idle": "2020-08-18T08:45:28.432472Z",
     "shell.execute_reply": "2020-08-18T08:45:28.433114Z"
    },
    "papermill": {
     "duration": 0.717212,
     "end_time": "2020-08-18T08:45:28.433280",
     "exception": false,
     "start_time": "2020-08-18T08:45:27.716068",
     "status": "completed"
    },
    "tags": []
   },
   "outputs": [
    {
     "name": "stdout",
     "output_type": "stream",
     "text": [
      "Test loss: 0.1539519876241684\n",
      "Test accuracy: 0.971666693687439\n"
     ]
    }
   ],
   "source": [
    "score = model.evaluate(X_test, y_test, verbose=0)\n",
    "print('Test loss:', score[0])\n",
    "print('Test accuracy:', score[1])"
   ]
  },
  {
   "cell_type": "markdown",
   "execution_count": null,
   "metadata": {
    "_uuid": "46cd7e86e92ac2ec484f0c38c451465cc16a2736",
    "papermill": {
     "duration": 0.109541,
     "end_time": "2020-08-18T08:45:28.660798",
     "exception": false,
     "start_time": "2020-08-18T08:45:28.551257",
     "status": "completed"
    },
    "tags": []
   },
   "source": [
    "Let's check also the test accuracy per class."
   ]
  },
  {
   "cell_type": "code",
   "execution_count": 28,
   "metadata": {
    "_kg_hide-input": true,
    "_uuid": "55e96cfdaf488df5bc3d5511fa062563926227ad",
    "execution": {
     "iopub.execute_input": "2020-08-18T08:45:28.896859Z",
     "iopub.status.busy": "2020-08-18T08:45:28.896129Z",
     "iopub.status.idle": "2020-08-18T08:45:28.900934Z",
     "shell.execute_reply": "2020-08-18T08:45:28.900383Z"
    },
    "papermill": {
     "duration": 0.129003,
     "end_time": "2020-08-18T08:45:28.901059",
     "exception": false,
     "start_time": "2020-08-18T08:45:28.772056",
     "status": "completed"
    },
    "tags": []
   },
   "outputs": [],
   "source": [
    "def test_accuracy_report(model):\n",
    "    predicted = model.predict(X_test)\n",
    "    test_predicted = np.argmax(predicted, axis=1)\n",
    "    test_truth = np.argmax(y_test.values, axis=1)\n",
    "    print(metrics.classification_report(test_truth, test_predicted, target_names=y_test.columns)) \n",
    "    test_res = model.evaluate(X_test, y_test.values, verbose=0)\n",
    "    print('Loss function: %s, accuracy:' % test_res[0], test_res[1])"
   ]
  },
  {
   "cell_type": "code",
   "execution_count": 29,
   "metadata": {
    "_kg_hide-input": true,
    "_uuid": "68c06c36ae2f89e070c878bf5f660e765d23878b",
    "execution": {
     "iopub.execute_input": "2020-08-18T08:45:29.166092Z",
     "iopub.status.busy": "2020-08-18T08:45:29.164949Z",
     "iopub.status.idle": "2020-08-18T08:45:29.919626Z",
     "shell.execute_reply": "2020-08-18T08:45:29.919042Z"
    },
    "papermill": {
     "duration": 0.870236,
     "end_time": "2020-08-18T08:45:29.919751",
     "exception": false,
     "start_time": "2020-08-18T08:45:29.049515",
     "status": "completed"
    },
    "tags": []
   },
   "outputs": [
    {
     "name": "stdout",
     "output_type": "stream",
     "text": [
      "              precision    recall  f1-score   support\n",
      "\n",
      "           一       0.98      0.98      0.98       200\n",
      "           七       0.99      0.96      0.98       200\n",
      "           万       0.95      0.98      0.97       200\n",
      "           三       0.96      0.98      0.97       200\n",
      "           九       0.95      0.93      0.94       200\n",
      "           二       0.96      0.95      0.96       200\n",
      "           五       0.99      0.99      0.99       200\n",
      "           亿       0.90      0.99      0.95       200\n",
      "           八       1.00      0.99      0.99       200\n",
      "           六       0.99      0.99      0.99       200\n",
      "           十       0.96      0.95      0.95       200\n",
      "           千       0.96      0.96      0.96       200\n",
      "           四       0.99      0.99      0.99       200\n",
      "           百       0.99      0.91      0.95       200\n",
      "           零       0.99      0.99      0.99       200\n",
      "\n",
      "    accuracy                           0.97      3000\n",
      "   macro avg       0.97      0.97      0.97      3000\n",
      "weighted avg       0.97      0.97      0.97      3000\n",
      "\n",
      "Loss function: 0.1539519876241684, accuracy: 0.971666693687439\n"
     ]
    }
   ],
   "source": [
    "test_accuracy_report(model)"
   ]
  },
  {
   "cell_type": "markdown",
   "execution_count": null,
   "metadata": {
    "papermill": {
     "duration": 0.110402,
     "end_time": "2020-08-18T08:45:30.146467",
     "exception": false,
     "start_time": "2020-08-18T08:45:30.036065",
     "status": "completed"
    },
    "tags": []
   },
   "source": [
    "### Predict using best model"
   ]
  },
  {
   "cell_type": "code",
   "execution_count": 30,
   "metadata": {
    "execution": {
     "iopub.execute_input": "2020-08-18T08:45:30.379679Z",
     "iopub.status.busy": "2020-08-18T08:45:30.378634Z",
     "iopub.status.idle": "2020-08-18T08:45:31.274315Z",
     "shell.execute_reply": "2020-08-18T08:45:31.273712Z"
    },
    "papermill": {
     "duration": 1.018831,
     "end_time": "2020-08-18T08:45:31.274441",
     "exception": false,
     "start_time": "2020-08-18T08:45:30.255610",
     "status": "completed"
    },
    "tags": []
   },
   "outputs": [
    {
     "name": "stdout",
     "output_type": "stream",
     "text": [
      "Best validation loss: 0.1394200474023819, accuracy: 0.9723333120346069\n",
      "              precision    recall  f1-score   support\n",
      "\n",
      "           一       0.98      0.97      0.98       200\n",
      "           七       0.99      0.97      0.98       200\n",
      "           万       0.97      0.97      0.97       200\n",
      "           三       0.94      0.99      0.97       200\n",
      "           九       0.96      0.94      0.95       200\n",
      "           二       0.97      0.94      0.96       200\n",
      "           五       0.99      0.99      0.99       200\n",
      "           亿       0.93      0.99      0.96       200\n",
      "           八       1.00      0.99      0.99       200\n",
      "           六       0.98      0.98      0.98       200\n",
      "           十       0.97      0.94      0.96       200\n",
      "           千       0.96      0.98      0.97       200\n",
      "           四       0.98      0.98      0.98       200\n",
      "           百       0.98      0.92      0.95       200\n",
      "           零       0.99      1.00      0.99       200\n",
      "\n",
      "    accuracy                           0.97      3000\n",
      "   macro avg       0.97      0.97      0.97      3000\n",
      "weighted avg       0.97      0.97      0.97      3000\n",
      "\n",
      "Loss function: 0.1394200474023819, accuracy: 0.9723333120346069\n"
     ]
    }
   ],
   "source": [
    "model_optimal = model\n",
    "model_optimal.load_weights('best_model.h5')\n",
    "score = model_optimal.evaluate(X_test, y_test, verbose=0)\n",
    "print(f'Best validation loss: {score[0]}, accuracy: {score[1]}')\n",
    "\n",
    "test_accuracy_report(model_optimal)"
   ]
  },
  {
   "cell_type": "markdown",
   "execution_count": null,
   "metadata": {
    "papermill": {
     "duration": 0.123652,
     "end_time": "2020-08-18T08:45:31.509090",
     "exception": false,
     "start_time": "2020-08-18T08:45:31.385438",
     "status": "completed"
    },
    "tags": []
   },
   "source": [
    "# <a id='5'>Conclusions</a>  \n",
    " \n",
    " \n",
    "Training uses 64% of the total data (9,600 / 15,000 images), validation 16% of the total images (2,400 / 15,000) and test 3,000 images (20% of the total number of images).\n",
    "\n",
    "Tensorflow/Keras with GPU, with 2 set of Convolutional layers, MaxPool and Dropout, using as well a variable learning rate, periodic saving best model and early stopping and then using best model for testing, resulted in 97% accuracy for testing set.\n"
   ]
  }
 ],
 "metadata": {
  "kernelspec": {
   "display_name": "Python 3",
   "language": "python",
   "name": "python3"
  },
  "language_info": {
   "codemirror_mode": {
    "name": "ipython",
    "version": 3
   },
   "file_extension": ".py",
   "mimetype": "text/x-python",
   "name": "python",
   "nbconvert_exporter": "python",
   "pygments_lexer": "ipython3",
   "version": "3.7.6"
  },
  "papermill": {
   "duration": 212.04442,
   "end_time": "2020-08-18T08:45:33.296874",
   "environment_variables": {},
   "exception": null,
   "input_path": "__notebook__.ipynb",
   "output_path": "__notebook__.ipynb",
   "parameters": {},
   "start_time": "2020-08-18T08:42:01.252454",
   "version": "2.1.0"
  }
 },
 "nbformat": 4,
 "nbformat_minor": 4
}
