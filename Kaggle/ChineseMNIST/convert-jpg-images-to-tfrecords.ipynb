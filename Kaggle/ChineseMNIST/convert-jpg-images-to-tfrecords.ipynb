{
 "cells": [
  {
   "cell_type": "markdown",
   "metadata": {
    "papermill": {
     "duration": 0.009203,
     "end_time": "2021-03-20T11:52:47.726069",
     "exception": false,
     "start_time": "2021-03-20T11:52:47.716866",
     "status": "completed"
    },
    "tags": []
   },
   "source": [
    "# Introduction\n",
    "\n",
    "Utility to generate TFRecords from jpg images"
   ]
  },
  {
   "cell_type": "markdown",
   "metadata": {
    "papermill": {
     "duration": 0.007417,
     "end_time": "2021-03-20T11:52:47.741735",
     "exception": false,
     "start_time": "2021-03-20T11:52:47.734318",
     "status": "completed"
    },
    "tags": []
   },
   "source": [
    "# Load packages"
   ]
  },
  {
   "cell_type": "code",
   "execution_count": 1,
   "metadata": {
    "_cell_guid": "b1076dfc-b9ad-4769-8c92-a6c4dae69d19",
    "_uuid": "8f2839f25d086af736a60e9eeb907d3b93b6e0e5",
    "execution": {
     "iopub.execute_input": "2021-03-20T11:52:47.764207Z",
     "iopub.status.busy": "2021-03-20T11:52:47.763553Z",
     "iopub.status.idle": "2021-03-20T11:52:54.615900Z",
     "shell.execute_reply": "2021-03-20T11:52:54.614539Z"
    },
    "papermill": {
     "duration": 6.866162,
     "end_time": "2021-03-20T11:52:54.616130",
     "exception": false,
     "start_time": "2021-03-20T11:52:47.749968",
     "status": "completed"
    },
    "tags": []
   },
   "outputs": [],
   "source": [
    "import numpy as np\n",
    "import pandas as pd\n",
    "import os\n",
    "from tqdm import tqdm\n",
    "import tensorflow.compat.v1 as tf\n",
    "import skimage\n",
    "import skimage.io"
   ]
  },
  {
   "cell_type": "markdown",
   "metadata": {
    "papermill": {
     "duration": 0.007775,
     "end_time": "2021-03-20T11:52:54.632460",
     "exception": false,
     "start_time": "2021-03-20T11:52:54.624685",
     "status": "completed"
    },
    "tags": []
   },
   "source": [
    "# Images to TFRecords\n",
    "\n",
    "## Conversion functions"
   ]
  },
  {
   "cell_type": "code",
   "execution_count": 2,
   "metadata": {
    "execution": {
     "iopub.execute_input": "2021-03-20T11:52:54.660651Z",
     "iopub.status.busy": "2021-03-20T11:52:54.659599Z",
     "iopub.status.idle": "2021-03-20T11:52:54.662138Z",
     "shell.execute_reply": "2021-03-20T11:52:54.662696Z"
    },
    "papermill": {
     "duration": 0.022332,
     "end_time": "2021-03-20T11:52:54.662866",
     "exception": false,
     "start_time": "2021-03-20T11:52:54.640534",
     "status": "completed"
    },
    "tags": []
   },
   "outputs": [],
   "source": [
    "# Source: https://stackoverflow.com/questions/33849617/how-do-i-convert-a-directory-of-jpeg-images-to-tfrecords-file-in-tensorflow\n",
    "# Note: modified from source\n",
    "def _int64_feature(value):\n",
    "    return tf.train.Feature(int64_list=tf.train.Int64List(value=[value]))\n",
    "\n",
    "\n",
    "def _bytes_feature(value):\n",
    "    return tf.train.Feature(bytes_list=tf.train.BytesList(value=[value]))\n",
    "\n",
    "# images and labels array as input\n",
    "def convert_to(images, labels, output_directory, name):\n",
    "    num_examples = labels.shape[0]\n",
    "    if images.shape[0] != num_examples:\n",
    "        raise ValueError(\"Images size %d does not match label size %d.\" %\n",
    "                         (images.shape[0], num_examples))\n",
    "    rows = images.shape[1]\n",
    "    cols = images.shape[2]\n",
    "    depth = 1\n",
    "\n",
    "    filename = os.path.join(output_directory, name + '.tfrecords')\n",
    "    print('Writing', filename)\n",
    "    writer = tf.python_io.TFRecordWriter(filename)\n",
    "    for index in range(num_examples):\n",
    "        image_raw = images[index].tobytes()\n",
    "        example = tf.train.Example(features=tf.train.Features(feature={\n",
    "            'height': _int64_feature(rows),\n",
    "            'width': _int64_feature(cols),\n",
    "            'depth': _int64_feature(depth),\n",
    "            'label': _int64_feature(int(labels[index])),\n",
    "            'image_raw': _bytes_feature(image_raw)}))\n",
    "        writer.write(example.SerializeToString())"
   ]
  },
  {
   "cell_type": "markdown",
   "metadata": {
    "papermill": {
     "duration": 0.008384,
     "end_time": "2021-03-20T11:52:54.679694",
     "exception": false,
     "start_time": "2021-03-20T11:52:54.671310",
     "status": "completed"
    },
    "tags": []
   },
   "source": [
    "## Read images"
   ]
  },
  {
   "cell_type": "code",
   "execution_count": 3,
   "metadata": {
    "execution": {
     "iopub.execute_input": "2021-03-20T11:52:54.699361Z",
     "iopub.status.busy": "2021-03-20T11:52:54.698410Z",
     "iopub.status.idle": "2021-03-20T11:52:54.703097Z",
     "shell.execute_reply": "2021-03-20T11:52:54.703678Z"
    },
    "papermill": {
     "duration": 0.016191,
     "end_time": "2021-03-20T11:52:54.703849",
     "exception": false,
     "start_time": "2021-03-20T11:52:54.687658",
     "status": "completed"
    },
    "tags": []
   },
   "outputs": [],
   "source": [
    "def read_image(file_name, images_path):\n",
    "    image = skimage.io.imread(images_path + file_name)\n",
    "    return image"
   ]
  },
  {
   "cell_type": "markdown",
   "metadata": {
    "papermill": {
     "duration": 0.00765,
     "end_time": "2021-03-20T11:52:54.720186",
     "exception": false,
     "start_time": "2021-03-20T11:52:54.712536",
     "status": "completed"
    },
    "tags": []
   },
   "source": [
    "## Generate labels"
   ]
  },
  {
   "cell_type": "code",
   "execution_count": 4,
   "metadata": {
    "execution": {
     "iopub.execute_input": "2021-03-20T11:52:54.740511Z",
     "iopub.status.busy": "2021-03-20T11:52:54.739554Z",
     "iopub.status.idle": "2021-03-20T11:52:54.744816Z",
     "shell.execute_reply": "2021-03-20T11:52:54.745381Z"
    },
    "papermill": {
     "duration": 0.01709,
     "end_time": "2021-03-20T11:52:54.745567",
     "exception": false,
     "start_time": "2021-03-20T11:52:54.728477",
     "status": "completed"
    },
    "tags": []
   },
   "outputs": [],
   "source": [
    "def extract_image_index_make_label(img_name):\n",
    "    remove_ext = img_name.split(\".\")[0]\n",
    "    name, serie, repetition, char = remove_ext.split(\"_\")\n",
    "    label = int(char) + 1000 * int(repetition) + 1000_000 * int(serie)\n",
    "    return label"
   ]
  },
  {
   "cell_type": "markdown",
   "metadata": {
    "papermill": {
     "duration": 0.007845,
     "end_time": "2021-03-20T11:52:54.761594",
     "exception": false,
     "start_time": "2021-03-20T11:52:54.753749",
     "status": "completed"
    },
    "tags": []
   },
   "source": [
    "## Read and annotate all images"
   ]
  },
  {
   "cell_type": "code",
   "execution_count": 5,
   "metadata": {
    "execution": {
     "iopub.execute_input": "2021-03-20T11:52:54.781596Z",
     "iopub.status.busy": "2021-03-20T11:52:54.780671Z",
     "iopub.status.idle": "2021-03-20T11:55:02.863491Z",
     "shell.execute_reply": "2021-03-20T11:55:02.862196Z"
    },
    "papermill": {
     "duration": 128.093961,
     "end_time": "2021-03-20T11:55:02.863704",
     "exception": false,
     "start_time": "2021-03-20T11:52:54.769743",
     "status": "completed"
    },
    "tags": []
   },
   "outputs": [
    {
     "name": "stderr",
     "output_type": "stream",
     "text": [
      "100%|██████████| 15000/15000 [02:07<00:00, 118.06it/s]"
     ]
    },
    {
     "name": "stdout",
     "output_type": "stream",
     "text": [
      "(15000, 64, 64) (15000,)\n"
     ]
    },
    {
     "name": "stderr",
     "output_type": "stream",
     "text": [
      "\n"
     ]
    }
   ],
   "source": [
    "images_path = \"/kaggle/input/chinese-mnist/data/data/\"\n",
    "image_list = os.listdir(images_path)\n",
    "images = []\n",
    "labels = []\n",
    "for img_name in tqdm(image_list):\n",
    "    images.append(read_image(img_name, images_path))\n",
    "    labels.append(extract_image_index_make_label(img_name))\n",
    "images_array = np.array(images)\n",
    "labels = np.array(labels)\n",
    "print(images_array.shape, labels.shape)"
   ]
  },
  {
   "cell_type": "markdown",
   "metadata": {
    "papermill": {
     "duration": 0.363153,
     "end_time": "2021-03-20T11:55:03.594083",
     "exception": false,
     "start_time": "2021-03-20T11:55:03.230930",
     "status": "completed"
    },
    "tags": []
   },
   "source": [
    "## Convert all images to TFRecords"
   ]
  },
  {
   "cell_type": "code",
   "execution_count": 6,
   "metadata": {
    "execution": {
     "iopub.execute_input": "2021-03-20T11:55:04.345642Z",
     "iopub.status.busy": "2021-03-20T11:55:04.344998Z",
     "iopub.status.idle": "2021-03-20T11:55:05.363612Z",
     "shell.execute_reply": "2021-03-20T11:55:05.362891Z"
    },
    "papermill": {
     "duration": 1.409914,
     "end_time": "2021-03-20T11:55:05.363774",
     "exception": false,
     "start_time": "2021-03-20T11:55:03.953860",
     "status": "completed"
    },
    "tags": []
   },
   "outputs": [
    {
     "name": "stdout",
     "output_type": "stream",
     "text": [
      "Writing ./chinese_mnist.tfrecords\n"
     ]
    }
   ],
   "source": [
    "convert_to(images_array, labels, \".\", \"chinese_mnist\")"
   ]
  }
 ],
 "metadata": {
  "kernelspec": {
   "display_name": "Python 3",
   "language": "python",
   "name": "python3"
  },
  "language_info": {
   "codemirror_mode": {
    "name": "ipython",
    "version": 3
   },
   "file_extension": ".py",
   "mimetype": "text/x-python",
   "name": "python",
   "nbconvert_exporter": "python",
   "pygments_lexer": "ipython3",
   "version": "3.7.9"
  },
  "papermill": {
   "default_parameters": {},
   "duration": 144.832722,
   "end_time": "2021-03-20T11:55:06.734139",
   "environment_variables": {},
   "exception": null,
   "input_path": "__notebook__.ipynb",
   "output_path": "__notebook__.ipynb",
   "parameters": {},
   "start_time": "2021-03-20T11:52:41.901417",
   "version": "2.2.2"
  }
 },
 "nbformat": 4,
 "nbformat_minor": 4
}
